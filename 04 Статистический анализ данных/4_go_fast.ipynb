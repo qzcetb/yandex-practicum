{
 "cells": [
  {
   "cell_type": "markdown",
   "id": "a1aa1b74",
   "metadata": {},
   "source": [
    "# Анализ сервиса самокатов GoFast"
   ]
  },
  {
   "cell_type": "markdown",
   "id": "c42cbe00",
   "metadata": {},
   "source": [
    "#### Шаг 1. Загрузка данных"
   ]
  },
  {
   "cell_type": "markdown",
   "id": "26d55a22",
   "metadata": {},
   "source": [
    "##### Считайте CSV-файлы с данными с помощью библиотеки pandas и сохраните их в датафреймы. Пути к файлам:\n",
    "- /datasets/users_go.csv\n",
    "- /datasets/rides_go.csv\n",
    "- /datasets/subscriptions_go.csv\n",
    "\n",
    "Выведите первые строки каждого набора данных. Изучите общую информацию о каждом датафрейме."
   ]
  },
  {
   "cell_type": "markdown",
   "id": "b92f6e83",
   "metadata": {},
   "source": [
    "Загрузим users_go.csv и изучим данные"
   ]
  },
  {
   "cell_type": "code",
   "execution_count": 1,
   "id": "72576667",
   "metadata": {},
   "outputs": [],
   "source": [
    "import pandas as pd\n",
    "import matplotlib.pyplot as plt\n",
    "import numpy as np\n",
    "from scipy import stats as st\n",
    "from math import sqrt"
   ]
  },
  {
   "cell_type": "code",
   "execution_count": 2,
   "id": "60ff79a5",
   "metadata": {},
   "outputs": [],
   "source": [
    "data_users = pd.read_csv('/datasets/users_go.csv')"
   ]
  },
  {
   "cell_type": "code",
   "execution_count": 3,
   "id": "58551ed5",
   "metadata": {},
   "outputs": [
    {
     "data": {
      "text/html": [
       "<div>\n",
       "<style scoped>\n",
       "    .dataframe tbody tr th:only-of-type {\n",
       "        vertical-align: middle;\n",
       "    }\n",
       "\n",
       "    .dataframe tbody tr th {\n",
       "        vertical-align: top;\n",
       "    }\n",
       "\n",
       "    .dataframe thead th {\n",
       "        text-align: right;\n",
       "    }\n",
       "</style>\n",
       "<table border=\"1\" class=\"dataframe\">\n",
       "  <thead>\n",
       "    <tr style=\"text-align: right;\">\n",
       "      <th></th>\n",
       "      <th>user_id</th>\n",
       "      <th>name</th>\n",
       "      <th>age</th>\n",
       "      <th>city</th>\n",
       "      <th>subscription_type</th>\n",
       "    </tr>\n",
       "  </thead>\n",
       "  <tbody>\n",
       "    <tr>\n",
       "      <th>0</th>\n",
       "      <td>1</td>\n",
       "      <td>Кира</td>\n",
       "      <td>22</td>\n",
       "      <td>Тюмень</td>\n",
       "      <td>ultra</td>\n",
       "    </tr>\n",
       "    <tr>\n",
       "      <th>1</th>\n",
       "      <td>2</td>\n",
       "      <td>Станислав</td>\n",
       "      <td>31</td>\n",
       "      <td>Омск</td>\n",
       "      <td>ultra</td>\n",
       "    </tr>\n",
       "    <tr>\n",
       "      <th>2</th>\n",
       "      <td>3</td>\n",
       "      <td>Алексей</td>\n",
       "      <td>20</td>\n",
       "      <td>Москва</td>\n",
       "      <td>ultra</td>\n",
       "    </tr>\n",
       "    <tr>\n",
       "      <th>3</th>\n",
       "      <td>4</td>\n",
       "      <td>Константин</td>\n",
       "      <td>26</td>\n",
       "      <td>Ростов-на-Дону</td>\n",
       "      <td>ultra</td>\n",
       "    </tr>\n",
       "    <tr>\n",
       "      <th>4</th>\n",
       "      <td>5</td>\n",
       "      <td>Адель</td>\n",
       "      <td>28</td>\n",
       "      <td>Омск</td>\n",
       "      <td>ultra</td>\n",
       "    </tr>\n",
       "    <tr>\n",
       "      <th>5</th>\n",
       "      <td>6</td>\n",
       "      <td>Регина</td>\n",
       "      <td>25</td>\n",
       "      <td>Краснодар</td>\n",
       "      <td>ultra</td>\n",
       "    </tr>\n",
       "    <tr>\n",
       "      <th>6</th>\n",
       "      <td>7</td>\n",
       "      <td>Игорь</td>\n",
       "      <td>23</td>\n",
       "      <td>Омск</td>\n",
       "      <td>ultra</td>\n",
       "    </tr>\n",
       "    <tr>\n",
       "      <th>7</th>\n",
       "      <td>8</td>\n",
       "      <td>Юрий</td>\n",
       "      <td>23</td>\n",
       "      <td>Краснодар</td>\n",
       "      <td>ultra</td>\n",
       "    </tr>\n",
       "    <tr>\n",
       "      <th>8</th>\n",
       "      <td>9</td>\n",
       "      <td>Ян</td>\n",
       "      <td>21</td>\n",
       "      <td>Пятигорск</td>\n",
       "      <td>ultra</td>\n",
       "    </tr>\n",
       "    <tr>\n",
       "      <th>9</th>\n",
       "      <td>10</td>\n",
       "      <td>Валерий</td>\n",
       "      <td>18</td>\n",
       "      <td>Екатеринбург</td>\n",
       "      <td>ultra</td>\n",
       "    </tr>\n",
       "  </tbody>\n",
       "</table>\n",
       "</div>"
      ],
      "text/plain": [
       "   user_id        name  age            city subscription_type\n",
       "0        1        Кира   22          Тюмень             ultra\n",
       "1        2   Станислав   31            Омск             ultra\n",
       "2        3     Алексей   20          Москва             ultra\n",
       "3        4  Константин   26  Ростов-на-Дону             ultra\n",
       "4        5       Адель   28            Омск             ultra\n",
       "5        6      Регина   25       Краснодар             ultra\n",
       "6        7       Игорь   23            Омск             ultra\n",
       "7        8        Юрий   23       Краснодар             ultra\n",
       "8        9          Ян   21       Пятигорск             ultra\n",
       "9       10     Валерий   18    Екатеринбург             ultra"
      ]
     },
     "execution_count": 3,
     "metadata": {},
     "output_type": "execute_result"
    }
   ],
   "source": [
    "data_users.head(10)"
   ]
  },
  {
   "cell_type": "code",
   "execution_count": 4,
   "id": "0be42d2c",
   "metadata": {},
   "outputs": [
    {
     "name": "stdout",
     "output_type": "stream",
     "text": [
      "<class 'pandas.core.frame.DataFrame'>\n",
      "RangeIndex: 1565 entries, 0 to 1564\n",
      "Data columns (total 5 columns):\n",
      " #   Column             Non-Null Count  Dtype \n",
      "---  ------             --------------  ----- \n",
      " 0   user_id            1565 non-null   int64 \n",
      " 1   name               1565 non-null   object\n",
      " 2   age                1565 non-null   int64 \n",
      " 3   city               1565 non-null   object\n",
      " 4   subscription_type  1565 non-null   object\n",
      "dtypes: int64(2), object(3)\n",
      "memory usage: 61.3+ KB\n"
     ]
    }
   ],
   "source": [
    "data_users.info()"
   ]
  },
  {
   "cell_type": "markdown",
   "id": "0e682e9e",
   "metadata": {},
   "source": [
    "Можно отметить, что первые строки имеют все ультра подписку, в предобработке данных следует уточнить этот момент"
   ]
  },
  {
   "cell_type": "markdown",
   "id": "01e889b9",
   "metadata": {},
   "source": [
    "Загрузим rides_go.csv и изучим данные"
   ]
  },
  {
   "cell_type": "code",
   "execution_count": 5,
   "id": "63b0f48d",
   "metadata": {},
   "outputs": [],
   "source": [
    "data_rides = pd.read_csv('/datasets/rides_go.csv')"
   ]
  },
  {
   "cell_type": "code",
   "execution_count": 6,
   "id": "b05f5542",
   "metadata": {},
   "outputs": [
    {
     "data": {
      "text/html": [
       "<div>\n",
       "<style scoped>\n",
       "    .dataframe tbody tr th:only-of-type {\n",
       "        vertical-align: middle;\n",
       "    }\n",
       "\n",
       "    .dataframe tbody tr th {\n",
       "        vertical-align: top;\n",
       "    }\n",
       "\n",
       "    .dataframe thead th {\n",
       "        text-align: right;\n",
       "    }\n",
       "</style>\n",
       "<table border=\"1\" class=\"dataframe\">\n",
       "  <thead>\n",
       "    <tr style=\"text-align: right;\">\n",
       "      <th></th>\n",
       "      <th>user_id</th>\n",
       "      <th>distance</th>\n",
       "      <th>duration</th>\n",
       "      <th>date</th>\n",
       "    </tr>\n",
       "  </thead>\n",
       "  <tbody>\n",
       "    <tr>\n",
       "      <th>0</th>\n",
       "      <td>1</td>\n",
       "      <td>4409.919140</td>\n",
       "      <td>25.599769</td>\n",
       "      <td>2021-01-01</td>\n",
       "    </tr>\n",
       "    <tr>\n",
       "      <th>1</th>\n",
       "      <td>1</td>\n",
       "      <td>2617.592153</td>\n",
       "      <td>15.816871</td>\n",
       "      <td>2021-01-18</td>\n",
       "    </tr>\n",
       "    <tr>\n",
       "      <th>2</th>\n",
       "      <td>1</td>\n",
       "      <td>754.159807</td>\n",
       "      <td>6.232113</td>\n",
       "      <td>2021-04-20</td>\n",
       "    </tr>\n",
       "    <tr>\n",
       "      <th>3</th>\n",
       "      <td>1</td>\n",
       "      <td>2694.783254</td>\n",
       "      <td>18.511000</td>\n",
       "      <td>2021-08-11</td>\n",
       "    </tr>\n",
       "    <tr>\n",
       "      <th>4</th>\n",
       "      <td>1</td>\n",
       "      <td>4028.687306</td>\n",
       "      <td>26.265803</td>\n",
       "      <td>2021-08-28</td>\n",
       "    </tr>\n",
       "    <tr>\n",
       "      <th>5</th>\n",
       "      <td>1</td>\n",
       "      <td>2770.890808</td>\n",
       "      <td>16.650138</td>\n",
       "      <td>2021-10-09</td>\n",
       "    </tr>\n",
       "    <tr>\n",
       "      <th>6</th>\n",
       "      <td>1</td>\n",
       "      <td>3039.020292</td>\n",
       "      <td>14.927879</td>\n",
       "      <td>2021-10-19</td>\n",
       "    </tr>\n",
       "    <tr>\n",
       "      <th>7</th>\n",
       "      <td>1</td>\n",
       "      <td>2842.118050</td>\n",
       "      <td>23.117468</td>\n",
       "      <td>2021-11-06</td>\n",
       "    </tr>\n",
       "    <tr>\n",
       "      <th>8</th>\n",
       "      <td>1</td>\n",
       "      <td>3412.690668</td>\n",
       "      <td>15.238072</td>\n",
       "      <td>2021-11-14</td>\n",
       "    </tr>\n",
       "    <tr>\n",
       "      <th>9</th>\n",
       "      <td>1</td>\n",
       "      <td>748.690645</td>\n",
       "      <td>15.041884</td>\n",
       "      <td>2021-11-22</td>\n",
       "    </tr>\n",
       "  </tbody>\n",
       "</table>\n",
       "</div>"
      ],
      "text/plain": [
       "   user_id     distance   duration        date\n",
       "0        1  4409.919140  25.599769  2021-01-01\n",
       "1        1  2617.592153  15.816871  2021-01-18\n",
       "2        1   754.159807   6.232113  2021-04-20\n",
       "3        1  2694.783254  18.511000  2021-08-11\n",
       "4        1  4028.687306  26.265803  2021-08-28\n",
       "5        1  2770.890808  16.650138  2021-10-09\n",
       "6        1  3039.020292  14.927879  2021-10-19\n",
       "7        1  2842.118050  23.117468  2021-11-06\n",
       "8        1  3412.690668  15.238072  2021-11-14\n",
       "9        1   748.690645  15.041884  2021-11-22"
      ]
     },
     "execution_count": 6,
     "metadata": {},
     "output_type": "execute_result"
    }
   ],
   "source": [
    "data_rides.head(10)"
   ]
  },
  {
   "cell_type": "code",
   "execution_count": 7,
   "id": "4a1591c9",
   "metadata": {},
   "outputs": [
    {
     "name": "stdout",
     "output_type": "stream",
     "text": [
      "<class 'pandas.core.frame.DataFrame'>\n",
      "RangeIndex: 18068 entries, 0 to 18067\n",
      "Data columns (total 4 columns):\n",
      " #   Column    Non-Null Count  Dtype  \n",
      "---  ------    --------------  -----  \n",
      " 0   user_id   18068 non-null  int64  \n",
      " 1   distance  18068 non-null  float64\n",
      " 2   duration  18068 non-null  float64\n",
      " 3   date      18068 non-null  object \n",
      "dtypes: float64(2), int64(1), object(1)\n",
      "memory usage: 564.8+ KB\n"
     ]
    }
   ],
   "source": [
    "data_rides.info()"
   ]
  },
  {
   "cell_type": "markdown",
   "id": "e63c7bb5",
   "metadata": {},
   "source": [
    "Видно, что date имеет неверный тип данных, в предобработке исправим"
   ]
  },
  {
   "cell_type": "markdown",
   "id": "f8093fcd",
   "metadata": {},
   "source": [
    "Загрузим subscriptions_go.csv"
   ]
  },
  {
   "cell_type": "code",
   "execution_count": 8,
   "id": "355f1fd4",
   "metadata": {},
   "outputs": [],
   "source": [
    "data_subs = pd.read_csv('/datasets/subscriptions_go.csv')"
   ]
  },
  {
   "cell_type": "code",
   "execution_count": 9,
   "id": "19adc8b5",
   "metadata": {},
   "outputs": [
    {
     "data": {
      "text/html": [
       "<div>\n",
       "<style scoped>\n",
       "    .dataframe tbody tr th:only-of-type {\n",
       "        vertical-align: middle;\n",
       "    }\n",
       "\n",
       "    .dataframe tbody tr th {\n",
       "        vertical-align: top;\n",
       "    }\n",
       "\n",
       "    .dataframe thead th {\n",
       "        text-align: right;\n",
       "    }\n",
       "</style>\n",
       "<table border=\"1\" class=\"dataframe\">\n",
       "  <thead>\n",
       "    <tr style=\"text-align: right;\">\n",
       "      <th></th>\n",
       "      <th>subscription_type</th>\n",
       "      <th>minute_price</th>\n",
       "      <th>start_ride_price</th>\n",
       "      <th>subscription_fee</th>\n",
       "    </tr>\n",
       "  </thead>\n",
       "  <tbody>\n",
       "    <tr>\n",
       "      <th>0</th>\n",
       "      <td>free</td>\n",
       "      <td>8</td>\n",
       "      <td>50</td>\n",
       "      <td>0</td>\n",
       "    </tr>\n",
       "    <tr>\n",
       "      <th>1</th>\n",
       "      <td>ultra</td>\n",
       "      <td>6</td>\n",
       "      <td>0</td>\n",
       "      <td>199</td>\n",
       "    </tr>\n",
       "  </tbody>\n",
       "</table>\n",
       "</div>"
      ],
      "text/plain": [
       "  subscription_type  minute_price  start_ride_price  subscription_fee\n",
       "0              free             8                50                 0\n",
       "1             ultra             6                 0               199"
      ]
     },
     "execution_count": 9,
     "metadata": {},
     "output_type": "execute_result"
    }
   ],
   "source": [
    "data_subs.head(10)"
   ]
  },
  {
   "cell_type": "code",
   "execution_count": 10,
   "id": "b69b090d",
   "metadata": {},
   "outputs": [
    {
     "name": "stdout",
     "output_type": "stream",
     "text": [
      "<class 'pandas.core.frame.DataFrame'>\n",
      "RangeIndex: 2 entries, 0 to 1\n",
      "Data columns (total 4 columns):\n",
      " #   Column             Non-Null Count  Dtype \n",
      "---  ------             --------------  ----- \n",
      " 0   subscription_type  2 non-null      object\n",
      " 1   minute_price       2 non-null      int64 \n",
      " 2   start_ride_price   2 non-null      int64 \n",
      " 3   subscription_fee   2 non-null      int64 \n",
      "dtypes: int64(3), object(1)\n",
      "memory usage: 192.0+ bytes\n"
     ]
    }
   ],
   "source": [
    "data_subs.info()"
   ]
  },
  {
   "cell_type": "markdown",
   "id": "2dac603a",
   "metadata": {},
   "source": [
    "В этом дф просто информация о подписках\n",
    "\n",
    "Итого можно заметить, что пустых строк предварительно нет, но они могут быть заполнены чем-то другим, что в последствии увидим"
   ]
  },
  {
   "cell_type": "markdown",
   "id": "e95ebca7",
   "metadata": {},
   "source": [
    "#### Шаг 2. Предобработка данных"
   ]
  },
  {
   "cell_type": "markdown",
   "id": "2c8b10d6",
   "metadata": {},
   "source": [
    "##### Приведите столбец date к типу даты pandas."
   ]
  },
  {
   "cell_type": "code",
   "execution_count": 11,
   "id": "b1640dca",
   "metadata": {},
   "outputs": [
    {
     "name": "stdout",
     "output_type": "stream",
     "text": [
      "<class 'pandas.core.frame.DataFrame'>\n",
      "RangeIndex: 18068 entries, 0 to 18067\n",
      "Data columns (total 4 columns):\n",
      " #   Column    Non-Null Count  Dtype         \n",
      "---  ------    --------------  -----         \n",
      " 0   user_id   18068 non-null  int64         \n",
      " 1   distance  18068 non-null  float64       \n",
      " 2   duration  18068 non-null  float64       \n",
      " 3   date      18068 non-null  datetime64[ns]\n",
      "dtypes: datetime64[ns](1), float64(2), int64(1)\n",
      "memory usage: 564.8 KB\n"
     ]
    }
   ],
   "source": [
    "# приведем тип к датам\n",
    "data_rides['date'] = pd.to_datetime(data_rides['date'], format='%Y-%m-%d')\n",
    "# проверим\n",
    "data_rides.info()"
   ]
  },
  {
   "cell_type": "markdown",
   "id": "44535ac2",
   "metadata": {},
   "source": [
    "##### Создайте новый столбец с номером месяца на основе столбца date."
   ]
  },
  {
   "cell_type": "code",
   "execution_count": 12,
   "id": "bade459b",
   "metadata": {},
   "outputs": [
    {
     "data": {
      "text/plain": [
       "array([2021])"
      ]
     },
     "execution_count": 12,
     "metadata": {},
     "output_type": "execute_result"
    }
   ],
   "source": [
    "data_rides['date'].dt.year.unique()"
   ]
  },
  {
   "cell_type": "code",
   "execution_count": 13,
   "id": "03b7e7f4",
   "metadata": {},
   "outputs": [
    {
     "data": {
      "text/html": [
       "<div>\n",
       "<style scoped>\n",
       "    .dataframe tbody tr th:only-of-type {\n",
       "        vertical-align: middle;\n",
       "    }\n",
       "\n",
       "    .dataframe tbody tr th {\n",
       "        vertical-align: top;\n",
       "    }\n",
       "\n",
       "    .dataframe thead th {\n",
       "        text-align: right;\n",
       "    }\n",
       "</style>\n",
       "<table border=\"1\" class=\"dataframe\">\n",
       "  <thead>\n",
       "    <tr style=\"text-align: right;\">\n",
       "      <th></th>\n",
       "      <th>user_id</th>\n",
       "      <th>distance</th>\n",
       "      <th>duration</th>\n",
       "      <th>date</th>\n",
       "      <th>month_number</th>\n",
       "    </tr>\n",
       "  </thead>\n",
       "  <tbody>\n",
       "    <tr>\n",
       "      <th>0</th>\n",
       "      <td>1</td>\n",
       "      <td>4409.919140</td>\n",
       "      <td>25.599769</td>\n",
       "      <td>2021-01-01</td>\n",
       "      <td>1</td>\n",
       "    </tr>\n",
       "    <tr>\n",
       "      <th>1</th>\n",
       "      <td>1</td>\n",
       "      <td>2617.592153</td>\n",
       "      <td>15.816871</td>\n",
       "      <td>2021-01-18</td>\n",
       "      <td>1</td>\n",
       "    </tr>\n",
       "    <tr>\n",
       "      <th>2</th>\n",
       "      <td>1</td>\n",
       "      <td>754.159807</td>\n",
       "      <td>6.232113</td>\n",
       "      <td>2021-04-20</td>\n",
       "      <td>4</td>\n",
       "    </tr>\n",
       "    <tr>\n",
       "      <th>3</th>\n",
       "      <td>1</td>\n",
       "      <td>2694.783254</td>\n",
       "      <td>18.511000</td>\n",
       "      <td>2021-08-11</td>\n",
       "      <td>8</td>\n",
       "    </tr>\n",
       "    <tr>\n",
       "      <th>4</th>\n",
       "      <td>1</td>\n",
       "      <td>4028.687306</td>\n",
       "      <td>26.265803</td>\n",
       "      <td>2021-08-28</td>\n",
       "      <td>8</td>\n",
       "    </tr>\n",
       "  </tbody>\n",
       "</table>\n",
       "</div>"
      ],
      "text/plain": [
       "   user_id     distance   duration       date  month_number\n",
       "0        1  4409.919140  25.599769 2021-01-01             1\n",
       "1        1  2617.592153  15.816871 2021-01-18             1\n",
       "2        1   754.159807   6.232113 2021-04-20             4\n",
       "3        1  2694.783254  18.511000 2021-08-11             8\n",
       "4        1  4028.687306  26.265803 2021-08-28             8"
      ]
     },
     "execution_count": 13,
     "metadata": {},
     "output_type": "execute_result"
    }
   ],
   "source": [
    "data_rides['month_number'] = data_rides['date'].dt.month\n",
    "data_rides.head()"
   ]
  },
  {
   "cell_type": "markdown",
   "id": "de1362e8",
   "metadata": {},
   "source": [
    "##### Проверьте наличие пропущенных значений и дубликатов в датафреймах. Обработайте их, если такие значения присутствуют."
   ]
  },
  {
   "cell_type": "markdown",
   "id": "041a9014",
   "metadata": {},
   "source": [
    "Обработаем сначала users_go"
   ]
  },
  {
   "cell_type": "code",
   "execution_count": 14,
   "id": "f5bf4399",
   "metadata": {},
   "outputs": [
    {
     "name": "stdout",
     "output_type": "stream",
     "text": [
      "1565\n",
      "1534\n"
     ]
    }
   ],
   "source": [
    "# удалим явные дубликаты\n",
    "print(len(data_users))\n",
    "data_users = data_users.drop_duplicates()\n",
    "print(len(data_users))"
   ]
  },
  {
   "cell_type": "markdown",
   "id": "ec894448",
   "metadata": {},
   "source": [
    "31 аккаунт являлись дубликатами"
   ]
  },
  {
   "cell_type": "code",
   "execution_count": 15,
   "id": "90e9b406",
   "metadata": {},
   "outputs": [
    {
     "data": {
      "text/plain": [
       "1       1\n",
       "1020    1\n",
       "1029    1\n",
       "1028    1\n",
       "1027    1\n",
       "       ..\n",
       "510     1\n",
       "509     1\n",
       "508     1\n",
       "507     1\n",
       "1534    1\n",
       "Name: user_id, Length: 1534, dtype: int64"
      ]
     },
     "execution_count": 15,
     "metadata": {},
     "output_type": "execute_result"
    }
   ],
   "source": [
    "# проверим на повторение id\n",
    "data_users['user_id'].value_counts()"
   ]
  },
  {
   "cell_type": "markdown",
   "id": "abf372ec",
   "metadata": {},
   "source": [
    "Каждый пользователь зарегистрирован в одном городе"
   ]
  },
  {
   "cell_type": "code",
   "execution_count": 16,
   "id": "e3b8ea2a",
   "metadata": {},
   "outputs": [
    {
     "data": {
      "text/plain": [
       "array(['Агата', 'Аделина', 'Адель', 'Айдар', 'Александр', 'Александра',\n",
       "       'Алексей', 'Алина', 'Алиса', 'Алия', 'Алла', 'Альберт', 'Альбина',\n",
       "       'Алёна', 'Амалия', 'Амина', 'Амир', 'Анастасия', 'Анатолий',\n",
       "       'Ангелина', 'Андрей', 'Анжелика', 'Анна', 'Антон', 'Антонина',\n",
       "       'Ариана', 'Арина', 'Арсен', 'Арсений', 'Артемий', 'Артур', 'Артём',\n",
       "       'Богдан', 'Борис', 'Вадим', 'Валентина', 'Валерий', 'Валерия',\n",
       "       'Варвара', 'Василий', 'Василина', 'Василиса', 'Вера', 'Вероника',\n",
       "       'Виктор', 'Виктория', 'Виолетта', 'Виталий', 'Виталина', 'Влад',\n",
       "       'Влада', 'Владимир', 'Владислав', 'Владислава', 'Всеволод',\n",
       "       'Вячеслав', 'Галина', 'Георгий', 'Герман', 'Глеб', 'Гордей',\n",
       "       'Григорий', 'Давид', 'Дамир', 'Даниил', 'Данил', 'Данила',\n",
       "       'Даниэль', 'Дарина', 'Дарья', 'Демид', 'Денис', 'Диана', 'Дмитрий',\n",
       "       'Ева', 'Евгений', 'Евгения', 'Егор', 'Екатерина', 'Елена',\n",
       "       'Елизавета', 'Елисей', 'Есения', 'Жанна', 'Зарина', 'Захар',\n",
       "       'Злата', 'Иван', 'Игнат', 'Игорь', 'Ильдар', 'Илья', 'Инна',\n",
       "       'Ирина', 'Камилла', 'Карина', 'Каролина', 'Кира', 'Кирилл',\n",
       "       'Константин', 'Кристина', 'Ксения', 'Лариса', 'Лев', 'Леонид',\n",
       "       'Лиана', 'Лидия', 'Лилия', 'Любовь', 'Людмила', 'Мадина', 'Майя',\n",
       "       'Макар', 'Максим', 'Марат', 'Маргарита', 'Марина', 'Мария', 'Марк',\n",
       "       'Марсель', 'Матвей', 'Мелания', 'Милана', 'Милена', 'Мирон',\n",
       "       'Мирослав', 'Мирослава', 'Михаил', 'Назар', 'Наталия', 'Наталья',\n",
       "       'Наташа', 'Нелли', 'Ника', 'Никита', 'Николай', 'Нина', 'Одиссей',\n",
       "       'Оксана', 'Олег', 'Олеся', 'Ольга', 'Павел', 'Петр', 'Платон',\n",
       "       'Полина', 'Радмир', 'Рамиль', 'Регина', 'Роберт', 'Родион',\n",
       "       'Роман', 'Ростислав', 'Руслан', 'Рустам', 'Савелий', 'Самир',\n",
       "       'Самира', 'Светлана', 'Святогор', 'Святослав', 'Семен', 'Сергей',\n",
       "       'Снежана', 'София', 'Софья', 'Станислав', 'Степан', 'Стефания',\n",
       "       'Таисия', 'Тамара', 'Тамерлан', 'Татьяна', 'Тимофей', 'Тимур',\n",
       "       'Тихон', 'Ульяна', 'Федор', 'Эвелина', 'Эдуард', 'Элина',\n",
       "       'Эльвира', 'Эльмира', 'Эмилия', 'Эмиль', 'Юлиана', 'Юлия', 'Юрий',\n",
       "       'Ян', 'Яна', 'Яромир', 'Ярослав', 'Ярослава', 'Ясмина'],\n",
       "      dtype=object)"
      ]
     },
     "execution_count": 16,
     "metadata": {},
     "output_type": "execute_result"
    }
   ],
   "source": [
    "# проверим столбец с именами на имя, заполняющее путую строку\n",
    "data_users['name'].sort_values().unique()"
   ]
  },
  {
   "cell_type": "code",
   "execution_count": 17,
   "id": "3e41623a",
   "metadata": {},
   "outputs": [
    {
     "data": {
      "text/plain": [
       "array(['Екатеринбург', 'Краснодар', 'Москва', 'Омск', 'Пятигорск',\n",
       "       'Ростов-на-Дону', 'Сочи', 'Тюмень'], dtype=object)"
      ]
     },
     "execution_count": 17,
     "metadata": {},
     "output_type": "execute_result"
    }
   ],
   "source": [
    "# сделаем тоже самое для городов\n",
    "data_users['city'].sort_values().unique()"
   ]
  },
  {
   "cell_type": "code",
   "execution_count": 18,
   "id": "66ba5cd6",
   "metadata": {},
   "outputs": [
    {
     "data": {
      "text/plain": [
       "free     835\n",
       "ultra    699\n",
       "Name: subscription_type, dtype: int64"
      ]
     },
     "execution_count": 18,
     "metadata": {},
     "output_type": "execute_result"
    }
   ],
   "source": [
    "#Посмотрим что с подписками\n",
    "data_users['subscription_type'].value_counts()"
   ]
  },
  {
   "cell_type": "markdown",
   "id": "ce6d9f9e",
   "metadata": {},
   "source": [
    "Имен и городов, которыми бы заполняли пропуски, не вижу\n",
    "\n",
    "Значит <b>дубликатов и пропусков</b> больше нет"
   ]
  },
  {
   "cell_type": "markdown",
   "id": "41f9afa2",
   "metadata": {},
   "source": [
    "Теперь проверим rides_go.csv"
   ]
  },
  {
   "cell_type": "code",
   "execution_count": 19,
   "id": "90b99fbb",
   "metadata": {},
   "outputs": [
    {
     "name": "stdout",
     "output_type": "stream",
     "text": [
      "18068\n",
      "18068\n"
     ]
    }
   ],
   "source": [
    "# удалим явные дубликаты\n",
    "print(len(data_rides))\n",
    "data_rides = data_rides.drop_duplicates()\n",
    "print(len(data_rides))"
   ]
  },
  {
   "cell_type": "markdown",
   "id": "775e164b",
   "metadata": {},
   "source": [
    "Их не оказалось"
   ]
  },
  {
   "cell_type": "code",
   "execution_count": 20,
   "id": "445e3058",
   "metadata": {},
   "outputs": [
    {
     "data": {
      "text/html": [
       "<div>\n",
       "<style scoped>\n",
       "    .dataframe tbody tr th:only-of-type {\n",
       "        vertical-align: middle;\n",
       "    }\n",
       "\n",
       "    .dataframe tbody tr th {\n",
       "        vertical-align: top;\n",
       "    }\n",
       "\n",
       "    .dataframe thead th {\n",
       "        text-align: right;\n",
       "    }\n",
       "</style>\n",
       "<table border=\"1\" class=\"dataframe\">\n",
       "  <thead>\n",
       "    <tr style=\"text-align: right;\">\n",
       "      <th></th>\n",
       "      <th>user_id</th>\n",
       "      <th>distance</th>\n",
       "      <th>duration</th>\n",
       "      <th>date</th>\n",
       "      <th>month_number</th>\n",
       "      <th>distance_round</th>\n",
       "      <th>duration_round</th>\n",
       "    </tr>\n",
       "  </thead>\n",
       "  <tbody>\n",
       "    <tr>\n",
       "      <th>0</th>\n",
       "      <td>1</td>\n",
       "      <td>4409.919140</td>\n",
       "      <td>25.599769</td>\n",
       "      <td>2021-01-01</td>\n",
       "      <td>1</td>\n",
       "      <td>4410</td>\n",
       "      <td>26</td>\n",
       "    </tr>\n",
       "    <tr>\n",
       "      <th>1</th>\n",
       "      <td>1</td>\n",
       "      <td>2617.592153</td>\n",
       "      <td>15.816871</td>\n",
       "      <td>2021-01-18</td>\n",
       "      <td>1</td>\n",
       "      <td>2618</td>\n",
       "      <td>16</td>\n",
       "    </tr>\n",
       "    <tr>\n",
       "      <th>2</th>\n",
       "      <td>1</td>\n",
       "      <td>754.159807</td>\n",
       "      <td>6.232113</td>\n",
       "      <td>2021-04-20</td>\n",
       "      <td>4</td>\n",
       "      <td>755</td>\n",
       "      <td>7</td>\n",
       "    </tr>\n",
       "    <tr>\n",
       "      <th>3</th>\n",
       "      <td>1</td>\n",
       "      <td>2694.783254</td>\n",
       "      <td>18.511000</td>\n",
       "      <td>2021-08-11</td>\n",
       "      <td>8</td>\n",
       "      <td>2695</td>\n",
       "      <td>19</td>\n",
       "    </tr>\n",
       "    <tr>\n",
       "      <th>4</th>\n",
       "      <td>1</td>\n",
       "      <td>4028.687306</td>\n",
       "      <td>26.265803</td>\n",
       "      <td>2021-08-28</td>\n",
       "      <td>8</td>\n",
       "      <td>4029</td>\n",
       "      <td>27</td>\n",
       "    </tr>\n",
       "  </tbody>\n",
       "</table>\n",
       "</div>"
      ],
      "text/plain": [
       "   user_id     distance   duration       date  month_number  distance_round  \\\n",
       "0        1  4409.919140  25.599769 2021-01-01             1            4410   \n",
       "1        1  2617.592153  15.816871 2021-01-18             1            2618   \n",
       "2        1   754.159807   6.232113 2021-04-20             4             755   \n",
       "3        1  2694.783254  18.511000 2021-08-11             8            2695   \n",
       "4        1  4028.687306  26.265803 2021-08-28             8            4029   \n",
       "\n",
       "   duration_round  \n",
       "0              26  \n",
       "1              16  \n",
       "2               7  \n",
       "3              19  \n",
       "4              27  "
      ]
     },
     "execution_count": 20,
     "metadata": {},
     "output_type": "execute_result"
    }
   ],
   "source": [
    "# округлим дистанции и времена поездок\n",
    "data_rides['distance_round'] = data_rides['distance'].apply(np.ceil).astype(int)\n",
    "data_rides['duration_round'] = data_rides['duration'].apply(np.ceil).astype(int)\n",
    "data_rides.head()"
   ]
  },
  {
   "cell_type": "code",
   "execution_count": 21,
   "id": "17728184",
   "metadata": {},
   "outputs": [
    {
     "data": {
      "text/plain": [
       "array([   1,    3,    5, ..., 6909, 7067, 7212])"
      ]
     },
     "execution_count": 21,
     "metadata": {},
     "output_type": "execute_result"
    }
   ],
   "source": [
    "# посмотрим есть ли выбивающиеся значения по дистанции\n",
    "data_rides['distance_round'].sort_values().unique()"
   ]
  },
  {
   "cell_type": "code",
   "execution_count": 22,
   "id": "8cc1cb5d",
   "metadata": {},
   "outputs": [
    {
     "data": {
      "text/plain": [
       "array([ 1,  3,  4,  5,  6,  7,  8,  9, 10, 11, 12, 13, 14, 15, 16, 17, 18,\n",
       "       19, 20, 21, 22, 23, 24, 25, 26, 27, 28, 29, 30, 31, 32, 33, 34, 35,\n",
       "       36, 37, 38, 39, 40, 41])"
      ]
     },
     "execution_count": 22,
     "metadata": {},
     "output_type": "execute_result"
    }
   ],
   "source": [
    "# посмотрим есть ли выбивающиеся значения по длительности\n",
    "data_rides['duration_round'].sort_values().unique()"
   ]
  },
  {
   "cell_type": "markdown",
   "id": "ca6cae44",
   "metadata": {},
   "source": [
    "Выбивающихся значений не оказалось, данные чисты"
   ]
  },
  {
   "cell_type": "markdown",
   "id": "212593c7",
   "metadata": {},
   "source": [
    "#### Шаг 3. Исследовательский анализ данных"
   ]
  },
  {
   "cell_type": "markdown",
   "id": "cde5463c",
   "metadata": {},
   "source": [
    "##### частота встречаемости городов"
   ]
  },
  {
   "cell_type": "code",
   "execution_count": 23,
   "id": "b3273e0a",
   "metadata": {},
   "outputs": [
    {
     "data": {
      "text/plain": [
       "Пятигорск         219\n",
       "Екатеринбург      204\n",
       "Ростов-на-Дону    198\n",
       "Краснодар         193\n",
       "Сочи              189\n",
       "Омск              183\n",
       "Тюмень            180\n",
       "Москва            168\n",
       "Name: city, dtype: int64"
      ]
     },
     "execution_count": 23,
     "metadata": {},
     "output_type": "execute_result"
    }
   ],
   "source": [
    "# посмотрим сколько всего аккаунтов в каких городах\n",
    "freqs_city = data_users['city'].value_counts()\n",
    "freqs_city"
   ]
  },
  {
   "cell_type": "code",
   "execution_count": 24,
   "id": "f37fbdff",
   "metadata": {},
   "outputs": [
    {
     "data": {
      "image/png": "[encoded data removed]",
      "text/plain": [
       "<Figure size 432x288 with 1 Axes>"
      ]
     },
     "metadata": {
      "needs_background": "light"
     },
     "output_type": "display_data"
    }
   ],
   "source": [
    "# визуализируем полученные данные\n",
    "ax = freqs_city.plot.bar()\n",
    "ax.set_title('Распределение аккаунтов по городам')\n",
    "ax.set_xlabel('Город')\n",
    "ax.set_ylabel('Количество аккаунтов')\n",
    "ax.grid(True)\n",
    "plt.show()"
   ]
  },
  {
   "cell_type": "markdown",
   "id": "a4ca9e76",
   "metadata": {},
   "source": [
    "Самое большое количество аккаунтов в Пятигорске, наименьшее в Москве, однако в целом количество примерно одинаковое"
   ]
  },
  {
   "cell_type": "markdown",
   "id": "e8cdf240",
   "metadata": {},
   "source": [
    "##### Соотношение пользователей с подпиской и без подписки;"
   ]
  },
  {
   "cell_type": "code",
   "execution_count": 25,
   "id": "a826bcae",
   "metadata": {},
   "outputs": [
    {
     "data": {
      "text/plain": [
       "free     835\n",
       "ultra    699\n",
       "Name: subscription_type, dtype: int64"
      ]
     },
     "execution_count": 25,
     "metadata": {},
     "output_type": "execute_result"
    }
   ],
   "source": [
    "freqs_subs = data_users['subscription_type'].value_counts()\n",
    "freqs_subs"
   ]
  },
  {
   "cell_type": "code",
   "execution_count": 26,
   "id": "67728cb0",
   "metadata": {},
   "outputs": [
    {
     "data": {
      "text/plain": [
       "user_id              0.544329\n",
       "name                 0.544329\n",
       "age                  0.544329\n",
       "city                 0.544329\n",
       "subscription_type    0.544329\n",
       "dtype: float64"
      ]
     },
     "execution_count": 26,
     "metadata": {},
     "output_type": "execute_result"
    }
   ],
   "source": [
    "# какой процент с бесплатной подпиской\n",
    "percent_free = data_users[data_users['subscription_type'] == 'free'].count() / len(data_users['subscription_type'])\n",
    "percent_free"
   ]
  },
  {
   "cell_type": "code",
   "execution_count": 27,
   "id": "d875b8bf",
   "metadata": {},
   "outputs": [
    {
     "data": {
      "image/png": "[encoded data removed]",
      "text/plain": [
       "<Figure size 432x288 with 1 Axes>"
      ]
     },
     "metadata": {
      "needs_background": "light"
     },
     "output_type": "display_data"
    }
   ],
   "source": [
    "# визуализируем полученные данные\n",
    "ax = freqs_subs.plot.bar()\n",
    "ax.set_title('Распределение аккаунтов по подписке')\n",
    "ax.set_xlabel('Тип подписки')\n",
    "ax.set_ylabel('Количество аккаунтов')\n",
    "ax.grid(True)\n",
    "plt.show()"
   ]
  },
  {
   "cell_type": "code",
   "execution_count": 28,
   "id": "6f6d36a8",
   "metadata": {},
   "outputs": [
    {
     "data": {
      "text/plain": [
       "<AxesSubplot:ylabel='user_id'>"
      ]
     },
     "execution_count": 28,
     "metadata": {},
     "output_type": "execute_result"
    },
    {
     "data": {
      "image/png": "[encoded data removed]",
      "text/plain": [
       "<Figure size 432x288 with 1 Axes>"
      ]
     },
     "metadata": {},
     "output_type": "display_data"
    }
   ],
   "source": [
    "data_users.groupby(['subscription_type']).count().plot(kind='pie', y='user_id', autopct='%1.0f%%')"
   ]
  },
  {
   "cell_type": "markdown",
   "id": "4734ed71",
   "metadata": {},
   "source": [
    "54.4% пользователей имеют бесплатную подписку, 45.6% имеют подписку ультра"
   ]
  },
  {
   "cell_type": "markdown",
   "id": "3944226a",
   "metadata": {},
   "source": [
    "##### Возраст пользователей;"
   ]
  },
  {
   "cell_type": "code",
   "execution_count": 29,
   "id": "92c4a4ea",
   "metadata": {},
   "outputs": [
    {
     "data": {
      "text/plain": [
       "(43, 12)"
      ]
     },
     "execution_count": 29,
     "metadata": {},
     "output_type": "execute_result"
    }
   ],
   "source": [
    "# Найдем минимальный и максимальный возраст для уточнения гистограммы\n",
    "maxim_age = data_users['age'].max()\n",
    "min_age = data_users['age'].min()\n",
    "maxim_age, min_age"
   ]
  },
  {
   "cell_type": "code",
   "execution_count": 30,
   "id": "020372ca",
   "metadata": {},
   "outputs": [
    {
     "data": {
      "image/png": "[encoded data removed]",
      "text/plain": [
       "<Figure size 432x288 with 1 Axes>"
      ]
     },
     "metadata": {
      "needs_background": "light"
     },
     "output_type": "display_data"
    }
   ],
   "source": [
    "# построим гистограмму для возрастов\n",
    "ax = data_users['age'].plot.hist(bins=32)\n",
    "ax.set_title('Распределение аккаунтов по возрастам')\n",
    "ax.set_xlabel('Тип подписки')\n",
    "ax.set_ylabel('Количество аккаунтов')\n",
    "ax.grid(True)\n",
    "plt.show()"
   ]
  },
  {
   "cell_type": "code",
   "execution_count": 31,
   "id": "3e88786f",
   "metadata": {},
   "outputs": [
    {
     "data": {
      "text/plain": [
       "25    145\n",
       "24    132\n",
       "26    131\n",
       "23    129\n",
       "27    119\n",
       "22    119\n",
       "28    112\n",
       "21     93\n",
       "20     71\n",
       "30     68\n",
       "29     68\n",
       "31     48\n",
       "19     47\n",
       "18     46\n",
       "32     41\n",
       "33     39\n",
       "17     26\n",
       "34     19\n",
       "16     19\n",
       "35     15\n",
       "15     13\n",
       "14      9\n",
       "13      8\n",
       "36      6\n",
       "12      4\n",
       "38      3\n",
       "37      2\n",
       "39      1\n",
       "43      1\n",
       "Name: age, dtype: int64"
      ]
     },
     "execution_count": 31,
     "metadata": {},
     "output_type": "execute_result"
    }
   ],
   "source": [
    "# список возрастов и их количество\n",
    "data_users['age'].value_counts()"
   ]
  },
  {
   "cell_type": "markdown",
   "id": "987ba334",
   "metadata": {},
   "source": [
    "Итого получаем, что минимальный возраст пользователей 12 лет, максимальный 43, большинство людей - 20-летние люди"
   ]
  },
  {
   "cell_type": "markdown",
   "id": "c583dd3e",
   "metadata": {},
   "source": [
    "##### расстояние, которое пользователь преодолел за одну поездку"
   ]
  },
  {
   "cell_type": "code",
   "execution_count": 32,
   "id": "b8cc5699",
   "metadata": {},
   "outputs": [
    {
     "data": {
      "image/png": "[encoded data removed]",
      "text/plain": [
       "<Figure size 432x288 with 1 Axes>"
      ]
     },
     "metadata": {
      "needs_background": "light"
     },
     "output_type": "display_data"
    }
   ],
   "source": [
    "# построим гистограмму дистанций\n",
    "ax = data_rides['distance_round'].plot.hist(bins = 70)\n",
    "ax.set_title('Распределение дистанций')\n",
    "ax.set_xlabel('Дистанция, метров')\n",
    "ax.set_ylabel('Частота')\n",
    "ax.grid(True)\n",
    "plt.show()"
   ]
  },
  {
   "cell_type": "code",
   "execution_count": 33,
   "id": "67db3058",
   "metadata": {},
   "outputs": [
    {
     "name": "stdout",
     "output_type": "stream",
     "text": [
      "Доля коротких поездок: 0.09934691166703565\n",
      "Доля длинных поездок: 0.9006530883329643\n"
     ]
    }
   ],
   "source": [
    "more_1500 = len(data_rides.query('distance_round >= 1500'))\n",
    "less_1500 = len(data_rides.query('distance_round < 1500'))\n",
    "all_rides = len(data_rides)\n",
    "print(f'Доля коротких поездок: {less_1500/all_rides}')\n",
    "print(f'Доля длинных поездок: {more_1500/all_rides}')"
   ]
  },
  {
   "cell_type": "markdown",
   "id": "357d115d",
   "metadata": {},
   "source": [
    "Видно, что большинство людей проезжают порядка 3 км, однако есть еще локальный пик в районе 500 метров, т.е. можно разделить поездки на 2 типа: короткая (500 м) и долгая (3 км)\n",
    "\n",
    "Очень странное поведение для крайне малых расстояний, вполне возможно люди по ошибке бронировали самокат, возможно они пробывали 1 раз и сразу же бросали поездку"
   ]
  },
  {
   "cell_type": "markdown",
   "id": "2a0b4e7c",
   "metadata": {},
   "source": [
    "##### продолжительность поездок."
   ]
  },
  {
   "cell_type": "code",
   "execution_count": 34,
   "id": "ccef4355",
   "metadata": {},
   "outputs": [
    {
     "data": {
      "image/png": "[encoded data removed]",
      "text/plain": [
       "<Figure size 432x288 with 1 Axes>"
      ]
     },
     "metadata": {
      "needs_background": "light"
     },
     "output_type": "display_data"
    }
   ],
   "source": [
    "ax = data_rides['duration'].plot.hist(bins = 40)\n",
    "ax.set_title('Распределение продолжительности поездок')\n",
    "ax.set_xlabel('Время, минут')\n",
    "ax.set_ylabel('Частота')\n",
    "ax.grid(True)\n",
    "plt.show()"
   ]
  },
  {
   "cell_type": "markdown",
   "id": "2461c222",
   "metadata": {},
   "source": [
    "Большинство поездок длится около 18 минут, график распределен нормально. Однако в районе 0 есть небольшой пик, который пока что не буду удалять, т.к. если нужно будет считать выручку, то люди без подписки внесли свою оплату за начало движения. Если строить отдельно для людей с подпиской такой график, то стоит убрать 0 минут."
   ]
  },
  {
   "cell_type": "markdown",
   "id": "e181d49d",
   "metadata": {},
   "source": [
    "<b>Итого получаем</b>:\n",
    "- города распределены примерно одинаково, разница между самым активным в плане использования (Пятигорском) и самым неактивным (Москва) невелика (219 и 168 соответственно)\n",
    "- людей с подпиской 45.6% среди всех пользователей\n",
    "- самые активные юзеры самокатов молодые люди в возрасте от 20 до 30 лет\n",
    "- есть 2 категории поездок (ближние около 500 метров и дальние около 3 км), однако дальние поездки преобладают у пользователей\n",
    "- средняя продолжительность поездки 18 минут\n"
   ]
  },
  {
   "cell_type": "markdown",
   "id": "4ef51331",
   "metadata": {},
   "source": [
    "#### Шаг 4. Объединение данных"
   ]
  },
  {
   "cell_type": "markdown",
   "id": "51734fb2",
   "metadata": {},
   "source": [
    "##### Объедините данные о пользователях, поездках и подписках в один датафрейм. Для этого воспользуйтесь методом merge()."
   ]
  },
  {
   "cell_type": "code",
   "execution_count": 35,
   "id": "2b82d778",
   "metadata": {},
   "outputs": [
    {
     "data": {
      "text/html": [
       "<div>\n",
       "<style scoped>\n",
       "    .dataframe tbody tr th:only-of-type {\n",
       "        vertical-align: middle;\n",
       "    }\n",
       "\n",
       "    .dataframe tbody tr th {\n",
       "        vertical-align: top;\n",
       "    }\n",
       "\n",
       "    .dataframe thead th {\n",
       "        text-align: right;\n",
       "    }\n",
       "</style>\n",
       "<table border=\"1\" class=\"dataframe\">\n",
       "  <thead>\n",
       "    <tr style=\"text-align: right;\">\n",
       "      <th></th>\n",
       "      <th>user_id</th>\n",
       "      <th>name</th>\n",
       "      <th>age</th>\n",
       "      <th>city</th>\n",
       "      <th>subscription_type</th>\n",
       "      <th>distance</th>\n",
       "      <th>duration</th>\n",
       "      <th>date</th>\n",
       "      <th>month_number</th>\n",
       "      <th>distance_round</th>\n",
       "      <th>duration_round</th>\n",
       "    </tr>\n",
       "  </thead>\n",
       "  <tbody>\n",
       "    <tr>\n",
       "      <th>0</th>\n",
       "      <td>1</td>\n",
       "      <td>Кира</td>\n",
       "      <td>22</td>\n",
       "      <td>Тюмень</td>\n",
       "      <td>ultra</td>\n",
       "      <td>4409.919140</td>\n",
       "      <td>25.599769</td>\n",
       "      <td>2021-01-01</td>\n",
       "      <td>1</td>\n",
       "      <td>4410</td>\n",
       "      <td>26</td>\n",
       "    </tr>\n",
       "    <tr>\n",
       "      <th>1</th>\n",
       "      <td>1</td>\n",
       "      <td>Кира</td>\n",
       "      <td>22</td>\n",
       "      <td>Тюмень</td>\n",
       "      <td>ultra</td>\n",
       "      <td>2617.592153</td>\n",
       "      <td>15.816871</td>\n",
       "      <td>2021-01-18</td>\n",
       "      <td>1</td>\n",
       "      <td>2618</td>\n",
       "      <td>16</td>\n",
       "    </tr>\n",
       "    <tr>\n",
       "      <th>2</th>\n",
       "      <td>1</td>\n",
       "      <td>Кира</td>\n",
       "      <td>22</td>\n",
       "      <td>Тюмень</td>\n",
       "      <td>ultra</td>\n",
       "      <td>754.159807</td>\n",
       "      <td>6.232113</td>\n",
       "      <td>2021-04-20</td>\n",
       "      <td>4</td>\n",
       "      <td>755</td>\n",
       "      <td>7</td>\n",
       "    </tr>\n",
       "    <tr>\n",
       "      <th>3</th>\n",
       "      <td>1</td>\n",
       "      <td>Кира</td>\n",
       "      <td>22</td>\n",
       "      <td>Тюмень</td>\n",
       "      <td>ultra</td>\n",
       "      <td>2694.783254</td>\n",
       "      <td>18.511000</td>\n",
       "      <td>2021-08-11</td>\n",
       "      <td>8</td>\n",
       "      <td>2695</td>\n",
       "      <td>19</td>\n",
       "    </tr>\n",
       "    <tr>\n",
       "      <th>4</th>\n",
       "      <td>1</td>\n",
       "      <td>Кира</td>\n",
       "      <td>22</td>\n",
       "      <td>Тюмень</td>\n",
       "      <td>ultra</td>\n",
       "      <td>4028.687306</td>\n",
       "      <td>26.265803</td>\n",
       "      <td>2021-08-28</td>\n",
       "      <td>8</td>\n",
       "      <td>4029</td>\n",
       "      <td>27</td>\n",
       "    </tr>\n",
       "  </tbody>\n",
       "</table>\n",
       "</div>"
      ],
      "text/plain": [
       "   user_id  name  age    city subscription_type     distance   duration  \\\n",
       "0        1  Кира   22  Тюмень             ultra  4409.919140  25.599769   \n",
       "1        1  Кира   22  Тюмень             ultra  2617.592153  15.816871   \n",
       "2        1  Кира   22  Тюмень             ultra   754.159807   6.232113   \n",
       "3        1  Кира   22  Тюмень             ultra  2694.783254  18.511000   \n",
       "4        1  Кира   22  Тюмень             ultra  4028.687306  26.265803   \n",
       "\n",
       "        date  month_number  distance_round  duration_round  \n",
       "0 2021-01-01             1            4410              26  \n",
       "1 2021-01-18             1            2618              16  \n",
       "2 2021-04-20             4             755               7  \n",
       "3 2021-08-11             8            2695              19  \n",
       "4 2021-08-28             8            4029              27  "
      ]
     },
     "execution_count": 35,
     "metadata": {},
     "output_type": "execute_result"
    }
   ],
   "source": [
    "# Объеденим сначала поездки с пользователями\n",
    "data_user_ride = data_users.merge(data_rides, on='user_id', how='left')\n",
    "data_user_ride.head()"
   ]
  },
  {
   "cell_type": "code",
   "execution_count": 36,
   "id": "c399b072",
   "metadata": {},
   "outputs": [
    {
     "data": {
      "text/html": [
       "<div>\n",
       "<style scoped>\n",
       "    .dataframe tbody tr th:only-of-type {\n",
       "        vertical-align: middle;\n",
       "    }\n",
       "\n",
       "    .dataframe tbody tr th {\n",
       "        vertical-align: top;\n",
       "    }\n",
       "\n",
       "    .dataframe thead th {\n",
       "        text-align: right;\n",
       "    }\n",
       "</style>\n",
       "<table border=\"1\" class=\"dataframe\">\n",
       "  <thead>\n",
       "    <tr style=\"text-align: right;\">\n",
       "      <th></th>\n",
       "      <th>user_id</th>\n",
       "      <th>name</th>\n",
       "      <th>age</th>\n",
       "      <th>city</th>\n",
       "      <th>subscription_type</th>\n",
       "      <th>distance</th>\n",
       "      <th>duration</th>\n",
       "      <th>date</th>\n",
       "      <th>month_number</th>\n",
       "      <th>distance_round</th>\n",
       "      <th>duration_round</th>\n",
       "      <th>minute_price</th>\n",
       "      <th>start_ride_price</th>\n",
       "      <th>subscription_fee</th>\n",
       "    </tr>\n",
       "  </thead>\n",
       "  <tbody>\n",
       "    <tr>\n",
       "      <th>0</th>\n",
       "      <td>1</td>\n",
       "      <td>Кира</td>\n",
       "      <td>22</td>\n",
       "      <td>Тюмень</td>\n",
       "      <td>ultra</td>\n",
       "      <td>4409.919140</td>\n",
       "      <td>25.599769</td>\n",
       "      <td>2021-01-01</td>\n",
       "      <td>1</td>\n",
       "      <td>4410</td>\n",
       "      <td>26</td>\n",
       "      <td>6</td>\n",
       "      <td>0</td>\n",
       "      <td>199</td>\n",
       "    </tr>\n",
       "    <tr>\n",
       "      <th>1</th>\n",
       "      <td>1</td>\n",
       "      <td>Кира</td>\n",
       "      <td>22</td>\n",
       "      <td>Тюмень</td>\n",
       "      <td>ultra</td>\n",
       "      <td>2617.592153</td>\n",
       "      <td>15.816871</td>\n",
       "      <td>2021-01-18</td>\n",
       "      <td>1</td>\n",
       "      <td>2618</td>\n",
       "      <td>16</td>\n",
       "      <td>6</td>\n",
       "      <td>0</td>\n",
       "      <td>199</td>\n",
       "    </tr>\n",
       "    <tr>\n",
       "      <th>2</th>\n",
       "      <td>1</td>\n",
       "      <td>Кира</td>\n",
       "      <td>22</td>\n",
       "      <td>Тюмень</td>\n",
       "      <td>ultra</td>\n",
       "      <td>754.159807</td>\n",
       "      <td>6.232113</td>\n",
       "      <td>2021-04-20</td>\n",
       "      <td>4</td>\n",
       "      <td>755</td>\n",
       "      <td>7</td>\n",
       "      <td>6</td>\n",
       "      <td>0</td>\n",
       "      <td>199</td>\n",
       "    </tr>\n",
       "    <tr>\n",
       "      <th>3</th>\n",
       "      <td>1</td>\n",
       "      <td>Кира</td>\n",
       "      <td>22</td>\n",
       "      <td>Тюмень</td>\n",
       "      <td>ultra</td>\n",
       "      <td>2694.783254</td>\n",
       "      <td>18.511000</td>\n",
       "      <td>2021-08-11</td>\n",
       "      <td>8</td>\n",
       "      <td>2695</td>\n",
       "      <td>19</td>\n",
       "      <td>6</td>\n",
       "      <td>0</td>\n",
       "      <td>199</td>\n",
       "    </tr>\n",
       "    <tr>\n",
       "      <th>4</th>\n",
       "      <td>1</td>\n",
       "      <td>Кира</td>\n",
       "      <td>22</td>\n",
       "      <td>Тюмень</td>\n",
       "      <td>ultra</td>\n",
       "      <td>4028.687306</td>\n",
       "      <td>26.265803</td>\n",
       "      <td>2021-08-28</td>\n",
       "      <td>8</td>\n",
       "      <td>4029</td>\n",
       "      <td>27</td>\n",
       "      <td>6</td>\n",
       "      <td>0</td>\n",
       "      <td>199</td>\n",
       "    </tr>\n",
       "  </tbody>\n",
       "</table>\n",
       "</div>"
      ],
      "text/plain": [
       "   user_id  name  age    city subscription_type     distance   duration  \\\n",
       "0        1  Кира   22  Тюмень             ultra  4409.919140  25.599769   \n",
       "1        1  Кира   22  Тюмень             ultra  2617.592153  15.816871   \n",
       "2        1  Кира   22  Тюмень             ultra   754.159807   6.232113   \n",
       "3        1  Кира   22  Тюмень             ultra  2694.783254  18.511000   \n",
       "4        1  Кира   22  Тюмень             ultra  4028.687306  26.265803   \n",
       "\n",
       "        date  month_number  distance_round  duration_round  minute_price  \\\n",
       "0 2021-01-01             1            4410              26             6   \n",
       "1 2021-01-18             1            2618              16             6   \n",
       "2 2021-04-20             4             755               7             6   \n",
       "3 2021-08-11             8            2695              19             6   \n",
       "4 2021-08-28             8            4029              27             6   \n",
       "\n",
       "   start_ride_price  subscription_fee  \n",
       "0                 0               199  \n",
       "1                 0               199  \n",
       "2                 0               199  \n",
       "3                 0               199  \n",
       "4                 0               199  "
      ]
     },
     "execution_count": 36,
     "metadata": {},
     "output_type": "execute_result"
    }
   ],
   "source": [
    "# теперь объеденим с подписками\n",
    "data = data_user_ride.merge(data_subs, on='subscription_type', how='left')\n",
    "data.head()"
   ]
  },
  {
   "cell_type": "code",
   "execution_count": 37,
   "id": "fc352ac4",
   "metadata": {},
   "outputs": [
    {
     "data": {
      "text/plain": [
       "user_id              0\n",
       "name                 0\n",
       "age                  0\n",
       "city                 0\n",
       "subscription_type    0\n",
       "distance             0\n",
       "duration             0\n",
       "date                 0\n",
       "month_number         0\n",
       "distance_round       0\n",
       "duration_round       0\n",
       "minute_price         0\n",
       "start_ride_price     0\n",
       "subscription_fee     0\n",
       "dtype: int64"
      ]
     },
     "execution_count": 37,
     "metadata": {},
     "output_type": "execute_result"
    }
   ],
   "source": [
    "#Посмотрим количество пропусков\n",
    "data.isna().sum()"
   ]
  },
  {
   "cell_type": "code",
   "execution_count": 38,
   "id": "81d9b4b5",
   "metadata": {},
   "outputs": [
    {
     "data": {
      "text/plain": [
       "(18068, 14)"
      ]
     },
     "execution_count": 38,
     "metadata": {},
     "output_type": "execute_result"
    }
   ],
   "source": [
    "# Теперь размерность таблицы\n",
    "data.shape"
   ]
  },
  {
   "cell_type": "code",
   "execution_count": 39,
   "id": "77890a93",
   "metadata": {},
   "outputs": [
    {
     "name": "stdout",
     "output_type": "stream",
     "text": [
      "<class 'pandas.core.frame.DataFrame'>\n",
      "Int64Index: 18068 entries, 0 to 18067\n",
      "Data columns (total 14 columns):\n",
      " #   Column             Non-Null Count  Dtype         \n",
      "---  ------             --------------  -----         \n",
      " 0   user_id            18068 non-null  int64         \n",
      " 1   name               18068 non-null  object        \n",
      " 2   age                18068 non-null  int64         \n",
      " 3   city               18068 non-null  object        \n",
      " 4   subscription_type  18068 non-null  object        \n",
      " 5   distance           18068 non-null  float64       \n",
      " 6   duration           18068 non-null  float64       \n",
      " 7   date               18068 non-null  datetime64[ns]\n",
      " 8   month_number       18068 non-null  int64         \n",
      " 9   distance_round     18068 non-null  int64         \n",
      " 10  duration_round     18068 non-null  int64         \n",
      " 11  minute_price       18068 non-null  int64         \n",
      " 12  start_ride_price   18068 non-null  int64         \n",
      " 13  subscription_fee   18068 non-null  int64         \n",
      "dtypes: datetime64[ns](1), float64(2), int64(8), object(3)\n",
      "memory usage: 2.1+ MB\n"
     ]
    }
   ],
   "source": [
    "data.info()"
   ]
  },
  {
   "cell_type": "markdown",
   "id": "f248ed20",
   "metadata": {},
   "source": [
    "##### Создайте ещё два датафрейма из датафрейма, созданного на этапе 4.1:\n",
    "- c данными о пользователях без подписки;\n",
    "- с данными о пользователях с подпиской."
   ]
  },
  {
   "cell_type": "code",
   "execution_count": 40,
   "id": "3ed8b8c5",
   "metadata": {},
   "outputs": [
    {
     "data": {
      "text/plain": [
       "18068"
      ]
     },
     "execution_count": 40,
     "metadata": {},
     "output_type": "execute_result"
    }
   ],
   "source": [
    "# Посмотрим изначальную длину\n",
    "len(data)"
   ]
  },
  {
   "cell_type": "code",
   "execution_count": 41,
   "id": "5a069b00",
   "metadata": {},
   "outputs": [
    {
     "name": "stdout",
     "output_type": "stream",
     "text": [
      "11568\n"
     ]
    },
    {
     "data": {
      "text/html": [
       "<div>\n",
       "<style scoped>\n",
       "    .dataframe tbody tr th:only-of-type {\n",
       "        vertical-align: middle;\n",
       "    }\n",
       "\n",
       "    .dataframe tbody tr th {\n",
       "        vertical-align: top;\n",
       "    }\n",
       "\n",
       "    .dataframe thead th {\n",
       "        text-align: right;\n",
       "    }\n",
       "</style>\n",
       "<table border=\"1\" class=\"dataframe\">\n",
       "  <thead>\n",
       "    <tr style=\"text-align: right;\">\n",
       "      <th></th>\n",
       "      <th>user_id</th>\n",
       "      <th>name</th>\n",
       "      <th>age</th>\n",
       "      <th>city</th>\n",
       "      <th>subscription_type</th>\n",
       "      <th>distance</th>\n",
       "      <th>duration</th>\n",
       "      <th>date</th>\n",
       "      <th>month_number</th>\n",
       "      <th>distance_round</th>\n",
       "      <th>duration_round</th>\n",
       "      <th>minute_price</th>\n",
       "      <th>start_ride_price</th>\n",
       "      <th>subscription_fee</th>\n",
       "    </tr>\n",
       "  </thead>\n",
       "  <tbody>\n",
       "    <tr>\n",
       "      <th>6500</th>\n",
       "      <td>700</td>\n",
       "      <td>Айдар</td>\n",
       "      <td>22</td>\n",
       "      <td>Омск</td>\n",
       "      <td>free</td>\n",
       "      <td>2515.690719</td>\n",
       "      <td>14.944286</td>\n",
       "      <td>2021-01-02</td>\n",
       "      <td>1</td>\n",
       "      <td>2516</td>\n",
       "      <td>15</td>\n",
       "      <td>8</td>\n",
       "      <td>50</td>\n",
       "      <td>0</td>\n",
       "    </tr>\n",
       "    <tr>\n",
       "      <th>6501</th>\n",
       "      <td>700</td>\n",
       "      <td>Айдар</td>\n",
       "      <td>22</td>\n",
       "      <td>Омск</td>\n",
       "      <td>free</td>\n",
       "      <td>846.932642</td>\n",
       "      <td>16.234663</td>\n",
       "      <td>2021-02-01</td>\n",
       "      <td>2</td>\n",
       "      <td>847</td>\n",
       "      <td>17</td>\n",
       "      <td>8</td>\n",
       "      <td>50</td>\n",
       "      <td>0</td>\n",
       "    </tr>\n",
       "    <tr>\n",
       "      <th>6502</th>\n",
       "      <td>700</td>\n",
       "      <td>Айдар</td>\n",
       "      <td>22</td>\n",
       "      <td>Омск</td>\n",
       "      <td>free</td>\n",
       "      <td>4004.434142</td>\n",
       "      <td>20.016628</td>\n",
       "      <td>2021-02-04</td>\n",
       "      <td>2</td>\n",
       "      <td>4005</td>\n",
       "      <td>21</td>\n",
       "      <td>8</td>\n",
       "      <td>50</td>\n",
       "      <td>0</td>\n",
       "    </tr>\n",
       "    <tr>\n",
       "      <th>6503</th>\n",
       "      <td>700</td>\n",
       "      <td>Айдар</td>\n",
       "      <td>22</td>\n",
       "      <td>Омск</td>\n",
       "      <td>free</td>\n",
       "      <td>1205.911290</td>\n",
       "      <td>9.782872</td>\n",
       "      <td>2021-02-10</td>\n",
       "      <td>2</td>\n",
       "      <td>1206</td>\n",
       "      <td>10</td>\n",
       "      <td>8</td>\n",
       "      <td>50</td>\n",
       "      <td>0</td>\n",
       "    </tr>\n",
       "    <tr>\n",
       "      <th>6504</th>\n",
       "      <td>700</td>\n",
       "      <td>Айдар</td>\n",
       "      <td>22</td>\n",
       "      <td>Омск</td>\n",
       "      <td>free</td>\n",
       "      <td>3047.379435</td>\n",
       "      <td>17.427673</td>\n",
       "      <td>2021-02-14</td>\n",
       "      <td>2</td>\n",
       "      <td>3048</td>\n",
       "      <td>18</td>\n",
       "      <td>8</td>\n",
       "      <td>50</td>\n",
       "      <td>0</td>\n",
       "    </tr>\n",
       "  </tbody>\n",
       "</table>\n",
       "</div>"
      ],
      "text/plain": [
       "      user_id   name  age  city subscription_type     distance   duration  \\\n",
       "6500      700  Айдар   22  Омск              free  2515.690719  14.944286   \n",
       "6501      700  Айдар   22  Омск              free   846.932642  16.234663   \n",
       "6502      700  Айдар   22  Омск              free  4004.434142  20.016628   \n",
       "6503      700  Айдар   22  Омск              free  1205.911290   9.782872   \n",
       "6504      700  Айдар   22  Омск              free  3047.379435  17.427673   \n",
       "\n",
       "           date  month_number  distance_round  duration_round  minute_price  \\\n",
       "6500 2021-01-02             1            2516              15             8   \n",
       "6501 2021-02-01             2             847              17             8   \n",
       "6502 2021-02-04             2            4005              21             8   \n",
       "6503 2021-02-10             2            1206              10             8   \n",
       "6504 2021-02-14             2            3048              18             8   \n",
       "\n",
       "      start_ride_price  subscription_fee  \n",
       "6500                50                 0  \n",
       "6501                50                 0  \n",
       "6502                50                 0  \n",
       "6503                50                 0  \n",
       "6504                50                 0  "
      ]
     },
     "execution_count": 41,
     "metadata": {},
     "output_type": "execute_result"
    }
   ],
   "source": [
    "# создадим дф с бесплатной подпиской и проверим, что все в порядке\n",
    "data_free = data[data['subscription_type'] == 'free']\n",
    "print(len(data_free))\n",
    "data_free.head()"
   ]
  },
  {
   "cell_type": "code",
   "execution_count": 42,
   "id": "fbf18c6e",
   "metadata": {},
   "outputs": [
    {
     "name": "stdout",
     "output_type": "stream",
     "text": [
      "6500\n"
     ]
    },
    {
     "data": {
      "text/html": [
       "<div>\n",
       "<style scoped>\n",
       "    .dataframe tbody tr th:only-of-type {\n",
       "        vertical-align: middle;\n",
       "    }\n",
       "\n",
       "    .dataframe tbody tr th {\n",
       "        vertical-align: top;\n",
       "    }\n",
       "\n",
       "    .dataframe thead th {\n",
       "        text-align: right;\n",
       "    }\n",
       "</style>\n",
       "<table border=\"1\" class=\"dataframe\">\n",
       "  <thead>\n",
       "    <tr style=\"text-align: right;\">\n",
       "      <th></th>\n",
       "      <th>user_id</th>\n",
       "      <th>name</th>\n",
       "      <th>age</th>\n",
       "      <th>city</th>\n",
       "      <th>subscription_type</th>\n",
       "      <th>distance</th>\n",
       "      <th>duration</th>\n",
       "      <th>date</th>\n",
       "      <th>month_number</th>\n",
       "      <th>distance_round</th>\n",
       "      <th>duration_round</th>\n",
       "      <th>minute_price</th>\n",
       "      <th>start_ride_price</th>\n",
       "      <th>subscription_fee</th>\n",
       "    </tr>\n",
       "  </thead>\n",
       "  <tbody>\n",
       "    <tr>\n",
       "      <th>0</th>\n",
       "      <td>1</td>\n",
       "      <td>Кира</td>\n",
       "      <td>22</td>\n",
       "      <td>Тюмень</td>\n",
       "      <td>ultra</td>\n",
       "      <td>4409.919140</td>\n",
       "      <td>25.599769</td>\n",
       "      <td>2021-01-01</td>\n",
       "      <td>1</td>\n",
       "      <td>4410</td>\n",
       "      <td>26</td>\n",
       "      <td>6</td>\n",
       "      <td>0</td>\n",
       "      <td>199</td>\n",
       "    </tr>\n",
       "    <tr>\n",
       "      <th>1</th>\n",
       "      <td>1</td>\n",
       "      <td>Кира</td>\n",
       "      <td>22</td>\n",
       "      <td>Тюмень</td>\n",
       "      <td>ultra</td>\n",
       "      <td>2617.592153</td>\n",
       "      <td>15.816871</td>\n",
       "      <td>2021-01-18</td>\n",
       "      <td>1</td>\n",
       "      <td>2618</td>\n",
       "      <td>16</td>\n",
       "      <td>6</td>\n",
       "      <td>0</td>\n",
       "      <td>199</td>\n",
       "    </tr>\n",
       "    <tr>\n",
       "      <th>2</th>\n",
       "      <td>1</td>\n",
       "      <td>Кира</td>\n",
       "      <td>22</td>\n",
       "      <td>Тюмень</td>\n",
       "      <td>ultra</td>\n",
       "      <td>754.159807</td>\n",
       "      <td>6.232113</td>\n",
       "      <td>2021-04-20</td>\n",
       "      <td>4</td>\n",
       "      <td>755</td>\n",
       "      <td>7</td>\n",
       "      <td>6</td>\n",
       "      <td>0</td>\n",
       "      <td>199</td>\n",
       "    </tr>\n",
       "    <tr>\n",
       "      <th>3</th>\n",
       "      <td>1</td>\n",
       "      <td>Кира</td>\n",
       "      <td>22</td>\n",
       "      <td>Тюмень</td>\n",
       "      <td>ultra</td>\n",
       "      <td>2694.783254</td>\n",
       "      <td>18.511000</td>\n",
       "      <td>2021-08-11</td>\n",
       "      <td>8</td>\n",
       "      <td>2695</td>\n",
       "      <td>19</td>\n",
       "      <td>6</td>\n",
       "      <td>0</td>\n",
       "      <td>199</td>\n",
       "    </tr>\n",
       "    <tr>\n",
       "      <th>4</th>\n",
       "      <td>1</td>\n",
       "      <td>Кира</td>\n",
       "      <td>22</td>\n",
       "      <td>Тюмень</td>\n",
       "      <td>ultra</td>\n",
       "      <td>4028.687306</td>\n",
       "      <td>26.265803</td>\n",
       "      <td>2021-08-28</td>\n",
       "      <td>8</td>\n",
       "      <td>4029</td>\n",
       "      <td>27</td>\n",
       "      <td>6</td>\n",
       "      <td>0</td>\n",
       "      <td>199</td>\n",
       "    </tr>\n",
       "  </tbody>\n",
       "</table>\n",
       "</div>"
      ],
      "text/plain": [
       "   user_id  name  age    city subscription_type     distance   duration  \\\n",
       "0        1  Кира   22  Тюмень             ultra  4409.919140  25.599769   \n",
       "1        1  Кира   22  Тюмень             ultra  2617.592153  15.816871   \n",
       "2        1  Кира   22  Тюмень             ultra   754.159807   6.232113   \n",
       "3        1  Кира   22  Тюмень             ultra  2694.783254  18.511000   \n",
       "4        1  Кира   22  Тюмень             ultra  4028.687306  26.265803   \n",
       "\n",
       "        date  month_number  distance_round  duration_round  minute_price  \\\n",
       "0 2021-01-01             1            4410              26             6   \n",
       "1 2021-01-18             1            2618              16             6   \n",
       "2 2021-04-20             4             755               7             6   \n",
       "3 2021-08-11             8            2695              19             6   \n",
       "4 2021-08-28             8            4029              27             6   \n",
       "\n",
       "   start_ride_price  subscription_fee  \n",
       "0                 0               199  \n",
       "1                 0               199  \n",
       "2                 0               199  \n",
       "3                 0               199  \n",
       "4                 0               199  "
      ]
     },
     "execution_count": 42,
     "metadata": {},
     "output_type": "execute_result"
    }
   ],
   "source": [
    "#создадим дф с платной подпиской\n",
    "data_ultra = data[data['subscription_type'] == 'ultra']\n",
    "print(len(data_ultra))\n",
    "data_ultra.head()"
   ]
  },
  {
   "cell_type": "markdown",
   "id": "f17575d2",
   "metadata": {},
   "source": [
    "##### Визуализируйте информацию о расстоянии и времени поездок для пользователей обеих категорий."
   ]
  },
  {
   "cell_type": "code",
   "execution_count": 43,
   "id": "7827badc",
   "metadata": {},
   "outputs": [
    {
     "data": {
      "image/png": "[encoded data removed]",
      "text/plain": [
       "<Figure size 432x288 with 1 Axes>"
      ]
     },
     "metadata": {
      "needs_background": "light"
     },
     "output_type": "display_data"
    },
    {
     "data": {
      "text/plain": [
       "count    11568.000000\n",
       "mean      3045.992911\n",
       "std       1246.174341\n",
       "min          1.000000\n",
       "25%       2367.000000\n",
       "50%       3115.000000\n",
       "75%       3906.000000\n",
       "max       7212.000000\n",
       "Name: distance_round, dtype: float64"
      ]
     },
     "execution_count": 43,
     "metadata": {},
     "output_type": "execute_result"
    }
   ],
   "source": [
    "# посмотрим сколько ездят с бесплатной подпиской\n",
    "ax = data_free['distance_round'].plot.hist(bins = 70)\n",
    "ax.set_title('Распределение дистанций')\n",
    "ax.set_xlabel('Расстояние, метров')\n",
    "ax.set_ylabel('Частота')\n",
    "ax.grid(True)\n",
    "plt.show()\n",
    "data_free['distance_round'].describe()"
   ]
  },
  {
   "cell_type": "code",
   "execution_count": 44,
   "id": "10f7e19f",
   "metadata": {},
   "outputs": [
    {
     "data": {
      "image/png": "[encoded data removed]",
      "text/plain": [
       "<Figure size 432x288 with 1 Axes>"
      ]
     },
     "metadata": {
      "needs_background": "light"
     },
     "output_type": "display_data"
    },
    {
     "data": {
      "text/plain": [
       "count    6500.000000\n",
       "mean     3115.949231\n",
       "std       836.894838\n",
       "min       245.000000\n",
       "25%      2786.000000\n",
       "50%      3149.000000\n",
       "75%      3561.000000\n",
       "max      5700.000000\n",
       "Name: distance_round, dtype: float64"
      ]
     },
     "execution_count": 44,
     "metadata": {},
     "output_type": "execute_result"
    }
   ],
   "source": [
    "ax = data_ultra['distance_round'].plot.hist(bins = 70)\n",
    "ax.set_title('Распределение дистанций')\n",
    "ax.set_xlabel('Расстояние, метров')\n",
    "ax.set_ylabel('Частота')\n",
    "ax.grid(True)\n",
    "plt.show()\n",
    "data_ultra['distance_round'].describe()"
   ]
  },
  {
   "cell_type": "code",
   "execution_count": 45,
   "id": "34d78938",
   "metadata": {},
   "outputs": [
    {
     "data": {
      "image/png": "[encoded data removed]",
      "text/plain": [
       "<Figure size 432x288 with 1 Axes>"
      ]
     },
     "metadata": {
      "needs_background": "light"
     },
     "output_type": "display_data"
    }
   ],
   "source": [
    "# Построим на одном графике 2 гистограммы, оранжевым обозначены распределения дистанций для пользователей с подпиской, синий - без\n",
    "ax = data_free['distance_round'].plot.hist(bins = 70)\n",
    "ax = data_ultra['distance_round'].plot.hist(bins = 70, alpha = 0.9)\n",
    "ax.set_title('Распределение дистанций')\n",
    "ax.set_xlabel('Расстояние, метров')\n",
    "ax.set_ylabel('Частота')\n",
    "ax.grid(True)\n",
    "plt.legend(['Без подписки', 'С подпиской'])\n",
    "plt.show()"
   ]
  },
  {
   "cell_type": "markdown",
   "id": "fee42ed0",
   "metadata": {},
   "source": [
    "Можно сделать следующие выводы:\n",
    "- Люди с подпиской имеют меньший разброс дистанций\n",
    "- Люди без подписки также имеют первый максимум левее, чем люди с подпиской, скорее всего это люди пробуют новый вид транспорта\n",
    "- Если смотреть на малые дистанции, то люди с подпиской гораздо дальше ездят при коротких поездках\n",
    "- Средние значения имеют практически одинаковые значения (3045 и 3115 метров)"
   ]
  },
  {
   "cell_type": "code",
   "execution_count": 46,
   "id": "8d7f9178",
   "metadata": {},
   "outputs": [
    {
     "data": {
      "image/png": "[encoded data removed]",
      "text/plain": [
       "<Figure size 432x288 with 1 Axes>"
      ]
     },
     "metadata": {
      "needs_background": "light"
     },
     "output_type": "display_data"
    },
    {
     "data": {
      "text/plain": [
       "count    11568.000000\n",
       "mean        17.390909\n",
       "std          6.326803\n",
       "min          0.500000\n",
       "25%         12.958437\n",
       "50%         17.326890\n",
       "75%         21.594071\n",
       "max         34.948498\n",
       "Name: duration, dtype: float64"
      ]
     },
     "execution_count": 46,
     "metadata": {},
     "output_type": "execute_result"
    }
   ],
   "source": [
    "# посмотрим сколько по времени ездят с бесплатной подпиской\n",
    "ax = data_free['duration'].plot.hist(bins = 35)\n",
    "ax.set_title('Распределение времен')\n",
    "ax.set_xlabel('Время')\n",
    "ax.set_ylabel('Частота')\n",
    "ax.grid(True)\n",
    "plt.show()\n",
    "data_free['duration'].describe()"
   ]
  },
  {
   "cell_type": "code",
   "execution_count": 47,
   "id": "14a5f139",
   "metadata": {},
   "outputs": [
    {
     "data": {
      "image/png": "[encoded data removed]",
      "text/plain": [
       "<Figure size 432x288 with 1 Axes>"
      ]
     },
     "metadata": {
      "needs_background": "light"
     },
     "output_type": "display_data"
    },
    {
     "data": {
      "text/plain": [
       "count    6500.000000\n",
       "mean       18.541985\n",
       "std         5.572048\n",
       "min         3.760353\n",
       "25%        14.524654\n",
       "50%        18.178153\n",
       "75%        21.884129\n",
       "max        40.823963\n",
       "Name: duration, dtype: float64"
      ]
     },
     "execution_count": 47,
     "metadata": {},
     "output_type": "execute_result"
    }
   ],
   "source": [
    "# теперь сколько с платной подпиской\n",
    "ax = data_ultra['duration'].plot.hist(bins = 38)\n",
    "ax.set_title('Распределение времен')\n",
    "ax.set_xlabel('Время')\n",
    "ax.set_ylabel('Частота')\n",
    "ax.grid(True)\n",
    "plt.show()\n",
    "data_ultra['duration'].describe()"
   ]
  },
  {
   "cell_type": "code",
   "execution_count": 48,
   "id": "b0e415f7",
   "metadata": {},
   "outputs": [
    {
     "data": {
      "image/png": "[encoded data removed]",
      "text/plain": [
       "<Figure size 432x288 with 1 Axes>"
      ]
     },
     "metadata": {
      "needs_background": "light"
     },
     "output_type": "display_data"
    }
   ],
   "source": [
    "# Построим на одном графике 2 гистограммы, оранжевым обозначены распределения времен для пользователей с подпиской, синий - без\n",
    "ax = data_free['duration'].plot.hist(bins = 35)\n",
    "ax = data_ultra['duration'].plot.hist(bins = 38, alpha=0.9)\n",
    "ax.set_title('Распределение времен')\n",
    "ax.set_xlabel('Время')\n",
    "ax.set_ylabel('Количество')\n",
    "ax.grid(True)\n",
    "plt.legend(['Без подписки', 'С подпиской'])\n",
    "plt.show()"
   ]
  },
  {
   "cell_type": "markdown",
   "id": "bf47838d",
   "metadata": {},
   "source": [
    "Здесь можно отметить следующее:\n",
    "- В среднем люди с подпиской ездят на минуту дольше, а если учесть, что макимальная продолжительность 41 минута, это не такая уж и маленькая разница\n",
    "- Много людей без подписки пытались прокатиться на самокате, но сразу же отключались, возможно они бронировали по ошибке, возможно из-за непонимания интерфейса программы\n",
    "- Разброс времен у людей без подписок снова больше"
   ]
  },
  {
   "cell_type": "markdown",
   "id": "c290be23",
   "metadata": {},
   "source": [
    "<b>Итого:</b>\n",
    "- изначальные данные объеденены в одну таблицу\n",
    "- созданы 2 датафрейма с людьми с подпиской и без\n",
    "- рассмотрено поведение людей с подпиской и без:\n",
    "    - люди с подпиской ездят на 1 минуту дольше\n",
    "    - люди с подпиской короткую поездку ездят дальше (на 1 км против 500 метров)\n",
    "    - люди без подписки имеют больший разброс премен и дистанций\n",
    "- часть людей без подписок арендовали самокат и сразу выключали"
   ]
  },
  {
   "cell_type": "markdown",
   "id": "402d620f",
   "metadata": {},
   "source": [
    "#### Шаг 5. Подсчёт выручки"
   ]
  },
  {
   "cell_type": "markdown",
   "id": "924a2554",
   "metadata": {},
   "source": [
    "##### Создайте датафрейм с агрегированными данными о поездках на основе датафрейма с объединёнными данными из шага 4: найдите суммарное расстояние, количество поездок и суммарное время для каждого пользователя за каждый месяц."
   ]
  },
  {
   "cell_type": "code",
   "execution_count": 49,
   "id": "fbab3888",
   "metadata": {},
   "outputs": [
    {
     "data": {
      "text/html": [
       "<div>\n",
       "<style scoped>\n",
       "    .dataframe tbody tr th:only-of-type {\n",
       "        vertical-align: middle;\n",
       "    }\n",
       "\n",
       "    .dataframe tbody tr th {\n",
       "        vertical-align: top;\n",
       "    }\n",
       "\n",
       "    .dataframe thead tr th {\n",
       "        text-align: left;\n",
       "    }\n",
       "\n",
       "    .dataframe thead tr:last-of-type th {\n",
       "        text-align: right;\n",
       "    }\n",
       "</style>\n",
       "<table border=\"1\" class=\"dataframe\">\n",
       "  <thead>\n",
       "    <tr>\n",
       "      <th></th>\n",
       "      <th></th>\n",
       "      <th></th>\n",
       "      <th colspan=\"2\" halign=\"left\">sum</th>\n",
       "      <th colspan=\"2\" halign=\"left\">count</th>\n",
       "    </tr>\n",
       "    <tr>\n",
       "      <th></th>\n",
       "      <th></th>\n",
       "      <th></th>\n",
       "      <th>distance</th>\n",
       "      <th>duration</th>\n",
       "      <th>distance</th>\n",
       "      <th>duration</th>\n",
       "    </tr>\n",
       "    <tr>\n",
       "      <th>user_id</th>\n",
       "      <th>month_number</th>\n",
       "      <th>subscription_type</th>\n",
       "      <th></th>\n",
       "      <th></th>\n",
       "      <th></th>\n",
       "      <th></th>\n",
       "    </tr>\n",
       "  </thead>\n",
       "  <tbody>\n",
       "    <tr>\n",
       "      <th rowspan=\"5\" valign=\"top\">1</th>\n",
       "      <th>1</th>\n",
       "      <th>ultra</th>\n",
       "      <td>7027.511294</td>\n",
       "      <td>41.416640</td>\n",
       "      <td>2</td>\n",
       "      <td>2</td>\n",
       "    </tr>\n",
       "    <tr>\n",
       "      <th>4</th>\n",
       "      <th>ultra</th>\n",
       "      <td>754.159807</td>\n",
       "      <td>6.232113</td>\n",
       "      <td>1</td>\n",
       "      <td>1</td>\n",
       "    </tr>\n",
       "    <tr>\n",
       "      <th>8</th>\n",
       "      <th>ultra</th>\n",
       "      <td>6723.470560</td>\n",
       "      <td>44.776802</td>\n",
       "      <td>2</td>\n",
       "      <td>2</td>\n",
       "    </tr>\n",
       "    <tr>\n",
       "      <th>10</th>\n",
       "      <th>ultra</th>\n",
       "      <td>5809.911100</td>\n",
       "      <td>31.578017</td>\n",
       "      <td>2</td>\n",
       "      <td>2</td>\n",
       "    </tr>\n",
       "    <tr>\n",
       "      <th>11</th>\n",
       "      <th>ultra</th>\n",
       "      <td>7003.499363</td>\n",
       "      <td>53.397424</td>\n",
       "      <td>3</td>\n",
       "      <td>3</td>\n",
       "    </tr>\n",
       "    <tr>\n",
       "      <th>...</th>\n",
       "      <th>...</th>\n",
       "      <th>...</th>\n",
       "      <td>...</td>\n",
       "      <td>...</td>\n",
       "      <td>...</td>\n",
       "      <td>...</td>\n",
       "    </tr>\n",
       "    <tr>\n",
       "      <th rowspan=\"5\" valign=\"top\">1534</th>\n",
       "      <th>6</th>\n",
       "      <th>free</th>\n",
       "      <td>3409.468534</td>\n",
       "      <td>24.812678</td>\n",
       "      <td>2</td>\n",
       "      <td>2</td>\n",
       "    </tr>\n",
       "    <tr>\n",
       "      <th>8</th>\n",
       "      <th>free</th>\n",
       "      <td>7622.453034</td>\n",
       "      <td>47.205960</td>\n",
       "      <td>2</td>\n",
       "      <td>2</td>\n",
       "    </tr>\n",
       "    <tr>\n",
       "      <th>9</th>\n",
       "      <th>free</th>\n",
       "      <td>4928.173852</td>\n",
       "      <td>22.560373</td>\n",
       "      <td>1</td>\n",
       "      <td>1</td>\n",
       "    </tr>\n",
       "    <tr>\n",
       "      <th>11</th>\n",
       "      <th>free</th>\n",
       "      <td>13350.015305</td>\n",
       "      <td>76.342174</td>\n",
       "      <td>4</td>\n",
       "      <td>4</td>\n",
       "    </tr>\n",
       "    <tr>\n",
       "      <th>12</th>\n",
       "      <th>free</th>\n",
       "      <td>2371.711192</td>\n",
       "      <td>15.893917</td>\n",
       "      <td>1</td>\n",
       "      <td>1</td>\n",
       "    </tr>\n",
       "  </tbody>\n",
       "</table>\n",
       "<p>11331 rows × 4 columns</p>\n",
       "</div>"
      ],
      "text/plain": [
       "                                                 sum               count  \\\n",
       "                                            distance   duration distance   \n",
       "user_id month_number subscription_type                                     \n",
       "1       1            ultra               7027.511294  41.416640        2   \n",
       "        4            ultra                754.159807   6.232113        1   \n",
       "        8            ultra               6723.470560  44.776802        2   \n",
       "        10           ultra               5809.911100  31.578017        2   \n",
       "        11           ultra               7003.499363  53.397424        3   \n",
       "...                                              ...        ...      ...   \n",
       "1534    6            free                3409.468534  24.812678        2   \n",
       "        8            free                7622.453034  47.205960        2   \n",
       "        9            free                4928.173852  22.560373        1   \n",
       "        11           free               13350.015305  76.342174        4   \n",
       "        12           free                2371.711192  15.893917        1   \n",
       "\n",
       "                                                 \n",
       "                                       duration  \n",
       "user_id month_number subscription_type           \n",
       "1       1            ultra                    2  \n",
       "        4            ultra                    1  \n",
       "        8            ultra                    2  \n",
       "        10           ultra                    2  \n",
       "        11           ultra                    3  \n",
       "...                                         ...  \n",
       "1534    6            free                     2  \n",
       "        8            free                     2  \n",
       "        9            free                     1  \n",
       "        11           free                     4  \n",
       "        12           free                     1  \n",
       "\n",
       "[11331 rows x 4 columns]"
      ]
     },
     "execution_count": 49,
     "metadata": {},
     "output_type": "execute_result"
    }
   ],
   "source": [
    "# создаем датафрейм с суммарной дистанцией, продролжительностью и количеством поездок каждлого пользователя за месяц\n",
    "data_group = data.pivot_table(index=['user_id', 'month_number', 'subscription_type'], values=['distance', 'duration'], aggfunc=['sum', 'count'])\n",
    "data_group"
   ]
  },
  {
   "cell_type": "code",
   "execution_count": 50,
   "id": "e7257d1d",
   "metadata": {},
   "outputs": [
    {
     "data": {
      "text/html": [
       "<div>\n",
       "<style scoped>\n",
       "    .dataframe tbody tr th:only-of-type {\n",
       "        vertical-align: middle;\n",
       "    }\n",
       "\n",
       "    .dataframe tbody tr th {\n",
       "        vertical-align: top;\n",
       "    }\n",
       "\n",
       "    .dataframe thead th {\n",
       "        text-align: right;\n",
       "    }\n",
       "</style>\n",
       "<table border=\"1\" class=\"dataframe\">\n",
       "  <thead>\n",
       "    <tr style=\"text-align: right;\">\n",
       "      <th></th>\n",
       "      <th></th>\n",
       "      <th></th>\n",
       "      <th>sum_distance</th>\n",
       "      <th>sum_duration</th>\n",
       "      <th>count_rides</th>\n",
       "      <th>count_rides_copy</th>\n",
       "    </tr>\n",
       "    <tr>\n",
       "      <th>user_id</th>\n",
       "      <th>month_number</th>\n",
       "      <th>subscription_type</th>\n",
       "      <th></th>\n",
       "      <th></th>\n",
       "      <th></th>\n",
       "      <th></th>\n",
       "    </tr>\n",
       "  </thead>\n",
       "  <tbody>\n",
       "    <tr>\n",
       "      <th rowspan=\"5\" valign=\"top\">1</th>\n",
       "      <th>1</th>\n",
       "      <th>ultra</th>\n",
       "      <td>7027.511294</td>\n",
       "      <td>41.416640</td>\n",
       "      <td>2</td>\n",
       "      <td>2</td>\n",
       "    </tr>\n",
       "    <tr>\n",
       "      <th>4</th>\n",
       "      <th>ultra</th>\n",
       "      <td>754.159807</td>\n",
       "      <td>6.232113</td>\n",
       "      <td>1</td>\n",
       "      <td>1</td>\n",
       "    </tr>\n",
       "    <tr>\n",
       "      <th>8</th>\n",
       "      <th>ultra</th>\n",
       "      <td>6723.470560</td>\n",
       "      <td>44.776802</td>\n",
       "      <td>2</td>\n",
       "      <td>2</td>\n",
       "    </tr>\n",
       "    <tr>\n",
       "      <th>10</th>\n",
       "      <th>ultra</th>\n",
       "      <td>5809.911100</td>\n",
       "      <td>31.578017</td>\n",
       "      <td>2</td>\n",
       "      <td>2</td>\n",
       "    </tr>\n",
       "    <tr>\n",
       "      <th>11</th>\n",
       "      <th>ultra</th>\n",
       "      <td>7003.499363</td>\n",
       "      <td>53.397424</td>\n",
       "      <td>3</td>\n",
       "      <td>3</td>\n",
       "    </tr>\n",
       "    <tr>\n",
       "      <th>...</th>\n",
       "      <th>...</th>\n",
       "      <th>...</th>\n",
       "      <td>...</td>\n",
       "      <td>...</td>\n",
       "      <td>...</td>\n",
       "      <td>...</td>\n",
       "    </tr>\n",
       "    <tr>\n",
       "      <th rowspan=\"5\" valign=\"top\">1534</th>\n",
       "      <th>6</th>\n",
       "      <th>free</th>\n",
       "      <td>3409.468534</td>\n",
       "      <td>24.812678</td>\n",
       "      <td>2</td>\n",
       "      <td>2</td>\n",
       "    </tr>\n",
       "    <tr>\n",
       "      <th>8</th>\n",
       "      <th>free</th>\n",
       "      <td>7622.453034</td>\n",
       "      <td>47.205960</td>\n",
       "      <td>2</td>\n",
       "      <td>2</td>\n",
       "    </tr>\n",
       "    <tr>\n",
       "      <th>9</th>\n",
       "      <th>free</th>\n",
       "      <td>4928.173852</td>\n",
       "      <td>22.560373</td>\n",
       "      <td>1</td>\n",
       "      <td>1</td>\n",
       "    </tr>\n",
       "    <tr>\n",
       "      <th>11</th>\n",
       "      <th>free</th>\n",
       "      <td>13350.015305</td>\n",
       "      <td>76.342174</td>\n",
       "      <td>4</td>\n",
       "      <td>4</td>\n",
       "    </tr>\n",
       "    <tr>\n",
       "      <th>12</th>\n",
       "      <th>free</th>\n",
       "      <td>2371.711192</td>\n",
       "      <td>15.893917</td>\n",
       "      <td>1</td>\n",
       "      <td>1</td>\n",
       "    </tr>\n",
       "  </tbody>\n",
       "</table>\n",
       "<p>11331 rows × 4 columns</p>\n",
       "</div>"
      ],
      "text/plain": [
       "                                        sum_distance  sum_duration  \\\n",
       "user_id month_number subscription_type                               \n",
       "1       1            ultra               7027.511294     41.416640   \n",
       "        4            ultra                754.159807      6.232113   \n",
       "        8            ultra               6723.470560     44.776802   \n",
       "        10           ultra               5809.911100     31.578017   \n",
       "        11           ultra               7003.499363     53.397424   \n",
       "...                                              ...           ...   \n",
       "1534    6            free                3409.468534     24.812678   \n",
       "        8            free                7622.453034     47.205960   \n",
       "        9            free                4928.173852     22.560373   \n",
       "        11           free               13350.015305     76.342174   \n",
       "        12           free                2371.711192     15.893917   \n",
       "\n",
       "                                        count_rides  count_rides_copy  \n",
       "user_id month_number subscription_type                                 \n",
       "1       1            ultra                        2                 2  \n",
       "        4            ultra                        1                 1  \n",
       "        8            ultra                        2                 2  \n",
       "        10           ultra                        2                 2  \n",
       "        11           ultra                        3                 3  \n",
       "...                                             ...               ...  \n",
       "1534    6            free                         2                 2  \n",
       "        8            free                         2                 2  \n",
       "        9            free                         1                 1  \n",
       "        11           free                         4                 4  \n",
       "        12           free                         1                 1  \n",
       "\n",
       "[11331 rows x 4 columns]"
      ]
     },
     "execution_count": 50,
     "metadata": {},
     "output_type": "execute_result"
    }
   ],
   "source": [
    "# переименовываем колонки для простоты\n",
    "data_group.columns = ['sum_distance', 'sum_duration', 'count_rides', 'count_rides_copy']\n",
    "data_group"
   ]
  },
  {
   "cell_type": "code",
   "execution_count": 51,
   "id": "3a96b937",
   "metadata": {},
   "outputs": [
    {
     "data": {
      "text/html": [
       "<div>\n",
       "<style scoped>\n",
       "    .dataframe tbody tr th:only-of-type {\n",
       "        vertical-align: middle;\n",
       "    }\n",
       "\n",
       "    .dataframe tbody tr th {\n",
       "        vertical-align: top;\n",
       "    }\n",
       "\n",
       "    .dataframe thead th {\n",
       "        text-align: right;\n",
       "    }\n",
       "</style>\n",
       "<table border=\"1\" class=\"dataframe\">\n",
       "  <thead>\n",
       "    <tr style=\"text-align: right;\">\n",
       "      <th></th>\n",
       "      <th></th>\n",
       "      <th></th>\n",
       "      <th>sum_distance</th>\n",
       "      <th>sum_duration</th>\n",
       "      <th>count_rides</th>\n",
       "    </tr>\n",
       "    <tr>\n",
       "      <th>user_id</th>\n",
       "      <th>month_number</th>\n",
       "      <th>subscription_type</th>\n",
       "      <th></th>\n",
       "      <th></th>\n",
       "      <th></th>\n",
       "    </tr>\n",
       "  </thead>\n",
       "  <tbody>\n",
       "    <tr>\n",
       "      <th rowspan=\"5\" valign=\"top\">1</th>\n",
       "      <th>1</th>\n",
       "      <th>ultra</th>\n",
       "      <td>7027.511294</td>\n",
       "      <td>41.416640</td>\n",
       "      <td>2</td>\n",
       "    </tr>\n",
       "    <tr>\n",
       "      <th>4</th>\n",
       "      <th>ultra</th>\n",
       "      <td>754.159807</td>\n",
       "      <td>6.232113</td>\n",
       "      <td>1</td>\n",
       "    </tr>\n",
       "    <tr>\n",
       "      <th>8</th>\n",
       "      <th>ultra</th>\n",
       "      <td>6723.470560</td>\n",
       "      <td>44.776802</td>\n",
       "      <td>2</td>\n",
       "    </tr>\n",
       "    <tr>\n",
       "      <th>10</th>\n",
       "      <th>ultra</th>\n",
       "      <td>5809.911100</td>\n",
       "      <td>31.578017</td>\n",
       "      <td>2</td>\n",
       "    </tr>\n",
       "    <tr>\n",
       "      <th>11</th>\n",
       "      <th>ultra</th>\n",
       "      <td>7003.499363</td>\n",
       "      <td>53.397424</td>\n",
       "      <td>3</td>\n",
       "    </tr>\n",
       "    <tr>\n",
       "      <th>...</th>\n",
       "      <th>...</th>\n",
       "      <th>...</th>\n",
       "      <td>...</td>\n",
       "      <td>...</td>\n",
       "      <td>...</td>\n",
       "    </tr>\n",
       "    <tr>\n",
       "      <th rowspan=\"5\" valign=\"top\">1534</th>\n",
       "      <th>6</th>\n",
       "      <th>free</th>\n",
       "      <td>3409.468534</td>\n",
       "      <td>24.812678</td>\n",
       "      <td>2</td>\n",
       "    </tr>\n",
       "    <tr>\n",
       "      <th>8</th>\n",
       "      <th>free</th>\n",
       "      <td>7622.453034</td>\n",
       "      <td>47.205960</td>\n",
       "      <td>2</td>\n",
       "    </tr>\n",
       "    <tr>\n",
       "      <th>9</th>\n",
       "      <th>free</th>\n",
       "      <td>4928.173852</td>\n",
       "      <td>22.560373</td>\n",
       "      <td>1</td>\n",
       "    </tr>\n",
       "    <tr>\n",
       "      <th>11</th>\n",
       "      <th>free</th>\n",
       "      <td>13350.015305</td>\n",
       "      <td>76.342174</td>\n",
       "      <td>4</td>\n",
       "    </tr>\n",
       "    <tr>\n",
       "      <th>12</th>\n",
       "      <th>free</th>\n",
       "      <td>2371.711192</td>\n",
       "      <td>15.893917</td>\n",
       "      <td>1</td>\n",
       "    </tr>\n",
       "  </tbody>\n",
       "</table>\n",
       "<p>11331 rows × 3 columns</p>\n",
       "</div>"
      ],
      "text/plain": [
       "                                        sum_distance  sum_duration  \\\n",
       "user_id month_number subscription_type                               \n",
       "1       1            ultra               7027.511294     41.416640   \n",
       "        4            ultra                754.159807      6.232113   \n",
       "        8            ultra               6723.470560     44.776802   \n",
       "        10           ultra               5809.911100     31.578017   \n",
       "        11           ultra               7003.499363     53.397424   \n",
       "...                                              ...           ...   \n",
       "1534    6            free                3409.468534     24.812678   \n",
       "        8            free                7622.453034     47.205960   \n",
       "        9            free                4928.173852     22.560373   \n",
       "        11           free               13350.015305     76.342174   \n",
       "        12           free                2371.711192     15.893917   \n",
       "\n",
       "                                        count_rides  \n",
       "user_id month_number subscription_type               \n",
       "1       1            ultra                        2  \n",
       "        4            ultra                        1  \n",
       "        8            ultra                        2  \n",
       "        10           ultra                        2  \n",
       "        11           ultra                        3  \n",
       "...                                             ...  \n",
       "1534    6            free                         2  \n",
       "        8            free                         2  \n",
       "        9            free                         1  \n",
       "        11           free                         4  \n",
       "        12           free                         1  \n",
       "\n",
       "[11331 rows x 3 columns]"
      ]
     },
     "execution_count": 51,
     "metadata": {},
     "output_type": "execute_result"
    }
   ],
   "source": [
    "# удаляем лишний столбец с количеством поездок\n",
    "data_group = data_group.drop(columns='count_rides_copy')\n",
    "data_group"
   ]
  },
  {
   "cell_type": "markdown",
   "id": "23962fbb",
   "metadata": {},
   "source": [
    "##### В этот же датафрейм добавьте столбец с помесячной выручкой, которую принёс каждый пользователь. Для этого обратитесь к информации об условиях оплаты для подписчиков и тех, у кого нет подписки"
   ]
  },
  {
   "cell_type": "code",
   "execution_count": 52,
   "id": "f5cbda0f",
   "metadata": {},
   "outputs": [
    {
     "data": {
      "text/html": [
       "<div>\n",
       "<style scoped>\n",
       "    .dataframe tbody tr th:only-of-type {\n",
       "        vertical-align: middle;\n",
       "    }\n",
       "\n",
       "    .dataframe tbody tr th {\n",
       "        vertical-align: top;\n",
       "    }\n",
       "\n",
       "    .dataframe thead th {\n",
       "        text-align: right;\n",
       "    }\n",
       "</style>\n",
       "<table border=\"1\" class=\"dataframe\">\n",
       "  <thead>\n",
       "    <tr style=\"text-align: right;\">\n",
       "      <th></th>\n",
       "      <th>user_id</th>\n",
       "      <th>name</th>\n",
       "      <th>age</th>\n",
       "      <th>city</th>\n",
       "      <th>subscription_type</th>\n",
       "      <th>distance</th>\n",
       "      <th>duration</th>\n",
       "      <th>date</th>\n",
       "      <th>month_number</th>\n",
       "      <th>distance_round</th>\n",
       "      <th>duration_round</th>\n",
       "      <th>minute_price</th>\n",
       "      <th>start_ride_price</th>\n",
       "      <th>subscription_fee</th>\n",
       "      <th>income_ride</th>\n",
       "    </tr>\n",
       "  </thead>\n",
       "  <tbody>\n",
       "    <tr>\n",
       "      <th>0</th>\n",
       "      <td>1</td>\n",
       "      <td>Кира</td>\n",
       "      <td>22</td>\n",
       "      <td>Тюмень</td>\n",
       "      <td>ultra</td>\n",
       "      <td>4409.919140</td>\n",
       "      <td>25.599769</td>\n",
       "      <td>2021-01-01</td>\n",
       "      <td>1</td>\n",
       "      <td>4410</td>\n",
       "      <td>26</td>\n",
       "      <td>6</td>\n",
       "      <td>0</td>\n",
       "      <td>199</td>\n",
       "      <td>156</td>\n",
       "    </tr>\n",
       "    <tr>\n",
       "      <th>1</th>\n",
       "      <td>1</td>\n",
       "      <td>Кира</td>\n",
       "      <td>22</td>\n",
       "      <td>Тюмень</td>\n",
       "      <td>ultra</td>\n",
       "      <td>2617.592153</td>\n",
       "      <td>15.816871</td>\n",
       "      <td>2021-01-18</td>\n",
       "      <td>1</td>\n",
       "      <td>2618</td>\n",
       "      <td>16</td>\n",
       "      <td>6</td>\n",
       "      <td>0</td>\n",
       "      <td>199</td>\n",
       "      <td>96</td>\n",
       "    </tr>\n",
       "    <tr>\n",
       "      <th>2</th>\n",
       "      <td>1</td>\n",
       "      <td>Кира</td>\n",
       "      <td>22</td>\n",
       "      <td>Тюмень</td>\n",
       "      <td>ultra</td>\n",
       "      <td>754.159807</td>\n",
       "      <td>6.232113</td>\n",
       "      <td>2021-04-20</td>\n",
       "      <td>4</td>\n",
       "      <td>755</td>\n",
       "      <td>7</td>\n",
       "      <td>6</td>\n",
       "      <td>0</td>\n",
       "      <td>199</td>\n",
       "      <td>42</td>\n",
       "    </tr>\n",
       "    <tr>\n",
       "      <th>3</th>\n",
       "      <td>1</td>\n",
       "      <td>Кира</td>\n",
       "      <td>22</td>\n",
       "      <td>Тюмень</td>\n",
       "      <td>ultra</td>\n",
       "      <td>2694.783254</td>\n",
       "      <td>18.511000</td>\n",
       "      <td>2021-08-11</td>\n",
       "      <td>8</td>\n",
       "      <td>2695</td>\n",
       "      <td>19</td>\n",
       "      <td>6</td>\n",
       "      <td>0</td>\n",
       "      <td>199</td>\n",
       "      <td>114</td>\n",
       "    </tr>\n",
       "    <tr>\n",
       "      <th>4</th>\n",
       "      <td>1</td>\n",
       "      <td>Кира</td>\n",
       "      <td>22</td>\n",
       "      <td>Тюмень</td>\n",
       "      <td>ultra</td>\n",
       "      <td>4028.687306</td>\n",
       "      <td>26.265803</td>\n",
       "      <td>2021-08-28</td>\n",
       "      <td>8</td>\n",
       "      <td>4029</td>\n",
       "      <td>27</td>\n",
       "      <td>6</td>\n",
       "      <td>0</td>\n",
       "      <td>199</td>\n",
       "      <td>162</td>\n",
       "    </tr>\n",
       "    <tr>\n",
       "      <th>...</th>\n",
       "      <td>...</td>\n",
       "      <td>...</td>\n",
       "      <td>...</td>\n",
       "      <td>...</td>\n",
       "      <td>...</td>\n",
       "      <td>...</td>\n",
       "      <td>...</td>\n",
       "      <td>...</td>\n",
       "      <td>...</td>\n",
       "      <td>...</td>\n",
       "      <td>...</td>\n",
       "      <td>...</td>\n",
       "      <td>...</td>\n",
       "      <td>...</td>\n",
       "      <td>...</td>\n",
       "    </tr>\n",
       "    <tr>\n",
       "      <th>18063</th>\n",
       "      <td>1534</td>\n",
       "      <td>Альберт</td>\n",
       "      <td>25</td>\n",
       "      <td>Краснодар</td>\n",
       "      <td>free</td>\n",
       "      <td>3781.098080</td>\n",
       "      <td>19.822962</td>\n",
       "      <td>2021-11-04</td>\n",
       "      <td>11</td>\n",
       "      <td>3782</td>\n",
       "      <td>20</td>\n",
       "      <td>8</td>\n",
       "      <td>50</td>\n",
       "      <td>0</td>\n",
       "      <td>210</td>\n",
       "    </tr>\n",
       "    <tr>\n",
       "      <th>18064</th>\n",
       "      <td>1534</td>\n",
       "      <td>Альберт</td>\n",
       "      <td>25</td>\n",
       "      <td>Краснодар</td>\n",
       "      <td>free</td>\n",
       "      <td>2840.423057</td>\n",
       "      <td>21.409799</td>\n",
       "      <td>2021-11-16</td>\n",
       "      <td>11</td>\n",
       "      <td>2841</td>\n",
       "      <td>22</td>\n",
       "      <td>8</td>\n",
       "      <td>50</td>\n",
       "      <td>0</td>\n",
       "      <td>226</td>\n",
       "    </tr>\n",
       "    <tr>\n",
       "      <th>18065</th>\n",
       "      <td>1534</td>\n",
       "      <td>Альберт</td>\n",
       "      <td>25</td>\n",
       "      <td>Краснодар</td>\n",
       "      <td>free</td>\n",
       "      <td>3826.185507</td>\n",
       "      <td>18.435051</td>\n",
       "      <td>2021-11-18</td>\n",
       "      <td>11</td>\n",
       "      <td>3827</td>\n",
       "      <td>19</td>\n",
       "      <td>8</td>\n",
       "      <td>50</td>\n",
       "      <td>0</td>\n",
       "      <td>202</td>\n",
       "    </tr>\n",
       "    <tr>\n",
       "      <th>18066</th>\n",
       "      <td>1534</td>\n",
       "      <td>Альберт</td>\n",
       "      <td>25</td>\n",
       "      <td>Краснодар</td>\n",
       "      <td>free</td>\n",
       "      <td>2902.308661</td>\n",
       "      <td>16.674362</td>\n",
       "      <td>2021-11-27</td>\n",
       "      <td>11</td>\n",
       "      <td>2903</td>\n",
       "      <td>17</td>\n",
       "      <td>8</td>\n",
       "      <td>50</td>\n",
       "      <td>0</td>\n",
       "      <td>186</td>\n",
       "    </tr>\n",
       "    <tr>\n",
       "      <th>18067</th>\n",
       "      <td>1534</td>\n",
       "      <td>Альберт</td>\n",
       "      <td>25</td>\n",
       "      <td>Краснодар</td>\n",
       "      <td>free</td>\n",
       "      <td>2371.711192</td>\n",
       "      <td>15.893917</td>\n",
       "      <td>2021-12-29</td>\n",
       "      <td>12</td>\n",
       "      <td>2372</td>\n",
       "      <td>16</td>\n",
       "      <td>8</td>\n",
       "      <td>50</td>\n",
       "      <td>0</td>\n",
       "      <td>178</td>\n",
       "    </tr>\n",
       "  </tbody>\n",
       "</table>\n",
       "<p>18068 rows × 15 columns</p>\n",
       "</div>"
      ],
      "text/plain": [
       "       user_id     name  age       city subscription_type     distance  \\\n",
       "0            1     Кира   22     Тюмень             ultra  4409.919140   \n",
       "1            1     Кира   22     Тюмень             ultra  2617.592153   \n",
       "2            1     Кира   22     Тюмень             ultra   754.159807   \n",
       "3            1     Кира   22     Тюмень             ultra  2694.783254   \n",
       "4            1     Кира   22     Тюмень             ultra  4028.687306   \n",
       "...        ...      ...  ...        ...               ...          ...   \n",
       "18063     1534  Альберт   25  Краснодар              free  3781.098080   \n",
       "18064     1534  Альберт   25  Краснодар              free  2840.423057   \n",
       "18065     1534  Альберт   25  Краснодар              free  3826.185507   \n",
       "18066     1534  Альберт   25  Краснодар              free  2902.308661   \n",
       "18067     1534  Альберт   25  Краснодар              free  2371.711192   \n",
       "\n",
       "        duration       date  month_number  distance_round  duration_round  \\\n",
       "0      25.599769 2021-01-01             1            4410              26   \n",
       "1      15.816871 2021-01-18             1            2618              16   \n",
       "2       6.232113 2021-04-20             4             755               7   \n",
       "3      18.511000 2021-08-11             8            2695              19   \n",
       "4      26.265803 2021-08-28             8            4029              27   \n",
       "...          ...        ...           ...             ...             ...   \n",
       "18063  19.822962 2021-11-04            11            3782              20   \n",
       "18064  21.409799 2021-11-16            11            2841              22   \n",
       "18065  18.435051 2021-11-18            11            3827              19   \n",
       "18066  16.674362 2021-11-27            11            2903              17   \n",
       "18067  15.893917 2021-12-29            12            2372              16   \n",
       "\n",
       "       minute_price  start_ride_price  subscription_fee  income_ride  \n",
       "0                 6                 0               199          156  \n",
       "1                 6                 0               199           96  \n",
       "2                 6                 0               199           42  \n",
       "3                 6                 0               199          114  \n",
       "4                 6                 0               199          162  \n",
       "...             ...               ...               ...          ...  \n",
       "18063             8                50                 0          210  \n",
       "18064             8                50                 0          226  \n",
       "18065             8                50                 0          202  \n",
       "18066             8                50                 0          186  \n",
       "18067             8                50                 0          178  \n",
       "\n",
       "[18068 rows x 15 columns]"
      ]
     },
     "execution_count": 52,
     "metadata": {},
     "output_type": "execute_result"
    }
   ],
   "source": [
    "# добавим колонку income_ride - доход с одной поездки\n",
    "data['income_ride'] = data['start_ride_price'] + data['minute_price'] * data['duration_round']\n",
    "data"
   ]
  },
  {
   "cell_type": "code",
   "execution_count": 53,
   "id": "d6837fde",
   "metadata": {},
   "outputs": [
    {
     "data": {
      "text/html": [
       "<div>\n",
       "<style scoped>\n",
       "    .dataframe tbody tr th:only-of-type {\n",
       "        vertical-align: middle;\n",
       "    }\n",
       "\n",
       "    .dataframe tbody tr th {\n",
       "        vertical-align: top;\n",
       "    }\n",
       "\n",
       "    .dataframe thead th {\n",
       "        text-align: right;\n",
       "    }\n",
       "</style>\n",
       "<table border=\"1\" class=\"dataframe\">\n",
       "  <thead>\n",
       "    <tr style=\"text-align: right;\">\n",
       "      <th></th>\n",
       "      <th></th>\n",
       "      <th></th>\n",
       "      <th>age</th>\n",
       "      <th>distance</th>\n",
       "      <th>duration</th>\n",
       "      <th>distance_round</th>\n",
       "      <th>duration_round</th>\n",
       "      <th>minute_price</th>\n",
       "      <th>start_ride_price</th>\n",
       "      <th>subscription_fee</th>\n",
       "      <th>income_ride</th>\n",
       "    </tr>\n",
       "    <tr>\n",
       "      <th>user_id</th>\n",
       "      <th>month_number</th>\n",
       "      <th>subscription_type</th>\n",
       "      <th></th>\n",
       "      <th></th>\n",
       "      <th></th>\n",
       "      <th></th>\n",
       "      <th></th>\n",
       "      <th></th>\n",
       "      <th></th>\n",
       "      <th></th>\n",
       "      <th></th>\n",
       "    </tr>\n",
       "  </thead>\n",
       "  <tbody>\n",
       "    <tr>\n",
       "      <th rowspan=\"5\" valign=\"top\">1</th>\n",
       "      <th>1</th>\n",
       "      <th>ultra</th>\n",
       "      <td>44</td>\n",
       "      <td>7027.511294</td>\n",
       "      <td>41.416640</td>\n",
       "      <td>7028</td>\n",
       "      <td>42</td>\n",
       "      <td>12</td>\n",
       "      <td>0</td>\n",
       "      <td>398</td>\n",
       "      <td>252</td>\n",
       "    </tr>\n",
       "    <tr>\n",
       "      <th>4</th>\n",
       "      <th>ultra</th>\n",
       "      <td>22</td>\n",
       "      <td>754.159807</td>\n",
       "      <td>6.232113</td>\n",
       "      <td>755</td>\n",
       "      <td>7</td>\n",
       "      <td>6</td>\n",
       "      <td>0</td>\n",
       "      <td>199</td>\n",
       "      <td>42</td>\n",
       "    </tr>\n",
       "    <tr>\n",
       "      <th>8</th>\n",
       "      <th>ultra</th>\n",
       "      <td>44</td>\n",
       "      <td>6723.470560</td>\n",
       "      <td>44.776802</td>\n",
       "      <td>6724</td>\n",
       "      <td>46</td>\n",
       "      <td>12</td>\n",
       "      <td>0</td>\n",
       "      <td>398</td>\n",
       "      <td>276</td>\n",
       "    </tr>\n",
       "    <tr>\n",
       "      <th>10</th>\n",
       "      <th>ultra</th>\n",
       "      <td>44</td>\n",
       "      <td>5809.911100</td>\n",
       "      <td>31.578017</td>\n",
       "      <td>5811</td>\n",
       "      <td>32</td>\n",
       "      <td>12</td>\n",
       "      <td>0</td>\n",
       "      <td>398</td>\n",
       "      <td>192</td>\n",
       "    </tr>\n",
       "    <tr>\n",
       "      <th>11</th>\n",
       "      <th>ultra</th>\n",
       "      <td>66</td>\n",
       "      <td>7003.499363</td>\n",
       "      <td>53.397424</td>\n",
       "      <td>7005</td>\n",
       "      <td>56</td>\n",
       "      <td>18</td>\n",
       "      <td>0</td>\n",
       "      <td>597</td>\n",
       "      <td>336</td>\n",
       "    </tr>\n",
       "    <tr>\n",
       "      <th>...</th>\n",
       "      <th>...</th>\n",
       "      <th>...</th>\n",
       "      <td>...</td>\n",
       "      <td>...</td>\n",
       "      <td>...</td>\n",
       "      <td>...</td>\n",
       "      <td>...</td>\n",
       "      <td>...</td>\n",
       "      <td>...</td>\n",
       "      <td>...</td>\n",
       "      <td>...</td>\n",
       "    </tr>\n",
       "    <tr>\n",
       "      <th rowspan=\"5\" valign=\"top\">1534</th>\n",
       "      <th>6</th>\n",
       "      <th>free</th>\n",
       "      <td>50</td>\n",
       "      <td>3409.468534</td>\n",
       "      <td>24.812678</td>\n",
       "      <td>3411</td>\n",
       "      <td>26</td>\n",
       "      <td>16</td>\n",
       "      <td>100</td>\n",
       "      <td>0</td>\n",
       "      <td>308</td>\n",
       "    </tr>\n",
       "    <tr>\n",
       "      <th>8</th>\n",
       "      <th>free</th>\n",
       "      <td>50</td>\n",
       "      <td>7622.453034</td>\n",
       "      <td>47.205960</td>\n",
       "      <td>7623</td>\n",
       "      <td>48</td>\n",
       "      <td>16</td>\n",
       "      <td>100</td>\n",
       "      <td>0</td>\n",
       "      <td>484</td>\n",
       "    </tr>\n",
       "    <tr>\n",
       "      <th>9</th>\n",
       "      <th>free</th>\n",
       "      <td>25</td>\n",
       "      <td>4928.173852</td>\n",
       "      <td>22.560373</td>\n",
       "      <td>4929</td>\n",
       "      <td>23</td>\n",
       "      <td>8</td>\n",
       "      <td>50</td>\n",
       "      <td>0</td>\n",
       "      <td>234</td>\n",
       "    </tr>\n",
       "    <tr>\n",
       "      <th>11</th>\n",
       "      <th>free</th>\n",
       "      <td>100</td>\n",
       "      <td>13350.015305</td>\n",
       "      <td>76.342174</td>\n",
       "      <td>13353</td>\n",
       "      <td>78</td>\n",
       "      <td>32</td>\n",
       "      <td>200</td>\n",
       "      <td>0</td>\n",
       "      <td>824</td>\n",
       "    </tr>\n",
       "    <tr>\n",
       "      <th>12</th>\n",
       "      <th>free</th>\n",
       "      <td>25</td>\n",
       "      <td>2371.711192</td>\n",
       "      <td>15.893917</td>\n",
       "      <td>2372</td>\n",
       "      <td>16</td>\n",
       "      <td>8</td>\n",
       "      <td>50</td>\n",
       "      <td>0</td>\n",
       "      <td>178</td>\n",
       "    </tr>\n",
       "  </tbody>\n",
       "</table>\n",
       "<p>11331 rows × 9 columns</p>\n",
       "</div>"
      ],
      "text/plain": [
       "                                        age      distance   duration  \\\n",
       "user_id month_number subscription_type                                 \n",
       "1       1            ultra               44   7027.511294  41.416640   \n",
       "        4            ultra               22    754.159807   6.232113   \n",
       "        8            ultra               44   6723.470560  44.776802   \n",
       "        10           ultra               44   5809.911100  31.578017   \n",
       "        11           ultra               66   7003.499363  53.397424   \n",
       "...                                     ...           ...        ...   \n",
       "1534    6            free                50   3409.468534  24.812678   \n",
       "        8            free                50   7622.453034  47.205960   \n",
       "        9            free                25   4928.173852  22.560373   \n",
       "        11           free               100  13350.015305  76.342174   \n",
       "        12           free                25   2371.711192  15.893917   \n",
       "\n",
       "                                        distance_round  duration_round  \\\n",
       "user_id month_number subscription_type                                   \n",
       "1       1            ultra                        7028              42   \n",
       "        4            ultra                         755               7   \n",
       "        8            ultra                        6724              46   \n",
       "        10           ultra                        5811              32   \n",
       "        11           ultra                        7005              56   \n",
       "...                                                ...             ...   \n",
       "1534    6            free                         3411              26   \n",
       "        8            free                         7623              48   \n",
       "        9            free                         4929              23   \n",
       "        11           free                        13353              78   \n",
       "        12           free                         2372              16   \n",
       "\n",
       "                                        minute_price  start_ride_price  \\\n",
       "user_id month_number subscription_type                                   \n",
       "1       1            ultra                        12                 0   \n",
       "        4            ultra                         6                 0   \n",
       "        8            ultra                        12                 0   \n",
       "        10           ultra                        12                 0   \n",
       "        11           ultra                        18                 0   \n",
       "...                                              ...               ...   \n",
       "1534    6            free                         16               100   \n",
       "        8            free                         16               100   \n",
       "        9            free                          8                50   \n",
       "        11           free                         32               200   \n",
       "        12           free                          8                50   \n",
       "\n",
       "                                        subscription_fee  income_ride  \n",
       "user_id month_number subscription_type                                 \n",
       "1       1            ultra                           398          252  \n",
       "        4            ultra                           199           42  \n",
       "        8            ultra                           398          276  \n",
       "        10           ultra                           398          192  \n",
       "        11           ultra                           597          336  \n",
       "...                                                  ...          ...  \n",
       "1534    6            free                              0          308  \n",
       "        8            free                              0          484  \n",
       "        9            free                              0          234  \n",
       "        11           free                              0          824  \n",
       "        12           free                              0          178  \n",
       "\n",
       "[11331 rows x 9 columns]"
      ]
     },
     "execution_count": 53,
     "metadata": {},
     "output_type": "execute_result"
    }
   ],
   "source": [
    "data1 = data.groupby(by=['user_id', 'month_number', 'subscription_type']).sum()\n",
    "data1"
   ]
  },
  {
   "cell_type": "code",
   "execution_count": 54,
   "id": "79a60075",
   "metadata": {},
   "outputs": [
    {
     "data": {
      "text/html": [
       "<div>\n",
       "<style scoped>\n",
       "    .dataframe tbody tr th:only-of-type {\n",
       "        vertical-align: middle;\n",
       "    }\n",
       "\n",
       "    .dataframe tbody tr th {\n",
       "        vertical-align: top;\n",
       "    }\n",
       "\n",
       "    .dataframe thead tr th {\n",
       "        text-align: left;\n",
       "    }\n",
       "\n",
       "    .dataframe thead tr:last-of-type th {\n",
       "        text-align: right;\n",
       "    }\n",
       "</style>\n",
       "<table border=\"1\" class=\"dataframe\">\n",
       "  <thead>\n",
       "    <tr>\n",
       "      <th></th>\n",
       "      <th></th>\n",
       "      <th></th>\n",
       "      <th colspan=\"2\" halign=\"left\">sum</th>\n",
       "      <th colspan=\"2\" halign=\"left\">count</th>\n",
       "    </tr>\n",
       "    <tr>\n",
       "      <th></th>\n",
       "      <th></th>\n",
       "      <th></th>\n",
       "      <th>income_ride</th>\n",
       "      <th>subscription_fee</th>\n",
       "      <th>income_ride</th>\n",
       "      <th>subscription_fee</th>\n",
       "    </tr>\n",
       "    <tr>\n",
       "      <th>user_id</th>\n",
       "      <th>month_number</th>\n",
       "      <th>subscription_type</th>\n",
       "      <th></th>\n",
       "      <th></th>\n",
       "      <th></th>\n",
       "      <th></th>\n",
       "    </tr>\n",
       "  </thead>\n",
       "  <tbody>\n",
       "    <tr>\n",
       "      <th rowspan=\"5\" valign=\"top\">1</th>\n",
       "      <th>1</th>\n",
       "      <th>ultra</th>\n",
       "      <td>252</td>\n",
       "      <td>398</td>\n",
       "      <td>2</td>\n",
       "      <td>2</td>\n",
       "    </tr>\n",
       "    <tr>\n",
       "      <th>4</th>\n",
       "      <th>ultra</th>\n",
       "      <td>42</td>\n",
       "      <td>199</td>\n",
       "      <td>1</td>\n",
       "      <td>1</td>\n",
       "    </tr>\n",
       "    <tr>\n",
       "      <th>8</th>\n",
       "      <th>ultra</th>\n",
       "      <td>276</td>\n",
       "      <td>398</td>\n",
       "      <td>2</td>\n",
       "      <td>2</td>\n",
       "    </tr>\n",
       "    <tr>\n",
       "      <th>10</th>\n",
       "      <th>ultra</th>\n",
       "      <td>192</td>\n",
       "      <td>398</td>\n",
       "      <td>2</td>\n",
       "      <td>2</td>\n",
       "    </tr>\n",
       "    <tr>\n",
       "      <th>11</th>\n",
       "      <th>ultra</th>\n",
       "      <td>336</td>\n",
       "      <td>597</td>\n",
       "      <td>3</td>\n",
       "      <td>3</td>\n",
       "    </tr>\n",
       "    <tr>\n",
       "      <th>...</th>\n",
       "      <th>...</th>\n",
       "      <th>...</th>\n",
       "      <td>...</td>\n",
       "      <td>...</td>\n",
       "      <td>...</td>\n",
       "      <td>...</td>\n",
       "    </tr>\n",
       "    <tr>\n",
       "      <th rowspan=\"5\" valign=\"top\">1534</th>\n",
       "      <th>6</th>\n",
       "      <th>free</th>\n",
       "      <td>308</td>\n",
       "      <td>0</td>\n",
       "      <td>2</td>\n",
       "      <td>2</td>\n",
       "    </tr>\n",
       "    <tr>\n",
       "      <th>8</th>\n",
       "      <th>free</th>\n",
       "      <td>484</td>\n",
       "      <td>0</td>\n",
       "      <td>2</td>\n",
       "      <td>2</td>\n",
       "    </tr>\n",
       "    <tr>\n",
       "      <th>9</th>\n",
       "      <th>free</th>\n",
       "      <td>234</td>\n",
       "      <td>0</td>\n",
       "      <td>1</td>\n",
       "      <td>1</td>\n",
       "    </tr>\n",
       "    <tr>\n",
       "      <th>11</th>\n",
       "      <th>free</th>\n",
       "      <td>824</td>\n",
       "      <td>0</td>\n",
       "      <td>4</td>\n",
       "      <td>4</td>\n",
       "    </tr>\n",
       "    <tr>\n",
       "      <th>12</th>\n",
       "      <th>free</th>\n",
       "      <td>178</td>\n",
       "      <td>0</td>\n",
       "      <td>1</td>\n",
       "      <td>1</td>\n",
       "    </tr>\n",
       "  </tbody>\n",
       "</table>\n",
       "<p>11331 rows × 4 columns</p>\n",
       "</div>"
      ],
      "text/plain": [
       "                                               sum                   \\\n",
       "                                       income_ride subscription_fee   \n",
       "user_id month_number subscription_type                                \n",
       "1       1            ultra                     252              398   \n",
       "        4            ultra                      42              199   \n",
       "        8            ultra                     276              398   \n",
       "        10           ultra                     192              398   \n",
       "        11           ultra                     336              597   \n",
       "...                                            ...              ...   \n",
       "1534    6            free                      308                0   \n",
       "        8            free                      484                0   \n",
       "        9            free                      234                0   \n",
       "        11           free                      824                0   \n",
       "        12           free                      178                0   \n",
       "\n",
       "                                             count                   \n",
       "                                       income_ride subscription_fee  \n",
       "user_id month_number subscription_type                               \n",
       "1       1            ultra                       2                2  \n",
       "        4            ultra                       1                1  \n",
       "        8            ultra                       2                2  \n",
       "        10           ultra                       2                2  \n",
       "        11           ultra                       3                3  \n",
       "...                                            ...              ...  \n",
       "1534    6            free                        2                2  \n",
       "        8            free                        2                2  \n",
       "        9            free                        1                1  \n",
       "        11           free                        4                4  \n",
       "        12           free                        1                1  \n",
       "\n",
       "[11331 rows x 4 columns]"
      ]
     },
     "execution_count": 54,
     "metadata": {},
     "output_type": "execute_result"
    }
   ],
   "source": [
    "# создадим сводную таблицу с оплатой, здесь столбцы для месячной подписки отдельно\n",
    "data_group_price = data.pivot_table(index=['user_id', 'month_number', 'subscription_type'], values=['income_ride', 'subscription_fee'], aggfunc=['sum', 'count',])\n",
    "data_group_price"
   ]
  },
  {
   "cell_type": "code",
   "execution_count": 55,
   "id": "3c5cbce7",
   "metadata": {},
   "outputs": [
    {
     "data": {
      "text/html": [
       "<div>\n",
       "<style scoped>\n",
       "    .dataframe tbody tr th:only-of-type {\n",
       "        vertical-align: middle;\n",
       "    }\n",
       "\n",
       "    .dataframe tbody tr th {\n",
       "        vertical-align: top;\n",
       "    }\n",
       "\n",
       "    .dataframe thead th {\n",
       "        text-align: right;\n",
       "    }\n",
       "</style>\n",
       "<table border=\"1\" class=\"dataframe\">\n",
       "  <thead>\n",
       "    <tr style=\"text-align: right;\">\n",
       "      <th></th>\n",
       "      <th></th>\n",
       "      <th></th>\n",
       "      <th>sum_income_ride</th>\n",
       "      <th>sum_sub</th>\n",
       "      <th>count_rides</th>\n",
       "      <th>count_sub</th>\n",
       "    </tr>\n",
       "    <tr>\n",
       "      <th>user_id</th>\n",
       "      <th>month_number</th>\n",
       "      <th>subscription_type</th>\n",
       "      <th></th>\n",
       "      <th></th>\n",
       "      <th></th>\n",
       "      <th></th>\n",
       "    </tr>\n",
       "  </thead>\n",
       "  <tbody>\n",
       "    <tr>\n",
       "      <th rowspan=\"5\" valign=\"top\">1</th>\n",
       "      <th>1</th>\n",
       "      <th>ultra</th>\n",
       "      <td>252</td>\n",
       "      <td>398</td>\n",
       "      <td>2</td>\n",
       "      <td>2</td>\n",
       "    </tr>\n",
       "    <tr>\n",
       "      <th>4</th>\n",
       "      <th>ultra</th>\n",
       "      <td>42</td>\n",
       "      <td>199</td>\n",
       "      <td>1</td>\n",
       "      <td>1</td>\n",
       "    </tr>\n",
       "    <tr>\n",
       "      <th>8</th>\n",
       "      <th>ultra</th>\n",
       "      <td>276</td>\n",
       "      <td>398</td>\n",
       "      <td>2</td>\n",
       "      <td>2</td>\n",
       "    </tr>\n",
       "    <tr>\n",
       "      <th>10</th>\n",
       "      <th>ultra</th>\n",
       "      <td>192</td>\n",
       "      <td>398</td>\n",
       "      <td>2</td>\n",
       "      <td>2</td>\n",
       "    </tr>\n",
       "    <tr>\n",
       "      <th>11</th>\n",
       "      <th>ultra</th>\n",
       "      <td>336</td>\n",
       "      <td>597</td>\n",
       "      <td>3</td>\n",
       "      <td>3</td>\n",
       "    </tr>\n",
       "    <tr>\n",
       "      <th>...</th>\n",
       "      <th>...</th>\n",
       "      <th>...</th>\n",
       "      <td>...</td>\n",
       "      <td>...</td>\n",
       "      <td>...</td>\n",
       "      <td>...</td>\n",
       "    </tr>\n",
       "    <tr>\n",
       "      <th rowspan=\"5\" valign=\"top\">1534</th>\n",
       "      <th>6</th>\n",
       "      <th>free</th>\n",
       "      <td>308</td>\n",
       "      <td>0</td>\n",
       "      <td>2</td>\n",
       "      <td>2</td>\n",
       "    </tr>\n",
       "    <tr>\n",
       "      <th>8</th>\n",
       "      <th>free</th>\n",
       "      <td>484</td>\n",
       "      <td>0</td>\n",
       "      <td>2</td>\n",
       "      <td>2</td>\n",
       "    </tr>\n",
       "    <tr>\n",
       "      <th>9</th>\n",
       "      <th>free</th>\n",
       "      <td>234</td>\n",
       "      <td>0</td>\n",
       "      <td>1</td>\n",
       "      <td>1</td>\n",
       "    </tr>\n",
       "    <tr>\n",
       "      <th>11</th>\n",
       "      <th>free</th>\n",
       "      <td>824</td>\n",
       "      <td>0</td>\n",
       "      <td>4</td>\n",
       "      <td>4</td>\n",
       "    </tr>\n",
       "    <tr>\n",
       "      <th>12</th>\n",
       "      <th>free</th>\n",
       "      <td>178</td>\n",
       "      <td>0</td>\n",
       "      <td>1</td>\n",
       "      <td>1</td>\n",
       "    </tr>\n",
       "  </tbody>\n",
       "</table>\n",
       "<p>11331 rows × 4 columns</p>\n",
       "</div>"
      ],
      "text/plain": [
       "                                        sum_income_ride  sum_sub  count_rides  \\\n",
       "user_id month_number subscription_type                                          \n",
       "1       1            ultra                          252      398            2   \n",
       "        4            ultra                           42      199            1   \n",
       "        8            ultra                          276      398            2   \n",
       "        10           ultra                          192      398            2   \n",
       "        11           ultra                          336      597            3   \n",
       "...                                                 ...      ...          ...   \n",
       "1534    6            free                           308        0            2   \n",
       "        8            free                           484        0            2   \n",
       "        9            free                           234        0            1   \n",
       "        11           free                           824        0            4   \n",
       "        12           free                           178        0            1   \n",
       "\n",
       "                                        count_sub  \n",
       "user_id month_number subscription_type             \n",
       "1       1            ultra                      2  \n",
       "        4            ultra                      1  \n",
       "        8            ultra                      2  \n",
       "        10           ultra                      2  \n",
       "        11           ultra                      3  \n",
       "...                                           ...  \n",
       "1534    6            free                       2  \n",
       "        8            free                       2  \n",
       "        9            free                       1  \n",
       "        11           free                       4  \n",
       "        12           free                       1  \n",
       "\n",
       "[11331 rows x 4 columns]"
      ]
     },
     "execution_count": 55,
     "metadata": {},
     "output_type": "execute_result"
    }
   ],
   "source": [
    "# переименуем столбцы\n",
    "data_group_price.columns = ['sum_income_ride', 'sum_sub', 'count_rides', 'count_sub']\n",
    "data_group_price"
   ]
  },
  {
   "cell_type": "code",
   "execution_count": 56,
   "id": "0493c37c",
   "metadata": {},
   "outputs": [
    {
     "data": {
      "text/html": [
       "<div>\n",
       "<style scoped>\n",
       "    .dataframe tbody tr th:only-of-type {\n",
       "        vertical-align: middle;\n",
       "    }\n",
       "\n",
       "    .dataframe tbody tr th {\n",
       "        vertical-align: top;\n",
       "    }\n",
       "\n",
       "    .dataframe thead th {\n",
       "        text-align: right;\n",
       "    }\n",
       "</style>\n",
       "<table border=\"1\" class=\"dataframe\">\n",
       "  <thead>\n",
       "    <tr style=\"text-align: right;\">\n",
       "      <th></th>\n",
       "      <th></th>\n",
       "      <th></th>\n",
       "      <th>sum_income_ride</th>\n",
       "      <th>sum_sub</th>\n",
       "      <th>count_rides</th>\n",
       "      <th>count_sub</th>\n",
       "    </tr>\n",
       "    <tr>\n",
       "      <th>user_id</th>\n",
       "      <th>month_number</th>\n",
       "      <th>subscription_type</th>\n",
       "      <th></th>\n",
       "      <th></th>\n",
       "      <th></th>\n",
       "      <th></th>\n",
       "    </tr>\n",
       "  </thead>\n",
       "  <tbody>\n",
       "    <tr>\n",
       "      <th rowspan=\"5\" valign=\"top\">1</th>\n",
       "      <th>1</th>\n",
       "      <th>ultra</th>\n",
       "      <td>252</td>\n",
       "      <td>199</td>\n",
       "      <td>2</td>\n",
       "      <td>2</td>\n",
       "    </tr>\n",
       "    <tr>\n",
       "      <th>4</th>\n",
       "      <th>ultra</th>\n",
       "      <td>42</td>\n",
       "      <td>199</td>\n",
       "      <td>1</td>\n",
       "      <td>1</td>\n",
       "    </tr>\n",
       "    <tr>\n",
       "      <th>8</th>\n",
       "      <th>ultra</th>\n",
       "      <td>276</td>\n",
       "      <td>199</td>\n",
       "      <td>2</td>\n",
       "      <td>2</td>\n",
       "    </tr>\n",
       "    <tr>\n",
       "      <th>10</th>\n",
       "      <th>ultra</th>\n",
       "      <td>192</td>\n",
       "      <td>199</td>\n",
       "      <td>2</td>\n",
       "      <td>2</td>\n",
       "    </tr>\n",
       "    <tr>\n",
       "      <th>11</th>\n",
       "      <th>ultra</th>\n",
       "      <td>336</td>\n",
       "      <td>199</td>\n",
       "      <td>3</td>\n",
       "      <td>3</td>\n",
       "    </tr>\n",
       "    <tr>\n",
       "      <th>...</th>\n",
       "      <th>...</th>\n",
       "      <th>...</th>\n",
       "      <td>...</td>\n",
       "      <td>...</td>\n",
       "      <td>...</td>\n",
       "      <td>...</td>\n",
       "    </tr>\n",
       "    <tr>\n",
       "      <th rowspan=\"5\" valign=\"top\">1534</th>\n",
       "      <th>6</th>\n",
       "      <th>free</th>\n",
       "      <td>308</td>\n",
       "      <td>0</td>\n",
       "      <td>2</td>\n",
       "      <td>2</td>\n",
       "    </tr>\n",
       "    <tr>\n",
       "      <th>8</th>\n",
       "      <th>free</th>\n",
       "      <td>484</td>\n",
       "      <td>0</td>\n",
       "      <td>2</td>\n",
       "      <td>2</td>\n",
       "    </tr>\n",
       "    <tr>\n",
       "      <th>9</th>\n",
       "      <th>free</th>\n",
       "      <td>234</td>\n",
       "      <td>0</td>\n",
       "      <td>1</td>\n",
       "      <td>1</td>\n",
       "    </tr>\n",
       "    <tr>\n",
       "      <th>11</th>\n",
       "      <th>free</th>\n",
       "      <td>824</td>\n",
       "      <td>0</td>\n",
       "      <td>4</td>\n",
       "      <td>4</td>\n",
       "    </tr>\n",
       "    <tr>\n",
       "      <th>12</th>\n",
       "      <th>free</th>\n",
       "      <td>178</td>\n",
       "      <td>0</td>\n",
       "      <td>1</td>\n",
       "      <td>1</td>\n",
       "    </tr>\n",
       "  </tbody>\n",
       "</table>\n",
       "<p>11331 rows × 4 columns</p>\n",
       "</div>"
      ],
      "text/plain": [
       "                                        sum_income_ride  sum_sub  count_rides  \\\n",
       "user_id month_number subscription_type                                          \n",
       "1       1            ultra                          252      199            2   \n",
       "        4            ultra                           42      199            1   \n",
       "        8            ultra                          276      199            2   \n",
       "        10           ultra                          192      199            2   \n",
       "        11           ultra                          336      199            3   \n",
       "...                                                 ...      ...          ...   \n",
       "1534    6            free                           308        0            2   \n",
       "        8            free                           484        0            2   \n",
       "        9            free                           234        0            1   \n",
       "        11           free                           824        0            4   \n",
       "        12           free                           178        0            1   \n",
       "\n",
       "                                        count_sub  \n",
       "user_id month_number subscription_type             \n",
       "1       1            ultra                      2  \n",
       "        4            ultra                      1  \n",
       "        8            ultra                      2  \n",
       "        10           ultra                      2  \n",
       "        11           ultra                      3  \n",
       "...                                           ...  \n",
       "1534    6            free                       2  \n",
       "        8            free                       2  \n",
       "        9            free                       1  \n",
       "        11           free                       4  \n",
       "        12           free                       1  \n",
       "\n",
       "[11331 rows x 4 columns]"
      ]
     },
     "execution_count": 56,
     "metadata": {},
     "output_type": "execute_result"
    }
   ],
   "source": [
    "# вернем нормальную цену за подписку\n",
    "data_group_price['sum_sub'] = (data_group_price['sum_sub']/data_group_price['count_sub']).astype(int)\n",
    "data_group_price"
   ]
  },
  {
   "cell_type": "code",
   "execution_count": 57,
   "id": "d4bc448c",
   "metadata": {},
   "outputs": [
    {
     "data": {
      "text/html": [
       "<div>\n",
       "<style scoped>\n",
       "    .dataframe tbody tr th:only-of-type {\n",
       "        vertical-align: middle;\n",
       "    }\n",
       "\n",
       "    .dataframe tbody tr th {\n",
       "        vertical-align: top;\n",
       "    }\n",
       "\n",
       "    .dataframe thead th {\n",
       "        text-align: right;\n",
       "    }\n",
       "</style>\n",
       "<table border=\"1\" class=\"dataframe\">\n",
       "  <thead>\n",
       "    <tr style=\"text-align: right;\">\n",
       "      <th></th>\n",
       "      <th></th>\n",
       "      <th></th>\n",
       "      <th>sum_income_ride</th>\n",
       "      <th>sum_sub</th>\n",
       "    </tr>\n",
       "    <tr>\n",
       "      <th>user_id</th>\n",
       "      <th>month_number</th>\n",
       "      <th>subscription_type</th>\n",
       "      <th></th>\n",
       "      <th></th>\n",
       "    </tr>\n",
       "  </thead>\n",
       "  <tbody>\n",
       "    <tr>\n",
       "      <th rowspan=\"5\" valign=\"top\">1</th>\n",
       "      <th>1</th>\n",
       "      <th>ultra</th>\n",
       "      <td>252</td>\n",
       "      <td>199</td>\n",
       "    </tr>\n",
       "    <tr>\n",
       "      <th>4</th>\n",
       "      <th>ultra</th>\n",
       "      <td>42</td>\n",
       "      <td>199</td>\n",
       "    </tr>\n",
       "    <tr>\n",
       "      <th>8</th>\n",
       "      <th>ultra</th>\n",
       "      <td>276</td>\n",
       "      <td>199</td>\n",
       "    </tr>\n",
       "    <tr>\n",
       "      <th>10</th>\n",
       "      <th>ultra</th>\n",
       "      <td>192</td>\n",
       "      <td>199</td>\n",
       "    </tr>\n",
       "    <tr>\n",
       "      <th>11</th>\n",
       "      <th>ultra</th>\n",
       "      <td>336</td>\n",
       "      <td>199</td>\n",
       "    </tr>\n",
       "    <tr>\n",
       "      <th>...</th>\n",
       "      <th>...</th>\n",
       "      <th>...</th>\n",
       "      <td>...</td>\n",
       "      <td>...</td>\n",
       "    </tr>\n",
       "    <tr>\n",
       "      <th rowspan=\"5\" valign=\"top\">1534</th>\n",
       "      <th>6</th>\n",
       "      <th>free</th>\n",
       "      <td>308</td>\n",
       "      <td>0</td>\n",
       "    </tr>\n",
       "    <tr>\n",
       "      <th>8</th>\n",
       "      <th>free</th>\n",
       "      <td>484</td>\n",
       "      <td>0</td>\n",
       "    </tr>\n",
       "    <tr>\n",
       "      <th>9</th>\n",
       "      <th>free</th>\n",
       "      <td>234</td>\n",
       "      <td>0</td>\n",
       "    </tr>\n",
       "    <tr>\n",
       "      <th>11</th>\n",
       "      <th>free</th>\n",
       "      <td>824</td>\n",
       "      <td>0</td>\n",
       "    </tr>\n",
       "    <tr>\n",
       "      <th>12</th>\n",
       "      <th>free</th>\n",
       "      <td>178</td>\n",
       "      <td>0</td>\n",
       "    </tr>\n",
       "  </tbody>\n",
       "</table>\n",
       "<p>11331 rows × 2 columns</p>\n",
       "</div>"
      ],
      "text/plain": [
       "                                        sum_income_ride  sum_sub\n",
       "user_id month_number subscription_type                          \n",
       "1       1            ultra                          252      199\n",
       "        4            ultra                           42      199\n",
       "        8            ultra                          276      199\n",
       "        10           ultra                          192      199\n",
       "        11           ultra                          336      199\n",
       "...                                                 ...      ...\n",
       "1534    6            free                           308        0\n",
       "        8            free                           484        0\n",
       "        9            free                           234        0\n",
       "        11           free                           824        0\n",
       "        12           free                           178        0\n",
       "\n",
       "[11331 rows x 2 columns]"
      ]
     },
     "execution_count": 57,
     "metadata": {},
     "output_type": "execute_result"
    }
   ],
   "source": [
    "# удалим ненужные столбцы с количеством поездок\n",
    "data_group_price = data_group_price.drop(columns=['count_rides', 'count_sub'])\n",
    "#data_group_price['sum'] = data_group_price['sum_price'] + data_group_price['sum_sub']\n",
    "data_group_price"
   ]
  },
  {
   "cell_type": "code",
   "execution_count": 58,
   "id": "bc029758",
   "metadata": {},
   "outputs": [
    {
     "data": {
      "text/html": [
       "<div>\n",
       "<style scoped>\n",
       "    .dataframe tbody tr th:only-of-type {\n",
       "        vertical-align: middle;\n",
       "    }\n",
       "\n",
       "    .dataframe tbody tr th {\n",
       "        vertical-align: top;\n",
       "    }\n",
       "\n",
       "    .dataframe thead th {\n",
       "        text-align: right;\n",
       "    }\n",
       "</style>\n",
       "<table border=\"1\" class=\"dataframe\">\n",
       "  <thead>\n",
       "    <tr style=\"text-align: right;\">\n",
       "      <th></th>\n",
       "      <th></th>\n",
       "      <th></th>\n",
       "      <th>sum_income_ride</th>\n",
       "      <th>sum_sub</th>\n",
       "      <th>income_month</th>\n",
       "    </tr>\n",
       "    <tr>\n",
       "      <th>user_id</th>\n",
       "      <th>month_number</th>\n",
       "      <th>subscription_type</th>\n",
       "      <th></th>\n",
       "      <th></th>\n",
       "      <th></th>\n",
       "    </tr>\n",
       "  </thead>\n",
       "  <tbody>\n",
       "    <tr>\n",
       "      <th rowspan=\"5\" valign=\"top\">1</th>\n",
       "      <th>1</th>\n",
       "      <th>ultra</th>\n",
       "      <td>252</td>\n",
       "      <td>199</td>\n",
       "      <td>451</td>\n",
       "    </tr>\n",
       "    <tr>\n",
       "      <th>4</th>\n",
       "      <th>ultra</th>\n",
       "      <td>42</td>\n",
       "      <td>199</td>\n",
       "      <td>241</td>\n",
       "    </tr>\n",
       "    <tr>\n",
       "      <th>8</th>\n",
       "      <th>ultra</th>\n",
       "      <td>276</td>\n",
       "      <td>199</td>\n",
       "      <td>475</td>\n",
       "    </tr>\n",
       "    <tr>\n",
       "      <th>10</th>\n",
       "      <th>ultra</th>\n",
       "      <td>192</td>\n",
       "      <td>199</td>\n",
       "      <td>391</td>\n",
       "    </tr>\n",
       "    <tr>\n",
       "      <th>11</th>\n",
       "      <th>ultra</th>\n",
       "      <td>336</td>\n",
       "      <td>199</td>\n",
       "      <td>535</td>\n",
       "    </tr>\n",
       "    <tr>\n",
       "      <th>...</th>\n",
       "      <th>...</th>\n",
       "      <th>...</th>\n",
       "      <td>...</td>\n",
       "      <td>...</td>\n",
       "      <td>...</td>\n",
       "    </tr>\n",
       "    <tr>\n",
       "      <th rowspan=\"5\" valign=\"top\">1534</th>\n",
       "      <th>6</th>\n",
       "      <th>free</th>\n",
       "      <td>308</td>\n",
       "      <td>0</td>\n",
       "      <td>308</td>\n",
       "    </tr>\n",
       "    <tr>\n",
       "      <th>8</th>\n",
       "      <th>free</th>\n",
       "      <td>484</td>\n",
       "      <td>0</td>\n",
       "      <td>484</td>\n",
       "    </tr>\n",
       "    <tr>\n",
       "      <th>9</th>\n",
       "      <th>free</th>\n",
       "      <td>234</td>\n",
       "      <td>0</td>\n",
       "      <td>234</td>\n",
       "    </tr>\n",
       "    <tr>\n",
       "      <th>11</th>\n",
       "      <th>free</th>\n",
       "      <td>824</td>\n",
       "      <td>0</td>\n",
       "      <td>824</td>\n",
       "    </tr>\n",
       "    <tr>\n",
       "      <th>12</th>\n",
       "      <th>free</th>\n",
       "      <td>178</td>\n",
       "      <td>0</td>\n",
       "      <td>178</td>\n",
       "    </tr>\n",
       "  </tbody>\n",
       "</table>\n",
       "<p>11331 rows × 3 columns</p>\n",
       "</div>"
      ],
      "text/plain": [
       "                                        sum_income_ride  sum_sub  income_month\n",
       "user_id month_number subscription_type                                        \n",
       "1       1            ultra                          252      199           451\n",
       "        4            ultra                           42      199           241\n",
       "        8            ultra                          276      199           475\n",
       "        10           ultra                          192      199           391\n",
       "        11           ultra                          336      199           535\n",
       "...                                                 ...      ...           ...\n",
       "1534    6            free                           308        0           308\n",
       "        8            free                           484        0           484\n",
       "        9            free                           234        0           234\n",
       "        11           free                           824        0           824\n",
       "        12           free                           178        0           178\n",
       "\n",
       "[11331 rows x 3 columns]"
      ]
     },
     "execution_count": 58,
     "metadata": {},
     "output_type": "execute_result"
    }
   ],
   "source": [
    "# столбец с суммарным доходом за месяц\n",
    "data_group_price['income_month'] = data_group_price['sum_income_ride'] + data_group_price['sum_sub']\n",
    "data_group_price"
   ]
  },
  {
   "cell_type": "code",
   "execution_count": 59,
   "id": "72bafaca",
   "metadata": {},
   "outputs": [
    {
     "data": {
      "text/html": [
       "<div>\n",
       "<style scoped>\n",
       "    .dataframe tbody tr th:only-of-type {\n",
       "        vertical-align: middle;\n",
       "    }\n",
       "\n",
       "    .dataframe tbody tr th {\n",
       "        vertical-align: top;\n",
       "    }\n",
       "\n",
       "    .dataframe thead th {\n",
       "        text-align: right;\n",
       "    }\n",
       "</style>\n",
       "<table border=\"1\" class=\"dataframe\">\n",
       "  <thead>\n",
       "    <tr style=\"text-align: right;\">\n",
       "      <th></th>\n",
       "      <th></th>\n",
       "      <th></th>\n",
       "      <th>sum_distance</th>\n",
       "      <th>sum_duration</th>\n",
       "      <th>count_rides</th>\n",
       "      <th>sum_income_ride</th>\n",
       "      <th>sum_sub</th>\n",
       "      <th>income_month</th>\n",
       "    </tr>\n",
       "    <tr>\n",
       "      <th>user_id</th>\n",
       "      <th>month_number</th>\n",
       "      <th>subscription_type</th>\n",
       "      <th></th>\n",
       "      <th></th>\n",
       "      <th></th>\n",
       "      <th></th>\n",
       "      <th></th>\n",
       "      <th></th>\n",
       "    </tr>\n",
       "  </thead>\n",
       "  <tbody>\n",
       "    <tr>\n",
       "      <th rowspan=\"5\" valign=\"top\">1</th>\n",
       "      <th>1</th>\n",
       "      <th>ultra</th>\n",
       "      <td>7027.511294</td>\n",
       "      <td>41.416640</td>\n",
       "      <td>2</td>\n",
       "      <td>252</td>\n",
       "      <td>199</td>\n",
       "      <td>451</td>\n",
       "    </tr>\n",
       "    <tr>\n",
       "      <th>4</th>\n",
       "      <th>ultra</th>\n",
       "      <td>754.159807</td>\n",
       "      <td>6.232113</td>\n",
       "      <td>1</td>\n",
       "      <td>42</td>\n",
       "      <td>199</td>\n",
       "      <td>241</td>\n",
       "    </tr>\n",
       "    <tr>\n",
       "      <th>8</th>\n",
       "      <th>ultra</th>\n",
       "      <td>6723.470560</td>\n",
       "      <td>44.776802</td>\n",
       "      <td>2</td>\n",
       "      <td>276</td>\n",
       "      <td>199</td>\n",
       "      <td>475</td>\n",
       "    </tr>\n",
       "    <tr>\n",
       "      <th>10</th>\n",
       "      <th>ultra</th>\n",
       "      <td>5809.911100</td>\n",
       "      <td>31.578017</td>\n",
       "      <td>2</td>\n",
       "      <td>192</td>\n",
       "      <td>199</td>\n",
       "      <td>391</td>\n",
       "    </tr>\n",
       "    <tr>\n",
       "      <th>11</th>\n",
       "      <th>ultra</th>\n",
       "      <td>7003.499363</td>\n",
       "      <td>53.397424</td>\n",
       "      <td>3</td>\n",
       "      <td>336</td>\n",
       "      <td>199</td>\n",
       "      <td>535</td>\n",
       "    </tr>\n",
       "    <tr>\n",
       "      <th>...</th>\n",
       "      <th>...</th>\n",
       "      <th>...</th>\n",
       "      <td>...</td>\n",
       "      <td>...</td>\n",
       "      <td>...</td>\n",
       "      <td>...</td>\n",
       "      <td>...</td>\n",
       "      <td>...</td>\n",
       "    </tr>\n",
       "    <tr>\n",
       "      <th rowspan=\"5\" valign=\"top\">1534</th>\n",
       "      <th>6</th>\n",
       "      <th>free</th>\n",
       "      <td>3409.468534</td>\n",
       "      <td>24.812678</td>\n",
       "      <td>2</td>\n",
       "      <td>308</td>\n",
       "      <td>0</td>\n",
       "      <td>308</td>\n",
       "    </tr>\n",
       "    <tr>\n",
       "      <th>8</th>\n",
       "      <th>free</th>\n",
       "      <td>7622.453034</td>\n",
       "      <td>47.205960</td>\n",
       "      <td>2</td>\n",
       "      <td>484</td>\n",
       "      <td>0</td>\n",
       "      <td>484</td>\n",
       "    </tr>\n",
       "    <tr>\n",
       "      <th>9</th>\n",
       "      <th>free</th>\n",
       "      <td>4928.173852</td>\n",
       "      <td>22.560373</td>\n",
       "      <td>1</td>\n",
       "      <td>234</td>\n",
       "      <td>0</td>\n",
       "      <td>234</td>\n",
       "    </tr>\n",
       "    <tr>\n",
       "      <th>11</th>\n",
       "      <th>free</th>\n",
       "      <td>13350.015305</td>\n",
       "      <td>76.342174</td>\n",
       "      <td>4</td>\n",
       "      <td>824</td>\n",
       "      <td>0</td>\n",
       "      <td>824</td>\n",
       "    </tr>\n",
       "    <tr>\n",
       "      <th>12</th>\n",
       "      <th>free</th>\n",
       "      <td>2371.711192</td>\n",
       "      <td>15.893917</td>\n",
       "      <td>1</td>\n",
       "      <td>178</td>\n",
       "      <td>0</td>\n",
       "      <td>178</td>\n",
       "    </tr>\n",
       "  </tbody>\n",
       "</table>\n",
       "<p>11331 rows × 6 columns</p>\n",
       "</div>"
      ],
      "text/plain": [
       "                                        sum_distance  sum_duration  \\\n",
       "user_id month_number subscription_type                               \n",
       "1       1            ultra               7027.511294     41.416640   \n",
       "        4            ultra                754.159807      6.232113   \n",
       "        8            ultra               6723.470560     44.776802   \n",
       "        10           ultra               5809.911100     31.578017   \n",
       "        11           ultra               7003.499363     53.397424   \n",
       "...                                              ...           ...   \n",
       "1534    6            free                3409.468534     24.812678   \n",
       "        8            free                7622.453034     47.205960   \n",
       "        9            free                4928.173852     22.560373   \n",
       "        11           free               13350.015305     76.342174   \n",
       "        12           free                2371.711192     15.893917   \n",
       "\n",
       "                                        count_rides  sum_income_ride  sum_sub  \\\n",
       "user_id month_number subscription_type                                          \n",
       "1       1            ultra                        2              252      199   \n",
       "        4            ultra                        1               42      199   \n",
       "        8            ultra                        2              276      199   \n",
       "        10           ultra                        2              192      199   \n",
       "        11           ultra                        3              336      199   \n",
       "...                                             ...              ...      ...   \n",
       "1534    6            free                         2              308        0   \n",
       "        8            free                         2              484        0   \n",
       "        9            free                         1              234        0   \n",
       "        11           free                         4              824        0   \n",
       "        12           free                         1              178        0   \n",
       "\n",
       "                                        income_month  \n",
       "user_id month_number subscription_type                \n",
       "1       1            ultra                       451  \n",
       "        4            ultra                       241  \n",
       "        8            ultra                       475  \n",
       "        10           ultra                       391  \n",
       "        11           ultra                       535  \n",
       "...                                              ...  \n",
       "1534    6            free                        308  \n",
       "        8            free                        484  \n",
       "        9            free                        234  \n",
       "        11           free                        824  \n",
       "        12           free                        178  \n",
       "\n",
       "[11331 rows x 6 columns]"
      ]
     },
     "execution_count": 59,
     "metadata": {},
     "output_type": "execute_result"
    }
   ],
   "source": [
    "# соединим с таблицей из предыдущего пункта\n",
    "data_group_sum = data_group.merge(data_group_price, on=['user_id', 'month_number', 'subscription_type'])\n",
    "data_group_sum"
   ]
  },
  {
   "cell_type": "markdown",
   "id": "41545ac0",
   "metadata": {},
   "source": [
    "#### Шаг 6. Проверка гипотез"
   ]
  },
  {
   "cell_type": "markdown",
   "id": "7edf8544",
   "metadata": {},
   "source": [
    "##### Важно понять, тратят ли пользователи с подпиской больше времени на поездки? Если да, то пользователи с подпиской могут быть «выгоднее» для компании. Проверьте гипотезу. Используйте исходные данные о продолжительности каждой сессии — отдельно для подписчиков и тех, у кого нет подписки."
   ]
  },
  {
   "cell_type": "markdown",
   "id": "27fb4283",
   "metadata": {},
   "source": [
    "Гипотеза следующая: пользователи с подпиской тратят больше времени на поездки\n",
    "\n",
    "Нулевую гипотезу составим таким образом: пользователи с подпиской и без одинаково ездят по времени\n",
    "\n",
    "Альтернативная гипотеза: пользователи с подпиской тратят больше времени на поездки\n",
    "\n",
    "Для ее подсчета используем ttest_ind о двух разных генеральных совокупностях, т.к. у нас разные размерности, то equal_var = False "
   ]
  },
  {
   "cell_type": "code",
   "execution_count": 60,
   "id": "2fbe4df9",
   "metadata": {},
   "outputs": [
    {
     "name": "stdout",
     "output_type": "stream",
     "text": [
      "p-value: 5.6757813771289775e-37\n"
     ]
    }
   ],
   "source": [
    "results = st.ttest_ind(data_ultra['duration'],data_free['duration'], equal_var=False, alternative='greater')\n",
    "print(f'p-value: {results.pvalue}')"
   ]
  },
  {
   "cell_type": "markdown",
   "id": "96d85561",
   "metadata": {},
   "source": [
    "p-value <i> очень мало</i>, соответственно нулевую гипотезе о равенстве стоит отвергнуть. Скорее всего пользователи с подпиской катаются дольше, чем пользователи без подписки"
   ]
  },
  {
   "cell_type": "markdown",
   "id": "43184592",
   "metadata": {},
   "source": [
    "##### Расстояние одной поездки в 3130 метров — оптимальное с точки зрения износа самоката. Можно ли сказать, что среднее расстояние, которое проезжают пользователи с подпиской за одну поездку, не превышает 3130 метров? Проверьте гипотезу и сделайте выводы."
   ]
  },
  {
   "cell_type": "markdown",
   "id": "a23504b9",
   "metadata": {},
   "source": [
    "Нулевая гипотеза: люди проезжают 3130 метров\n",
    "Альернативная гипотеза: люди проезжают больше 3130 метров\n",
    "\n",
    "На графике у нас 2 пика, оба имеют вид нормального распределения, значит выборочное среднее тоже будет нормально распределено"
   ]
  },
  {
   "cell_type": "code",
   "execution_count": 63,
   "id": "e2c4d748",
   "metadata": {},
   "outputs": [
    {
     "name": "stdout",
     "output_type": "stream",
     "text": [
      "p-value: 0.9195368847849785\n"
     ]
    }
   ],
   "source": [
    "dist = 3130\n",
    "\n",
    "results = st.ttest_1samp(data_ultra['distance'], dist, alternative='greater')\n",
    "print(f'p-value: {results.pvalue}')"
   ]
  },
  {
   "cell_type": "markdown",
   "id": "56aa6f89",
   "metadata": {},
   "source": [
    "P-значение 0.92, значит мы не можем отвергать нулевую гипотезу о равенстве среднего расстояния поездки 3130 метрам и она скорее всего верна, значит самокаты не будут изнашиваться"
   ]
  },
  {
   "cell_type": "markdown",
   "id": "78d68793",
   "metadata": {},
   "source": [
    "##### Проверьте гипотезу о том, будет ли помесячная выручка от пользователей с подпиской по месяцам выше, чем выручка от пользователей без подписки. Сделайте вывод."
   ]
  },
  {
   "cell_type": "markdown",
   "id": "65ebdb30",
   "metadata": {},
   "source": [
    "Проверим следующую гипотезу: помесячная выручка от людей с подпиской выше, чем от людей без подписки. Альтернативная гипотеза: помесячная выручка от людей с подпиской меньше, чем от людей без подписки\n",
    "\n",
    "Будем рассматривать сколько каждый человек потратил в месяц"
   ]
  },
  {
   "cell_type": "code",
   "execution_count": 65,
   "id": "a89a324a",
   "metadata": {
    "scrolled": true
   },
   "outputs": [
    {
     "data": {
      "text/html": [
       "<div>\n",
       "<style scoped>\n",
       "    .dataframe tbody tr th:only-of-type {\n",
       "        vertical-align: middle;\n",
       "    }\n",
       "\n",
       "    .dataframe tbody tr th {\n",
       "        vertical-align: top;\n",
       "    }\n",
       "\n",
       "    .dataframe thead th {\n",
       "        text-align: right;\n",
       "    }\n",
       "</style>\n",
       "<table border=\"1\" class=\"dataframe\">\n",
       "  <thead>\n",
       "    <tr style=\"text-align: right;\">\n",
       "      <th></th>\n",
       "      <th></th>\n",
       "      <th></th>\n",
       "      <th>sum_distance</th>\n",
       "      <th>sum_duration</th>\n",
       "      <th>count_rides</th>\n",
       "      <th>sum_income_ride</th>\n",
       "      <th>sum_sub</th>\n",
       "      <th>income_month</th>\n",
       "    </tr>\n",
       "    <tr>\n",
       "      <th>user_id</th>\n",
       "      <th>month_number</th>\n",
       "      <th>subscription_type</th>\n",
       "      <th></th>\n",
       "      <th></th>\n",
       "      <th></th>\n",
       "      <th></th>\n",
       "      <th></th>\n",
       "      <th></th>\n",
       "    </tr>\n",
       "  </thead>\n",
       "  <tbody>\n",
       "    <tr>\n",
       "      <th rowspan=\"5\" valign=\"top\">1</th>\n",
       "      <th>1</th>\n",
       "      <th>ultra</th>\n",
       "      <td>7027.511294</td>\n",
       "      <td>41.416640</td>\n",
       "      <td>2</td>\n",
       "      <td>252</td>\n",
       "      <td>199</td>\n",
       "      <td>451</td>\n",
       "    </tr>\n",
       "    <tr>\n",
       "      <th>4</th>\n",
       "      <th>ultra</th>\n",
       "      <td>754.159807</td>\n",
       "      <td>6.232113</td>\n",
       "      <td>1</td>\n",
       "      <td>42</td>\n",
       "      <td>199</td>\n",
       "      <td>241</td>\n",
       "    </tr>\n",
       "    <tr>\n",
       "      <th>8</th>\n",
       "      <th>ultra</th>\n",
       "      <td>6723.470560</td>\n",
       "      <td>44.776802</td>\n",
       "      <td>2</td>\n",
       "      <td>276</td>\n",
       "      <td>199</td>\n",
       "      <td>475</td>\n",
       "    </tr>\n",
       "    <tr>\n",
       "      <th>10</th>\n",
       "      <th>ultra</th>\n",
       "      <td>5809.911100</td>\n",
       "      <td>31.578017</td>\n",
       "      <td>2</td>\n",
       "      <td>192</td>\n",
       "      <td>199</td>\n",
       "      <td>391</td>\n",
       "    </tr>\n",
       "    <tr>\n",
       "      <th>11</th>\n",
       "      <th>ultra</th>\n",
       "      <td>7003.499363</td>\n",
       "      <td>53.397424</td>\n",
       "      <td>3</td>\n",
       "      <td>336</td>\n",
       "      <td>199</td>\n",
       "      <td>535</td>\n",
       "    </tr>\n",
       "    <tr>\n",
       "      <th>...</th>\n",
       "      <th>...</th>\n",
       "      <th>...</th>\n",
       "      <td>...</td>\n",
       "      <td>...</td>\n",
       "      <td>...</td>\n",
       "      <td>...</td>\n",
       "      <td>...</td>\n",
       "      <td>...</td>\n",
       "    </tr>\n",
       "    <tr>\n",
       "      <th rowspan=\"5\" valign=\"top\">1534</th>\n",
       "      <th>6</th>\n",
       "      <th>free</th>\n",
       "      <td>3409.468534</td>\n",
       "      <td>24.812678</td>\n",
       "      <td>2</td>\n",
       "      <td>308</td>\n",
       "      <td>0</td>\n",
       "      <td>308</td>\n",
       "    </tr>\n",
       "    <tr>\n",
       "      <th>8</th>\n",
       "      <th>free</th>\n",
       "      <td>7622.453034</td>\n",
       "      <td>47.205960</td>\n",
       "      <td>2</td>\n",
       "      <td>484</td>\n",
       "      <td>0</td>\n",
       "      <td>484</td>\n",
       "    </tr>\n",
       "    <tr>\n",
       "      <th>9</th>\n",
       "      <th>free</th>\n",
       "      <td>4928.173852</td>\n",
       "      <td>22.560373</td>\n",
       "      <td>1</td>\n",
       "      <td>234</td>\n",
       "      <td>0</td>\n",
       "      <td>234</td>\n",
       "    </tr>\n",
       "    <tr>\n",
       "      <th>11</th>\n",
       "      <th>free</th>\n",
       "      <td>13350.015305</td>\n",
       "      <td>76.342174</td>\n",
       "      <td>4</td>\n",
       "      <td>824</td>\n",
       "      <td>0</td>\n",
       "      <td>824</td>\n",
       "    </tr>\n",
       "    <tr>\n",
       "      <th>12</th>\n",
       "      <th>free</th>\n",
       "      <td>2371.711192</td>\n",
       "      <td>15.893917</td>\n",
       "      <td>1</td>\n",
       "      <td>178</td>\n",
       "      <td>0</td>\n",
       "      <td>178</td>\n",
       "    </tr>\n",
       "  </tbody>\n",
       "</table>\n",
       "<p>11331 rows × 6 columns</p>\n",
       "</div>"
      ],
      "text/plain": [
       "                                        sum_distance  sum_duration  \\\n",
       "user_id month_number subscription_type                               \n",
       "1       1            ultra               7027.511294     41.416640   \n",
       "        4            ultra                754.159807      6.232113   \n",
       "        8            ultra               6723.470560     44.776802   \n",
       "        10           ultra               5809.911100     31.578017   \n",
       "        11           ultra               7003.499363     53.397424   \n",
       "...                                              ...           ...   \n",
       "1534    6            free                3409.468534     24.812678   \n",
       "        8            free                7622.453034     47.205960   \n",
       "        9            free                4928.173852     22.560373   \n",
       "        11           free               13350.015305     76.342174   \n",
       "        12           free                2371.711192     15.893917   \n",
       "\n",
       "                                        count_rides  sum_income_ride  sum_sub  \\\n",
       "user_id month_number subscription_type                                          \n",
       "1       1            ultra                        2              252      199   \n",
       "        4            ultra                        1               42      199   \n",
       "        8            ultra                        2              276      199   \n",
       "        10           ultra                        2              192      199   \n",
       "        11           ultra                        3              336      199   \n",
       "...                                             ...              ...      ...   \n",
       "1534    6            free                         2              308        0   \n",
       "        8            free                         2              484        0   \n",
       "        9            free                         1              234        0   \n",
       "        11           free                         4              824        0   \n",
       "        12           free                         1              178        0   \n",
       "\n",
       "                                        income_month  \n",
       "user_id month_number subscription_type                \n",
       "1       1            ultra                       451  \n",
       "        4            ultra                       241  \n",
       "        8            ultra                       475  \n",
       "        10           ultra                       391  \n",
       "        11           ultra                       535  \n",
       "...                                              ...  \n",
       "1534    6            free                        308  \n",
       "        8            free                        484  \n",
       "        9            free                        234  \n",
       "        11           free                        824  \n",
       "        12           free                        178  \n",
       "\n",
       "[11331 rows x 6 columns]"
      ]
     },
     "execution_count": 65,
     "metadata": {},
     "output_type": "execute_result"
    }
   ],
   "source": [
    "# Напечатаем еще раз таблицу из более ранних шагов\n",
    "data_group_sum"
   ]
  },
  {
   "cell_type": "code",
   "execution_count": 66,
   "id": "e5c84bc1",
   "metadata": {
    "scrolled": true
   },
   "outputs": [
    {
     "name": "stdout",
     "output_type": "stream",
     "text": [
      "         month_number subscription_type  sum_distance  sum_duration  \\\n",
      "user_id                                                               \n",
      "1                   1             ultra   7027.511294     41.416640   \n",
      "1                   4             ultra    754.159807      6.232113   \n",
      "1                   8             ultra   6723.470560     44.776802   \n",
      "1                  10             ultra   5809.911100     31.578017   \n",
      "1                  11             ultra   7003.499363     53.397424   \n",
      "...               ...               ...           ...           ...   \n",
      "1534                6              free   3409.468534     24.812678   \n",
      "1534                8              free   7622.453034     47.205960   \n",
      "1534                9              free   4928.173852     22.560373   \n",
      "1534               11              free  13350.015305     76.342174   \n",
      "1534               12              free   2371.711192     15.893917   \n",
      "\n",
      "         count_rides  sum_income_ride  sum_sub  income_month  \n",
      "user_id                                                       \n",
      "1                  2              252      199           451  \n",
      "1                  1               42      199           241  \n",
      "1                  2              276      199           475  \n",
      "1                  2              192      199           391  \n",
      "1                  3              336      199           535  \n",
      "...              ...              ...      ...           ...  \n",
      "1534               2              308        0           308  \n",
      "1534               2              484        0           484  \n",
      "1534               1              234        0           234  \n",
      "1534               4              824        0           824  \n",
      "1534               1              178        0           178  \n",
      "\n",
      "[11331 rows x 8 columns]\n"
     ]
    }
   ],
   "source": [
    "# переведем индексы в столбцы в таблице с доходом по месяцам\n",
    "data_group_sum.reset_index(inplace= True, level=['subscription_type', 'month_number'])\n",
    "print(data_group_sum)"
   ]
  },
  {
   "cell_type": "code",
   "execution_count": 67,
   "id": "7e2e7a80",
   "metadata": {},
   "outputs": [
    {
     "name": "stdout",
     "output_type": "stream",
     "text": [
      "p-значение в номере месяца 1 равняется 0.9999998977181809\n",
      "p-значение в номере месяца 2 равняется 0.9999889008403645\n",
      "p-значение в номере месяца 3 равняется 0.9944391624717124\n",
      "p-значение в номере месяца 4 равняется 0.9997320796715885\n",
      "p-значение в номере месяца 5 равняется 0.9999944773958577\n",
      "p-значение в номере месяца 6 равняется 0.9999737681810137\n",
      "p-значение в номере месяца 7 равняется 0.9999866629531736\n",
      "p-значение в номере месяца 8 равняется 0.9994148761098438\n",
      "p-значение в номере месяца 9 равняется 0.9995323039940404\n",
      "p-значение в номере месяца 10 равняется 0.9993668181162226\n",
      "p-значение в номере месяца 11 равняется 0.9999810012183423\n",
      "p-значение в номере месяца 12 равняется 0.9997984049737871\n"
     ]
    }
   ],
   "source": [
    "# проведем ttest, данные имеют неравные знчения генеральной совокупности, соотвтетственно equal_var=False\n",
    "for i in (data_group_sum['month_number'].sort_values().unique()):\n",
    "    arr1 = data_group_sum[(data_group_sum['month_number'] == i) & (data_group_sum['subscription_type'] == 'ultra')]['income_month'] \n",
    "    arr2 = data_group_sum[(data_group_sum['month_number'] == i) & (data_group_sum['subscription_type'] == 'free')]['income_month']\n",
    "    results = st.ttest_ind(arr1, arr2, equal_var = False, alternative='less')\n",
    "    print(f'p-значение в номере месяца {i} равняется {results.pvalue}')"
   ]
  },
  {
   "cell_type": "markdown",
   "id": "48703012",
   "metadata": {},
   "source": [
    "Значения p-value равны почти 1, соотвтетственно нулевая гипотеза о том, что доход с платных подписчиков больше чем с простых многовероятен"
   ]
  },
  {
   "cell_type": "markdown",
   "id": "d2ab6777",
   "metadata": {},
   "source": [
    "##### Представьте такую ситуацию: техническая команда сервиса обновила сервера, с которыми взаимодействует мобильное приложение. Она надеется, что из-за этого количество обращений в техподдержку значимо снизилось. Некоторый файл содержит для каждого пользователя данные о количестве обращений до обновления и после него. Какой тест вам понадобился бы для проверки этой гипотезы?"
   ]
  },
  {
   "cell_type": "markdown",
   "id": "9f5c87fd",
   "metadata": {},
   "source": [
    "Данные выборки имеют зависимость, соответственно надо провести ttest_rel\n",
    "Нулевая гипотеза что осталось на прежнем уровне\n",
    "Альтернативная, что уменьшилось"
   ]
  },
  {
   "cell_type": "code",
   "execution_count": 79,
   "id": "c0f97f43",
   "metadata": {},
   "outputs": [],
   "source": [
    "# пример\n",
    "# results = st.ttest_rel(before, after, alternative='less')\n",
    "# print(('p-значение:', results.pvalue))"
   ]
  },
  {
   "cell_type": "markdown",
   "id": "0098a826",
   "metadata": {},
   "source": [
    "# Заключение\n",
    "В данной работе были рассмотренны все первоначальные задачи:\n",
    "- была изучена база данных\n",
    "- Были построены графики:\n",
    "    - частоты городов (количество клиентов почти равномерно распределено между городами, макс. 219 в Пятигорске, мин. 168 в Москве)\n",
    "    - соотношения числа пользователей по подписке (45.6% пользователей оформили подписку ультра)\n",
    "    - возрастов пользователей (наибольшее количество клиентв имеют возраст 20-30 лет)\n",
    "    - расстояние одной поездки (поездки делятся условно на короткие (500 метров в среднем) и длинные (3 км в среднем), при этом количесво длинных поездок сильно больше, чем коротких (90% поездок против 10%)\n",
    "    - продолжительность поездок (в среднем люди с подпиской катаются 18 минут, а люди без подписки - 17 минут\n",
    "- Изучены поездки людей с подпиской и без\n",
    "- Была подсчитана выручка от каждого пользователя\n",
    "- Проверены следующие гипотезы:\n",
    "    - гипотеза о равенстве времен поездок скорее всего неверна и люди с подпиской ездят дольше (p-value порядка 1e-32)\n",
    "    - гипотеза о среднем расстоянии поездки 3130 метров скорее всего верна (p_value = 0.92)\n",
    "    - гипотеза о том, что <b>люди с подпиской выгодны для компании</b> также скорее всего <b>верна</b>, во все месяца значение p-value стремилось к 1\n",
    "\n",
    "Исходя из результатов проверки последней гипотезы можно говорить о том, что люди, покупающие подписку выгодны компании в сравнении с людьми, не покупающими подписку"
   ]
  },
  {
   "cell_type": "markdown",
   "id": "61213c5e",
   "metadata": {},
   "source": [
    "#### Шаг 7. Распределения"
   ]
  },
  {
   "cell_type": "markdown",
   "id": "8057a2e6",
   "metadata": {},
   "source": [
    "##### \n",
    "Отделу маркетинга GoFast поставили задачу: нужно провести акцию с раздачей промокодов на один бесплатный месяц подписки, в рамках которой как минимум 100 существующих клиентов должны продлить эту подписку. То есть по завершении периода действия подписки пользователь может либо отказаться от неё, либо продлить, совершив соответствующий платёж. \n",
    "Эта акция уже проводилась ранее и по итогу выяснилось, что после бесплатного пробного периода подписку продлевают 10 % пользователей. Выясните, какое минимальное количество промокодов нужно разослать, чтобы вероятность не выполнить план была примерно 5 %. Подберите параметры распределения, описывающего эту ситуацию, постройте график распределения и сформулируйте ответ на вопрос о количестве промокодов."
   ]
  },
  {
   "cell_type": "code",
   "execution_count": 80,
   "id": "1c890e17",
   "metadata": {},
   "outputs": [
    {
     "name": "stdout",
     "output_type": "stream",
     "text": [
      "0.050650790692463\n"
     ]
    }
   ],
   "source": [
    "number = 1168 # количсетво пробников\n",
    "alpha = 0.05 # вероятность не выполнить\n",
    "prob = 0.1 # шанс подпсики\n",
    "sub=100\n",
    "\n",
    "mu = number*prob # мат ожидание\n",
    "sigma = sqrt(number*prob*(1-prob)) #дисперсия\n",
    "\n",
    "distr = st.norm(mu, sigma)\n",
    "\n",
    "result = distr.cdf(sub)\n",
    "print(result)"
   ]
  },
  {
   "cell_type": "markdown",
   "id": "9a1f3203",
   "metadata": {},
   "source": [
    "Вывод: минимальное количество подписок составляет 1168, чтобы шанс на успех был 95%"
   ]
  }
 ],
 "metadata": {
  "ExecuteTimeLog": [
   {
    "duration": 412,
    "start_time": "2023-09-16T16:53:55.775Z"
   },
   {
    "duration": 86,
    "start_time": "2023-09-16T16:54:38.468Z"
   },
   {
    "duration": 93,
    "start_time": "2023-09-16T16:55:11.698Z"
   },
   {
    "duration": 41,
    "start_time": "2023-09-16T16:55:28.665Z"
   },
   {
    "duration": 118,
    "start_time": "2023-09-16T16:56:27.814Z"
   },
   {
    "duration": 103,
    "start_time": "2023-09-16T16:57:54.536Z"
   },
   {
    "duration": 37,
    "start_time": "2023-09-16T16:58:59.082Z"
   },
   {
    "duration": 44,
    "start_time": "2023-09-16T16:59:25.964Z"
   },
   {
    "duration": 10,
    "start_time": "2023-09-16T16:59:27.883Z"
   },
   {
    "duration": 12,
    "start_time": "2023-09-16T16:59:39.531Z"
   },
   {
    "duration": 11,
    "start_time": "2023-09-16T17:00:14.089Z"
   },
   {
    "duration": 34,
    "start_time": "2023-09-16T17:00:16.873Z"
   },
   {
    "duration": 14,
    "start_time": "2023-09-16T17:00:44.681Z"
   },
   {
    "duration": 3,
    "start_time": "2023-09-16T17:01:52.970Z"
   },
   {
    "duration": 34,
    "start_time": "2023-09-16T17:01:52.976Z"
   },
   {
    "duration": 9,
    "start_time": "2023-09-16T17:01:53.012Z"
   },
   {
    "duration": 15,
    "start_time": "2023-09-16T17:01:53.024Z"
   },
   {
    "duration": 60,
    "start_time": "2023-09-16T17:01:53.042Z"
   },
   {
    "duration": 9,
    "start_time": "2023-09-16T17:01:53.103Z"
   },
   {
    "duration": 15,
    "start_time": "2023-09-16T17:01:53.114Z"
   },
   {
    "duration": 21,
    "start_time": "2023-09-16T17:01:53.130Z"
   },
   {
    "duration": 10,
    "start_time": "2023-09-16T17:01:53.153Z"
   },
   {
    "duration": 12,
    "start_time": "2023-09-16T17:01:53.165Z"
   },
   {
    "duration": 128,
    "start_time": "2023-09-16T17:07:08.616Z"
   },
   {
    "duration": 11,
    "start_time": "2023-09-16T17:12:55.765Z"
   },
   {
    "duration": 14,
    "start_time": "2023-09-16T17:13:07.612Z"
   },
   {
    "duration": 13,
    "start_time": "2023-09-16T17:13:51.923Z"
   },
   {
    "duration": 10,
    "start_time": "2023-09-16T17:15:18.262Z"
   },
   {
    "duration": 8,
    "start_time": "2023-09-16T17:19:07.866Z"
   },
   {
    "duration": 3,
    "start_time": "2023-09-16T17:19:15.812Z"
   },
   {
    "duration": 61,
    "start_time": "2023-09-16T17:19:15.816Z"
   },
   {
    "duration": 10,
    "start_time": "2023-09-16T17:19:15.879Z"
   },
   {
    "duration": 46,
    "start_time": "2023-09-16T17:19:15.891Z"
   },
   {
    "duration": 51,
    "start_time": "2023-09-16T17:19:15.940Z"
   },
   {
    "duration": 9,
    "start_time": "2023-09-16T17:19:15.993Z"
   },
   {
    "duration": 36,
    "start_time": "2023-09-16T17:19:16.004Z"
   },
   {
    "duration": 41,
    "start_time": "2023-09-16T17:19:16.042Z"
   },
   {
    "duration": 7,
    "start_time": "2023-09-16T17:19:16.085Z"
   },
   {
    "duration": 18,
    "start_time": "2023-09-16T17:19:16.094Z"
   },
   {
    "duration": 45,
    "start_time": "2023-09-16T17:19:16.114Z"
   },
   {
    "duration": 20,
    "start_time": "2023-09-16T17:19:16.161Z"
   },
   {
    "duration": 8,
    "start_time": "2023-09-16T17:19:18.484Z"
   },
   {
    "duration": 6,
    "start_time": "2023-09-16T17:20:41.634Z"
   },
   {
    "duration": 7,
    "start_time": "2023-09-16T17:22:06.019Z"
   },
   {
    "duration": 7,
    "start_time": "2023-09-16T17:22:24.131Z"
   },
   {
    "duration": 7,
    "start_time": "2023-09-16T17:23:25.086Z"
   },
   {
    "duration": 5,
    "start_time": "2023-09-16T17:24:20.884Z"
   },
   {
    "duration": 9,
    "start_time": "2023-09-16T17:24:43.272Z"
   },
   {
    "duration": 10,
    "start_time": "2023-09-16T17:24:54.952Z"
   },
   {
    "duration": 7,
    "start_time": "2023-09-16T17:26:47.752Z"
   },
   {
    "duration": 8,
    "start_time": "2023-09-16T17:28:09.130Z"
   },
   {
    "duration": 6,
    "start_time": "2023-09-16T17:32:39.108Z"
   },
   {
    "duration": 12,
    "start_time": "2023-09-16T17:34:19.242Z"
   },
   {
    "duration": 4,
    "start_time": "2023-09-16T17:34:35.179Z"
   },
   {
    "duration": 32,
    "start_time": "2023-09-16T17:34:35.184Z"
   },
   {
    "duration": 13,
    "start_time": "2023-09-16T17:34:35.218Z"
   },
   {
    "duration": 15,
    "start_time": "2023-09-16T17:34:35.234Z"
   },
   {
    "duration": 38,
    "start_time": "2023-09-16T17:34:35.253Z"
   },
   {
    "duration": 12,
    "start_time": "2023-09-16T17:34:35.293Z"
   },
   {
    "duration": 17,
    "start_time": "2023-09-16T17:34:35.306Z"
   },
   {
    "duration": 16,
    "start_time": "2023-09-16T17:34:35.325Z"
   },
   {
    "duration": 18,
    "start_time": "2023-09-16T17:34:35.343Z"
   },
   {
    "duration": 13,
    "start_time": "2023-09-16T17:34:35.364Z"
   },
   {
    "duration": 23,
    "start_time": "2023-09-16T17:34:35.379Z"
   },
   {
    "duration": 10,
    "start_time": "2023-09-16T17:34:35.405Z"
   },
   {
    "duration": 5,
    "start_time": "2023-09-16T17:34:35.416Z"
   },
   {
    "duration": 25,
    "start_time": "2023-09-16T17:34:35.423Z"
   },
   {
    "duration": 17,
    "start_time": "2023-09-16T17:34:35.454Z"
   },
   {
    "duration": 8,
    "start_time": "2023-09-16T17:34:35.473Z"
   },
   {
    "duration": 10,
    "start_time": "2023-09-16T17:34:35.482Z"
   },
   {
    "duration": 17,
    "start_time": "2023-09-16T17:34:35.494Z"
   },
   {
    "duration": 9,
    "start_time": "2023-09-16T17:35:18.028Z"
   },
   {
    "duration": 3,
    "start_time": "2023-09-16T17:37:53.672Z"
   },
   {
    "duration": 13,
    "start_time": "2023-09-16T17:38:06.129Z"
   },
   {
    "duration": 11,
    "start_time": "2023-09-16T17:39:16.423Z"
   },
   {
    "duration": 665,
    "start_time": "2023-09-16T17:41:01.028Z"
   },
   {
    "duration": 10,
    "start_time": "2023-09-16T17:43:05.158Z"
   },
   {
    "duration": 14,
    "start_time": "2023-09-16T17:43:56.988Z"
   },
   {
    "duration": 8,
    "start_time": "2023-09-16T17:44:10.999Z"
   },
   {
    "duration": 7,
    "start_time": "2023-09-16T17:44:24.331Z"
   },
   {
    "duration": 5,
    "start_time": "2023-09-16T17:45:25.845Z"
   },
   {
    "duration": 36,
    "start_time": "2023-09-16T17:45:25.853Z"
   },
   {
    "duration": 9,
    "start_time": "2023-09-16T17:45:25.891Z"
   },
   {
    "duration": 30,
    "start_time": "2023-09-16T17:45:25.902Z"
   },
   {
    "duration": 36,
    "start_time": "2023-09-16T17:45:25.936Z"
   },
   {
    "duration": 10,
    "start_time": "2023-09-16T17:45:25.974Z"
   },
   {
    "duration": 12,
    "start_time": "2023-09-16T17:45:25.985Z"
   },
   {
    "duration": 21,
    "start_time": "2023-09-16T17:45:25.999Z"
   },
   {
    "duration": 8,
    "start_time": "2023-09-16T17:45:26.021Z"
   },
   {
    "duration": 15,
    "start_time": "2023-09-16T17:45:26.030Z"
   },
   {
    "duration": 16,
    "start_time": "2023-09-16T17:45:26.054Z"
   },
   {
    "duration": 15,
    "start_time": "2023-09-16T17:45:26.072Z"
   },
   {
    "duration": 6,
    "start_time": "2023-09-16T17:45:26.089Z"
   },
   {
    "duration": 40,
    "start_time": "2023-09-16T17:45:26.097Z"
   },
   {
    "duration": 14,
    "start_time": "2023-09-16T17:45:26.139Z"
   },
   {
    "duration": 8,
    "start_time": "2023-09-16T17:45:26.162Z"
   },
   {
    "duration": 15,
    "start_time": "2023-09-16T17:45:26.171Z"
   },
   {
    "duration": 14,
    "start_time": "2023-09-16T17:45:26.188Z"
   },
   {
    "duration": 15,
    "start_time": "2023-09-16T17:45:26.204Z"
   },
   {
    "duration": 31,
    "start_time": "2023-09-16T17:45:26.221Z"
   },
   {
    "duration": 8,
    "start_time": "2023-09-16T17:45:26.259Z"
   },
   {
    "duration": 7,
    "start_time": "2023-09-16T17:45:26.268Z"
   },
   {
    "duration": 62,
    "start_time": "2023-09-17T13:10:11.880Z"
   },
   {
    "duration": 448,
    "start_time": "2023-09-17T13:10:19.078Z"
   },
   {
    "duration": 77,
    "start_time": "2023-09-17T13:10:19.528Z"
   },
   {
    "duration": 32,
    "start_time": "2023-09-17T13:10:19.607Z"
   },
   {
    "duration": 28,
    "start_time": "2023-09-17T13:10:19.642Z"
   },
   {
    "duration": 94,
    "start_time": "2023-09-17T13:10:19.675Z"
   },
   {
    "duration": 10,
    "start_time": "2023-09-17T13:10:19.771Z"
   },
   {
    "duration": 13,
    "start_time": "2023-09-17T13:10:19.782Z"
   },
   {
    "duration": 72,
    "start_time": "2023-09-17T13:10:19.796Z"
   },
   {
    "duration": 12,
    "start_time": "2023-09-17T13:10:19.870Z"
   },
   {
    "duration": 68,
    "start_time": "2023-09-17T13:10:19.884Z"
   },
   {
    "duration": 29,
    "start_time": "2023-09-17T13:10:19.954Z"
   },
   {
    "duration": 29,
    "start_time": "2023-09-17T13:10:19.984Z"
   },
   {
    "duration": 25,
    "start_time": "2023-09-17T13:10:20.014Z"
   },
   {
    "duration": 37,
    "start_time": "2023-09-17T13:10:20.044Z"
   },
   {
    "duration": 16,
    "start_time": "2023-09-17T13:10:20.083Z"
   },
   {
    "duration": 27,
    "start_time": "2023-09-17T13:10:20.101Z"
   },
   {
    "duration": 16,
    "start_time": "2023-09-17T13:10:20.136Z"
   },
   {
    "duration": 23,
    "start_time": "2023-09-17T13:10:20.155Z"
   },
   {
    "duration": 17,
    "start_time": "2023-09-17T13:10:20.180Z"
   },
   {
    "duration": 38,
    "start_time": "2023-09-17T13:10:20.199Z"
   },
   {
    "duration": 21,
    "start_time": "2023-09-17T13:10:20.239Z"
   },
   {
    "duration": 15,
    "start_time": "2023-09-17T13:10:20.262Z"
   },
   {
    "duration": 10,
    "start_time": "2023-09-17T13:11:27.262Z"
   },
   {
    "duration": 466,
    "start_time": "2023-09-17T13:14:03.604Z"
   },
   {
    "duration": 40,
    "start_time": "2023-09-17T13:14:39.644Z"
   },
   {
    "duration": 7,
    "start_time": "2023-09-17T13:14:42.729Z"
   },
   {
    "duration": 171,
    "start_time": "2023-09-17T13:14:44.585Z"
   },
   {
    "duration": 164,
    "start_time": "2023-09-17T13:16:41.872Z"
   },
   {
    "duration": 6,
    "start_time": "2023-09-17T13:17:14.539Z"
   },
   {
    "duration": 7,
    "start_time": "2023-09-17T13:20:20.653Z"
   },
   {
    "duration": 188,
    "start_time": "2023-09-17T13:20:51.882Z"
   },
   {
    "duration": 7,
    "start_time": "2023-09-17T13:21:45.020Z"
   },
   {
    "duration": 229,
    "start_time": "2023-09-17T13:23:38.795Z"
   },
   {
    "duration": 145,
    "start_time": "2023-09-17T13:24:37.431Z"
   },
   {
    "duration": 271,
    "start_time": "2023-09-17T13:24:49.599Z"
   },
   {
    "duration": 188,
    "start_time": "2023-09-17T13:25:38.489Z"
   },
   {
    "duration": 212,
    "start_time": "2023-09-17T13:25:56.618Z"
   },
   {
    "duration": 192,
    "start_time": "2023-09-17T13:26:10.917Z"
   },
   {
    "duration": 6,
    "start_time": "2023-09-17T13:26:55.381Z"
   },
   {
    "duration": 6,
    "start_time": "2023-09-17T13:27:20.551Z"
   },
   {
    "duration": 222,
    "start_time": "2023-09-17T13:27:38.810Z"
   },
   {
    "duration": 7,
    "start_time": "2023-09-17T13:29:40.420Z"
   },
   {
    "duration": 13,
    "start_time": "2023-09-17T13:35:40.885Z"
   },
   {
    "duration": 219,
    "start_time": "2023-09-17T13:36:56.411Z"
   },
   {
    "duration": 243,
    "start_time": "2023-09-17T13:38:19.200Z"
   },
   {
    "duration": 344,
    "start_time": "2023-09-17T13:40:30.388Z"
   },
   {
    "duration": 179,
    "start_time": "2023-09-17T13:40:35.888Z"
   },
   {
    "duration": 19,
    "start_time": "2023-09-17T14:17:00.951Z"
   },
   {
    "duration": 23,
    "start_time": "2023-09-17T14:17:09.431Z"
   },
   {
    "duration": 32,
    "start_time": "2023-09-17T14:17:40.583Z"
   },
   {
    "duration": 28,
    "start_time": "2023-09-17T14:20:37.519Z"
   },
   {
    "duration": 7,
    "start_time": "2023-09-17T14:23:15.044Z"
   },
   {
    "duration": 222,
    "start_time": "2023-09-17T14:23:29.925Z"
   },
   {
    "duration": 11,
    "start_time": "2023-09-17T14:24:58.883Z"
   },
   {
    "duration": 7,
    "start_time": "2023-09-17T14:25:22.308Z"
   },
   {
    "duration": 21,
    "start_time": "2023-09-17T14:26:15.030Z"
   },
   {
    "duration": 17,
    "start_time": "2023-09-17T14:27:46.840Z"
   },
   {
    "duration": 270,
    "start_time": "2023-09-17T14:28:54.395Z"
   },
   {
    "duration": 251,
    "start_time": "2023-09-17T14:29:15.018Z"
   },
   {
    "duration": 1260,
    "start_time": "2023-09-17T14:36:36.916Z"
   },
   {
    "duration": 160,
    "start_time": "2023-09-17T14:36:52.842Z"
   },
   {
    "duration": 316,
    "start_time": "2023-09-17T14:37:50.142Z"
   },
   {
    "duration": 436,
    "start_time": "2023-09-17T14:40:48.939Z"
   },
   {
    "duration": 392,
    "start_time": "2023-09-17T14:41:42.461Z"
   },
   {
    "duration": 239,
    "start_time": "2023-09-17T14:42:51.387Z"
   },
   {
    "duration": 200,
    "start_time": "2023-09-17T14:43:26.891Z"
   },
   {
    "duration": 473,
    "start_time": "2023-09-17T14:45:11.795Z"
   },
   {
    "duration": 245,
    "start_time": "2023-09-17T14:46:56.602Z"
   },
   {
    "duration": 404,
    "start_time": "2023-09-17T14:47:12.511Z"
   },
   {
    "duration": 272,
    "start_time": "2023-09-17T14:47:14.983Z"
   },
   {
    "duration": 247,
    "start_time": "2023-09-17T14:50:27.405Z"
   },
   {
    "duration": 288,
    "start_time": "2023-09-17T14:50:34.525Z"
   },
   {
    "duration": 254,
    "start_time": "2023-09-17T14:50:54.103Z"
   },
   {
    "duration": 357,
    "start_time": "2023-09-17T14:53:13.296Z"
   },
   {
    "duration": 216,
    "start_time": "2023-09-17T14:53:19.144Z"
   },
   {
    "duration": 248,
    "start_time": "2023-09-17T14:53:24.435Z"
   },
   {
    "duration": 205,
    "start_time": "2023-09-17T14:53:50.642Z"
   },
   {
    "duration": 205,
    "start_time": "2023-09-17T14:53:57.047Z"
   },
   {
    "duration": 230,
    "start_time": "2023-09-17T14:54:15.157Z"
   },
   {
    "duration": 202,
    "start_time": "2023-09-17T14:54:19.587Z"
   },
   {
    "duration": 250,
    "start_time": "2023-09-17T14:54:30.599Z"
   },
   {
    "duration": 205,
    "start_time": "2023-09-17T14:54:34.112Z"
   },
   {
    "duration": 299,
    "start_time": "2023-09-17T14:55:30.115Z"
   },
   {
    "duration": 412,
    "start_time": "2023-09-17T14:56:40.387Z"
   },
   {
    "duration": 3,
    "start_time": "2023-09-17T15:02:05.394Z"
   },
   {
    "duration": 48,
    "start_time": "2023-09-17T15:02:05.402Z"
   },
   {
    "duration": 12,
    "start_time": "2023-09-17T15:02:05.453Z"
   },
   {
    "duration": 48,
    "start_time": "2023-09-17T15:02:05.467Z"
   },
   {
    "duration": 67,
    "start_time": "2023-09-17T15:02:05.518Z"
   },
   {
    "duration": 13,
    "start_time": "2023-09-17T15:02:05.588Z"
   },
   {
    "duration": 34,
    "start_time": "2023-09-17T15:02:05.603Z"
   },
   {
    "duration": 43,
    "start_time": "2023-09-17T15:02:05.640Z"
   },
   {
    "duration": 9,
    "start_time": "2023-09-17T15:02:05.685Z"
   },
   {
    "duration": 27,
    "start_time": "2023-09-17T15:02:05.696Z"
   },
   {
    "duration": 17,
    "start_time": "2023-09-17T15:02:05.724Z"
   },
   {
    "duration": 33,
    "start_time": "2023-09-17T15:02:05.743Z"
   },
   {
    "duration": 14,
    "start_time": "2023-09-17T15:02:05.779Z"
   },
   {
    "duration": 16,
    "start_time": "2023-09-17T15:02:05.795Z"
   },
   {
    "duration": 21,
    "start_time": "2023-09-17T15:02:05.816Z"
   },
   {
    "duration": 9,
    "start_time": "2023-09-17T15:02:05.840Z"
   },
   {
    "duration": 34,
    "start_time": "2023-09-17T15:02:05.851Z"
   },
   {
    "duration": 33,
    "start_time": "2023-09-17T15:02:05.888Z"
   },
   {
    "duration": 15,
    "start_time": "2023-09-17T15:02:05.923Z"
   },
   {
    "duration": 0,
    "start_time": "2023-09-17T15:02:05.939Z"
   },
   {
    "duration": 0,
    "start_time": "2023-09-17T15:02:05.941Z"
   },
   {
    "duration": 0,
    "start_time": "2023-09-17T15:02:05.943Z"
   },
   {
    "duration": 0,
    "start_time": "2023-09-17T15:02:05.944Z"
   },
   {
    "duration": 0,
    "start_time": "2023-09-17T15:02:05.946Z"
   },
   {
    "duration": 0,
    "start_time": "2023-09-17T15:02:05.948Z"
   },
   {
    "duration": 0,
    "start_time": "2023-09-17T15:02:05.950Z"
   },
   {
    "duration": 0,
    "start_time": "2023-09-17T15:02:05.952Z"
   },
   {
    "duration": 0,
    "start_time": "2023-09-17T15:02:05.953Z"
   },
   {
    "duration": 0,
    "start_time": "2023-09-17T15:02:05.955Z"
   },
   {
    "duration": 0,
    "start_time": "2023-09-17T15:02:05.958Z"
   },
   {
    "duration": 0,
    "start_time": "2023-09-17T15:02:05.960Z"
   },
   {
    "duration": 0,
    "start_time": "2023-09-17T15:02:05.961Z"
   },
   {
    "duration": 0,
    "start_time": "2023-09-17T15:02:05.962Z"
   },
   {
    "duration": 0,
    "start_time": "2023-09-17T15:02:05.964Z"
   },
   {
    "duration": 0,
    "start_time": "2023-09-17T15:02:05.966Z"
   },
   {
    "duration": 0,
    "start_time": "2023-09-17T15:02:06.009Z"
   },
   {
    "duration": 0,
    "start_time": "2023-09-17T15:02:06.011Z"
   },
   {
    "duration": 0,
    "start_time": "2023-09-17T15:02:06.012Z"
   },
   {
    "duration": 0,
    "start_time": "2023-09-17T15:02:06.013Z"
   },
   {
    "duration": 0,
    "start_time": "2023-09-17T15:02:06.014Z"
   },
   {
    "duration": 0,
    "start_time": "2023-09-17T15:02:06.016Z"
   },
   {
    "duration": 0,
    "start_time": "2023-09-17T15:02:06.016Z"
   },
   {
    "duration": 0,
    "start_time": "2023-09-17T15:02:06.018Z"
   },
   {
    "duration": 3,
    "start_time": "2023-09-17T16:03:59.058Z"
   },
   {
    "duration": 31,
    "start_time": "2023-09-17T16:03:59.063Z"
   },
   {
    "duration": 10,
    "start_time": "2023-09-17T16:03:59.096Z"
   },
   {
    "duration": 14,
    "start_time": "2023-09-17T16:03:59.108Z"
   },
   {
    "duration": 29,
    "start_time": "2023-09-17T16:03:59.124Z"
   },
   {
    "duration": 10,
    "start_time": "2023-09-17T16:03:59.155Z"
   },
   {
    "duration": 12,
    "start_time": "2023-09-17T16:03:59.167Z"
   },
   {
    "duration": 16,
    "start_time": "2023-09-17T16:03:59.180Z"
   },
   {
    "duration": 8,
    "start_time": "2023-09-17T16:03:59.210Z"
   },
   {
    "duration": 11,
    "start_time": "2023-09-17T16:03:59.219Z"
   },
   {
    "duration": 14,
    "start_time": "2023-09-17T16:03:59.232Z"
   },
   {
    "duration": 11,
    "start_time": "2023-09-17T16:03:59.248Z"
   },
   {
    "duration": 7,
    "start_time": "2023-09-17T16:03:59.261Z"
   },
   {
    "duration": 39,
    "start_time": "2023-09-17T16:03:59.271Z"
   },
   {
    "duration": 11,
    "start_time": "2023-09-17T16:03:59.313Z"
   },
   {
    "duration": 10,
    "start_time": "2023-09-17T16:03:59.327Z"
   },
   {
    "duration": 9,
    "start_time": "2023-09-17T16:03:59.340Z"
   },
   {
    "duration": 12,
    "start_time": "2023-09-17T16:03:59.352Z"
   },
   {
    "duration": 49,
    "start_time": "2023-09-17T16:03:59.366Z"
   },
   {
    "duration": 7,
    "start_time": "2023-09-17T16:03:59.416Z"
   },
   {
    "duration": 9,
    "start_time": "2023-09-17T16:03:59.424Z"
   },
   {
    "duration": 22,
    "start_time": "2023-09-17T16:03:59.436Z"
   },
   {
    "duration": 6,
    "start_time": "2023-09-17T16:03:59.460Z"
   },
   {
    "duration": 219,
    "start_time": "2023-09-17T16:03:59.468Z"
   },
   {
    "duration": 7,
    "start_time": "2023-09-17T16:03:59.689Z"
   },
   {
    "duration": 167,
    "start_time": "2023-09-17T16:03:59.710Z"
   },
   {
    "duration": 5,
    "start_time": "2023-09-17T16:03:59.879Z"
   },
   {
    "duration": 213,
    "start_time": "2023-09-17T16:03:59.886Z"
   },
   {
    "duration": 13,
    "start_time": "2023-09-17T16:04:00.101Z"
   },
   {
    "duration": 252,
    "start_time": "2023-09-17T16:04:00.115Z"
   },
   {
    "duration": 198,
    "start_time": "2023-09-17T16:04:00.369Z"
   },
   {
    "duration": 40,
    "start_time": "2023-09-17T16:04:00.569Z"
   },
   {
    "duration": 23,
    "start_time": "2023-09-17T16:04:00.612Z"
   },
   {
    "duration": 21,
    "start_time": "2023-09-17T16:04:00.638Z"
   },
   {
    "duration": 40,
    "start_time": "2023-09-17T16:04:00.662Z"
   },
   {
    "duration": 40,
    "start_time": "2023-09-17T16:04:00.704Z"
   },
   {
    "duration": 254,
    "start_time": "2023-09-17T16:04:00.746Z"
   },
   {
    "duration": 370,
    "start_time": "2023-09-17T16:04:01.002Z"
   },
   {
    "duration": 418,
    "start_time": "2023-09-17T16:04:01.374Z"
   },
   {
    "duration": 329,
    "start_time": "2023-09-17T16:04:01.794Z"
   },
   {
    "duration": 236,
    "start_time": "2023-09-17T16:04:02.127Z"
   },
   {
    "duration": 275,
    "start_time": "2023-09-17T16:04:02.365Z"
   },
   {
    "duration": 329,
    "start_time": "2023-09-17T16:04:02.642Z"
   },
   {
    "duration": 211,
    "start_time": "2023-09-17T16:07:51.827Z"
   },
   {
    "duration": 308,
    "start_time": "2023-09-17T16:08:01.846Z"
   },
   {
    "duration": 319,
    "start_time": "2023-09-17T16:08:14.978Z"
   },
   {
    "duration": 14,
    "start_time": "2023-09-17T16:12:40.429Z"
   },
   {
    "duration": 9,
    "start_time": "2023-09-17T16:14:51.203Z"
   },
   {
    "duration": 32,
    "start_time": "2023-09-17T16:14:59.318Z"
   },
   {
    "duration": 36,
    "start_time": "2023-09-17T16:15:38.200Z"
   },
   {
    "duration": 12,
    "start_time": "2023-09-17T16:25:48.773Z"
   },
   {
    "duration": 13,
    "start_time": "2023-09-17T16:25:57.816Z"
   },
   {
    "duration": 18,
    "start_time": "2023-09-17T16:26:30.704Z"
   },
   {
    "duration": 3,
    "start_time": "2023-09-17T16:35:53.790Z"
   },
   {
    "duration": 40,
    "start_time": "2023-09-17T16:35:53.796Z"
   },
   {
    "duration": 10,
    "start_time": "2023-09-17T16:35:53.838Z"
   },
   {
    "duration": 19,
    "start_time": "2023-09-17T16:35:53.850Z"
   },
   {
    "duration": 54,
    "start_time": "2023-09-17T16:35:53.870Z"
   },
   {
    "duration": 10,
    "start_time": "2023-09-17T16:35:53.927Z"
   },
   {
    "duration": 15,
    "start_time": "2023-09-17T16:35:53.938Z"
   },
   {
    "duration": 18,
    "start_time": "2023-09-17T16:35:53.955Z"
   },
   {
    "duration": 34,
    "start_time": "2023-09-17T16:35:53.976Z"
   },
   {
    "duration": 14,
    "start_time": "2023-09-17T16:35:54.012Z"
   },
   {
    "duration": 20,
    "start_time": "2023-09-17T16:35:54.030Z"
   },
   {
    "duration": 13,
    "start_time": "2023-09-17T16:35:54.052Z"
   },
   {
    "duration": 47,
    "start_time": "2023-09-17T16:35:54.067Z"
   },
   {
    "duration": 12,
    "start_time": "2023-09-17T16:35:54.116Z"
   },
   {
    "duration": 12,
    "start_time": "2023-09-17T16:35:54.131Z"
   },
   {
    "duration": 6,
    "start_time": "2023-09-17T16:35:54.145Z"
   },
   {
    "duration": 7,
    "start_time": "2023-09-17T16:35:54.153Z"
   },
   {
    "duration": 55,
    "start_time": "2023-09-17T16:35:54.161Z"
   },
   {
    "duration": 13,
    "start_time": "2023-09-17T16:35:54.217Z"
   },
   {
    "duration": 0,
    "start_time": "2023-09-17T16:35:54.232Z"
   },
   {
    "duration": 0,
    "start_time": "2023-09-17T16:35:54.234Z"
   },
   {
    "duration": 0,
    "start_time": "2023-09-17T16:35:54.235Z"
   },
   {
    "duration": 0,
    "start_time": "2023-09-17T16:35:54.236Z"
   },
   {
    "duration": 0,
    "start_time": "2023-09-17T16:35:54.237Z"
   },
   {
    "duration": 0,
    "start_time": "2023-09-17T16:35:54.238Z"
   },
   {
    "duration": 0,
    "start_time": "2023-09-17T16:35:54.239Z"
   },
   {
    "duration": 0,
    "start_time": "2023-09-17T16:35:54.239Z"
   },
   {
    "duration": 0,
    "start_time": "2023-09-17T16:35:54.240Z"
   },
   {
    "duration": 0,
    "start_time": "2023-09-17T16:35:54.242Z"
   },
   {
    "duration": 0,
    "start_time": "2023-09-17T16:35:54.243Z"
   },
   {
    "duration": 0,
    "start_time": "2023-09-17T16:35:54.244Z"
   },
   {
    "duration": 0,
    "start_time": "2023-09-17T16:35:54.246Z"
   },
   {
    "duration": 0,
    "start_time": "2023-09-17T16:35:54.246Z"
   },
   {
    "duration": 0,
    "start_time": "2023-09-17T16:35:54.247Z"
   },
   {
    "duration": 0,
    "start_time": "2023-09-17T16:35:54.249Z"
   },
   {
    "duration": 0,
    "start_time": "2023-09-17T16:35:54.250Z"
   },
   {
    "duration": 0,
    "start_time": "2023-09-17T16:35:54.251Z"
   },
   {
    "duration": 0,
    "start_time": "2023-09-17T16:35:54.252Z"
   },
   {
    "duration": 0,
    "start_time": "2023-09-17T16:35:54.253Z"
   },
   {
    "duration": 0,
    "start_time": "2023-09-17T16:35:54.254Z"
   },
   {
    "duration": 0,
    "start_time": "2023-09-17T16:35:54.256Z"
   },
   {
    "duration": 0,
    "start_time": "2023-09-17T16:35:54.257Z"
   },
   {
    "duration": 0,
    "start_time": "2023-09-17T16:35:54.258Z"
   },
   {
    "duration": 0,
    "start_time": "2023-09-17T16:35:54.312Z"
   },
   {
    "duration": 1,
    "start_time": "2023-09-17T16:35:54.317Z"
   },
   {
    "duration": 0,
    "start_time": "2023-09-17T16:35:54.322Z"
   },
   {
    "duration": 10,
    "start_time": "2023-09-17T16:36:46.395Z"
   },
   {
    "duration": 18,
    "start_time": "2023-09-17T16:39:48.609Z"
   },
   {
    "duration": 3,
    "start_time": "2023-09-17T16:39:53.447Z"
   },
   {
    "duration": 15,
    "start_time": "2023-09-17T16:39:57.476Z"
   },
   {
    "duration": 2,
    "start_time": "2023-09-17T16:40:14.087Z"
   },
   {
    "duration": 65,
    "start_time": "2023-09-17T16:40:14.091Z"
   },
   {
    "duration": 11,
    "start_time": "2023-09-17T16:40:14.158Z"
   },
   {
    "duration": 15,
    "start_time": "2023-09-17T16:40:14.172Z"
   },
   {
    "duration": 43,
    "start_time": "2023-09-17T16:40:14.189Z"
   },
   {
    "duration": 13,
    "start_time": "2023-09-17T16:40:14.237Z"
   },
   {
    "duration": 21,
    "start_time": "2023-09-17T16:40:14.253Z"
   },
   {
    "duration": 19,
    "start_time": "2023-09-17T16:40:14.276Z"
   },
   {
    "duration": 21,
    "start_time": "2023-09-17T16:40:14.313Z"
   },
   {
    "duration": 24,
    "start_time": "2023-09-17T16:40:14.339Z"
   },
   {
    "duration": 18,
    "start_time": "2023-09-17T16:40:14.365Z"
   },
   {
    "duration": 27,
    "start_time": "2023-09-17T16:40:14.385Z"
   },
   {
    "duration": 20,
    "start_time": "2023-09-17T16:40:14.417Z"
   },
   {
    "duration": 9,
    "start_time": "2023-09-17T16:40:14.441Z"
   },
   {
    "duration": 8,
    "start_time": "2023-09-17T16:40:14.453Z"
   },
   {
    "duration": 9,
    "start_time": "2023-09-17T16:40:14.463Z"
   },
   {
    "duration": 13,
    "start_time": "2023-09-17T16:40:14.474Z"
   },
   {
    "duration": 47,
    "start_time": "2023-09-17T16:40:14.489Z"
   },
   {
    "duration": 16,
    "start_time": "2023-09-17T16:40:14.538Z"
   },
   {
    "duration": 8,
    "start_time": "2023-09-17T16:40:14.557Z"
   },
   {
    "duration": 20,
    "start_time": "2023-09-17T16:40:14.567Z"
   },
   {
    "duration": 47,
    "start_time": "2023-09-17T16:40:14.589Z"
   },
   {
    "duration": 13,
    "start_time": "2023-09-17T16:40:14.639Z"
   },
   {
    "duration": 198,
    "start_time": "2023-09-17T16:40:14.657Z"
   },
   {
    "duration": 7,
    "start_time": "2023-09-17T16:40:14.858Z"
   },
   {
    "duration": 207,
    "start_time": "2023-09-17T16:40:14.867Z"
   },
   {
    "duration": 7,
    "start_time": "2023-09-17T16:40:15.076Z"
   },
   {
    "duration": 293,
    "start_time": "2023-09-17T16:40:15.085Z"
   },
   {
    "duration": 6,
    "start_time": "2023-09-17T16:40:15.382Z"
   },
   {
    "duration": 340,
    "start_time": "2023-09-17T16:40:15.390Z"
   },
   {
    "duration": 242,
    "start_time": "2023-09-17T16:40:15.732Z"
   },
   {
    "duration": 47,
    "start_time": "2023-09-17T16:40:15.977Z"
   },
   {
    "duration": 38,
    "start_time": "2023-09-17T16:40:16.028Z"
   },
   {
    "duration": 16,
    "start_time": "2023-09-17T16:40:16.069Z"
   },
   {
    "duration": 44,
    "start_time": "2023-09-17T16:40:16.087Z"
   },
   {
    "duration": 23,
    "start_time": "2023-09-17T16:40:16.134Z"
   },
   {
    "duration": 323,
    "start_time": "2023-09-17T16:40:16.160Z"
   },
   {
    "duration": 410,
    "start_time": "2023-09-17T16:40:16.486Z"
   },
   {
    "duration": 454,
    "start_time": "2023-09-17T16:40:16.908Z"
   },
   {
    "duration": 362,
    "start_time": "2023-09-17T16:40:17.364Z"
   },
   {
    "duration": 252,
    "start_time": "2023-09-17T16:40:17.728Z"
   },
   {
    "duration": 243,
    "start_time": "2023-09-17T16:40:17.982Z"
   },
   {
    "duration": 325,
    "start_time": "2023-09-17T16:40:18.227Z"
   },
   {
    "duration": 62,
    "start_time": "2023-09-17T16:40:18.554Z"
   },
   {
    "duration": 17,
    "start_time": "2023-09-17T16:40:18.622Z"
   },
   {
    "duration": 23,
    "start_time": "2023-09-17T16:40:18.641Z"
   },
   {
    "duration": 4,
    "start_time": "2023-09-17T16:53:14.836Z"
   },
   {
    "duration": 36,
    "start_time": "2023-09-17T16:53:14.842Z"
   },
   {
    "duration": 11,
    "start_time": "2023-09-17T16:53:14.880Z"
   },
   {
    "duration": 14,
    "start_time": "2023-09-17T16:53:14.893Z"
   },
   {
    "duration": 39,
    "start_time": "2023-09-17T16:53:14.912Z"
   },
   {
    "duration": 11,
    "start_time": "2023-09-17T16:53:14.952Z"
   },
   {
    "duration": 16,
    "start_time": "2023-09-17T16:53:14.965Z"
   },
   {
    "duration": 22,
    "start_time": "2023-09-17T16:53:14.983Z"
   },
   {
    "duration": 29,
    "start_time": "2023-09-17T16:53:15.007Z"
   },
   {
    "duration": 111,
    "start_time": "2023-09-17T16:53:15.039Z"
   },
   {
    "duration": 138,
    "start_time": "2023-09-17T16:53:15.153Z"
   },
   {
    "duration": 28,
    "start_time": "2023-09-17T16:53:15.293Z"
   },
   {
    "duration": 18,
    "start_time": "2023-09-17T16:53:15.328Z"
   },
   {
    "duration": 12,
    "start_time": "2023-09-17T16:53:15.351Z"
   },
   {
    "duration": 8,
    "start_time": "2023-09-17T16:53:15.366Z"
   },
   {
    "duration": 13,
    "start_time": "2023-09-17T16:53:15.376Z"
   },
   {
    "duration": 27,
    "start_time": "2023-09-17T16:53:15.392Z"
   },
   {
    "duration": 20,
    "start_time": "2023-09-17T16:53:15.421Z"
   },
   {
    "duration": 31,
    "start_time": "2023-09-17T16:53:15.445Z"
   },
   {
    "duration": 12,
    "start_time": "2023-09-17T16:53:15.478Z"
   },
   {
    "duration": 32,
    "start_time": "2023-09-17T16:53:15.493Z"
   },
   {
    "duration": 19,
    "start_time": "2023-09-17T16:53:15.528Z"
   },
   {
    "duration": 7,
    "start_time": "2023-09-17T16:53:15.550Z"
   },
   {
    "duration": 203,
    "start_time": "2023-09-17T16:53:15.559Z"
   },
   {
    "duration": 8,
    "start_time": "2023-09-17T16:53:15.765Z"
   },
   {
    "duration": 174,
    "start_time": "2023-09-17T16:53:15.775Z"
   },
   {
    "duration": 8,
    "start_time": "2023-09-17T16:53:15.952Z"
   },
   {
    "duration": 256,
    "start_time": "2023-09-17T16:53:15.962Z"
   },
   {
    "duration": 6,
    "start_time": "2023-09-17T16:53:16.223Z"
   },
   {
    "duration": 287,
    "start_time": "2023-09-17T16:53:16.238Z"
   },
   {
    "duration": 238,
    "start_time": "2023-09-17T16:53:16.528Z"
   },
   {
    "duration": 22,
    "start_time": "2023-09-17T16:53:16.768Z"
   },
   {
    "duration": 56,
    "start_time": "2023-09-17T16:53:16.792Z"
   },
   {
    "duration": 5,
    "start_time": "2023-09-17T16:53:16.851Z"
   },
   {
    "duration": 22,
    "start_time": "2023-09-17T16:53:16.858Z"
   },
   {
    "duration": 52,
    "start_time": "2023-09-17T16:53:16.882Z"
   },
   {
    "duration": 252,
    "start_time": "2023-09-17T16:53:16.936Z"
   },
   {
    "duration": 266,
    "start_time": "2023-09-17T16:53:17.190Z"
   },
   {
    "duration": 567,
    "start_time": "2023-09-17T16:53:17.458Z"
   },
   {
    "duration": 322,
    "start_time": "2023-09-17T16:53:18.027Z"
   },
   {
    "duration": 279,
    "start_time": "2023-09-17T16:53:18.351Z"
   },
   {
    "duration": 226,
    "start_time": "2023-09-17T16:53:18.633Z"
   },
   {
    "duration": 348,
    "start_time": "2023-09-17T16:53:18.861Z"
   },
   {
    "duration": 40,
    "start_time": "2023-09-17T16:53:19.215Z"
   },
   {
    "duration": 37,
    "start_time": "2023-09-17T16:54:13.963Z"
   },
   {
    "duration": 10,
    "start_time": "2023-09-17T16:54:16.797Z"
   },
   {
    "duration": 12,
    "start_time": "2023-09-17T16:54:21.158Z"
   },
   {
    "duration": 2178,
    "start_time": "2023-09-17T16:55:31.221Z"
   },
   {
    "duration": 13,
    "start_time": "2023-09-17T16:56:54.822Z"
   },
   {
    "duration": 16,
    "start_time": "2023-09-17T17:00:04.002Z"
   },
   {
    "duration": 20,
    "start_time": "2023-09-17T17:00:20.022Z"
   },
   {
    "duration": 22,
    "start_time": "2023-09-17T17:03:07.730Z"
   },
   {
    "duration": 23,
    "start_time": "2023-09-17T17:04:16.478Z"
   },
   {
    "duration": 17,
    "start_time": "2023-09-17T17:05:26.747Z"
   },
   {
    "duration": 38,
    "start_time": "2023-09-17T17:07:25.559Z"
   },
   {
    "duration": 13,
    "start_time": "2023-09-17T17:07:41.324Z"
   },
   {
    "duration": 52,
    "start_time": "2023-09-17T17:08:42.401Z"
   },
   {
    "duration": 11,
    "start_time": "2023-09-17T17:08:45.023Z"
   },
   {
    "duration": 20,
    "start_time": "2023-09-17T17:08:52.197Z"
   },
   {
    "duration": 23,
    "start_time": "2023-09-17T17:09:14.110Z"
   },
   {
    "duration": 39,
    "start_time": "2023-09-17T17:09:41.166Z"
   },
   {
    "duration": 35,
    "start_time": "2023-09-17T17:09:48.332Z"
   },
   {
    "duration": 99,
    "start_time": "2023-09-17T17:10:53.088Z"
   },
   {
    "duration": 38,
    "start_time": "2023-09-17T17:11:13.141Z"
   },
   {
    "duration": 97,
    "start_time": "2023-09-17T17:11:35.828Z"
   },
   {
    "duration": 21,
    "start_time": "2023-09-17T17:46:02.280Z"
   },
   {
    "duration": 19,
    "start_time": "2023-09-17T17:54:55.927Z"
   },
   {
    "duration": 51,
    "start_time": "2023-09-18T06:17:40.636Z"
   },
   {
    "duration": 914,
    "start_time": "2023-09-18T06:18:04.442Z"
   },
   {
    "duration": 77,
    "start_time": "2023-09-18T06:18:05.360Z"
   },
   {
    "duration": 21,
    "start_time": "2023-09-18T06:18:05.439Z"
   },
   {
    "duration": 14,
    "start_time": "2023-09-18T06:18:05.462Z"
   },
   {
    "duration": 90,
    "start_time": "2023-09-18T06:18:05.478Z"
   },
   {
    "duration": 10,
    "start_time": "2023-09-18T06:18:05.570Z"
   },
   {
    "duration": 31,
    "start_time": "2023-09-18T06:18:05.581Z"
   },
   {
    "duration": 59,
    "start_time": "2023-09-18T06:18:05.613Z"
   },
   {
    "duration": 8,
    "start_time": "2023-09-18T06:18:05.673Z"
   },
   {
    "duration": 40,
    "start_time": "2023-09-18T06:18:05.683Z"
   },
   {
    "duration": 49,
    "start_time": "2023-09-18T06:18:05.724Z"
   },
   {
    "duration": 61,
    "start_time": "2023-09-18T06:18:05.775Z"
   },
   {
    "duration": 34,
    "start_time": "2023-09-18T06:18:05.838Z"
   },
   {
    "duration": 28,
    "start_time": "2023-09-18T06:18:05.874Z"
   },
   {
    "duration": 19,
    "start_time": "2023-09-18T06:18:05.903Z"
   },
   {
    "duration": 37,
    "start_time": "2023-09-18T06:18:05.923Z"
   },
   {
    "duration": 22,
    "start_time": "2023-09-18T06:18:05.962Z"
   },
   {
    "duration": 37,
    "start_time": "2023-09-18T06:18:05.986Z"
   },
   {
    "duration": 31,
    "start_time": "2023-09-18T06:18:06.025Z"
   },
   {
    "duration": 10,
    "start_time": "2023-09-18T06:18:06.061Z"
   },
   {
    "duration": 22,
    "start_time": "2023-09-18T06:18:06.072Z"
   },
   {
    "duration": 12,
    "start_time": "2023-09-18T06:18:06.095Z"
   },
   {
    "duration": 15,
    "start_time": "2023-09-18T06:18:06.108Z"
   },
   {
    "duration": 197,
    "start_time": "2023-09-18T06:18:06.125Z"
   },
   {
    "duration": 7,
    "start_time": "2023-09-18T06:18:06.327Z"
   },
   {
    "duration": 149,
    "start_time": "2023-09-18T06:18:06.336Z"
   },
   {
    "duration": 6,
    "start_time": "2023-09-18T06:18:06.486Z"
   },
   {
    "duration": 210,
    "start_time": "2023-09-18T06:18:06.495Z"
   },
   {
    "duration": 6,
    "start_time": "2023-09-18T06:18:06.707Z"
   },
   {
    "duration": 308,
    "start_time": "2023-09-18T06:18:06.714Z"
   },
   {
    "duration": 213,
    "start_time": "2023-09-18T06:18:07.023Z"
   },
   {
    "duration": 31,
    "start_time": "2023-09-18T06:18:07.237Z"
   },
   {
    "duration": 167,
    "start_time": "2023-09-18T06:18:07.270Z"
   },
   {
    "duration": 159,
    "start_time": "2023-09-18T06:18:07.438Z"
   },
   {
    "duration": 40,
    "start_time": "2023-09-18T06:18:07.599Z"
   },
   {
    "duration": 22,
    "start_time": "2023-09-18T06:18:07.641Z"
   },
   {
    "duration": 236,
    "start_time": "2023-09-18T06:18:07.664Z"
   },
   {
    "duration": 249,
    "start_time": "2023-09-18T06:18:07.902Z"
   },
   {
    "duration": 399,
    "start_time": "2023-09-18T06:18:08.152Z"
   },
   {
    "duration": 303,
    "start_time": "2023-09-18T06:18:08.557Z"
   },
   {
    "duration": 291,
    "start_time": "2023-09-18T06:18:08.863Z"
   },
   {
    "duration": 203,
    "start_time": "2023-09-18T06:18:09.159Z"
   },
   {
    "duration": 311,
    "start_time": "2023-09-18T06:18:09.364Z"
   },
   {
    "duration": 36,
    "start_time": "2023-09-18T06:18:09.677Z"
   },
   {
    "duration": 10,
    "start_time": "2023-09-18T06:18:09.715Z"
   },
   {
    "duration": 41,
    "start_time": "2023-09-18T06:18:09.726Z"
   },
   {
    "duration": 96,
    "start_time": "2023-09-18T06:18:09.768Z"
   },
   {
    "duration": 0,
    "start_time": "2023-09-18T06:18:09.866Z"
   },
   {
    "duration": 0,
    "start_time": "2023-09-18T06:18:09.867Z"
   },
   {
    "duration": 0,
    "start_time": "2023-09-18T06:18:09.868Z"
   },
   {
    "duration": 0,
    "start_time": "2023-09-18T06:18:09.869Z"
   },
   {
    "duration": 0,
    "start_time": "2023-09-18T06:18:09.870Z"
   },
   {
    "duration": 0,
    "start_time": "2023-09-18T06:18:09.871Z"
   },
   {
    "duration": 2,
    "start_time": "2023-09-18T06:18:23.473Z"
   },
   {
    "duration": 17,
    "start_time": "2023-09-18T06:18:23.477Z"
   },
   {
    "duration": 15,
    "start_time": "2023-09-18T06:18:23.495Z"
   },
   {
    "duration": 82,
    "start_time": "2023-09-18T06:18:23.512Z"
   },
   {
    "duration": 3,
    "start_time": "2023-09-18T06:18:23.596Z"
   },
   {
    "duration": 25,
    "start_time": "2023-09-18T06:18:23.600Z"
   },
   {
    "duration": 58,
    "start_time": "2023-09-18T06:18:23.627Z"
   },
   {
    "duration": 4,
    "start_time": "2023-09-18T06:18:42.286Z"
   },
   {
    "duration": 4,
    "start_time": "2023-09-18T06:19:18.600Z"
   },
   {
    "duration": 29,
    "start_time": "2023-09-18T06:20:03.533Z"
   },
   {
    "duration": 24,
    "start_time": "2023-09-18T06:20:14.083Z"
   },
   {
    "duration": 14,
    "start_time": "2023-09-18T06:22:44.162Z"
   },
   {
    "duration": 16,
    "start_time": "2023-09-18T06:22:48.826Z"
   },
   {
    "duration": 130,
    "start_time": "2023-09-18T06:23:05.634Z"
   },
   {
    "duration": 17,
    "start_time": "2023-09-18T06:26:08.495Z"
   },
   {
    "duration": 29,
    "start_time": "2023-09-18T06:26:40.588Z"
   },
   {
    "duration": 14,
    "start_time": "2023-09-18T06:27:14.856Z"
   },
   {
    "duration": 17,
    "start_time": "2023-09-18T06:27:19.056Z"
   },
   {
    "duration": 82,
    "start_time": "2023-09-18T06:27:22.011Z"
   },
   {
    "duration": 85,
    "start_time": "2023-09-18T06:28:12.233Z"
   },
   {
    "duration": 83,
    "start_time": "2023-09-18T06:29:48.710Z"
   },
   {
    "duration": 69,
    "start_time": "2023-09-18T06:31:13.230Z"
   },
   {
    "duration": 16,
    "start_time": "2023-09-18T06:33:05.303Z"
   },
   {
    "duration": 19,
    "start_time": "2023-09-18T06:33:20.433Z"
   },
   {
    "duration": 15,
    "start_time": "2023-09-18T06:33:29.154Z"
   },
   {
    "duration": 29,
    "start_time": "2023-09-18T06:48:44.402Z"
   },
   {
    "duration": 32,
    "start_time": "2023-09-18T06:51:09.923Z"
   },
   {
    "duration": 33,
    "start_time": "2023-09-18T06:57:14.287Z"
   },
   {
    "duration": 12,
    "start_time": "2023-09-18T06:58:35.960Z"
   },
   {
    "duration": 9,
    "start_time": "2023-09-18T06:58:47.016Z"
   },
   {
    "duration": 10,
    "start_time": "2023-09-18T06:59:34.791Z"
   },
   {
    "duration": 9,
    "start_time": "2023-09-18T06:59:58.685Z"
   },
   {
    "duration": 8,
    "start_time": "2023-09-18T07:00:21.094Z"
   },
   {
    "duration": 10,
    "start_time": "2023-09-18T07:00:23.064Z"
   },
   {
    "duration": 32,
    "start_time": "2023-09-18T07:00:49.707Z"
   },
   {
    "duration": 9,
    "start_time": "2023-09-18T07:00:52.071Z"
   },
   {
    "duration": 12,
    "start_time": "2023-09-18T07:00:54.427Z"
   },
   {
    "duration": 11,
    "start_time": "2023-09-18T07:02:01.639Z"
   },
   {
    "duration": 14,
    "start_time": "2023-09-18T07:02:53.208Z"
   },
   {
    "duration": 21,
    "start_time": "2023-09-18T07:03:08.429Z"
   },
   {
    "duration": 30,
    "start_time": "2023-09-18T07:03:10.630Z"
   },
   {
    "duration": 7,
    "start_time": "2023-09-18T07:03:12.565Z"
   },
   {
    "duration": 12,
    "start_time": "2023-09-18T07:03:14.451Z"
   },
   {
    "duration": 12,
    "start_time": "2023-09-18T07:03:34.872Z"
   },
   {
    "duration": 14,
    "start_time": "2023-09-18T07:04:01.541Z"
   },
   {
    "duration": 24,
    "start_time": "2023-09-18T07:05:18.804Z"
   },
   {
    "duration": 3,
    "start_time": "2023-09-18T07:14:03.330Z"
   },
   {
    "duration": 152,
    "start_time": "2023-09-18T07:14:03.334Z"
   },
   {
    "duration": 22,
    "start_time": "2023-09-18T07:14:03.488Z"
   },
   {
    "duration": 43,
    "start_time": "2023-09-18T07:14:03.511Z"
   },
   {
    "duration": 30,
    "start_time": "2023-09-18T07:14:03.556Z"
   },
   {
    "duration": 15,
    "start_time": "2023-09-18T07:14:03.587Z"
   },
   {
    "duration": 13,
    "start_time": "2023-09-18T07:14:03.603Z"
   },
   {
    "duration": 36,
    "start_time": "2023-09-18T07:14:03.618Z"
   },
   {
    "duration": 8,
    "start_time": "2023-09-18T07:14:03.658Z"
   },
   {
    "duration": 12,
    "start_time": "2023-09-18T07:14:03.667Z"
   },
   {
    "duration": 25,
    "start_time": "2023-09-18T07:14:03.681Z"
   },
   {
    "duration": 27,
    "start_time": "2023-09-18T07:14:03.709Z"
   },
   {
    "duration": 24,
    "start_time": "2023-09-18T07:14:03.738Z"
   },
   {
    "duration": 9,
    "start_time": "2023-09-18T07:14:03.764Z"
   },
   {
    "duration": 21,
    "start_time": "2023-09-18T07:14:03.774Z"
   },
   {
    "duration": 26,
    "start_time": "2023-09-18T07:14:03.797Z"
   },
   {
    "duration": 30,
    "start_time": "2023-09-18T07:14:03.825Z"
   },
   {
    "duration": 8,
    "start_time": "2023-09-18T07:14:03.857Z"
   },
   {
    "duration": 21,
    "start_time": "2023-09-18T07:14:03.866Z"
   },
   {
    "duration": 20,
    "start_time": "2023-09-18T07:14:03.888Z"
   },
   {
    "duration": 8,
    "start_time": "2023-09-18T07:14:03.910Z"
   },
   {
    "duration": 20,
    "start_time": "2023-09-18T07:14:03.920Z"
   },
   {
    "duration": 22,
    "start_time": "2023-09-18T07:14:03.941Z"
   },
   {
    "duration": 177,
    "start_time": "2023-09-18T07:14:03.965Z"
   },
   {
    "duration": 13,
    "start_time": "2023-09-18T07:14:04.144Z"
   },
   {
    "duration": 126,
    "start_time": "2023-09-18T07:14:04.158Z"
   },
   {
    "duration": 4,
    "start_time": "2023-09-18T07:14:04.285Z"
   },
   {
    "duration": 224,
    "start_time": "2023-09-18T07:14:04.291Z"
   },
   {
    "duration": 6,
    "start_time": "2023-09-18T07:14:04.518Z"
   },
   {
    "duration": 262,
    "start_time": "2023-09-18T07:14:04.526Z"
   },
   {
    "duration": 189,
    "start_time": "2023-09-18T07:14:04.790Z"
   },
   {
    "duration": 18,
    "start_time": "2023-09-18T07:14:04.980Z"
   },
   {
    "duration": 17,
    "start_time": "2023-09-18T07:14:04.999Z"
   },
   {
    "duration": 19,
    "start_time": "2023-09-18T07:14:05.018Z"
   },
   {
    "duration": 28,
    "start_time": "2023-09-18T07:14:05.053Z"
   },
   {
    "duration": 42,
    "start_time": "2023-09-18T07:14:05.083Z"
   },
   {
    "duration": 303,
    "start_time": "2023-09-18T07:14:05.126Z"
   },
   {
    "duration": 233,
    "start_time": "2023-09-18T07:14:05.430Z"
   },
   {
    "duration": 351,
    "start_time": "2023-09-18T07:14:05.664Z"
   },
   {
    "duration": 273,
    "start_time": "2023-09-18T07:14:06.016Z"
   },
   {
    "duration": 198,
    "start_time": "2023-09-18T07:14:06.290Z"
   },
   {
    "duration": 184,
    "start_time": "2023-09-18T07:14:06.490Z"
   },
   {
    "duration": 346,
    "start_time": "2023-09-18T07:14:06.675Z"
   },
   {
    "duration": 32,
    "start_time": "2023-09-18T07:14:21.597Z"
   },
   {
    "duration": 9,
    "start_time": "2023-09-18T07:14:21.630Z"
   },
   {
    "duration": 27,
    "start_time": "2023-09-18T07:14:21.640Z"
   },
   {
    "duration": 26,
    "start_time": "2023-09-18T07:14:21.668Z"
   },
   {
    "duration": 31,
    "start_time": "2023-09-18T07:14:21.696Z"
   },
   {
    "duration": 8,
    "start_time": "2023-09-18T07:14:21.728Z"
   },
   {
    "duration": 35,
    "start_time": "2023-09-18T07:14:21.737Z"
   },
   {
    "duration": 37,
    "start_time": "2023-09-18T07:14:21.774Z"
   },
   {
    "duration": 1853,
    "start_time": "2023-09-18T07:14:21.813Z"
   },
   {
    "duration": 0,
    "start_time": "2023-09-18T07:14:23.668Z"
   },
   {
    "duration": 17,
    "start_time": "2023-09-18T07:15:44.603Z"
   },
   {
    "duration": 22,
    "start_time": "2023-09-18T07:15:47.971Z"
   },
   {
    "duration": 836,
    "start_time": "2023-09-18T16:57:18.136Z"
   },
   {
    "duration": 95,
    "start_time": "2023-09-18T16:57:18.975Z"
   },
   {
    "duration": 12,
    "start_time": "2023-09-18T16:57:19.072Z"
   },
   {
    "duration": 11,
    "start_time": "2023-09-18T16:57:19.086Z"
   },
   {
    "duration": 80,
    "start_time": "2023-09-18T16:57:19.099Z"
   },
   {
    "duration": 9,
    "start_time": "2023-09-18T16:57:19.180Z"
   },
   {
    "duration": 14,
    "start_time": "2023-09-18T16:57:19.191Z"
   },
   {
    "duration": 52,
    "start_time": "2023-09-18T16:57:19.207Z"
   },
   {
    "duration": 7,
    "start_time": "2023-09-18T16:57:19.260Z"
   },
   {
    "duration": 28,
    "start_time": "2023-09-18T16:57:19.269Z"
   },
   {
    "duration": 25,
    "start_time": "2023-09-18T16:57:19.299Z"
   },
   {
    "duration": 13,
    "start_time": "2023-09-18T16:57:19.326Z"
   },
   {
    "duration": 5,
    "start_time": "2023-09-18T16:57:19.341Z"
   },
   {
    "duration": 17,
    "start_time": "2023-09-18T16:57:19.347Z"
   },
   {
    "duration": 11,
    "start_time": "2023-09-18T16:57:19.365Z"
   },
   {
    "duration": 40,
    "start_time": "2023-09-18T16:57:19.378Z"
   },
   {
    "duration": 6,
    "start_time": "2023-09-18T16:57:19.420Z"
   },
   {
    "duration": 20,
    "start_time": "2023-09-18T16:57:19.428Z"
   },
   {
    "duration": 15,
    "start_time": "2023-09-18T16:57:19.450Z"
   },
   {
    "duration": 15,
    "start_time": "2023-09-18T16:57:19.467Z"
   },
   {
    "duration": 15,
    "start_time": "2023-09-18T16:57:19.483Z"
   },
   {
    "duration": 30,
    "start_time": "2023-09-18T16:57:19.500Z"
   },
   {
    "duration": 31,
    "start_time": "2023-09-18T16:57:19.532Z"
   },
   {
    "duration": 166,
    "start_time": "2023-09-18T16:57:19.564Z"
   },
   {
    "duration": 11,
    "start_time": "2023-09-18T16:57:19.733Z"
   },
   {
    "duration": 136,
    "start_time": "2023-09-18T16:57:19.746Z"
   },
   {
    "duration": 6,
    "start_time": "2023-09-18T16:57:19.885Z"
   },
   {
    "duration": 244,
    "start_time": "2023-09-18T16:57:19.895Z"
   },
   {
    "duration": 6,
    "start_time": "2023-09-18T16:57:20.141Z"
   },
   {
    "duration": 291,
    "start_time": "2023-09-18T16:57:20.149Z"
   },
   {
    "duration": 196,
    "start_time": "2023-09-18T16:57:20.443Z"
   },
   {
    "duration": 18,
    "start_time": "2023-09-18T16:57:20.641Z"
   },
   {
    "duration": 37,
    "start_time": "2023-09-18T16:57:20.661Z"
   },
   {
    "duration": 9,
    "start_time": "2023-09-18T16:57:20.700Z"
   },
   {
    "duration": 76,
    "start_time": "2023-09-18T16:57:20.711Z"
   },
   {
    "duration": 18,
    "start_time": "2023-09-18T16:57:20.789Z"
   },
   {
    "duration": 230,
    "start_time": "2023-09-18T16:57:20.809Z"
   },
   {
    "duration": 233,
    "start_time": "2023-09-18T16:57:21.040Z"
   },
   {
    "duration": 365,
    "start_time": "2023-09-18T16:57:21.274Z"
   },
   {
    "duration": 282,
    "start_time": "2023-09-18T16:57:21.643Z"
   },
   {
    "duration": 263,
    "start_time": "2023-09-18T16:57:21.927Z"
   },
   {
    "duration": 206,
    "start_time": "2023-09-18T16:57:22.191Z"
   },
   {
    "duration": 287,
    "start_time": "2023-09-18T16:57:22.398Z"
   },
   {
    "duration": 34,
    "start_time": "2023-09-18T16:57:22.686Z"
   },
   {
    "duration": 23,
    "start_time": "2023-09-18T16:57:22.722Z"
   },
   {
    "duration": 41,
    "start_time": "2023-09-18T16:57:22.748Z"
   },
   {
    "duration": 51,
    "start_time": "2023-09-18T16:57:22.791Z"
   },
   {
    "duration": 78,
    "start_time": "2023-09-18T16:57:22.844Z"
   },
   {
    "duration": 21,
    "start_time": "2023-09-18T16:57:22.924Z"
   },
   {
    "duration": 68,
    "start_time": "2023-09-18T16:57:22.947Z"
   },
   {
    "duration": 42,
    "start_time": "2023-09-18T16:57:23.017Z"
   },
   {
    "duration": 37,
    "start_time": "2023-09-18T16:57:23.061Z"
   },
   {
    "duration": 61,
    "start_time": "2023-09-18T16:57:23.100Z"
   },
   {
    "duration": 287,
    "start_time": "2023-09-18T16:58:37.874Z"
   },
   {
    "duration": 276,
    "start_time": "2023-09-18T16:59:44.697Z"
   },
   {
    "duration": 296,
    "start_time": "2023-09-18T17:00:23.858Z"
   },
   {
    "duration": 385,
    "start_time": "2023-09-18T17:00:37.768Z"
   },
   {
    "duration": 87,
    "start_time": "2023-09-18T17:01:08.299Z"
   },
   {
    "duration": 280,
    "start_time": "2023-09-18T17:01:48.463Z"
   },
   {
    "duration": 301,
    "start_time": "2023-09-18T17:04:51.651Z"
   },
   {
    "duration": 99,
    "start_time": "2023-09-18T17:11:44.005Z"
   },
   {
    "duration": 4,
    "start_time": "2023-09-18T17:14:04.027Z"
   },
   {
    "duration": 3,
    "start_time": "2023-09-18T17:14:29.083Z"
   },
   {
    "duration": 361,
    "start_time": "2023-09-18T17:23:46.102Z"
   },
   {
    "duration": 349,
    "start_time": "2023-09-18T17:24:10.080Z"
   },
   {
    "duration": 423,
    "start_time": "2023-09-18T17:24:15.713Z"
   },
   {
    "duration": 364,
    "start_time": "2023-09-18T17:25:13.220Z"
   },
   {
    "duration": 266,
    "start_time": "2023-09-18T17:26:25.377Z"
   },
   {
    "duration": 263,
    "start_time": "2023-09-18T17:26:34.209Z"
   },
   {
    "duration": 20,
    "start_time": "2023-09-18T17:29:59.617Z"
   },
   {
    "duration": 55,
    "start_time": "2023-09-19T06:49:27.262Z"
   },
   {
    "duration": 920,
    "start_time": "2023-09-19T06:49:30.591Z"
   },
   {
    "duration": 76,
    "start_time": "2023-09-19T06:49:31.514Z"
   },
   {
    "duration": 14,
    "start_time": "2023-09-19T06:49:31.592Z"
   },
   {
    "duration": 38,
    "start_time": "2023-09-19T06:49:31.608Z"
   },
   {
    "duration": 110,
    "start_time": "2023-09-19T06:49:31.648Z"
   },
   {
    "duration": 10,
    "start_time": "2023-09-19T06:49:31.760Z"
   },
   {
    "duration": 58,
    "start_time": "2023-09-19T06:49:31.772Z"
   },
   {
    "duration": 89,
    "start_time": "2023-09-19T06:49:31.831Z"
   },
   {
    "duration": 8,
    "start_time": "2023-09-19T06:49:31.922Z"
   },
   {
    "duration": 62,
    "start_time": "2023-09-19T06:49:31.933Z"
   },
   {
    "duration": 43,
    "start_time": "2023-09-19T06:49:31.997Z"
   },
   {
    "duration": 28,
    "start_time": "2023-09-19T06:49:32.042Z"
   },
   {
    "duration": 35,
    "start_time": "2023-09-19T06:49:32.072Z"
   },
   {
    "duration": 72,
    "start_time": "2023-09-19T06:49:32.109Z"
   },
   {
    "duration": 17,
    "start_time": "2023-09-19T06:49:32.183Z"
   },
   {
    "duration": 12,
    "start_time": "2023-09-19T06:49:32.202Z"
   },
   {
    "duration": 10,
    "start_time": "2023-09-19T06:49:32.216Z"
   },
   {
    "duration": 29,
    "start_time": "2023-09-19T06:49:32.228Z"
   },
   {
    "duration": 15,
    "start_time": "2023-09-19T06:49:32.260Z"
   },
   {
    "duration": 8,
    "start_time": "2023-09-19T06:49:32.278Z"
   },
   {
    "duration": 9,
    "start_time": "2023-09-19T06:49:32.288Z"
   },
   {
    "duration": 30,
    "start_time": "2023-09-19T06:49:32.300Z"
   },
   {
    "duration": 10,
    "start_time": "2023-09-19T06:49:32.346Z"
   },
   {
    "duration": 203,
    "start_time": "2023-09-19T06:49:32.359Z"
   },
   {
    "duration": 6,
    "start_time": "2023-09-19T06:49:32.565Z"
   },
   {
    "duration": 163,
    "start_time": "2023-09-19T06:49:32.573Z"
   },
   {
    "duration": 11,
    "start_time": "2023-09-19T06:49:32.738Z"
   },
   {
    "duration": 202,
    "start_time": "2023-09-19T06:49:32.752Z"
   },
   {
    "duration": 6,
    "start_time": "2023-09-19T06:49:32.955Z"
   },
   {
    "duration": 306,
    "start_time": "2023-09-19T06:49:32.962Z"
   },
   {
    "duration": 215,
    "start_time": "2023-09-19T06:49:33.270Z"
   },
   {
    "duration": 23,
    "start_time": "2023-09-19T06:49:33.487Z"
   },
   {
    "duration": 39,
    "start_time": "2023-09-19T06:49:33.512Z"
   },
   {
    "duration": 4,
    "start_time": "2023-09-19T06:49:33.553Z"
   },
   {
    "duration": 25,
    "start_time": "2023-09-19T06:49:33.559Z"
   },
   {
    "duration": 16,
    "start_time": "2023-09-19T06:49:33.586Z"
   },
   {
    "duration": 283,
    "start_time": "2023-09-19T06:49:33.604Z"
   },
   {
    "duration": 268,
    "start_time": "2023-09-19T06:49:33.889Z"
   },
   {
    "duration": 413,
    "start_time": "2023-09-19T06:49:34.159Z"
   },
   {
    "duration": 347,
    "start_time": "2023-09-19T06:49:34.573Z"
   },
   {
    "duration": 302,
    "start_time": "2023-09-19T06:49:34.921Z"
   },
   {
    "duration": 259,
    "start_time": "2023-09-19T06:49:35.226Z"
   },
   {
    "duration": 327,
    "start_time": "2023-09-19T06:49:35.487Z"
   },
   {
    "duration": 42,
    "start_time": "2023-09-19T06:49:35.815Z"
   },
   {
    "duration": 10,
    "start_time": "2023-09-19T06:49:35.859Z"
   },
   {
    "duration": 32,
    "start_time": "2023-09-19T06:49:35.870Z"
   },
   {
    "duration": 42,
    "start_time": "2023-09-19T06:49:35.904Z"
   },
   {
    "duration": 37,
    "start_time": "2023-09-19T06:49:35.948Z"
   },
   {
    "duration": 10,
    "start_time": "2023-09-19T06:49:35.987Z"
   },
   {
    "duration": 17,
    "start_time": "2023-09-19T06:49:35.998Z"
   },
   {
    "duration": 37,
    "start_time": "2023-09-19T06:49:36.017Z"
   },
   {
    "duration": 38,
    "start_time": "2023-09-19T06:49:36.056Z"
   },
   {
    "duration": 34,
    "start_time": "2023-09-19T06:49:36.096Z"
   },
   {
    "duration": 314,
    "start_time": "2023-09-19T06:49:36.132Z"
   },
   {
    "duration": 4,
    "start_time": "2023-09-19T06:49:36.448Z"
   },
   {
    "duration": 307,
    "start_time": "2023-09-19T06:49:36.454Z"
   },
   {
    "duration": 20,
    "start_time": "2023-09-19T06:49:36.763Z"
   },
   {
    "duration": 22,
    "start_time": "2023-09-19T06:49:36.785Z"
   },
   {
    "duration": 24,
    "start_time": "2023-09-19T06:51:20.421Z"
   },
   {
    "duration": 55,
    "start_time": "2023-09-19T06:54:24.445Z"
   },
   {
    "duration": 36,
    "start_time": "2023-09-19T06:54:43.544Z"
   },
   {
    "duration": 21,
    "start_time": "2023-09-19T07:20:52.524Z"
   },
   {
    "duration": 15,
    "start_time": "2023-09-19T07:21:35.890Z"
   },
   {
    "duration": 21,
    "start_time": "2023-09-19T07:22:11.307Z"
   },
   {
    "duration": 10,
    "start_time": "2023-09-19T07:22:45.593Z"
   },
   {
    "duration": 34,
    "start_time": "2023-09-19T07:24:53.466Z"
   },
   {
    "duration": 29,
    "start_time": "2023-09-19T07:27:07.359Z"
   },
   {
    "duration": 13,
    "start_time": "2023-09-19T07:29:11.688Z"
   },
   {
    "duration": 12,
    "start_time": "2023-09-19T07:33:21.019Z"
   },
   {
    "duration": 1433,
    "start_time": "2023-09-19T07:35:37.070Z"
   },
   {
    "duration": 260,
    "start_time": "2023-09-19T07:35:56.132Z"
   },
   {
    "duration": 12,
    "start_time": "2023-09-19T07:45:48.601Z"
   },
   {
    "duration": 200,
    "start_time": "2023-09-19T07:49:22.022Z"
   },
   {
    "duration": 190,
    "start_time": "2023-09-19T07:51:09.364Z"
   },
   {
    "duration": 270,
    "start_time": "2023-09-19T07:51:17.908Z"
   },
   {
    "duration": 299,
    "start_time": "2023-09-19T07:54:29.872Z"
   },
   {
    "duration": 304,
    "start_time": "2023-09-19T07:55:41.426Z"
   },
   {
    "duration": 292,
    "start_time": "2023-09-19T07:56:20.509Z"
   },
   {
    "duration": 328,
    "start_time": "2023-09-19T07:58:56.786Z"
   },
   {
    "duration": 346,
    "start_time": "2023-09-19T07:59:07.225Z"
   },
   {
    "duration": 4,
    "start_time": "2023-09-19T08:10:17.703Z"
   },
   {
    "duration": 43,
    "start_time": "2023-09-19T08:10:17.710Z"
   },
   {
    "duration": 13,
    "start_time": "2023-09-19T08:10:17.756Z"
   },
   {
    "duration": 13,
    "start_time": "2023-09-19T08:10:17.771Z"
   },
   {
    "duration": 60,
    "start_time": "2023-09-19T08:10:17.787Z"
   },
   {
    "duration": 11,
    "start_time": "2023-09-19T08:10:17.849Z"
   },
   {
    "duration": 37,
    "start_time": "2023-09-19T08:10:17.863Z"
   },
   {
    "duration": 37,
    "start_time": "2023-09-19T08:10:17.902Z"
   },
   {
    "duration": 9,
    "start_time": "2023-09-19T08:10:17.940Z"
   },
   {
    "duration": 107,
    "start_time": "2023-09-19T08:10:17.950Z"
   },
   {
    "duration": 24,
    "start_time": "2023-09-19T08:10:18.059Z"
   },
   {
    "duration": 13,
    "start_time": "2023-09-19T08:10:18.086Z"
   },
   {
    "duration": 10,
    "start_time": "2023-09-19T08:10:18.102Z"
   },
   {
    "duration": 33,
    "start_time": "2023-09-19T08:10:18.114Z"
   },
   {
    "duration": 9,
    "start_time": "2023-09-19T08:10:18.150Z"
   },
   {
    "duration": 33,
    "start_time": "2023-09-19T08:10:18.162Z"
   },
   {
    "duration": 28,
    "start_time": "2023-09-19T08:10:18.198Z"
   },
   {
    "duration": 13,
    "start_time": "2023-09-19T08:10:18.229Z"
   },
   {
    "duration": 35,
    "start_time": "2023-09-19T08:10:18.244Z"
   },
   {
    "duration": 21,
    "start_time": "2023-09-19T08:10:18.281Z"
   },
   {
    "duration": 19,
    "start_time": "2023-09-19T08:10:18.304Z"
   },
   {
    "duration": 32,
    "start_time": "2023-09-19T08:10:18.326Z"
   },
   {
    "duration": 14,
    "start_time": "2023-09-19T08:10:18.360Z"
   },
   {
    "duration": 199,
    "start_time": "2023-09-19T08:10:18.376Z"
   },
   {
    "duration": 8,
    "start_time": "2023-09-19T08:10:18.578Z"
   },
   {
    "duration": 165,
    "start_time": "2023-09-19T08:10:18.588Z"
   },
   {
    "duration": 5,
    "start_time": "2023-09-19T08:10:18.755Z"
   },
   {
    "duration": 201,
    "start_time": "2023-09-19T08:10:18.762Z"
   },
   {
    "duration": 6,
    "start_time": "2023-09-19T08:10:18.965Z"
   },
   {
    "duration": 264,
    "start_time": "2023-09-19T08:10:18.972Z"
   },
   {
    "duration": 205,
    "start_time": "2023-09-19T08:10:19.237Z"
   },
   {
    "duration": 19,
    "start_time": "2023-09-19T08:10:19.447Z"
   },
   {
    "duration": 19,
    "start_time": "2023-09-19T08:10:19.468Z"
   },
   {
    "duration": 6,
    "start_time": "2023-09-19T08:10:19.489Z"
   },
   {
    "duration": 33,
    "start_time": "2023-09-19T08:10:19.496Z"
   },
   {
    "duration": 19,
    "start_time": "2023-09-19T08:10:19.547Z"
   },
   {
    "duration": 264,
    "start_time": "2023-09-19T08:10:19.572Z"
   },
   {
    "duration": 280,
    "start_time": "2023-09-19T08:10:19.838Z"
   },
   {
    "duration": 528,
    "start_time": "2023-09-19T08:10:20.120Z"
   },
   {
    "duration": 324,
    "start_time": "2023-09-19T08:10:20.649Z"
   },
   {
    "duration": 225,
    "start_time": "2023-09-19T08:10:20.975Z"
   },
   {
    "duration": 231,
    "start_time": "2023-09-19T08:10:21.202Z"
   },
   {
    "duration": 323,
    "start_time": "2023-09-19T08:10:21.435Z"
   },
   {
    "duration": 35,
    "start_time": "2023-09-19T08:10:21.760Z"
   },
   {
    "duration": 11,
    "start_time": "2023-09-19T08:10:21.797Z"
   },
   {
    "duration": 55,
    "start_time": "2023-09-19T08:10:21.810Z"
   },
   {
    "duration": 40,
    "start_time": "2023-09-19T08:10:21.867Z"
   },
   {
    "duration": 34,
    "start_time": "2023-09-19T08:10:21.909Z"
   },
   {
    "duration": 8,
    "start_time": "2023-09-19T08:10:21.945Z"
   },
   {
    "duration": 49,
    "start_time": "2023-09-19T08:10:21.955Z"
   },
   {
    "duration": 35,
    "start_time": "2023-09-19T08:10:22.006Z"
   },
   {
    "duration": 27,
    "start_time": "2023-09-19T08:10:22.043Z"
   },
   {
    "duration": 33,
    "start_time": "2023-09-19T08:10:22.072Z"
   },
   {
    "duration": 333,
    "start_time": "2023-09-19T08:10:22.107Z"
   },
   {
    "duration": 4,
    "start_time": "2023-09-19T08:10:22.447Z"
   },
   {
    "duration": 387,
    "start_time": "2023-09-19T08:10:22.453Z"
   },
   {
    "duration": 24,
    "start_time": "2023-09-19T08:10:22.846Z"
   },
   {
    "duration": 27,
    "start_time": "2023-09-19T08:10:22.871Z"
   },
   {
    "duration": 20,
    "start_time": "2023-09-19T08:10:22.899Z"
   },
   {
    "duration": 10,
    "start_time": "2023-09-19T08:10:22.946Z"
   },
   {
    "duration": 32,
    "start_time": "2023-09-19T08:10:22.958Z"
   },
   {
    "duration": 9,
    "start_time": "2023-09-19T08:10:22.992Z"
   },
   {
    "duration": 44,
    "start_time": "2023-09-19T08:10:23.003Z"
   },
   {
    "duration": 17,
    "start_time": "2023-09-19T08:10:23.049Z"
   },
   {
    "duration": 473,
    "start_time": "2023-09-19T08:10:23.067Z"
   },
   {
    "duration": 12,
    "start_time": "2023-09-19T08:12:03.563Z"
   },
   {
    "duration": 272,
    "start_time": "2023-09-19T08:12:30.925Z"
   },
   {
    "duration": 274,
    "start_time": "2023-09-19T08:13:41.141Z"
   },
   {
    "duration": 21,
    "start_time": "2023-09-19T08:20:41.753Z"
   },
   {
    "duration": 29,
    "start_time": "2023-09-19T08:26:44.624Z"
   },
   {
    "duration": 25,
    "start_time": "2023-09-19T08:28:22.294Z"
   },
   {
    "duration": 33,
    "start_time": "2023-09-19T08:31:58.324Z"
   },
   {
    "duration": 26,
    "start_time": "2023-09-19T08:33:04.896Z"
   },
   {
    "duration": 31,
    "start_time": "2023-09-19T08:33:30.190Z"
   },
   {
    "duration": 50,
    "start_time": "2023-09-19T08:36:45.732Z"
   },
   {
    "duration": 13,
    "start_time": "2023-09-19T08:38:57.702Z"
   },
   {
    "duration": 15,
    "start_time": "2023-09-19T08:40:45.266Z"
   },
   {
    "duration": 18,
    "start_time": "2023-09-19T08:40:54.079Z"
   },
   {
    "duration": 14,
    "start_time": "2023-09-19T08:41:13.174Z"
   },
   {
    "duration": 16,
    "start_time": "2023-09-19T08:41:36.287Z"
   },
   {
    "duration": 14,
    "start_time": "2023-09-19T08:42:17.631Z"
   },
   {
    "duration": 14,
    "start_time": "2023-09-19T08:42:41.412Z"
   },
   {
    "duration": 1337,
    "start_time": "2023-09-19T08:42:55.300Z"
   },
   {
    "duration": 40,
    "start_time": "2023-09-19T08:43:09.502Z"
   },
   {
    "duration": 13,
    "start_time": "2023-09-19T08:43:14.025Z"
   },
   {
    "duration": 14,
    "start_time": "2023-09-19T08:43:21.544Z"
   },
   {
    "duration": 16,
    "start_time": "2023-09-19T08:43:50.327Z"
   },
   {
    "duration": 2,
    "start_time": "2023-09-19T08:44:41.978Z"
   },
   {
    "duration": 42,
    "start_time": "2023-09-19T08:44:41.982Z"
   },
   {
    "duration": 11,
    "start_time": "2023-09-19T08:44:42.026Z"
   },
   {
    "duration": 14,
    "start_time": "2023-09-19T08:44:42.040Z"
   },
   {
    "duration": 40,
    "start_time": "2023-09-19T08:44:42.057Z"
   },
   {
    "duration": 11,
    "start_time": "2023-09-19T08:44:42.099Z"
   },
   {
    "duration": 17,
    "start_time": "2023-09-19T08:44:42.113Z"
   },
   {
    "duration": 24,
    "start_time": "2023-09-19T08:44:42.147Z"
   },
   {
    "duration": 7,
    "start_time": "2023-09-19T08:44:42.174Z"
   },
   {
    "duration": 14,
    "start_time": "2023-09-19T08:44:42.182Z"
   },
   {
    "duration": 19,
    "start_time": "2023-09-19T08:44:42.198Z"
   },
   {
    "duration": 15,
    "start_time": "2023-09-19T08:44:42.219Z"
   },
   {
    "duration": 6,
    "start_time": "2023-09-19T08:44:42.247Z"
   },
   {
    "duration": 6,
    "start_time": "2023-09-19T08:44:42.255Z"
   },
   {
    "duration": 8,
    "start_time": "2023-09-19T08:44:42.263Z"
   },
   {
    "duration": 10,
    "start_time": "2023-09-19T08:44:42.273Z"
   },
   {
    "duration": 9,
    "start_time": "2023-09-19T08:44:42.284Z"
   },
   {
    "duration": 10,
    "start_time": "2023-09-19T08:44:42.295Z"
   },
   {
    "duration": 52,
    "start_time": "2023-09-19T08:44:42.307Z"
   },
   {
    "duration": 6,
    "start_time": "2023-09-19T08:44:42.361Z"
   },
   {
    "duration": 9,
    "start_time": "2023-09-19T08:44:42.368Z"
   },
   {
    "duration": 11,
    "start_time": "2023-09-19T08:44:42.379Z"
   },
   {
    "duration": 10,
    "start_time": "2023-09-19T08:44:42.392Z"
   },
   {
    "duration": 189,
    "start_time": "2023-09-19T08:44:42.406Z"
   },
   {
    "duration": 6,
    "start_time": "2023-09-19T08:44:42.598Z"
   },
   {
    "duration": 153,
    "start_time": "2023-09-19T08:44:42.605Z"
   },
   {
    "duration": 6,
    "start_time": "2023-09-19T08:44:42.760Z"
   },
   {
    "duration": 206,
    "start_time": "2023-09-19T08:44:42.768Z"
   },
   {
    "duration": 5,
    "start_time": "2023-09-19T08:44:42.976Z"
   },
   {
    "duration": 246,
    "start_time": "2023-09-19T08:44:42.983Z"
   },
   {
    "duration": 232,
    "start_time": "2023-09-19T08:44:43.231Z"
   },
   {
    "duration": 20,
    "start_time": "2023-09-19T08:44:43.465Z"
   },
   {
    "duration": 35,
    "start_time": "2023-09-19T08:44:43.487Z"
   },
   {
    "duration": 4,
    "start_time": "2023-09-19T08:44:43.524Z"
   },
   {
    "duration": 43,
    "start_time": "2023-09-19T08:44:43.529Z"
   },
   {
    "duration": 29,
    "start_time": "2023-09-19T08:44:43.574Z"
   },
   {
    "duration": 341,
    "start_time": "2023-09-19T08:44:43.605Z"
   },
   {
    "duration": 250,
    "start_time": "2023-09-19T08:44:43.948Z"
   },
   {
    "duration": 414,
    "start_time": "2023-09-19T08:44:44.200Z"
   },
   {
    "duration": 315,
    "start_time": "2023-09-19T08:44:44.615Z"
   },
   {
    "duration": 220,
    "start_time": "2023-09-19T08:44:44.932Z"
   },
   {
    "duration": 223,
    "start_time": "2023-09-19T08:44:45.154Z"
   },
   {
    "duration": 472,
    "start_time": "2023-09-19T08:44:45.379Z"
   },
   {
    "duration": 35,
    "start_time": "2023-09-19T08:44:45.853Z"
   },
   {
    "duration": 15,
    "start_time": "2023-09-19T08:44:45.890Z"
   },
   {
    "duration": 25,
    "start_time": "2023-09-19T08:44:45.907Z"
   },
   {
    "duration": 23,
    "start_time": "2023-09-19T08:44:45.946Z"
   },
   {
    "duration": 65,
    "start_time": "2023-09-19T08:44:45.971Z"
   },
   {
    "duration": 9,
    "start_time": "2023-09-19T08:44:46.037Z"
   },
   {
    "duration": 28,
    "start_time": "2023-09-19T08:44:46.048Z"
   },
   {
    "duration": 16,
    "start_time": "2023-09-19T08:44:46.077Z"
   },
   {
    "duration": 18,
    "start_time": "2023-09-19T08:44:46.095Z"
   },
   {
    "duration": 37,
    "start_time": "2023-09-19T08:44:46.115Z"
   },
   {
    "duration": 338,
    "start_time": "2023-09-19T08:44:46.153Z"
   },
   {
    "duration": 4,
    "start_time": "2023-09-19T08:44:46.493Z"
   },
   {
    "duration": 309,
    "start_time": "2023-09-19T08:44:46.498Z"
   },
   {
    "duration": 21,
    "start_time": "2023-09-19T08:44:46.809Z"
   },
   {
    "duration": 23,
    "start_time": "2023-09-19T08:44:46.846Z"
   },
   {
    "duration": 20,
    "start_time": "2023-09-19T08:44:46.871Z"
   },
   {
    "duration": 2,
    "start_time": "2023-09-19T08:44:46.893Z"
   },
   {
    "duration": 20,
    "start_time": "2023-09-19T08:44:46.897Z"
   },
   {
    "duration": 79,
    "start_time": "2023-09-19T08:44:46.919Z"
   },
   {
    "duration": 16,
    "start_time": "2023-09-19T08:44:47.000Z"
   },
   {
    "duration": 21,
    "start_time": "2023-09-19T08:44:47.018Z"
   },
   {
    "duration": 47,
    "start_time": "2023-09-19T08:44:47.047Z"
   },
   {
    "duration": 385,
    "start_time": "2023-09-19T08:44:47.096Z"
   },
   {
    "duration": 12,
    "start_time": "2023-09-19T08:44:47.483Z"
   },
   {
    "duration": 274,
    "start_time": "2023-09-19T08:44:47.497Z"
   },
   {
    "duration": 2,
    "start_time": "2023-09-19T08:51:38.174Z"
   },
   {
    "duration": 7,
    "start_time": "2023-09-19T09:10:17.424Z"
   },
   {
    "duration": 9,
    "start_time": "2023-09-19T09:10:28.362Z"
   },
   {
    "duration": 10,
    "start_time": "2023-09-19T09:10:42.959Z"
   },
   {
    "duration": 381,
    "start_time": "2023-09-19T09:17:20.123Z"
   },
   {
    "duration": 10,
    "start_time": "2023-09-19T09:54:02.014Z"
   },
   {
    "duration": 559,
    "start_time": "2023-09-19T09:54:09.440Z"
   },
   {
    "duration": 6,
    "start_time": "2023-09-19T09:54:14.760Z"
   },
   {
    "duration": 5,
    "start_time": "2023-09-19T09:54:18.838Z"
   },
   {
    "duration": 53,
    "start_time": "2023-09-19T09:54:30.336Z"
   },
   {
    "duration": 6,
    "start_time": "2023-09-19T09:55:34.024Z"
   },
   {
    "duration": 6,
    "start_time": "2023-09-19T09:56:45.236Z"
   },
   {
    "duration": 8,
    "start_time": "2023-09-19T09:56:56.709Z"
   },
   {
    "duration": 6,
    "start_time": "2023-09-19T09:57:27.840Z"
   },
   {
    "duration": 6,
    "start_time": "2023-09-19T09:58:06.125Z"
   },
   {
    "duration": 6,
    "start_time": "2023-09-19T09:58:11.666Z"
   },
   {
    "duration": 11,
    "start_time": "2023-09-19T09:58:41.252Z"
   },
   {
    "duration": 7,
    "start_time": "2023-09-19T10:08:11.364Z"
   },
   {
    "duration": 8,
    "start_time": "2023-09-19T10:08:16.546Z"
   },
   {
    "duration": 6,
    "start_time": "2023-09-19T10:12:20.808Z"
   },
   {
    "duration": 7,
    "start_time": "2023-09-19T10:22:32.280Z"
   },
   {
    "duration": 6,
    "start_time": "2023-09-19T10:26:47.005Z"
   },
   {
    "duration": 9,
    "start_time": "2023-09-19T10:27:22.647Z"
   },
   {
    "duration": 6,
    "start_time": "2023-09-19T10:27:40.071Z"
   },
   {
    "duration": 5,
    "start_time": "2023-09-19T10:27:49.866Z"
   },
   {
    "duration": 5,
    "start_time": "2023-09-19T10:28:08.772Z"
   },
   {
    "duration": 5,
    "start_time": "2023-09-19T10:30:49.982Z"
   },
   {
    "duration": 8,
    "start_time": "2023-09-19T10:31:05.030Z"
   },
   {
    "duration": 11,
    "start_time": "2023-09-19T10:33:55.760Z"
   },
   {
    "duration": 10,
    "start_time": "2023-09-19T10:36:14.190Z"
   },
   {
    "duration": 4,
    "start_time": "2023-09-19T10:37:00.971Z"
   },
   {
    "duration": 6,
    "start_time": "2023-09-19T10:37:10.043Z"
   },
   {
    "duration": 5,
    "start_time": "2023-09-19T10:37:49.030Z"
   },
   {
    "duration": 7,
    "start_time": "2023-09-19T10:38:07.002Z"
   },
   {
    "duration": 5,
    "start_time": "2023-09-19T10:38:10.776Z"
   },
   {
    "duration": 7,
    "start_time": "2023-09-19T10:38:14.712Z"
   },
   {
    "duration": 5,
    "start_time": "2023-09-19T10:38:21.001Z"
   },
   {
    "duration": 6,
    "start_time": "2023-09-19T10:38:27.138Z"
   },
   {
    "duration": 5,
    "start_time": "2023-09-19T10:38:31.807Z"
   },
   {
    "duration": 6,
    "start_time": "2023-09-19T10:38:36.260Z"
   },
   {
    "duration": 6,
    "start_time": "2023-09-19T10:38:40.628Z"
   },
   {
    "duration": 80,
    "start_time": "2023-09-19T10:43:01.277Z"
   },
   {
    "duration": 0,
    "start_time": "2023-09-19T10:43:01.359Z"
   },
   {
    "duration": 0,
    "start_time": "2023-09-19T10:43:01.360Z"
   },
   {
    "duration": 0,
    "start_time": "2023-09-19T10:43:01.361Z"
   },
   {
    "duration": 0,
    "start_time": "2023-09-19T10:43:01.362Z"
   },
   {
    "duration": 0,
    "start_time": "2023-09-19T10:43:01.364Z"
   },
   {
    "duration": 0,
    "start_time": "2023-09-19T10:43:01.365Z"
   },
   {
    "duration": 0,
    "start_time": "2023-09-19T10:43:01.366Z"
   },
   {
    "duration": 0,
    "start_time": "2023-09-19T10:43:01.368Z"
   },
   {
    "duration": 0,
    "start_time": "2023-09-19T10:43:01.369Z"
   },
   {
    "duration": 0,
    "start_time": "2023-09-19T10:43:01.370Z"
   },
   {
    "duration": 0,
    "start_time": "2023-09-19T10:43:01.372Z"
   },
   {
    "duration": 0,
    "start_time": "2023-09-19T10:43:01.373Z"
   },
   {
    "duration": 0,
    "start_time": "2023-09-19T10:43:01.375Z"
   },
   {
    "duration": 0,
    "start_time": "2023-09-19T10:43:01.376Z"
   },
   {
    "duration": 0,
    "start_time": "2023-09-19T10:43:01.378Z"
   },
   {
    "duration": 0,
    "start_time": "2023-09-19T10:43:01.379Z"
   },
   {
    "duration": 0,
    "start_time": "2023-09-19T10:43:01.381Z"
   },
   {
    "duration": 0,
    "start_time": "2023-09-19T10:43:01.382Z"
   },
   {
    "duration": 0,
    "start_time": "2023-09-19T10:43:01.384Z"
   },
   {
    "duration": 0,
    "start_time": "2023-09-19T10:43:01.386Z"
   },
   {
    "duration": 0,
    "start_time": "2023-09-19T10:43:01.387Z"
   },
   {
    "duration": 0,
    "start_time": "2023-09-19T10:43:01.388Z"
   },
   {
    "duration": 0,
    "start_time": "2023-09-19T10:43:01.390Z"
   },
   {
    "duration": 0,
    "start_time": "2023-09-19T10:43:01.391Z"
   },
   {
    "duration": 0,
    "start_time": "2023-09-19T10:43:01.393Z"
   },
   {
    "duration": 0,
    "start_time": "2023-09-19T10:43:01.394Z"
   },
   {
    "duration": 0,
    "start_time": "2023-09-19T10:43:01.447Z"
   },
   {
    "duration": 0,
    "start_time": "2023-09-19T10:43:01.449Z"
   },
   {
    "duration": 9,
    "start_time": "2023-09-19T10:43:01.452Z"
   },
   {
    "duration": 303,
    "start_time": "2023-09-19T10:43:01.464Z"
   },
   {
    "duration": 224,
    "start_time": "2023-09-19T10:43:01.769Z"
   },
   {
    "duration": 22,
    "start_time": "2023-09-19T10:43:01.995Z"
   },
   {
    "duration": 57,
    "start_time": "2023-09-19T10:43:02.018Z"
   },
   {
    "duration": 31,
    "start_time": "2023-09-19T10:43:02.077Z"
   },
   {
    "duration": 52,
    "start_time": "2023-09-19T10:43:02.111Z"
   },
   {
    "duration": 28,
    "start_time": "2023-09-19T10:43:02.165Z"
   },
   {
    "duration": 267,
    "start_time": "2023-09-19T10:43:02.195Z"
   },
   {
    "duration": 384,
    "start_time": "2023-09-19T10:43:02.466Z"
   },
   {
    "duration": 434,
    "start_time": "2023-09-19T10:43:02.851Z"
   },
   {
    "duration": 243,
    "start_time": "2023-09-19T10:43:03.287Z"
   },
   {
    "duration": 217,
    "start_time": "2023-09-19T10:43:03.531Z"
   },
   {
    "duration": 321,
    "start_time": "2023-09-19T10:43:03.749Z"
   },
   {
    "duration": 40,
    "start_time": "2023-09-19T10:43:04.072Z"
   },
   {
    "duration": 10,
    "start_time": "2023-09-19T10:43:04.114Z"
   },
   {
    "duration": 17,
    "start_time": "2023-09-19T10:43:04.148Z"
   },
   {
    "duration": 36,
    "start_time": "2023-09-19T10:43:04.167Z"
   },
   {
    "duration": 51,
    "start_time": "2023-09-19T10:43:04.205Z"
   },
   {
    "duration": 9,
    "start_time": "2023-09-19T10:43:04.258Z"
   },
   {
    "duration": 18,
    "start_time": "2023-09-19T10:43:04.270Z"
   },
   {
    "duration": 13,
    "start_time": "2023-09-19T10:43:04.290Z"
   },
   {
    "duration": 44,
    "start_time": "2023-09-19T10:43:04.305Z"
   },
   {
    "duration": 25,
    "start_time": "2023-09-19T10:43:04.351Z"
   },
   {
    "duration": 350,
    "start_time": "2023-09-19T10:43:04.377Z"
   },
   {
    "duration": 5,
    "start_time": "2023-09-19T10:43:04.729Z"
   },
   {
    "duration": 431,
    "start_time": "2023-09-19T10:43:04.747Z"
   },
   {
    "duration": 25,
    "start_time": "2023-09-19T10:43:05.179Z"
   },
   {
    "duration": 49,
    "start_time": "2023-09-19T10:43:05.206Z"
   },
   {
    "duration": 26,
    "start_time": "2023-09-19T10:43:05.258Z"
   },
   {
    "duration": 9,
    "start_time": "2023-09-19T10:43:05.285Z"
   },
   {
    "duration": 60,
    "start_time": "2023-09-19T10:43:05.296Z"
   },
   {
    "duration": 13,
    "start_time": "2023-09-19T10:43:05.357Z"
   },
   {
    "duration": 22,
    "start_time": "2023-09-19T10:43:05.372Z"
   },
   {
    "duration": 17,
    "start_time": "2023-09-19T10:43:05.399Z"
   },
   {
    "duration": 450,
    "start_time": "2023-09-19T10:43:05.418Z"
   },
   {
    "duration": 12,
    "start_time": "2023-09-19T10:43:05.870Z"
   },
   {
    "duration": 312,
    "start_time": "2023-09-19T10:43:05.884Z"
   },
   {
    "duration": 3,
    "start_time": "2023-09-19T10:43:06.197Z"
   },
   {
    "duration": 10,
    "start_time": "2023-09-19T10:43:06.202Z"
   },
   {
    "duration": 1288,
    "start_time": "2023-09-19T12:46:20.125Z"
   },
   {
    "duration": 29,
    "start_time": "2023-09-19T12:46:21.415Z"
   },
   {
    "duration": 16,
    "start_time": "2023-09-19T12:46:21.447Z"
   },
   {
    "duration": 10,
    "start_time": "2023-09-19T12:46:21.465Z"
   },
   {
    "duration": 61,
    "start_time": "2023-09-19T12:46:21.476Z"
   },
   {
    "duration": 21,
    "start_time": "2023-09-19T12:46:21.538Z"
   },
   {
    "duration": 22,
    "start_time": "2023-09-19T12:46:21.560Z"
   },
   {
    "duration": 18,
    "start_time": "2023-09-19T12:46:21.583Z"
   },
   {
    "duration": 7,
    "start_time": "2023-09-19T12:46:21.602Z"
   },
   {
    "duration": 21,
    "start_time": "2023-09-19T12:46:21.611Z"
   },
   {
    "duration": 33,
    "start_time": "2023-09-19T12:46:21.633Z"
   },
   {
    "duration": 10,
    "start_time": "2023-09-19T12:46:21.667Z"
   },
   {
    "duration": 12,
    "start_time": "2023-09-19T12:46:21.679Z"
   },
   {
    "duration": 24,
    "start_time": "2023-09-19T12:46:21.693Z"
   },
   {
    "duration": 36,
    "start_time": "2023-09-19T12:46:21.719Z"
   },
   {
    "duration": 5,
    "start_time": "2023-09-19T12:46:21.757Z"
   },
   {
    "duration": 29,
    "start_time": "2023-09-19T12:46:21.763Z"
   },
   {
    "duration": 29,
    "start_time": "2023-09-19T12:46:21.793Z"
   },
   {
    "duration": 20,
    "start_time": "2023-09-19T12:46:21.824Z"
   },
   {
    "duration": 13,
    "start_time": "2023-09-19T12:46:21.848Z"
   },
   {
    "duration": 5,
    "start_time": "2023-09-19T12:46:21.863Z"
   },
   {
    "duration": 22,
    "start_time": "2023-09-19T12:46:21.869Z"
   },
   {
    "duration": 177,
    "start_time": "2023-09-19T12:46:21.893Z"
   },
   {
    "duration": 5,
    "start_time": "2023-09-19T12:46:22.072Z"
   },
   {
    "duration": 22,
    "start_time": "2023-09-19T12:46:22.079Z"
   },
   {
    "duration": 154,
    "start_time": "2023-09-19T12:46:22.102Z"
   },
   {
    "duration": 5,
    "start_time": "2023-09-19T12:46:22.258Z"
   },
   {
    "duration": 214,
    "start_time": "2023-09-19T12:46:22.267Z"
   },
   {
    "duration": 6,
    "start_time": "2023-09-19T12:46:22.483Z"
   },
   {
    "duration": 242,
    "start_time": "2023-09-19T12:46:22.491Z"
   },
   {
    "duration": 208,
    "start_time": "2023-09-19T12:46:22.735Z"
   },
   {
    "duration": 24,
    "start_time": "2023-09-19T12:46:22.945Z"
   },
   {
    "duration": 22,
    "start_time": "2023-09-19T12:46:22.971Z"
   },
   {
    "duration": 9,
    "start_time": "2023-09-19T12:46:22.995Z"
   },
   {
    "duration": 37,
    "start_time": "2023-09-19T12:46:23.006Z"
   },
   {
    "duration": 29,
    "start_time": "2023-09-19T12:46:23.044Z"
   },
   {
    "duration": 240,
    "start_time": "2023-09-19T12:46:23.075Z"
   },
   {
    "duration": 319,
    "start_time": "2023-09-19T12:46:23.316Z"
   },
   {
    "duration": 436,
    "start_time": "2023-09-19T12:46:23.637Z"
   },
   {
    "duration": 204,
    "start_time": "2023-09-19T12:46:24.075Z"
   },
   {
    "duration": 209,
    "start_time": "2023-09-19T12:46:24.281Z"
   },
   {
    "duration": 390,
    "start_time": "2023-09-19T12:46:24.492Z"
   },
   {
    "duration": 30,
    "start_time": "2023-09-19T12:46:24.883Z"
   },
   {
    "duration": 9,
    "start_time": "2023-09-19T12:46:24.915Z"
   },
   {
    "duration": 38,
    "start_time": "2023-09-19T12:46:24.925Z"
   },
   {
    "duration": 28,
    "start_time": "2023-09-19T12:46:24.965Z"
   },
   {
    "duration": 33,
    "start_time": "2023-09-19T12:46:24.995Z"
   },
   {
    "duration": 19,
    "start_time": "2023-09-19T12:46:25.044Z"
   },
   {
    "duration": 26,
    "start_time": "2023-09-19T12:46:25.064Z"
   },
   {
    "duration": 34,
    "start_time": "2023-09-19T12:46:25.091Z"
   },
   {
    "duration": 35,
    "start_time": "2023-09-19T12:46:25.126Z"
   },
   {
    "duration": 29,
    "start_time": "2023-09-19T12:46:25.163Z"
   },
   {
    "duration": 319,
    "start_time": "2023-09-19T12:46:25.194Z"
   },
   {
    "duration": 3,
    "start_time": "2023-09-19T12:46:25.514Z"
   },
   {
    "duration": 376,
    "start_time": "2023-09-19T12:46:25.519Z"
   },
   {
    "duration": 20,
    "start_time": "2023-09-19T12:46:25.896Z"
   },
   {
    "duration": 41,
    "start_time": "2023-09-19T12:46:25.918Z"
   },
   {
    "duration": 22,
    "start_time": "2023-09-19T12:46:25.961Z"
   },
   {
    "duration": 13,
    "start_time": "2023-09-19T12:46:25.984Z"
   },
   {
    "duration": 94,
    "start_time": "2023-09-19T12:46:25.999Z"
   },
   {
    "duration": 13,
    "start_time": "2023-09-19T12:46:26.095Z"
   },
   {
    "duration": 54,
    "start_time": "2023-09-19T12:46:26.109Z"
   },
   {
    "duration": 32,
    "start_time": "2023-09-19T12:46:26.165Z"
   },
   {
    "duration": 333,
    "start_time": "2023-09-19T12:46:26.199Z"
   },
   {
    "duration": 17,
    "start_time": "2023-09-19T12:46:26.534Z"
   },
   {
    "duration": 265,
    "start_time": "2023-09-19T12:46:26.553Z"
   },
   {
    "duration": 3,
    "start_time": "2023-09-19T12:46:26.820Z"
   },
   {
    "duration": 20,
    "start_time": "2023-09-19T12:46:26.825Z"
   },
   {
    "duration": 1113,
    "start_time": "2023-09-19T13:14:18.892Z"
   },
   {
    "duration": 29,
    "start_time": "2023-09-19T13:14:20.008Z"
   },
   {
    "duration": 38,
    "start_time": "2023-09-19T13:14:20.039Z"
   },
   {
    "duration": 43,
    "start_time": "2023-09-19T13:14:20.079Z"
   },
   {
    "duration": 69,
    "start_time": "2023-09-19T13:14:20.123Z"
   },
   {
    "duration": 12,
    "start_time": "2023-09-19T13:14:20.194Z"
   },
   {
    "duration": 28,
    "start_time": "2023-09-19T13:14:20.207Z"
   },
   {
    "duration": 34,
    "start_time": "2023-09-19T13:14:20.237Z"
   },
   {
    "duration": 40,
    "start_time": "2023-09-19T13:14:20.272Z"
   },
   {
    "duration": 45,
    "start_time": "2023-09-19T13:14:20.314Z"
   },
   {
    "duration": 69,
    "start_time": "2023-09-19T13:14:20.361Z"
   },
   {
    "duration": 40,
    "start_time": "2023-09-19T13:14:20.431Z"
   },
   {
    "duration": 17,
    "start_time": "2023-09-19T13:14:20.473Z"
   },
   {
    "duration": 51,
    "start_time": "2023-09-19T13:14:20.492Z"
   },
   {
    "duration": 64,
    "start_time": "2023-09-19T13:14:20.545Z"
   },
   {
    "duration": 26,
    "start_time": "2023-09-19T13:14:20.611Z"
   },
   {
    "duration": 56,
    "start_time": "2023-09-19T13:14:20.639Z"
   },
   {
    "duration": 68,
    "start_time": "2023-09-19T13:14:20.697Z"
   },
   {
    "duration": 28,
    "start_time": "2023-09-19T13:14:20.767Z"
   },
   {
    "duration": 41,
    "start_time": "2023-09-19T13:14:20.797Z"
   },
   {
    "duration": 106,
    "start_time": "2023-09-19T13:14:20.839Z"
   },
   {
    "duration": 30,
    "start_time": "2023-09-19T13:14:20.947Z"
   },
   {
    "duration": 278,
    "start_time": "2023-09-19T13:14:20.978Z"
   },
   {
    "duration": 5,
    "start_time": "2023-09-19T13:14:21.258Z"
   },
   {
    "duration": 71,
    "start_time": "2023-09-19T13:14:21.265Z"
   },
   {
    "duration": 224,
    "start_time": "2023-09-19T13:14:21.338Z"
   },
   {
    "duration": 5,
    "start_time": "2023-09-19T13:14:21.563Z"
   },
   {
    "duration": 472,
    "start_time": "2023-09-19T13:14:21.572Z"
   },
   {
    "duration": 6,
    "start_time": "2023-09-19T13:14:22.046Z"
   },
   {
    "duration": 495,
    "start_time": "2023-09-19T13:14:22.054Z"
   },
   {
    "duration": 411,
    "start_time": "2023-09-19T13:14:22.551Z"
   },
   {
    "duration": 20,
    "start_time": "2023-09-19T13:14:22.963Z"
   },
   {
    "duration": 91,
    "start_time": "2023-09-19T13:14:22.984Z"
   },
   {
    "duration": 9,
    "start_time": "2023-09-19T13:14:23.077Z"
   },
   {
    "duration": 78,
    "start_time": "2023-09-19T13:14:23.088Z"
   },
   {
    "duration": 20,
    "start_time": "2023-09-19T13:14:23.167Z"
   },
   {
    "duration": 483,
    "start_time": "2023-09-19T13:14:23.188Z"
   },
   {
    "duration": 339,
    "start_time": "2023-09-19T13:14:23.672Z"
   },
   {
    "duration": 374,
    "start_time": "2023-09-19T13:14:24.013Z"
   },
   {
    "duration": 230,
    "start_time": "2023-09-19T13:14:24.389Z"
   },
   {
    "duration": 212,
    "start_time": "2023-09-19T13:14:24.621Z"
   },
   {
    "duration": 283,
    "start_time": "2023-09-19T13:14:24.835Z"
   },
   {
    "duration": 41,
    "start_time": "2023-09-19T13:14:25.119Z"
   },
   {
    "duration": 8,
    "start_time": "2023-09-19T13:14:25.162Z"
   },
   {
    "duration": 33,
    "start_time": "2023-09-19T13:14:25.171Z"
   },
   {
    "duration": 32,
    "start_time": "2023-09-19T13:14:25.205Z"
   },
   {
    "duration": 45,
    "start_time": "2023-09-19T13:14:25.239Z"
   },
   {
    "duration": 7,
    "start_time": "2023-09-19T13:14:25.286Z"
   },
   {
    "duration": 25,
    "start_time": "2023-09-19T13:14:25.295Z"
   },
   {
    "duration": 28,
    "start_time": "2023-09-19T13:14:25.321Z"
   },
   {
    "duration": 17,
    "start_time": "2023-09-19T13:14:25.351Z"
   },
   {
    "duration": 28,
    "start_time": "2023-09-19T13:14:25.369Z"
   },
   {
    "duration": 300,
    "start_time": "2023-09-19T13:14:25.398Z"
   },
   {
    "duration": 4,
    "start_time": "2023-09-19T13:14:25.699Z"
   },
   {
    "duration": 366,
    "start_time": "2023-09-19T13:14:25.704Z"
   },
   {
    "duration": 21,
    "start_time": "2023-09-19T13:14:26.071Z"
   },
   {
    "duration": 21,
    "start_time": "2023-09-19T13:14:26.094Z"
   },
   {
    "duration": 38,
    "start_time": "2023-09-19T13:14:26.117Z"
   },
   {
    "duration": 8,
    "start_time": "2023-09-19T13:14:26.157Z"
   },
   {
    "duration": 108,
    "start_time": "2023-09-19T13:14:26.166Z"
   },
   {
    "duration": 13,
    "start_time": "2023-09-19T13:14:26.276Z"
   },
   {
    "duration": 38,
    "start_time": "2023-09-19T13:14:26.291Z"
   },
   {
    "duration": 20,
    "start_time": "2023-09-19T13:14:26.331Z"
   },
   {
    "duration": 347,
    "start_time": "2023-09-19T13:14:26.353Z"
   },
   {
    "duration": 10,
    "start_time": "2023-09-19T13:14:26.702Z"
   },
   {
    "duration": 252,
    "start_time": "2023-09-19T13:14:26.713Z"
   },
   {
    "duration": 2,
    "start_time": "2023-09-19T13:14:26.966Z"
   },
   {
    "duration": 14,
    "start_time": "2023-09-19T13:14:26.970Z"
   },
   {
    "duration": 1366,
    "start_time": "2023-09-19T18:15:18.973Z"
   },
   {
    "duration": 79,
    "start_time": "2023-09-19T18:15:20.342Z"
   },
   {
    "duration": 15,
    "start_time": "2023-09-19T18:15:20.422Z"
   },
   {
    "duration": 13,
    "start_time": "2023-09-19T18:15:20.440Z"
   },
   {
    "duration": 76,
    "start_time": "2023-09-19T18:15:20.455Z"
   },
   {
    "duration": 10,
    "start_time": "2023-09-19T18:15:20.533Z"
   },
   {
    "duration": 15,
    "start_time": "2023-09-19T18:15:20.544Z"
   },
   {
    "duration": 68,
    "start_time": "2023-09-19T18:15:20.561Z"
   },
   {
    "duration": 8,
    "start_time": "2023-09-19T18:15:20.631Z"
   },
   {
    "duration": 13,
    "start_time": "2023-09-19T18:15:20.643Z"
   },
   {
    "duration": 15,
    "start_time": "2023-09-19T18:15:20.658Z"
   },
   {
    "duration": 11,
    "start_time": "2023-09-19T18:15:20.675Z"
   },
   {
    "duration": 22,
    "start_time": "2023-09-19T18:15:20.687Z"
   },
   {
    "duration": 6,
    "start_time": "2023-09-19T18:15:20.711Z"
   },
   {
    "duration": 9,
    "start_time": "2023-09-19T18:15:20.719Z"
   },
   {
    "duration": 6,
    "start_time": "2023-09-19T18:15:20.730Z"
   },
   {
    "duration": 6,
    "start_time": "2023-09-19T18:15:20.737Z"
   },
   {
    "duration": 13,
    "start_time": "2023-09-19T18:15:20.744Z"
   },
   {
    "duration": 43,
    "start_time": "2023-09-19T18:15:20.759Z"
   },
   {
    "duration": 15,
    "start_time": "2023-09-19T18:15:20.804Z"
   },
   {
    "duration": 9,
    "start_time": "2023-09-19T18:15:20.821Z"
   },
   {
    "duration": 10,
    "start_time": "2023-09-19T18:15:20.831Z"
   },
   {
    "duration": 191,
    "start_time": "2023-09-19T18:15:20.843Z"
   },
   {
    "duration": 6,
    "start_time": "2023-09-19T18:15:21.036Z"
   },
   {
    "duration": 24,
    "start_time": "2023-09-19T18:15:21.043Z"
   },
   {
    "duration": 144,
    "start_time": "2023-09-19T18:15:21.069Z"
   },
   {
    "duration": 5,
    "start_time": "2023-09-19T18:15:21.215Z"
   },
   {
    "duration": 196,
    "start_time": "2023-09-19T18:15:21.224Z"
   },
   {
    "duration": 6,
    "start_time": "2023-09-19T18:15:21.422Z"
   },
   {
    "duration": 241,
    "start_time": "2023-09-19T18:15:21.430Z"
   },
   {
    "duration": 214,
    "start_time": "2023-09-19T18:15:21.673Z"
   },
   {
    "duration": 29,
    "start_time": "2023-09-19T18:15:21.889Z"
   },
   {
    "duration": 21,
    "start_time": "2023-09-19T18:15:21.920Z"
   },
   {
    "duration": 4,
    "start_time": "2023-09-19T18:15:21.944Z"
   },
   {
    "duration": 21,
    "start_time": "2023-09-19T18:15:21.950Z"
   },
   {
    "duration": 50,
    "start_time": "2023-09-19T18:15:21.974Z"
   },
   {
    "duration": 254,
    "start_time": "2023-09-19T18:15:22.027Z"
   },
   {
    "duration": 380,
    "start_time": "2023-09-19T18:15:22.282Z"
   },
   {
    "duration": 408,
    "start_time": "2023-09-19T18:15:22.664Z"
   },
   {
    "duration": 208,
    "start_time": "2023-09-19T18:15:23.074Z"
   },
   {
    "duration": 198,
    "start_time": "2023-09-19T18:15:23.284Z"
   },
   {
    "duration": 317,
    "start_time": "2023-09-19T18:15:23.484Z"
   },
   {
    "duration": 36,
    "start_time": "2023-09-19T18:15:23.809Z"
   },
   {
    "duration": 9,
    "start_time": "2023-09-19T18:15:23.847Z"
   },
   {
    "duration": 18,
    "start_time": "2023-09-19T18:15:23.858Z"
   },
   {
    "duration": 50,
    "start_time": "2023-09-19T18:15:23.878Z"
   },
   {
    "duration": 37,
    "start_time": "2023-09-19T18:15:23.930Z"
   },
   {
    "duration": 10,
    "start_time": "2023-09-19T18:15:23.968Z"
   },
   {
    "duration": 37,
    "start_time": "2023-09-19T18:15:23.979Z"
   },
   {
    "duration": 14,
    "start_time": "2023-09-19T18:15:24.017Z"
   },
   {
    "duration": 16,
    "start_time": "2023-09-19T18:15:24.034Z"
   },
   {
    "duration": 27,
    "start_time": "2023-09-19T18:15:24.052Z"
   },
   {
    "duration": 338,
    "start_time": "2023-09-19T18:15:24.112Z"
   },
   {
    "duration": 4,
    "start_time": "2023-09-19T18:15:24.452Z"
   },
   {
    "duration": 412,
    "start_time": "2023-09-19T18:15:24.458Z"
   },
   {
    "duration": 23,
    "start_time": "2023-09-19T18:15:24.872Z"
   },
   {
    "duration": 26,
    "start_time": "2023-09-19T18:15:24.910Z"
   },
   {
    "duration": 21,
    "start_time": "2023-09-19T18:15:24.938Z"
   },
   {
    "duration": 12,
    "start_time": "2023-09-19T18:15:24.961Z"
   },
   {
    "duration": 76,
    "start_time": "2023-09-19T18:15:24.975Z"
   },
   {
    "duration": 14,
    "start_time": "2023-09-19T18:15:25.054Z"
   },
   {
    "duration": 43,
    "start_time": "2023-09-19T18:15:25.071Z"
   },
   {
    "duration": 27,
    "start_time": "2023-09-19T18:15:25.116Z"
   },
   {
    "duration": 380,
    "start_time": "2023-09-19T18:15:25.145Z"
   },
   {
    "duration": 12,
    "start_time": "2023-09-19T18:15:25.527Z"
   },
   {
    "duration": 281,
    "start_time": "2023-09-19T18:15:25.540Z"
   },
   {
    "duration": 3,
    "start_time": "2023-09-19T18:15:25.823Z"
   },
   {
    "duration": 13,
    "start_time": "2023-09-19T18:15:25.827Z"
   },
   {
    "duration": 10,
    "start_time": "2023-09-19T18:37:16.668Z"
   },
   {
    "duration": 132,
    "start_time": "2023-09-19T18:37:52.647Z"
   },
   {
    "duration": 197,
    "start_time": "2023-09-19T18:45:10.138Z"
   },
   {
    "duration": 9,
    "start_time": "2023-09-19T18:50:49.703Z"
   },
   {
    "duration": 103,
    "start_time": "2023-09-19T18:51:08.474Z"
   },
   {
    "duration": 5,
    "start_time": "2023-09-19T18:51:12.423Z"
   },
   {
    "duration": 4,
    "start_time": "2023-09-19T18:51:49.946Z"
   },
   {
    "duration": 39,
    "start_time": "2023-09-19T18:51:49.952Z"
   },
   {
    "duration": 10,
    "start_time": "2023-09-19T18:51:49.993Z"
   },
   {
    "duration": 12,
    "start_time": "2023-09-19T18:51:50.005Z"
   },
   {
    "duration": 36,
    "start_time": "2023-09-19T18:51:50.019Z"
   },
   {
    "duration": 10,
    "start_time": "2023-09-19T18:51:50.057Z"
   },
   {
    "duration": 25,
    "start_time": "2023-09-19T18:51:50.069Z"
   },
   {
    "duration": 17,
    "start_time": "2023-09-19T18:51:50.096Z"
   },
   {
    "duration": 9,
    "start_time": "2023-09-19T18:51:50.115Z"
   },
   {
    "duration": 18,
    "start_time": "2023-09-19T18:51:50.125Z"
   },
   {
    "duration": 23,
    "start_time": "2023-09-19T18:51:50.146Z"
   },
   {
    "duration": 40,
    "start_time": "2023-09-19T18:51:50.171Z"
   },
   {
    "duration": 7,
    "start_time": "2023-09-19T18:51:50.213Z"
   },
   {
    "duration": 10,
    "start_time": "2023-09-19T18:51:50.222Z"
   },
   {
    "duration": 8,
    "start_time": "2023-09-19T18:51:50.234Z"
   },
   {
    "duration": 9,
    "start_time": "2023-09-19T18:51:50.243Z"
   },
   {
    "duration": 7,
    "start_time": "2023-09-19T18:51:50.254Z"
   },
   {
    "duration": 48,
    "start_time": "2023-09-19T18:51:50.263Z"
   },
   {
    "duration": 14,
    "start_time": "2023-09-19T18:51:50.312Z"
   },
   {
    "duration": 7,
    "start_time": "2023-09-19T18:51:50.328Z"
   },
   {
    "duration": 7,
    "start_time": "2023-09-19T18:51:50.336Z"
   },
   {
    "duration": 7,
    "start_time": "2023-09-19T18:51:50.345Z"
   },
   {
    "duration": 228,
    "start_time": "2023-09-19T18:51:50.354Z"
   },
   {
    "duration": 10,
    "start_time": "2023-09-19T18:51:50.584Z"
   },
   {
    "duration": 25,
    "start_time": "2023-09-19T18:51:50.596Z"
   },
   {
    "duration": 151,
    "start_time": "2023-09-19T18:51:50.623Z"
   },
   {
    "duration": 146,
    "start_time": "2023-09-19T18:51:50.776Z"
   },
   {
    "duration": 5,
    "start_time": "2023-09-19T18:51:50.926Z"
   },
   {
    "duration": 201,
    "start_time": "2023-09-19T18:51:50.933Z"
   },
   {
    "duration": 6,
    "start_time": "2023-09-19T18:51:51.136Z"
   },
   {
    "duration": 328,
    "start_time": "2023-09-19T18:51:51.144Z"
   },
   {
    "duration": 223,
    "start_time": "2023-09-19T18:51:51.473Z"
   },
   {
    "duration": 22,
    "start_time": "2023-09-19T18:51:51.698Z"
   },
   {
    "duration": 20,
    "start_time": "2023-09-19T18:51:51.723Z"
   },
   {
    "duration": 11,
    "start_time": "2023-09-19T18:51:51.745Z"
   },
   {
    "duration": 11,
    "start_time": "2023-09-19T18:51:51.757Z"
   },
   {
    "duration": 11,
    "start_time": "2023-09-19T18:51:51.770Z"
   },
   {
    "duration": 20,
    "start_time": "2023-09-19T18:51:51.810Z"
   },
   {
    "duration": 21,
    "start_time": "2023-09-19T18:51:51.832Z"
   },
   {
    "duration": 260,
    "start_time": "2023-09-19T18:51:51.855Z"
   },
   {
    "duration": 262,
    "start_time": "2023-09-19T18:51:52.117Z"
   },
   {
    "duration": 480,
    "start_time": "2023-09-19T18:51:52.381Z"
   },
   {
    "duration": 205,
    "start_time": "2023-09-19T18:51:52.863Z"
   },
   {
    "duration": 209,
    "start_time": "2023-09-19T18:51:53.070Z"
   },
   {
    "duration": 414,
    "start_time": "2023-09-19T18:51:53.280Z"
   },
   {
    "duration": 39,
    "start_time": "2023-09-19T18:51:53.696Z"
   },
   {
    "duration": 10,
    "start_time": "2023-09-19T18:51:53.737Z"
   },
   {
    "duration": 35,
    "start_time": "2023-09-19T18:51:53.748Z"
   },
   {
    "duration": 36,
    "start_time": "2023-09-19T18:51:53.785Z"
   },
   {
    "duration": 42,
    "start_time": "2023-09-19T18:51:53.822Z"
   },
   {
    "duration": 10,
    "start_time": "2023-09-19T18:51:53.867Z"
   },
   {
    "duration": 34,
    "start_time": "2023-09-19T18:51:53.879Z"
   },
   {
    "duration": 14,
    "start_time": "2023-09-19T18:51:53.915Z"
   },
   {
    "duration": 16,
    "start_time": "2023-09-19T18:51:53.930Z"
   },
   {
    "duration": 24,
    "start_time": "2023-09-19T18:51:53.948Z"
   },
   {
    "duration": 347,
    "start_time": "2023-09-19T18:51:53.974Z"
   },
   {
    "duration": 5,
    "start_time": "2023-09-19T18:51:54.323Z"
   },
   {
    "duration": 344,
    "start_time": "2023-09-19T18:51:54.330Z"
   },
   {
    "duration": 36,
    "start_time": "2023-09-19T18:51:54.676Z"
   },
   {
    "duration": 55,
    "start_time": "2023-09-19T18:51:54.714Z"
   },
   {
    "duration": 42,
    "start_time": "2023-09-19T18:51:54.771Z"
   },
   {
    "duration": 43,
    "start_time": "2023-09-19T18:51:54.814Z"
   },
   {
    "duration": 70,
    "start_time": "2023-09-19T18:51:54.859Z"
   },
   {
    "duration": 13,
    "start_time": "2023-09-19T18:51:54.931Z"
   },
   {
    "duration": 24,
    "start_time": "2023-09-19T18:51:54.946Z"
   },
   {
    "duration": 49,
    "start_time": "2023-09-19T18:51:54.972Z"
   },
   {
    "duration": 416,
    "start_time": "2023-09-19T18:51:55.023Z"
   },
   {
    "duration": 12,
    "start_time": "2023-09-19T18:51:55.441Z"
   },
   {
    "duration": 351,
    "start_time": "2023-09-19T18:51:55.455Z"
   },
   {
    "duration": 3,
    "start_time": "2023-09-19T18:51:55.808Z"
   },
   {
    "duration": 55,
    "start_time": "2023-09-19T18:51:55.813Z"
   },
   {
    "duration": 14,
    "start_time": "2023-09-19T18:53:00.372Z"
   },
   {
    "duration": 35,
    "start_time": "2023-09-19T19:11:23.723Z"
   },
   {
    "duration": 10,
    "start_time": "2023-09-19T19:32:37.102Z"
   },
   {
    "duration": 6,
    "start_time": "2023-09-19T19:33:02.916Z"
   },
   {
    "duration": 6,
    "start_time": "2023-09-19T19:33:38.599Z"
   },
   {
    "duration": 7,
    "start_time": "2023-09-19T19:34:13.148Z"
   },
   {
    "duration": 5,
    "start_time": "2023-09-19T19:34:20.332Z"
   },
   {
    "duration": 5,
    "start_time": "2023-09-19T19:37:44.368Z"
   },
   {
    "duration": 5,
    "start_time": "2023-09-19T19:44:34.005Z"
   },
   {
    "duration": 5,
    "start_time": "2023-09-19T19:44:44.725Z"
   },
   {
    "duration": 5,
    "start_time": "2023-09-19T19:46:19.451Z"
   },
   {
    "duration": 6,
    "start_time": "2023-09-19T19:56:25.140Z"
   },
   {
    "duration": 53,
    "start_time": "2023-09-20T06:13:42.964Z"
   },
   {
    "duration": 1425,
    "start_time": "2023-09-20T06:13:47.889Z"
   },
   {
    "duration": 80,
    "start_time": "2023-09-20T06:13:49.316Z"
   },
   {
    "duration": 15,
    "start_time": "2023-09-20T06:13:49.397Z"
   },
   {
    "duration": 42,
    "start_time": "2023-09-20T06:13:49.414Z"
   },
   {
    "duration": 98,
    "start_time": "2023-09-20T06:13:49.458Z"
   },
   {
    "duration": 10,
    "start_time": "2023-09-20T06:13:49.558Z"
   },
   {
    "duration": 20,
    "start_time": "2023-09-20T06:13:49.570Z"
   },
   {
    "duration": 60,
    "start_time": "2023-09-20T06:13:49.592Z"
   },
   {
    "duration": 8,
    "start_time": "2023-09-20T06:13:49.654Z"
   },
   {
    "duration": 37,
    "start_time": "2023-09-20T06:13:49.666Z"
   },
   {
    "duration": 40,
    "start_time": "2023-09-20T06:13:49.704Z"
   },
   {
    "duration": 26,
    "start_time": "2023-09-20T06:13:49.745Z"
   },
   {
    "duration": 5,
    "start_time": "2023-09-20T06:13:49.773Z"
   },
   {
    "duration": 26,
    "start_time": "2023-09-20T06:13:49.780Z"
   },
   {
    "duration": 35,
    "start_time": "2023-09-20T06:13:49.808Z"
   },
   {
    "duration": 18,
    "start_time": "2023-09-20T06:13:49.844Z"
   },
   {
    "duration": 15,
    "start_time": "2023-09-20T06:13:49.863Z"
   },
   {
    "duration": 35,
    "start_time": "2023-09-20T06:13:49.879Z"
   },
   {
    "duration": 18,
    "start_time": "2023-09-20T06:13:49.915Z"
   },
   {
    "duration": 29,
    "start_time": "2023-09-20T06:13:49.935Z"
   },
   {
    "duration": 10,
    "start_time": "2023-09-20T06:13:49.966Z"
   },
   {
    "duration": 27,
    "start_time": "2023-09-20T06:13:49.978Z"
   },
   {
    "duration": 192,
    "start_time": "2023-09-20T06:13:50.007Z"
   },
   {
    "duration": 10,
    "start_time": "2023-09-20T06:13:50.201Z"
   },
   {
    "duration": 25,
    "start_time": "2023-09-20T06:13:50.212Z"
   },
   {
    "duration": 149,
    "start_time": "2023-09-20T06:13:50.239Z"
   },
   {
    "duration": 146,
    "start_time": "2023-09-20T06:13:50.390Z"
   },
   {
    "duration": 5,
    "start_time": "2023-09-20T06:13:50.542Z"
   },
   {
    "duration": 226,
    "start_time": "2023-09-20T06:13:50.549Z"
   },
   {
    "duration": 6,
    "start_time": "2023-09-20T06:13:50.777Z"
   },
   {
    "duration": 261,
    "start_time": "2023-09-20T06:13:50.785Z"
   },
   {
    "duration": 218,
    "start_time": "2023-09-20T06:13:51.048Z"
   },
   {
    "duration": 23,
    "start_time": "2023-09-20T06:13:51.268Z"
   },
   {
    "duration": 35,
    "start_time": "2023-09-20T06:13:51.293Z"
   },
   {
    "duration": 11,
    "start_time": "2023-09-20T06:13:51.329Z"
   },
   {
    "duration": 4,
    "start_time": "2023-09-20T06:13:51.342Z"
   },
   {
    "duration": 19,
    "start_time": "2023-09-20T06:13:51.348Z"
   },
   {
    "duration": 19,
    "start_time": "2023-09-20T06:13:51.369Z"
   },
   {
    "duration": 21,
    "start_time": "2023-09-20T06:13:51.409Z"
   },
   {
    "duration": 18,
    "start_time": "2023-09-20T06:13:51.431Z"
   },
   {
    "duration": 272,
    "start_time": "2023-09-20T06:13:51.451Z"
   },
   {
    "duration": 331,
    "start_time": "2023-09-20T06:13:51.725Z"
   },
   {
    "duration": 425,
    "start_time": "2023-09-20T06:13:52.058Z"
   },
   {
    "duration": 283,
    "start_time": "2023-09-20T06:13:52.486Z"
   },
   {
    "duration": 209,
    "start_time": "2023-09-20T06:13:52.770Z"
   },
   {
    "duration": 314,
    "start_time": "2023-09-20T06:13:52.980Z"
   },
   {
    "duration": 42,
    "start_time": "2023-09-20T06:13:53.297Z"
   },
   {
    "duration": 10,
    "start_time": "2023-09-20T06:13:53.340Z"
   },
   {
    "duration": 15,
    "start_time": "2023-09-20T06:13:53.352Z"
   },
   {
    "duration": 50,
    "start_time": "2023-09-20T06:13:53.369Z"
   },
   {
    "duration": 31,
    "start_time": "2023-09-20T06:13:53.420Z"
   },
   {
    "duration": 33,
    "start_time": "2023-09-20T06:13:53.453Z"
   },
   {
    "duration": 29,
    "start_time": "2023-09-20T06:13:53.487Z"
   },
   {
    "duration": 16,
    "start_time": "2023-09-20T06:13:53.518Z"
   },
   {
    "duration": 12,
    "start_time": "2023-09-20T06:13:53.536Z"
   },
   {
    "duration": 14,
    "start_time": "2023-09-20T06:13:53.550Z"
   },
   {
    "duration": 54,
    "start_time": "2023-09-20T06:13:53.565Z"
   },
   {
    "duration": 332,
    "start_time": "2023-09-20T06:13:53.620Z"
   },
   {
    "duration": 5,
    "start_time": "2023-09-20T06:13:53.953Z"
   },
   {
    "duration": 53,
    "start_time": "2023-09-20T06:13:53.960Z"
   },
   {
    "duration": 5,
    "start_time": "2023-09-20T06:13:54.015Z"
   },
   {
    "duration": 395,
    "start_time": "2023-09-20T06:13:54.022Z"
   },
   {
    "duration": 24,
    "start_time": "2023-09-20T06:13:54.419Z"
   },
   {
    "duration": 57,
    "start_time": "2023-09-20T06:13:54.445Z"
   },
   {
    "duration": 21,
    "start_time": "2023-09-20T06:13:54.505Z"
   },
   {
    "duration": 10,
    "start_time": "2023-09-20T06:13:54.528Z"
   },
   {
    "duration": 59,
    "start_time": "2023-09-20T06:13:54.539Z"
   },
   {
    "duration": 16,
    "start_time": "2023-09-20T06:13:54.609Z"
   },
   {
    "duration": 21,
    "start_time": "2023-09-20T06:13:54.627Z"
   },
   {
    "duration": 22,
    "start_time": "2023-09-20T06:13:54.649Z"
   },
   {
    "duration": 398,
    "start_time": "2023-09-20T06:13:54.673Z"
   },
   {
    "duration": 15,
    "start_time": "2023-09-20T06:13:55.074Z"
   },
   {
    "duration": 297,
    "start_time": "2023-09-20T06:13:55.091Z"
   },
   {
    "duration": 3,
    "start_time": "2023-09-20T06:13:55.390Z"
   },
   {
    "duration": 18,
    "start_time": "2023-09-20T06:13:55.395Z"
   },
   {
    "duration": 6,
    "start_time": "2023-09-20T06:14:46.446Z"
   },
   {
    "duration": 6,
    "start_time": "2023-09-20T06:14:57.432Z"
   },
   {
    "duration": 1341,
    "start_time": "2023-09-20T15:35:02.240Z"
   },
   {
    "duration": 87,
    "start_time": "2023-09-20T15:35:03.582Z"
   },
   {
    "duration": 33,
    "start_time": "2023-09-20T15:35:03.671Z"
   },
   {
    "duration": 39,
    "start_time": "2023-09-20T15:35:03.706Z"
   },
   {
    "duration": 128,
    "start_time": "2023-09-20T15:35:03.747Z"
   },
   {
    "duration": 58,
    "start_time": "2023-09-20T15:35:03.877Z"
   },
   {
    "duration": 40,
    "start_time": "2023-09-20T15:35:03.937Z"
   },
   {
    "duration": 68,
    "start_time": "2023-09-20T15:35:03.978Z"
   },
   {
    "duration": 8,
    "start_time": "2023-09-20T15:35:04.047Z"
   },
   {
    "duration": 63,
    "start_time": "2023-09-20T15:35:04.057Z"
   },
   {
    "duration": 35,
    "start_time": "2023-09-20T15:35:04.122Z"
   },
   {
    "duration": 140,
    "start_time": "2023-09-20T15:35:04.160Z"
   },
   {
    "duration": 200,
    "start_time": "2023-09-20T15:35:04.302Z"
   },
   {
    "duration": 60,
    "start_time": "2023-09-20T15:35:04.504Z"
   },
   {
    "duration": 44,
    "start_time": "2023-09-20T15:35:04.566Z"
   },
   {
    "duration": 49,
    "start_time": "2023-09-20T15:35:04.612Z"
   },
   {
    "duration": 61,
    "start_time": "2023-09-20T15:35:04.664Z"
   },
   {
    "duration": 46,
    "start_time": "2023-09-20T15:35:04.727Z"
   },
   {
    "duration": 34,
    "start_time": "2023-09-20T15:35:04.775Z"
   },
   {
    "duration": 54,
    "start_time": "2023-09-20T15:35:04.810Z"
   },
   {
    "duration": 18,
    "start_time": "2023-09-20T15:35:04.866Z"
   },
   {
    "duration": 16,
    "start_time": "2023-09-20T15:35:04.886Z"
   },
   {
    "duration": 198,
    "start_time": "2023-09-20T15:35:04.903Z"
   },
   {
    "duration": 5,
    "start_time": "2023-09-20T15:35:05.103Z"
   },
   {
    "duration": 25,
    "start_time": "2023-09-20T15:35:05.109Z"
   },
   {
    "duration": 140,
    "start_time": "2023-09-20T15:35:05.135Z"
   },
   {
    "duration": 141,
    "start_time": "2023-09-20T15:35:05.277Z"
   },
   {
    "duration": 5,
    "start_time": "2023-09-20T15:35:05.422Z"
   },
   {
    "duration": 208,
    "start_time": "2023-09-20T15:35:05.428Z"
   },
   {
    "duration": 5,
    "start_time": "2023-09-20T15:35:05.638Z"
   },
   {
    "duration": 252,
    "start_time": "2023-09-20T15:35:05.645Z"
   },
   {
    "duration": 201,
    "start_time": "2023-09-20T15:35:05.902Z"
   },
   {
    "duration": 20,
    "start_time": "2023-09-20T15:35:06.105Z"
   },
   {
    "duration": 25,
    "start_time": "2023-09-20T15:35:06.126Z"
   },
   {
    "duration": 15,
    "start_time": "2023-09-20T15:35:06.153Z"
   },
   {
    "duration": 39,
    "start_time": "2023-09-20T15:35:06.170Z"
   },
   {
    "duration": 38,
    "start_time": "2023-09-20T15:35:06.211Z"
   },
   {
    "duration": 13,
    "start_time": "2023-09-20T15:35:06.251Z"
   },
   {
    "duration": 42,
    "start_time": "2023-09-20T15:35:06.267Z"
   },
   {
    "duration": 37,
    "start_time": "2023-09-20T15:35:06.311Z"
   },
   {
    "duration": 269,
    "start_time": "2023-09-20T15:35:06.350Z"
   },
   {
    "duration": 325,
    "start_time": "2023-09-20T15:35:06.621Z"
   },
   {
    "duration": 403,
    "start_time": "2023-09-20T15:35:06.948Z"
   },
   {
    "duration": 207,
    "start_time": "2023-09-20T15:35:07.353Z"
   },
   {
    "duration": 202,
    "start_time": "2023-09-20T15:35:07.562Z"
   },
   {
    "duration": 302,
    "start_time": "2023-09-20T15:35:07.765Z"
   },
   {
    "duration": 43,
    "start_time": "2023-09-20T15:35:08.069Z"
   },
   {
    "duration": 65,
    "start_time": "2023-09-20T15:35:08.113Z"
   },
   {
    "duration": 174,
    "start_time": "2023-09-20T15:35:08.180Z"
   },
   {
    "duration": 146,
    "start_time": "2023-09-20T15:35:08.356Z"
   },
   {
    "duration": 57,
    "start_time": "2023-09-20T15:35:08.504Z"
   },
   {
    "duration": 38,
    "start_time": "2023-09-20T15:35:08.563Z"
   },
   {
    "duration": 7,
    "start_time": "2023-09-20T15:35:08.603Z"
   },
   {
    "duration": 66,
    "start_time": "2023-09-20T15:35:08.612Z"
   },
   {
    "duration": 56,
    "start_time": "2023-09-20T15:35:08.679Z"
   },
   {
    "duration": 26,
    "start_time": "2023-09-20T15:35:08.737Z"
   },
   {
    "duration": 45,
    "start_time": "2023-09-20T15:35:08.765Z"
   },
   {
    "duration": 5,
    "start_time": "2023-09-20T15:35:08.811Z"
   },
   {
    "duration": 319,
    "start_time": "2023-09-20T15:35:08.818Z"
   },
   {
    "duration": 3,
    "start_time": "2023-09-20T15:35:09.139Z"
   },
   {
    "duration": 23,
    "start_time": "2023-09-20T15:35:09.144Z"
   },
   {
    "duration": 401,
    "start_time": "2023-09-20T15:35:09.168Z"
   },
   {
    "duration": 21,
    "start_time": "2023-09-20T15:35:09.570Z"
   },
   {
    "duration": 38,
    "start_time": "2023-09-20T15:35:09.602Z"
   },
   {
    "duration": 32,
    "start_time": "2023-09-20T15:35:09.642Z"
   },
   {
    "duration": 13,
    "start_time": "2023-09-20T15:35:09.677Z"
   },
   {
    "duration": 59,
    "start_time": "2023-09-20T15:35:09.692Z"
   },
   {
    "duration": 12,
    "start_time": "2023-09-20T15:35:09.753Z"
   },
   {
    "duration": 44,
    "start_time": "2023-09-20T15:35:09.767Z"
   },
   {
    "duration": 36,
    "start_time": "2023-09-20T15:35:09.812Z"
   },
   {
    "duration": 383,
    "start_time": "2023-09-20T15:35:09.850Z"
   },
   {
    "duration": 12,
    "start_time": "2023-09-20T15:35:10.234Z"
   },
   {
    "duration": 290,
    "start_time": "2023-09-20T15:35:10.248Z"
   },
   {
    "duration": 3,
    "start_time": "2023-09-20T15:35:10.540Z"
   },
   {
    "duration": 36,
    "start_time": "2023-09-20T15:35:10.545Z"
   },
   {
    "duration": 43,
    "start_time": "2023-09-20T15:36:36.323Z"
   },
   {
    "duration": 16,
    "start_time": "2023-09-20T15:37:07.818Z"
   },
   {
    "duration": 13,
    "start_time": "2023-09-20T15:38:14.625Z"
   },
   {
    "duration": 17,
    "start_time": "2023-09-20T15:38:24.062Z"
   },
   {
    "duration": 15,
    "start_time": "2023-09-20T15:38:29.972Z"
   },
   {
    "duration": 17,
    "start_time": "2023-09-20T15:38:54.459Z"
   },
   {
    "duration": 25,
    "start_time": "2023-09-20T15:38:57.556Z"
   },
   {
    "duration": 54,
    "start_time": "2023-09-20T15:39:34.410Z"
   },
   {
    "duration": 10,
    "start_time": "2023-09-20T15:39:43.002Z"
   },
   {
    "duration": 17,
    "start_time": "2023-09-20T15:39:49.159Z"
   },
   {
    "duration": 19,
    "start_time": "2023-09-20T15:39:56.307Z"
   },
   {
    "duration": 23,
    "start_time": "2023-09-20T15:40:13.071Z"
   },
   {
    "duration": 27,
    "start_time": "2023-09-20T15:40:41.013Z"
   },
   {
    "duration": 5,
    "start_time": "2023-09-20T15:44:27.242Z"
   },
   {
    "duration": 11,
    "start_time": "2023-09-20T16:06:00.591Z"
   },
   {
    "duration": 2072,
    "start_time": "2023-09-20T17:36:10.518Z"
   },
   {
    "duration": 15,
    "start_time": "2023-09-20T17:36:26.283Z"
   },
   {
    "duration": 1725,
    "start_time": "2023-09-20T17:37:56.318Z"
   },
   {
    "duration": 10,
    "start_time": "2023-09-20T17:38:17.775Z"
   },
   {
    "duration": 10,
    "start_time": "2023-09-20T17:38:40.837Z"
   },
   {
    "duration": 19,
    "start_time": "2023-09-20T17:42:47.334Z"
   },
   {
    "duration": 6,
    "start_time": "2023-09-20T17:44:35.755Z"
   },
   {
    "duration": 10,
    "start_time": "2023-09-20T17:44:55.242Z"
   },
   {
    "duration": 30,
    "start_time": "2023-09-20T17:45:39.881Z"
   },
   {
    "duration": 6,
    "start_time": "2023-09-20T17:46:07.092Z"
   },
   {
    "duration": 27,
    "start_time": "2023-09-20T17:46:39.853Z"
   },
   {
    "duration": 5,
    "start_time": "2023-09-20T17:46:43.825Z"
   },
   {
    "duration": 11,
    "start_time": "2023-09-20T17:48:02.450Z"
   },
   {
    "duration": 36,
    "start_time": "2023-09-20T17:48:07.992Z"
   },
   {
    "duration": 7,
    "start_time": "2023-09-20T17:48:10.416Z"
   },
   {
    "duration": 29,
    "start_time": "2023-09-20T17:48:50.685Z"
   },
   {
    "duration": 6,
    "start_time": "2023-09-20T17:48:53.005Z"
   },
   {
    "duration": 41,
    "start_time": "2023-09-20T17:49:13.391Z"
   },
   {
    "duration": 12,
    "start_time": "2023-09-20T17:49:15.230Z"
   },
   {
    "duration": 30,
    "start_time": "2023-09-20T17:49:28.995Z"
   },
   {
    "duration": 20,
    "start_time": "2023-09-20T17:49:58.382Z"
   },
   {
    "duration": 15,
    "start_time": "2023-09-20T17:50:09.560Z"
   },
   {
    "duration": 11,
    "start_time": "2023-09-20T17:50:22.800Z"
   },
   {
    "duration": 2359,
    "start_time": "2023-09-20T17:51:14.477Z"
   },
   {
    "duration": 8,
    "start_time": "2023-09-20T17:51:35.739Z"
   },
   {
    "duration": 50,
    "start_time": "2023-09-20T17:55:21.382Z"
   },
   {
    "duration": 54,
    "start_time": "2023-09-20T17:55:52.024Z"
   },
   {
    "duration": 1301,
    "start_time": "2023-09-21T06:26:58.514Z"
   },
   {
    "duration": 75,
    "start_time": "2023-09-21T06:26:59.817Z"
   },
   {
    "duration": 13,
    "start_time": "2023-09-21T06:26:59.893Z"
   },
   {
    "duration": 23,
    "start_time": "2023-09-21T06:26:59.908Z"
   },
   {
    "duration": 157,
    "start_time": "2023-09-21T06:26:59.933Z"
   },
   {
    "duration": 8,
    "start_time": "2023-09-21T06:27:00.092Z"
   },
   {
    "duration": 42,
    "start_time": "2023-09-21T06:27:00.101Z"
   },
   {
    "duration": 71,
    "start_time": "2023-09-21T06:27:00.145Z"
   },
   {
    "duration": 8,
    "start_time": "2023-09-21T06:27:00.217Z"
   },
   {
    "duration": 60,
    "start_time": "2023-09-21T06:27:00.228Z"
   },
   {
    "duration": 39,
    "start_time": "2023-09-21T06:27:00.290Z"
   },
   {
    "duration": 34,
    "start_time": "2023-09-21T06:27:00.331Z"
   },
   {
    "duration": 44,
    "start_time": "2023-09-21T06:27:00.367Z"
   },
   {
    "duration": 30,
    "start_time": "2023-09-21T06:27:00.413Z"
   },
   {
    "duration": 66,
    "start_time": "2023-09-21T06:27:00.444Z"
   },
   {
    "duration": 89,
    "start_time": "2023-09-21T06:27:00.512Z"
   },
   {
    "duration": 43,
    "start_time": "2023-09-21T06:27:00.603Z"
   },
   {
    "duration": 23,
    "start_time": "2023-09-21T06:27:00.647Z"
   },
   {
    "duration": 33,
    "start_time": "2023-09-21T06:27:00.671Z"
   },
   {
    "duration": 46,
    "start_time": "2023-09-21T06:27:00.705Z"
   },
   {
    "duration": 61,
    "start_time": "2023-09-21T06:27:00.753Z"
   },
   {
    "duration": 80,
    "start_time": "2023-09-21T06:27:00.815Z"
   },
   {
    "duration": 36,
    "start_time": "2023-09-21T06:27:00.897Z"
   },
   {
    "duration": 229,
    "start_time": "2023-09-21T06:27:00.935Z"
   },
   {
    "duration": 6,
    "start_time": "2023-09-21T06:27:01.165Z"
   },
   {
    "duration": 129,
    "start_time": "2023-09-21T06:27:01.172Z"
   },
   {
    "duration": 255,
    "start_time": "2023-09-21T06:27:01.303Z"
   },
   {
    "duration": 151,
    "start_time": "2023-09-21T06:27:01.562Z"
   },
   {
    "duration": 22,
    "start_time": "2023-09-21T06:27:01.715Z"
   },
   {
    "duration": 219,
    "start_time": "2023-09-21T06:27:01.739Z"
   },
   {
    "duration": 6,
    "start_time": "2023-09-21T06:27:01.960Z"
   },
   {
    "duration": 337,
    "start_time": "2023-09-21T06:27:01.967Z"
   },
   {
    "duration": 206,
    "start_time": "2023-09-21T06:27:02.305Z"
   },
   {
    "duration": 101,
    "start_time": "2023-09-21T06:27:02.513Z"
   },
   {
    "duration": 174,
    "start_time": "2023-09-21T06:27:02.616Z"
   },
   {
    "duration": 117,
    "start_time": "2023-09-21T06:27:02.791Z"
   },
   {
    "duration": 18,
    "start_time": "2023-09-21T06:27:02.909Z"
   },
   {
    "duration": 36,
    "start_time": "2023-09-21T06:27:02.928Z"
   },
   {
    "duration": 30,
    "start_time": "2023-09-21T06:27:02.966Z"
   },
   {
    "duration": 28,
    "start_time": "2023-09-21T06:27:02.997Z"
   },
   {
    "duration": 15,
    "start_time": "2023-09-21T06:27:03.027Z"
   },
   {
    "duration": 213,
    "start_time": "2023-09-21T06:27:03.044Z"
   },
   {
    "duration": 291,
    "start_time": "2023-09-21T06:27:03.258Z"
   },
   {
    "duration": 389,
    "start_time": "2023-09-21T06:27:03.550Z"
   },
   {
    "duration": 188,
    "start_time": "2023-09-21T06:27:03.943Z"
   },
   {
    "duration": 171,
    "start_time": "2023-09-21T06:27:04.133Z"
   },
   {
    "duration": 305,
    "start_time": "2023-09-21T06:27:04.306Z"
   },
   {
    "duration": 49,
    "start_time": "2023-09-21T06:27:04.613Z"
   },
   {
    "duration": 16,
    "start_time": "2023-09-21T06:27:04.663Z"
   },
   {
    "duration": 19,
    "start_time": "2023-09-21T06:27:04.680Z"
   },
   {
    "duration": 29,
    "start_time": "2023-09-21T06:27:04.701Z"
   },
   {
    "duration": 40,
    "start_time": "2023-09-21T06:27:04.732Z"
   },
   {
    "duration": 40,
    "start_time": "2023-09-21T06:27:04.774Z"
   },
   {
    "duration": 36,
    "start_time": "2023-09-21T06:27:04.815Z"
   },
   {
    "duration": 40,
    "start_time": "2023-09-21T06:27:04.853Z"
   },
   {
    "duration": 34,
    "start_time": "2023-09-21T06:27:04.895Z"
   },
   {
    "duration": 18,
    "start_time": "2023-09-21T06:27:04.931Z"
   },
   {
    "duration": 26,
    "start_time": "2023-09-21T06:27:04.951Z"
   },
   {
    "duration": 5,
    "start_time": "2023-09-21T06:27:04.979Z"
   },
   {
    "duration": 301,
    "start_time": "2023-09-21T06:27:04.986Z"
   },
   {
    "duration": 3,
    "start_time": "2023-09-21T06:27:05.289Z"
   },
   {
    "duration": 25,
    "start_time": "2023-09-21T06:27:05.294Z"
   },
   {
    "duration": 344,
    "start_time": "2023-09-21T06:27:05.321Z"
   },
   {
    "duration": 17,
    "start_time": "2023-09-21T06:27:05.667Z"
   },
   {
    "duration": 49,
    "start_time": "2023-09-21T06:27:05.685Z"
   },
   {
    "duration": 67,
    "start_time": "2023-09-21T06:27:05.735Z"
   },
   {
    "duration": 145,
    "start_time": "2023-09-21T06:27:05.804Z"
   },
   {
    "duration": 0,
    "start_time": "2023-09-21T06:27:05.951Z"
   },
   {
    "duration": 0,
    "start_time": "2023-09-21T06:27:05.952Z"
   },
   {
    "duration": 0,
    "start_time": "2023-09-21T06:27:05.954Z"
   },
   {
    "duration": 0,
    "start_time": "2023-09-21T06:27:05.955Z"
   },
   {
    "duration": 0,
    "start_time": "2023-09-21T06:27:05.957Z"
   },
   {
    "duration": 0,
    "start_time": "2023-09-21T06:27:05.958Z"
   },
   {
    "duration": 0,
    "start_time": "2023-09-21T06:27:05.959Z"
   },
   {
    "duration": 0,
    "start_time": "2023-09-21T06:27:05.961Z"
   },
   {
    "duration": 1,
    "start_time": "2023-09-21T06:27:05.962Z"
   },
   {
    "duration": 0,
    "start_time": "2023-09-21T06:27:05.964Z"
   },
   {
    "duration": 0,
    "start_time": "2023-09-21T06:27:05.965Z"
   },
   {
    "duration": 0,
    "start_time": "2023-09-21T06:27:05.966Z"
   },
   {
    "duration": 0,
    "start_time": "2023-09-21T06:27:05.968Z"
   },
   {
    "duration": 65,
    "start_time": "2023-09-21T06:47:51.207Z"
   },
   {
    "duration": 50,
    "start_time": "2023-09-21T06:47:59.901Z"
   },
   {
    "duration": 48,
    "start_time": "2023-09-21T06:48:49.467Z"
   },
   {
    "duration": 43003,
    "start_time": "2023-09-21T06:52:20.503Z"
   },
   {
    "duration": 47,
    "start_time": "2023-09-21T06:53:23.488Z"
   },
   {
    "duration": 53,
    "start_time": "2023-09-21T06:54:01.754Z"
   },
   {
    "duration": 10,
    "start_time": "2023-09-21T07:05:20.696Z"
   },
   {
    "duration": 9,
    "start_time": "2023-09-21T07:06:33.345Z"
   },
   {
    "duration": 6,
    "start_time": "2023-09-21T07:15:53.450Z"
   },
   {
    "duration": 56,
    "start_time": "2023-09-21T07:15:53.459Z"
   },
   {
    "duration": 9,
    "start_time": "2023-09-21T07:15:53.517Z"
   },
   {
    "duration": 40,
    "start_time": "2023-09-21T07:15:53.527Z"
   },
   {
    "duration": 33,
    "start_time": "2023-09-21T07:15:53.570Z"
   },
   {
    "duration": 10,
    "start_time": "2023-09-21T07:15:53.605Z"
   },
   {
    "duration": 37,
    "start_time": "2023-09-21T07:15:53.616Z"
   },
   {
    "duration": 24,
    "start_time": "2023-09-21T07:15:53.657Z"
   },
   {
    "duration": 21,
    "start_time": "2023-09-21T07:15:53.683Z"
   },
   {
    "duration": 26,
    "start_time": "2023-09-21T07:15:53.708Z"
   },
   {
    "duration": 48,
    "start_time": "2023-09-21T07:15:53.738Z"
   },
   {
    "duration": 29,
    "start_time": "2023-09-21T07:15:53.789Z"
   },
   {
    "duration": 17,
    "start_time": "2023-09-21T07:15:53.820Z"
   },
   {
    "duration": 12,
    "start_time": "2023-09-21T07:15:53.839Z"
   },
   {
    "duration": 14,
    "start_time": "2023-09-21T07:15:53.854Z"
   },
   {
    "duration": 9,
    "start_time": "2023-09-21T07:15:53.871Z"
   },
   {
    "duration": 10,
    "start_time": "2023-09-21T07:15:53.882Z"
   },
   {
    "duration": 9,
    "start_time": "2023-09-21T07:15:53.894Z"
   },
   {
    "duration": 45,
    "start_time": "2023-09-21T07:15:53.906Z"
   },
   {
    "duration": 18,
    "start_time": "2023-09-21T07:15:53.953Z"
   },
   {
    "duration": 7,
    "start_time": "2023-09-21T07:15:53.973Z"
   },
   {
    "duration": 12,
    "start_time": "2023-09-21T07:15:53.982Z"
   },
   {
    "duration": 15,
    "start_time": "2023-09-21T07:15:53.996Z"
   },
   {
    "duration": 198,
    "start_time": "2023-09-21T07:15:54.014Z"
   },
   {
    "duration": 6,
    "start_time": "2023-09-21T07:15:54.213Z"
   },
   {
    "duration": 14,
    "start_time": "2023-09-21T07:15:54.221Z"
   },
   {
    "duration": 160,
    "start_time": "2023-09-21T07:15:54.238Z"
   },
   {
    "duration": 178,
    "start_time": "2023-09-21T07:15:54.401Z"
   },
   {
    "duration": 6,
    "start_time": "2023-09-21T07:15:54.586Z"
   },
   {
    "duration": 267,
    "start_time": "2023-09-21T07:15:54.594Z"
   },
   {
    "duration": 6,
    "start_time": "2023-09-21T07:15:54.867Z"
   },
   {
    "duration": 256,
    "start_time": "2023-09-21T07:15:54.875Z"
   },
   {
    "duration": 18,
    "start_time": "2023-09-21T07:15:55.133Z"
   },
   {
    "duration": 236,
    "start_time": "2023-09-21T07:15:55.155Z"
   },
   {
    "duration": 20,
    "start_time": "2023-09-21T07:15:55.393Z"
   },
   {
    "duration": 57,
    "start_time": "2023-09-21T07:15:55.415Z"
   },
   {
    "duration": 9,
    "start_time": "2023-09-21T07:15:55.474Z"
   },
   {
    "duration": 29,
    "start_time": "2023-09-21T07:15:55.485Z"
   },
   {
    "duration": 25,
    "start_time": "2023-09-21T07:15:55.516Z"
   },
   {
    "duration": 12,
    "start_time": "2023-09-21T07:15:55.550Z"
   },
   {
    "duration": 35,
    "start_time": "2023-09-21T07:15:55.565Z"
   },
   {
    "duration": 17,
    "start_time": "2023-09-21T07:15:55.601Z"
   },
   {
    "duration": 267,
    "start_time": "2023-09-21T07:15:55.619Z"
   },
   {
    "duration": 370,
    "start_time": "2023-09-21T07:15:55.888Z"
   },
   {
    "duration": 459,
    "start_time": "2023-09-21T07:15:56.261Z"
   },
   {
    "duration": 228,
    "start_time": "2023-09-21T07:15:56.722Z"
   },
   {
    "duration": 225,
    "start_time": "2023-09-21T07:15:56.952Z"
   },
   {
    "duration": 373,
    "start_time": "2023-09-21T07:15:57.179Z"
   },
   {
    "duration": 58,
    "start_time": "2023-09-21T07:15:57.555Z"
   },
   {
    "duration": 52,
    "start_time": "2023-09-21T07:15:57.615Z"
   },
   {
    "duration": 53,
    "start_time": "2023-09-21T07:15:57.670Z"
   },
   {
    "duration": 58,
    "start_time": "2023-09-21T07:15:57.725Z"
   },
   {
    "duration": 37,
    "start_time": "2023-09-21T07:15:57.785Z"
   },
   {
    "duration": 65,
    "start_time": "2023-09-21T07:15:57.824Z"
   },
   {
    "duration": 16,
    "start_time": "2023-09-21T07:15:57.891Z"
   },
   {
    "duration": 61,
    "start_time": "2023-09-21T07:15:57.909Z"
   },
   {
    "duration": 25,
    "start_time": "2023-09-21T07:15:57.972Z"
   },
   {
    "duration": 28,
    "start_time": "2023-09-21T07:15:57.999Z"
   },
   {
    "duration": 44,
    "start_time": "2023-09-21T07:15:58.029Z"
   },
   {
    "duration": 5,
    "start_time": "2023-09-21T07:15:58.075Z"
   },
   {
    "duration": 386,
    "start_time": "2023-09-21T07:15:58.082Z"
   },
   {
    "duration": 5,
    "start_time": "2023-09-21T07:15:58.471Z"
   },
   {
    "duration": 44,
    "start_time": "2023-09-21T07:15:58.478Z"
   },
   {
    "duration": 430,
    "start_time": "2023-09-21T07:15:58.524Z"
   },
   {
    "duration": 22,
    "start_time": "2023-09-21T07:15:58.956Z"
   },
   {
    "duration": 41,
    "start_time": "2023-09-21T07:15:58.980Z"
   },
   {
    "duration": 93,
    "start_time": "2023-09-21T07:15:59.023Z"
   },
   {
    "duration": 24,
    "start_time": "2023-09-21T07:15:59.118Z"
   },
   {
    "duration": 34,
    "start_time": "2023-09-21T07:15:59.147Z"
   },
   {
    "duration": 26,
    "start_time": "2023-09-21T07:15:59.183Z"
   },
   {
    "duration": 17,
    "start_time": "2023-09-21T07:15:59.211Z"
   },
   {
    "duration": 66,
    "start_time": "2023-09-21T07:15:59.246Z"
   },
   {
    "duration": 18,
    "start_time": "2023-09-21T07:15:59.314Z"
   },
   {
    "duration": 28,
    "start_time": "2023-09-21T07:15:59.334Z"
   },
   {
    "duration": 24,
    "start_time": "2023-09-21T07:15:59.365Z"
   },
   {
    "duration": 380,
    "start_time": "2023-09-21T07:15:59.391Z"
   },
   {
    "duration": 11,
    "start_time": "2023-09-21T07:15:59.773Z"
   },
   {
    "duration": 306,
    "start_time": "2023-09-21T07:15:59.787Z"
   },
   {
    "duration": 3,
    "start_time": "2023-09-21T07:16:00.094Z"
   },
   {
    "duration": 49,
    "start_time": "2023-09-21T07:16:00.098Z"
   },
   {
    "duration": 1051,
    "start_time": "2023-09-21T11:50:40.795Z"
   },
   {
    "duration": 29,
    "start_time": "2023-09-21T11:50:41.848Z"
   },
   {
    "duration": 14,
    "start_time": "2023-09-21T11:50:41.878Z"
   },
   {
    "duration": 10,
    "start_time": "2023-09-21T11:50:41.894Z"
   },
   {
    "duration": 30,
    "start_time": "2023-09-21T11:50:41.906Z"
   },
   {
    "duration": 8,
    "start_time": "2023-09-21T11:50:41.937Z"
   },
   {
    "duration": 25,
    "start_time": "2023-09-21T11:50:41.947Z"
   },
   {
    "duration": 20,
    "start_time": "2023-09-21T11:50:41.973Z"
   },
   {
    "duration": 6,
    "start_time": "2023-09-21T11:50:41.994Z"
   },
   {
    "duration": 10,
    "start_time": "2023-09-21T11:50:42.003Z"
   },
   {
    "duration": 16,
    "start_time": "2023-09-21T11:50:42.014Z"
   },
   {
    "duration": 5,
    "start_time": "2023-09-21T11:50:42.031Z"
   },
   {
    "duration": 11,
    "start_time": "2023-09-21T11:50:42.038Z"
   },
   {
    "duration": 5,
    "start_time": "2023-09-21T11:50:42.050Z"
   },
   {
    "duration": 8,
    "start_time": "2023-09-21T11:50:42.057Z"
   },
   {
    "duration": 11,
    "start_time": "2023-09-21T11:50:42.066Z"
   },
   {
    "duration": 6,
    "start_time": "2023-09-21T11:50:42.078Z"
   },
   {
    "duration": 6,
    "start_time": "2023-09-21T11:50:42.085Z"
   },
   {
    "duration": 14,
    "start_time": "2023-09-21T11:50:42.093Z"
   },
   {
    "duration": 45,
    "start_time": "2023-09-21T11:50:42.108Z"
   },
   {
    "duration": 6,
    "start_time": "2023-09-21T11:50:42.155Z"
   },
   {
    "duration": 5,
    "start_time": "2023-09-21T11:50:42.162Z"
   },
   {
    "duration": 7,
    "start_time": "2023-09-21T11:50:42.168Z"
   },
   {
    "duration": 170,
    "start_time": "2023-09-21T11:50:42.176Z"
   },
   {
    "duration": 5,
    "start_time": "2023-09-21T11:50:42.347Z"
   },
   {
    "duration": 9,
    "start_time": "2023-09-21T11:50:42.354Z"
   },
   {
    "duration": 138,
    "start_time": "2023-09-21T11:50:42.364Z"
   },
   {
    "duration": 124,
    "start_time": "2023-09-21T11:50:42.506Z"
   },
   {
    "duration": 5,
    "start_time": "2023-09-21T11:50:42.631Z"
   },
   {
    "duration": 193,
    "start_time": "2023-09-21T11:50:42.637Z"
   },
   {
    "duration": 5,
    "start_time": "2023-09-21T11:50:42.832Z"
   },
   {
    "duration": 226,
    "start_time": "2023-09-21T11:50:42.838Z"
   },
   {
    "duration": 9,
    "start_time": "2023-09-21T11:50:43.066Z"
   },
   {
    "duration": 190,
    "start_time": "2023-09-21T11:50:43.076Z"
   },
   {
    "duration": 18,
    "start_time": "2023-09-21T11:50:43.267Z"
   },
   {
    "duration": 32,
    "start_time": "2023-09-21T11:50:43.286Z"
   },
   {
    "duration": 14,
    "start_time": "2023-09-21T11:50:43.319Z"
   },
   {
    "duration": 31,
    "start_time": "2023-09-21T11:50:43.334Z"
   },
   {
    "duration": 44,
    "start_time": "2023-09-21T11:50:43.367Z"
   },
   {
    "duration": 17,
    "start_time": "2023-09-21T11:50:43.412Z"
   },
   {
    "duration": 24,
    "start_time": "2023-09-21T11:50:43.430Z"
   },
   {
    "duration": 22,
    "start_time": "2023-09-21T11:50:43.455Z"
   },
   {
    "duration": 213,
    "start_time": "2023-09-21T11:50:43.479Z"
   },
   {
    "duration": 277,
    "start_time": "2023-09-21T11:50:43.693Z"
   },
   {
    "duration": 335,
    "start_time": "2023-09-21T11:50:43.971Z"
   },
   {
    "duration": 179,
    "start_time": "2023-09-21T11:50:44.308Z"
   },
   {
    "duration": 179,
    "start_time": "2023-09-21T11:50:44.488Z"
   },
   {
    "duration": 261,
    "start_time": "2023-09-21T11:50:44.668Z"
   },
   {
    "duration": 45,
    "start_time": "2023-09-21T11:50:44.931Z"
   },
   {
    "duration": 14,
    "start_time": "2023-09-21T11:50:44.978Z"
   },
   {
    "duration": 51,
    "start_time": "2023-09-21T11:50:44.994Z"
   },
   {
    "duration": 37,
    "start_time": "2023-09-21T11:50:45.047Z"
   },
   {
    "duration": 27,
    "start_time": "2023-09-21T11:50:45.085Z"
   },
   {
    "duration": 36,
    "start_time": "2023-09-21T11:50:45.114Z"
   },
   {
    "duration": 16,
    "start_time": "2023-09-21T11:50:45.152Z"
   },
   {
    "duration": 36,
    "start_time": "2023-09-21T11:50:45.169Z"
   },
   {
    "duration": 20,
    "start_time": "2023-09-21T11:50:45.207Z"
   },
   {
    "duration": 24,
    "start_time": "2023-09-21T11:50:45.229Z"
   },
   {
    "duration": 83,
    "start_time": "2023-09-21T11:50:45.254Z"
   },
   {
    "duration": 13,
    "start_time": "2023-09-21T11:50:45.338Z"
   },
   {
    "duration": 302,
    "start_time": "2023-09-21T11:50:45.353Z"
   },
   {
    "duration": 3,
    "start_time": "2023-09-21T11:50:45.656Z"
   },
   {
    "duration": 21,
    "start_time": "2023-09-21T11:50:45.660Z"
   },
   {
    "duration": 325,
    "start_time": "2023-09-21T11:50:45.683Z"
   },
   {
    "duration": 14,
    "start_time": "2023-09-21T11:50:46.010Z"
   },
   {
    "duration": 27,
    "start_time": "2023-09-21T11:50:46.025Z"
   },
   {
    "duration": 44,
    "start_time": "2023-09-21T11:50:46.053Z"
   },
   {
    "duration": 18,
    "start_time": "2023-09-21T11:50:46.098Z"
   },
   {
    "duration": 42,
    "start_time": "2023-09-21T11:50:46.118Z"
   },
   {
    "duration": 23,
    "start_time": "2023-09-21T11:50:46.162Z"
   },
   {
    "duration": 12,
    "start_time": "2023-09-21T11:50:46.187Z"
   },
   {
    "duration": 66,
    "start_time": "2023-09-21T11:50:46.201Z"
   },
   {
    "duration": 19,
    "start_time": "2023-09-21T11:50:46.270Z"
   },
   {
    "duration": 28,
    "start_time": "2023-09-21T11:50:46.291Z"
   },
   {
    "duration": 38,
    "start_time": "2023-09-21T11:50:46.321Z"
   },
   {
    "duration": 327,
    "start_time": "2023-09-21T11:50:46.361Z"
   },
   {
    "duration": 10,
    "start_time": "2023-09-21T11:50:46.690Z"
   },
   {
    "duration": 359,
    "start_time": "2023-09-21T11:50:46.701Z"
   },
   {
    "duration": 2,
    "start_time": "2023-09-21T11:50:47.062Z"
   },
   {
    "duration": 25,
    "start_time": "2023-09-21T11:50:47.065Z"
   },
   {
    "duration": 10,
    "start_time": "2023-09-21T11:53:06.456Z"
   },
   {
    "duration": 7,
    "start_time": "2023-09-21T11:53:06.570Z"
   },
   {
    "duration": 1108,
    "start_time": "2023-09-21T11:54:24.266Z"
   },
   {
    "duration": 29,
    "start_time": "2023-09-21T11:54:25.376Z"
   },
   {
    "duration": 12,
    "start_time": "2023-09-21T11:54:25.407Z"
   },
   {
    "duration": 32,
    "start_time": "2023-09-21T11:54:25.420Z"
   },
   {
    "duration": 88,
    "start_time": "2023-09-21T11:54:25.454Z"
   },
   {
    "duration": 19,
    "start_time": "2023-09-21T11:54:25.543Z"
   },
   {
    "duration": 25,
    "start_time": "2023-09-21T11:54:25.565Z"
   },
   {
    "duration": 24,
    "start_time": "2023-09-21T11:54:25.592Z"
   },
   {
    "duration": 39,
    "start_time": "2023-09-21T11:54:25.617Z"
   },
   {
    "duration": 33,
    "start_time": "2023-09-21T11:54:25.658Z"
   },
   {
    "duration": 38,
    "start_time": "2023-09-21T11:54:25.693Z"
   },
   {
    "duration": 5,
    "start_time": "2023-09-21T11:54:25.733Z"
   },
   {
    "duration": 14,
    "start_time": "2023-09-21T11:54:25.740Z"
   },
   {
    "duration": 12,
    "start_time": "2023-09-21T11:54:25.757Z"
   },
   {
    "duration": 11,
    "start_time": "2023-09-21T11:54:25.770Z"
   },
   {
    "duration": 21,
    "start_time": "2023-09-21T11:54:25.783Z"
   },
   {
    "duration": 30,
    "start_time": "2023-09-21T11:54:25.805Z"
   },
   {
    "duration": 50,
    "start_time": "2023-09-21T11:54:25.836Z"
   },
   {
    "duration": 21,
    "start_time": "2023-09-21T11:54:25.887Z"
   },
   {
    "duration": 36,
    "start_time": "2023-09-21T11:54:25.911Z"
   },
   {
    "duration": 41,
    "start_time": "2023-09-21T11:54:25.949Z"
   },
   {
    "duration": 71,
    "start_time": "2023-09-21T11:54:25.992Z"
   },
   {
    "duration": 21,
    "start_time": "2023-09-21T11:54:26.065Z"
   },
   {
    "duration": 214,
    "start_time": "2023-09-21T11:54:26.088Z"
   },
   {
    "duration": 5,
    "start_time": "2023-09-21T11:54:26.304Z"
   },
   {
    "duration": 22,
    "start_time": "2023-09-21T11:54:26.311Z"
   },
   {
    "duration": 146,
    "start_time": "2023-09-21T11:54:26.334Z"
   },
   {
    "duration": 123,
    "start_time": "2023-09-21T11:54:26.482Z"
   },
   {
    "duration": 5,
    "start_time": "2023-09-21T11:54:26.607Z"
   },
   {
    "duration": 191,
    "start_time": "2023-09-21T11:54:26.613Z"
   },
   {
    "duration": 6,
    "start_time": "2023-09-21T11:54:26.805Z"
   },
   {
    "duration": 217,
    "start_time": "2023-09-21T11:54:26.813Z"
   },
   {
    "duration": 22,
    "start_time": "2023-09-21T11:54:27.032Z"
   },
   {
    "duration": 192,
    "start_time": "2023-09-21T11:54:27.055Z"
   },
   {
    "duration": 25,
    "start_time": "2023-09-21T11:54:27.249Z"
   },
   {
    "duration": 38,
    "start_time": "2023-09-21T11:54:27.275Z"
   },
   {
    "duration": 45,
    "start_time": "2023-09-21T11:54:27.314Z"
   },
   {
    "duration": 53,
    "start_time": "2023-09-21T11:54:27.360Z"
   },
   {
    "duration": 138,
    "start_time": "2023-09-21T11:54:27.415Z"
   },
   {
    "duration": 11,
    "start_time": "2023-09-21T11:54:27.554Z"
   },
   {
    "duration": 33,
    "start_time": "2023-09-21T11:54:27.570Z"
   },
   {
    "duration": 28,
    "start_time": "2023-09-21T11:54:27.604Z"
   },
   {
    "duration": 212,
    "start_time": "2023-09-21T11:54:27.634Z"
   },
   {
    "duration": 315,
    "start_time": "2023-09-21T11:54:27.848Z"
   },
   {
    "duration": 369,
    "start_time": "2023-09-21T11:54:28.165Z"
   },
   {
    "duration": 203,
    "start_time": "2023-09-21T11:54:28.537Z"
   },
   {
    "duration": 179,
    "start_time": "2023-09-21T11:54:28.741Z"
   },
   {
    "duration": 314,
    "start_time": "2023-09-21T11:54:28.921Z"
   },
   {
    "duration": 47,
    "start_time": "2023-09-21T11:54:29.237Z"
   },
   {
    "duration": 15,
    "start_time": "2023-09-21T11:54:29.286Z"
   },
   {
    "duration": 20,
    "start_time": "2023-09-21T11:54:29.303Z"
   },
   {
    "duration": 27,
    "start_time": "2023-09-21T11:54:29.324Z"
   },
   {
    "duration": 36,
    "start_time": "2023-09-21T11:54:29.352Z"
   },
   {
    "duration": 36,
    "start_time": "2023-09-21T11:54:29.389Z"
   },
   {
    "duration": 13,
    "start_time": "2023-09-21T11:54:29.427Z"
   },
   {
    "duration": 38,
    "start_time": "2023-09-21T11:54:29.441Z"
   },
   {
    "duration": 28,
    "start_time": "2023-09-21T11:54:29.480Z"
   },
   {
    "duration": 23,
    "start_time": "2023-09-21T11:54:29.510Z"
   },
   {
    "duration": 49,
    "start_time": "2023-09-21T11:54:29.534Z"
   },
   {
    "duration": 4,
    "start_time": "2023-09-21T11:54:29.585Z"
   },
   {
    "duration": 290,
    "start_time": "2023-09-21T11:54:29.591Z"
   },
   {
    "duration": 3,
    "start_time": "2023-09-21T11:54:29.883Z"
   },
   {
    "duration": 23,
    "start_time": "2023-09-21T11:54:29.888Z"
   },
   {
    "duration": 561,
    "start_time": "2023-09-21T11:54:29.913Z"
   },
   {
    "duration": 82,
    "start_time": "2023-09-21T11:54:30.476Z"
   },
   {
    "duration": 16,
    "start_time": "2023-09-21T11:54:30.560Z"
   },
   {
    "duration": 89,
    "start_time": "2023-09-21T11:54:30.578Z"
   },
   {
    "duration": 33,
    "start_time": "2023-09-21T11:54:30.669Z"
   },
   {
    "duration": 121,
    "start_time": "2023-09-21T11:54:30.703Z"
   },
   {
    "duration": 105,
    "start_time": "2023-09-21T11:54:30.825Z"
   },
   {
    "duration": 52,
    "start_time": "2023-09-21T11:54:30.932Z"
   },
   {
    "duration": 70,
    "start_time": "2023-09-21T11:54:30.986Z"
   },
   {
    "duration": 27,
    "start_time": "2023-09-21T11:54:31.064Z"
   },
   {
    "duration": 72,
    "start_time": "2023-09-21T11:54:31.093Z"
   },
   {
    "duration": 54,
    "start_time": "2023-09-21T11:54:31.167Z"
   },
   {
    "duration": 355,
    "start_time": "2023-09-21T11:54:31.223Z"
   },
   {
    "duration": 9,
    "start_time": "2023-09-21T11:54:31.580Z"
   },
   {
    "duration": 265,
    "start_time": "2023-09-21T11:54:31.591Z"
   },
   {
    "duration": 9,
    "start_time": "2023-09-21T11:54:31.859Z"
   },
   {
    "duration": 35,
    "start_time": "2023-09-21T11:54:31.869Z"
   },
   {
    "duration": 1546,
    "start_time": "2023-09-21T13:13:27.124Z"
   },
   {
    "duration": 92,
    "start_time": "2023-09-21T13:13:28.673Z"
   },
   {
    "duration": 16,
    "start_time": "2023-09-21T13:13:28.767Z"
   },
   {
    "duration": 18,
    "start_time": "2023-09-21T13:13:28.786Z"
   },
   {
    "duration": 182,
    "start_time": "2023-09-21T13:13:28.807Z"
   },
   {
    "duration": 13,
    "start_time": "2023-09-21T13:13:28.994Z"
   },
   {
    "duration": 22,
    "start_time": "2023-09-21T13:13:29.010Z"
   },
   {
    "duration": 76,
    "start_time": "2023-09-21T13:13:29.035Z"
   },
   {
    "duration": 11,
    "start_time": "2023-09-21T13:13:29.114Z"
   },
   {
    "duration": 33,
    "start_time": "2023-09-21T13:13:29.129Z"
   },
   {
    "duration": 17,
    "start_time": "2023-09-21T13:13:29.163Z"
   },
   {
    "duration": 6,
    "start_time": "2023-09-21T13:13:29.182Z"
   },
   {
    "duration": 17,
    "start_time": "2023-09-21T13:13:29.190Z"
   },
   {
    "duration": 7,
    "start_time": "2023-09-21T13:13:29.209Z"
   },
   {
    "duration": 39,
    "start_time": "2023-09-21T13:13:29.218Z"
   },
   {
    "duration": 7,
    "start_time": "2023-09-21T13:13:29.259Z"
   },
   {
    "duration": 19,
    "start_time": "2023-09-21T13:13:29.268Z"
   },
   {
    "duration": 17,
    "start_time": "2023-09-21T13:13:29.289Z"
   },
   {
    "duration": 14,
    "start_time": "2023-09-21T13:13:29.308Z"
   },
   {
    "duration": 33,
    "start_time": "2023-09-21T13:13:29.324Z"
   },
   {
    "duration": 9,
    "start_time": "2023-09-21T13:13:29.360Z"
   },
   {
    "duration": 11,
    "start_time": "2023-09-21T13:13:29.371Z"
   },
   {
    "duration": 12,
    "start_time": "2023-09-21T13:13:29.384Z"
   },
   {
    "duration": 221,
    "start_time": "2023-09-21T13:13:29.398Z"
   },
   {
    "duration": 8,
    "start_time": "2023-09-21T13:13:29.621Z"
   },
   {
    "duration": 27,
    "start_time": "2023-09-21T13:13:29.631Z"
   },
   {
    "duration": 156,
    "start_time": "2023-09-21T13:13:29.661Z"
   },
   {
    "duration": 159,
    "start_time": "2023-09-21T13:13:29.822Z"
   },
   {
    "duration": 6,
    "start_time": "2023-09-21T13:13:29.983Z"
   },
   {
    "duration": 219,
    "start_time": "2023-09-21T13:13:29.990Z"
   },
   {
    "duration": 6,
    "start_time": "2023-09-21T13:13:30.211Z"
   },
   {
    "duration": 281,
    "start_time": "2023-09-21T13:13:30.219Z"
   },
   {
    "duration": 14,
    "start_time": "2023-09-21T13:13:30.502Z"
   },
   {
    "duration": 299,
    "start_time": "2023-09-21T13:13:30.518Z"
   },
   {
    "duration": 41,
    "start_time": "2023-09-21T13:13:30.819Z"
   },
   {
    "duration": 64,
    "start_time": "2023-09-21T13:13:30.862Z"
   },
   {
    "duration": 26,
    "start_time": "2023-09-21T13:13:30.928Z"
   },
   {
    "duration": 51,
    "start_time": "2023-09-21T13:13:30.956Z"
   },
   {
    "duration": 72,
    "start_time": "2023-09-21T13:13:31.009Z"
   },
   {
    "duration": 52,
    "start_time": "2023-09-21T13:13:31.083Z"
   },
   {
    "duration": 145,
    "start_time": "2023-09-21T13:13:31.137Z"
   },
   {
    "duration": 303,
    "start_time": "2023-09-21T13:13:31.284Z"
   },
   {
    "duration": 284,
    "start_time": "2023-09-21T13:13:31.589Z"
   },
   {
    "duration": 348,
    "start_time": "2023-09-21T13:13:31.875Z"
   },
   {
    "duration": 434,
    "start_time": "2023-09-21T13:13:32.225Z"
   },
   {
    "duration": 217,
    "start_time": "2023-09-21T13:13:32.661Z"
   },
   {
    "duration": 209,
    "start_time": "2023-09-21T13:13:32.880Z"
   },
   {
    "duration": 319,
    "start_time": "2023-09-21T13:13:33.090Z"
   },
   {
    "duration": 61,
    "start_time": "2023-09-21T13:13:33.411Z"
   },
   {
    "duration": 20,
    "start_time": "2023-09-21T13:13:33.474Z"
   },
   {
    "duration": 18,
    "start_time": "2023-09-21T13:13:33.496Z"
   },
   {
    "duration": 58,
    "start_time": "2023-09-21T13:13:33.516Z"
   },
   {
    "duration": 36,
    "start_time": "2023-09-21T13:13:33.577Z"
   },
   {
    "duration": 68,
    "start_time": "2023-09-21T13:13:33.615Z"
   },
   {
    "duration": 17,
    "start_time": "2023-09-21T13:13:33.685Z"
   },
   {
    "duration": 67,
    "start_time": "2023-09-21T13:13:33.704Z"
   },
   {
    "duration": 17,
    "start_time": "2023-09-21T13:13:33.773Z"
   },
   {
    "duration": 19,
    "start_time": "2023-09-21T13:13:33.792Z"
   },
   {
    "duration": 50,
    "start_time": "2023-09-21T13:13:33.813Z"
   },
   {
    "duration": 6,
    "start_time": "2023-09-21T13:13:33.865Z"
   },
   {
    "duration": 338,
    "start_time": "2023-09-21T13:13:33.873Z"
   },
   {
    "duration": 4,
    "start_time": "2023-09-21T13:13:34.213Z"
   },
   {
    "duration": 9,
    "start_time": "2023-09-21T13:13:34.219Z"
   },
   {
    "duration": 422,
    "start_time": "2023-09-21T13:13:34.229Z"
   },
   {
    "duration": 20,
    "start_time": "2023-09-21T13:13:34.653Z"
   },
   {
    "duration": 31,
    "start_time": "2023-09-21T13:13:34.674Z"
   },
   {
    "duration": 64,
    "start_time": "2023-09-21T13:13:34.706Z"
   },
   {
    "duration": 24,
    "start_time": "2023-09-21T13:13:34.771Z"
   },
   {
    "duration": 25,
    "start_time": "2023-09-21T13:13:34.797Z"
   },
   {
    "duration": 23,
    "start_time": "2023-09-21T13:13:34.856Z"
   },
   {
    "duration": 10,
    "start_time": "2023-09-21T13:13:34.881Z"
   },
   {
    "duration": 46,
    "start_time": "2023-09-21T13:13:34.893Z"
   },
   {
    "duration": 14,
    "start_time": "2023-09-21T13:13:34.958Z"
   },
   {
    "duration": 20,
    "start_time": "2023-09-21T13:13:34.974Z"
   },
   {
    "duration": 16,
    "start_time": "2023-09-21T13:13:34.996Z"
   },
   {
    "duration": 367,
    "start_time": "2023-09-21T13:13:35.013Z"
   },
   {
    "duration": 12,
    "start_time": "2023-09-21T13:13:35.382Z"
   },
   {
    "duration": 268,
    "start_time": "2023-09-21T13:13:35.395Z"
   },
   {
    "duration": 2,
    "start_time": "2023-09-21T13:13:35.665Z"
   },
   {
    "duration": 34,
    "start_time": "2023-09-21T13:13:35.669Z"
   },
   {
    "duration": 1034,
    "start_time": "2023-09-21T14:30:27.855Z"
   },
   {
    "duration": 29,
    "start_time": "2023-09-21T14:30:28.891Z"
   },
   {
    "duration": 16,
    "start_time": "2023-09-21T14:30:28.922Z"
   },
   {
    "duration": 24,
    "start_time": "2023-09-21T14:30:28.940Z"
   },
   {
    "duration": 44,
    "start_time": "2023-09-21T14:30:28.967Z"
   },
   {
    "duration": 16,
    "start_time": "2023-09-21T14:30:29.012Z"
   },
   {
    "duration": 46,
    "start_time": "2023-09-21T14:30:29.030Z"
   },
   {
    "duration": 53,
    "start_time": "2023-09-21T14:30:29.078Z"
   },
   {
    "duration": 20,
    "start_time": "2023-09-21T14:30:29.133Z"
   },
   {
    "duration": 39,
    "start_time": "2023-09-21T14:30:29.155Z"
   },
   {
    "duration": 41,
    "start_time": "2023-09-21T14:30:29.196Z"
   },
   {
    "duration": 18,
    "start_time": "2023-09-21T14:30:29.239Z"
   },
   {
    "duration": 20,
    "start_time": "2023-09-21T14:30:29.258Z"
   },
   {
    "duration": 6,
    "start_time": "2023-09-21T14:30:29.280Z"
   },
   {
    "duration": 17,
    "start_time": "2023-09-21T14:30:29.288Z"
   },
   {
    "duration": 14,
    "start_time": "2023-09-21T14:30:29.306Z"
   },
   {
    "duration": 10,
    "start_time": "2023-09-21T14:30:29.321Z"
   },
   {
    "duration": 6,
    "start_time": "2023-09-21T14:30:29.332Z"
   },
   {
    "duration": 18,
    "start_time": "2023-09-21T14:30:29.339Z"
   },
   {
    "duration": 20,
    "start_time": "2023-09-21T14:30:29.359Z"
   },
   {
    "duration": 9,
    "start_time": "2023-09-21T14:30:29.381Z"
   },
   {
    "duration": 5,
    "start_time": "2023-09-21T14:30:29.392Z"
   },
   {
    "duration": 6,
    "start_time": "2023-09-21T14:30:29.398Z"
   },
   {
    "duration": 160,
    "start_time": "2023-09-21T14:30:29.405Z"
   },
   {
    "duration": 6,
    "start_time": "2023-09-21T14:30:29.566Z"
   },
   {
    "duration": 25,
    "start_time": "2023-09-21T14:30:29.573Z"
   },
   {
    "duration": 129,
    "start_time": "2023-09-21T14:30:29.600Z"
   },
   {
    "duration": 123,
    "start_time": "2023-09-21T14:30:29.731Z"
   },
   {
    "duration": 5,
    "start_time": "2023-09-21T14:30:29.855Z"
   },
   {
    "duration": 169,
    "start_time": "2023-09-21T14:30:29.861Z"
   },
   {
    "duration": 5,
    "start_time": "2023-09-21T14:30:30.032Z"
   },
   {
    "duration": 221,
    "start_time": "2023-09-21T14:30:30.038Z"
   },
   {
    "duration": 9,
    "start_time": "2023-09-21T14:30:30.261Z"
   },
   {
    "duration": 194,
    "start_time": "2023-09-21T14:30:30.272Z"
   },
   {
    "duration": 18,
    "start_time": "2023-09-21T14:30:30.468Z"
   },
   {
    "duration": 31,
    "start_time": "2023-09-21T14:30:30.487Z"
   },
   {
    "duration": 25,
    "start_time": "2023-09-21T14:30:30.519Z"
   },
   {
    "duration": 39,
    "start_time": "2023-09-21T14:30:30.546Z"
   },
   {
    "duration": 67,
    "start_time": "2023-09-21T14:30:30.587Z"
   },
   {
    "duration": 46,
    "start_time": "2023-09-21T14:30:30.656Z"
   },
   {
    "duration": 69,
    "start_time": "2023-09-21T14:30:30.706Z"
   },
   {
    "duration": 86,
    "start_time": "2023-09-21T14:30:30.776Z"
   },
   {
    "duration": 268,
    "start_time": "2023-09-21T14:30:30.863Z"
   },
   {
    "duration": 302,
    "start_time": "2023-09-21T14:30:31.132Z"
   },
   {
    "duration": 348,
    "start_time": "2023-09-21T14:30:31.436Z"
   },
   {
    "duration": 179,
    "start_time": "2023-09-21T14:30:31.785Z"
   },
   {
    "duration": 166,
    "start_time": "2023-09-21T14:30:31.965Z"
   },
   {
    "duration": 291,
    "start_time": "2023-09-21T14:30:32.132Z"
   },
   {
    "duration": 45,
    "start_time": "2023-09-21T14:30:32.424Z"
   },
   {
    "duration": 15,
    "start_time": "2023-09-21T14:30:32.471Z"
   },
   {
    "duration": 28,
    "start_time": "2023-09-21T14:30:32.487Z"
   },
   {
    "duration": 27,
    "start_time": "2023-09-21T14:30:32.517Z"
   },
   {
    "duration": 26,
    "start_time": "2023-09-21T14:30:32.545Z"
   },
   {
    "duration": 33,
    "start_time": "2023-09-21T14:30:32.573Z"
   },
   {
    "duration": 12,
    "start_time": "2023-09-21T14:30:32.607Z"
   },
   {
    "duration": 30,
    "start_time": "2023-09-21T14:30:32.620Z"
   },
   {
    "duration": 12,
    "start_time": "2023-09-21T14:30:32.651Z"
   },
   {
    "duration": 17,
    "start_time": "2023-09-21T14:30:32.664Z"
   },
   {
    "duration": 34,
    "start_time": "2023-09-21T14:30:32.682Z"
   },
   {
    "duration": 3,
    "start_time": "2023-09-21T14:30:32.718Z"
   },
   {
    "duration": 274,
    "start_time": "2023-09-21T14:30:32.723Z"
   },
   {
    "duration": 3,
    "start_time": "2023-09-21T14:30:32.999Z"
   },
   {
    "duration": 34,
    "start_time": "2023-09-21T14:30:33.004Z"
   },
   {
    "duration": 322,
    "start_time": "2023-09-21T14:30:33.040Z"
   },
   {
    "duration": 16,
    "start_time": "2023-09-21T14:30:33.364Z"
   },
   {
    "duration": 39,
    "start_time": "2023-09-21T14:30:33.381Z"
   },
   {
    "duration": 47,
    "start_time": "2023-09-21T14:30:33.422Z"
   },
   {
    "duration": 19,
    "start_time": "2023-09-21T14:30:33.471Z"
   },
   {
    "duration": 65,
    "start_time": "2023-09-21T14:30:33.491Z"
   },
   {
    "duration": 19,
    "start_time": "2023-09-21T14:30:33.558Z"
   },
   {
    "duration": 17,
    "start_time": "2023-09-21T14:30:33.578Z"
   },
   {
    "duration": 48,
    "start_time": "2023-09-21T14:30:33.597Z"
   },
   {
    "duration": 12,
    "start_time": "2023-09-21T14:30:33.647Z"
   },
   {
    "duration": 38,
    "start_time": "2023-09-21T14:30:33.660Z"
   },
   {
    "duration": 21,
    "start_time": "2023-09-21T14:30:33.700Z"
   },
   {
    "duration": 345,
    "start_time": "2023-09-21T14:30:33.722Z"
   },
   {
    "duration": 12,
    "start_time": "2023-09-21T14:30:34.069Z"
   },
   {
    "duration": 481,
    "start_time": "2023-09-21T14:30:34.083Z"
   },
   {
    "duration": 2,
    "start_time": "2023-09-21T14:30:34.565Z"
   },
   {
    "duration": 83,
    "start_time": "2023-09-21T14:30:34.568Z"
   }
  ],
  "kernelspec": {
   "display_name": "Python 3 (ipykernel)",
   "language": "python",
   "name": "python3"
  },
  "language_info": {
   "codemirror_mode": {
    "name": "ipython",
    "version": 3
   },
   "file_extension": ".py",
   "mimetype": "text/x-python",
   "name": "python",
   "nbconvert_exporter": "python",
   "pygments_lexer": "ipython3",
   "version": "3.11.3"
  },
  "toc": {
   "base_numbering": 1,
   "nav_menu": {},
   "number_sections": true,
   "sideBar": true,
   "skip_h1_title": true,
   "title_cell": "Table of Contents",
   "title_sidebar": "Contents",
   "toc_cell": false,
   "toc_position": {
    "height": "calc(100% - 180px)",
    "left": "10px",
    "top": "150px",
    "width": "374.391px"
   },
   "toc_section_display": true,
   "toc_window_display": false
  }
 },
 "nbformat": 4,
 "nbformat_minor": 5
}
