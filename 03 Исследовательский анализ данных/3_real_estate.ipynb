{
 "cells": [
  {
   "cell_type": "markdown",
   "metadata": {},
   "source": [
    "# Исследование объявлений о продаже квартир"
   ]
  },
  {
   "cell_type": "markdown",
   "metadata": {},
   "source": [
    "В данном исслдовании изучалась база данных Яндекс.Недвижимости по городу и окрестностям Санкт-Петербурга. В процессе работы были поставлены следующие задачи:\n",
    "- изучить предоставленную базу данных\n",
    "- исследовать различные распределения группирований квартир (например по площади квартиры или по цене)\n",
    "- оценить продолжительность продажи квартир\n",
    "- зависимость цены от различных факторов (площадь квартиры, этаж, дата размещения)\n",
    "- найти самые дорогие города по стоимости квадрата жилья\n",
    "- оценить зависимость стоимости квартиры от расстояния от центра Санкт-Петербурга (для городов в Петербурге)"
   ]
  },
  {
   "cell_type": "markdown",
   "metadata": {},
   "source": [
    "### Откройте файл с данными и изучите общую информацию. "
   ]
  },
  {
   "cell_type": "code",
   "execution_count": 1,
   "metadata": {},
   "outputs": [],
   "source": [
    "import pandas as pd\n",
    "import numpy as np\n",
    "import matplotlib.pyplot as plt"
   ]
  },
  {
   "cell_type": "code",
   "execution_count": 2,
   "metadata": {},
   "outputs": [
    {
     "data": {
      "text/html": [
       "<div>\n",
       "<style scoped>\n",
       "    .dataframe tbody tr th:only-of-type {\n",
       "        vertical-align: middle;\n",
       "    }\n",
       "\n",
       "    .dataframe tbody tr th {\n",
       "        vertical-align: top;\n",
       "    }\n",
       "\n",
       "    .dataframe thead th {\n",
       "        text-align: right;\n",
       "    }\n",
       "</style>\n",
       "<table border=\"1\" class=\"dataframe\">\n",
       "  <thead>\n",
       "    <tr style=\"text-align: right;\">\n",
       "      <th></th>\n",
       "      <th>total_images</th>\n",
       "      <th>last_price</th>\n",
       "      <th>total_area</th>\n",
       "      <th>first_day_exposition</th>\n",
       "      <th>rooms</th>\n",
       "      <th>ceiling_height</th>\n",
       "      <th>floors_total</th>\n",
       "      <th>living_area</th>\n",
       "      <th>floor</th>\n",
       "      <th>is_apartment</th>\n",
       "      <th>...</th>\n",
       "      <th>kitchen_area</th>\n",
       "      <th>balcony</th>\n",
       "      <th>locality_name</th>\n",
       "      <th>airports_nearest</th>\n",
       "      <th>cityCenters_nearest</th>\n",
       "      <th>parks_around3000</th>\n",
       "      <th>parks_nearest</th>\n",
       "      <th>ponds_around3000</th>\n",
       "      <th>ponds_nearest</th>\n",
       "      <th>days_exposition</th>\n",
       "    </tr>\n",
       "  </thead>\n",
       "  <tbody>\n",
       "    <tr>\n",
       "      <th>0</th>\n",
       "      <td>20</td>\n",
       "      <td>13000000.0</td>\n",
       "      <td>108.00</td>\n",
       "      <td>2019-03-07T00:00:00</td>\n",
       "      <td>3</td>\n",
       "      <td>2.70</td>\n",
       "      <td>16.0</td>\n",
       "      <td>51.00</td>\n",
       "      <td>8</td>\n",
       "      <td>NaN</td>\n",
       "      <td>...</td>\n",
       "      <td>25.00</td>\n",
       "      <td>NaN</td>\n",
       "      <td>Санкт-Петербург</td>\n",
       "      <td>18863.0</td>\n",
       "      <td>16028.0</td>\n",
       "      <td>1.0</td>\n",
       "      <td>482.0</td>\n",
       "      <td>2.0</td>\n",
       "      <td>755.0</td>\n",
       "      <td>NaN</td>\n",
       "    </tr>\n",
       "    <tr>\n",
       "      <th>1</th>\n",
       "      <td>7</td>\n",
       "      <td>3350000.0</td>\n",
       "      <td>40.40</td>\n",
       "      <td>2018-12-04T00:00:00</td>\n",
       "      <td>1</td>\n",
       "      <td>NaN</td>\n",
       "      <td>11.0</td>\n",
       "      <td>18.60</td>\n",
       "      <td>1</td>\n",
       "      <td>NaN</td>\n",
       "      <td>...</td>\n",
       "      <td>11.00</td>\n",
       "      <td>2.0</td>\n",
       "      <td>посёлок Шушары</td>\n",
       "      <td>12817.0</td>\n",
       "      <td>18603.0</td>\n",
       "      <td>0.0</td>\n",
       "      <td>NaN</td>\n",
       "      <td>0.0</td>\n",
       "      <td>NaN</td>\n",
       "      <td>81.0</td>\n",
       "    </tr>\n",
       "    <tr>\n",
       "      <th>2</th>\n",
       "      <td>10</td>\n",
       "      <td>5196000.0</td>\n",
       "      <td>56.00</td>\n",
       "      <td>2015-08-20T00:00:00</td>\n",
       "      <td>2</td>\n",
       "      <td>NaN</td>\n",
       "      <td>5.0</td>\n",
       "      <td>34.30</td>\n",
       "      <td>4</td>\n",
       "      <td>NaN</td>\n",
       "      <td>...</td>\n",
       "      <td>8.30</td>\n",
       "      <td>0.0</td>\n",
       "      <td>Санкт-Петербург</td>\n",
       "      <td>21741.0</td>\n",
       "      <td>13933.0</td>\n",
       "      <td>1.0</td>\n",
       "      <td>90.0</td>\n",
       "      <td>2.0</td>\n",
       "      <td>574.0</td>\n",
       "      <td>558.0</td>\n",
       "    </tr>\n",
       "    <tr>\n",
       "      <th>3</th>\n",
       "      <td>0</td>\n",
       "      <td>64900000.0</td>\n",
       "      <td>159.00</td>\n",
       "      <td>2015-07-24T00:00:00</td>\n",
       "      <td>3</td>\n",
       "      <td>NaN</td>\n",
       "      <td>14.0</td>\n",
       "      <td>NaN</td>\n",
       "      <td>9</td>\n",
       "      <td>NaN</td>\n",
       "      <td>...</td>\n",
       "      <td>NaN</td>\n",
       "      <td>0.0</td>\n",
       "      <td>Санкт-Петербург</td>\n",
       "      <td>28098.0</td>\n",
       "      <td>6800.0</td>\n",
       "      <td>2.0</td>\n",
       "      <td>84.0</td>\n",
       "      <td>3.0</td>\n",
       "      <td>234.0</td>\n",
       "      <td>424.0</td>\n",
       "    </tr>\n",
       "    <tr>\n",
       "      <th>4</th>\n",
       "      <td>2</td>\n",
       "      <td>10000000.0</td>\n",
       "      <td>100.00</td>\n",
       "      <td>2018-06-19T00:00:00</td>\n",
       "      <td>2</td>\n",
       "      <td>3.03</td>\n",
       "      <td>14.0</td>\n",
       "      <td>32.00</td>\n",
       "      <td>13</td>\n",
       "      <td>NaN</td>\n",
       "      <td>...</td>\n",
       "      <td>41.00</td>\n",
       "      <td>NaN</td>\n",
       "      <td>Санкт-Петербург</td>\n",
       "      <td>31856.0</td>\n",
       "      <td>8098.0</td>\n",
       "      <td>2.0</td>\n",
       "      <td>112.0</td>\n",
       "      <td>1.0</td>\n",
       "      <td>48.0</td>\n",
       "      <td>121.0</td>\n",
       "    </tr>\n",
       "    <tr>\n",
       "      <th>5</th>\n",
       "      <td>10</td>\n",
       "      <td>2890000.0</td>\n",
       "      <td>30.40</td>\n",
       "      <td>2018-09-10T00:00:00</td>\n",
       "      <td>1</td>\n",
       "      <td>NaN</td>\n",
       "      <td>12.0</td>\n",
       "      <td>14.40</td>\n",
       "      <td>5</td>\n",
       "      <td>NaN</td>\n",
       "      <td>...</td>\n",
       "      <td>9.10</td>\n",
       "      <td>NaN</td>\n",
       "      <td>городской посёлок Янино-1</td>\n",
       "      <td>NaN</td>\n",
       "      <td>NaN</td>\n",
       "      <td>NaN</td>\n",
       "      <td>NaN</td>\n",
       "      <td>NaN</td>\n",
       "      <td>NaN</td>\n",
       "      <td>55.0</td>\n",
       "    </tr>\n",
       "    <tr>\n",
       "      <th>6</th>\n",
       "      <td>6</td>\n",
       "      <td>3700000.0</td>\n",
       "      <td>37.30</td>\n",
       "      <td>2017-11-02T00:00:00</td>\n",
       "      <td>1</td>\n",
       "      <td>NaN</td>\n",
       "      <td>26.0</td>\n",
       "      <td>10.60</td>\n",
       "      <td>6</td>\n",
       "      <td>NaN</td>\n",
       "      <td>...</td>\n",
       "      <td>14.40</td>\n",
       "      <td>1.0</td>\n",
       "      <td>посёлок Парголово</td>\n",
       "      <td>52996.0</td>\n",
       "      <td>19143.0</td>\n",
       "      <td>0.0</td>\n",
       "      <td>NaN</td>\n",
       "      <td>0.0</td>\n",
       "      <td>NaN</td>\n",
       "      <td>155.0</td>\n",
       "    </tr>\n",
       "    <tr>\n",
       "      <th>7</th>\n",
       "      <td>5</td>\n",
       "      <td>7915000.0</td>\n",
       "      <td>71.60</td>\n",
       "      <td>2019-04-18T00:00:00</td>\n",
       "      <td>2</td>\n",
       "      <td>NaN</td>\n",
       "      <td>24.0</td>\n",
       "      <td>NaN</td>\n",
       "      <td>22</td>\n",
       "      <td>NaN</td>\n",
       "      <td>...</td>\n",
       "      <td>18.90</td>\n",
       "      <td>2.0</td>\n",
       "      <td>Санкт-Петербург</td>\n",
       "      <td>23982.0</td>\n",
       "      <td>11634.0</td>\n",
       "      <td>0.0</td>\n",
       "      <td>NaN</td>\n",
       "      <td>0.0</td>\n",
       "      <td>NaN</td>\n",
       "      <td>NaN</td>\n",
       "    </tr>\n",
       "    <tr>\n",
       "      <th>8</th>\n",
       "      <td>20</td>\n",
       "      <td>2900000.0</td>\n",
       "      <td>33.16</td>\n",
       "      <td>2018-05-23T00:00:00</td>\n",
       "      <td>1</td>\n",
       "      <td>NaN</td>\n",
       "      <td>27.0</td>\n",
       "      <td>15.43</td>\n",
       "      <td>26</td>\n",
       "      <td>NaN</td>\n",
       "      <td>...</td>\n",
       "      <td>8.81</td>\n",
       "      <td>NaN</td>\n",
       "      <td>посёлок Мурино</td>\n",
       "      <td>NaN</td>\n",
       "      <td>NaN</td>\n",
       "      <td>NaN</td>\n",
       "      <td>NaN</td>\n",
       "      <td>NaN</td>\n",
       "      <td>NaN</td>\n",
       "      <td>189.0</td>\n",
       "    </tr>\n",
       "    <tr>\n",
       "      <th>9</th>\n",
       "      <td>18</td>\n",
       "      <td>5400000.0</td>\n",
       "      <td>61.00</td>\n",
       "      <td>2017-02-26T00:00:00</td>\n",
       "      <td>3</td>\n",
       "      <td>2.50</td>\n",
       "      <td>9.0</td>\n",
       "      <td>43.60</td>\n",
       "      <td>7</td>\n",
       "      <td>NaN</td>\n",
       "      <td>...</td>\n",
       "      <td>6.50</td>\n",
       "      <td>2.0</td>\n",
       "      <td>Санкт-Петербург</td>\n",
       "      <td>50898.0</td>\n",
       "      <td>15008.0</td>\n",
       "      <td>0.0</td>\n",
       "      <td>NaN</td>\n",
       "      <td>0.0</td>\n",
       "      <td>NaN</td>\n",
       "      <td>289.0</td>\n",
       "    </tr>\n",
       "  </tbody>\n",
       "</table>\n",
       "<p>10 rows × 22 columns</p>\n",
       "</div>"
      ],
      "text/plain": [
       "   total_images  last_price  total_area first_day_exposition  rooms  \\\n",
       "0            20  13000000.0      108.00  2019-03-07T00:00:00      3   \n",
       "1             7   3350000.0       40.40  2018-12-04T00:00:00      1   \n",
       "2            10   5196000.0       56.00  2015-08-20T00:00:00      2   \n",
       "3             0  64900000.0      159.00  2015-07-24T00:00:00      3   \n",
       "4             2  10000000.0      100.00  2018-06-19T00:00:00      2   \n",
       "5            10   2890000.0       30.40  2018-09-10T00:00:00      1   \n",
       "6             6   3700000.0       37.30  2017-11-02T00:00:00      1   \n",
       "7             5   7915000.0       71.60  2019-04-18T00:00:00      2   \n",
       "8            20   2900000.0       33.16  2018-05-23T00:00:00      1   \n",
       "9            18   5400000.0       61.00  2017-02-26T00:00:00      3   \n",
       "\n",
       "   ceiling_height  floors_total  living_area  floor is_apartment  ...  \\\n",
       "0            2.70          16.0        51.00      8          NaN  ...   \n",
       "1             NaN          11.0        18.60      1          NaN  ...   \n",
       "2             NaN           5.0        34.30      4          NaN  ...   \n",
       "3             NaN          14.0          NaN      9          NaN  ...   \n",
       "4            3.03          14.0        32.00     13          NaN  ...   \n",
       "5             NaN          12.0        14.40      5          NaN  ...   \n",
       "6             NaN          26.0        10.60      6          NaN  ...   \n",
       "7             NaN          24.0          NaN     22          NaN  ...   \n",
       "8             NaN          27.0        15.43     26          NaN  ...   \n",
       "9            2.50           9.0        43.60      7          NaN  ...   \n",
       "\n",
       "   kitchen_area  balcony              locality_name  airports_nearest  \\\n",
       "0         25.00      NaN            Санкт-Петербург           18863.0   \n",
       "1         11.00      2.0             посёлок Шушары           12817.0   \n",
       "2          8.30      0.0            Санкт-Петербург           21741.0   \n",
       "3           NaN      0.0            Санкт-Петербург           28098.0   \n",
       "4         41.00      NaN            Санкт-Петербург           31856.0   \n",
       "5          9.10      NaN  городской посёлок Янино-1               NaN   \n",
       "6         14.40      1.0          посёлок Парголово           52996.0   \n",
       "7         18.90      2.0            Санкт-Петербург           23982.0   \n",
       "8          8.81      NaN             посёлок Мурино               NaN   \n",
       "9          6.50      2.0            Санкт-Петербург           50898.0   \n",
       "\n",
       "  cityCenters_nearest  parks_around3000  parks_nearest  ponds_around3000  \\\n",
       "0             16028.0               1.0          482.0               2.0   \n",
       "1             18603.0               0.0            NaN               0.0   \n",
       "2             13933.0               1.0           90.0               2.0   \n",
       "3              6800.0               2.0           84.0               3.0   \n",
       "4              8098.0               2.0          112.0               1.0   \n",
       "5                 NaN               NaN            NaN               NaN   \n",
       "6             19143.0               0.0            NaN               0.0   \n",
       "7             11634.0               0.0            NaN               0.0   \n",
       "8                 NaN               NaN            NaN               NaN   \n",
       "9             15008.0               0.0            NaN               0.0   \n",
       "\n",
       "   ponds_nearest  days_exposition  \n",
       "0          755.0              NaN  \n",
       "1            NaN             81.0  \n",
       "2          574.0            558.0  \n",
       "3          234.0            424.0  \n",
       "4           48.0            121.0  \n",
       "5            NaN             55.0  \n",
       "6            NaN            155.0  \n",
       "7            NaN              NaN  \n",
       "8            NaN            189.0  \n",
       "9            NaN            289.0  \n",
       "\n",
       "[10 rows x 22 columns]"
      ]
     },
     "execution_count": 2,
     "metadata": {},
     "output_type": "execute_result"
    }
   ],
   "source": [
    "data = pd.read_csv('/datasets/real_estate_data.csv', sep='\\t')\n",
    "data.head(10) #вывод первых 10 строк датафрейма"
   ]
  },
  {
   "cell_type": "code",
   "execution_count": 3,
   "metadata": {},
   "outputs": [
    {
     "name": "stdout",
     "output_type": "stream",
     "text": [
      "<class 'pandas.core.frame.DataFrame'>\n",
      "RangeIndex: 23699 entries, 0 to 23698\n",
      "Data columns (total 22 columns):\n",
      " #   Column                Non-Null Count  Dtype  \n",
      "---  ------                --------------  -----  \n",
      " 0   total_images          23699 non-null  int64  \n",
      " 1   last_price            23699 non-null  float64\n",
      " 2   total_area            23699 non-null  float64\n",
      " 3   first_day_exposition  23699 non-null  object \n",
      " 4   rooms                 23699 non-null  int64  \n",
      " 5   ceiling_height        14504 non-null  float64\n",
      " 6   floors_total          23613 non-null  float64\n",
      " 7   living_area           21796 non-null  float64\n",
      " 8   floor                 23699 non-null  int64  \n",
      " 9   is_apartment          2775 non-null   object \n",
      " 10  studio                23699 non-null  bool   \n",
      " 11  open_plan             23699 non-null  bool   \n",
      " 12  kitchen_area          21421 non-null  float64\n",
      " 13  balcony               12180 non-null  float64\n",
      " 14  locality_name         23650 non-null  object \n",
      " 15  airports_nearest      18157 non-null  float64\n",
      " 16  cityCenters_nearest   18180 non-null  float64\n",
      " 17  parks_around3000      18181 non-null  float64\n",
      " 18  parks_nearest         8079 non-null   float64\n",
      " 19  ponds_around3000      18181 non-null  float64\n",
      " 20  ponds_nearest         9110 non-null   float64\n",
      " 21  days_exposition       20518 non-null  float64\n",
      "dtypes: bool(2), float64(14), int64(3), object(3)\n",
      "memory usage: 3.7+ MB\n"
     ]
    }
   ],
   "source": [
    "data.info()"
   ]
  },
  {
   "cell_type": "markdown",
   "metadata": {},
   "source": [
    "'first_day_expansion' имеет тип object, в последствии переведем в формат даты"
   ]
  },
  {
   "cell_type": "code",
   "execution_count": 4,
   "metadata": {
    "scrolled": false
   },
   "outputs": [
    {
     "data": {
      "image/png": "[encoded data removed]",
      "text/plain": [
       "<Figure size 288x288 with 1 Axes>"
      ]
     },
     "metadata": {
      "needs_background": "light"
     },
     "output_type": "display_data"
    },
    {
     "data": {
      "image/png": "[encoded data removed]",
      "text/plain": [
       "<Figure size 288x288 with 1 Axes>"
      ]
     },
     "metadata": {
      "needs_background": "light"
     },
     "output_type": "display_data"
    },
    {
     "data": {
      "image/png": "[encoded data removed]",
      "text/plain": [
       "<Figure size 288x288 with 1 Axes>"
      ]
     },
     "metadata": {
      "needs_background": "light"
     },
     "output_type": "display_data"
    },
    {
     "data": {
      "image/png": "[encoded data removed]",
      "text/plain": [
       "<Figure size 288x288 with 1 Axes>"
      ]
     },
     "metadata": {
      "needs_background": "light"
     },
     "output_type": "display_data"
    },
    {
     "data": {
      "image/png": "[encoded data removed]",
      "text/plain": [
       "<Figure size 288x288 with 1 Axes>"
      ]
     },
     "metadata": {
      "needs_background": "light"
     },
     "output_type": "display_data"
    },
    {
     "data": {
      "image/png": "[encoded data removed]",
      "text/plain": [
       "<Figure size 288x288 with 1 Axes>"
      ]
     },
     "metadata": {
      "needs_background": "light"
     },
     "output_type": "display_data"
    },
    {
     "data": {
      "image/png": "[encoded data removed]",
      "text/plain": [
       "<Figure size 288x288 with 1 Axes>"
      ]
     },
     "metadata": {
      "needs_background": "light"
     },
     "output_type": "display_data"
    },
    {
     "data": {
      "image/png": "[encoded data removed]",
      "text/plain": [
       "<Figure size 288x288 with 1 Axes>"
      ]
     },
     "metadata": {
      "needs_background": "light"
     },
     "output_type": "display_data"
    },
    {
     "data": {
      "image/png": "[encoded data removed]",
      "text/plain": [
       "<Figure size 288x288 with 1 Axes>"
      ]
     },
     "metadata": {
      "needs_background": "light"
     },
     "output_type": "display_data"
    },
    {
     "data": {
      "image/png": "[encoded data removed]",
      "text/plain": [
       "<Figure size 288x288 with 1 Axes>"
      ]
     },
     "metadata": {
      "needs_background": "light"
     },
     "output_type": "display_data"
    },
    {
     "data": {
      "image/png": "[encoded data removed]",
      "text/plain": [
       "<Figure size 288x288 with 1 Axes>"
      ]
     },
     "metadata": {
      "needs_background": "light"
     },
     "output_type": "display_data"
    },
    {
     "data": {
      "image/png": "[encoded data removed]",
      "text/plain": [
       "<Figure size 288x288 with 1 Axes>"
      ]
     },
     "metadata": {
      "needs_background": "light"
     },
     "output_type": "display_data"
    },
    {
     "data": {
      "image/png": "[encoded data removed]",
      "text/plain": [
       "<Figure size 288x288 with 1 Axes>"
      ]
     },
     "metadata": {
      "needs_background": "light"
     },
     "output_type": "display_data"
    },
    {
     "data": {
      "image/png": "[encoded data removed]",
      "text/plain": [
       "<Figure size 288x288 with 1 Axes>"
      ]
     },
     "metadata": {
      "needs_background": "light"
     },
     "output_type": "display_data"
    },
    {
     "data": {
      "image/png": "[encoded data removed]",
      "text/plain": [
       "<Figure size 288x288 with 1 Axes>"
      ]
     },
     "metadata": {
      "needs_background": "light"
     },
     "output_type": "display_data"
    },
    {
     "data": {
      "image/png": "[encoded data removed]",
      "text/plain": [
       "<Figure size 288x288 with 1 Axes>"
      ]
     },
     "metadata": {
      "needs_background": "light"
     },
     "output_type": "display_data"
    },
    {
     "data": {
      "image/png": "[encoded data removed]",
      "text/plain": [
       "<Figure size 288x288 with 1 Axes>"
      ]
     },
     "metadata": {
      "needs_background": "light"
     },
     "output_type": "display_data"
    }
   ],
   "source": [
    "#Построим гистограммы для всех числовых столбцов таблицы на одном графике\n",
    "for column in data.columns:\n",
    "    if (data[column].dtype == np.int64 or data[column].dtype == np.float64):\n",
    "        data.plot(y = column, kind='hist', figsize=(4,4))\n",
    "# Сейчас представлены гистограммы для каждого числового столбца"
   ]
  },
  {
   "cell_type": "markdown",
   "metadata": {},
   "source": [
    "По гистограммам видно, что есть аномально большие значения в колонках last_price, total_area, rooms, ceiling_height, living_area, kitchen_area.\n",
    "По info() можно увидеть, что всего 23699 строк, колонки last_price, floors_total, is_apartment, balcony, days_exposition, first_day_exposition имеют неверные типы данных"
   ]
  },
  {
   "cell_type": "markdown",
   "metadata": {},
   "source": [
    "### Предобработка данных"
   ]
  },
  {
   "cell_type": "markdown",
   "metadata": {},
   "source": [
    "#### Найдите и изучите пропущенные значения в столбцах:"
   ]
  },
  {
   "cell_type": "code",
   "execution_count": 5,
   "metadata": {},
   "outputs": [
    {
     "name": "stdout",
     "output_type": "stream",
     "text": [
      "total_images                0\n",
      "last_price                  0\n",
      "total_area                  0\n",
      "first_day_exposition        0\n",
      "rooms                       0\n",
      "ceiling_height           9195\n",
      "floors_total               86\n",
      "living_area              1903\n",
      "floor                       0\n",
      "is_apartment            20924\n",
      "studio                      0\n",
      "open_plan                   0\n",
      "kitchen_area             2278\n",
      "balcony                 11519\n",
      "locality_name              49\n",
      "airports_nearest         5542\n",
      "cityCenters_nearest      5519\n",
      "parks_around3000         5518\n",
      "parks_nearest           15620\n",
      "ponds_around3000         5518\n",
      "ponds_nearest           14589\n",
      "days_exposition          3181\n",
      "dtype: int64\n"
     ]
    },
    {
     "data": {
      "text/html": [
       "<style  type=\"text/css\" >\n",
       "#T_08c87_row0_col0,#T_08c87_row1_col0,#T_08c87_row2_col0,#T_08c87_row3_col0,#T_08c87_row4_col0,#T_08c87_row8_col0,#T_08c87_row10_col0,#T_08c87_row11_col0,#T_08c87_row14_col0{\n",
       "            background-color:  #3b4cc0;\n",
       "            color:  #f1f1f1;\n",
       "        }#T_08c87_row5_col0{\n",
       "            background-color:  #ccd9ed;\n",
       "            color:  #000000;\n",
       "        }#T_08c87_row6_col0{\n",
       "            background-color:  #3c4ec2;\n",
       "            color:  #f1f1f1;\n",
       "        }#T_08c87_row7_col0{\n",
       "            background-color:  #5673e0;\n",
       "            color:  #000000;\n",
       "        }#T_08c87_row9_col0{\n",
       "            background-color:  #b40426;\n",
       "            color:  #f1f1f1;\n",
       "        }#T_08c87_row12_col0{\n",
       "            background-color:  #5b7ae5;\n",
       "            color:  #000000;\n",
       "        }#T_08c87_row13_col0{\n",
       "            background-color:  #e9d5cb;\n",
       "            color:  #000000;\n",
       "        }#T_08c87_row15_col0,#T_08c87_row16_col0,#T_08c87_row17_col0,#T_08c87_row19_col0{\n",
       "            background-color:  #92b4fe;\n",
       "            color:  #000000;\n",
       "        }#T_08c87_row18_col0{\n",
       "            background-color:  #f49a7b;\n",
       "            color:  #000000;\n",
       "        }#T_08c87_row20_col0{\n",
       "            background-color:  #f7ad90;\n",
       "            color:  #000000;\n",
       "        }#T_08c87_row21_col0{\n",
       "            background-color:  #6a8bef;\n",
       "            color:  #000000;\n",
       "        }</style><table id=\"T_08c87_\" ><thead>    <tr>        <th class=\"blank level0\" ></th>        <th class=\"col_heading level0 col0\" >0</th>    </tr></thead><tbody>\n",
       "                <tr>\n",
       "                        <th id=\"T_08c87_level0_row0\" class=\"row_heading level0 row0\" >total_images</th>\n",
       "                        <td id=\"T_08c87_row0_col0\" class=\"data row0 col0\" >0.000000</td>\n",
       "            </tr>\n",
       "            <tr>\n",
       "                        <th id=\"T_08c87_level0_row1\" class=\"row_heading level0 row1\" >last_price</th>\n",
       "                        <td id=\"T_08c87_row1_col0\" class=\"data row1 col0\" >0.000000</td>\n",
       "            </tr>\n",
       "            <tr>\n",
       "                        <th id=\"T_08c87_level0_row2\" class=\"row_heading level0 row2\" >total_area</th>\n",
       "                        <td id=\"T_08c87_row2_col0\" class=\"data row2 col0\" >0.000000</td>\n",
       "            </tr>\n",
       "            <tr>\n",
       "                        <th id=\"T_08c87_level0_row3\" class=\"row_heading level0 row3\" >first_day_exposition</th>\n",
       "                        <td id=\"T_08c87_row3_col0\" class=\"data row3 col0\" >0.000000</td>\n",
       "            </tr>\n",
       "            <tr>\n",
       "                        <th id=\"T_08c87_level0_row4\" class=\"row_heading level0 row4\" >rooms</th>\n",
       "                        <td id=\"T_08c87_row4_col0\" class=\"data row4 col0\" >0.000000</td>\n",
       "            </tr>\n",
       "            <tr>\n",
       "                        <th id=\"T_08c87_level0_row5\" class=\"row_heading level0 row5\" >ceiling_height</th>\n",
       "                        <td id=\"T_08c87_row5_col0\" class=\"data row5 col0\" >38.800000</td>\n",
       "            </tr>\n",
       "            <tr>\n",
       "                        <th id=\"T_08c87_level0_row6\" class=\"row_heading level0 row6\" >floors_total</th>\n",
       "                        <td id=\"T_08c87_row6_col0\" class=\"data row6 col0\" >0.400000</td>\n",
       "            </tr>\n",
       "            <tr>\n",
       "                        <th id=\"T_08c87_level0_row7\" class=\"row_heading level0 row7\" >living_area</th>\n",
       "                        <td id=\"T_08c87_row7_col0\" class=\"data row7 col0\" >8.000000</td>\n",
       "            </tr>\n",
       "            <tr>\n",
       "                        <th id=\"T_08c87_level0_row8\" class=\"row_heading level0 row8\" >floor</th>\n",
       "                        <td id=\"T_08c87_row8_col0\" class=\"data row8 col0\" >0.000000</td>\n",
       "            </tr>\n",
       "            <tr>\n",
       "                        <th id=\"T_08c87_level0_row9\" class=\"row_heading level0 row9\" >is_apartment</th>\n",
       "                        <td id=\"T_08c87_row9_col0\" class=\"data row9 col0\" >88.300000</td>\n",
       "            </tr>\n",
       "            <tr>\n",
       "                        <th id=\"T_08c87_level0_row10\" class=\"row_heading level0 row10\" >studio</th>\n",
       "                        <td id=\"T_08c87_row10_col0\" class=\"data row10 col0\" >0.000000</td>\n",
       "            </tr>\n",
       "            <tr>\n",
       "                        <th id=\"T_08c87_level0_row11\" class=\"row_heading level0 row11\" >open_plan</th>\n",
       "                        <td id=\"T_08c87_row11_col0\" class=\"data row11 col0\" >0.000000</td>\n",
       "            </tr>\n",
       "            <tr>\n",
       "                        <th id=\"T_08c87_level0_row12\" class=\"row_heading level0 row12\" >kitchen_area</th>\n",
       "                        <td id=\"T_08c87_row12_col0\" class=\"data row12 col0\" >9.600000</td>\n",
       "            </tr>\n",
       "            <tr>\n",
       "                        <th id=\"T_08c87_level0_row13\" class=\"row_heading level0 row13\" >balcony</th>\n",
       "                        <td id=\"T_08c87_row13_col0\" class=\"data row13 col0\" >48.600000</td>\n",
       "            </tr>\n",
       "            <tr>\n",
       "                        <th id=\"T_08c87_level0_row14\" class=\"row_heading level0 row14\" >locality_name</th>\n",
       "                        <td id=\"T_08c87_row14_col0\" class=\"data row14 col0\" >0.200000</td>\n",
       "            </tr>\n",
       "            <tr>\n",
       "                        <th id=\"T_08c87_level0_row15\" class=\"row_heading level0 row15\" >airports_nearest</th>\n",
       "                        <td id=\"T_08c87_row15_col0\" class=\"data row15 col0\" >23.400000</td>\n",
       "            </tr>\n",
       "            <tr>\n",
       "                        <th id=\"T_08c87_level0_row16\" class=\"row_heading level0 row16\" >cityCenters_nearest</th>\n",
       "                        <td id=\"T_08c87_row16_col0\" class=\"data row16 col0\" >23.300000</td>\n",
       "            </tr>\n",
       "            <tr>\n",
       "                        <th id=\"T_08c87_level0_row17\" class=\"row_heading level0 row17\" >parks_around3000</th>\n",
       "                        <td id=\"T_08c87_row17_col0\" class=\"data row17 col0\" >23.300000</td>\n",
       "            </tr>\n",
       "            <tr>\n",
       "                        <th id=\"T_08c87_level0_row18\" class=\"row_heading level0 row18\" >parks_nearest</th>\n",
       "                        <td id=\"T_08c87_row18_col0\" class=\"data row18 col0\" >65.900000</td>\n",
       "            </tr>\n",
       "            <tr>\n",
       "                        <th id=\"T_08c87_level0_row19\" class=\"row_heading level0 row19\" >ponds_around3000</th>\n",
       "                        <td id=\"T_08c87_row19_col0\" class=\"data row19 col0\" >23.300000</td>\n",
       "            </tr>\n",
       "            <tr>\n",
       "                        <th id=\"T_08c87_level0_row20\" class=\"row_heading level0 row20\" >ponds_nearest</th>\n",
       "                        <td id=\"T_08c87_row20_col0\" class=\"data row20 col0\" >61.600000</td>\n",
       "            </tr>\n",
       "            <tr>\n",
       "                        <th id=\"T_08c87_level0_row21\" class=\"row_heading level0 row21\" >days_exposition</th>\n",
       "                        <td id=\"T_08c87_row21_col0\" class=\"data row21 col0\" >13.400000</td>\n",
       "            </tr>\n",
       "    </tbody></table>"
      ],
      "text/plain": [
       "<pandas.io.formats.style.Styler at 0x7f37802a9730>"
      ]
     },
     "execution_count": 5,
     "metadata": {},
     "output_type": "execute_result"
    }
   ],
   "source": [
    "# Укажем количество пропусков в каждом столбце\n",
    "print(data.isna().sum())\n",
    "pd.DataFrame(round(data.isna().mean()*100,1)).style.background_gradient('coolwarm')"
   ]
  },
  {
   "cell_type": "markdown",
   "metadata": {},
   "source": [
    "Можно заметить, что огромное число пропусков по техническим причинам, также многие люди пропустили пункты is_apartment, ceiling_height и balcony, все эти пункты можно заполнить"
   ]
  },
  {
   "cell_type": "code",
   "execution_count": 6,
   "metadata": {},
   "outputs": [],
   "source": [
    "# изменим название cityCenters_nearest на city_centers_nearest\n",
    "data = data.rename(columns={'cityCenters_nearest': 'city_centers_nearest'})"
   ]
  },
  {
   "cell_type": "markdown",
   "metadata": {},
   "source": [
    "Всего в датафрейме 22 столбца, 23699 строк. Отсутствуют данные в строках:\n",
    "- ceiling_height (высота потолков, заменить строки сожно <font color = 'green'>медианным значением</font>, <font color = 'blue'>причиной пропуска является неосведомленность продавцов об этом параметре)</font>\n",
    "- floors_total (количество этажей, заполнить пропуски не получится, можно удалить эти значения из-за их малого количества, <font color = 'blue'>причина - продавцы не заполнили данный пункт</font>)\n",
    "- living_area (жилая площадь, заполнить пропуски не получится, т.к. нет возможности учесть площадь санузлов, балконов и т.д., <font color = 'blue'>причиной является неосведомленность продавцов об площади</font>)\n",
    "- is_apartment (является ли жилье апартаментами, скорее всего такие помещения являются полноценными квартирами, <font color = 'green'>заполнить нулями</font>, <font color = 'blue'>причиной является игнорирование данного пункта</font>)\n",
    "- kitchen_area (площадь кухни, заполнить пропуски не получится, <font color = 'blue'>причиной пропуска является неосведомленность об площади кухни</font>)\n",
    "- balcony (наличие балкона, <font color = 'green'>заполнить нулями</font>, <font color = 'blue'>люди игнорировали этот пункт, т.к. не хотели показывать, что нет такого удобства</font>)\n",
    "- locality_name (место населенного пункта, исходя из списка населенных пунктов заполнить не получится, <font color = 'blue'>причина пропуска - техническая ошибка</font>)\n",
    "- airports_nearest (расстояние до аэропорта, заполнить пропуск не получится, <font color = 'blue'>причина - техническая ошибка</font>)\n",
    "- city_centers_nearest (расстояние до центра города, заполнить пропуск не получится, <font color = 'blue'>причина - техническая ошибка</font>)\n",
    "- parks_around3000 (парки в радиусе 3 км, заполнить пропуск не получится, <font color = 'blue'>причина - техническая ошибка</font>)\n",
    "- parks_nearest (расстояние до ближайшего парка, заполнить пропуск не получится, <font color = 'blue'>причина - техническая ошибка</font>)\n",
    "- ponds_around3000 (пруд в радиусе 3 км, заполнить пропуск не получится, <font color = 'blue'>причина - техническая ошибка</font>)\n",
    "- ponds_nearest (ближайший пруд, заполнить пропуск не получится, <font color = 'blue'>причина - техническая ошибка</font>)\n",
    "- days_exposition (сколько дней простояло объявление, заполнить не получится, <font color = 'blue'>причиной пропуска является, скорее всего, что на момент создания БД эти помещения не продались</font>)"
   ]
  },
  {
   "cell_type": "code",
   "execution_count": 7,
   "metadata": {},
   "outputs": [
    {
     "data": {
      "text/plain": [
       "total_images                0\n",
       "last_price                  0\n",
       "total_area                  0\n",
       "first_day_exposition        0\n",
       "rooms                       0\n",
       "ceiling_height           9195\n",
       "floors_total               86\n",
       "living_area              1903\n",
       "floor                       0\n",
       "is_apartment            20924\n",
       "studio                      0\n",
       "open_plan                   0\n",
       "kitchen_area             2278\n",
       "balcony                     0\n",
       "locality_name              49\n",
       "airports_nearest         5542\n",
       "city_centers_nearest     5519\n",
       "parks_around3000         5518\n",
       "parks_nearest           15620\n",
       "ponds_around3000         5518\n",
       "ponds_nearest           14589\n",
       "days_exposition          3181\n",
       "dtype: int64"
      ]
     },
     "execution_count": 7,
     "metadata": {},
     "output_type": "execute_result"
    }
   ],
   "source": [
    "# заполним пропуски в столбце balcony, если не заполнено, значит балкона нет\n",
    "data['balcony'] = data['balcony'].fillna(0)\n",
    "# проверим\n",
    "data.isna().sum()"
   ]
  },
  {
   "cell_type": "code",
   "execution_count": 8,
   "metadata": {},
   "outputs": [
    {
     "data": {
      "text/plain": [
       "total_images                0\n",
       "last_price                  0\n",
       "total_area                  0\n",
       "first_day_exposition        0\n",
       "rooms                       0\n",
       "ceiling_height           9195\n",
       "floors_total               86\n",
       "living_area              1903\n",
       "floor                       0\n",
       "is_apartment                0\n",
       "studio                      0\n",
       "open_plan                   0\n",
       "kitchen_area             2278\n",
       "balcony                     0\n",
       "locality_name              49\n",
       "airports_nearest         5542\n",
       "city_centers_nearest     5519\n",
       "parks_around3000         5518\n",
       "parks_nearest           15620\n",
       "ponds_around3000         5518\n",
       "ponds_nearest           14589\n",
       "days_exposition          3181\n",
       "dtype: int64"
      ]
     },
     "execution_count": 8,
     "metadata": {},
     "output_type": "execute_result"
    }
   ],
   "source": [
    "# сделаем тоже самое с апартаментами\n",
    "data['is_apartment'] = data['is_apartment'].fillna(0)\n",
    "data.isna().sum()"
   ]
  },
  {
   "cell_type": "code",
   "execution_count": 9,
   "metadata": {},
   "outputs": [
    {
     "data": {
      "text/plain": [
       "total_images                0\n",
       "last_price                  0\n",
       "total_area                  0\n",
       "first_day_exposition        0\n",
       "rooms                       0\n",
       "ceiling_height              0\n",
       "floors_total               86\n",
       "living_area              1903\n",
       "floor                       0\n",
       "is_apartment                0\n",
       "studio                      0\n",
       "open_plan                   0\n",
       "kitchen_area             2278\n",
       "balcony                     0\n",
       "locality_name              49\n",
       "airports_nearest         5542\n",
       "city_centers_nearest     5519\n",
       "parks_around3000         5518\n",
       "parks_nearest           15620\n",
       "ponds_around3000         5518\n",
       "ponds_nearest           14589\n",
       "days_exposition          3181\n",
       "dtype: int64"
      ]
     },
     "execution_count": 9,
     "metadata": {},
     "output_type": "execute_result"
    }
   ],
   "source": [
    "# заменим nan в высоте потолков на медианное значение\n",
    "data['ceiling_height'] = data['ceiling_height'].fillna(data['ceiling_height'].median())\n",
    "data.isna().sum()"
   ]
  },
  {
   "cell_type": "markdown",
   "metadata": {},
   "source": [
    "#### Рассмотрите типы данных в каждом столбце:\n",
    "\n",
    "- Найдите столбцы, в которых нужно изменить тип данных.\n",
    "- Преобразуйте тип данных в выбранных столбцах."
   ]
  },
  {
   "cell_type": "code",
   "execution_count": 10,
   "metadata": {},
   "outputs": [
    {
     "name": "stdout",
     "output_type": "stream",
     "text": [
      "<class 'pandas.core.frame.DataFrame'>\n",
      "RangeIndex: 23699 entries, 0 to 23698\n",
      "Data columns (total 22 columns):\n",
      " #   Column                Non-Null Count  Dtype  \n",
      "---  ------                --------------  -----  \n",
      " 0   total_images          23699 non-null  int64  \n",
      " 1   last_price            23699 non-null  float64\n",
      " 2   total_area            23699 non-null  float64\n",
      " 3   first_day_exposition  23699 non-null  object \n",
      " 4   rooms                 23699 non-null  int64  \n",
      " 5   ceiling_height        23699 non-null  float64\n",
      " 6   floors_total          23613 non-null  float64\n",
      " 7   living_area           21796 non-null  float64\n",
      " 8   floor                 23699 non-null  int64  \n",
      " 9   is_apartment          23699 non-null  object \n",
      " 10  studio                23699 non-null  bool   \n",
      " 11  open_plan             23699 non-null  bool   \n",
      " 12  kitchen_area          21421 non-null  float64\n",
      " 13  balcony               23699 non-null  float64\n",
      " 14  locality_name         23650 non-null  object \n",
      " 15  airports_nearest      18157 non-null  float64\n",
      " 16  city_centers_nearest  18180 non-null  float64\n",
      " 17  parks_around3000      18181 non-null  float64\n",
      " 18  parks_nearest         8079 non-null   float64\n",
      " 19  ponds_around3000      18181 non-null  float64\n",
      " 20  ponds_nearest         9110 non-null   float64\n",
      " 21  days_exposition       20518 non-null  float64\n",
      "dtypes: bool(2), float64(14), int64(3), object(3)\n",
      "memory usage: 3.7+ MB\n"
     ]
    }
   ],
   "source": [
    "# рассмотрим еще раз информацию о датасете\n",
    "data.info()"
   ]
  },
  {
   "cell_type": "markdown",
   "metadata": {},
   "source": [
    "- В столбце first_day_exposition поменять тип на datetime\n",
    "- В floors_total поменять на int, т.к. количество этажей целое (однако это невозможно сделать с пропусками, поэтому удалить их)\n",
    "- В is_apartment поменять на bool\n",
    "- В balcony изменить на int, т.к. количество целое"
   ]
  },
  {
   "cell_type": "code",
   "execution_count": 11,
   "metadata": {},
   "outputs": [
    {
     "name": "stdout",
     "output_type": "stream",
     "text": [
      "<class 'pandas.core.frame.DataFrame'>\n",
      "RangeIndex: 23699 entries, 0 to 23698\n",
      "Data columns (total 22 columns):\n",
      " #   Column                Non-Null Count  Dtype         \n",
      "---  ------                --------------  -----         \n",
      " 0   total_images          23699 non-null  int64         \n",
      " 1   last_price            23699 non-null  float64       \n",
      " 2   total_area            23699 non-null  float64       \n",
      " 3   first_day_exposition  23699 non-null  datetime64[ns]\n",
      " 4   rooms                 23699 non-null  int64         \n",
      " 5   ceiling_height        23699 non-null  float64       \n",
      " 6   floors_total          23613 non-null  float64       \n",
      " 7   living_area           21796 non-null  float64       \n",
      " 8   floor                 23699 non-null  int64         \n",
      " 9   is_apartment          23699 non-null  bool          \n",
      " 10  studio                23699 non-null  bool          \n",
      " 11  open_plan             23699 non-null  bool          \n",
      " 12  kitchen_area          21421 non-null  float64       \n",
      " 13  balcony               23699 non-null  int64         \n",
      " 14  locality_name         23650 non-null  object        \n",
      " 15  airports_nearest      18157 non-null  float64       \n",
      " 16  city_centers_nearest  18180 non-null  float64       \n",
      " 17  parks_around3000      18181 non-null  float64       \n",
      " 18  parks_nearest         8079 non-null   float64       \n",
      " 19  ponds_around3000      18181 non-null  float64       \n",
      " 20  ponds_nearest         9110 non-null   float64       \n",
      " 21  days_exposition       20518 non-null  float64       \n",
      "dtypes: bool(3), datetime64[ns](1), float64(13), int64(4), object(1)\n",
      "memory usage: 3.5+ MB\n"
     ]
    }
   ],
   "source": [
    "# поменяем формат в столбце first_day_exposition, is_apartment, balcony и проверим\n",
    "data['first_day_exposition'] = pd.to_datetime(data['first_day_exposition'], format = '%Y-%m-%dT%H:%M:%S')\n",
    "data['is_apartment'] = data['is_apartment'].astype(bool)\n",
    "data['balcony'] = data['balcony'].astype(int)\n",
    "data.info()"
   ]
  },
  {
   "cell_type": "code",
   "execution_count": 12,
   "metadata": {},
   "outputs": [
    {
     "data": {
      "text/plain": [
       "total_images                0\n",
       "last_price                  0\n",
       "total_area                  0\n",
       "first_day_exposition        0\n",
       "rooms                       0\n",
       "ceiling_height              0\n",
       "floors_total                0\n",
       "living_area              1865\n",
       "floor                       0\n",
       "is_apartment                0\n",
       "studio                      0\n",
       "open_plan                   0\n",
       "kitchen_area             2222\n",
       "balcony                     0\n",
       "locality_name               0\n",
       "airports_nearest         5524\n",
       "city_centers_nearest     5501\n",
       "parks_around3000         5500\n",
       "parks_nearest           15535\n",
       "ponds_around3000         5500\n",
       "ponds_nearest           14529\n",
       "days_exposition          3171\n",
       "dtype: int64"
      ]
     },
     "execution_count": 12,
     "metadata": {},
     "output_type": "execute_result"
    }
   ],
   "source": [
    "#Удалим строчки с пропусками в столбцах floors_total и locality_name\n",
    "data = data.dropna(subset=['floors_total'])\n",
    "data = data.dropna(subset = ['locality_name']).reset_index(drop = True)\n",
    "data.isna().sum()"
   ]
  },
  {
   "cell_type": "code",
   "execution_count": 13,
   "metadata": {},
   "outputs": [
    {
     "name": "stdout",
     "output_type": "stream",
     "text": [
      "<class 'pandas.core.frame.DataFrame'>\n",
      "RangeIndex: 23565 entries, 0 to 23564\n",
      "Data columns (total 22 columns):\n",
      " #   Column                Non-Null Count  Dtype         \n",
      "---  ------                --------------  -----         \n",
      " 0   total_images          23565 non-null  int64         \n",
      " 1   last_price            23565 non-null  float64       \n",
      " 2   total_area            23565 non-null  float64       \n",
      " 3   first_day_exposition  23565 non-null  datetime64[ns]\n",
      " 4   rooms                 23565 non-null  int64         \n",
      " 5   ceiling_height        23565 non-null  float64       \n",
      " 6   floors_total          23565 non-null  int64         \n",
      " 7   living_area           21700 non-null  float64       \n",
      " 8   floor                 23565 non-null  int64         \n",
      " 9   is_apartment          23565 non-null  bool          \n",
      " 10  studio                23565 non-null  bool          \n",
      " 11  open_plan             23565 non-null  bool          \n",
      " 12  kitchen_area          21343 non-null  float64       \n",
      " 13  balcony               23565 non-null  int64         \n",
      " 14  locality_name         23565 non-null  object        \n",
      " 15  airports_nearest      18041 non-null  float64       \n",
      " 16  city_centers_nearest  18064 non-null  float64       \n",
      " 17  parks_around3000      18065 non-null  float64       \n",
      " 18  parks_nearest         8030 non-null   float64       \n",
      " 19  ponds_around3000      18065 non-null  float64       \n",
      " 20  ponds_nearest         9036 non-null   float64       \n",
      " 21  days_exposition       20394 non-null  float64       \n",
      "dtypes: bool(3), datetime64[ns](1), float64(12), int64(5), object(1)\n",
      "memory usage: 3.5+ MB\n"
     ]
    }
   ],
   "source": [
    "data['floors_total'] = data['floors_total'].astype(int)\n",
    "data.info()"
   ]
  },
  {
   "cell_type": "markdown",
   "metadata": {},
   "source": [
    "#### Изучите уникальные значения в столбце с названиями и устраните неявные дубликаты. Например, «поселок Рябово» и «поселок городского типа Рябово», «поселок Тельмана» и «посёлок Тельмана» — это обозначения одних и тех же населённых пунктов. Вы можете заменить названия в существующем столбце или создать новый с названиями без дубликатов."
   ]
  },
  {
   "cell_type": "code",
   "execution_count": 14,
   "metadata": {},
   "outputs": [
    {
     "data": {
      "text/plain": [
       "array(['Бокситогорск', 'Волосово', 'Волхов', 'Всеволожск', 'Выборг',\n",
       "       'Высоцк', 'Гатчина', 'Зеленогорск', 'Ивангород', 'Каменногорск',\n",
       "       'Кингисепп', 'Кириши', 'Кировск', 'Колпино', 'Коммунар',\n",
       "       'Красное Село', 'Кронштадт', 'Кудрово', 'Лодейное Поле',\n",
       "       'Ломоносов', 'Луга', 'Любань', 'Мурино', 'Никольское',\n",
       "       'Новая Ладога', 'Отрадное', 'Павловск', 'Петергоф', 'Пикалёво',\n",
       "       'Подпорожье', 'Приморск', 'Приозерск', 'Пушкин', 'Санкт-Петербург',\n",
       "       'Светогорск', 'Сертолово', 'Сестрорецк', 'Сланцы', 'Сосновый Бор',\n",
       "       'Сясьстрой', 'Тихвин', 'Тосно', 'Шлиссельбург',\n",
       "       'городской поселок Большая Ижора', 'городской поселок Янино-1',\n",
       "       'городской посёлок Будогощь', 'городской посёлок Виллози',\n",
       "       'городской посёлок Лесогорский', 'городской посёлок Мга',\n",
       "       'городской посёлок Назия', 'городской посёлок Новоселье',\n",
       "       'городской посёлок Павлово', 'городской посёлок Рощино',\n",
       "       'городской посёлок Свирьстрой', 'городской посёлок Советский',\n",
       "       'городской посёлок Фёдоровское', 'городской посёлок Янино-1',\n",
       "       'деревня Агалатово', 'деревня Аро', 'деревня Батово',\n",
       "       'деревня Бегуницы', 'деревня Белогорка', 'деревня Большая Вруда',\n",
       "       'деревня Большая Пустомержа', 'деревня Большие Колпаны',\n",
       "       'деревня Большое Рейзино', 'деревня Большой Сабск', 'деревня Бор',\n",
       "       'деревня Борисова Грива', 'деревня Ваганово', 'деревня Вартемяги',\n",
       "       'деревня Вахнова Кара', 'деревня Выскатка', 'деревня Гарболово',\n",
       "       'деревня Глинка', 'деревня Горбунки', 'деревня Гостилицы',\n",
       "       'деревня Заклинье', 'деревня Заневка', 'деревня Зимитицы',\n",
       "       'деревня Извара', 'деревня Иссад', 'деревня Калитино',\n",
       "       'деревня Кальтино', 'деревня Камышовка', 'деревня Каськово',\n",
       "       'деревня Келози', 'деревня Кипень', 'деревня Кисельня',\n",
       "       'деревня Колтуши', 'деревня Коркино', 'деревня Котлы',\n",
       "       'деревня Кривко', 'деревня Кудрово', 'деревня Кузьмолово',\n",
       "       'деревня Курковицы', 'деревня Куровицы', 'деревня Куттузи',\n",
       "       'деревня Лаврики', 'деревня Лаголово', 'деревня Лампово',\n",
       "       'деревня Лесколово', 'деревня Лопухинка', 'деревня Лупполово',\n",
       "       'деревня Малая Романовка', 'деревня Малое Верево',\n",
       "       'деревня Малое Карлино', 'деревня Малые Колпаны',\n",
       "       'деревня Мануйлово', 'деревня Меньково', 'деревня Мины',\n",
       "       'деревня Мистолово', 'деревня Ненимяки', 'деревня Нижние Осельки',\n",
       "       'деревня Нижняя', 'деревня Низино', 'деревня Новое Девяткино',\n",
       "       'деревня Новолисино', 'деревня Нурма', 'деревня Оржицы',\n",
       "       'деревня Парицы', 'деревня Пельгора', 'деревня Пеники',\n",
       "       'деревня Пижма', 'деревня Пикколово', 'деревня Пудомяги',\n",
       "       'деревня Пустынка', 'деревня Пчева', 'деревня Рабитицы',\n",
       "       'деревня Разбегаево', 'деревня Раздолье', 'деревня Разметелево',\n",
       "       'деревня Рапполово', 'деревня Реброво', 'деревня Русско',\n",
       "       'деревня Сижно', 'деревня Снегирёвка', 'деревня Старая',\n",
       "       'деревня Старая Пустошь', 'деревня Старое Хинколово',\n",
       "       'деревня Старополье', 'деревня Старосиверская',\n",
       "       'деревня Старые Бегуницы', 'деревня Суоранда',\n",
       "       'деревня Сяськелево', 'деревня Тарасово', 'деревня Терпилицы',\n",
       "       'деревня Тихковицы', 'деревня Тойворово', 'деревня Торосово',\n",
       "       'деревня Торошковичи', 'деревня Трубников Бор',\n",
       "       'деревня Фалилеево', 'деревня Фёдоровское', 'деревня Хапо-Ое',\n",
       "       'деревня Хязельки', 'деревня Чудской Бор', 'деревня Шпаньково',\n",
       "       'деревня Щеглово', 'деревня Юкки', 'деревня Ялгино',\n",
       "       'деревня Яльгелево', 'деревня Ям-Тесово',\n",
       "       'коттеджный поселок Кивеннапа Север', 'коттеджный поселок Счастье',\n",
       "       'коттеджный посёлок Лесное', 'поселок Аннино', 'поселок Барышево',\n",
       "       'поселок Бугры', 'поселок Возрождение', 'поселок Войсковицы',\n",
       "       'поселок Володарское', 'поселок Гаврилово', 'поселок Гарболово',\n",
       "       'поселок Гладкое', 'поселок Глажево', 'поселок Глебычево',\n",
       "       'поселок Гончарово', 'поселок Громово', 'поселок Дружноселье',\n",
       "       'поселок Елизаветино', 'поселок Жилгородок', 'поселок Жилпосёлок',\n",
       "       'поселок Житково', 'поселок Заводской', 'поселок Запорожское',\n",
       "       'поселок Зимитицы', 'поселок Ильичёво', 'поселок Калитино',\n",
       "       'поселок Каложицы', 'поселок Кингисеппский', 'поселок Кирпичное',\n",
       "       'поселок Кобралово', 'поселок Кобринское', 'поселок Коммунары',\n",
       "       'поселок Коробицыно', 'поселок Котельский',\n",
       "       'поселок Красная Долина', 'поселок Красносельское',\n",
       "       'поселок Лесное', 'поселок Лисий Нос', 'поселок Лукаши',\n",
       "       'поселок Любань', 'поселок Мельниково', 'поселок Мичуринское',\n",
       "       'поселок Молодцово', 'поселок Мурино', 'поселок Новый Свет',\n",
       "       'поселок Новый Учхоз', 'поселок Оредеж',\n",
       "       'поселок Пансионат Зелёный Бор', 'поселок Первомайское',\n",
       "       'поселок Перово', 'поселок Петровское', 'поселок Победа',\n",
       "       'поселок Поляны', 'поселок Почап', 'поселок Починок',\n",
       "       'поселок Пушное', 'поселок Пчевжа', 'поселок Рабитицы',\n",
       "       'поселок Романовка', 'поселок Ромашки', 'поселок Рябово',\n",
       "       'поселок Севастьяново', 'поселок Селезнёво', 'поселок Сельцо',\n",
       "       'поселок Семиозерье', 'поселок Семрино', 'поселок Серебрянский',\n",
       "       'поселок Совхозный', 'поселок Старая Малукса',\n",
       "       'поселок Стеклянный', 'поселок Сумино', 'поселок Суходолье',\n",
       "       'поселок Тельмана', 'поселок Терволово', 'поселок Торковичи',\n",
       "       'поселок Тёсово-4', 'поселок Углово', 'поселок Усть-Луга',\n",
       "       'поселок Ушаки', 'поселок Цвелодубово', 'поселок Цвылёво',\n",
       "       'поселок городского типа Большая Ижора',\n",
       "       'поселок городского типа Вырица',\n",
       "       'поселок городского типа Дружная Горка',\n",
       "       'поселок городского типа Дубровка',\n",
       "       'поселок городского типа Ефимовский',\n",
       "       'поселок городского типа Кондратьево',\n",
       "       'поселок городского типа Красный Бор',\n",
       "       'поселок городского типа Кузьмоловский',\n",
       "       'поселок городского типа Лебяжье',\n",
       "       'поселок городского типа Лесогорский',\n",
       "       'поселок городского типа Назия',\n",
       "       'поселок городского типа Никольский',\n",
       "       'поселок городского типа Приладожский',\n",
       "       'поселок городского типа Рахья', 'поселок городского типа Рощино',\n",
       "       'поселок городского типа Рябово',\n",
       "       'поселок городского типа Синявино',\n",
       "       'поселок городского типа Советский',\n",
       "       'поселок городского типа Токсово',\n",
       "       'поселок городского типа Форносово',\n",
       "       'поселок городского типа имени Свердлова',\n",
       "       'поселок станции Вещево', 'поселок станции Корнево',\n",
       "       'поселок станции Лужайка', 'поселок станции Приветнинское',\n",
       "       'посёлок Александровская', 'посёлок Алексеевка', 'посёлок Аннино',\n",
       "       'посёлок Белоостров', 'посёлок Бугры', 'посёлок Возрождение',\n",
       "       'посёлок Войскорово', 'посёлок Высокоключевой',\n",
       "       'посёлок Гаврилово', 'посёлок Дзержинского', 'посёлок Жилгородок',\n",
       "       'посёлок Ильичёво', 'посёлок Кикерино', 'посёлок Кобралово',\n",
       "       'посёлок Коробицыно', 'посёлок Левашово', 'посёлок Ленинское',\n",
       "       'посёлок Лисий Нос', 'посёлок Мельниково', 'посёлок Металлострой',\n",
       "       'посёлок Мичуринское', 'посёлок Молодёжное', 'посёлок Мурино',\n",
       "       'посёлок Мыза-Ивановка', 'посёлок Новогорелово',\n",
       "       'посёлок Новый Свет', 'посёлок Пансионат Зелёный Бор',\n",
       "       'посёлок Парголово', 'посёлок Перово', 'посёлок Песочный',\n",
       "       'посёлок Петро-Славянка', 'посёлок Петровское',\n",
       "       'посёлок Платформа 69-й километр', 'посёлок Плодовое',\n",
       "       'посёлок Плоское', 'посёлок Победа', 'посёлок Поляны',\n",
       "       'посёлок Понтонный', 'посёлок Пригородный', 'посёлок Пудость',\n",
       "       'посёлок Репино', 'посёлок Ропша', 'посёлок Сапёрное',\n",
       "       'посёлок Сапёрный', 'посёлок Сосново', 'посёлок Старая Малукса',\n",
       "       'посёлок Стеклянный', 'посёлок Стрельна', 'посёлок Суйда',\n",
       "       'посёлок Сумино', 'посёлок Тельмана', 'посёлок Терволово',\n",
       "       'посёлок Торфяное', 'посёлок Усть-Ижора', 'посёлок Усть-Луга',\n",
       "       'посёлок Форт Красная Горка', 'посёлок Шугозеро', 'посёлок Шушары',\n",
       "       'посёлок Щеглово', 'посёлок городского типа Важины',\n",
       "       'посёлок городского типа Вознесенье',\n",
       "       'посёлок городского типа Вырица',\n",
       "       'посёлок городского типа Красный Бор',\n",
       "       'посёлок городского типа Кузнечное',\n",
       "       'посёлок городского типа Кузьмоловский',\n",
       "       'посёлок городского типа Лебяжье', 'посёлок городского типа Мга',\n",
       "       'посёлок городского типа Павлово',\n",
       "       'посёлок городского типа Рощино', 'посёлок городского типа Рябово',\n",
       "       'посёлок городского типа Сиверский',\n",
       "       'посёлок городского типа Тайцы', 'посёлок городского типа Токсово',\n",
       "       'посёлок городского типа Ульяновка',\n",
       "       'посёлок городского типа Форносово',\n",
       "       'посёлок городского типа имени Морозова',\n",
       "       'посёлок городского типа имени Свердлова',\n",
       "       'посёлок при железнодорожной станции Вещево',\n",
       "       'посёлок при железнодорожной станции Приветнинское',\n",
       "       'посёлок станции Громово', 'посёлок станции Свирь',\n",
       "       'садоводческое некоммерческое товарищество Лесная Поляна',\n",
       "       'садовое товарищество Новая Ропша',\n",
       "       'садовое товарищество Приладожский', 'садовое товарищество Рахья',\n",
       "       'садовое товарищество Садко', 'село Копорье', 'село Никольское',\n",
       "       'село Павлово', 'село Паша', 'село Путилово', 'село Рождествено',\n",
       "       'село Русско-Высоцкое', 'село Старая Ладога', 'село Шум'],\n",
       "      dtype=object)"
      ]
     },
     "execution_count": 14,
     "metadata": {},
     "output_type": "execute_result"
    }
   ],
   "source": [
    "data['locality_name'].sort_values().unique()"
   ]
  },
  {
   "cell_type": "code",
   "execution_count": 15,
   "metadata": {},
   "outputs": [
    {
     "data": {
      "text/plain": [
       "364"
      ]
     },
     "execution_count": 15,
     "metadata": {},
     "output_type": "execute_result"
    }
   ],
   "source": [
    "len(data['locality_name'].unique())"
   ]
  },
  {
   "cell_type": "code",
   "execution_count": 16,
   "metadata": {},
   "outputs": [
    {
     "data": {
      "text/plain": [
       "319"
      ]
     },
     "execution_count": 16,
     "metadata": {},
     "output_type": "execute_result"
    }
   ],
   "source": [
    "# Заменим неявные дубликаты, заменив буквы ё на е, также различные поселки объеденив в один тип, переведя некоммерческое\n",
    "# товарищество в простое\n",
    "data['locality_name'] = (\n",
    "    data['locality_name']\n",
    "    .str.replace('ё', 'е')\n",
    "    .replace(['поселок городского типа ', 'городской поселок ', 'коттеджный поселок '], 'поселок ', regex=True)\n",
    "    .replace('поселок при железнодорожной', 'поселок', regex=True)\n",
    "    .replace('садоводческое некоммерческое товарищество', 'садовое товарищество', regex=True)\n",
    ") \n",
    "len(data['locality_name'].unique())"
   ]
  },
  {
   "cell_type": "code",
   "execution_count": 17,
   "metadata": {},
   "outputs": [
    {
     "name": "stdout",
     "output_type": "stream",
     "text": [
      "23565\n",
      "23565\n"
     ]
    }
   ],
   "source": [
    "# после преобразования данных уберем явные дубликаты\n",
    "print(len(data))\n",
    "data = data.drop_duplicates()\n",
    "print(len(data))"
   ]
  },
  {
   "cell_type": "markdown",
   "metadata": {},
   "source": [
    "Явных дубликатов не оказалось"
   ]
  },
  {
   "cell_type": "markdown",
   "metadata": {},
   "source": [
    "Итого было сокращено более 45 наименований дубликатов"
   ]
  },
  {
   "cell_type": "markdown",
   "metadata": {},
   "source": [
    "Резюмируем проделанную работу: \n",
    "- в строках ceiling_height, balcony, is_apartment заполнены пропуски\n",
    "- в некоторых столбцах изменен тип данных\n",
    "- были убраны неявные дубликаты наименований населеных пунктов\n",
    "- было обнаружено, что явных дубликатов не было"
   ]
  },
  {
   "cell_type": "markdown",
   "metadata": {},
   "source": [
    "### Посчитайте и добавьте в таблицу новые столбцы"
   ]
  },
  {
   "cell_type": "markdown",
   "metadata": {},
   "source": [
    "#### Добавьте в таблицу новые столбцы со следующими параметрами:\n",
    "- цена одного квадратного метра (нужно поделить стоимость объекта на его общую площадь, а затем округлить до двух знаков после запятой);\n",
    "- день недели публикации объявления (0 — понедельник, 1 — вторник и так далее);\n",
    "- месяц публикации объявления;\n",
    "- год публикации объявления;\n",
    "- тип этажа квартиры (значения — «‎первый», «последний», «другой»);\n",
    "- расстояние до центра города в километрах (переведите из м в км и округлите до ближайших целых значений)."
   ]
  },
  {
   "cell_type": "code",
   "execution_count": 18,
   "metadata": {},
   "outputs": [
    {
     "data": {
      "text/html": [
       "<div>\n",
       "<style scoped>\n",
       "    .dataframe tbody tr th:only-of-type {\n",
       "        vertical-align: middle;\n",
       "    }\n",
       "\n",
       "    .dataframe tbody tr th {\n",
       "        vertical-align: top;\n",
       "    }\n",
       "\n",
       "    .dataframe thead th {\n",
       "        text-align: right;\n",
       "    }\n",
       "</style>\n",
       "<table border=\"1\" class=\"dataframe\">\n",
       "  <thead>\n",
       "    <tr style=\"text-align: right;\">\n",
       "      <th></th>\n",
       "      <th>total_images</th>\n",
       "      <th>last_price</th>\n",
       "      <th>total_area</th>\n",
       "      <th>first_day_exposition</th>\n",
       "      <th>rooms</th>\n",
       "      <th>ceiling_height</th>\n",
       "      <th>floors_total</th>\n",
       "      <th>living_area</th>\n",
       "      <th>floor</th>\n",
       "      <th>is_apartment</th>\n",
       "      <th>...</th>\n",
       "      <th>balcony</th>\n",
       "      <th>locality_name</th>\n",
       "      <th>airports_nearest</th>\n",
       "      <th>city_centers_nearest</th>\n",
       "      <th>parks_around3000</th>\n",
       "      <th>parks_nearest</th>\n",
       "      <th>ponds_around3000</th>\n",
       "      <th>ponds_nearest</th>\n",
       "      <th>days_exposition</th>\n",
       "      <th>price_square</th>\n",
       "    </tr>\n",
       "  </thead>\n",
       "  <tbody>\n",
       "    <tr>\n",
       "      <th>0</th>\n",
       "      <td>20</td>\n",
       "      <td>13000000.0</td>\n",
       "      <td>108.0</td>\n",
       "      <td>2019-03-07</td>\n",
       "      <td>3</td>\n",
       "      <td>2.70</td>\n",
       "      <td>16</td>\n",
       "      <td>51.0</td>\n",
       "      <td>8</td>\n",
       "      <td>False</td>\n",
       "      <td>...</td>\n",
       "      <td>0</td>\n",
       "      <td>Санкт-Петербург</td>\n",
       "      <td>18863.0</td>\n",
       "      <td>16028.0</td>\n",
       "      <td>1.0</td>\n",
       "      <td>482.0</td>\n",
       "      <td>2.0</td>\n",
       "      <td>755.0</td>\n",
       "      <td>NaN</td>\n",
       "      <td>120370.37</td>\n",
       "    </tr>\n",
       "    <tr>\n",
       "      <th>1</th>\n",
       "      <td>7</td>\n",
       "      <td>3350000.0</td>\n",
       "      <td>40.4</td>\n",
       "      <td>2018-12-04</td>\n",
       "      <td>1</td>\n",
       "      <td>2.65</td>\n",
       "      <td>11</td>\n",
       "      <td>18.6</td>\n",
       "      <td>1</td>\n",
       "      <td>False</td>\n",
       "      <td>...</td>\n",
       "      <td>2</td>\n",
       "      <td>поселок Шушары</td>\n",
       "      <td>12817.0</td>\n",
       "      <td>18603.0</td>\n",
       "      <td>0.0</td>\n",
       "      <td>NaN</td>\n",
       "      <td>0.0</td>\n",
       "      <td>NaN</td>\n",
       "      <td>81.0</td>\n",
       "      <td>82920.79</td>\n",
       "    </tr>\n",
       "    <tr>\n",
       "      <th>2</th>\n",
       "      <td>10</td>\n",
       "      <td>5196000.0</td>\n",
       "      <td>56.0</td>\n",
       "      <td>2015-08-20</td>\n",
       "      <td>2</td>\n",
       "      <td>2.65</td>\n",
       "      <td>5</td>\n",
       "      <td>34.3</td>\n",
       "      <td>4</td>\n",
       "      <td>False</td>\n",
       "      <td>...</td>\n",
       "      <td>0</td>\n",
       "      <td>Санкт-Петербург</td>\n",
       "      <td>21741.0</td>\n",
       "      <td>13933.0</td>\n",
       "      <td>1.0</td>\n",
       "      <td>90.0</td>\n",
       "      <td>2.0</td>\n",
       "      <td>574.0</td>\n",
       "      <td>558.0</td>\n",
       "      <td>92785.71</td>\n",
       "    </tr>\n",
       "    <tr>\n",
       "      <th>3</th>\n",
       "      <td>0</td>\n",
       "      <td>64900000.0</td>\n",
       "      <td>159.0</td>\n",
       "      <td>2015-07-24</td>\n",
       "      <td>3</td>\n",
       "      <td>2.65</td>\n",
       "      <td>14</td>\n",
       "      <td>NaN</td>\n",
       "      <td>9</td>\n",
       "      <td>False</td>\n",
       "      <td>...</td>\n",
       "      <td>0</td>\n",
       "      <td>Санкт-Петербург</td>\n",
       "      <td>28098.0</td>\n",
       "      <td>6800.0</td>\n",
       "      <td>2.0</td>\n",
       "      <td>84.0</td>\n",
       "      <td>3.0</td>\n",
       "      <td>234.0</td>\n",
       "      <td>424.0</td>\n",
       "      <td>408176.10</td>\n",
       "    </tr>\n",
       "    <tr>\n",
       "      <th>4</th>\n",
       "      <td>2</td>\n",
       "      <td>10000000.0</td>\n",
       "      <td>100.0</td>\n",
       "      <td>2018-06-19</td>\n",
       "      <td>2</td>\n",
       "      <td>3.03</td>\n",
       "      <td>14</td>\n",
       "      <td>32.0</td>\n",
       "      <td>13</td>\n",
       "      <td>False</td>\n",
       "      <td>...</td>\n",
       "      <td>0</td>\n",
       "      <td>Санкт-Петербург</td>\n",
       "      <td>31856.0</td>\n",
       "      <td>8098.0</td>\n",
       "      <td>2.0</td>\n",
       "      <td>112.0</td>\n",
       "      <td>1.0</td>\n",
       "      <td>48.0</td>\n",
       "      <td>121.0</td>\n",
       "      <td>100000.00</td>\n",
       "    </tr>\n",
       "  </tbody>\n",
       "</table>\n",
       "<p>5 rows × 23 columns</p>\n",
       "</div>"
      ],
      "text/plain": [
       "   total_images  last_price  total_area first_day_exposition  rooms  \\\n",
       "0            20  13000000.0       108.0           2019-03-07      3   \n",
       "1             7   3350000.0        40.4           2018-12-04      1   \n",
       "2            10   5196000.0        56.0           2015-08-20      2   \n",
       "3             0  64900000.0       159.0           2015-07-24      3   \n",
       "4             2  10000000.0       100.0           2018-06-19      2   \n",
       "\n",
       "   ceiling_height  floors_total  living_area  floor  is_apartment  ...  \\\n",
       "0            2.70            16         51.0      8         False  ...   \n",
       "1            2.65            11         18.6      1         False  ...   \n",
       "2            2.65             5         34.3      4         False  ...   \n",
       "3            2.65            14          NaN      9         False  ...   \n",
       "4            3.03            14         32.0     13         False  ...   \n",
       "\n",
       "   balcony    locality_name  airports_nearest  city_centers_nearest  \\\n",
       "0        0  Санкт-Петербург           18863.0               16028.0   \n",
       "1        2   поселок Шушары           12817.0               18603.0   \n",
       "2        0  Санкт-Петербург           21741.0               13933.0   \n",
       "3        0  Санкт-Петербург           28098.0                6800.0   \n",
       "4        0  Санкт-Петербург           31856.0                8098.0   \n",
       "\n",
       "  parks_around3000  parks_nearest  ponds_around3000  ponds_nearest  \\\n",
       "0              1.0          482.0               2.0          755.0   \n",
       "1              0.0            NaN               0.0            NaN   \n",
       "2              1.0           90.0               2.0          574.0   \n",
       "3              2.0           84.0               3.0          234.0   \n",
       "4              2.0          112.0               1.0           48.0   \n",
       "\n",
       "   days_exposition  price_square  \n",
       "0              NaN     120370.37  \n",
       "1             81.0      82920.79  \n",
       "2            558.0      92785.71  \n",
       "3            424.0     408176.10  \n",
       "4            121.0     100000.00  \n",
       "\n",
       "[5 rows x 23 columns]"
      ]
     },
     "execution_count": 18,
     "metadata": {},
     "output_type": "execute_result"
    }
   ],
   "source": [
    "# получим столбец price_square\n",
    "data['price_square'] = round(data['last_price']/data['total_area'], 2)\n",
    "data.head()"
   ]
  },
  {
   "cell_type": "code",
   "execution_count": 19,
   "metadata": {},
   "outputs": [
    {
     "data": {
      "text/html": [
       "<div>\n",
       "<style scoped>\n",
       "    .dataframe tbody tr th:only-of-type {\n",
       "        vertical-align: middle;\n",
       "    }\n",
       "\n",
       "    .dataframe tbody tr th {\n",
       "        vertical-align: top;\n",
       "    }\n",
       "\n",
       "    .dataframe thead th {\n",
       "        text-align: right;\n",
       "    }\n",
       "</style>\n",
       "<table border=\"1\" class=\"dataframe\">\n",
       "  <thead>\n",
       "    <tr style=\"text-align: right;\">\n",
       "      <th></th>\n",
       "      <th>total_images</th>\n",
       "      <th>last_price</th>\n",
       "      <th>total_area</th>\n",
       "      <th>first_day_exposition</th>\n",
       "      <th>rooms</th>\n",
       "      <th>ceiling_height</th>\n",
       "      <th>floors_total</th>\n",
       "      <th>living_area</th>\n",
       "      <th>floor</th>\n",
       "      <th>is_apartment</th>\n",
       "      <th>...</th>\n",
       "      <th>locality_name</th>\n",
       "      <th>airports_nearest</th>\n",
       "      <th>city_centers_nearest</th>\n",
       "      <th>parks_around3000</th>\n",
       "      <th>parks_nearest</th>\n",
       "      <th>ponds_around3000</th>\n",
       "      <th>ponds_nearest</th>\n",
       "      <th>days_exposition</th>\n",
       "      <th>price_square</th>\n",
       "      <th>day_of_week</th>\n",
       "    </tr>\n",
       "  </thead>\n",
       "  <tbody>\n",
       "    <tr>\n",
       "      <th>0</th>\n",
       "      <td>20</td>\n",
       "      <td>13000000.0</td>\n",
       "      <td>108.0</td>\n",
       "      <td>2019-03-07</td>\n",
       "      <td>3</td>\n",
       "      <td>2.70</td>\n",
       "      <td>16</td>\n",
       "      <td>51.0</td>\n",
       "      <td>8</td>\n",
       "      <td>False</td>\n",
       "      <td>...</td>\n",
       "      <td>Санкт-Петербург</td>\n",
       "      <td>18863.0</td>\n",
       "      <td>16028.0</td>\n",
       "      <td>1.0</td>\n",
       "      <td>482.0</td>\n",
       "      <td>2.0</td>\n",
       "      <td>755.0</td>\n",
       "      <td>NaN</td>\n",
       "      <td>120370.37</td>\n",
       "      <td>3</td>\n",
       "    </tr>\n",
       "    <tr>\n",
       "      <th>1</th>\n",
       "      <td>7</td>\n",
       "      <td>3350000.0</td>\n",
       "      <td>40.4</td>\n",
       "      <td>2018-12-04</td>\n",
       "      <td>1</td>\n",
       "      <td>2.65</td>\n",
       "      <td>11</td>\n",
       "      <td>18.6</td>\n",
       "      <td>1</td>\n",
       "      <td>False</td>\n",
       "      <td>...</td>\n",
       "      <td>поселок Шушары</td>\n",
       "      <td>12817.0</td>\n",
       "      <td>18603.0</td>\n",
       "      <td>0.0</td>\n",
       "      <td>NaN</td>\n",
       "      <td>0.0</td>\n",
       "      <td>NaN</td>\n",
       "      <td>81.0</td>\n",
       "      <td>82920.79</td>\n",
       "      <td>1</td>\n",
       "    </tr>\n",
       "    <tr>\n",
       "      <th>2</th>\n",
       "      <td>10</td>\n",
       "      <td>5196000.0</td>\n",
       "      <td>56.0</td>\n",
       "      <td>2015-08-20</td>\n",
       "      <td>2</td>\n",
       "      <td>2.65</td>\n",
       "      <td>5</td>\n",
       "      <td>34.3</td>\n",
       "      <td>4</td>\n",
       "      <td>False</td>\n",
       "      <td>...</td>\n",
       "      <td>Санкт-Петербург</td>\n",
       "      <td>21741.0</td>\n",
       "      <td>13933.0</td>\n",
       "      <td>1.0</td>\n",
       "      <td>90.0</td>\n",
       "      <td>2.0</td>\n",
       "      <td>574.0</td>\n",
       "      <td>558.0</td>\n",
       "      <td>92785.71</td>\n",
       "      <td>3</td>\n",
       "    </tr>\n",
       "    <tr>\n",
       "      <th>3</th>\n",
       "      <td>0</td>\n",
       "      <td>64900000.0</td>\n",
       "      <td>159.0</td>\n",
       "      <td>2015-07-24</td>\n",
       "      <td>3</td>\n",
       "      <td>2.65</td>\n",
       "      <td>14</td>\n",
       "      <td>NaN</td>\n",
       "      <td>9</td>\n",
       "      <td>False</td>\n",
       "      <td>...</td>\n",
       "      <td>Санкт-Петербург</td>\n",
       "      <td>28098.0</td>\n",
       "      <td>6800.0</td>\n",
       "      <td>2.0</td>\n",
       "      <td>84.0</td>\n",
       "      <td>3.0</td>\n",
       "      <td>234.0</td>\n",
       "      <td>424.0</td>\n",
       "      <td>408176.10</td>\n",
       "      <td>4</td>\n",
       "    </tr>\n",
       "    <tr>\n",
       "      <th>4</th>\n",
       "      <td>2</td>\n",
       "      <td>10000000.0</td>\n",
       "      <td>100.0</td>\n",
       "      <td>2018-06-19</td>\n",
       "      <td>2</td>\n",
       "      <td>3.03</td>\n",
       "      <td>14</td>\n",
       "      <td>32.0</td>\n",
       "      <td>13</td>\n",
       "      <td>False</td>\n",
       "      <td>...</td>\n",
       "      <td>Санкт-Петербург</td>\n",
       "      <td>31856.0</td>\n",
       "      <td>8098.0</td>\n",
       "      <td>2.0</td>\n",
       "      <td>112.0</td>\n",
       "      <td>1.0</td>\n",
       "      <td>48.0</td>\n",
       "      <td>121.0</td>\n",
       "      <td>100000.00</td>\n",
       "      <td>1</td>\n",
       "    </tr>\n",
       "  </tbody>\n",
       "</table>\n",
       "<p>5 rows × 24 columns</p>\n",
       "</div>"
      ],
      "text/plain": [
       "   total_images  last_price  total_area first_day_exposition  rooms  \\\n",
       "0            20  13000000.0       108.0           2019-03-07      3   \n",
       "1             7   3350000.0        40.4           2018-12-04      1   \n",
       "2            10   5196000.0        56.0           2015-08-20      2   \n",
       "3             0  64900000.0       159.0           2015-07-24      3   \n",
       "4             2  10000000.0       100.0           2018-06-19      2   \n",
       "\n",
       "   ceiling_height  floors_total  living_area  floor  is_apartment  ...  \\\n",
       "0            2.70            16         51.0      8         False  ...   \n",
       "1            2.65            11         18.6      1         False  ...   \n",
       "2            2.65             5         34.3      4         False  ...   \n",
       "3            2.65            14          NaN      9         False  ...   \n",
       "4            3.03            14         32.0     13         False  ...   \n",
       "\n",
       "     locality_name  airports_nearest  city_centers_nearest  parks_around3000  \\\n",
       "0  Санкт-Петербург           18863.0               16028.0               1.0   \n",
       "1   поселок Шушары           12817.0               18603.0               0.0   \n",
       "2  Санкт-Петербург           21741.0               13933.0               1.0   \n",
       "3  Санкт-Петербург           28098.0                6800.0               2.0   \n",
       "4  Санкт-Петербург           31856.0                8098.0               2.0   \n",
       "\n",
       "  parks_nearest  ponds_around3000  ponds_nearest  days_exposition  \\\n",
       "0         482.0               2.0          755.0              NaN   \n",
       "1           NaN               0.0            NaN             81.0   \n",
       "2          90.0               2.0          574.0            558.0   \n",
       "3          84.0               3.0          234.0            424.0   \n",
       "4         112.0               1.0           48.0            121.0   \n",
       "\n",
       "   price_square  day_of_week  \n",
       "0     120370.37            3  \n",
       "1      82920.79            1  \n",
       "2      92785.71            3  \n",
       "3     408176.10            4  \n",
       "4     100000.00            1  \n",
       "\n",
       "[5 rows x 24 columns]"
      ]
     },
     "execution_count": 19,
     "metadata": {},
     "output_type": "execute_result"
    }
   ],
   "source": [
    "# получим столбец day_of_week с днями недели\n",
    "data['day_of_week'] = data['first_day_exposition'].dt.dayofweek\n",
    "data.head()"
   ]
  },
  {
   "cell_type": "code",
   "execution_count": 20,
   "metadata": {},
   "outputs": [
    {
     "data": {
      "text/html": [
       "<div>\n",
       "<style scoped>\n",
       "    .dataframe tbody tr th:only-of-type {\n",
       "        vertical-align: middle;\n",
       "    }\n",
       "\n",
       "    .dataframe tbody tr th {\n",
       "        vertical-align: top;\n",
       "    }\n",
       "\n",
       "    .dataframe thead th {\n",
       "        text-align: right;\n",
       "    }\n",
       "</style>\n",
       "<table border=\"1\" class=\"dataframe\">\n",
       "  <thead>\n",
       "    <tr style=\"text-align: right;\">\n",
       "      <th></th>\n",
       "      <th>total_images</th>\n",
       "      <th>last_price</th>\n",
       "      <th>total_area</th>\n",
       "      <th>first_day_exposition</th>\n",
       "      <th>rooms</th>\n",
       "      <th>ceiling_height</th>\n",
       "      <th>floors_total</th>\n",
       "      <th>living_area</th>\n",
       "      <th>floor</th>\n",
       "      <th>is_apartment</th>\n",
       "      <th>...</th>\n",
       "      <th>city_centers_nearest</th>\n",
       "      <th>parks_around3000</th>\n",
       "      <th>parks_nearest</th>\n",
       "      <th>ponds_around3000</th>\n",
       "      <th>ponds_nearest</th>\n",
       "      <th>days_exposition</th>\n",
       "      <th>price_square</th>\n",
       "      <th>day_of_week</th>\n",
       "      <th>number_month</th>\n",
       "      <th>month_publication</th>\n",
       "    </tr>\n",
       "  </thead>\n",
       "  <tbody>\n",
       "    <tr>\n",
       "      <th>0</th>\n",
       "      <td>20</td>\n",
       "      <td>13000000.0</td>\n",
       "      <td>108.0</td>\n",
       "      <td>2019-03-07</td>\n",
       "      <td>3</td>\n",
       "      <td>2.70</td>\n",
       "      <td>16</td>\n",
       "      <td>51.0</td>\n",
       "      <td>8</td>\n",
       "      <td>False</td>\n",
       "      <td>...</td>\n",
       "      <td>16028.0</td>\n",
       "      <td>1.0</td>\n",
       "      <td>482.0</td>\n",
       "      <td>2.0</td>\n",
       "      <td>755.0</td>\n",
       "      <td>NaN</td>\n",
       "      <td>120370.37</td>\n",
       "      <td>3</td>\n",
       "      <td>3</td>\n",
       "      <td>March</td>\n",
       "    </tr>\n",
       "    <tr>\n",
       "      <th>1</th>\n",
       "      <td>7</td>\n",
       "      <td>3350000.0</td>\n",
       "      <td>40.4</td>\n",
       "      <td>2018-12-04</td>\n",
       "      <td>1</td>\n",
       "      <td>2.65</td>\n",
       "      <td>11</td>\n",
       "      <td>18.6</td>\n",
       "      <td>1</td>\n",
       "      <td>False</td>\n",
       "      <td>...</td>\n",
       "      <td>18603.0</td>\n",
       "      <td>0.0</td>\n",
       "      <td>NaN</td>\n",
       "      <td>0.0</td>\n",
       "      <td>NaN</td>\n",
       "      <td>81.0</td>\n",
       "      <td>82920.79</td>\n",
       "      <td>1</td>\n",
       "      <td>12</td>\n",
       "      <td>December</td>\n",
       "    </tr>\n",
       "    <tr>\n",
       "      <th>2</th>\n",
       "      <td>10</td>\n",
       "      <td>5196000.0</td>\n",
       "      <td>56.0</td>\n",
       "      <td>2015-08-20</td>\n",
       "      <td>2</td>\n",
       "      <td>2.65</td>\n",
       "      <td>5</td>\n",
       "      <td>34.3</td>\n",
       "      <td>4</td>\n",
       "      <td>False</td>\n",
       "      <td>...</td>\n",
       "      <td>13933.0</td>\n",
       "      <td>1.0</td>\n",
       "      <td>90.0</td>\n",
       "      <td>2.0</td>\n",
       "      <td>574.0</td>\n",
       "      <td>558.0</td>\n",
       "      <td>92785.71</td>\n",
       "      <td>3</td>\n",
       "      <td>8</td>\n",
       "      <td>August</td>\n",
       "    </tr>\n",
       "    <tr>\n",
       "      <th>3</th>\n",
       "      <td>0</td>\n",
       "      <td>64900000.0</td>\n",
       "      <td>159.0</td>\n",
       "      <td>2015-07-24</td>\n",
       "      <td>3</td>\n",
       "      <td>2.65</td>\n",
       "      <td>14</td>\n",
       "      <td>NaN</td>\n",
       "      <td>9</td>\n",
       "      <td>False</td>\n",
       "      <td>...</td>\n",
       "      <td>6800.0</td>\n",
       "      <td>2.0</td>\n",
       "      <td>84.0</td>\n",
       "      <td>3.0</td>\n",
       "      <td>234.0</td>\n",
       "      <td>424.0</td>\n",
       "      <td>408176.10</td>\n",
       "      <td>4</td>\n",
       "      <td>7</td>\n",
       "      <td>July</td>\n",
       "    </tr>\n",
       "    <tr>\n",
       "      <th>4</th>\n",
       "      <td>2</td>\n",
       "      <td>10000000.0</td>\n",
       "      <td>100.0</td>\n",
       "      <td>2018-06-19</td>\n",
       "      <td>2</td>\n",
       "      <td>3.03</td>\n",
       "      <td>14</td>\n",
       "      <td>32.0</td>\n",
       "      <td>13</td>\n",
       "      <td>False</td>\n",
       "      <td>...</td>\n",
       "      <td>8098.0</td>\n",
       "      <td>2.0</td>\n",
       "      <td>112.0</td>\n",
       "      <td>1.0</td>\n",
       "      <td>48.0</td>\n",
       "      <td>121.0</td>\n",
       "      <td>100000.00</td>\n",
       "      <td>1</td>\n",
       "      <td>6</td>\n",
       "      <td>June</td>\n",
       "    </tr>\n",
       "  </tbody>\n",
       "</table>\n",
       "<p>5 rows × 26 columns</p>\n",
       "</div>"
      ],
      "text/plain": [
       "   total_images  last_price  total_area first_day_exposition  rooms  \\\n",
       "0            20  13000000.0       108.0           2019-03-07      3   \n",
       "1             7   3350000.0        40.4           2018-12-04      1   \n",
       "2            10   5196000.0        56.0           2015-08-20      2   \n",
       "3             0  64900000.0       159.0           2015-07-24      3   \n",
       "4             2  10000000.0       100.0           2018-06-19      2   \n",
       "\n",
       "   ceiling_height  floors_total  living_area  floor  is_apartment  ...  \\\n",
       "0            2.70            16         51.0      8         False  ...   \n",
       "1            2.65            11         18.6      1         False  ...   \n",
       "2            2.65             5         34.3      4         False  ...   \n",
       "3            2.65            14          NaN      9         False  ...   \n",
       "4            3.03            14         32.0     13         False  ...   \n",
       "\n",
       "   city_centers_nearest  parks_around3000  parks_nearest  ponds_around3000  \\\n",
       "0               16028.0               1.0          482.0               2.0   \n",
       "1               18603.0               0.0            NaN               0.0   \n",
       "2               13933.0               1.0           90.0               2.0   \n",
       "3                6800.0               2.0           84.0               3.0   \n",
       "4                8098.0               2.0          112.0               1.0   \n",
       "\n",
       "  ponds_nearest  days_exposition  price_square  day_of_week  number_month  \\\n",
       "0         755.0              NaN     120370.37            3             3   \n",
       "1           NaN             81.0      82920.79            1            12   \n",
       "2         574.0            558.0      92785.71            3             8   \n",
       "3         234.0            424.0     408176.10            4             7   \n",
       "4          48.0            121.0     100000.00            1             6   \n",
       "\n",
       "   month_publication  \n",
       "0              March  \n",
       "1           December  \n",
       "2             August  \n",
       "3               July  \n",
       "4               June  \n",
       "\n",
       "[5 rows x 26 columns]"
      ]
     },
     "execution_count": 20,
     "metadata": {},
     "output_type": "execute_result"
    }
   ],
   "source": [
    "# получим month_number с номером месяца публикации и month_publication с названиями месяцев\n",
    "data['number_month'] = data['first_day_exposition'].dt.month\n",
    "data['month_publication'] = data['first_day_exposition'].dt.month_name()\n",
    "data.head()"
   ]
  },
  {
   "cell_type": "code",
   "execution_count": 21,
   "metadata": {},
   "outputs": [
    {
     "data": {
      "text/html": [
       "<div>\n",
       "<style scoped>\n",
       "    .dataframe tbody tr th:only-of-type {\n",
       "        vertical-align: middle;\n",
       "    }\n",
       "\n",
       "    .dataframe tbody tr th {\n",
       "        vertical-align: top;\n",
       "    }\n",
       "\n",
       "    .dataframe thead th {\n",
       "        text-align: right;\n",
       "    }\n",
       "</style>\n",
       "<table border=\"1\" class=\"dataframe\">\n",
       "  <thead>\n",
       "    <tr style=\"text-align: right;\">\n",
       "      <th></th>\n",
       "      <th>total_images</th>\n",
       "      <th>last_price</th>\n",
       "      <th>total_area</th>\n",
       "      <th>first_day_exposition</th>\n",
       "      <th>rooms</th>\n",
       "      <th>ceiling_height</th>\n",
       "      <th>floors_total</th>\n",
       "      <th>living_area</th>\n",
       "      <th>floor</th>\n",
       "      <th>is_apartment</th>\n",
       "      <th>...</th>\n",
       "      <th>parks_around3000</th>\n",
       "      <th>parks_nearest</th>\n",
       "      <th>ponds_around3000</th>\n",
       "      <th>ponds_nearest</th>\n",
       "      <th>days_exposition</th>\n",
       "      <th>price_square</th>\n",
       "      <th>day_of_week</th>\n",
       "      <th>number_month</th>\n",
       "      <th>month_publication</th>\n",
       "      <th>year_publication</th>\n",
       "    </tr>\n",
       "  </thead>\n",
       "  <tbody>\n",
       "    <tr>\n",
       "      <th>0</th>\n",
       "      <td>20</td>\n",
       "      <td>13000000.0</td>\n",
       "      <td>108.0</td>\n",
       "      <td>2019-03-07</td>\n",
       "      <td>3</td>\n",
       "      <td>2.70</td>\n",
       "      <td>16</td>\n",
       "      <td>51.0</td>\n",
       "      <td>8</td>\n",
       "      <td>False</td>\n",
       "      <td>...</td>\n",
       "      <td>1.0</td>\n",
       "      <td>482.0</td>\n",
       "      <td>2.0</td>\n",
       "      <td>755.0</td>\n",
       "      <td>NaN</td>\n",
       "      <td>120370.37</td>\n",
       "      <td>3</td>\n",
       "      <td>3</td>\n",
       "      <td>March</td>\n",
       "      <td>2019</td>\n",
       "    </tr>\n",
       "    <tr>\n",
       "      <th>1</th>\n",
       "      <td>7</td>\n",
       "      <td>3350000.0</td>\n",
       "      <td>40.4</td>\n",
       "      <td>2018-12-04</td>\n",
       "      <td>1</td>\n",
       "      <td>2.65</td>\n",
       "      <td>11</td>\n",
       "      <td>18.6</td>\n",
       "      <td>1</td>\n",
       "      <td>False</td>\n",
       "      <td>...</td>\n",
       "      <td>0.0</td>\n",
       "      <td>NaN</td>\n",
       "      <td>0.0</td>\n",
       "      <td>NaN</td>\n",
       "      <td>81.0</td>\n",
       "      <td>82920.79</td>\n",
       "      <td>1</td>\n",
       "      <td>12</td>\n",
       "      <td>December</td>\n",
       "      <td>2018</td>\n",
       "    </tr>\n",
       "    <tr>\n",
       "      <th>2</th>\n",
       "      <td>10</td>\n",
       "      <td>5196000.0</td>\n",
       "      <td>56.0</td>\n",
       "      <td>2015-08-20</td>\n",
       "      <td>2</td>\n",
       "      <td>2.65</td>\n",
       "      <td>5</td>\n",
       "      <td>34.3</td>\n",
       "      <td>4</td>\n",
       "      <td>False</td>\n",
       "      <td>...</td>\n",
       "      <td>1.0</td>\n",
       "      <td>90.0</td>\n",
       "      <td>2.0</td>\n",
       "      <td>574.0</td>\n",
       "      <td>558.0</td>\n",
       "      <td>92785.71</td>\n",
       "      <td>3</td>\n",
       "      <td>8</td>\n",
       "      <td>August</td>\n",
       "      <td>2015</td>\n",
       "    </tr>\n",
       "    <tr>\n",
       "      <th>3</th>\n",
       "      <td>0</td>\n",
       "      <td>64900000.0</td>\n",
       "      <td>159.0</td>\n",
       "      <td>2015-07-24</td>\n",
       "      <td>3</td>\n",
       "      <td>2.65</td>\n",
       "      <td>14</td>\n",
       "      <td>NaN</td>\n",
       "      <td>9</td>\n",
       "      <td>False</td>\n",
       "      <td>...</td>\n",
       "      <td>2.0</td>\n",
       "      <td>84.0</td>\n",
       "      <td>3.0</td>\n",
       "      <td>234.0</td>\n",
       "      <td>424.0</td>\n",
       "      <td>408176.10</td>\n",
       "      <td>4</td>\n",
       "      <td>7</td>\n",
       "      <td>July</td>\n",
       "      <td>2015</td>\n",
       "    </tr>\n",
       "    <tr>\n",
       "      <th>4</th>\n",
       "      <td>2</td>\n",
       "      <td>10000000.0</td>\n",
       "      <td>100.0</td>\n",
       "      <td>2018-06-19</td>\n",
       "      <td>2</td>\n",
       "      <td>3.03</td>\n",
       "      <td>14</td>\n",
       "      <td>32.0</td>\n",
       "      <td>13</td>\n",
       "      <td>False</td>\n",
       "      <td>...</td>\n",
       "      <td>2.0</td>\n",
       "      <td>112.0</td>\n",
       "      <td>1.0</td>\n",
       "      <td>48.0</td>\n",
       "      <td>121.0</td>\n",
       "      <td>100000.00</td>\n",
       "      <td>1</td>\n",
       "      <td>6</td>\n",
       "      <td>June</td>\n",
       "      <td>2018</td>\n",
       "    </tr>\n",
       "  </tbody>\n",
       "</table>\n",
       "<p>5 rows × 27 columns</p>\n",
       "</div>"
      ],
      "text/plain": [
       "   total_images  last_price  total_area first_day_exposition  rooms  \\\n",
       "0            20  13000000.0       108.0           2019-03-07      3   \n",
       "1             7   3350000.0        40.4           2018-12-04      1   \n",
       "2            10   5196000.0        56.0           2015-08-20      2   \n",
       "3             0  64900000.0       159.0           2015-07-24      3   \n",
       "4             2  10000000.0       100.0           2018-06-19      2   \n",
       "\n",
       "   ceiling_height  floors_total  living_area  floor  is_apartment  ...  \\\n",
       "0            2.70            16         51.0      8         False  ...   \n",
       "1            2.65            11         18.6      1         False  ...   \n",
       "2            2.65             5         34.3      4         False  ...   \n",
       "3            2.65            14          NaN      9         False  ...   \n",
       "4            3.03            14         32.0     13         False  ...   \n",
       "\n",
       "   parks_around3000  parks_nearest  ponds_around3000  ponds_nearest  \\\n",
       "0               1.0          482.0               2.0          755.0   \n",
       "1               0.0            NaN               0.0            NaN   \n",
       "2               1.0           90.0               2.0          574.0   \n",
       "3               2.0           84.0               3.0          234.0   \n",
       "4               2.0          112.0               1.0           48.0   \n",
       "\n",
       "  days_exposition  price_square  day_of_week  number_month  month_publication  \\\n",
       "0             NaN     120370.37            3             3              March   \n",
       "1            81.0      82920.79            1            12           December   \n",
       "2           558.0      92785.71            3             8             August   \n",
       "3           424.0     408176.10            4             7               July   \n",
       "4           121.0     100000.00            1             6               June   \n",
       "\n",
       "   year_publication  \n",
       "0              2019  \n",
       "1              2018  \n",
       "2              2015  \n",
       "3              2015  \n",
       "4              2018  \n",
       "\n",
       "[5 rows x 27 columns]"
      ]
     },
     "execution_count": 21,
     "metadata": {},
     "output_type": "execute_result"
    }
   ],
   "source": [
    "# получим столбец year_publication\n",
    "data['year_publication'] = data['first_day_exposition'].dt.year\n",
    "data.head()"
   ]
  },
  {
   "cell_type": "code",
   "execution_count": 22,
   "metadata": {},
   "outputs": [
    {
     "data": {
      "text/html": [
       "<div>\n",
       "<style scoped>\n",
       "    .dataframe tbody tr th:only-of-type {\n",
       "        vertical-align: middle;\n",
       "    }\n",
       "\n",
       "    .dataframe tbody tr th {\n",
       "        vertical-align: top;\n",
       "    }\n",
       "\n",
       "    .dataframe thead th {\n",
       "        text-align: right;\n",
       "    }\n",
       "</style>\n",
       "<table border=\"1\" class=\"dataframe\">\n",
       "  <thead>\n",
       "    <tr style=\"text-align: right;\">\n",
       "      <th></th>\n",
       "      <th>total_images</th>\n",
       "      <th>last_price</th>\n",
       "      <th>total_area</th>\n",
       "      <th>first_day_exposition</th>\n",
       "      <th>rooms</th>\n",
       "      <th>ceiling_height</th>\n",
       "      <th>floors_total</th>\n",
       "      <th>living_area</th>\n",
       "      <th>floor</th>\n",
       "      <th>is_apartment</th>\n",
       "      <th>...</th>\n",
       "      <th>parks_nearest</th>\n",
       "      <th>ponds_around3000</th>\n",
       "      <th>ponds_nearest</th>\n",
       "      <th>days_exposition</th>\n",
       "      <th>price_square</th>\n",
       "      <th>day_of_week</th>\n",
       "      <th>number_month</th>\n",
       "      <th>month_publication</th>\n",
       "      <th>year_publication</th>\n",
       "      <th>floor_type</th>\n",
       "    </tr>\n",
       "  </thead>\n",
       "  <tbody>\n",
       "    <tr>\n",
       "      <th>0</th>\n",
       "      <td>20</td>\n",
       "      <td>13000000.0</td>\n",
       "      <td>108.0</td>\n",
       "      <td>2019-03-07</td>\n",
       "      <td>3</td>\n",
       "      <td>2.70</td>\n",
       "      <td>16</td>\n",
       "      <td>51.0</td>\n",
       "      <td>8</td>\n",
       "      <td>False</td>\n",
       "      <td>...</td>\n",
       "      <td>482.0</td>\n",
       "      <td>2.0</td>\n",
       "      <td>755.0</td>\n",
       "      <td>NaN</td>\n",
       "      <td>120370.37</td>\n",
       "      <td>3</td>\n",
       "      <td>3</td>\n",
       "      <td>March</td>\n",
       "      <td>2019</td>\n",
       "      <td>другие</td>\n",
       "    </tr>\n",
       "    <tr>\n",
       "      <th>1</th>\n",
       "      <td>7</td>\n",
       "      <td>3350000.0</td>\n",
       "      <td>40.4</td>\n",
       "      <td>2018-12-04</td>\n",
       "      <td>1</td>\n",
       "      <td>2.65</td>\n",
       "      <td>11</td>\n",
       "      <td>18.6</td>\n",
       "      <td>1</td>\n",
       "      <td>False</td>\n",
       "      <td>...</td>\n",
       "      <td>NaN</td>\n",
       "      <td>0.0</td>\n",
       "      <td>NaN</td>\n",
       "      <td>81.0</td>\n",
       "      <td>82920.79</td>\n",
       "      <td>1</td>\n",
       "      <td>12</td>\n",
       "      <td>December</td>\n",
       "      <td>2018</td>\n",
       "      <td>первый</td>\n",
       "    </tr>\n",
       "    <tr>\n",
       "      <th>2</th>\n",
       "      <td>10</td>\n",
       "      <td>5196000.0</td>\n",
       "      <td>56.0</td>\n",
       "      <td>2015-08-20</td>\n",
       "      <td>2</td>\n",
       "      <td>2.65</td>\n",
       "      <td>5</td>\n",
       "      <td>34.3</td>\n",
       "      <td>4</td>\n",
       "      <td>False</td>\n",
       "      <td>...</td>\n",
       "      <td>90.0</td>\n",
       "      <td>2.0</td>\n",
       "      <td>574.0</td>\n",
       "      <td>558.0</td>\n",
       "      <td>92785.71</td>\n",
       "      <td>3</td>\n",
       "      <td>8</td>\n",
       "      <td>August</td>\n",
       "      <td>2015</td>\n",
       "      <td>другие</td>\n",
       "    </tr>\n",
       "    <tr>\n",
       "      <th>3</th>\n",
       "      <td>0</td>\n",
       "      <td>64900000.0</td>\n",
       "      <td>159.0</td>\n",
       "      <td>2015-07-24</td>\n",
       "      <td>3</td>\n",
       "      <td>2.65</td>\n",
       "      <td>14</td>\n",
       "      <td>NaN</td>\n",
       "      <td>9</td>\n",
       "      <td>False</td>\n",
       "      <td>...</td>\n",
       "      <td>84.0</td>\n",
       "      <td>3.0</td>\n",
       "      <td>234.0</td>\n",
       "      <td>424.0</td>\n",
       "      <td>408176.10</td>\n",
       "      <td>4</td>\n",
       "      <td>7</td>\n",
       "      <td>July</td>\n",
       "      <td>2015</td>\n",
       "      <td>другие</td>\n",
       "    </tr>\n",
       "    <tr>\n",
       "      <th>4</th>\n",
       "      <td>2</td>\n",
       "      <td>10000000.0</td>\n",
       "      <td>100.0</td>\n",
       "      <td>2018-06-19</td>\n",
       "      <td>2</td>\n",
       "      <td>3.03</td>\n",
       "      <td>14</td>\n",
       "      <td>32.0</td>\n",
       "      <td>13</td>\n",
       "      <td>False</td>\n",
       "      <td>...</td>\n",
       "      <td>112.0</td>\n",
       "      <td>1.0</td>\n",
       "      <td>48.0</td>\n",
       "      <td>121.0</td>\n",
       "      <td>100000.00</td>\n",
       "      <td>1</td>\n",
       "      <td>6</td>\n",
       "      <td>June</td>\n",
       "      <td>2018</td>\n",
       "      <td>другие</td>\n",
       "    </tr>\n",
       "  </tbody>\n",
       "</table>\n",
       "<p>5 rows × 28 columns</p>\n",
       "</div>"
      ],
      "text/plain": [
       "   total_images  last_price  total_area first_day_exposition  rooms  \\\n",
       "0            20  13000000.0       108.0           2019-03-07      3   \n",
       "1             7   3350000.0        40.4           2018-12-04      1   \n",
       "2            10   5196000.0        56.0           2015-08-20      2   \n",
       "3             0  64900000.0       159.0           2015-07-24      3   \n",
       "4             2  10000000.0       100.0           2018-06-19      2   \n",
       "\n",
       "   ceiling_height  floors_total  living_area  floor  is_apartment  ...  \\\n",
       "0            2.70            16         51.0      8         False  ...   \n",
       "1            2.65            11         18.6      1         False  ...   \n",
       "2            2.65             5         34.3      4         False  ...   \n",
       "3            2.65            14          NaN      9         False  ...   \n",
       "4            3.03            14         32.0     13         False  ...   \n",
       "\n",
       "   parks_nearest  ponds_around3000  ponds_nearest  days_exposition  \\\n",
       "0          482.0               2.0          755.0              NaN   \n",
       "1            NaN               0.0            NaN             81.0   \n",
       "2           90.0               2.0          574.0            558.0   \n",
       "3           84.0               3.0          234.0            424.0   \n",
       "4          112.0               1.0           48.0            121.0   \n",
       "\n",
       "  price_square  day_of_week  number_month  month_publication  \\\n",
       "0    120370.37            3             3              March   \n",
       "1     82920.79            1            12           December   \n",
       "2     92785.71            3             8             August   \n",
       "3    408176.10            4             7               July   \n",
       "4    100000.00            1             6               June   \n",
       "\n",
       "   year_publication  floor_type  \n",
       "0              2019      другие  \n",
       "1              2018      первый  \n",
       "2              2015      другие  \n",
       "3              2015      другие  \n",
       "4              2018      другие  \n",
       "\n",
       "[5 rows x 28 columns]"
      ]
     },
     "execution_count": 22,
     "metadata": {},
     "output_type": "execute_result"
    }
   ],
   "source": [
    "# создадим колонку для типа этажа квартиры floor_type\n",
    "# создадим функцию для перевода типа этажа\n",
    "    \n",
    "def categoryze_floor(row):\n",
    "    if row['floor'] == 1:\n",
    "        return 'первый'\n",
    "    elif row['floor'] == row['floors_total']:\n",
    "        return 'последний'\n",
    "    else:\n",
    "        return 'другие'\n",
    "\n",
    "data['floor_type'] = data.apply(categoryze_floor, axis=1)    \n",
    "data.head()"
   ]
  },
  {
   "cell_type": "code",
   "execution_count": 23,
   "metadata": {},
   "outputs": [
    {
     "data": {
      "text/plain": [
       "0    16.0\n",
       "1    19.0\n",
       "2    14.0\n",
       "3     7.0\n",
       "4     8.0\n",
       "Name: city_centers_nearest_km, dtype: float64"
      ]
     },
     "execution_count": 23,
     "metadata": {},
     "output_type": "execute_result"
    }
   ],
   "source": [
    "# создадим колонку с расстоянием до центра города в км и округлим\n",
    "data['city_centers_nearest_km'] = round(data['city_centers_nearest']/1000)\n",
    "data['city_centers_nearest_km'].head()"
   ]
  },
  {
   "cell_type": "markdown",
   "metadata": {},
   "source": [
    "Итого добавлены 6 новых колонок: цена за квадратный метр, день недели, месяц и год постановки на продажу, тип этажа, расстояние до центра в км"
   ]
  },
  {
   "cell_type": "markdown",
   "metadata": {},
   "source": [
    "### Проведите исследовательский анализ данных"
   ]
  },
  {
   "cell_type": "markdown",
   "metadata": {},
   "source": [
    "#### Изучите перечисленные ниже параметры объектов и постройте отдельные гистограммы для каждого из этих параметров. В некоторых параметрах встречаются редкие и выбивающиеся значения. При построении гистограмм удалите их. Например, в столбце ceiling_height может быть указана высота потолков 25 м и 32 м. Логично предположить, что на самом деле это вещественные значения: 2.5 м и 3.2 м. Попробуйте обработать аномалии в этом и других столбцах, если они есть. Если природа аномалии понятна и данные действительно искажены, то восстановите    корректное значение. В противном случае удалите редкие и выбивающиеся значения.\n",
    "Список параметров:\n",
    "- общая площадь;\n",
    "- жилая площадь;\n",
    "- площадь кухни;\n",
    "- цена объекта;\n",
    "- количество комнат;\n",
    "- высота потолков;\n",
    "- тип этажа квартиры («первый», «последний», «другой»);\n",
    "- общее количество этажей в доме;\n",
    "- расстояние до центра города в метрах;\n",
    "- расстояние до ближайшего парка"
   ]
  },
  {
   "cell_type": "code",
   "execution_count": 24,
   "metadata": {},
   "outputs": [
    {
     "data": {
      "text/plain": [
       "count    23565.000000\n",
       "mean        60.322824\n",
       "std         35.657060\n",
       "min         12.000000\n",
       "25%         40.000000\n",
       "50%         52.000000\n",
       "75%         69.700000\n",
       "max        900.000000\n",
       "Name: total_area, dtype: float64"
      ]
     },
     "execution_count": 24,
     "metadata": {},
     "output_type": "execute_result"
    },
    {
     "data": {
      "image/png": "[encoded data removed]",
      "text/plain": [
       "<Figure size 432x288 with 1 Axes>"
      ]
     },
     "metadata": {
      "needs_background": "light"
     },
     "output_type": "display_data"
    }
   ],
   "source": [
    "# построим гистограмму для общей площади\n",
    "\n",
    "fig, ax = plt.subplots()\n",
    "ax.hist(data['total_area'], bins=100)\n",
    "ax.set_xlabel('Общая площадь')\n",
    "ax.set_ylabel('Количество')\n",
    "ax.grid(True)\n",
    "ax.set_title('Распределение общих площадей')\n",
    "data['total_area'].describe()"
   ]
  },
  {
   "cell_type": "markdown",
   "metadata": {},
   "source": [
    "Видно, что крайне мало квартир с площадью более 200 метров, также с маленькими квартирами стоит более детально изучить рынок, возьмем примерную границу 25 метров"
   ]
  },
  {
   "cell_type": "code",
   "execution_count": 25,
   "metadata": {},
   "outputs": [
    {
     "name": "stdout",
     "output_type": "stream",
     "text": [
      "230.0    6\n",
      "211.0    5\n",
      "222.0    5\n",
      "214.0    5\n",
      "235.0    5\n",
      "        ..\n",
      "254.0    1\n",
      "210.3    1\n",
      "283.0    1\n",
      "590.0    1\n",
      "259.6    1\n",
      "Name: total_area, Length: 156, dtype: int64\n",
      "226\n",
      "24.00    27\n",
      "23.00    19\n",
      "22.00    16\n",
      "20.00     8\n",
      "18.00     5\n",
      "         ..\n",
      "21.60     1\n",
      "21.10     1\n",
      "24.75     1\n",
      "23.06     1\n",
      "14.00     1\n",
      "Name: total_area, Length: 71, dtype: int64\n",
      "186\n"
     ]
    }
   ],
   "source": [
    "data_more_200 = data.query('total_area > 200')\n",
    "print(data_more_200['total_area'].value_counts())\n",
    "print(len(data_more_200))\n",
    "\n",
    "data_less_25 = data.query('total_area < 25')\n",
    "print(data_less_25['total_area'].value_counts())\n",
    "print(len(data_less_25))"
   ]
  },
  {
   "cell_type": "markdown",
   "metadata": {},
   "source": [
    "Есть отдельные квартиры, с очень большими площадями, что похоже на правду, однако их мало. Со стороны малых квартир видно, что есть достаточно квартир с площадью 22 метра и более, поэтому ограничим данные по площади с 22 до 200 метров "
   ]
  },
  {
   "cell_type": "code",
   "execution_count": 26,
   "metadata": {},
   "outputs": [
    {
     "data": {
      "text/plain": [
       "count    23279.000000\n",
       "mean        58.251977\n",
       "std         26.471442\n",
       "min         22.000000\n",
       "25%         40.000000\n",
       "50%         52.000000\n",
       "75%         69.000000\n",
       "max        200.000000\n",
       "Name: total_area, dtype: float64"
      ]
     },
     "execution_count": 26,
     "metadata": {},
     "output_type": "execute_result"
    },
    {
     "data": {
      "image/png": "[encoded data removed]",
      "text/plain": [
       "<Figure size 432x288 with 1 Axes>"
      ]
     },
     "metadata": {
      "needs_background": "light"
     },
     "output_type": "display_data"
    }
   ],
   "source": [
    "data = data.query('(total_area >= 22) & (total_area <= 200)')\n",
    "#data['total_area'].plot(kind='hist', bins=100, figsize=(8,6), range=(0,200), \n",
    "#                        title='Распределение жилых площадей').set_xlabel('Жилая площадь')\n",
    "fig, ax = plt.subplots()\n",
    "ax.hist(data['total_area'], bins=100)\n",
    "ax.set_xlabel('Общая площадь')\n",
    "ax.set_ylabel('Количество')\n",
    "ax.grid(True)\n",
    "ax.set_title('Распределение общих площадей')\n",
    "data['total_area'].describe()"
   ]
  },
  {
   "cell_type": "markdown",
   "metadata": {},
   "source": [
    "Итого имеем, что график имеет вид близкий к Пуасоновскому, однако есть провал в районе 40 квадратных метров. Большинство квртир имеют площадь от 30 до 65 метров, что похоже на правду."
   ]
  },
  {
   "cell_type": "code",
   "execution_count": 27,
   "metadata": {},
   "outputs": [
    {
     "data": {
      "text/plain": [
       "count    21456.000000\n",
       "mean        33.289897\n",
       "std         17.363147\n",
       "min          2.000000\n",
       "25%         18.600000\n",
       "50%         30.000000\n",
       "75%         42.000000\n",
       "max        164.700000\n",
       "Name: living_area, dtype: float64"
      ]
     },
     "execution_count": 27,
     "metadata": {},
     "output_type": "execute_result"
    },
    {
     "data": {
      "image/png": "[encoded data removed]",
      "text/plain": [
       "<Figure size 432x288 with 1 Axes>"
      ]
     },
     "metadata": {
      "needs_background": "light"
     },
     "output_type": "display_data"
    }
   ],
   "source": [
    "# построим гистограмму для жилой площади\n",
    "#data['living_area'].hist(bins=80, figsize=(8,6))\n",
    "fig, ax = plt.subplots()\n",
    "ax.hist(data['living_area'], bins=80)\n",
    "ax.set_xlabel('Жилая площадь')\n",
    "ax.set_ylabel('Количество')\n",
    "ax.grid(True)\n",
    "ax.set_title('Распределение жилых площадей')\n",
    "data['living_area'].describe()"
   ]
  },
  {
   "cell_type": "markdown",
   "metadata": {},
   "source": [
    "Если сравнивать с гистограммой по общей площади, то видно, что здесь колокол смещен ближе к нулю, что верно, также максимальные значения меньше, чем на предыдущей гистограмме, что тоже верно логически. Также можно отметить наличие локального минимума в 25 метрах, соответствующий так раз примерно 40 метрам в общей площади."
   ]
  },
  {
   "cell_type": "code",
   "execution_count": 28,
   "metadata": {},
   "outputs": [
    {
     "data": {
      "text/plain": [
       "count    21133.000000\n",
       "mean        10.380725\n",
       "std          5.363373\n",
       "min          1.300000\n",
       "25%          7.000000\n",
       "50%          9.000000\n",
       "75%         12.000000\n",
       "max         93.200000\n",
       "Name: kitchen_area, dtype: float64"
      ]
     },
     "execution_count": 28,
     "metadata": {},
     "output_type": "execute_result"
    },
    {
     "data": {
      "image/png": "[encoded data removed]",
      "text/plain": [
       "<Figure size 432x288 with 1 Axes>"
      ]
     },
     "metadata": {
      "needs_background": "light"
     },
     "output_type": "display_data"
    }
   ],
   "source": [
    "# построим гистограмму для площади кухни\n",
    "#data['kitchen_area'].hist(bins=45, figsize=(8, 6))\n",
    "fig, ax = plt.subplots()\n",
    "ax.hist(data['kitchen_area'], bins=45)\n",
    "ax.set_xlabel('Площадь кухни')\n",
    "ax.set_ylabel('Количество')\n",
    "ax.grid(True)\n",
    "ax.set_title('Распределение площадей кухонь')\n",
    "data['kitchen_area'].describe()"
   ]
  },
  {
   "cell_type": "markdown",
   "metadata": {},
   "source": [
    "Колокол в данной гистограмме сильно уже чем в предыдущих графиках, связано с тем, что неважно какая площадь у стандартной квартиры, кухня примерно одинаковая (т.е. что в квартре 35 квадратов, что в квартире 55) "
   ]
  },
  {
   "cell_type": "code",
   "execution_count": 29,
   "metadata": {},
   "outputs": [
    {
     "data": {
      "text/plain": [
       "count    2.327900e+04\n",
       "mean     6.033503e+06\n",
       "std      6.251800e+06\n",
       "min      1.219000e+04\n",
       "25%      3.400000e+06\n",
       "50%      4.600000e+06\n",
       "75%      6.700000e+06\n",
       "max      3.300000e+08\n",
       "Name: last_price, dtype: float64"
      ]
     },
     "execution_count": 29,
     "metadata": {},
     "output_type": "execute_result"
    },
    {
     "data": {
      "image/png": "[encoded data removed]",
      "text/plain": [
       "<Figure size 432x288 with 1 Axes>"
      ]
     },
     "metadata": {
      "needs_background": "light"
     },
     "output_type": "display_data"
    }
   ],
   "source": [
    "# гистограмма для конечной цены\n",
    "#data['last_price'].hist(bins=100, figsize=(8, 6))\n",
    "fig, ax = plt.subplots()\n",
    "ax.hist(data['last_price'], bins=100)\n",
    "ax.set_xlabel('Последняя цена')\n",
    "ax.set_ylabel('Количество')\n",
    "ax.grid(True)\n",
    "ax.set_title('Распределение цен')\n",
    "data['last_price'].describe()"
   ]
  },
  {
   "cell_type": "markdown",
   "metadata": {},
   "source": [
    "Есть квартиры, которые стоят на 2 порядка больше других, это явно выброс, посмотрим сколько больше 30 млн (3е7)"
   ]
  },
  {
   "cell_type": "code",
   "execution_count": 30,
   "metadata": {},
   "outputs": [
    {
     "data": {
      "text/plain": [
       "count    1.840000e+02\n",
       "mean     5.001811e+07\n",
       "std      3.297830e+07\n",
       "min      3.005000e+07\n",
       "25%      3.500000e+07\n",
       "50%      4.000000e+07\n",
       "75%      5.225000e+07\n",
       "max      3.300000e+08\n",
       "Name: last_price, dtype: float64"
      ]
     },
     "execution_count": 30,
     "metadata": {},
     "output_type": "execute_result"
    },
    {
     "data": {
      "image/png": "[encoded data removed]",
      "text/plain": [
       "<Figure size 432x288 with 1 Axes>"
      ]
     },
     "metadata": {
      "needs_background": "light"
     },
     "output_type": "display_data"
    }
   ],
   "source": [
    "data_more_30 = data.query('last_price > 3e7')\n",
    "data_more_30['last_price'].hist(bins=20, range=(3e7, 1e8))\n",
    "data_more_30['last_price'].describe()"
   ]
  },
  {
   "cell_type": "markdown",
   "metadata": {},
   "source": [
    "Ограничимся 40 млн"
   ]
  },
  {
   "cell_type": "code",
   "execution_count": 31,
   "metadata": {},
   "outputs": [
    {
     "data": {
      "text/plain": [
       "count    2.318500e+04\n",
       "mean     5.797346e+06\n",
       "std      4.308388e+06\n",
       "min      1.219000e+04\n",
       "25%      3.400000e+06\n",
       "50%      4.600000e+06\n",
       "75%      6.650000e+06\n",
       "max      3.999000e+07\n",
       "Name: last_price, dtype: float64"
      ]
     },
     "execution_count": 31,
     "metadata": {},
     "output_type": "execute_result"
    },
    {
     "data": {
      "image/png": "[encoded data removed]",
      "text/plain": [
       "<Figure size 432x288 with 1 Axes>"
      ]
     },
     "metadata": {
      "needs_background": "light"
     },
     "output_type": "display_data"
    }
   ],
   "source": [
    "data = data.query('last_price < 40e6')\n",
    "#data['last_price'].hist(bins=100, figsize=(8, 6))\n",
    "fig, ax = plt.subplots()\n",
    "ax.hist(data['total_area'], bins=100)\n",
    "ax.set_xlabel('Последняя цена')\n",
    "ax.set_ylabel('Количество')\n",
    "ax.grid(True)\n",
    "ax.set_title('Распределение цен')\n",
    "data['last_price'].describe()"
   ]
  },
  {
   "cell_type": "markdown",
   "metadata": {},
   "source": [
    "Получаем, что медианная цена за квартиру составляет 4.6 млн рублей, также подавляющее большинство квартир стоит до 7 млн рублей (3 квартиль)"
   ]
  },
  {
   "cell_type": "markdown",
   "metadata": {},
   "source": [
    "Теперь рассмотрим количество комнат"
   ]
  },
  {
   "cell_type": "code",
   "execution_count": 32,
   "metadata": {},
   "outputs": [
    {
     "data": {
      "text/plain": [
       "count    23185.000000\n",
       "mean         2.032435\n",
       "std          0.990936\n",
       "min          0.000000\n",
       "25%          1.000000\n",
       "50%          2.000000\n",
       "75%          3.000000\n",
       "max         11.000000\n",
       "Name: rooms, dtype: float64"
      ]
     },
     "execution_count": 32,
     "metadata": {},
     "output_type": "execute_result"
    },
    {
     "data": {
      "image/png": "[encoded data removed]",
      "text/plain": [
       "<Figure size 432x288 with 1 Axes>"
      ]
     },
     "metadata": {
      "needs_background": "light"
     },
     "output_type": "display_data"
    }
   ],
   "source": [
    "#data['rooms'].hist(bins=12)\n",
    "fig, ax = plt.subplots()\n",
    "ax.hist(data['rooms'], bins=12)\n",
    "ax.set_xlabel('Количество комнат')\n",
    "ax.set_ylabel('Количество')\n",
    "ax.grid(True)\n",
    "ax.set_title('Распределение количества комнат')\n",
    "data['rooms'].describe()"
   ]
  },
  {
   "cell_type": "markdown",
   "metadata": {},
   "source": [
    "Есть странные значения с количеством комнат 0, проверим являются ли они студиями"
   ]
  },
  {
   "cell_type": "code",
   "execution_count": 33,
   "metadata": {},
   "outputs": [
    {
     "name": "stdout",
     "output_type": "stream",
     "text": [
      "122\n",
      "177\n"
     ]
    }
   ],
   "source": [
    "print(len(data[(data['rooms'] == 0) & (data['studio'] == True)]))\n",
    "print(len(data[(data['rooms'] == 0)]))"
   ]
  },
  {
   "cell_type": "code",
   "execution_count": 34,
   "metadata": {},
   "outputs": [],
   "source": [
    "# недвижимость не может быть без комнат, большинство из них это студии, заменим 0 на 1\n",
    "data['rooms'] = data['rooms'].replace(0, 1)"
   ]
  },
  {
   "cell_type": "code",
   "execution_count": 35,
   "metadata": {},
   "outputs": [
    {
     "data": {
      "text/plain": [
       "count    23185.000000\n",
       "mean         2.040069\n",
       "std          0.979028\n",
       "min          1.000000\n",
       "25%          1.000000\n",
       "50%          2.000000\n",
       "75%          3.000000\n",
       "max         11.000000\n",
       "Name: rooms, dtype: float64"
      ]
     },
     "execution_count": 35,
     "metadata": {},
     "output_type": "execute_result"
    },
    {
     "data": {
      "image/png": "[encoded data removed]",
      "text/plain": [
       "<Figure size 432x288 with 1 Axes>"
      ]
     },
     "metadata": {
      "needs_background": "light"
     },
     "output_type": "display_data"
    }
   ],
   "source": [
    "# проверим\n",
    "#data['rooms'].hist(bins=11)\n",
    "fig, ax = plt.subplots()\n",
    "ax.hist(data['rooms'], bins=11)\n",
    "ax.set_xlabel('Количество комнат')\n",
    "ax.set_ylabel('Количество')\n",
    "ax.grid(True)\n",
    "ax.set_title('Распределение количества комнат')\n",
    "data['rooms'].describe()"
   ]
  },
  {
   "cell_type": "code",
   "execution_count": 36,
   "metadata": {},
   "outputs": [
    {
     "name": "stdout",
     "output_type": "stream",
     "text": [
      "0.9376320897131766\n"
     ]
    }
   ],
   "source": [
    "rooms_3 = len(data.query('rooms <= 3'))\n",
    "all_rooms = len(data)\n",
    "print(rooms_3/all_rooms)"
   ]
  },
  {
   "cell_type": "markdown",
   "metadata": {},
   "source": [
    "93,7% квартир это квартиры с менее чем 4 комнатами. Доля 1- и 2- комнатных квартир примерно одинакова, чуть меньше у 3-комнатных."
   ]
  },
  {
   "cell_type": "markdown",
   "metadata": {},
   "source": [
    "Перейдем к высоте потолков"
   ]
  },
  {
   "cell_type": "code",
   "execution_count": 37,
   "metadata": {},
   "outputs": [
    {
     "data": {
      "text/plain": [
       "count    23185.000000\n",
       "mean         2.719103\n",
       "std          0.995915\n",
       "min          1.000000\n",
       "25%          2.600000\n",
       "50%          2.650000\n",
       "75%          2.700000\n",
       "max        100.000000\n",
       "Name: ceiling_height, dtype: float64"
      ]
     },
     "execution_count": 37,
     "metadata": {},
     "output_type": "execute_result"
    },
    {
     "data": {
      "image/png": "[encoded data removed]",
      "text/plain": [
       "<Figure size 432x288 with 1 Axes>"
      ]
     },
     "metadata": {
      "needs_background": "light"
     },
     "output_type": "display_data"
    }
   ],
   "source": [
    "# высота потолков\n",
    "#data['ceiling_height'].hist(bins=100)\n",
    "fig, ax = plt.subplots()\n",
    "ax.hist(data['ceiling_height'], bins=100)\n",
    "ax.set_xlabel('Высота потолков')\n",
    "ax.set_ylabel('Количество')\n",
    "ax.grid(True)\n",
    "ax.set_title('Распределение высоты потолков')\n",
    "data['ceiling_height'].describe()"
   ]
  },
  {
   "cell_type": "markdown",
   "metadata": {},
   "source": [
    "Здесь явно есть выбросы, посмотрим какие вообще значения"
   ]
  },
  {
   "cell_type": "code",
   "execution_count": 38,
   "metadata": {},
   "outputs": [
    {
     "data": {
      "text/plain": [
       "array([  1.  ,   1.2 ,   1.75,   2.  ,   2.2 ,   2.25,   2.3 ,   2.34,\n",
       "         2.4 ,   2.45,   2.46,   2.47,   2.48,   2.49,   2.5 ,   2.51,\n",
       "         2.52,   2.53,   2.54,   2.55,   2.56,   2.57,   2.58,   2.59,\n",
       "         2.6 ,   2.61,   2.62,   2.63,   2.64,   2.65,   2.66,   2.67,\n",
       "         2.68,   2.69,   2.7 ,   2.71,   2.72,   2.73,   2.74,   2.75,\n",
       "         2.76,   2.77,   2.78,   2.79,   2.8 ,   2.81,   2.82,   2.83,\n",
       "         2.84,   2.85,   2.86,   2.87,   2.88,   2.89,   2.9 ,   2.91,\n",
       "         2.92,   2.93,   2.94,   2.95,   2.96,   2.97,   2.98,   2.99,\n",
       "         3.  ,   3.01,   3.02,   3.03,   3.04,   3.05,   3.06,   3.07,\n",
       "         3.08,   3.09,   3.1 ,   3.11,   3.12,   3.13,   3.14,   3.15,\n",
       "         3.16,   3.17,   3.18,   3.2 ,   3.21,   3.22,   3.23,   3.24,\n",
       "         3.25,   3.26,   3.27,   3.28,   3.29,   3.3 ,   3.31,   3.32,\n",
       "         3.33,   3.34,   3.35,   3.36,   3.37,   3.38,   3.39,   3.4 ,\n",
       "         3.42,   3.43,   3.44,   3.45,   3.46,   3.47,   3.48,   3.49,\n",
       "         3.5 ,   3.51,   3.52,   3.53,   3.54,   3.55,   3.56,   3.57,\n",
       "         3.58,   3.59,   3.6 ,   3.62,   3.63,   3.65,   3.66,   3.67,\n",
       "         3.68,   3.7 ,   3.75,   3.78,   3.8 ,   3.83,   3.84,   3.85,\n",
       "         3.88,   3.9 ,   3.93,   3.95,   3.98,   4.  ,   4.06,   4.1 ,\n",
       "         4.14,   4.15,   4.19,   4.2 ,   4.25,   4.3 ,   4.37,   4.4 ,\n",
       "         4.5 ,   4.7 ,   4.8 ,   5.  ,   5.3 ,   5.5 ,   5.8 ,   8.  ,\n",
       "         8.3 ,  10.3 ,  14.  ,  20.  ,  22.6 ,  24.  ,  25.  ,  26.  ,\n",
       "        27.  ,  27.5 ,  32.  , 100.  ])"
      ]
     },
     "execution_count": 38,
     "metadata": {},
     "output_type": "execute_result"
    }
   ],
   "source": [
    "data['ceiling_height'].sort_values().unique()"
   ]
  },
  {
   "cell_type": "markdown",
   "metadata": {},
   "source": [
    "Значения больше 10 метров заменим на поделенные на 10 (25 -> 2.5), затем посмотрим сколько с потолками больше 4 метров и меньше 2.5"
   ]
  },
  {
   "cell_type": "code",
   "execution_count": 39,
   "metadata": {},
   "outputs": [
    {
     "data": {
      "text/plain": [
       "array([1.  , 1.03, 1.2 , 1.4 , 1.75, 2.  , 2.2 , 2.25, 2.26, 2.3 , 2.34,\n",
       "       2.4 , 2.45, 2.46, 2.47, 2.48, 2.49, 2.5 , 2.51, 2.52, 2.53, 2.54,\n",
       "       2.55, 2.56, 2.57, 2.58, 2.59, 2.6 , 2.61, 2.62, 2.63, 2.64, 2.65,\n",
       "       2.66, 2.67, 2.68, 2.69, 2.7 , 2.71, 2.72, 2.73, 2.74, 2.75, 2.76,\n",
       "       2.77, 2.78, 2.79, 2.8 , 2.81, 2.82, 2.83, 2.84, 2.85, 2.86, 2.87,\n",
       "       2.88, 2.89, 2.9 , 2.91, 2.92, 2.93, 2.94, 2.95, 2.96, 2.97, 2.98,\n",
       "       2.99, 3.  , 3.01, 3.02, 3.03, 3.04, 3.05, 3.06, 3.07, 3.08, 3.09,\n",
       "       3.1 , 3.11, 3.12, 3.13, 3.14, 3.15, 3.16, 3.17, 3.18, 3.2 , 3.21,\n",
       "       3.22, 3.23, 3.24, 3.25, 3.26, 3.27, 3.28, 3.29, 3.3 , 3.31, 3.32,\n",
       "       3.33, 3.34, 3.35, 3.36, 3.37, 3.38, 3.39, 3.4 , 3.42, 3.43, 3.44,\n",
       "       3.45, 3.46, 3.47, 3.48, 3.49, 3.5 , 3.51, 3.52, 3.53, 3.54, 3.55,\n",
       "       3.56, 3.57, 3.58, 3.59, 3.6 , 3.62, 3.63, 3.65, 3.66, 3.67, 3.68,\n",
       "       3.7 , 3.75, 3.78, 3.8 , 3.83, 3.84, 3.85, 3.88, 3.9 , 3.93, 3.95,\n",
       "       3.98, 4.  , 4.06, 4.1 , 4.14, 4.15, 4.19, 4.2 , 4.25, 4.3 , 4.37,\n",
       "       4.4 , 4.5 , 4.7 , 4.8 , 5.  , 5.3 , 5.5 , 5.8 , 8.  , 8.3 ])"
      ]
     },
     "execution_count": 39,
     "metadata": {},
     "output_type": "execute_result"
    }
   ],
   "source": [
    "# Проведем замену\n",
    "data['ceiling_height'] = data['ceiling_height'].apply(lambda x: x/10 if (x>=10 and x <35) else (x/100 if x > 35 else x))\n",
    "data['ceiling_height'].sort_values().unique()"
   ]
  },
  {
   "cell_type": "markdown",
   "metadata": {},
   "source": [
    "Есть квартиры с явно очень высокими потолками, они не явяются типичными и явно выбиваются. Посмотрим сколько больше 3.5 метров имеют. Аналогично с низкими потолками, посмотрим сколько ниже 2.6"
   ]
  },
  {
   "cell_type": "code",
   "execution_count": 40,
   "metadata": {},
   "outputs": [
    {
     "name": "stdout",
     "output_type": "stream",
     "text": [
      "3.60    33\n",
      "4.00    30\n",
      "3.70    26\n",
      "3.80    19\n",
      "3.55    14\n",
      "3.90     9\n",
      "4.20     9\n",
      "3.75     7\n",
      "3.95     7\n",
      "4.50     6\n",
      "3.54     5\n",
      "3.65     4\n",
      "3.56     4\n",
      "3.52     3\n",
      "8.00     3\n",
      "3.63     3\n",
      "3.78     3\n",
      "3.67     3\n",
      "3.66     2\n",
      "4.10     2\n",
      "3.53     2\n",
      "3.62     2\n",
      "4.19     2\n",
      "3.88     1\n",
      "4.06     1\n",
      "3.83     1\n",
      "8.30     1\n",
      "3.85     1\n",
      "4.14     1\n",
      "5.00     1\n",
      "4.37     1\n",
      "5.50     1\n",
      "3.93     1\n",
      "3.68     1\n",
      "3.84     1\n",
      "4.25     1\n",
      "3.59     1\n",
      "5.30     1\n",
      "3.58     1\n",
      "3.98     1\n",
      "3.57     1\n",
      "4.70     1\n",
      "4.15     1\n",
      "4.40     1\n",
      "4.80     1\n",
      "5.80     1\n",
      "3.51     1\n",
      "4.30     1\n",
      "Name: ceiling_height, dtype: int64\n",
      "223\n",
      "2.50    3514\n",
      "2.55     979\n",
      "2.56     139\n",
      "2.57     102\n",
      "2.54      83\n",
      "2.52      78\n",
      "2.53      67\n",
      "2.58      63\n",
      "2.51      34\n",
      "2.40      24\n",
      "2.45      15\n",
      "2.59      14\n",
      "2.00      12\n",
      "2.48       8\n",
      "2.30       4\n",
      "2.47       3\n",
      "2.46       2\n",
      "1.00       2\n",
      "1.03       1\n",
      "2.49       1\n",
      "2.20       1\n",
      "2.25       1\n",
      "1.20       1\n",
      "2.26       1\n",
      "1.75       1\n",
      "2.34       1\n",
      "1.40       1\n",
      "Name: ceiling_height, dtype: int64\n",
      "5152\n"
     ]
    }
   ],
   "source": [
    "data_more_35 = data.query('ceiling_height > 3.5')\n",
    "print(data_more_35['ceiling_height'].value_counts())\n",
    "print(len(data_more_35))\n",
    "\n",
    "data_less_26 = data.query('ceiling_height < 2.6')\n",
    "print(data_less_26['ceiling_height'].value_counts())\n",
    "print(len(data_less_26))"
   ]
  },
  {
   "cell_type": "markdown",
   "metadata": {},
   "source": [
    "Квартир с потолками выше 4 и ниже 2.5 метров практически нет, поэтому выбросим эти данные"
   ]
  },
  {
   "cell_type": "code",
   "execution_count": 41,
   "metadata": {},
   "outputs": [
    {
     "data": {
      "text/plain": [
       "array([2.5 , 2.51, 2.52, 2.53, 2.54, 2.55, 2.56, 2.57, 2.58, 2.59, 2.6 ,\n",
       "       2.61, 2.62, 2.63, 2.64, 2.65, 2.66, 2.67, 2.68, 2.69, 2.7 , 2.71,\n",
       "       2.72, 2.73, 2.74, 2.75, 2.76, 2.77, 2.78, 2.79, 2.8 , 2.81, 2.82,\n",
       "       2.83, 2.84, 2.85, 2.86, 2.87, 2.88, 2.89, 2.9 , 2.91, 2.92, 2.93,\n",
       "       2.94, 2.95, 2.96, 2.97, 2.98, 2.99, 3.  , 3.01, 3.02, 3.03, 3.04,\n",
       "       3.05, 3.06, 3.07, 3.08, 3.09, 3.1 , 3.11, 3.12, 3.13, 3.14, 3.15,\n",
       "       3.16, 3.17, 3.18, 3.2 , 3.21, 3.22, 3.23, 3.24, 3.25, 3.26, 3.27,\n",
       "       3.28, 3.29, 3.3 , 3.31, 3.32, 3.33, 3.34, 3.35, 3.36, 3.37, 3.38,\n",
       "       3.39, 3.4 , 3.42, 3.43, 3.44, 3.45, 3.46, 3.47, 3.48, 3.49, 3.5 ,\n",
       "       3.51, 3.52, 3.53, 3.54, 3.55, 3.56, 3.57, 3.58, 3.59, 3.6 , 3.62,\n",
       "       3.63, 3.65, 3.66, 3.67, 3.68, 3.7 , 3.75, 3.78, 3.8 , 3.83, 3.84,\n",
       "       3.85, 3.88, 3.9 , 3.93, 3.95, 3.98, 4.  ])"
      ]
     },
     "execution_count": 41,
     "metadata": {},
     "output_type": "execute_result"
    }
   ],
   "source": [
    "data = data.query('ceiling_height >= 2.5 & ceiling_height <=4')\n",
    "data['ceiling_height'].sort_values().unique()"
   ]
  },
  {
   "cell_type": "code",
   "execution_count": 42,
   "metadata": {},
   "outputs": [
    {
     "data": {
      "text/plain": [
       "count    23070.000000\n",
       "mean         2.689678\n",
       "std          0.195927\n",
       "min          2.500000\n",
       "25%          2.600000\n",
       "50%          2.650000\n",
       "75%          2.700000\n",
       "max          4.000000\n",
       "Name: ceiling_height, dtype: float64"
      ]
     },
     "execution_count": 42,
     "metadata": {},
     "output_type": "execute_result"
    },
    {
     "data": {
      "image/png": "[encoded data removed]",
      "text/plain": [
       "<Figure size 432x288 with 1 Axes>"
      ]
     },
     "metadata": {
      "needs_background": "light"
     },
     "output_type": "display_data"
    }
   ],
   "source": [
    "# посмотрим высоту потолков после обработки столбца\n",
    "#data['ceiling_height'].hist(bins=30)\n",
    "fig, ax = plt.subplots()\n",
    "ax.hist(data['ceiling_height'], bins=30)\n",
    "ax.set_xlabel('Высота потолков')\n",
    "ax.set_ylabel('Количество')\n",
    "ax.grid(True)\n",
    "ax.set_title('Распределение высоты потолков')\n",
    "data['ceiling_height'].describe()"
   ]
  },
  {
   "cell_type": "markdown",
   "metadata": {},
   "source": [
    "Здесь явно повлияло на гистограмму то, что пропуски были заполнены медианными значениями. Однако даже без этого большинство квартир имело высоту потолков ниже 2.9 метра и выше 2.5."
   ]
  },
  {
   "cell_type": "markdown",
   "metadata": {},
   "source": [
    "Рассмотрим тип этажа квартиры"
   ]
  },
  {
   "cell_type": "code",
   "execution_count": 43,
   "metadata": {},
   "outputs": [
    {
     "data": {
      "text/plain": [
       "count      23070\n",
       "unique         3\n",
       "top       другие\n",
       "freq       17007\n",
       "Name: floor_type, dtype: object"
      ]
     },
     "execution_count": 43,
     "metadata": {},
     "output_type": "execute_result"
    },
    {
     "data": {
      "image/png": "[encoded data removed]",
      "text/plain": [
       "<Figure size 432x288 with 1 Axes>"
      ]
     },
     "metadata": {
      "needs_background": "light"
     },
     "output_type": "display_data"
    }
   ],
   "source": [
    "# тип этажа квартиры\n",
    "#data['floor_type'].hist()\n",
    "fig, ax = plt.subplots()\n",
    "ax.hist(data['floor_type'])\n",
    "ax.set_xlabel('Тип этажа')\n",
    "ax.set_ylabel('Количество')\n",
    "ax.grid(True)\n",
    "ax.set_title('Распределение количества по типу этажа')\n",
    "data['floor_type'].describe()"
   ]
  },
  {
   "cell_type": "markdown",
   "metadata": {},
   "source": [
    "Вполне логично, что большинство квартир имеют тип другие, однако очень много и других типов, если учесть, что разброс в типе \"другие\" может составлять до 30 этажей"
   ]
  },
  {
   "cell_type": "markdown",
   "metadata": {},
   "source": [
    "Рассмотрим общее число этажей"
   ]
  },
  {
   "cell_type": "code",
   "execution_count": 44,
   "metadata": {},
   "outputs": [
    {
     "data": {
      "text/plain": [
       "count    23070.000000\n",
       "mean        10.746164\n",
       "std          6.613286\n",
       "min          1.000000\n",
       "25%          5.000000\n",
       "50%          9.000000\n",
       "75%         16.000000\n",
       "max         60.000000\n",
       "Name: floors_total, dtype: float64"
      ]
     },
     "execution_count": 44,
     "metadata": {},
     "output_type": "execute_result"
    },
    {
     "data": {
      "image/png": "[encoded data removed]",
      "text/plain": [
       "<Figure size 432x288 with 1 Axes>"
      ]
     },
     "metadata": {
      "needs_background": "light"
     },
     "output_type": "display_data"
    }
   ],
   "source": [
    "# общее число этажей\n",
    "#data['floors_total'].hist()\n",
    "fig, ax = plt.subplots()\n",
    "ax.hist(data['floors_total'])\n",
    "ax.set_xlabel('Этажность дома')\n",
    "ax.set_ylabel('Количество')\n",
    "ax.grid(True)\n",
    "ax.set_title('Распределение количества по этажности дома')\n",
    "data['floors_total'].describe()"
   ]
  },
  {
   "cell_type": "markdown",
   "metadata": {},
   "source": [
    "Посмотрим сколько каких значений более детально"
   ]
  },
  {
   "cell_type": "code",
   "execution_count": 45,
   "metadata": {},
   "outputs": [
    {
     "data": {
      "text/plain": [
       "29       1\n",
       "33       1\n",
       "60       1\n",
       "34       1\n",
       "52       1\n",
       "36       3\n",
       "28      21\n",
       "1       23\n",
       "35      24\n",
       "26     123\n",
       "21     158\n",
       "27     164\n",
       "11     198\n",
       "13     227\n",
       "20     268\n",
       "22     284\n",
       "19     331\n",
       "8      345\n",
       "23     348\n",
       "15     363\n",
       "2      369\n",
       "24     460\n",
       "18     498\n",
       "14     548\n",
       "7      554\n",
       "3      636\n",
       "17     825\n",
       "6      840\n",
       "25    1073\n",
       "4     1149\n",
       "10    1164\n",
       "12    1344\n",
       "16    1363\n",
       "9     3724\n",
       "5     5638\n",
       "Name: floors_total, dtype: int64"
      ]
     },
     "execution_count": 45,
     "metadata": {},
     "output_type": "execute_result"
    }
   ],
   "source": [
    "data['floors_total'].value_counts(sort =True, ascending = True)"
   ]
  },
  {
   "cell_type": "markdown",
   "metadata": {},
   "source": [
    "Из полученных данных можно провести границу в 27 этажей для типичных домов"
   ]
  },
  {
   "cell_type": "code",
   "execution_count": 46,
   "metadata": {},
   "outputs": [
    {
     "data": {
      "text/plain": [
       "count    23017.000000\n",
       "mean        10.695138\n",
       "std          6.528911\n",
       "min          1.000000\n",
       "25%          5.000000\n",
       "50%          9.000000\n",
       "75%         16.000000\n",
       "max         27.000000\n",
       "Name: floors_total, dtype: float64"
      ]
     },
     "execution_count": 46,
     "metadata": {},
     "output_type": "execute_result"
    },
    {
     "data": {
      "image/png": "[encoded data removed]",
      "text/plain": [
       "<Figure size 432x288 with 1 Axes>"
      ]
     },
     "metadata": {
      "needs_background": "light"
     },
     "output_type": "display_data"
    }
   ],
   "source": [
    "data = data.query('floors_total <= 27')\n",
    "#data['floors_total'].hist(bins = 27)\n",
    "fig, ax = plt.subplots()\n",
    "ax.hist(data['floors_total'], bins=27)\n",
    "ax.set_xlabel('Этажность')\n",
    "ax.set_ylabel('Количество')\n",
    "ax.grid(True)\n",
    "ax.set_title('Распределение количества по этажности дома')\n",
    "data['floors_total'].describe()"
   ]
  },
  {
   "cell_type": "markdown",
   "metadata": {},
   "source": [
    "На графике есть несколько пиков, они соответствуют типовым домам, 5-этажкам, 9-этажкам, 12, 16 и 25 этажкам"
   ]
  },
  {
   "cell_type": "markdown",
   "metadata": {},
   "source": [
    "Рассмотрим расстояние до центра"
   ]
  },
  {
   "cell_type": "code",
   "execution_count": 47,
   "metadata": {},
   "outputs": [
    {
     "data": {
      "text/plain": [
       "count    17590.000000\n",
       "mean     14333.313417\n",
       "std       8593.411219\n",
       "min        181.000000\n",
       "25%       9550.250000\n",
       "50%      13180.500000\n",
       "75%      16315.750000\n",
       "max      65968.000000\n",
       "Name: city_centers_nearest, dtype: float64"
      ]
     },
     "execution_count": 47,
     "metadata": {},
     "output_type": "execute_result"
    },
    {
     "data": {
      "image/png": "[encoded data removed]",
      "text/plain": [
       "<Figure size 432x288 with 1 Axes>"
      ]
     },
     "metadata": {
      "needs_background": "light"
     },
     "output_type": "display_data"
    }
   ],
   "source": [
    "# расстояние до центра в метрах\n",
    "#data['city_centers_nearest'].hist(bins=30)\n",
    "fig, ax = plt.subplots()\n",
    "ax.hist(data['city_centers_nearest'], bins=30)\n",
    "ax.set_xlabel('Расстояние до центра')\n",
    "ax.set_ylabel('Количество')\n",
    "ax.grid(True)\n",
    "ax.set_title('Распределение количества от расстояния до центра')\n",
    "data['city_centers_nearest'].describe()"
   ]
  },
  {
   "cell_type": "code",
   "execution_count": 48,
   "metadata": {},
   "outputs": [
    {
     "name": "stdout",
     "output_type": "stream",
     "text": [
      "66.0    3\n",
      "65.0    2\n",
      "61.0    1\n",
      "63.0    1\n",
      "62.0    1\n",
      "Name: city_centers_nearest_km, dtype: int64\n",
      "8\n",
      "574      поселок Молодежное\n",
      "2961            Зеленогорск\n",
      "5191     поселок Молодежное\n",
      "5313     поселок Молодежное\n",
      "9594     поселок Молодежное\n",
      "16476             Ломоносов\n",
      "18780           Зеленогорск\n",
      "20629    поселок Молодежное\n",
      "Name: locality_name, dtype: object\n"
     ]
    }
   ],
   "source": [
    "#  Интереса ради глянем что там за локальный максимум в 60+ км\n",
    "data_more_60km = data.query('city_centers_nearest_km > 60')\n",
    "print(data_more_60km['city_centers_nearest_km'].value_counts())\n",
    "print(len(data_more_60km))\n",
    "print(data_more_60km['locality_name'])"
   ]
  },
  {
   "cell_type": "markdown",
   "metadata": {},
   "source": [
    "Скорее всего большинство квартир за 30 км указывают не на тот центр города, в котором они находятся, а на Санкт-Петербург. \n",
    "\n",
    "(P.s. можно заменить на медианные значения этих населенных пунктов, но не уверен, что это хорошая идея)\n",
    "\n",
    "В целом большинство квартир продается в радиусе 15 км, скорее всего это спальные районы Петербурга, в которых наибольшее число квартир"
   ]
  },
  {
   "cell_type": "markdown",
   "metadata": {},
   "source": [
    "Теперь расстояние до ближайшего парка"
   ]
  },
  {
   "cell_type": "code",
   "execution_count": 49,
   "metadata": {},
   "outputs": [
    {
     "data": {
      "text/plain": [
       "count    7733.000000\n",
       "mean      493.199276\n",
       "std       343.608942\n",
       "min         1.000000\n",
       "25%       288.000000\n",
       "50%       456.000000\n",
       "75%       614.000000\n",
       "max      3190.000000\n",
       "Name: parks_nearest, dtype: float64"
      ]
     },
     "execution_count": 49,
     "metadata": {},
     "output_type": "execute_result"
    },
    {
     "data": {
      "image/png": "[encoded data removed]",
      "text/plain": [
       "<Figure size 432x288 with 1 Axes>"
      ]
     },
     "metadata": {
      "needs_background": "light"
     },
     "output_type": "display_data"
    }
   ],
   "source": [
    "# расстояние до ближайшего парка\n",
    "#data['parks_nearest'].hist(bins=30, figsize=(8, 6))\n",
    "fig, ax = plt.subplots()\n",
    "ax.hist(data['parks_nearest'], bins=30)\n",
    "ax.set_xlabel('Расстояние до парка')\n",
    "ax.set_ylabel('Количество')\n",
    "ax.grid(True)\n",
    "ax.set_title('Распределение количества от расстояния до парка')\n",
    "data['parks_nearest'].describe()"
   ]
  },
  {
   "cell_type": "markdown",
   "metadata": {},
   "source": [
    "Большинство квартир в пешей доступности от парков (600 метров), график имеет нормальный пуассоновский вид "
   ]
  },
  {
   "cell_type": "markdown",
   "metadata": {},
   "source": [
    "#### Изучите, как быстро продавались квартиры (столбец days_exposition). Этот параметр показывает, сколько дней было размещено каждое объявление.\n",
    "- Постройте гистограмму.\n",
    "- Посчитайте среднее и медиану.\n",
    "\n",
    "В ячейке типа markdown опишите, сколько времени обычно занимает продажа. Какие продажи можно считать быстрыми, а какие — необычно долгими?"
   ]
  },
  {
   "cell_type": "code",
   "execution_count": 50,
   "metadata": {},
   "outputs": [
    {
     "data": {
      "text/plain": [
       "count    19954.000000\n",
       "mean       179.244011\n",
       "std        218.150736\n",
       "min          1.000000\n",
       "25%         45.000000\n",
       "50%         95.000000\n",
       "75%        228.000000\n",
       "max       1580.000000\n",
       "Name: days_exposition, dtype: float64"
      ]
     },
     "execution_count": 50,
     "metadata": {},
     "output_type": "execute_result"
    },
    {
     "data": {
      "image/png": "[encoded data removed]",
      "text/plain": [
       "<Figure size 432x288 with 1 Axes>"
      ]
     },
     "metadata": {
      "needs_background": "light"
     },
     "output_type": "display_data"
    }
   ],
   "source": [
    "# создадим отдельный дф, где квартиры уже проданы наверняка (т.е. нет выбросов)\n",
    "data_sold = data.copy()\n",
    "data_sold = data_sold.dropna(subset=['days_exposition']).reset_index(drop=True)\n",
    "#data_sold['days_exposition'].hist(bins=100)\n",
    "fig, ax = plt.subplots()\n",
    "ax.hist(data['days_exposition'], bins=100)\n",
    "ax.set_xlabel('Количество дней')\n",
    "ax.set_ylabel('Количество квартир')\n",
    "ax.grid(True)\n",
    "ax.set_title('Распределение количества квартир от дней')\n",
    "data_sold['days_exposition'].describe()"
   ]
  },
  {
   "cell_type": "markdown",
   "metadata": {},
   "source": [
    "Медианное значение 95 дней, а среднее 179, т.е. почти в 2 раза отличается. При этом есть значения больше 1000 дней, т.е. более 3 лет люди продавали квартиру, что звучит крайне странно, возможно люди забывали снять объявление. Рассмотрим более детально данные до 3 квартиля (229 дней)"
   ]
  },
  {
   "cell_type": "code",
   "execution_count": 51,
   "metadata": {},
   "outputs": [
    {
     "data": {
      "text/plain": [
       "Text(0.5, 1.0, 'Распределение количества квартир от дней')"
      ]
     },
     "execution_count": 51,
     "metadata": {},
     "output_type": "execute_result"
    },
    {
     "data": {
      "image/png": "[encoded data removed]",
      "text/plain": [
       "<Figure size 432x288 with 1 Axes>"
      ]
     },
     "metadata": {
      "needs_background": "light"
     },
     "output_type": "display_data"
    }
   ],
   "source": [
    "#data_sold['days_exposition'].hist(bins=100, range=(1, 229))\n",
    "#data_sold['days_exposition'].describe()\n",
    "fig, ax = plt.subplots()\n",
    "ax.hist(data['days_exposition'], bins=100, range=(1, 229))\n",
    "ax.set_xlabel('Количество дней')\n",
    "ax.set_ylabel('Количество квартир')\n",
    "ax.grid(True)\n",
    "ax.set_title('Распределение количества квартир от дней')"
   ]
  },
  {
   "cell_type": "code",
   "execution_count": 52,
   "metadata": {},
   "outputs": [
    {
     "data": {
      "text/plain": [
       "45.0      864\n",
       "60.0      537\n",
       "7.0       229\n",
       "30.0      204\n",
       "90.0      184\n",
       "         ... \n",
       "1148.0      1\n",
       "1345.0      1\n",
       "994.0       1\n",
       "671.0       1\n",
       "1174.0      1\n",
       "Name: days_exposition, Length: 1129, dtype: int64"
      ]
     },
     "execution_count": 52,
     "metadata": {},
     "output_type": "execute_result"
    }
   ],
   "source": [
    "data_sold['days_exposition'].value_counts()"
   ]
  },
  {
   "cell_type": "markdown",
   "metadata": {},
   "source": [
    "В топе дней находятся кратные числа каким-либо временным промежутка (неделя, месяц...), значит либо люди использовали какие-то премиум-аккаунты, позволяющие вывести квартиры в топ, либо люди оплачивали работу риелторов на данные сроки, после чего квартиру снимали с продажи. Вполне возможно в датафрейме есть неявные дубликаты, отличающиеся только колонками с датами, но тогда есть вероятность, не зная точного адреса квартиры, удалить квартиры, не являющиеся одними и теми же. \n",
    "В целом динамика продаж такова, что чем дольше стоит квартира, тем меньше шансов ее продать и надо что-то делать с объявлением продавцу.\n",
    "Дать характеристику быстрым продажам и долгим затруднительно, можно принять за критерии 1 и 3 квартили (45 и 228 дней соотвтественно)"
   ]
  },
  {
   "cell_type": "markdown",
   "metadata": {},
   "source": [
    "#### Какие факторы больше всего влияют на общую (полную) стоимость объекта?\n",
    "Изучите, зависит ли цена от:\n",
    "- общей площади;\n",
    "- жилой площади;\n",
    "- площади кухни;\n",
    "- количества комнат;\n",
    "- этажа, на котором расположена квартира (первый, последний, другой);\n",
    "- даты размещения (день недели, месяц, год).\n",
    "\n",
    "Постройте графики, которые покажут зависимость цены от указанных выше параметров. Для подготовки данных перед визуализацией вы можете использовать сводные таблицы."
   ]
  },
  {
   "cell_type": "markdown",
   "metadata": {},
   "source": [
    "Изучим зависимость цены от общей площади"
   ]
  },
  {
   "cell_type": "code",
   "execution_count": 53,
   "metadata": {},
   "outputs": [
    {
     "data": {
      "text/plain": [
       "0.7749756087109754"
      ]
     },
     "execution_count": 53,
     "metadata": {},
     "output_type": "execute_result"
    },
    {
     "data": {
      "image/png": "[encoded data removed]",
      "text/plain": [
       "<Figure size 432x288 with 1 Axes>"
      ]
     },
     "metadata": {
      "needs_background": "light"
     },
     "output_type": "display_data"
    }
   ],
   "source": [
    "# создадим сводную таблицу с медианным значением, также посчитаем корреляцию\n",
    "data_area = data.pivot_table(index='total_area', values='last_price', aggfunc=['median', 'mean', 'count'])\n",
    "data_area.columns = ['median', 'mean', 'count']\n",
    "data_area.plot(y='median', style='o', grid=True, title='Зависимость медианной цены от площади', \n",
    "               ylabel='Цена', xlabel='Общая площадь')\n",
    "data['total_area'].corr(data['last_price'])"
   ]
  },
  {
   "cell_type": "markdown",
   "metadata": {},
   "source": [
    "0.77 это сильный эффект корреляции, значит есть сильная зависимость цены квартиры от ее площади, чем больше площадь, тем больше и цена"
   ]
  },
  {
   "cell_type": "markdown",
   "metadata": {},
   "source": [
    "Теперь посчитаем цену от жилой площади"
   ]
  },
  {
   "cell_type": "code",
   "execution_count": 54,
   "metadata": {},
   "outputs": [
    {
     "data": {
      "text/plain": [
       "0.6634226685319642"
      ]
     },
     "execution_count": 54,
     "metadata": {},
     "output_type": "execute_result"
    },
    {
     "data": {
      "image/png": "[encoded data removed]",
      "text/plain": [
       "<Figure size 432x288 with 1 Axes>"
      ]
     },
     "metadata": {
      "needs_background": "light"
     },
     "output_type": "display_data"
    }
   ],
   "source": [
    "data_area = data.pivot_table(index='living_area', values='last_price', aggfunc=['median', 'mean', 'count'])\n",
    "data_area.columns = ['median', 'mean', 'count']\n",
    "data_area.plot(y='median', style='o', grid=True, title='Распределение медианной цены от жилой площади',\n",
    "               ylabel='Цена', xlabel='Жилая площадь')\n",
    "data['living_area'].corr(data['last_price'])"
   ]
  },
  {
   "cell_type": "markdown",
   "metadata": {},
   "source": [
    "0.66 - тоже достаточно сильная зависимость, чем больше площадь, тем больше цена"
   ]
  },
  {
   "cell_type": "markdown",
   "metadata": {},
   "source": [
    "Теперь зависимость от площади кухни"
   ]
  },
  {
   "cell_type": "code",
   "execution_count": 55,
   "metadata": {},
   "outputs": [
    {
     "data": {
      "text/plain": [
       "0.5896374536296166"
      ]
     },
     "execution_count": 55,
     "metadata": {},
     "output_type": "execute_result"
    },
    {
     "data": {
      "image/png": "[encoded data removed]",
      "text/plain": [
       "<Figure size 432x288 with 1 Axes>"
      ]
     },
     "metadata": {
      "needs_background": "light"
     },
     "output_type": "display_data"
    }
   ],
   "source": [
    "data_area = data.pivot_table(index='kitchen_area', values='last_price', aggfunc=['median', 'mean', 'count'])\n",
    "data_area.columns = ['median', 'mean', 'count']\n",
    "data_area.plot(y='median', style='o', grid=True, title='Зависимость медианной цены от площади кухни', \n",
    "               ylabel='Цена', xlabel='Площадь кухни')\n",
    "data['kitchen_area'].corr(data['last_price'])"
   ]
  },
  {
   "cell_type": "markdown",
   "metadata": {},
   "source": [
    "0.59 средняя зависимость. Такое уменьшение корреляции связано с тем, что у многих квартир с разным метражом примерно одинаковая площадь кухни"
   ]
  },
  {
   "cell_type": "markdown",
   "metadata": {},
   "source": [
    "Исследуем зависимость цены от количества комнат"
   ]
  },
  {
   "cell_type": "code",
   "execution_count": 56,
   "metadata": {},
   "outputs": [
    {
     "data": {
      "text/plain": [
       "0.48286065354969915"
      ]
     },
     "execution_count": 56,
     "metadata": {},
     "output_type": "execute_result"
    },
    {
     "data": {
      "image/png": "[encoded data removed]",
      "text/plain": [
       "<Figure size 432x288 with 1 Axes>"
      ]
     },
     "metadata": {
      "needs_background": "light"
     },
     "output_type": "display_data"
    }
   ],
   "source": [
    "data_area = data.pivot_table(index='rooms', values='last_price', aggfunc=['median', 'mean', 'count'])\n",
    "data_area.columns = ['median', 'mean', 'count']\n",
    "data_area.plot(y='median', style='o', grid=True, title='Зависимость медианной цены от комнат', ylabel='Цена', xlabel='Комнаты')\n",
    "data['rooms'].corr(data['last_price'])"
   ]
  },
  {
   "cell_type": "markdown",
   "metadata": {},
   "source": [
    "Зависимость от количества комнат тоже есть, однако она слабее, чем с площадями. Скорее это уже не самый важный фактор при формировании цены"
   ]
  },
  {
   "cell_type": "markdown",
   "metadata": {},
   "source": [
    "Зависимость цены от типа этажа"
   ]
  },
  {
   "cell_type": "code",
   "execution_count": 57,
   "metadata": {},
   "outputs": [
    {
     "data": {
      "text/plain": [
       "<AxesSubplot:title={'center':'last_price'}, xlabel='floor_type'>"
      ]
     },
     "execution_count": 57,
     "metadata": {},
     "output_type": "execute_result"
    },
    {
     "data": {
      "image/png": "[encoded data removed]",
      "text/plain": [
       "<Figure size 432x288 with 1 Axes>"
      ]
     },
     "metadata": {
      "needs_background": "light"
     },
     "output_type": "display_data"
    }
   ],
   "source": [
    "data.boxplot('last_price', by = 'floor_type')"
   ]
  },
  {
   "cell_type": "markdown",
   "metadata": {},
   "source": [
    "В целом отличие небольшое, но оно есть. Первые этажи самые дешевые, у них есть различные проблемы, затем идут последние этажи, там тоже есть нюансы с жильем, затем другие этажи, но разница с первым этажом  у последних и других гораздо сильнее, чем между собой"
   ]
  },
  {
   "cell_type": "markdown",
   "metadata": {},
   "source": [
    "Исследуем зависимость от дня недели выставления объявления"
   ]
  },
  {
   "cell_type": "code",
   "execution_count": 58,
   "metadata": {},
   "outputs": [
    {
     "data": {
      "text/plain": [
       "-0.012462764275336661"
      ]
     },
     "execution_count": 58,
     "metadata": {},
     "output_type": "execute_result"
    },
    {
     "data": {
      "image/png": "[encoded data removed]",
      "text/plain": [
       "<Figure size 432x288 with 1 Axes>"
      ]
     },
     "metadata": {
      "needs_background": "light"
     },
     "output_type": "display_data"
    }
   ],
   "source": [
    "data.boxplot('last_price', by = 'day_of_week')\n",
    "data['last_price'].corr(data['day_of_week'])"
   ]
  },
  {
   "cell_type": "markdown",
   "metadata": {},
   "source": [
    "Связи между днями недели размещения нет никакой"
   ]
  },
  {
   "cell_type": "markdown",
   "metadata": {},
   "source": [
    "Исследуем от номера месяца"
   ]
  },
  {
   "cell_type": "code",
   "execution_count": 59,
   "metadata": {},
   "outputs": [
    {
     "data": {
      "text/plain": [
       "0.005655816997139677"
      ]
     },
     "execution_count": 59,
     "metadata": {},
     "output_type": "execute_result"
    },
    {
     "data": {
      "image/png": "[encoded data removed]",
      "text/plain": [
       "<Figure size 432x288 with 1 Axes>"
      ]
     },
     "metadata": {
      "needs_background": "light"
     },
     "output_type": "display_data"
    }
   ],
   "source": [
    "data.boxplot('last_price', by = 'number_month')\n",
    "data['last_price'].corr(data['number_month'])"
   ]
  },
  {
   "cell_type": "markdown",
   "metadata": {},
   "source": [
    "Связи между месяцами нет"
   ]
  },
  {
   "cell_type": "code",
   "execution_count": 60,
   "metadata": {},
   "outputs": [
    {
     "data": {
      "text/plain": [
       "-0.033737798939307326"
      ]
     },
     "execution_count": 60,
     "metadata": {},
     "output_type": "execute_result"
    },
    {
     "data": {
      "image/png": "[encoded data removed]",
      "text/plain": [
       "<Figure size 432x288 with 1 Axes>"
      ]
     },
     "metadata": {
      "needs_background": "light"
     },
     "output_type": "display_data"
    }
   ],
   "source": [
    "data.boxplot('last_price', by = 'year_publication')\n",
    "data['last_price'].corr(data['year_publication'])"
   ]
  },
  {
   "cell_type": "code",
   "execution_count": 61,
   "metadata": {},
   "outputs": [
    {
     "data": {
      "text/plain": [
       "<AxesSubplot:title={'center':'Зависимость медианной цены от года продажи'}, xlabel='Год публикации', ylabel='Цена'>"
      ]
     },
     "execution_count": 61,
     "metadata": {},
     "output_type": "execute_result"
    },
    {
     "data": {
      "image/png": "[encoded data removed]",
      "text/plain": [
       "<Figure size 432x288 with 1 Axes>"
      ]
     },
     "metadata": {
      "needs_background": "light"
     },
     "output_type": "display_data"
    }
   ],
   "source": [
    "data_area = data.pivot_table(index='year_publication', values='last_price', aggfunc=['median', 'mean', 'count'])\n",
    "data_area.columns = ['median', 'mean', 'count']\n",
    "data_area.plot(y='median', style='o', grid=True, title='Зависимость медианной цены от года продажи', \n",
    "               ylabel='Цена', xlabel='Год публикации')"
   ]
  },
  {
   "cell_type": "code",
   "execution_count": 62,
   "metadata": {},
   "outputs": [
    {
     "data": {
      "text/html": [
       "<div>\n",
       "<style scoped>\n",
       "    .dataframe tbody tr th:only-of-type {\n",
       "        vertical-align: middle;\n",
       "    }\n",
       "\n",
       "    .dataframe tbody tr th {\n",
       "        vertical-align: top;\n",
       "    }\n",
       "\n",
       "    .dataframe thead th {\n",
       "        text-align: right;\n",
       "    }\n",
       "</style>\n",
       "<table border=\"1\" class=\"dataframe\">\n",
       "  <thead>\n",
       "    <tr style=\"text-align: right;\">\n",
       "      <th></th>\n",
       "      <th>median</th>\n",
       "      <th>mean</th>\n",
       "      <th>count</th>\n",
       "    </tr>\n",
       "    <tr>\n",
       "      <th>year_publication</th>\n",
       "      <th></th>\n",
       "      <th></th>\n",
       "      <th></th>\n",
       "    </tr>\n",
       "  </thead>\n",
       "  <tbody>\n",
       "    <tr>\n",
       "      <th>2014</th>\n",
       "      <td>7476560.0</td>\n",
       "      <td>9.712204e+06</td>\n",
       "      <td>129</td>\n",
       "    </tr>\n",
       "    <tr>\n",
       "      <th>2015</th>\n",
       "      <td>5200000.0</td>\n",
       "      <td>6.724793e+06</td>\n",
       "      <td>1111</td>\n",
       "    </tr>\n",
       "    <tr>\n",
       "      <th>2016</th>\n",
       "      <td>4500000.0</td>\n",
       "      <td>5.794758e+06</td>\n",
       "      <td>2674</td>\n",
       "    </tr>\n",
       "    <tr>\n",
       "      <th>2017</th>\n",
       "      <td>4500000.0</td>\n",
       "      <td>5.694727e+06</td>\n",
       "      <td>7971</td>\n",
       "    </tr>\n",
       "    <tr>\n",
       "      <th>2018</th>\n",
       "      <td>4550000.0</td>\n",
       "      <td>5.602690e+06</td>\n",
       "      <td>8322</td>\n",
       "    </tr>\n",
       "    <tr>\n",
       "      <th>2019</th>\n",
       "      <td>5000000.0</td>\n",
       "      <td>6.102086e+06</td>\n",
       "      <td>2810</td>\n",
       "    </tr>\n",
       "  </tbody>\n",
       "</table>\n",
       "</div>"
      ],
      "text/plain": [
       "                     median          mean  count\n",
       "year_publication                                \n",
       "2014              7476560.0  9.712204e+06    129\n",
       "2015              5200000.0  6.724793e+06   1111\n",
       "2016              4500000.0  5.794758e+06   2674\n",
       "2017              4500000.0  5.694727e+06   7971\n",
       "2018              4550000.0  5.602690e+06   8322\n",
       "2019              5000000.0  6.102086e+06   2810"
      ]
     },
     "execution_count": 62,
     "metadata": {},
     "output_type": "execute_result"
    }
   ],
   "source": [
    "data_area"
   ]
  },
  {
   "cell_type": "markdown",
   "metadata": {},
   "source": [
    "В 2014 году квартиры стоили сильно дороже, чем в последующие года. В остальные годы стоимость примерно одинаковая"
   ]
  },
  {
   "cell_type": "markdown",
   "metadata": {},
   "source": [
    "#### Посчитайте среднюю цену одного квадратного метра в 10 населённых пунктах с наибольшим числом объявлений — постройте сводную таблицу с количеством объявлений и средней ценой квадратного метра для этих населенных пунктов. Выделите населённые пункты с самой высокой и низкой стоимостью квадратного метра."
   ]
  },
  {
   "cell_type": "code",
   "execution_count": 63,
   "metadata": {},
   "outputs": [
    {
     "data": {
      "text/plain": [
       "Санкт-Петербург      15204\n",
       "поселок Мурино         539\n",
       "поселок Шушары         438\n",
       "Всеволожск             394\n",
       "Пушкин                 359\n",
       "Колпино                336\n",
       "поселок Парголово      319\n",
       "Гатчина                307\n",
       "деревня Кудрово        298\n",
       "Выборг                 234\n",
       "Name: locality_name, dtype: int64"
      ]
     },
     "execution_count": 63,
     "metadata": {},
     "output_type": "execute_result"
    }
   ],
   "source": [
    "# получим список городов с наибольшим числом объявлений\n",
    "data['locality_name'].value_counts().head(10)"
   ]
  },
  {
   "cell_type": "code",
   "execution_count": 64,
   "metadata": {},
   "outputs": [],
   "source": [
    "# отфильтруем датафрейм по полученному списку\n",
    "cities=['Санкт-Петербург', 'поселок Мурино', 'поселок Шушары', 'Всеволожск', 'Пушкин', 'Колпино', \\\n",
    "        'поселок Парголово', 'Гатчина', 'деревня Кудрово', 'Выборг']\n",
    "data_filtered = data.query('locality_name in @cities')"
   ]
  },
  {
   "cell_type": "code",
   "execution_count": 65,
   "metadata": {},
   "outputs": [
    {
     "name": "stdout",
     "output_type": "stream",
     "text": [
      "                       median           mean  count\n",
      "locality_name                                      \n",
      "Санкт-Петербург    104385.960  111553.886678  15204\n",
      "Пушкин              99744.250  103029.987326    359\n",
      "деревня Кудрово     91930.235   92481.848054    298\n",
      "поселок Парголово   91642.860   90314.528213    319\n",
      "поселок Мурино      85680.500   85527.079258    539\n",
      "поселок Шушары      76747.970   78529.235183    438\n",
      "Колпино             74723.745   75352.475595    336\n",
      "Гатчина             67796.610   68746.146515    307\n",
      "Всеволожск          65789.470   68671.479086    394\n",
      "Выборг              58233.005   58190.128162    234\n"
     ]
    }
   ],
   "source": [
    "# построим сводную таблицу\n",
    "data_pivot = data_filtered.pivot_table(index='locality_name', values='price_square', aggfunc=['median', 'mean', 'count'])\n",
    "data_pivot.columns = ['median', 'mean', 'count']\n",
    "print(data_pivot.sort_values(by='mean', ascending=False))"
   ]
  },
  {
   "cell_type": "markdown",
   "metadata": {},
   "source": [
    "Здесь были подсчитаны средние цены для 10 наиболее популярных городов, в итоге получили, что самая большая цена за квадрат в Санкт-Петербурге, а самая маленькая в Выборге. Связано это с тем, что в крупном городе с хорошей инфраструктурой людям приятнее жить и поэтому цена растет, Выборг, скорее всего, наименее развитый среди остальных, т.к. даже по количеству объявлений можно понять, что он маленький город по сравнению с другими населеными пунктами"
   ]
  },
  {
   "cell_type": "code",
   "execution_count": 67,
   "metadata": {},
   "outputs": [
    {
     "data": {
      "image/png": "[encoded data removed]",
      "text/plain": [
       "<Figure size 432x288 with 1 Axes>"
      ]
     },
     "metadata": {
      "needs_background": "light"
     },
     "output_type": "display_data"
    }
   ],
   "source": [
    "data_pivot.sort_values('mean').plot(kind='bar', y='mean', grid=True, title='Зависимость средней цены от населенного пункта', \n",
    "               ylabel='Цена за квадратный метр', xlabel='Населенный пункт');"
   ]
  },
  {
   "cell_type": "markdown",
   "metadata": {},
   "source": [
    "#### Ранее вы посчитали расстояние до центра в километрах. Теперь выделите квартиры в Санкт-Петербурге с помощью столбца locality_name и вычислите среднюю цену каждого километра. Опишите, как стоимость объектов зависит от расстояния до центра города — постройте график изменения средней цены для каждого километра от центра Петербурга."
   ]
  },
  {
   "cell_type": "code",
   "execution_count": 68,
   "metadata": {},
   "outputs": [
    {
     "data": {
      "text/html": [
       "<div>\n",
       "<style scoped>\n",
       "    .dataframe tbody tr th:only-of-type {\n",
       "        vertical-align: middle;\n",
       "    }\n",
       "\n",
       "    .dataframe tbody tr th {\n",
       "        vertical-align: top;\n",
       "    }\n",
       "\n",
       "    .dataframe thead th {\n",
       "        text-align: right;\n",
       "    }\n",
       "</style>\n",
       "<table border=\"1\" class=\"dataframe\">\n",
       "  <thead>\n",
       "    <tr style=\"text-align: right;\">\n",
       "      <th></th>\n",
       "      <th>last_price</th>\n",
       "    </tr>\n",
       "    <tr>\n",
       "      <th>city_centers_nearest_km</th>\n",
       "      <th></th>\n",
       "    </tr>\n",
       "  </thead>\n",
       "  <tbody>\n",
       "    <tr>\n",
       "      <th>0.0</th>\n",
       "      <td>1.715875e+07</td>\n",
       "    </tr>\n",
       "    <tr>\n",
       "      <th>1.0</th>\n",
       "      <td>1.238366e+07</td>\n",
       "    </tr>\n",
       "    <tr>\n",
       "      <th>2.0</th>\n",
       "      <td>1.124075e+07</td>\n",
       "    </tr>\n",
       "    <tr>\n",
       "      <th>3.0</th>\n",
       "      <td>9.921872e+06</td>\n",
       "    </tr>\n",
       "    <tr>\n",
       "      <th>4.0</th>\n",
       "      <td>1.066921e+07</td>\n",
       "    </tr>\n",
       "    <tr>\n",
       "      <th>5.0</th>\n",
       "      <td>1.109423e+07</td>\n",
       "    </tr>\n",
       "    <tr>\n",
       "      <th>6.0</th>\n",
       "      <td>1.023569e+07</td>\n",
       "    </tr>\n",
       "    <tr>\n",
       "      <th>7.0</th>\n",
       "      <td>1.058150e+07</td>\n",
       "    </tr>\n",
       "    <tr>\n",
       "      <th>8.0</th>\n",
       "      <td>8.875222e+06</td>\n",
       "    </tr>\n",
       "    <tr>\n",
       "      <th>9.0</th>\n",
       "      <td>6.938257e+06</td>\n",
       "    </tr>\n",
       "    <tr>\n",
       "      <th>10.0</th>\n",
       "      <td>6.368256e+06</td>\n",
       "    </tr>\n",
       "    <tr>\n",
       "      <th>11.0</th>\n",
       "      <td>6.108661e+06</td>\n",
       "    </tr>\n",
       "    <tr>\n",
       "      <th>12.0</th>\n",
       "      <td>5.791148e+06</td>\n",
       "    </tr>\n",
       "    <tr>\n",
       "      <th>13.0</th>\n",
       "      <td>6.059593e+06</td>\n",
       "    </tr>\n",
       "    <tr>\n",
       "      <th>14.0</th>\n",
       "      <td>5.589803e+06</td>\n",
       "    </tr>\n",
       "    <tr>\n",
       "      <th>15.0</th>\n",
       "      <td>5.805349e+06</td>\n",
       "    </tr>\n",
       "    <tr>\n",
       "      <th>16.0</th>\n",
       "      <td>5.374582e+06</td>\n",
       "    </tr>\n",
       "    <tr>\n",
       "      <th>17.0</th>\n",
       "      <td>5.198913e+06</td>\n",
       "    </tr>\n",
       "    <tr>\n",
       "      <th>18.0</th>\n",
       "      <td>4.876994e+06</td>\n",
       "    </tr>\n",
       "    <tr>\n",
       "      <th>19.0</th>\n",
       "      <td>5.051410e+06</td>\n",
       "    </tr>\n",
       "    <tr>\n",
       "      <th>20.0</th>\n",
       "      <td>4.611579e+06</td>\n",
       "    </tr>\n",
       "    <tr>\n",
       "      <th>21.0</th>\n",
       "      <td>5.493469e+06</td>\n",
       "    </tr>\n",
       "    <tr>\n",
       "      <th>22.0</th>\n",
       "      <td>5.374091e+06</td>\n",
       "    </tr>\n",
       "    <tr>\n",
       "      <th>23.0</th>\n",
       "      <td>4.702037e+06</td>\n",
       "    </tr>\n",
       "    <tr>\n",
       "      <th>24.0</th>\n",
       "      <td>3.854430e+06</td>\n",
       "    </tr>\n",
       "    <tr>\n",
       "      <th>25.0</th>\n",
       "      <td>4.052840e+06</td>\n",
       "    </tr>\n",
       "    <tr>\n",
       "      <th>26.0</th>\n",
       "      <td>4.014287e+06</td>\n",
       "    </tr>\n",
       "    <tr>\n",
       "      <th>27.0</th>\n",
       "      <td>8.300000e+06</td>\n",
       "    </tr>\n",
       "    <tr>\n",
       "      <th>28.0</th>\n",
       "      <td>5.026429e+06</td>\n",
       "    </tr>\n",
       "    <tr>\n",
       "      <th>29.0</th>\n",
       "      <td>4.236667e+06</td>\n",
       "    </tr>\n",
       "  </tbody>\n",
       "</table>\n",
       "</div>"
      ],
      "text/plain": [
       "                           last_price\n",
       "city_centers_nearest_km              \n",
       "0.0                      1.715875e+07\n",
       "1.0                      1.238366e+07\n",
       "2.0                      1.124075e+07\n",
       "3.0                      9.921872e+06\n",
       "4.0                      1.066921e+07\n",
       "5.0                      1.109423e+07\n",
       "6.0                      1.023569e+07\n",
       "7.0                      1.058150e+07\n",
       "8.0                      8.875222e+06\n",
       "9.0                      6.938257e+06\n",
       "10.0                     6.368256e+06\n",
       "11.0                     6.108661e+06\n",
       "12.0                     5.791148e+06\n",
       "13.0                     6.059593e+06\n",
       "14.0                     5.589803e+06\n",
       "15.0                     5.805349e+06\n",
       "16.0                     5.374582e+06\n",
       "17.0                     5.198913e+06\n",
       "18.0                     4.876994e+06\n",
       "19.0                     5.051410e+06\n",
       "20.0                     4.611579e+06\n",
       "21.0                     5.493469e+06\n",
       "22.0                     5.374091e+06\n",
       "23.0                     4.702037e+06\n",
       "24.0                     3.854430e+06\n",
       "25.0                     4.052840e+06\n",
       "26.0                     4.014287e+06\n",
       "27.0                     8.300000e+06\n",
       "28.0                     5.026429e+06\n",
       "29.0                     4.236667e+06"
      ]
     },
     "execution_count": 68,
     "metadata": {},
     "output_type": "execute_result"
    }
   ],
   "source": [
    "# выделим нужные строки\n",
    "data_peter = data.query('locality_name == \"Санкт-Петербург\"')\n",
    "data_price_km = data_peter.pivot_table(index = 'city_centers_nearest_km', values='last_price', aggfunc='mean')\n",
    "data_price_km"
   ]
  },
  {
   "cell_type": "code",
   "execution_count": 69,
   "metadata": {},
   "outputs": [
    {
     "data": {
      "text/plain": [
       "-0.343750637217416"
      ]
     },
     "execution_count": 69,
     "metadata": {},
     "output_type": "execute_result"
    },
    {
     "data": {
      "image/png": "[encoded data removed]",
      "text/plain": [
       "<Figure size 432x288 with 1 Axes>"
      ]
     },
     "metadata": {
      "needs_background": "light"
     },
     "output_type": "display_data"
    }
   ],
   "source": [
    "# построим график\n",
    "data_price_km.plot(grid=True, title='Зависимость средней цены от расстояния до центра', \n",
    "               ylabel='Цена', xlabel='Расстояние до центра')\n",
    "data['city_centers_nearest_km'].corr(data['last_price'])"
   ]
  },
  {
   "cell_type": "markdown",
   "metadata": {},
   "source": [
    "Видно, что цена с расстоянием падает достаточно резко, хотя в районе 27 км есть резкий подъем, скорее всего это объявления в другом крупном пригороде, но почему-то поставили Санкт-Петербург"
   ]
  },
  {
   "cell_type": "markdown",
   "metadata": {},
   "source": [
    "### Общий вывод"
   ]
  },
  {
   "cell_type": "markdown",
   "metadata": {},
   "source": [
    "В данном исследовании были рассмотрены все изначально поставленные задачи:\n",
    "- была изучена БД\n",
    "- были сгруппированы квартиры по различным группам, типичная квартира представляет собой 2-комнатную квартиру в девятиэтажке, с площадью 52 квадратных метра, жилой 30 и кухней 7, потолками высотой 2.65 м, стоит около 4.6 млн рублей, в 5-минутной доступности от парка 13 км от центра города\n",
    "- были изучены времена снятий объявлений, очень много людей покупали премиум-аккаунты для продвижения квартир, однако это не увенчалось успехом, после окончания таких аккаунтов люди просто снимали объявления (предположение)\n",
    "- также была получена зависимость, что чем дольше квартира стоит в продаже, тем меньше у нее шансов на продажу\n",
    "- на цену квартиры сильнее всего влияет общая площадь, а также жилая площадь; также квартиры на 1 этаже имеют более низкую цену в сравнении с другими этажами, связано это с различным дискомфортом обитания там\n",
    "- также цены на квартиры упали в сравнении с 2014 годом (в 2014 стоило 7.5 млн, в 2016 4.5 млн)\n",
    "- Самым дорогим из крупных городов оказался Санкт-Петербург (111537 руб/м2), самым дешевым Выборг (58190 руб/м2)\n",
    "- также получено, что есть зависимость от расстояния до центра Петербурга, чем дальше центр, тем дешевле квартира"
   ]
  },
  {
   "cell_type": "code",
   "execution_count": null,
   "metadata": {},
   "outputs": [],
   "source": []
  }
 ],
 "metadata": {
  "ExecuteTimeLog": [
   {
    "duration": 753,
    "start_time": "2023-08-31T07:06:25.617Z"
   },
   {
    "duration": 145,
    "start_time": "2023-08-31T07:06:45.252Z"
   },
   {
    "duration": 15,
    "start_time": "2023-08-31T07:08:59.229Z"
   },
   {
    "duration": 1552,
    "start_time": "2023-08-31T07:14:32.778Z"
   },
   {
    "duration": 2077,
    "start_time": "2023-08-31T07:14:46.250Z"
   },
   {
    "duration": 5,
    "start_time": "2023-08-31T07:18:26.727Z"
   },
   {
    "duration": 1818,
    "start_time": "2023-08-31T07:22:32.495Z"
   },
   {
    "duration": 25694,
    "start_time": "2023-08-31T07:22:43.967Z"
   },
   {
    "duration": 10,
    "start_time": "2023-08-31T07:24:08.990Z"
   },
   {
    "duration": 243,
    "start_time": "2023-08-31T07:24:44.187Z"
   },
   {
    "duration": 10,
    "start_time": "2023-08-31T07:27:30.193Z"
   },
   {
    "duration": 9,
    "start_time": "2023-08-31T07:27:57.065Z"
   },
   {
    "duration": 9,
    "start_time": "2023-08-31T07:28:07.920Z"
   },
   {
    "duration": 131,
    "start_time": "2023-08-31T07:28:38.502Z"
   },
   {
    "duration": 559,
    "start_time": "2023-08-31T07:28:44.388Z"
   },
   {
    "duration": 727,
    "start_time": "2023-08-31T16:53:47.847Z"
   },
   {
    "duration": 24,
    "start_time": "2023-08-31T16:53:51.435Z"
   },
   {
    "duration": 998,
    "start_time": "2023-08-31T16:53:54.346Z"
   },
   {
    "duration": 3401,
    "start_time": "2023-08-31T16:55:04.958Z"
   },
   {
    "duration": 2459,
    "start_time": "2023-08-31T16:55:52.304Z"
   },
   {
    "duration": 10,
    "start_time": "2023-08-31T17:41:09.838Z"
   },
   {
    "duration": 2,
    "start_time": "2023-08-31T17:43:52.589Z"
   },
   {
    "duration": 10,
    "start_time": "2023-08-31T17:44:27.669Z"
   },
   {
    "duration": 12,
    "start_time": "2023-08-31T17:44:46.302Z"
   },
   {
    "duration": 21,
    "start_time": "2023-08-31T17:49:15.854Z"
   },
   {
    "duration": 7,
    "start_time": "2023-08-31T18:34:40.075Z"
   },
   {
    "duration": 57,
    "start_time": "2023-08-31T18:34:58.431Z"
   },
   {
    "duration": 6,
    "start_time": "2023-08-31T18:36:04.781Z"
   },
   {
    "duration": 1376,
    "start_time": "2023-08-31T18:36:54.075Z"
   },
   {
    "duration": 6,
    "start_time": "2023-08-31T18:37:10.479Z"
   },
   {
    "duration": 16,
    "start_time": "2023-08-31T18:49:02.906Z"
   },
   {
    "duration": 82,
    "start_time": "2023-08-31T18:59:33.995Z"
   },
   {
    "duration": 688,
    "start_time": "2023-08-31T19:01:48.528Z"
   },
   {
    "duration": 19,
    "start_time": "2023-08-31T19:02:15.330Z"
   },
   {
    "duration": 18,
    "start_time": "2023-08-31T19:05:44.776Z"
   },
   {
    "duration": 13,
    "start_time": "2023-08-31T19:05:59.749Z"
   },
   {
    "duration": 10,
    "start_time": "2023-08-31T19:10:26.388Z"
   },
   {
    "duration": 7,
    "start_time": "2023-08-31T19:10:54.448Z"
   },
   {
    "duration": 9,
    "start_time": "2023-08-31T19:10:58.612Z"
   },
   {
    "duration": 4,
    "start_time": "2023-08-31T19:12:42.102Z"
   },
   {
    "duration": 5,
    "start_time": "2023-08-31T19:12:56.694Z"
   },
   {
    "duration": 7,
    "start_time": "2023-08-31T19:16:01.849Z"
   },
   {
    "duration": 5,
    "start_time": "2023-08-31T19:17:26.762Z"
   },
   {
    "duration": 9,
    "start_time": "2023-08-31T19:19:12.936Z"
   },
   {
    "duration": 14,
    "start_time": "2023-08-31T19:19:17.893Z"
   },
   {
    "duration": 34,
    "start_time": "2023-08-31T19:29:18.787Z"
   },
   {
    "duration": 53,
    "start_time": "2023-09-01T07:37:35.680Z"
   },
   {
    "duration": 731,
    "start_time": "2023-09-01T07:37:56.898Z"
   },
   {
    "duration": 17,
    "start_time": "2023-09-01T07:37:57.632Z"
   },
   {
    "duration": 3212,
    "start_time": "2023-09-01T07:37:57.651Z"
   },
   {
    "duration": 36,
    "start_time": "2023-09-01T07:38:00.865Z"
   },
   {
    "duration": 28,
    "start_time": "2023-09-01T07:38:00.904Z"
   },
   {
    "duration": 25,
    "start_time": "2023-09-01T07:38:00.934Z"
   },
   {
    "duration": 65,
    "start_time": "2023-09-01T07:38:00.961Z"
   },
   {
    "duration": 49,
    "start_time": "2023-09-01T07:38:01.028Z"
   },
   {
    "duration": 43,
    "start_time": "2023-09-01T07:38:01.079Z"
   },
   {
    "duration": 47,
    "start_time": "2023-09-01T07:38:01.124Z"
   },
   {
    "duration": 7,
    "start_time": "2023-09-01T07:38:04.598Z"
   },
   {
    "duration": 58,
    "start_time": "2023-09-01T07:39:25.335Z"
   },
   {
    "duration": 8,
    "start_time": "2023-09-01T07:39:36.933Z"
   },
   {
    "duration": 5,
    "start_time": "2023-09-01T07:39:52.539Z"
   },
   {
    "duration": 16,
    "start_time": "2023-09-01T07:47:31.243Z"
   },
   {
    "duration": 8,
    "start_time": "2023-09-01T07:54:41.987Z"
   },
   {
    "duration": 9,
    "start_time": "2023-09-01T07:55:11.995Z"
   },
   {
    "duration": 9,
    "start_time": "2023-09-01T07:56:28.144Z"
   },
   {
    "duration": 9,
    "start_time": "2023-09-01T07:58:30.837Z"
   },
   {
    "duration": 8,
    "start_time": "2023-09-01T07:58:36.442Z"
   },
   {
    "duration": 9,
    "start_time": "2023-09-01T07:58:51.774Z"
   },
   {
    "duration": 10,
    "start_time": "2023-09-01T08:00:01.840Z"
   },
   {
    "duration": 6,
    "start_time": "2023-09-01T08:00:08.405Z"
   },
   {
    "duration": 9,
    "start_time": "2023-09-01T08:01:00.719Z"
   },
   {
    "duration": 8,
    "start_time": "2023-09-01T08:01:28.036Z"
   },
   {
    "duration": 6,
    "start_time": "2023-09-01T08:01:32.164Z"
   },
   {
    "duration": 20,
    "start_time": "2023-09-01T08:02:27.980Z"
   },
   {
    "duration": 21,
    "start_time": "2023-09-01T08:02:40.156Z"
   },
   {
    "duration": 20,
    "start_time": "2023-09-01T08:06:30.226Z"
   },
   {
    "duration": 120,
    "start_time": "2023-09-01T08:08:03.992Z"
   },
   {
    "duration": 590,
    "start_time": "2023-09-01T11:46:49.819Z"
   },
   {
    "duration": 20,
    "start_time": "2023-09-01T11:46:50.411Z"
   },
   {
    "duration": 3152,
    "start_time": "2023-09-01T11:46:50.433Z"
   },
   {
    "duration": 30,
    "start_time": "2023-09-01T11:46:53.587Z"
   },
   {
    "duration": 10,
    "start_time": "2023-09-01T11:46:53.620Z"
   },
   {
    "duration": 25,
    "start_time": "2023-09-01T11:46:53.632Z"
   },
   {
    "duration": 14,
    "start_time": "2023-09-01T11:46:53.659Z"
   },
   {
    "duration": 24,
    "start_time": "2023-09-01T11:46:53.675Z"
   },
   {
    "duration": 14,
    "start_time": "2023-09-01T11:46:53.701Z"
   },
   {
    "duration": 56,
    "start_time": "2023-09-01T11:46:53.717Z"
   },
   {
    "duration": 21,
    "start_time": "2023-09-01T11:46:53.776Z"
   },
   {
    "duration": 14,
    "start_time": "2023-09-01T11:46:53.799Z"
   },
   {
    "duration": 134,
    "start_time": "2023-09-01T11:46:53.814Z"
   },
   {
    "duration": 27,
    "start_time": "2023-09-01T11:51:06.594Z"
   },
   {
    "duration": 28,
    "start_time": "2023-09-01T11:54:02.914Z"
   },
   {
    "duration": 27,
    "start_time": "2023-09-01T11:54:25.882Z"
   },
   {
    "duration": 35,
    "start_time": "2023-09-01T11:57:17.342Z"
   },
   {
    "duration": 1859,
    "start_time": "2023-09-01T12:17:03.138Z"
   },
   {
    "duration": 28,
    "start_time": "2023-09-01T12:17:26.198Z"
   },
   {
    "duration": 10,
    "start_time": "2023-09-01T12:27:11.330Z"
   },
   {
    "duration": 32,
    "start_time": "2023-09-01T12:27:32.271Z"
   },
   {
    "duration": 32,
    "start_time": "2023-09-01T12:27:45.671Z"
   },
   {
    "duration": 11,
    "start_time": "2023-09-01T12:29:49.123Z"
   },
   {
    "duration": 27,
    "start_time": "2023-09-01T12:29:59.297Z"
   },
   {
    "duration": 41,
    "start_time": "2023-09-01T12:32:18.494Z"
   },
   {
    "duration": 1779,
    "start_time": "2023-09-01T12:41:06.568Z"
   },
   {
    "duration": 9,
    "start_time": "2023-09-01T12:43:30.536Z"
   },
   {
    "duration": 17,
    "start_time": "2023-09-01T12:45:50.734Z"
   },
   {
    "duration": 10,
    "start_time": "2023-09-01T12:46:15.543Z"
   },
   {
    "duration": 9,
    "start_time": "2023-09-01T12:50:49.420Z"
   },
   {
    "duration": 22,
    "start_time": "2023-09-01T12:50:54.456Z"
   },
   {
    "duration": 9,
    "start_time": "2023-09-01T12:58:20.591Z"
   },
   {
    "duration": 10,
    "start_time": "2023-09-01T12:59:02.565Z"
   },
   {
    "duration": 153,
    "start_time": "2023-09-01T13:01:48.120Z"
   },
   {
    "duration": 9,
    "start_time": "2023-09-01T13:01:54.500Z"
   },
   {
    "duration": 17,
    "start_time": "2023-09-01T13:02:05.974Z"
   },
   {
    "duration": 18,
    "start_time": "2023-09-01T13:02:44.770Z"
   },
   {
    "duration": 382,
    "start_time": "2023-09-01T13:03:46.886Z"
   },
   {
    "duration": 445,
    "start_time": "2023-09-01T13:04:09.634Z"
   },
   {
    "duration": 2201,
    "start_time": "2023-09-01T13:07:08.082Z"
   },
   {
    "duration": 26,
    "start_time": "2023-09-01T13:07:35.809Z"
   },
   {
    "duration": 6,
    "start_time": "2023-09-01T13:08:03.921Z"
   },
   {
    "duration": 3,
    "start_time": "2023-09-01T13:08:29.835Z"
   },
   {
    "duration": 6,
    "start_time": "2023-09-01T13:08:45.746Z"
   },
   {
    "duration": 6,
    "start_time": "2023-09-01T13:09:10.787Z"
   },
   {
    "duration": 112,
    "start_time": "2023-09-01T13:09:25.336Z"
   },
   {
    "duration": 20,
    "start_time": "2023-09-01T13:09:25.450Z"
   },
   {
    "duration": 2459,
    "start_time": "2023-09-01T13:09:25.472Z"
   },
   {
    "duration": 43,
    "start_time": "2023-09-01T13:09:27.933Z"
   },
   {
    "duration": 13,
    "start_time": "2023-09-01T13:09:27.979Z"
   },
   {
    "duration": 8,
    "start_time": "2023-09-01T13:09:27.994Z"
   },
   {
    "duration": 17,
    "start_time": "2023-09-01T13:09:28.003Z"
   },
   {
    "duration": 43,
    "start_time": "2023-09-01T13:09:28.022Z"
   },
   {
    "duration": 24,
    "start_time": "2023-09-01T13:09:28.067Z"
   },
   {
    "duration": 316,
    "start_time": "2023-09-01T13:09:28.093Z"
   },
   {
    "duration": 193,
    "start_time": "2023-09-01T13:09:28.411Z"
   },
   {
    "duration": 24,
    "start_time": "2023-09-01T13:09:28.605Z"
   },
   {
    "duration": 141,
    "start_time": "2023-09-01T13:09:28.631Z"
   },
   {
    "duration": 26,
    "start_time": "2023-09-01T13:09:28.775Z"
   },
   {
    "duration": 62,
    "start_time": "2023-09-01T13:09:28.802Z"
   },
   {
    "duration": 42,
    "start_time": "2023-09-01T13:09:28.867Z"
   },
   {
    "duration": 59,
    "start_time": "2023-09-01T13:09:28.911Z"
   },
   {
    "duration": 10,
    "start_time": "2023-09-01T13:09:28.972Z"
   },
   {
    "duration": 519,
    "start_time": "2023-09-01T13:09:28.985Z"
   },
   {
    "duration": 6,
    "start_time": "2023-09-01T13:09:39.014Z"
   },
   {
    "duration": 6,
    "start_time": "2023-09-01T13:09:54.637Z"
   },
   {
    "duration": 7,
    "start_time": "2023-09-01T13:10:09.673Z"
   },
   {
    "duration": 134,
    "start_time": "2023-09-01T13:10:23.637Z"
   },
   {
    "duration": 14,
    "start_time": "2023-09-01T13:10:23.774Z"
   },
   {
    "duration": 2505,
    "start_time": "2023-09-01T13:10:23.790Z"
   },
   {
    "duration": 23,
    "start_time": "2023-09-01T13:10:26.298Z"
   },
   {
    "duration": 10,
    "start_time": "2023-09-01T13:10:26.323Z"
   },
   {
    "duration": 32,
    "start_time": "2023-09-01T13:10:26.335Z"
   },
   {
    "duration": 22,
    "start_time": "2023-09-01T13:10:26.368Z"
   },
   {
    "duration": 21,
    "start_time": "2023-09-01T13:10:26.392Z"
   },
   {
    "duration": 14,
    "start_time": "2023-09-01T13:10:26.416Z"
   },
   {
    "duration": 135,
    "start_time": "2023-09-01T13:10:26.433Z"
   },
   {
    "duration": 17,
    "start_time": "2023-09-01T13:10:26.572Z"
   },
   {
    "duration": 5,
    "start_time": "2023-09-01T13:10:26.590Z"
   },
   {
    "duration": 121,
    "start_time": "2023-09-01T13:10:26.597Z"
   },
   {
    "duration": 40,
    "start_time": "2023-09-01T13:10:26.720Z"
   },
   {
    "duration": 34,
    "start_time": "2023-09-01T13:10:26.762Z"
   },
   {
    "duration": 36,
    "start_time": "2023-09-01T13:10:26.797Z"
   },
   {
    "duration": 45,
    "start_time": "2023-09-01T13:10:26.836Z"
   },
   {
    "duration": 9,
    "start_time": "2023-09-01T13:10:26.883Z"
   },
   {
    "duration": 7,
    "start_time": "2023-09-01T13:10:38.428Z"
   },
   {
    "duration": 117,
    "start_time": "2023-09-01T13:18:23.261Z"
   },
   {
    "duration": 15,
    "start_time": "2023-09-01T13:18:23.380Z"
   },
   {
    "duration": 2306,
    "start_time": "2023-09-01T13:18:23.397Z"
   },
   {
    "duration": 27,
    "start_time": "2023-09-01T13:18:25.704Z"
   },
   {
    "duration": 26,
    "start_time": "2023-09-01T13:18:25.733Z"
   },
   {
    "duration": 2,
    "start_time": "2023-09-01T13:18:25.761Z"
   },
   {
    "duration": 14,
    "start_time": "2023-09-01T13:18:25.764Z"
   },
   {
    "duration": 25,
    "start_time": "2023-09-01T13:18:25.780Z"
   },
   {
    "duration": 16,
    "start_time": "2023-09-01T13:18:25.807Z"
   },
   {
    "duration": 42,
    "start_time": "2023-09-01T13:18:25.825Z"
   },
   {
    "duration": 15,
    "start_time": "2023-09-01T13:18:25.869Z"
   },
   {
    "duration": 6,
    "start_time": "2023-09-01T13:18:25.886Z"
   },
   {
    "duration": 119,
    "start_time": "2023-09-01T13:18:25.894Z"
   },
   {
    "duration": 26,
    "start_time": "2023-09-01T13:18:26.016Z"
   },
   {
    "duration": 28,
    "start_time": "2023-09-01T13:18:26.056Z"
   },
   {
    "duration": 33,
    "start_time": "2023-09-01T13:18:26.085Z"
   },
   {
    "duration": 50,
    "start_time": "2023-09-01T13:18:26.120Z"
   },
   {
    "duration": 417,
    "start_time": "2023-09-01T13:18:26.171Z"
   },
   {
    "duration": 5,
    "start_time": "2023-09-01T13:18:26.590Z"
   },
   {
    "duration": 46,
    "start_time": "2023-09-02T08:51:54.676Z"
   },
   {
    "duration": 582,
    "start_time": "2023-09-02T08:52:00.979Z"
   },
   {
    "duration": 17,
    "start_time": "2023-09-02T08:52:01.563Z"
   },
   {
    "duration": 2770,
    "start_time": "2023-09-02T08:52:01.582Z"
   },
   {
    "duration": 25,
    "start_time": "2023-09-02T08:52:04.354Z"
   },
   {
    "duration": 9,
    "start_time": "2023-09-02T08:52:04.381Z"
   },
   {
    "duration": 10,
    "start_time": "2023-09-02T08:52:04.391Z"
   },
   {
    "duration": 13,
    "start_time": "2023-09-02T08:52:04.403Z"
   },
   {
    "duration": 34,
    "start_time": "2023-09-02T08:52:04.417Z"
   },
   {
    "duration": 12,
    "start_time": "2023-09-02T08:52:04.453Z"
   },
   {
    "duration": 24,
    "start_time": "2023-09-02T08:52:04.466Z"
   },
   {
    "duration": 18,
    "start_time": "2023-09-02T08:52:04.492Z"
   },
   {
    "duration": 34,
    "start_time": "2023-09-02T08:52:04.512Z"
   },
   {
    "duration": 108,
    "start_time": "2023-09-02T08:52:04.548Z"
   },
   {
    "duration": 26,
    "start_time": "2023-09-02T08:52:04.659Z"
   },
   {
    "duration": 25,
    "start_time": "2023-09-02T08:52:04.686Z"
   },
   {
    "duration": 54,
    "start_time": "2023-09-02T08:52:04.713Z"
   },
   {
    "duration": 25,
    "start_time": "2023-09-02T08:52:04.769Z"
   },
   {
    "duration": 359,
    "start_time": "2023-09-02T08:52:04.796Z"
   },
   {
    "duration": 7,
    "start_time": "2023-09-02T08:52:05.157Z"
   },
   {
    "duration": 43,
    "start_time": "2023-09-02T08:52:12.906Z"
   },
   {
    "duration": 7,
    "start_time": "2023-09-02T08:59:12.486Z"
   },
   {
    "duration": 101,
    "start_time": "2023-09-02T09:18:11.863Z"
   },
   {
    "duration": 132,
    "start_time": "2023-09-02T09:22:13.407Z"
   },
   {
    "duration": 236,
    "start_time": "2023-09-02T09:22:36.045Z"
   },
   {
    "duration": 149,
    "start_time": "2023-09-02T09:26:33.354Z"
   },
   {
    "duration": 168,
    "start_time": "2023-09-02T09:30:04.548Z"
   },
   {
    "duration": 175,
    "start_time": "2023-09-02T09:33:25.953Z"
   },
   {
    "duration": 212,
    "start_time": "2023-09-02T09:33:37.297Z"
   },
   {
    "duration": 269,
    "start_time": "2023-09-02T09:33:45.930Z"
   },
   {
    "duration": 254,
    "start_time": "2023-09-02T09:34:26.018Z"
   },
   {
    "duration": 38,
    "start_time": "2023-09-02T09:38:21.847Z"
   },
   {
    "duration": 11,
    "start_time": "2023-09-02T09:38:29.819Z"
   },
   {
    "duration": 5,
    "start_time": "2023-09-02T09:38:42.725Z"
   },
   {
    "duration": 160,
    "start_time": "2023-09-02T10:07:26.013Z"
   },
   {
    "duration": 217,
    "start_time": "2023-09-02T10:07:55.214Z"
   },
   {
    "duration": 176,
    "start_time": "2023-09-02T10:08:03.303Z"
   },
   {
    "duration": 6,
    "start_time": "2023-09-02T10:10:19.226Z"
   },
   {
    "duration": 10,
    "start_time": "2023-09-02T10:13:38.468Z"
   },
   {
    "duration": 8,
    "start_time": "2023-09-02T10:14:03.041Z"
   },
   {
    "duration": 9,
    "start_time": "2023-09-02T10:14:24.311Z"
   },
   {
    "duration": 9,
    "start_time": "2023-09-02T10:14:29.022Z"
   },
   {
    "duration": 7,
    "start_time": "2023-09-02T10:14:53.713Z"
   },
   {
    "duration": 5,
    "start_time": "2023-09-02T10:43:04.053Z"
   },
   {
    "duration": 168,
    "start_time": "2023-09-02T10:43:24.227Z"
   },
   {
    "duration": 113,
    "start_time": "2023-09-02T10:45:24.742Z"
   },
   {
    "duration": 17,
    "start_time": "2023-09-02T10:45:24.860Z"
   },
   {
    "duration": 2630,
    "start_time": "2023-09-02T10:45:24.879Z"
   },
   {
    "duration": 42,
    "start_time": "2023-09-02T10:45:27.511Z"
   },
   {
    "duration": 10,
    "start_time": "2023-09-02T10:45:27.555Z"
   },
   {
    "duration": 5,
    "start_time": "2023-09-02T10:45:27.567Z"
   },
   {
    "duration": 15,
    "start_time": "2023-09-02T10:45:27.573Z"
   },
   {
    "duration": 57,
    "start_time": "2023-09-02T10:45:27.591Z"
   },
   {
    "duration": 16,
    "start_time": "2023-09-02T10:45:27.650Z"
   },
   {
    "duration": 23,
    "start_time": "2023-09-02T10:45:27.668Z"
   },
   {
    "duration": 53,
    "start_time": "2023-09-02T10:45:27.693Z"
   },
   {
    "duration": 6,
    "start_time": "2023-09-02T10:45:27.748Z"
   },
   {
    "duration": 130,
    "start_time": "2023-09-02T10:45:27.756Z"
   },
   {
    "duration": 30,
    "start_time": "2023-09-02T10:45:27.890Z"
   },
   {
    "duration": 43,
    "start_time": "2023-09-02T10:45:27.922Z"
   },
   {
    "duration": 34,
    "start_time": "2023-09-02T10:45:27.967Z"
   },
   {
    "duration": 51,
    "start_time": "2023-09-02T10:45:28.004Z"
   },
   {
    "duration": 367,
    "start_time": "2023-09-02T10:45:28.056Z"
   },
   {
    "duration": 7,
    "start_time": "2023-09-02T10:45:28.425Z"
   },
   {
    "duration": 58,
    "start_time": "2023-09-02T10:45:28.433Z"
   },
   {
    "duration": 10,
    "start_time": "2023-09-02T10:45:28.493Z"
   },
   {
    "duration": 247,
    "start_time": "2023-09-02T10:45:28.505Z"
   },
   {
    "duration": 269,
    "start_time": "2023-09-02T10:45:28.754Z"
   },
   {
    "duration": 183,
    "start_time": "2023-09-02T10:45:29.025Z"
   },
   {
    "duration": 348,
    "start_time": "2023-09-02T10:45:29.210Z"
   },
   {
    "duration": 174,
    "start_time": "2023-09-02T10:45:29.559Z"
   },
   {
    "duration": 8,
    "start_time": "2023-09-02T10:46:40.115Z"
   },
   {
    "duration": 248,
    "start_time": "2023-09-02T13:27:18.366Z"
   },
   {
    "duration": 395,
    "start_time": "2023-09-02T13:28:07.878Z"
   },
   {
    "duration": 9,
    "start_time": "2023-09-02T13:28:21.929Z"
   },
   {
    "duration": 207,
    "start_time": "2023-09-02T13:28:25.593Z"
   },
   {
    "duration": 178,
    "start_time": "2023-09-02T13:33:49.071Z"
   },
   {
    "duration": 20,
    "start_time": "2023-09-02T13:33:49.252Z"
   },
   {
    "duration": 2995,
    "start_time": "2023-09-02T13:33:49.274Z"
   },
   {
    "duration": 37,
    "start_time": "2023-09-02T13:33:52.272Z"
   },
   {
    "duration": 9,
    "start_time": "2023-09-02T13:33:52.312Z"
   },
   {
    "duration": 9,
    "start_time": "2023-09-02T13:33:52.323Z"
   },
   {
    "duration": 19,
    "start_time": "2023-09-02T13:33:52.333Z"
   },
   {
    "duration": 42,
    "start_time": "2023-09-02T13:33:52.354Z"
   },
   {
    "duration": 17,
    "start_time": "2023-09-02T13:33:52.397Z"
   },
   {
    "duration": 182,
    "start_time": "2023-09-02T13:33:52.416Z"
   },
   {
    "duration": 26,
    "start_time": "2023-09-02T13:33:52.599Z"
   },
   {
    "duration": 63,
    "start_time": "2023-09-02T13:33:52.627Z"
   },
   {
    "duration": 6,
    "start_time": "2023-09-02T13:33:52.696Z"
   },
   {
    "duration": 169,
    "start_time": "2023-09-02T13:33:52.705Z"
   },
   {
    "duration": 35,
    "start_time": "2023-09-02T13:33:52.876Z"
   },
   {
    "duration": 32,
    "start_time": "2023-09-02T13:33:52.913Z"
   },
   {
    "duration": 44,
    "start_time": "2023-09-02T13:33:52.946Z"
   },
   {
    "duration": 30,
    "start_time": "2023-09-02T13:33:52.991Z"
   },
   {
    "duration": 463,
    "start_time": "2023-09-02T13:33:53.023Z"
   },
   {
    "duration": 6,
    "start_time": "2023-09-02T13:33:53.488Z"
   },
   {
    "duration": 60,
    "start_time": "2023-09-02T13:33:53.498Z"
   },
   {
    "duration": 9,
    "start_time": "2023-09-02T13:33:53.560Z"
   },
   {
    "duration": 210,
    "start_time": "2023-09-02T13:33:53.570Z"
   },
   {
    "duration": 227,
    "start_time": "2023-09-02T13:33:53.781Z"
   },
   {
    "duration": 196,
    "start_time": "2023-09-02T13:33:54.015Z"
   },
   {
    "duration": 408,
    "start_time": "2023-09-02T13:33:54.214Z"
   },
   {
    "duration": 242,
    "start_time": "2023-09-02T13:33:54.624Z"
   },
   {
    "duration": 13,
    "start_time": "2023-09-02T13:33:54.868Z"
   },
   {
    "duration": 4,
    "start_time": "2023-09-02T13:33:54.882Z"
   },
   {
    "duration": 204,
    "start_time": "2023-09-02T13:33:54.888Z"
   },
   {
    "duration": 141,
    "start_time": "2023-09-02T13:33:55.096Z"
   },
   {
    "duration": 9,
    "start_time": "2023-09-02T13:33:55.239Z"
   },
   {
    "duration": 258,
    "start_time": "2023-09-02T13:42:37.471Z"
   },
   {
    "duration": 189,
    "start_time": "2023-09-02T13:43:31.538Z"
   },
   {
    "duration": 26,
    "start_time": "2023-09-02T13:53:36.015Z"
   },
   {
    "duration": 3088,
    "start_time": "2023-09-02T13:54:35.976Z"
   },
   {
    "duration": 163,
    "start_time": "2023-09-02T14:01:32.502Z"
   },
   {
    "duration": 728,
    "start_time": "2023-09-02T14:02:44.400Z"
   },
   {
    "duration": 127,
    "start_time": "2023-09-02T16:31:33.785Z"
   },
   {
    "duration": 13,
    "start_time": "2023-09-02T16:31:33.915Z"
   },
   {
    "duration": 2632,
    "start_time": "2023-09-02T16:31:33.929Z"
   },
   {
    "duration": 33,
    "start_time": "2023-09-02T16:31:36.567Z"
   },
   {
    "duration": 9,
    "start_time": "2023-09-02T16:31:36.602Z"
   },
   {
    "duration": 7,
    "start_time": "2023-09-02T16:31:36.612Z"
   },
   {
    "duration": 14,
    "start_time": "2023-09-02T16:31:36.621Z"
   },
   {
    "duration": 33,
    "start_time": "2023-09-02T16:31:36.636Z"
   },
   {
    "duration": 15,
    "start_time": "2023-09-02T16:31:36.670Z"
   },
   {
    "duration": 13,
    "start_time": "2023-09-02T16:31:36.686Z"
   },
   {
    "duration": 19,
    "start_time": "2023-09-02T16:31:36.701Z"
   },
   {
    "duration": 50,
    "start_time": "2023-09-02T16:31:36.722Z"
   },
   {
    "duration": 4,
    "start_time": "2023-09-02T16:31:36.779Z"
   },
   {
    "duration": 123,
    "start_time": "2023-09-02T16:31:36.787Z"
   },
   {
    "duration": 24,
    "start_time": "2023-09-02T16:31:36.912Z"
   },
   {
    "duration": 39,
    "start_time": "2023-09-02T16:31:36.937Z"
   },
   {
    "duration": 32,
    "start_time": "2023-09-02T16:31:36.978Z"
   },
   {
    "duration": 56,
    "start_time": "2023-09-02T16:31:37.011Z"
   },
   {
    "duration": 400,
    "start_time": "2023-09-02T16:31:37.069Z"
   },
   {
    "duration": 7,
    "start_time": "2023-09-02T16:31:37.473Z"
   },
   {
    "duration": 40,
    "start_time": "2023-09-02T16:31:37.481Z"
   },
   {
    "duration": 7,
    "start_time": "2023-09-02T16:31:37.522Z"
   },
   {
    "duration": 172,
    "start_time": "2023-09-02T16:31:37.531Z"
   },
   {
    "duration": 171,
    "start_time": "2023-09-02T16:31:37.705Z"
   },
   {
    "duration": 294,
    "start_time": "2023-09-02T16:31:37.878Z"
   },
   {
    "duration": 252,
    "start_time": "2023-09-02T16:31:38.175Z"
   },
   {
    "duration": 166,
    "start_time": "2023-09-02T16:31:38.429Z"
   },
   {
    "duration": 9,
    "start_time": "2023-09-02T16:31:38.597Z"
   },
   {
    "duration": 29,
    "start_time": "2023-09-02T16:31:38.607Z"
   },
   {
    "duration": 178,
    "start_time": "2023-09-02T16:31:38.638Z"
   },
   {
    "duration": 123,
    "start_time": "2023-09-02T16:31:38.817Z"
   },
   {
    "duration": 8,
    "start_time": "2023-09-02T16:31:38.945Z"
   },
   {
    "duration": 669,
    "start_time": "2023-09-02T16:32:00.330Z"
   },
   {
    "duration": 12,
    "start_time": "2023-09-02T16:33:54.136Z"
   },
   {
    "duration": 585,
    "start_time": "2023-09-02T16:34:09.797Z"
   },
   {
    "duration": 14,
    "start_time": "2023-09-02T16:39:19.113Z"
   },
   {
    "duration": 28,
    "start_time": "2023-09-02T16:44:53.674Z"
   },
   {
    "duration": 23,
    "start_time": "2023-09-02T16:45:04.760Z"
   },
   {
    "duration": 8,
    "start_time": "2023-09-02T16:46:36.921Z"
   },
   {
    "duration": 1065,
    "start_time": "2023-09-02T16:48:13.904Z"
   },
   {
    "duration": 11,
    "start_time": "2023-09-02T16:48:35.062Z"
   },
   {
    "duration": 18,
    "start_time": "2023-09-02T16:49:10.208Z"
   },
   {
    "duration": 137,
    "start_time": "2023-09-02T16:49:52.796Z"
   },
   {
    "duration": 21,
    "start_time": "2023-09-02T16:55:02.938Z"
   },
   {
    "duration": 207,
    "start_time": "2023-09-02T16:56:01.711Z"
   },
   {
    "duration": 156,
    "start_time": "2023-09-02T16:56:25.087Z"
   },
   {
    "duration": 170,
    "start_time": "2023-09-02T17:04:22.218Z"
   },
   {
    "duration": 129,
    "start_time": "2023-09-02T17:34:28.066Z"
   },
   {
    "duration": 20,
    "start_time": "2023-09-02T17:34:28.197Z"
   },
   {
    "duration": 2691,
    "start_time": "2023-09-02T17:34:28.219Z"
   },
   {
    "duration": 52,
    "start_time": "2023-09-02T17:34:30.912Z"
   },
   {
    "duration": 14,
    "start_time": "2023-09-02T17:34:30.973Z"
   },
   {
    "duration": 43,
    "start_time": "2023-09-02T17:34:30.989Z"
   },
   {
    "duration": 53,
    "start_time": "2023-09-02T17:34:31.034Z"
   },
   {
    "duration": 58,
    "start_time": "2023-09-02T17:34:31.089Z"
   },
   {
    "duration": 54,
    "start_time": "2023-09-02T17:34:31.152Z"
   },
   {
    "duration": 55,
    "start_time": "2023-09-02T17:34:31.209Z"
   },
   {
    "duration": 42,
    "start_time": "2023-09-02T17:34:31.267Z"
   },
   {
    "duration": 73,
    "start_time": "2023-09-02T17:34:31.311Z"
   },
   {
    "duration": 7,
    "start_time": "2023-09-02T17:34:31.387Z"
   },
   {
    "duration": 184,
    "start_time": "2023-09-02T17:34:31.396Z"
   },
   {
    "duration": 34,
    "start_time": "2023-09-02T17:34:31.581Z"
   },
   {
    "duration": 38,
    "start_time": "2023-09-02T17:34:31.617Z"
   },
   {
    "duration": 42,
    "start_time": "2023-09-02T17:34:31.664Z"
   },
   {
    "duration": 27,
    "start_time": "2023-09-02T17:34:31.708Z"
   },
   {
    "duration": 422,
    "start_time": "2023-09-02T17:34:31.737Z"
   },
   {
    "duration": 22,
    "start_time": "2023-09-02T17:34:32.160Z"
   },
   {
    "duration": 69,
    "start_time": "2023-09-02T17:34:44.107Z"
   },
   {
    "duration": 292,
    "start_time": "2023-09-02T17:36:09.242Z"
   },
   {
    "duration": 134,
    "start_time": "2023-09-02T17:38:32.866Z"
   },
   {
    "duration": 10,
    "start_time": "2023-09-02T17:39:15.926Z"
   },
   {
    "duration": 8,
    "start_time": "2023-09-02T17:40:38.886Z"
   },
   {
    "duration": 6,
    "start_time": "2023-09-02T17:40:46.386Z"
   },
   {
    "duration": 8,
    "start_time": "2023-09-02T17:41:27.319Z"
   },
   {
    "duration": 8,
    "start_time": "2023-09-02T17:41:52.973Z"
   },
   {
    "duration": 12,
    "start_time": "2023-09-02T17:42:23.051Z"
   },
   {
    "duration": 105,
    "start_time": "2023-09-03T06:48:42.336Z"
   },
   {
    "duration": 45,
    "start_time": "2023-09-03T06:48:51.671Z"
   },
   {
    "duration": 796,
    "start_time": "2023-09-03T06:49:00.942Z"
   },
   {
    "duration": 22,
    "start_time": "2023-09-03T06:49:01.740Z"
   },
   {
    "duration": 2678,
    "start_time": "2023-09-03T06:49:01.764Z"
   },
   {
    "duration": 38,
    "start_time": "2023-09-03T06:49:04.444Z"
   },
   {
    "duration": 9,
    "start_time": "2023-09-03T06:49:04.484Z"
   },
   {
    "duration": 3,
    "start_time": "2023-09-03T06:49:04.494Z"
   },
   {
    "duration": 11,
    "start_time": "2023-09-03T06:49:04.498Z"
   },
   {
    "duration": 17,
    "start_time": "2023-09-03T06:49:04.510Z"
   },
   {
    "duration": 35,
    "start_time": "2023-09-03T06:49:04.528Z"
   },
   {
    "duration": 18,
    "start_time": "2023-09-03T06:49:04.565Z"
   },
   {
    "duration": 20,
    "start_time": "2023-09-03T06:49:04.584Z"
   },
   {
    "duration": 16,
    "start_time": "2023-09-03T06:49:04.605Z"
   },
   {
    "duration": 38,
    "start_time": "2023-09-03T06:49:04.622Z"
   },
   {
    "duration": 111,
    "start_time": "2023-09-03T06:49:04.670Z"
   },
   {
    "duration": 23,
    "start_time": "2023-09-03T06:49:04.782Z"
   },
   {
    "duration": 22,
    "start_time": "2023-09-03T06:49:04.806Z"
   },
   {
    "duration": 54,
    "start_time": "2023-09-03T06:49:04.829Z"
   },
   {
    "duration": 23,
    "start_time": "2023-09-03T06:49:04.884Z"
   },
   {
    "duration": 345,
    "start_time": "2023-09-03T06:49:04.909Z"
   },
   {
    "duration": 11,
    "start_time": "2023-09-03T06:49:05.263Z"
   },
   {
    "duration": 40,
    "start_time": "2023-09-03T06:49:05.277Z"
   },
   {
    "duration": 7,
    "start_time": "2023-09-03T06:49:05.318Z"
   },
   {
    "duration": 160,
    "start_time": "2023-09-03T06:49:05.327Z"
   },
   {
    "duration": 157,
    "start_time": "2023-09-03T06:49:05.489Z"
   },
   {
    "duration": 228,
    "start_time": "2023-09-03T06:49:05.649Z"
   },
   {
    "duration": 298,
    "start_time": "2023-09-03T06:49:05.879Z"
   },
   {
    "duration": 152,
    "start_time": "2023-09-03T06:49:06.179Z"
   },
   {
    "duration": 22,
    "start_time": "2023-09-03T06:49:06.333Z"
   },
   {
    "duration": 27,
    "start_time": "2023-09-03T06:49:06.357Z"
   },
   {
    "duration": 160,
    "start_time": "2023-09-03T06:49:06.386Z"
   },
   {
    "duration": 132,
    "start_time": "2023-09-03T06:49:06.549Z"
   },
   {
    "duration": 6,
    "start_time": "2023-09-03T06:49:06.683Z"
   },
   {
    "duration": 22,
    "start_time": "2023-09-03T06:49:06.690Z"
   },
   {
    "duration": 119,
    "start_time": "2023-09-03T06:49:06.713Z"
   },
   {
    "duration": 27,
    "start_time": "2023-09-03T06:49:06.833Z"
   },
   {
    "duration": 158,
    "start_time": "2023-09-03T06:49:06.862Z"
   },
   {
    "duration": 110,
    "start_time": "2023-09-03T06:49:07.022Z"
   },
   {
    "duration": 113,
    "start_time": "2023-09-03T06:49:07.134Z"
   },
   {
    "duration": 15,
    "start_time": "2023-09-03T06:49:07.248Z"
   },
   {
    "duration": 232,
    "start_time": "2023-09-03T06:49:07.266Z"
   },
   {
    "duration": 221,
    "start_time": "2023-09-03T06:49:14.155Z"
   },
   {
    "duration": 37,
    "start_time": "2023-09-03T08:10:30.985Z"
   },
   {
    "duration": 7,
    "start_time": "2023-09-03T08:10:37.644Z"
   },
   {
    "duration": 35,
    "start_time": "2023-09-03T08:11:34.260Z"
   },
   {
    "duration": 7,
    "start_time": "2023-09-03T08:12:29.579Z"
   },
   {
    "duration": 7,
    "start_time": "2023-09-03T08:12:57.947Z"
   },
   {
    "duration": 7,
    "start_time": "2023-09-03T08:13:15.057Z"
   },
   {
    "duration": 50,
    "start_time": "2023-09-03T08:14:59.278Z"
   },
   {
    "duration": 13,
    "start_time": "2023-09-03T08:15:19.371Z"
   },
   {
    "duration": 14,
    "start_time": "2023-09-03T08:15:41.206Z"
   },
   {
    "duration": 15,
    "start_time": "2023-09-03T08:15:48.591Z"
   },
   {
    "duration": 7,
    "start_time": "2023-09-03T08:16:55.011Z"
   },
   {
    "duration": 17,
    "start_time": "2023-09-03T08:18:19.688Z"
   },
   {
    "duration": 14,
    "start_time": "2023-09-03T08:18:56.367Z"
   },
   {
    "duration": 268,
    "start_time": "2023-09-03T08:19:48.643Z"
   },
   {
    "duration": 13,
    "start_time": "2023-09-03T08:20:40.213Z"
   },
   {
    "duration": 19,
    "start_time": "2023-09-03T08:21:32.240Z"
   },
   {
    "duration": 14,
    "start_time": "2023-09-03T08:21:50.286Z"
   },
   {
    "duration": 19,
    "start_time": "2023-09-03T08:22:05.449Z"
   },
   {
    "duration": 10,
    "start_time": "2023-09-03T08:25:44.520Z"
   },
   {
    "duration": 225,
    "start_time": "2023-09-03T08:26:08.174Z"
   },
   {
    "duration": 153,
    "start_time": "2023-09-03T08:27:03.868Z"
   },
   {
    "duration": 169,
    "start_time": "2023-09-03T08:28:07.865Z"
   },
   {
    "duration": 262,
    "start_time": "2023-09-03T08:28:38.150Z"
   },
   {
    "duration": 2000,
    "start_time": "2023-09-03T08:32:45.597Z"
   },
   {
    "duration": 140,
    "start_time": "2023-09-03T08:33:15.937Z"
   },
   {
    "duration": 181,
    "start_time": "2023-09-03T08:33:33.751Z"
   },
   {
    "duration": 165,
    "start_time": "2023-09-03T08:34:12.366Z"
   },
   {
    "duration": 267,
    "start_time": "2023-09-03T08:35:01.453Z"
   },
   {
    "duration": 161,
    "start_time": "2023-09-03T08:35:48.775Z"
   },
   {
    "duration": 78,
    "start_time": "2023-09-03T08:36:08.252Z"
   },
   {
    "duration": 10,
    "start_time": "2023-09-03T08:36:51.188Z"
   },
   {
    "duration": 223,
    "start_time": "2023-09-03T08:37:37.080Z"
   },
   {
    "duration": 151,
    "start_time": "2023-09-03T08:38:15.239Z"
   },
   {
    "duration": 119,
    "start_time": "2023-09-03T08:39:12.013Z"
   },
   {
    "duration": 116,
    "start_time": "2023-09-03T08:40:11.459Z"
   },
   {
    "duration": 19,
    "start_time": "2023-09-03T08:40:11.578Z"
   },
   {
    "duration": 2461,
    "start_time": "2023-09-03T08:40:11.600Z"
   },
   {
    "duration": 35,
    "start_time": "2023-09-03T08:40:14.063Z"
   },
   {
    "duration": 12,
    "start_time": "2023-09-03T08:40:14.101Z"
   },
   {
    "duration": 5,
    "start_time": "2023-09-03T08:40:14.115Z"
   },
   {
    "duration": 33,
    "start_time": "2023-09-03T08:40:14.122Z"
   },
   {
    "duration": 19,
    "start_time": "2023-09-03T08:40:14.157Z"
   },
   {
    "duration": 11,
    "start_time": "2023-09-03T08:40:14.178Z"
   },
   {
    "duration": 15,
    "start_time": "2023-09-03T08:40:14.191Z"
   },
   {
    "duration": 67,
    "start_time": "2023-09-03T08:40:14.209Z"
   },
   {
    "duration": 30,
    "start_time": "2023-09-03T08:40:14.278Z"
   },
   {
    "duration": 6,
    "start_time": "2023-09-03T08:40:14.310Z"
   },
   {
    "duration": 134,
    "start_time": "2023-09-03T08:40:14.319Z"
   },
   {
    "duration": 26,
    "start_time": "2023-09-03T08:40:14.455Z"
   },
   {
    "duration": 24,
    "start_time": "2023-09-03T08:40:14.483Z"
   },
   {
    "duration": 57,
    "start_time": "2023-09-03T08:40:14.509Z"
   },
   {
    "duration": 43,
    "start_time": "2023-09-03T08:40:14.568Z"
   },
   {
    "duration": 368,
    "start_time": "2023-09-03T08:40:14.613Z"
   },
   {
    "duration": 8,
    "start_time": "2023-09-03T08:40:14.983Z"
   },
   {
    "duration": 75,
    "start_time": "2023-09-03T08:40:14.994Z"
   },
   {
    "duration": 10,
    "start_time": "2023-09-03T08:40:15.072Z"
   },
   {
    "duration": 279,
    "start_time": "2023-09-03T08:40:15.086Z"
   },
   {
    "duration": 23,
    "start_time": "2023-09-03T08:40:15.368Z"
   },
   {
    "duration": 286,
    "start_time": "2023-09-03T08:40:15.393Z"
   },
   {
    "duration": 359,
    "start_time": "2023-09-03T08:40:15.681Z"
   },
   {
    "duration": 264,
    "start_time": "2023-09-03T08:40:16.049Z"
   },
   {
    "duration": 340,
    "start_time": "2023-09-03T08:40:16.315Z"
   },
   {
    "duration": 159,
    "start_time": "2023-09-03T08:40:16.657Z"
   },
   {
    "duration": 257,
    "start_time": "2023-09-03T08:40:16.817Z"
   },
   {
    "duration": 150,
    "start_time": "2023-09-03T08:40:17.075Z"
   },
   {
    "duration": 7,
    "start_time": "2023-09-03T08:41:07.768Z"
   },
   {
    "duration": 5,
    "start_time": "2023-09-03T08:41:16.341Z"
   },
   {
    "duration": 158,
    "start_time": "2023-09-03T08:41:21.146Z"
   },
   {
    "duration": 134,
    "start_time": "2023-09-03T08:41:35.609Z"
   },
   {
    "duration": 151,
    "start_time": "2023-09-03T08:42:05.934Z"
   },
   {
    "duration": 7,
    "start_time": "2023-09-03T08:42:55.212Z"
   },
   {
    "duration": 15,
    "start_time": "2023-09-03T08:43:10.499Z"
   },
   {
    "duration": 272,
    "start_time": "2023-09-03T08:43:56.263Z"
   },
   {
    "duration": 15,
    "start_time": "2023-09-03T08:43:59.585Z"
   },
   {
    "duration": 169,
    "start_time": "2023-09-03T08:44:05.888Z"
   },
   {
    "duration": 17,
    "start_time": "2023-09-03T08:44:44.790Z"
   },
   {
    "duration": 162,
    "start_time": "2023-09-03T08:44:48.268Z"
   },
   {
    "duration": 9,
    "start_time": "2023-09-03T08:48:27.726Z"
   },
   {
    "duration": 8,
    "start_time": "2023-09-03T08:49:08.765Z"
   },
   {
    "duration": 14,
    "start_time": "2023-09-03T08:49:25.597Z"
   },
   {
    "duration": 14,
    "start_time": "2023-09-03T08:51:00.827Z"
   },
   {
    "duration": 11,
    "start_time": "2023-09-03T08:51:39.000Z"
   },
   {
    "duration": 117,
    "start_time": "2023-09-03T08:52:12.893Z"
   },
   {
    "duration": 12,
    "start_time": "2023-09-03T08:52:13.011Z"
   },
   {
    "duration": 2294,
    "start_time": "2023-09-03T08:52:13.025Z"
   },
   {
    "duration": 45,
    "start_time": "2023-09-03T08:52:15.320Z"
   },
   {
    "duration": 8,
    "start_time": "2023-09-03T08:52:15.367Z"
   },
   {
    "duration": 5,
    "start_time": "2023-09-03T08:52:15.377Z"
   },
   {
    "duration": 14,
    "start_time": "2023-09-03T08:52:15.383Z"
   },
   {
    "duration": 28,
    "start_time": "2023-09-03T08:52:15.399Z"
   },
   {
    "duration": 11,
    "start_time": "2023-09-03T08:52:15.428Z"
   },
   {
    "duration": 26,
    "start_time": "2023-09-03T08:52:15.440Z"
   },
   {
    "duration": 19,
    "start_time": "2023-09-03T08:52:15.467Z"
   },
   {
    "duration": 25,
    "start_time": "2023-09-03T08:52:15.488Z"
   },
   {
    "duration": 6,
    "start_time": "2023-09-03T08:52:15.514Z"
   },
   {
    "duration": 128,
    "start_time": "2023-09-03T08:52:15.524Z"
   },
   {
    "duration": 25,
    "start_time": "2023-09-03T08:52:15.660Z"
   },
   {
    "duration": 41,
    "start_time": "2023-09-03T08:52:15.687Z"
   },
   {
    "duration": 62,
    "start_time": "2023-09-03T08:52:15.730Z"
   },
   {
    "duration": 44,
    "start_time": "2023-09-03T08:52:15.794Z"
   },
   {
    "duration": 424,
    "start_time": "2023-09-03T08:52:15.839Z"
   },
   {
    "duration": 8,
    "start_time": "2023-09-03T08:52:16.266Z"
   },
   {
    "duration": 64,
    "start_time": "2023-09-03T08:52:16.276Z"
   },
   {
    "duration": 11,
    "start_time": "2023-09-03T08:52:16.342Z"
   },
   {
    "duration": 274,
    "start_time": "2023-09-03T08:52:16.355Z"
   },
   {
    "duration": 33,
    "start_time": "2023-09-03T08:52:16.631Z"
   },
   {
    "duration": 260,
    "start_time": "2023-09-03T08:52:16.669Z"
   },
   {
    "duration": 186,
    "start_time": "2023-09-03T08:52:16.931Z"
   },
   {
    "duration": 165,
    "start_time": "2023-09-03T08:52:17.118Z"
   },
   {
    "duration": 391,
    "start_time": "2023-09-03T08:52:17.284Z"
   },
   {
    "duration": 164,
    "start_time": "2023-09-03T08:52:17.678Z"
   },
   {
    "duration": 245,
    "start_time": "2023-09-03T08:52:17.843Z"
   },
   {
    "duration": 137,
    "start_time": "2023-09-03T08:52:18.090Z"
   },
   {
    "duration": 6,
    "start_time": "2023-09-03T08:52:18.228Z"
   },
   {
    "duration": 15,
    "start_time": "2023-09-03T08:52:18.235Z"
   },
   {
    "duration": 131,
    "start_time": "2023-09-03T08:52:18.255Z"
   },
   {
    "duration": 123,
    "start_time": "2023-09-03T08:52:18.388Z"
   },
   {
    "duration": 7,
    "start_time": "2023-09-03T08:52:18.512Z"
   },
   {
    "duration": 36,
    "start_time": "2023-09-03T08:52:18.521Z"
   },
   {
    "duration": 13,
    "start_time": "2023-09-03T08:52:18.559Z"
   },
   {
    "duration": 16,
    "start_time": "2023-09-03T08:54:03.869Z"
   },
   {
    "duration": 16,
    "start_time": "2023-09-03T08:54:36.343Z"
   },
   {
    "duration": 144,
    "start_time": "2023-09-03T08:54:41.076Z"
   },
   {
    "duration": 16,
    "start_time": "2023-09-03T08:54:58.030Z"
   },
   {
    "duration": 13,
    "start_time": "2023-09-03T08:55:06.261Z"
   },
   {
    "duration": 12,
    "start_time": "2023-09-03T08:55:15.865Z"
   },
   {
    "duration": 112,
    "start_time": "2023-09-03T08:55:37.072Z"
   },
   {
    "duration": 13,
    "start_time": "2023-09-03T08:55:37.186Z"
   },
   {
    "duration": 2188,
    "start_time": "2023-09-03T08:55:37.200Z"
   },
   {
    "duration": 21,
    "start_time": "2023-09-03T08:55:39.390Z"
   },
   {
    "duration": 8,
    "start_time": "2023-09-03T08:55:39.414Z"
   },
   {
    "duration": 26,
    "start_time": "2023-09-03T08:55:39.424Z"
   },
   {
    "duration": 11,
    "start_time": "2023-09-03T08:55:39.451Z"
   },
   {
    "duration": 16,
    "start_time": "2023-09-03T08:55:39.463Z"
   },
   {
    "duration": 14,
    "start_time": "2023-09-03T08:55:39.480Z"
   },
   {
    "duration": 14,
    "start_time": "2023-09-03T08:55:39.495Z"
   },
   {
    "duration": 51,
    "start_time": "2023-09-03T08:55:39.510Z"
   },
   {
    "duration": 18,
    "start_time": "2023-09-03T08:55:39.563Z"
   },
   {
    "duration": 9,
    "start_time": "2023-09-03T08:55:39.582Z"
   },
   {
    "duration": 142,
    "start_time": "2023-09-03T08:55:39.594Z"
   },
   {
    "duration": 41,
    "start_time": "2023-09-03T08:55:39.738Z"
   },
   {
    "duration": 44,
    "start_time": "2023-09-03T08:55:39.782Z"
   },
   {
    "duration": 40,
    "start_time": "2023-09-03T08:55:39.828Z"
   },
   {
    "duration": 36,
    "start_time": "2023-09-03T08:55:39.870Z"
   },
   {
    "duration": 354,
    "start_time": "2023-09-03T08:55:39.908Z"
   },
   {
    "duration": 7,
    "start_time": "2023-09-03T08:55:40.264Z"
   },
   {
    "duration": 54,
    "start_time": "2023-09-03T08:55:40.273Z"
   },
   {
    "duration": 7,
    "start_time": "2023-09-03T08:55:40.329Z"
   },
   {
    "duration": 258,
    "start_time": "2023-09-03T08:55:40.337Z"
   },
   {
    "duration": 16,
    "start_time": "2023-09-03T08:55:40.596Z"
   },
   {
    "duration": 376,
    "start_time": "2023-09-03T08:55:40.613Z"
   },
   {
    "duration": 162,
    "start_time": "2023-09-03T08:55:40.991Z"
   },
   {
    "duration": 158,
    "start_time": "2023-09-03T08:55:41.155Z"
   },
   {
    "duration": 247,
    "start_time": "2023-09-03T08:55:41.315Z"
   },
   {
    "duration": 148,
    "start_time": "2023-09-03T08:55:41.564Z"
   },
   {
    "duration": 232,
    "start_time": "2023-09-03T08:55:41.713Z"
   },
   {
    "duration": 154,
    "start_time": "2023-09-03T08:55:41.947Z"
   },
   {
    "duration": 7,
    "start_time": "2023-09-03T08:55:42.102Z"
   },
   {
    "duration": 34,
    "start_time": "2023-09-03T08:55:42.110Z"
   },
   {
    "duration": 159,
    "start_time": "2023-09-03T08:55:42.146Z"
   },
   {
    "duration": 225,
    "start_time": "2023-09-03T08:55:42.306Z"
   },
   {
    "duration": 17,
    "start_time": "2023-09-03T08:55:42.533Z"
   },
   {
    "duration": 13,
    "start_time": "2023-09-03T08:55:42.552Z"
   },
   {
    "duration": 12,
    "start_time": "2023-09-03T08:55:42.567Z"
   },
   {
    "duration": 18,
    "start_time": "2023-09-03T08:55:42.580Z"
   },
   {
    "duration": 18,
    "start_time": "2023-09-03T08:58:23.148Z"
   },
   {
    "duration": 196,
    "start_time": "2023-09-03T08:58:39.975Z"
   },
   {
    "duration": 161,
    "start_time": "2023-09-03T09:03:48.063Z"
   },
   {
    "duration": 12,
    "start_time": "2023-09-03T09:06:36.205Z"
   },
   {
    "duration": 13,
    "start_time": "2023-09-03T09:07:57.662Z"
   },
   {
    "duration": 8,
    "start_time": "2023-09-03T09:08:05.908Z"
   },
   {
    "duration": 17,
    "start_time": "2023-09-03T09:08:44.305Z"
   },
   {
    "duration": 18,
    "start_time": "2023-09-03T09:09:39.226Z"
   },
   {
    "duration": 9,
    "start_time": "2023-09-03T09:10:08.216Z"
   },
   {
    "duration": 112,
    "start_time": "2023-09-03T09:19:06.564Z"
   },
   {
    "duration": 14,
    "start_time": "2023-09-03T09:19:06.678Z"
   },
   {
    "duration": 2316,
    "start_time": "2023-09-03T09:19:06.693Z"
   },
   {
    "duration": 21,
    "start_time": "2023-09-03T09:19:09.011Z"
   },
   {
    "duration": 29,
    "start_time": "2023-09-03T09:19:09.035Z"
   },
   {
    "duration": 31,
    "start_time": "2023-09-03T09:19:09.066Z"
   },
   {
    "duration": 38,
    "start_time": "2023-09-03T09:19:09.099Z"
   },
   {
    "duration": 26,
    "start_time": "2023-09-03T09:19:09.139Z"
   },
   {
    "duration": 22,
    "start_time": "2023-09-03T09:19:09.168Z"
   },
   {
    "duration": 22,
    "start_time": "2023-09-03T09:19:09.192Z"
   },
   {
    "duration": 32,
    "start_time": "2023-09-03T09:19:09.216Z"
   },
   {
    "duration": 44,
    "start_time": "2023-09-03T09:19:09.250Z"
   },
   {
    "duration": 10,
    "start_time": "2023-09-03T09:19:09.296Z"
   },
   {
    "duration": 167,
    "start_time": "2023-09-03T09:19:09.308Z"
   },
   {
    "duration": 11,
    "start_time": "2023-09-03T09:19:09.477Z"
   },
   {
    "duration": 91,
    "start_time": "2023-09-03T09:19:09.489Z"
   },
   {
    "duration": 34,
    "start_time": "2023-09-03T09:19:09.581Z"
   },
   {
    "duration": 28,
    "start_time": "2023-09-03T09:19:09.617Z"
   },
   {
    "duration": 59,
    "start_time": "2023-09-03T09:19:09.647Z"
   },
   {
    "duration": 344,
    "start_time": "2023-09-03T09:19:09.708Z"
   },
   {
    "duration": 8,
    "start_time": "2023-09-03T09:19:10.054Z"
   },
   {
    "duration": 83,
    "start_time": "2023-09-03T09:19:10.063Z"
   },
   {
    "duration": 6,
    "start_time": "2023-09-03T09:19:10.148Z"
   },
   {
    "duration": 244,
    "start_time": "2023-09-03T09:19:10.156Z"
   },
   {
    "duration": 20,
    "start_time": "2023-09-03T09:19:10.402Z"
   },
   {
    "duration": 260,
    "start_time": "2023-09-03T09:19:10.424Z"
   },
   {
    "duration": 177,
    "start_time": "2023-09-03T09:19:10.685Z"
   },
   {
    "duration": 167,
    "start_time": "2023-09-03T09:19:10.864Z"
   },
   {
    "duration": 370,
    "start_time": "2023-09-03T09:19:11.033Z"
   },
   {
    "duration": 160,
    "start_time": "2023-09-03T09:19:11.405Z"
   },
   {
    "duration": 266,
    "start_time": "2023-09-03T09:19:11.566Z"
   },
   {
    "duration": 137,
    "start_time": "2023-09-03T09:19:11.834Z"
   },
   {
    "duration": 7,
    "start_time": "2023-09-03T09:19:11.973Z"
   },
   {
    "duration": 46,
    "start_time": "2023-09-03T09:19:11.981Z"
   },
   {
    "duration": 156,
    "start_time": "2023-09-03T09:19:12.029Z"
   },
   {
    "duration": 113,
    "start_time": "2023-09-03T09:19:12.187Z"
   },
   {
    "duration": 9,
    "start_time": "2023-09-03T09:19:12.301Z"
   },
   {
    "duration": 38,
    "start_time": "2023-09-03T09:19:12.312Z"
   },
   {
    "duration": 21,
    "start_time": "2023-09-03T09:19:12.353Z"
   },
   {
    "duration": 29,
    "start_time": "2023-09-03T09:19:12.376Z"
   },
   {
    "duration": 158,
    "start_time": "2023-09-03T09:19:12.410Z"
   },
   {
    "duration": 131,
    "start_time": "2023-09-03T09:19:12.570Z"
   },
   {
    "duration": 138,
    "start_time": "2023-09-03T09:19:12.702Z"
   },
   {
    "duration": 14,
    "start_time": "2023-09-03T09:19:12.842Z"
   },
   {
    "duration": 241,
    "start_time": "2023-09-03T09:19:12.857Z"
   },
   {
    "duration": 352,
    "start_time": "2023-09-03T09:19:13.099Z"
   },
   {
    "duration": 9,
    "start_time": "2023-09-03T09:19:13.453Z"
   },
   {
    "duration": 1300,
    "start_time": "2023-09-03T09:32:29.214Z"
   },
   {
    "duration": 1089,
    "start_time": "2023-09-03T09:33:32.956Z"
   },
   {
    "duration": 7,
    "start_time": "2023-09-03T09:35:44.569Z"
   },
   {
    "duration": 1061,
    "start_time": "2023-09-03T09:35:53.794Z"
   },
   {
    "duration": 992,
    "start_time": "2023-09-03T09:36:22.806Z"
   },
   {
    "duration": 11,
    "start_time": "2023-09-03T09:48:44.197Z"
   },
   {
    "duration": 23,
    "start_time": "2023-09-03T09:50:04.383Z"
   },
   {
    "duration": 145,
    "start_time": "2023-09-03T09:50:13.709Z"
   },
   {
    "duration": 169,
    "start_time": "2023-09-03T09:55:46.029Z"
   },
   {
    "duration": 233,
    "start_time": "2023-09-03T09:57:45.266Z"
   },
   {
    "duration": 161,
    "start_time": "2023-09-03T10:02:40.202Z"
   },
   {
    "duration": 258,
    "start_time": "2023-09-03T10:04:39.993Z"
   },
   {
    "duration": 6,
    "start_time": "2023-09-03T10:05:34.317Z"
   },
   {
    "duration": 18,
    "start_time": "2023-09-03T10:17:57.227Z"
   },
   {
    "duration": 21,
    "start_time": "2023-09-03T10:18:27.169Z"
   },
   {
    "duration": 25,
    "start_time": "2023-09-03T10:18:31.562Z"
   },
   {
    "duration": 2366,
    "start_time": "2023-09-03T10:21:39.580Z"
   },
   {
    "duration": 46,
    "start_time": "2023-09-03T10:22:23.550Z"
   },
   {
    "duration": 163,
    "start_time": "2023-09-03T10:22:37.743Z"
   },
   {
    "duration": 34,
    "start_time": "2023-09-03T10:22:43.746Z"
   },
   {
    "duration": 2548,
    "start_time": "2023-09-03T10:23:25.985Z"
   },
   {
    "duration": 50,
    "start_time": "2023-09-03T10:23:45.373Z"
   },
   {
    "duration": 2388,
    "start_time": "2023-09-03T10:25:14.346Z"
   },
   {
    "duration": 2291,
    "start_time": "2023-09-03T10:25:52.790Z"
   },
   {
    "duration": 8,
    "start_time": "2023-09-03T10:26:41.989Z"
   },
   {
    "duration": 184,
    "start_time": "2023-09-03T10:26:52.996Z"
   },
   {
    "duration": 1844,
    "start_time": "2023-09-03T10:28:14.872Z"
   },
   {
    "duration": 151,
    "start_time": "2023-09-03T10:28:23.194Z"
   },
   {
    "duration": 1675,
    "start_time": "2023-09-03T10:29:59.401Z"
   },
   {
    "duration": 2060,
    "start_time": "2023-09-03T10:30:55.576Z"
   },
   {
    "duration": 143,
    "start_time": "2023-09-03T10:31:13.758Z"
   },
   {
    "duration": 191,
    "start_time": "2023-09-03T10:32:21.709Z"
   },
   {
    "duration": 215,
    "start_time": "2023-09-03T10:35:02.370Z"
   },
   {
    "duration": 1734,
    "start_time": "2023-09-03T10:35:57.555Z"
   },
   {
    "duration": 128,
    "start_time": "2023-09-03T10:36:09.928Z"
   },
   {
    "duration": 539,
    "start_time": "2023-09-03T10:40:21.870Z"
   },
   {
    "duration": 15,
    "start_time": "2023-09-03T10:42:40.073Z"
   },
   {
    "duration": 260,
    "start_time": "2023-09-03T10:42:55.463Z"
   },
   {
    "duration": 692,
    "start_time": "2023-09-03T10:45:46.134Z"
   },
   {
    "duration": 154,
    "start_time": "2023-09-03T10:46:22.301Z"
   },
   {
    "duration": 203,
    "start_time": "2023-09-03T10:47:20.420Z"
   },
   {
    "duration": 571,
    "start_time": "2023-09-03T10:48:50.545Z"
   },
   {
    "duration": 49,
    "start_time": "2023-09-03T10:51:25.839Z"
   },
   {
    "duration": 363,
    "start_time": "2023-09-03T10:51:58.713Z"
   },
   {
    "duration": 184,
    "start_time": "2023-09-03T10:52:44.064Z"
   },
   {
    "duration": 7,
    "start_time": "2023-09-03T10:55:39.737Z"
   },
   {
    "duration": 29,
    "start_time": "2023-09-03T10:58:49.404Z"
   },
   {
    "duration": 13,
    "start_time": "2023-09-03T10:58:55.859Z"
   },
   {
    "duration": 1497,
    "start_time": "2023-09-03T11:03:18.977Z"
   },
   {
    "duration": 5,
    "start_time": "2023-09-03T11:03:41.311Z"
   },
   {
    "duration": 12,
    "start_time": "2023-09-03T11:03:45.067Z"
   },
   {
    "duration": 20,
    "start_time": "2023-09-03T11:03:48.143Z"
   },
   {
    "duration": 35,
    "start_time": "2023-09-03T11:05:30.633Z"
   },
   {
    "duration": 26,
    "start_time": "2023-09-03T11:07:02.997Z"
   },
   {
    "duration": 24,
    "start_time": "2023-09-03T11:09:00.904Z"
   },
   {
    "duration": 38,
    "start_time": "2023-09-03T11:09:42.144Z"
   },
   {
    "duration": 21,
    "start_time": "2023-09-03T15:06:26.584Z"
   },
   {
    "duration": 12,
    "start_time": "2023-09-03T15:08:12.878Z"
   },
   {
    "duration": 20,
    "start_time": "2023-09-03T15:08:29.805Z"
   },
   {
    "duration": 7,
    "start_time": "2023-09-03T15:08:48.134Z"
   },
   {
    "duration": 141,
    "start_time": "2023-09-03T15:11:00.241Z"
   },
   {
    "duration": 32,
    "start_time": "2023-09-03T15:11:22.693Z"
   },
   {
    "duration": 44,
    "start_time": "2023-09-03T15:12:39.981Z"
   },
   {
    "duration": 21,
    "start_time": "2023-09-03T15:12:57.864Z"
   },
   {
    "duration": 56,
    "start_time": "2023-09-03T15:13:16.135Z"
   },
   {
    "duration": 21,
    "start_time": "2023-09-03T15:13:27.850Z"
   },
   {
    "duration": 7,
    "start_time": "2023-09-03T15:14:03.593Z"
   },
   {
    "duration": 14,
    "start_time": "2023-09-03T15:14:16.117Z"
   },
   {
    "duration": 15,
    "start_time": "2023-09-03T15:14:35.344Z"
   },
   {
    "duration": 155,
    "start_time": "2023-09-03T15:14:59.263Z"
   },
   {
    "duration": 18,
    "start_time": "2023-09-03T15:24:17.701Z"
   },
   {
    "duration": 7,
    "start_time": "2023-09-03T15:24:44.400Z"
   },
   {
    "duration": 322,
    "start_time": "2023-09-03T15:41:17.150Z"
   },
   {
    "duration": 205,
    "start_time": "2023-09-03T15:42:35.361Z"
   },
   {
    "duration": 163,
    "start_time": "2023-09-03T15:44:00.480Z"
   },
   {
    "duration": 450,
    "start_time": "2023-09-03T15:48:39.992Z"
   },
   {
    "duration": 116,
    "start_time": "2023-09-03T15:48:57.419Z"
   },
   {
    "duration": 24,
    "start_time": "2023-09-03T15:48:57.536Z"
   },
   {
    "duration": 2168,
    "start_time": "2023-09-03T15:48:57.561Z"
   },
   {
    "duration": 8,
    "start_time": "2023-09-03T15:48:59.731Z"
   },
   {
    "duration": 3,
    "start_time": "2023-09-03T15:48:59.750Z"
   },
   {
    "duration": 13,
    "start_time": "2023-09-03T15:48:59.754Z"
   },
   {
    "duration": 16,
    "start_time": "2023-09-03T15:48:59.768Z"
   },
   {
    "duration": 10,
    "start_time": "2023-09-03T15:48:59.785Z"
   },
   {
    "duration": 13,
    "start_time": "2023-09-03T15:48:59.796Z"
   },
   {
    "duration": 48,
    "start_time": "2023-09-03T15:48:59.810Z"
   },
   {
    "duration": 15,
    "start_time": "2023-09-03T15:48:59.860Z"
   },
   {
    "duration": 4,
    "start_time": "2023-09-03T15:48:59.877Z"
   },
   {
    "duration": 111,
    "start_time": "2023-09-03T15:48:59.883Z"
   },
   {
    "duration": 11,
    "start_time": "2023-09-03T15:48:59.997Z"
   },
   {
    "duration": 69,
    "start_time": "2023-09-03T15:49:00.009Z"
   },
   {
    "duration": 41,
    "start_time": "2023-09-03T15:49:00.079Z"
   },
   {
    "duration": 30,
    "start_time": "2023-09-03T15:49:00.121Z"
   },
   {
    "duration": 22,
    "start_time": "2023-09-03T15:49:00.153Z"
   },
   {
    "duration": 323,
    "start_time": "2023-09-03T15:49:00.176Z"
   },
   {
    "duration": 1431,
    "start_time": "2023-09-03T15:49:00.501Z"
   },
   {
    "duration": 1,
    "start_time": "2023-09-03T15:49:01.933Z"
   },
   {
    "duration": 0,
    "start_time": "2023-09-03T15:49:01.935Z"
   },
   {
    "duration": 0,
    "start_time": "2023-09-03T15:49:01.936Z"
   },
   {
    "duration": 0,
    "start_time": "2023-09-03T15:49:01.937Z"
   },
   {
    "duration": 0,
    "start_time": "2023-09-03T15:49:01.938Z"
   },
   {
    "duration": 0,
    "start_time": "2023-09-03T15:49:01.939Z"
   },
   {
    "duration": 0,
    "start_time": "2023-09-03T15:49:01.940Z"
   },
   {
    "duration": 1468,
    "start_time": "2023-09-03T15:49:29.952Z"
   },
   {
    "duration": 1838,
    "start_time": "2023-09-03T15:50:39.633Z"
   },
   {
    "duration": 5,
    "start_time": "2023-09-03T15:51:42.564Z"
   },
   {
    "duration": 9,
    "start_time": "2023-09-03T15:52:16.009Z"
   },
   {
    "duration": 110,
    "start_time": "2023-09-03T15:53:04.468Z"
   },
   {
    "duration": 12,
    "start_time": "2023-09-03T15:53:04.580Z"
   },
   {
    "duration": 2333,
    "start_time": "2023-09-03T15:53:04.593Z"
   },
   {
    "duration": 10,
    "start_time": "2023-09-03T15:53:06.928Z"
   },
   {
    "duration": 28,
    "start_time": "2023-09-03T15:53:06.950Z"
   },
   {
    "duration": 14,
    "start_time": "2023-09-03T15:53:06.979Z"
   },
   {
    "duration": 18,
    "start_time": "2023-09-03T15:53:06.995Z"
   },
   {
    "duration": 10,
    "start_time": "2023-09-03T15:53:07.014Z"
   },
   {
    "duration": 12,
    "start_time": "2023-09-03T15:53:07.026Z"
   },
   {
    "duration": 22,
    "start_time": "2023-09-03T15:53:07.039Z"
   },
   {
    "duration": 16,
    "start_time": "2023-09-03T15:53:07.062Z"
   },
   {
    "duration": 18,
    "start_time": "2023-09-03T15:53:07.080Z"
   },
   {
    "duration": 129,
    "start_time": "2023-09-03T15:53:07.100Z"
   },
   {
    "duration": 26,
    "start_time": "2023-09-03T15:53:07.232Z"
   },
   {
    "duration": 45,
    "start_time": "2023-09-03T15:53:07.259Z"
   },
   {
    "duration": 22,
    "start_time": "2023-09-03T15:53:07.306Z"
   },
   {
    "duration": 29,
    "start_time": "2023-09-03T15:53:07.329Z"
   },
   {
    "duration": 22,
    "start_time": "2023-09-03T15:53:07.359Z"
   },
   {
    "duration": 337,
    "start_time": "2023-09-03T15:53:07.382Z"
   },
   {
    "duration": 32,
    "start_time": "2023-09-03T15:53:07.721Z"
   },
   {
    "duration": 407,
    "start_time": "2023-09-03T15:53:07.755Z"
   },
   {
    "duration": 21,
    "start_time": "2023-09-03T15:53:08.164Z"
   },
   {
    "duration": 297,
    "start_time": "2023-09-03T15:53:08.187Z"
   },
   {
    "duration": 253,
    "start_time": "2023-09-03T15:53:08.486Z"
   },
   {
    "duration": 204,
    "start_time": "2023-09-03T15:53:08.740Z"
   },
   {
    "duration": 251,
    "start_time": "2023-09-03T15:53:08.945Z"
   },
   {
    "duration": 510,
    "start_time": "2023-09-03T15:53:09.198Z"
   },
   {
    "duration": 410,
    "start_time": "2023-09-03T15:54:03.539Z"
   },
   {
    "duration": 125,
    "start_time": "2023-09-03T15:54:14.833Z"
   },
   {
    "duration": 139,
    "start_time": "2023-09-03T15:54:42.333Z"
   },
   {
    "duration": 135,
    "start_time": "2023-09-03T15:55:23.714Z"
   },
   {
    "duration": 248,
    "start_time": "2023-09-03T15:55:41.255Z"
   },
   {
    "duration": 252,
    "start_time": "2023-09-03T16:00:01.976Z"
   },
   {
    "duration": 3,
    "start_time": "2023-09-03T16:00:37.066Z"
   },
   {
    "duration": 120,
    "start_time": "2023-09-03T16:00:38.943Z"
   },
   {
    "duration": 9,
    "start_time": "2023-09-03T16:02:38.290Z"
   },
   {
    "duration": 13,
    "start_time": "2023-09-03T16:02:48.924Z"
   },
   {
    "duration": 10,
    "start_time": "2023-09-03T16:03:04.646Z"
   },
   {
    "duration": 11,
    "start_time": "2023-09-03T16:03:16.208Z"
   },
   {
    "duration": 8,
    "start_time": "2023-09-03T16:03:37.063Z"
   },
   {
    "duration": 243,
    "start_time": "2023-09-03T16:06:47.861Z"
   },
   {
    "duration": 19,
    "start_time": "2023-09-03T16:08:04.837Z"
   },
   {
    "duration": 16,
    "start_time": "2023-09-03T16:09:11.675Z"
   },
   {
    "duration": 13,
    "start_time": "2023-09-03T16:10:25.466Z"
   },
   {
    "duration": 161,
    "start_time": "2023-09-03T16:10:28.980Z"
   },
   {
    "duration": 135,
    "start_time": "2023-09-03T16:14:42.716Z"
   },
   {
    "duration": 154,
    "start_time": "2023-09-03T16:18:14.223Z"
   },
   {
    "duration": 129,
    "start_time": "2023-09-03T16:19:29.588Z"
   },
   {
    "duration": 138,
    "start_time": "2023-09-03T16:20:50.176Z"
   },
   {
    "duration": 216,
    "start_time": "2023-09-03T16:26:02.929Z"
   },
   {
    "duration": 175,
    "start_time": "2023-09-03T16:38:55.831Z"
   },
   {
    "duration": 221,
    "start_time": "2023-09-03T16:47:41.349Z"
   },
   {
    "duration": 124,
    "start_time": "2023-09-03T16:48:09.533Z"
   },
   {
    "duration": 130,
    "start_time": "2023-09-03T16:49:46.347Z"
   },
   {
    "duration": 19,
    "start_time": "2023-09-03T16:49:46.479Z"
   },
   {
    "duration": 2155,
    "start_time": "2023-09-03T16:49:46.500Z"
   },
   {
    "duration": 9,
    "start_time": "2023-09-03T16:49:48.657Z"
   },
   {
    "duration": 3,
    "start_time": "2023-09-03T16:49:48.668Z"
   },
   {
    "duration": 13,
    "start_time": "2023-09-03T16:49:48.672Z"
   },
   {
    "duration": 16,
    "start_time": "2023-09-03T16:49:48.687Z"
   },
   {
    "duration": 13,
    "start_time": "2023-09-03T16:49:48.705Z"
   },
   {
    "duration": 141,
    "start_time": "2023-09-03T16:49:48.720Z"
   },
   {
    "duration": 29,
    "start_time": "2023-09-03T16:49:48.863Z"
   },
   {
    "duration": 33,
    "start_time": "2023-09-03T16:49:48.894Z"
   },
   {
    "duration": 5,
    "start_time": "2023-09-03T16:49:48.928Z"
   },
   {
    "duration": 100,
    "start_time": "2023-09-03T16:49:48.935Z"
   },
   {
    "duration": 11,
    "start_time": "2023-09-03T16:49:49.038Z"
   },
   {
    "duration": 25,
    "start_time": "2023-09-03T16:49:49.050Z"
   },
   {
    "duration": 27,
    "start_time": "2023-09-03T16:49:49.076Z"
   },
   {
    "duration": 49,
    "start_time": "2023-09-03T16:49:49.104Z"
   },
   {
    "duration": 22,
    "start_time": "2023-09-03T16:49:49.155Z"
   },
   {
    "duration": 315,
    "start_time": "2023-09-03T16:49:49.178Z"
   },
   {
    "duration": 6,
    "start_time": "2023-09-03T16:49:49.494Z"
   },
   {
    "duration": 243,
    "start_time": "2023-09-03T16:49:49.501Z"
   },
   {
    "duration": 19,
    "start_time": "2023-09-03T16:49:49.745Z"
   },
   {
    "duration": 255,
    "start_time": "2023-09-03T16:49:49.765Z"
   },
   {
    "duration": 212,
    "start_time": "2023-09-03T16:49:50.022Z"
   },
   {
    "duration": 160,
    "start_time": "2023-09-03T16:49:50.235Z"
   },
   {
    "duration": 330,
    "start_time": "2023-09-03T16:49:50.397Z"
   },
   {
    "duration": 153,
    "start_time": "2023-09-03T16:49:50.728Z"
   },
   {
    "duration": 242,
    "start_time": "2023-09-03T16:49:50.883Z"
   },
   {
    "duration": 148,
    "start_time": "2023-09-03T16:49:51.127Z"
   },
   {
    "duration": 6,
    "start_time": "2023-09-03T16:49:51.277Z"
   },
   {
    "duration": 12,
    "start_time": "2023-09-03T16:49:51.285Z"
   },
   {
    "duration": 131,
    "start_time": "2023-09-03T16:49:51.299Z"
   },
   {
    "duration": 19,
    "start_time": "2023-09-03T16:49:51.431Z"
   },
   {
    "duration": 236,
    "start_time": "2023-09-03T16:49:51.451Z"
   },
   {
    "duration": 7,
    "start_time": "2023-09-03T16:49:51.688Z"
   },
   {
    "duration": 34,
    "start_time": "2023-09-03T16:49:51.696Z"
   },
   {
    "duration": 32,
    "start_time": "2023-09-03T16:49:51.732Z"
   },
   {
    "duration": 13,
    "start_time": "2023-09-03T16:49:51.766Z"
   },
   {
    "duration": 143,
    "start_time": "2023-09-03T16:49:51.781Z"
   },
   {
    "duration": 125,
    "start_time": "2023-09-03T16:49:51.926Z"
   },
   {
    "duration": 126,
    "start_time": "2023-09-03T16:49:52.055Z"
   },
   {
    "duration": 8,
    "start_time": "2023-09-03T16:49:52.183Z"
   },
   {
    "duration": 247,
    "start_time": "2023-09-03T16:49:52.193Z"
   },
   {
    "duration": 161,
    "start_time": "2023-09-03T16:49:52.449Z"
   },
   {
    "duration": 24,
    "start_time": "2023-09-03T16:49:52.612Z"
   },
   {
    "duration": 0,
    "start_time": "2023-09-03T16:49:52.638Z"
   },
   {
    "duration": 0,
    "start_time": "2023-09-03T16:49:52.649Z"
   },
   {
    "duration": 0,
    "start_time": "2023-09-03T16:49:52.650Z"
   },
   {
    "duration": 0,
    "start_time": "2023-09-03T16:49:52.651Z"
   },
   {
    "duration": 0,
    "start_time": "2023-09-03T16:49:52.653Z"
   },
   {
    "duration": 0,
    "start_time": "2023-09-03T16:49:52.654Z"
   },
   {
    "duration": 0,
    "start_time": "2023-09-03T16:49:52.655Z"
   },
   {
    "duration": 0,
    "start_time": "2023-09-03T16:49:52.656Z"
   },
   {
    "duration": 0,
    "start_time": "2023-09-03T16:49:52.657Z"
   },
   {
    "duration": 0,
    "start_time": "2023-09-03T16:49:52.659Z"
   },
   {
    "duration": 0,
    "start_time": "2023-09-03T16:49:52.660Z"
   },
   {
    "duration": 0,
    "start_time": "2023-09-03T16:49:52.661Z"
   },
   {
    "duration": 0,
    "start_time": "2023-09-03T16:49:52.663Z"
   },
   {
    "duration": 0,
    "start_time": "2023-09-03T16:49:52.666Z"
   },
   {
    "duration": 0,
    "start_time": "2023-09-03T16:49:52.667Z"
   },
   {
    "duration": 0,
    "start_time": "2023-09-03T16:49:52.668Z"
   },
   {
    "duration": 0,
    "start_time": "2023-09-03T16:49:52.669Z"
   },
   {
    "duration": 0,
    "start_time": "2023-09-03T16:49:52.670Z"
   },
   {
    "duration": 8,
    "start_time": "2023-09-03T16:50:16.690Z"
   },
   {
    "duration": 153,
    "start_time": "2023-09-03T16:50:25.275Z"
   },
   {
    "duration": 222,
    "start_time": "2023-09-03T16:50:25.429Z"
   },
   {
    "duration": 202,
    "start_time": "2023-09-03T16:50:25.653Z"
   },
   {
    "duration": 7,
    "start_time": "2023-09-03T16:50:25.856Z"
   },
   {
    "duration": 217,
    "start_time": "2023-09-03T16:50:25.866Z"
   },
   {
    "duration": 176,
    "start_time": "2023-09-03T16:50:26.085Z"
   },
   {
    "duration": 169,
    "start_time": "2023-09-03T16:50:26.263Z"
   },
   {
    "duration": 148,
    "start_time": "2023-09-03T16:50:26.434Z"
   },
   {
    "duration": 249,
    "start_time": "2023-09-03T16:50:26.585Z"
   },
   {
    "duration": 199,
    "start_time": "2023-09-03T16:50:26.836Z"
   },
   {
    "duration": 250,
    "start_time": "2023-09-03T16:50:27.037Z"
   },
   {
    "duration": 184,
    "start_time": "2023-09-03T16:50:27.289Z"
   },
   {
    "duration": 4,
    "start_time": "2023-09-03T16:50:27.475Z"
   },
   {
    "duration": 7,
    "start_time": "2023-09-03T16:50:27.482Z"
   },
   {
    "duration": 8,
    "start_time": "2023-09-03T16:50:27.490Z"
   },
   {
    "duration": 23,
    "start_time": "2023-09-03T16:50:27.500Z"
   },
   {
    "duration": 42,
    "start_time": "2023-09-03T16:50:27.524Z"
   },
   {
    "duration": 148,
    "start_time": "2023-09-03T16:50:27.568Z"
   },
   {
    "duration": 121,
    "start_time": "2023-09-03T16:50:27.718Z"
   },
   {
    "duration": 134,
    "start_time": "2023-09-03T17:16:50.424Z"
   },
   {
    "duration": 8,
    "start_time": "2023-09-03T17:17:45.715Z"
   },
   {
    "duration": 121,
    "start_time": "2023-09-03T17:22:16.760Z"
   },
   {
    "duration": 117,
    "start_time": "2023-09-03T17:22:27.889Z"
   },
   {
    "duration": 114,
    "start_time": "2023-09-03T17:23:17.041Z"
   },
   {
    "duration": 13,
    "start_time": "2023-09-03T17:23:17.156Z"
   },
   {
    "duration": 2270,
    "start_time": "2023-09-03T17:23:17.170Z"
   },
   {
    "duration": 13,
    "start_time": "2023-09-03T17:23:19.442Z"
   },
   {
    "duration": 3,
    "start_time": "2023-09-03T17:23:19.457Z"
   },
   {
    "duration": 17,
    "start_time": "2023-09-03T17:23:19.461Z"
   },
   {
    "duration": 15,
    "start_time": "2023-09-03T17:23:19.479Z"
   },
   {
    "duration": 13,
    "start_time": "2023-09-03T17:23:19.496Z"
   },
   {
    "duration": 13,
    "start_time": "2023-09-03T17:23:19.510Z"
   },
   {
    "duration": 40,
    "start_time": "2023-09-03T17:23:19.524Z"
   },
   {
    "duration": 24,
    "start_time": "2023-09-03T17:23:19.565Z"
   },
   {
    "duration": 4,
    "start_time": "2023-09-03T17:23:19.591Z"
   },
   {
    "duration": 108,
    "start_time": "2023-09-03T17:23:19.596Z"
   },
   {
    "duration": 9,
    "start_time": "2023-09-03T17:23:19.706Z"
   },
   {
    "duration": 35,
    "start_time": "2023-09-03T17:23:19.716Z"
   },
   {
    "duration": 35,
    "start_time": "2023-09-03T17:23:19.753Z"
   },
   {
    "duration": 38,
    "start_time": "2023-09-03T17:23:19.789Z"
   },
   {
    "duration": 30,
    "start_time": "2023-09-03T17:23:19.829Z"
   },
   {
    "duration": 420,
    "start_time": "2023-09-03T17:23:19.860Z"
   },
   {
    "duration": 6,
    "start_time": "2023-09-03T17:23:20.281Z"
   },
   {
    "duration": 237,
    "start_time": "2023-09-03T17:23:20.288Z"
   },
   {
    "duration": 24,
    "start_time": "2023-09-03T17:23:20.526Z"
   },
   {
    "duration": 262,
    "start_time": "2023-09-03T17:23:20.552Z"
   },
   {
    "duration": 225,
    "start_time": "2023-09-03T17:23:20.816Z"
   },
   {
    "duration": 168,
    "start_time": "2023-09-03T17:23:21.042Z"
   },
   {
    "duration": 238,
    "start_time": "2023-09-03T17:23:21.211Z"
   },
   {
    "duration": 173,
    "start_time": "2023-09-03T17:23:21.451Z"
   },
   {
    "duration": 361,
    "start_time": "2023-09-03T17:23:21.626Z"
   },
   {
    "duration": 128,
    "start_time": "2023-09-03T17:23:21.989Z"
   },
   {
    "duration": 6,
    "start_time": "2023-09-03T17:23:22.119Z"
   },
   {
    "duration": 4,
    "start_time": "2023-09-03T17:23:22.126Z"
   },
   {
    "duration": 128,
    "start_time": "2023-09-03T17:23:22.132Z"
   },
   {
    "duration": 12,
    "start_time": "2023-09-03T17:23:22.262Z"
   },
   {
    "duration": 238,
    "start_time": "2023-09-03T17:23:22.276Z"
   },
   {
    "duration": 6,
    "start_time": "2023-09-03T17:23:22.516Z"
   },
   {
    "duration": 32,
    "start_time": "2023-09-03T17:23:22.523Z"
   },
   {
    "duration": 14,
    "start_time": "2023-09-03T17:23:22.556Z"
   },
   {
    "duration": 16,
    "start_time": "2023-09-03T17:23:22.572Z"
   },
   {
    "duration": 185,
    "start_time": "2023-09-03T17:23:22.590Z"
   },
   {
    "duration": 122,
    "start_time": "2023-09-03T17:23:22.776Z"
   },
   {
    "duration": 136,
    "start_time": "2023-09-03T17:23:22.901Z"
   },
   {
    "duration": 16,
    "start_time": "2023-09-03T17:23:23.038Z"
   },
   {
    "duration": 139,
    "start_time": "2023-09-03T17:23:23.055Z"
   },
   {
    "duration": 140,
    "start_time": "2023-09-03T17:23:23.196Z"
   },
   {
    "duration": 20,
    "start_time": "2023-09-03T17:23:23.337Z"
   },
   {
    "duration": 262,
    "start_time": "2023-09-03T17:23:23.358Z"
   },
   {
    "duration": 260,
    "start_time": "2023-09-03T17:23:23.621Z"
   },
   {
    "duration": 231,
    "start_time": "2023-09-03T17:23:23.883Z"
   },
   {
    "duration": 6,
    "start_time": "2023-09-03T17:23:24.115Z"
   },
   {
    "duration": 173,
    "start_time": "2023-09-03T17:23:24.123Z"
   },
   {
    "duration": 170,
    "start_time": "2023-09-03T17:23:24.298Z"
   },
   {
    "duration": 178,
    "start_time": "2023-09-03T17:23:24.470Z"
   },
   {
    "duration": 148,
    "start_time": "2023-09-03T17:23:24.650Z"
   },
   {
    "duration": 181,
    "start_time": "2023-09-03T17:23:24.800Z"
   },
   {
    "duration": 198,
    "start_time": "2023-09-03T17:23:24.983Z"
   },
   {
    "duration": 371,
    "start_time": "2023-09-03T17:23:25.183Z"
   },
   {
    "duration": 190,
    "start_time": "2023-09-03T17:23:25.556Z"
   },
   {
    "duration": 150,
    "start_time": "2023-09-03T17:23:25.749Z"
   },
   {
    "duration": 10,
    "start_time": "2023-09-03T17:23:25.901Z"
   },
   {
    "duration": 9,
    "start_time": "2023-09-03T17:23:25.913Z"
   },
   {
    "duration": 28,
    "start_time": "2023-09-03T17:23:25.923Z"
   },
   {
    "duration": 15,
    "start_time": "2023-09-03T17:23:25.953Z"
   },
   {
    "duration": 38,
    "start_time": "2023-09-03T17:23:25.970Z"
   },
   {
    "duration": 37,
    "start_time": "2023-09-03T17:23:26.010Z"
   },
   {
    "duration": 158,
    "start_time": "2023-09-03T17:23:26.049Z"
   },
   {
    "duration": 581,
    "start_time": "2023-09-03T17:31:14.655Z"
   },
   {
    "duration": 13,
    "start_time": "2023-09-03T17:31:15.238Z"
   },
   {
    "duration": 2635,
    "start_time": "2023-09-03T17:31:15.253Z"
   },
   {
    "duration": 10,
    "start_time": "2023-09-03T17:31:17.890Z"
   },
   {
    "duration": 12,
    "start_time": "2023-09-03T17:31:17.902Z"
   },
   {
    "duration": 11,
    "start_time": "2023-09-03T17:31:17.916Z"
   },
   {
    "duration": 30,
    "start_time": "2023-09-03T17:31:17.928Z"
   },
   {
    "duration": 10,
    "start_time": "2023-09-03T17:31:17.959Z"
   },
   {
    "duration": 14,
    "start_time": "2023-09-03T17:31:17.971Z"
   },
   {
    "duration": 29,
    "start_time": "2023-09-03T17:31:17.987Z"
   },
   {
    "duration": 38,
    "start_time": "2023-09-03T17:31:18.017Z"
   },
   {
    "duration": 5,
    "start_time": "2023-09-03T17:31:18.056Z"
   },
   {
    "duration": 83,
    "start_time": "2023-09-03T17:31:18.062Z"
   },
   {
    "duration": 0,
    "start_time": "2023-09-03T17:31:18.149Z"
   },
   {
    "duration": 0,
    "start_time": "2023-09-03T17:31:18.150Z"
   },
   {
    "duration": 0,
    "start_time": "2023-09-03T17:31:18.151Z"
   },
   {
    "duration": 0,
    "start_time": "2023-09-03T17:31:18.152Z"
   },
   {
    "duration": 0,
    "start_time": "2023-09-03T17:31:18.154Z"
   },
   {
    "duration": 0,
    "start_time": "2023-09-03T17:31:18.155Z"
   },
   {
    "duration": 0,
    "start_time": "2023-09-03T17:31:18.157Z"
   },
   {
    "duration": 0,
    "start_time": "2023-09-03T17:31:18.158Z"
   },
   {
    "duration": 0,
    "start_time": "2023-09-03T17:31:18.159Z"
   },
   {
    "duration": 0,
    "start_time": "2023-09-03T17:31:18.160Z"
   },
   {
    "duration": 0,
    "start_time": "2023-09-03T17:31:18.162Z"
   },
   {
    "duration": 0,
    "start_time": "2023-09-03T17:31:18.163Z"
   },
   {
    "duration": 0,
    "start_time": "2023-09-03T17:31:18.164Z"
   },
   {
    "duration": 0,
    "start_time": "2023-09-03T17:31:18.165Z"
   },
   {
    "duration": 0,
    "start_time": "2023-09-03T17:31:18.166Z"
   },
   {
    "duration": 0,
    "start_time": "2023-09-03T17:31:18.167Z"
   },
   {
    "duration": 0,
    "start_time": "2023-09-03T17:31:18.168Z"
   },
   {
    "duration": 0,
    "start_time": "2023-09-03T17:31:18.169Z"
   },
   {
    "duration": 0,
    "start_time": "2023-09-03T17:31:18.170Z"
   },
   {
    "duration": 0,
    "start_time": "2023-09-03T17:31:18.171Z"
   },
   {
    "duration": 0,
    "start_time": "2023-09-03T17:31:18.172Z"
   },
   {
    "duration": 0,
    "start_time": "2023-09-03T17:31:18.173Z"
   },
   {
    "duration": 0,
    "start_time": "2023-09-03T17:31:18.174Z"
   },
   {
    "duration": 0,
    "start_time": "2023-09-03T17:31:18.175Z"
   },
   {
    "duration": 0,
    "start_time": "2023-09-03T17:31:18.176Z"
   },
   {
    "duration": 0,
    "start_time": "2023-09-03T17:31:18.177Z"
   },
   {
    "duration": 0,
    "start_time": "2023-09-03T17:31:18.179Z"
   },
   {
    "duration": 0,
    "start_time": "2023-09-03T17:31:18.179Z"
   },
   {
    "duration": 0,
    "start_time": "2023-09-03T17:31:18.180Z"
   },
   {
    "duration": 0,
    "start_time": "2023-09-03T17:31:18.181Z"
   },
   {
    "duration": 0,
    "start_time": "2023-09-03T17:31:18.182Z"
   },
   {
    "duration": 0,
    "start_time": "2023-09-03T17:31:18.183Z"
   },
   {
    "duration": 0,
    "start_time": "2023-09-03T17:31:18.184Z"
   },
   {
    "duration": 0,
    "start_time": "2023-09-03T17:31:18.185Z"
   },
   {
    "duration": 0,
    "start_time": "2023-09-03T17:31:18.186Z"
   },
   {
    "duration": 0,
    "start_time": "2023-09-03T17:31:18.187Z"
   },
   {
    "duration": 0,
    "start_time": "2023-09-03T17:31:18.188Z"
   },
   {
    "duration": 0,
    "start_time": "2023-09-03T17:31:18.189Z"
   },
   {
    "duration": 0,
    "start_time": "2023-09-03T17:31:18.189Z"
   },
   {
    "duration": 0,
    "start_time": "2023-09-03T17:31:18.190Z"
   },
   {
    "duration": 0,
    "start_time": "2023-09-03T17:31:18.190Z"
   },
   {
    "duration": 0,
    "start_time": "2023-09-03T17:31:18.191Z"
   },
   {
    "duration": 0,
    "start_time": "2023-09-03T17:31:18.191Z"
   },
   {
    "duration": 0,
    "start_time": "2023-09-03T17:31:18.192Z"
   },
   {
    "duration": 0,
    "start_time": "2023-09-03T17:31:18.244Z"
   },
   {
    "duration": 0,
    "start_time": "2023-09-03T17:31:18.245Z"
   },
   {
    "duration": 0,
    "start_time": "2023-09-03T17:31:18.246Z"
   },
   {
    "duration": 0,
    "start_time": "2023-09-03T17:31:18.247Z"
   },
   {
    "duration": 0,
    "start_time": "2023-09-03T17:31:18.248Z"
   },
   {
    "duration": 0,
    "start_time": "2023-09-03T17:31:18.249Z"
   },
   {
    "duration": 0,
    "start_time": "2023-09-03T17:31:18.250Z"
   },
   {
    "duration": 0,
    "start_time": "2023-09-03T17:31:18.251Z"
   },
   {
    "duration": 373,
    "start_time": "2023-09-03T20:04:57.518Z"
   },
   {
    "duration": 809,
    "start_time": "2023-09-03T20:05:02.274Z"
   },
   {
    "duration": 3,
    "start_time": "2023-09-03T20:05:13.722Z"
   },
   {
    "duration": 134,
    "start_time": "2023-09-03T20:05:13.728Z"
   },
   {
    "duration": 19,
    "start_time": "2023-09-03T20:05:13.864Z"
   },
   {
    "duration": 2950,
    "start_time": "2023-09-03T20:05:13.884Z"
   },
   {
    "duration": 28,
    "start_time": "2023-09-03T20:05:16.836Z"
   },
   {
    "duration": 8,
    "start_time": "2023-09-03T20:05:16.866Z"
   },
   {
    "duration": 11,
    "start_time": "2023-09-03T20:05:16.876Z"
   },
   {
    "duration": 20,
    "start_time": "2023-09-03T20:05:16.888Z"
   },
   {
    "duration": 11,
    "start_time": "2023-09-03T20:05:16.910Z"
   },
   {
    "duration": 42,
    "start_time": "2023-09-03T20:05:16.922Z"
   },
   {
    "duration": 25,
    "start_time": "2023-09-03T20:05:16.967Z"
   },
   {
    "duration": 75,
    "start_time": "2023-09-03T20:05:16.993Z"
   },
   {
    "duration": 5,
    "start_time": "2023-09-03T20:05:17.071Z"
   },
   {
    "duration": 190,
    "start_time": "2023-09-03T20:05:17.078Z"
   },
   {
    "duration": 0,
    "start_time": "2023-09-03T20:05:17.271Z"
   },
   {
    "duration": 0,
    "start_time": "2023-09-03T20:05:17.272Z"
   },
   {
    "duration": 0,
    "start_time": "2023-09-03T20:05:17.273Z"
   },
   {
    "duration": 1,
    "start_time": "2023-09-03T20:05:17.274Z"
   },
   {
    "duration": 0,
    "start_time": "2023-09-03T20:05:17.275Z"
   },
   {
    "duration": 0,
    "start_time": "2023-09-03T20:05:17.277Z"
   },
   {
    "duration": 0,
    "start_time": "2023-09-03T20:05:17.278Z"
   },
   {
    "duration": 0,
    "start_time": "2023-09-03T20:05:17.278Z"
   },
   {
    "duration": 0,
    "start_time": "2023-09-03T20:05:17.279Z"
   },
   {
    "duration": 0,
    "start_time": "2023-09-03T20:05:17.280Z"
   },
   {
    "duration": 0,
    "start_time": "2023-09-03T20:05:17.281Z"
   },
   {
    "duration": 0,
    "start_time": "2023-09-03T20:05:17.282Z"
   },
   {
    "duration": 0,
    "start_time": "2023-09-03T20:05:17.283Z"
   },
   {
    "duration": 0,
    "start_time": "2023-09-03T20:05:17.284Z"
   },
   {
    "duration": 0,
    "start_time": "2023-09-03T20:05:17.285Z"
   },
   {
    "duration": 0,
    "start_time": "2023-09-03T20:05:17.286Z"
   },
   {
    "duration": 0,
    "start_time": "2023-09-03T20:05:17.287Z"
   },
   {
    "duration": 0,
    "start_time": "2023-09-03T20:05:17.288Z"
   },
   {
    "duration": 0,
    "start_time": "2023-09-03T20:05:17.289Z"
   },
   {
    "duration": 0,
    "start_time": "2023-09-03T20:05:17.290Z"
   },
   {
    "duration": 0,
    "start_time": "2023-09-03T20:05:17.291Z"
   },
   {
    "duration": 0,
    "start_time": "2023-09-03T20:05:17.292Z"
   },
   {
    "duration": 0,
    "start_time": "2023-09-03T20:05:17.293Z"
   },
   {
    "duration": 0,
    "start_time": "2023-09-03T20:05:17.294Z"
   },
   {
    "duration": 0,
    "start_time": "2023-09-03T20:05:17.295Z"
   },
   {
    "duration": 0,
    "start_time": "2023-09-03T20:05:17.296Z"
   },
   {
    "duration": 0,
    "start_time": "2023-09-03T20:05:17.297Z"
   },
   {
    "duration": 0,
    "start_time": "2023-09-03T20:05:17.298Z"
   },
   {
    "duration": 0,
    "start_time": "2023-09-03T20:05:17.299Z"
   },
   {
    "duration": 0,
    "start_time": "2023-09-03T20:05:17.301Z"
   },
   {
    "duration": 0,
    "start_time": "2023-09-03T20:05:17.301Z"
   },
   {
    "duration": 0,
    "start_time": "2023-09-03T20:05:17.302Z"
   },
   {
    "duration": 0,
    "start_time": "2023-09-03T20:05:17.352Z"
   },
   {
    "duration": 0,
    "start_time": "2023-09-03T20:05:17.353Z"
   },
   {
    "duration": 0,
    "start_time": "2023-09-03T20:05:17.353Z"
   },
   {
    "duration": 0,
    "start_time": "2023-09-03T20:05:17.354Z"
   },
   {
    "duration": 0,
    "start_time": "2023-09-03T20:05:17.355Z"
   },
   {
    "duration": 0,
    "start_time": "2023-09-03T20:05:17.356Z"
   },
   {
    "duration": 0,
    "start_time": "2023-09-03T20:05:17.357Z"
   },
   {
    "duration": 0,
    "start_time": "2023-09-03T20:05:17.358Z"
   },
   {
    "duration": 0,
    "start_time": "2023-09-03T20:05:17.359Z"
   },
   {
    "duration": 0,
    "start_time": "2023-09-03T20:05:17.359Z"
   },
   {
    "duration": 0,
    "start_time": "2023-09-03T20:05:17.360Z"
   },
   {
    "duration": 0,
    "start_time": "2023-09-03T20:05:17.361Z"
   },
   {
    "duration": 0,
    "start_time": "2023-09-03T20:05:17.362Z"
   },
   {
    "duration": 0,
    "start_time": "2023-09-03T20:05:17.363Z"
   },
   {
    "duration": 0,
    "start_time": "2023-09-03T20:05:17.364Z"
   },
   {
    "duration": 0,
    "start_time": "2023-09-03T20:05:17.365Z"
   },
   {
    "duration": 0,
    "start_time": "2023-09-03T20:05:17.366Z"
   },
   {
    "duration": 0,
    "start_time": "2023-09-03T20:05:17.367Z"
   },
   {
    "duration": 0,
    "start_time": "2023-09-03T20:05:17.368Z"
   },
   {
    "duration": 0,
    "start_time": "2023-09-03T20:05:17.369Z"
   },
   {
    "duration": 3,
    "start_time": "2023-09-03T20:05:56.467Z"
   },
   {
    "duration": 127,
    "start_time": "2023-09-03T20:05:56.473Z"
   },
   {
    "duration": 22,
    "start_time": "2023-09-03T20:05:56.602Z"
   },
   {
    "duration": 2505,
    "start_time": "2023-09-03T20:05:56.650Z"
   },
   {
    "duration": 15,
    "start_time": "2023-09-03T20:05:59.157Z"
   },
   {
    "duration": 4,
    "start_time": "2023-09-03T20:05:59.174Z"
   },
   {
    "duration": 24,
    "start_time": "2023-09-03T20:05:59.180Z"
   },
   {
    "duration": 16,
    "start_time": "2023-09-03T20:05:59.206Z"
   },
   {
    "duration": 9,
    "start_time": "2023-09-03T20:05:59.224Z"
   },
   {
    "duration": 27,
    "start_time": "2023-09-03T20:05:59.235Z"
   },
   {
    "duration": 20,
    "start_time": "2023-09-03T20:05:59.264Z"
   },
   {
    "duration": 29,
    "start_time": "2023-09-03T20:05:59.286Z"
   },
   {
    "duration": 6,
    "start_time": "2023-09-03T20:05:59.317Z"
   },
   {
    "duration": 136,
    "start_time": "2023-09-03T20:05:59.328Z"
   },
   {
    "duration": 12,
    "start_time": "2023-09-03T20:05:59.465Z"
   },
   {
    "duration": 24,
    "start_time": "2023-09-03T20:05:59.478Z"
   },
   {
    "duration": 26,
    "start_time": "2023-09-03T20:05:59.503Z"
   },
   {
    "duration": 33,
    "start_time": "2023-09-03T20:05:59.553Z"
   },
   {
    "duration": 28,
    "start_time": "2023-09-03T20:05:59.588Z"
   },
   {
    "duration": 376,
    "start_time": "2023-09-03T20:05:59.618Z"
   },
   {
    "duration": 6,
    "start_time": "2023-09-03T20:05:59.995Z"
   },
   {
    "duration": 269,
    "start_time": "2023-09-03T20:06:00.003Z"
   },
   {
    "duration": 19,
    "start_time": "2023-09-03T20:06:00.274Z"
   },
   {
    "duration": 372,
    "start_time": "2023-09-03T20:06:00.295Z"
   },
   {
    "duration": 237,
    "start_time": "2023-09-03T20:06:00.669Z"
   },
   {
    "duration": 186,
    "start_time": "2023-09-03T20:06:00.908Z"
   },
   {
    "duration": 271,
    "start_time": "2023-09-03T20:06:01.096Z"
   },
   {
    "duration": 164,
    "start_time": "2023-09-03T20:06:01.369Z"
   },
   {
    "duration": 308,
    "start_time": "2023-09-03T20:06:01.535Z"
   },
   {
    "duration": 154,
    "start_time": "2023-09-03T20:06:01.845Z"
   },
   {
    "duration": 6,
    "start_time": "2023-09-03T20:06:02.001Z"
   },
   {
    "duration": 35,
    "start_time": "2023-09-03T20:06:02.009Z"
   },
   {
    "duration": 149,
    "start_time": "2023-09-03T20:06:02.045Z"
   },
   {
    "duration": 9,
    "start_time": "2023-09-03T20:06:02.195Z"
   },
   {
    "duration": 364,
    "start_time": "2023-09-03T20:06:02.206Z"
   },
   {
    "duration": 9,
    "start_time": "2023-09-03T20:06:02.572Z"
   },
   {
    "duration": 15,
    "start_time": "2023-09-03T20:06:02.582Z"
   },
   {
    "duration": 21,
    "start_time": "2023-09-03T20:06:02.599Z"
   },
   {
    "duration": 42,
    "start_time": "2023-09-03T20:06:02.621Z"
   },
   {
    "duration": 158,
    "start_time": "2023-09-03T20:06:02.665Z"
   },
   {
    "duration": 149,
    "start_time": "2023-09-03T20:06:02.827Z"
   },
   {
    "duration": 135,
    "start_time": "2023-09-03T20:06:02.977Z"
   },
   {
    "duration": 10,
    "start_time": "2023-09-03T20:06:03.114Z"
   },
   {
    "duration": 185,
    "start_time": "2023-09-03T20:06:03.126Z"
   },
   {
    "duration": 166,
    "start_time": "2023-09-03T20:06:03.313Z"
   },
   {
    "duration": 9,
    "start_time": "2023-09-03T20:06:03.481Z"
   },
   {
    "duration": 186,
    "start_time": "2023-09-03T20:06:03.492Z"
   },
   {
    "duration": 244,
    "start_time": "2023-09-03T20:06:03.679Z"
   },
   {
    "duration": 345,
    "start_time": "2023-09-03T20:06:03.925Z"
   },
   {
    "duration": 7,
    "start_time": "2023-09-03T20:06:04.271Z"
   },
   {
    "duration": 194,
    "start_time": "2023-09-03T20:06:04.280Z"
   },
   {
    "duration": 192,
    "start_time": "2023-09-03T20:06:04.476Z"
   },
   {
    "duration": 168,
    "start_time": "2023-09-03T20:06:04.671Z"
   },
   {
    "duration": 192,
    "start_time": "2023-09-03T20:06:04.840Z"
   },
   {
    "duration": 171,
    "start_time": "2023-09-03T20:06:05.034Z"
   },
   {
    "duration": 208,
    "start_time": "2023-09-03T20:06:05.207Z"
   },
   {
    "duration": 279,
    "start_time": "2023-09-03T20:06:05.417Z"
   },
   {
    "duration": 206,
    "start_time": "2023-09-03T20:06:05.699Z"
   },
   {
    "duration": 276,
    "start_time": "2023-09-03T20:06:05.907Z"
   },
   {
    "duration": 10,
    "start_time": "2023-09-03T20:06:06.185Z"
   },
   {
    "duration": 32,
    "start_time": "2023-09-03T20:06:06.197Z"
   },
   {
    "duration": 33,
    "start_time": "2023-09-03T20:06:06.232Z"
   },
   {
    "duration": 16,
    "start_time": "2023-09-03T20:06:06.266Z"
   },
   {
    "duration": 36,
    "start_time": "2023-09-03T20:06:06.284Z"
   },
   {
    "duration": 22,
    "start_time": "2023-09-03T20:06:06.322Z"
   },
   {
    "duration": 158,
    "start_time": "2023-09-03T20:06:06.346Z"
   },
   {
    "duration": 101,
    "start_time": "2023-09-03T20:31:54.220Z"
   },
   {
    "duration": 9,
    "start_time": "2023-09-03T20:32:19.692Z"
   },
   {
    "duration": 47,
    "start_time": "2023-09-03T20:32:28.671Z"
   },
   {
    "duration": 33,
    "start_time": "2023-09-03T20:33:13.679Z"
   },
   {
    "duration": 2,
    "start_time": "2023-09-03T20:40:03.360Z"
   },
   {
    "duration": 120,
    "start_time": "2023-09-03T20:40:03.364Z"
   },
   {
    "duration": 12,
    "start_time": "2023-09-03T20:40:03.486Z"
   },
   {
    "duration": 2180,
    "start_time": "2023-09-03T20:40:03.500Z"
   },
   {
    "duration": 21,
    "start_time": "2023-09-03T20:40:41.858Z"
   },
   {
    "duration": 473,
    "start_time": "2023-09-04T06:46:23.714Z"
   },
   {
    "duration": 390,
    "start_time": "2023-09-04T06:46:24.192Z"
   },
   {
    "duration": 16,
    "start_time": "2023-09-04T06:46:24.584Z"
   },
   {
    "duration": 3616,
    "start_time": "2023-09-04T06:46:24.603Z"
   },
   {
    "duration": 83,
    "start_time": "2023-09-04T06:46:28.222Z"
   },
   {
    "duration": 8,
    "start_time": "2023-09-04T06:46:28.307Z"
   },
   {
    "duration": 31,
    "start_time": "2023-09-04T06:46:28.317Z"
   },
   {
    "duration": 33,
    "start_time": "2023-09-04T06:46:28.350Z"
   },
   {
    "duration": 14,
    "start_time": "2023-09-04T06:46:28.396Z"
   },
   {
    "duration": 34,
    "start_time": "2023-09-04T06:46:28.413Z"
   },
   {
    "duration": 32,
    "start_time": "2023-09-04T06:46:28.449Z"
   },
   {
    "duration": 22,
    "start_time": "2023-09-04T06:46:28.483Z"
   },
   {
    "duration": 5,
    "start_time": "2023-09-04T06:46:28.508Z"
   },
   {
    "duration": 183,
    "start_time": "2023-09-04T06:46:28.515Z"
   },
   {
    "duration": 13,
    "start_time": "2023-09-04T06:46:28.700Z"
   },
   {
    "duration": 61,
    "start_time": "2023-09-04T06:46:28.715Z"
   },
   {
    "duration": 32,
    "start_time": "2023-09-04T06:46:28.777Z"
   },
   {
    "duration": 72,
    "start_time": "2023-09-04T06:46:28.811Z"
   },
   {
    "duration": 28,
    "start_time": "2023-09-04T06:46:28.885Z"
   },
   {
    "duration": 456,
    "start_time": "2023-09-04T06:46:28.915Z"
   },
   {
    "duration": 7,
    "start_time": "2023-09-04T06:46:29.373Z"
   },
   {
    "duration": 427,
    "start_time": "2023-09-04T06:46:29.382Z"
   },
   {
    "duration": 21,
    "start_time": "2023-09-04T06:46:29.811Z"
   },
   {
    "duration": 354,
    "start_time": "2023-09-04T06:46:29.847Z"
   },
   {
    "duration": 333,
    "start_time": "2023-09-04T06:46:30.203Z"
   },
   {
    "duration": 236,
    "start_time": "2023-09-04T06:46:30.539Z"
   },
   {
    "duration": 336,
    "start_time": "2023-09-04T06:46:30.777Z"
   },
   {
    "duration": 213,
    "start_time": "2023-09-04T06:46:31.117Z"
   },
   {
    "duration": 363,
    "start_time": "2023-09-04T06:46:31.332Z"
   },
   {
    "duration": 298,
    "start_time": "2023-09-04T06:46:31.697Z"
   },
   {
    "duration": 10,
    "start_time": "2023-09-04T06:46:31.997Z"
   },
   {
    "duration": 38,
    "start_time": "2023-09-04T06:46:32.009Z"
   },
   {
    "duration": 233,
    "start_time": "2023-09-04T06:46:32.049Z"
   },
   {
    "duration": 12,
    "start_time": "2023-09-04T06:46:32.285Z"
   },
   {
    "duration": 352,
    "start_time": "2023-09-04T06:46:32.299Z"
   },
   {
    "duration": 14,
    "start_time": "2023-09-04T06:46:32.653Z"
   },
   {
    "duration": 25,
    "start_time": "2023-09-04T06:46:32.669Z"
   },
   {
    "duration": 22,
    "start_time": "2023-09-04T06:46:32.696Z"
   },
   {
    "duration": 28,
    "start_time": "2023-09-04T06:46:32.720Z"
   },
   {
    "duration": 223,
    "start_time": "2023-09-04T06:46:32.751Z"
   },
   {
    "duration": 180,
    "start_time": "2023-09-04T06:46:32.977Z"
   },
   {
    "duration": 156,
    "start_time": "2023-09-04T06:46:33.160Z"
   },
   {
    "duration": 9,
    "start_time": "2023-09-04T06:46:33.317Z"
   },
   {
    "duration": 209,
    "start_time": "2023-09-04T06:46:33.328Z"
   },
   {
    "duration": 226,
    "start_time": "2023-09-04T06:46:33.540Z"
   },
   {
    "duration": 14,
    "start_time": "2023-09-04T06:46:33.769Z"
   },
   {
    "duration": 263,
    "start_time": "2023-09-04T06:46:33.786Z"
   },
   {
    "duration": 388,
    "start_time": "2023-09-04T06:46:34.051Z"
   },
   {
    "duration": 278,
    "start_time": "2023-09-04T06:46:34.446Z"
   },
   {
    "duration": 7,
    "start_time": "2023-09-04T06:46:34.726Z"
   },
   {
    "duration": 235,
    "start_time": "2023-09-04T06:46:34.749Z"
   },
   {
    "duration": 240,
    "start_time": "2023-09-04T06:46:34.986Z"
   },
   {
    "duration": 273,
    "start_time": "2023-09-04T06:46:35.228Z"
   },
   {
    "duration": 208,
    "start_time": "2023-09-04T06:46:35.504Z"
   },
   {
    "duration": 211,
    "start_time": "2023-09-04T06:46:35.714Z"
   },
   {
    "duration": 274,
    "start_time": "2023-09-04T06:46:35.927Z"
   },
   {
    "duration": 327,
    "start_time": "2023-09-04T06:46:36.203Z"
   },
   {
    "duration": 352,
    "start_time": "2023-09-04T06:46:36.533Z"
   },
   {
    "duration": 195,
    "start_time": "2023-09-04T06:46:36.886Z"
   },
   {
    "duration": 11,
    "start_time": "2023-09-04T06:46:37.083Z"
   },
   {
    "duration": 13,
    "start_time": "2023-09-04T06:46:37.096Z"
   },
   {
    "duration": 13,
    "start_time": "2023-09-04T06:46:37.110Z"
   },
   {
    "duration": 28,
    "start_time": "2023-09-04T06:46:37.124Z"
   },
   {
    "duration": 40,
    "start_time": "2023-09-04T06:46:37.155Z"
   },
   {
    "duration": 22,
    "start_time": "2023-09-04T06:46:37.197Z"
   },
   {
    "duration": 201,
    "start_time": "2023-09-04T06:46:37.221Z"
   },
   {
    "duration": 51,
    "start_time": "2023-09-04T06:48:07.674Z"
   },
   {
    "duration": 34,
    "start_time": "2023-09-04T06:48:34.446Z"
   },
   {
    "duration": 23,
    "start_time": "2023-09-04T07:19:19.837Z"
   },
   {
    "duration": 6,
    "start_time": "2023-09-04T07:20:36.962Z"
   },
   {
    "duration": 5,
    "start_time": "2023-09-04T07:20:42.337Z"
   },
   {
    "duration": 371,
    "start_time": "2023-09-04T10:20:07.094Z"
   },
   {
    "duration": 178,
    "start_time": "2023-09-04T10:20:07.467Z"
   },
   {
    "duration": 14,
    "start_time": "2023-09-04T10:20:07.646Z"
   },
   {
    "duration": 2805,
    "start_time": "2023-09-04T10:20:07.662Z"
   },
   {
    "duration": 64,
    "start_time": "2023-09-04T10:20:10.468Z"
   },
   {
    "duration": 6,
    "start_time": "2023-09-04T10:20:10.534Z"
   },
   {
    "duration": 14,
    "start_time": "2023-09-04T10:20:10.557Z"
   },
   {
    "duration": 18,
    "start_time": "2023-09-04T10:20:10.572Z"
   },
   {
    "duration": 11,
    "start_time": "2023-09-04T10:20:10.592Z"
   },
   {
    "duration": 14,
    "start_time": "2023-09-04T10:20:10.606Z"
   },
   {
    "duration": 121,
    "start_time": "2023-09-04T10:20:10.621Z"
   },
   {
    "duration": 0,
    "start_time": "2023-09-04T10:20:10.747Z"
   },
   {
    "duration": 0,
    "start_time": "2023-09-04T10:20:10.757Z"
   },
   {
    "duration": 0,
    "start_time": "2023-09-04T10:20:10.759Z"
   },
   {
    "duration": 0,
    "start_time": "2023-09-04T10:20:10.760Z"
   },
   {
    "duration": 0,
    "start_time": "2023-09-04T10:20:10.761Z"
   },
   {
    "duration": 0,
    "start_time": "2023-09-04T10:20:10.762Z"
   },
   {
    "duration": 0,
    "start_time": "2023-09-04T10:20:10.763Z"
   },
   {
    "duration": 0,
    "start_time": "2023-09-04T10:20:10.764Z"
   },
   {
    "duration": 0,
    "start_time": "2023-09-04T10:20:10.765Z"
   },
   {
    "duration": 0,
    "start_time": "2023-09-04T10:20:10.766Z"
   },
   {
    "duration": 0,
    "start_time": "2023-09-04T10:20:10.767Z"
   },
   {
    "duration": 0,
    "start_time": "2023-09-04T10:20:10.768Z"
   },
   {
    "duration": 0,
    "start_time": "2023-09-04T10:20:10.769Z"
   },
   {
    "duration": 0,
    "start_time": "2023-09-04T10:20:10.770Z"
   },
   {
    "duration": 0,
    "start_time": "2023-09-04T10:20:10.771Z"
   },
   {
    "duration": 0,
    "start_time": "2023-09-04T10:20:10.772Z"
   },
   {
    "duration": 0,
    "start_time": "2023-09-04T10:20:10.773Z"
   },
   {
    "duration": 0,
    "start_time": "2023-09-04T10:20:10.774Z"
   },
   {
    "duration": 0,
    "start_time": "2023-09-04T10:20:10.775Z"
   },
   {
    "duration": 0,
    "start_time": "2023-09-04T10:20:10.776Z"
   },
   {
    "duration": 0,
    "start_time": "2023-09-04T10:20:10.777Z"
   },
   {
    "duration": 0,
    "start_time": "2023-09-04T10:20:10.778Z"
   },
   {
    "duration": 0,
    "start_time": "2023-09-04T10:20:10.779Z"
   },
   {
    "duration": 0,
    "start_time": "2023-09-04T10:20:10.780Z"
   },
   {
    "duration": 0,
    "start_time": "2023-09-04T10:20:10.781Z"
   },
   {
    "duration": 0,
    "start_time": "2023-09-04T10:20:10.782Z"
   },
   {
    "duration": 0,
    "start_time": "2023-09-04T10:20:10.783Z"
   },
   {
    "duration": 0,
    "start_time": "2023-09-04T10:20:10.785Z"
   },
   {
    "duration": 0,
    "start_time": "2023-09-04T10:20:10.786Z"
   },
   {
    "duration": 0,
    "start_time": "2023-09-04T10:20:10.787Z"
   },
   {
    "duration": 0,
    "start_time": "2023-09-04T10:20:10.788Z"
   },
   {
    "duration": 0,
    "start_time": "2023-09-04T10:20:10.789Z"
   },
   {
    "duration": 0,
    "start_time": "2023-09-04T10:20:10.790Z"
   },
   {
    "duration": 0,
    "start_time": "2023-09-04T10:20:10.791Z"
   },
   {
    "duration": 0,
    "start_time": "2023-09-04T10:20:10.793Z"
   },
   {
    "duration": 0,
    "start_time": "2023-09-04T10:20:10.794Z"
   },
   {
    "duration": 0,
    "start_time": "2023-09-04T10:20:10.795Z"
   },
   {
    "duration": 0,
    "start_time": "2023-09-04T10:20:10.857Z"
   },
   {
    "duration": 0,
    "start_time": "2023-09-04T10:20:10.859Z"
   },
   {
    "duration": 0,
    "start_time": "2023-09-04T10:20:10.860Z"
   },
   {
    "duration": 0,
    "start_time": "2023-09-04T10:20:10.861Z"
   },
   {
    "duration": 0,
    "start_time": "2023-09-04T10:20:10.862Z"
   },
   {
    "duration": 0,
    "start_time": "2023-09-04T10:20:10.863Z"
   },
   {
    "duration": 0,
    "start_time": "2023-09-04T10:20:10.864Z"
   },
   {
    "duration": 0,
    "start_time": "2023-09-04T10:20:10.866Z"
   },
   {
    "duration": 0,
    "start_time": "2023-09-04T10:20:10.867Z"
   },
   {
    "duration": 0,
    "start_time": "2023-09-04T10:20:10.868Z"
   },
   {
    "duration": 0,
    "start_time": "2023-09-04T10:20:10.870Z"
   },
   {
    "duration": 0,
    "start_time": "2023-09-04T10:20:10.871Z"
   },
   {
    "duration": 0,
    "start_time": "2023-09-04T10:20:10.873Z"
   },
   {
    "duration": 0,
    "start_time": "2023-09-04T10:20:10.874Z"
   },
   {
    "duration": 0,
    "start_time": "2023-09-04T10:20:10.875Z"
   },
   {
    "duration": 0,
    "start_time": "2023-09-04T10:20:10.876Z"
   },
   {
    "duration": 0,
    "start_time": "2023-09-04T10:20:10.877Z"
   },
   {
    "duration": 388,
    "start_time": "2023-09-04T11:12:48.681Z"
   },
   {
    "duration": 330,
    "start_time": "2023-09-04T11:12:49.071Z"
   },
   {
    "duration": 15,
    "start_time": "2023-09-04T11:12:49.403Z"
   },
   {
    "duration": 2879,
    "start_time": "2023-09-04T11:12:49.419Z"
   },
   {
    "duration": 64,
    "start_time": "2023-09-04T11:12:52.301Z"
   },
   {
    "duration": 8,
    "start_time": "2023-09-04T11:12:52.366Z"
   },
   {
    "duration": 16,
    "start_time": "2023-09-04T11:12:52.376Z"
   },
   {
    "duration": 20,
    "start_time": "2023-09-04T11:12:52.394Z"
   },
   {
    "duration": 24,
    "start_time": "2023-09-04T11:12:52.415Z"
   },
   {
    "duration": 31,
    "start_time": "2023-09-04T11:12:52.440Z"
   },
   {
    "duration": 90,
    "start_time": "2023-09-04T11:12:52.473Z"
   },
   {
    "duration": 0,
    "start_time": "2023-09-04T11:12:52.568Z"
   },
   {
    "duration": 0,
    "start_time": "2023-09-04T11:12:52.569Z"
   },
   {
    "duration": 0,
    "start_time": "2023-09-04T11:12:52.570Z"
   },
   {
    "duration": 0,
    "start_time": "2023-09-04T11:12:52.571Z"
   },
   {
    "duration": 0,
    "start_time": "2023-09-04T11:12:52.572Z"
   },
   {
    "duration": 0,
    "start_time": "2023-09-04T11:12:52.574Z"
   },
   {
    "duration": 0,
    "start_time": "2023-09-04T11:12:52.575Z"
   },
   {
    "duration": 0,
    "start_time": "2023-09-04T11:12:52.575Z"
   },
   {
    "duration": 0,
    "start_time": "2023-09-04T11:12:52.576Z"
   },
   {
    "duration": 0,
    "start_time": "2023-09-04T11:12:52.577Z"
   },
   {
    "duration": 0,
    "start_time": "2023-09-04T11:12:52.578Z"
   },
   {
    "duration": 0,
    "start_time": "2023-09-04T11:12:52.579Z"
   },
   {
    "duration": 0,
    "start_time": "2023-09-04T11:12:52.579Z"
   },
   {
    "duration": 0,
    "start_time": "2023-09-04T11:12:52.580Z"
   },
   {
    "duration": 0,
    "start_time": "2023-09-04T11:12:52.581Z"
   },
   {
    "duration": 0,
    "start_time": "2023-09-04T11:12:52.582Z"
   },
   {
    "duration": 0,
    "start_time": "2023-09-04T11:12:52.583Z"
   },
   {
    "duration": 0,
    "start_time": "2023-09-04T11:12:52.584Z"
   },
   {
    "duration": 0,
    "start_time": "2023-09-04T11:12:52.585Z"
   },
   {
    "duration": 0,
    "start_time": "2023-09-04T11:12:52.586Z"
   },
   {
    "duration": 0,
    "start_time": "2023-09-04T11:12:52.587Z"
   },
   {
    "duration": 0,
    "start_time": "2023-09-04T11:12:52.588Z"
   },
   {
    "duration": 0,
    "start_time": "2023-09-04T11:12:52.589Z"
   },
   {
    "duration": 0,
    "start_time": "2023-09-04T11:12:52.590Z"
   },
   {
    "duration": 0,
    "start_time": "2023-09-04T11:12:52.634Z"
   },
   {
    "duration": 0,
    "start_time": "2023-09-04T11:12:52.635Z"
   },
   {
    "duration": 0,
    "start_time": "2023-09-04T11:12:52.636Z"
   },
   {
    "duration": 0,
    "start_time": "2023-09-04T11:12:52.637Z"
   },
   {
    "duration": 0,
    "start_time": "2023-09-04T11:12:52.638Z"
   },
   {
    "duration": 0,
    "start_time": "2023-09-04T11:12:52.640Z"
   },
   {
    "duration": 0,
    "start_time": "2023-09-04T11:12:52.641Z"
   },
   {
    "duration": 0,
    "start_time": "2023-09-04T11:12:52.642Z"
   },
   {
    "duration": 0,
    "start_time": "2023-09-04T11:12:52.643Z"
   },
   {
    "duration": 0,
    "start_time": "2023-09-04T11:12:52.644Z"
   },
   {
    "duration": 0,
    "start_time": "2023-09-04T11:12:52.645Z"
   },
   {
    "duration": 0,
    "start_time": "2023-09-04T11:12:52.646Z"
   },
   {
    "duration": 0,
    "start_time": "2023-09-04T11:12:52.647Z"
   },
   {
    "duration": 0,
    "start_time": "2023-09-04T11:12:52.649Z"
   },
   {
    "duration": 0,
    "start_time": "2023-09-04T11:12:52.650Z"
   },
   {
    "duration": 0,
    "start_time": "2023-09-04T11:12:52.651Z"
   },
   {
    "duration": 0,
    "start_time": "2023-09-04T11:12:52.653Z"
   },
   {
    "duration": 0,
    "start_time": "2023-09-04T11:12:52.654Z"
   },
   {
    "duration": 0,
    "start_time": "2023-09-04T11:12:52.655Z"
   },
   {
    "duration": 0,
    "start_time": "2023-09-04T11:12:52.656Z"
   },
   {
    "duration": 0,
    "start_time": "2023-09-04T11:12:52.657Z"
   },
   {
    "duration": 0,
    "start_time": "2023-09-04T11:12:52.658Z"
   },
   {
    "duration": 0,
    "start_time": "2023-09-04T11:12:52.662Z"
   },
   {
    "duration": 0,
    "start_time": "2023-09-04T11:12:52.663Z"
   },
   {
    "duration": 0,
    "start_time": "2023-09-04T11:12:52.664Z"
   },
   {
    "duration": 0,
    "start_time": "2023-09-04T11:12:52.665Z"
   },
   {
    "duration": 0,
    "start_time": "2023-09-04T11:12:52.667Z"
   },
   {
    "duration": 0,
    "start_time": "2023-09-04T11:12:52.669Z"
   },
   {
    "duration": 0,
    "start_time": "2023-09-04T11:12:52.670Z"
   },
   {
    "duration": 0,
    "start_time": "2023-09-04T11:12:52.671Z"
   },
   {
    "duration": 5,
    "start_time": "2023-09-04T11:15:03.682Z"
   },
   {
    "duration": 1864,
    "start_time": "2023-09-04T11:15:30.267Z"
   },
   {
    "duration": 7,
    "start_time": "2023-09-04T11:15:39.855Z"
   },
   {
    "duration": 2,
    "start_time": "2023-09-04T11:15:50.176Z"
   },
   {
    "duration": 129,
    "start_time": "2023-09-04T11:15:50.179Z"
   },
   {
    "duration": 11,
    "start_time": "2023-09-04T11:15:50.310Z"
   },
   {
    "duration": 2580,
    "start_time": "2023-09-04T11:15:50.323Z"
   },
   {
    "duration": 19,
    "start_time": "2023-09-04T11:15:52.905Z"
   },
   {
    "duration": 12,
    "start_time": "2023-09-04T11:15:52.934Z"
   },
   {
    "duration": 25,
    "start_time": "2023-09-04T11:15:52.948Z"
   },
   {
    "duration": 24,
    "start_time": "2023-09-04T11:15:52.975Z"
   },
   {
    "duration": 24,
    "start_time": "2023-09-04T11:15:53.001Z"
   },
   {
    "duration": 37,
    "start_time": "2023-09-04T11:15:53.026Z"
   },
   {
    "duration": 22,
    "start_time": "2023-09-04T11:15:55.755Z"
   },
   {
    "duration": 12,
    "start_time": "2023-09-04T11:17:56.598Z"
   },
   {
    "duration": 19,
    "start_time": "2023-09-04T11:21:00.134Z"
   },
   {
    "duration": 12,
    "start_time": "2023-09-04T11:22:27.755Z"
   },
   {
    "duration": 7,
    "start_time": "2023-09-04T11:23:10.550Z"
   },
   {
    "duration": 12,
    "start_time": "2023-09-04T11:23:30.309Z"
   },
   {
    "duration": 3,
    "start_time": "2023-09-04T11:23:41.129Z"
   },
   {
    "duration": 121,
    "start_time": "2023-09-04T11:23:41.134Z"
   },
   {
    "duration": 13,
    "start_time": "2023-09-04T11:23:41.256Z"
   },
   {
    "duration": 2489,
    "start_time": "2023-09-04T11:23:41.270Z"
   },
   {
    "duration": 22,
    "start_time": "2023-09-04T11:23:43.761Z"
   },
   {
    "duration": 4,
    "start_time": "2023-09-04T11:23:43.784Z"
   },
   {
    "duration": 16,
    "start_time": "2023-09-04T11:23:43.790Z"
   },
   {
    "duration": 48,
    "start_time": "2023-09-04T11:23:43.807Z"
   },
   {
    "duration": 12,
    "start_time": "2023-09-04T11:23:43.857Z"
   },
   {
    "duration": 26,
    "start_time": "2023-09-04T11:23:43.870Z"
   },
   {
    "duration": 22,
    "start_time": "2023-09-04T11:23:43.898Z"
   },
   {
    "duration": 21,
    "start_time": "2023-09-04T11:23:43.935Z"
   },
   {
    "duration": 4,
    "start_time": "2023-09-04T11:23:43.959Z"
   },
   {
    "duration": 35,
    "start_time": "2023-09-04T11:23:43.964Z"
   },
   {
    "duration": 20,
    "start_time": "2023-09-04T11:23:44.000Z"
   },
   {
    "duration": 16,
    "start_time": "2023-09-04T11:23:44.022Z"
   },
   {
    "duration": 116,
    "start_time": "2023-09-04T11:23:44.039Z"
   },
   {
    "duration": 10,
    "start_time": "2023-09-04T11:23:44.157Z"
   },
   {
    "duration": 23,
    "start_time": "2023-09-04T11:23:44.168Z"
   },
   {
    "duration": 46,
    "start_time": "2023-09-04T11:23:44.193Z"
   },
   {
    "duration": 34,
    "start_time": "2023-09-04T11:23:44.241Z"
   },
   {
    "duration": 24,
    "start_time": "2023-09-04T11:23:44.276Z"
   },
   {
    "duration": 422,
    "start_time": "2023-09-04T11:23:44.302Z"
   },
   {
    "duration": 17,
    "start_time": "2023-09-04T11:23:44.726Z"
   },
   {
    "duration": 245,
    "start_time": "2023-09-04T11:23:44.745Z"
   },
   {
    "duration": 18,
    "start_time": "2023-09-04T11:23:44.992Z"
   },
   {
    "duration": 308,
    "start_time": "2023-09-04T11:23:45.011Z"
   },
   {
    "duration": 341,
    "start_time": "2023-09-04T11:23:45.320Z"
   },
   {
    "duration": 186,
    "start_time": "2023-09-04T11:23:45.665Z"
   },
   {
    "duration": 256,
    "start_time": "2023-09-04T11:23:45.853Z"
   },
   {
    "duration": 178,
    "start_time": "2023-09-04T11:23:46.111Z"
   },
   {
    "duration": 283,
    "start_time": "2023-09-04T11:23:46.290Z"
   },
   {
    "duration": 146,
    "start_time": "2023-09-04T11:23:46.575Z"
   },
   {
    "duration": 28,
    "start_time": "2023-09-04T11:23:46.722Z"
   },
   {
    "duration": 5,
    "start_time": "2023-09-04T11:23:46.752Z"
   },
   {
    "duration": 139,
    "start_time": "2023-09-04T11:23:46.760Z"
   },
   {
    "duration": 8,
    "start_time": "2023-09-04T11:23:46.901Z"
   },
   {
    "duration": 254,
    "start_time": "2023-09-04T11:23:46.910Z"
   },
   {
    "duration": 7,
    "start_time": "2023-09-04T11:23:47.165Z"
   },
   {
    "duration": 17,
    "start_time": "2023-09-04T11:23:47.173Z"
   },
   {
    "duration": 14,
    "start_time": "2023-09-04T11:23:47.191Z"
   },
   {
    "duration": 32,
    "start_time": "2023-09-04T11:23:47.206Z"
   },
   {
    "duration": 247,
    "start_time": "2023-09-04T11:23:47.240Z"
   },
   {
    "duration": 137,
    "start_time": "2023-09-04T11:23:47.489Z"
   },
   {
    "duration": 132,
    "start_time": "2023-09-04T11:23:47.628Z"
   },
   {
    "duration": 5,
    "start_time": "2023-09-04T11:23:47.761Z"
   },
   {
    "duration": 153,
    "start_time": "2023-09-04T11:23:47.768Z"
   },
   {
    "duration": 177,
    "start_time": "2023-09-04T11:23:47.923Z"
   },
   {
    "duration": 9,
    "start_time": "2023-09-04T11:23:48.101Z"
   },
   {
    "duration": 183,
    "start_time": "2023-09-04T11:23:48.111Z"
   },
   {
    "duration": 262,
    "start_time": "2023-09-04T11:23:48.295Z"
   },
   {
    "duration": 222,
    "start_time": "2023-09-04T11:23:48.559Z"
   },
   {
    "duration": 6,
    "start_time": "2023-09-04T11:23:48.783Z"
   },
   {
    "duration": 229,
    "start_time": "2023-09-04T11:23:48.790Z"
   },
   {
    "duration": 251,
    "start_time": "2023-09-04T11:23:49.020Z"
   },
   {
    "duration": 180,
    "start_time": "2023-09-04T11:23:49.273Z"
   },
   {
    "duration": 145,
    "start_time": "2023-09-04T11:23:49.455Z"
   },
   {
    "duration": 170,
    "start_time": "2023-09-04T11:23:49.602Z"
   },
   {
    "duration": 208,
    "start_time": "2023-09-04T11:23:49.774Z"
   },
   {
    "duration": 270,
    "start_time": "2023-09-04T11:23:49.983Z"
   },
   {
    "duration": 202,
    "start_time": "2023-09-04T11:23:50.254Z"
   },
   {
    "duration": 164,
    "start_time": "2023-09-04T11:23:50.458Z"
   },
   {
    "duration": 7,
    "start_time": "2023-09-04T11:23:50.623Z"
   },
   {
    "duration": 26,
    "start_time": "2023-09-04T11:23:50.632Z"
   },
   {
    "duration": 38,
    "start_time": "2023-09-04T11:23:50.660Z"
   },
   {
    "duration": 45,
    "start_time": "2023-09-04T11:23:50.701Z"
   },
   {
    "duration": 26,
    "start_time": "2023-09-04T11:23:50.748Z"
   },
   {
    "duration": 139,
    "start_time": "2023-09-04T11:23:50.775Z"
   },
   {
    "duration": 2,
    "start_time": "2023-09-04T11:26:01.874Z"
   },
   {
    "duration": 354,
    "start_time": "2023-09-04T11:26:01.878Z"
   },
   {
    "duration": 20,
    "start_time": "2023-09-04T11:26:02.234Z"
   },
   {
    "duration": 2468,
    "start_time": "2023-09-04T11:26:02.256Z"
   },
   {
    "duration": 31,
    "start_time": "2023-09-04T11:26:04.727Z"
   },
   {
    "duration": 4,
    "start_time": "2023-09-04T11:26:04.760Z"
   },
   {
    "duration": 16,
    "start_time": "2023-09-04T11:26:04.765Z"
   },
   {
    "duration": 20,
    "start_time": "2023-09-04T11:26:04.783Z"
   },
   {
    "duration": 50,
    "start_time": "2023-09-04T11:26:04.805Z"
   },
   {
    "duration": 25,
    "start_time": "2023-09-04T11:26:04.857Z"
   },
   {
    "duration": 24,
    "start_time": "2023-09-04T11:26:04.886Z"
   },
   {
    "duration": 27,
    "start_time": "2023-09-04T11:26:04.913Z"
   },
   {
    "duration": 12,
    "start_time": "2023-09-04T11:26:04.943Z"
   },
   {
    "duration": 21,
    "start_time": "2023-09-04T11:26:04.957Z"
   },
   {
    "duration": 20,
    "start_time": "2023-09-04T11:26:04.980Z"
   },
   {
    "duration": 6,
    "start_time": "2023-09-04T11:26:05.002Z"
   },
   {
    "duration": 143,
    "start_time": "2023-09-04T11:26:05.010Z"
   },
   {
    "duration": 10,
    "start_time": "2023-09-04T11:26:05.154Z"
   },
   {
    "duration": 26,
    "start_time": "2023-09-04T11:26:05.167Z"
   },
   {
    "duration": 40,
    "start_time": "2023-09-04T11:26:05.195Z"
   },
   {
    "duration": 40,
    "start_time": "2023-09-04T11:26:05.237Z"
   },
   {
    "duration": 23,
    "start_time": "2023-09-04T11:26:05.279Z"
   },
   {
    "duration": 456,
    "start_time": "2023-09-04T11:26:05.304Z"
   },
   {
    "duration": 5,
    "start_time": "2023-09-04T11:26:05.762Z"
   },
   {
    "duration": 238,
    "start_time": "2023-09-04T11:26:05.769Z"
   },
   {
    "duration": 43,
    "start_time": "2023-09-04T11:26:06.009Z"
   },
   {
    "duration": 273,
    "start_time": "2023-09-04T11:26:06.053Z"
   },
   {
    "duration": 255,
    "start_time": "2023-09-04T11:26:06.333Z"
   },
   {
    "duration": 180,
    "start_time": "2023-09-04T11:26:06.592Z"
   },
   {
    "duration": 253,
    "start_time": "2023-09-04T11:26:06.773Z"
   },
   {
    "duration": 170,
    "start_time": "2023-09-04T11:26:07.028Z"
   },
   {
    "duration": 381,
    "start_time": "2023-09-04T11:26:07.199Z"
   },
   {
    "duration": 137,
    "start_time": "2023-09-04T11:26:07.582Z"
   },
   {
    "duration": 24,
    "start_time": "2023-09-04T11:26:07.721Z"
   },
   {
    "duration": 5,
    "start_time": "2023-09-04T11:26:07.748Z"
   },
   {
    "duration": 133,
    "start_time": "2023-09-04T11:26:07.754Z"
   },
   {
    "duration": 9,
    "start_time": "2023-09-04T11:26:07.889Z"
   },
   {
    "duration": 262,
    "start_time": "2023-09-04T11:26:07.900Z"
   },
   {
    "duration": 7,
    "start_time": "2023-09-04T11:26:08.163Z"
   },
   {
    "duration": 14,
    "start_time": "2023-09-04T11:26:08.171Z"
   },
   {
    "duration": 24,
    "start_time": "2023-09-04T11:26:08.187Z"
   },
   {
    "duration": 29,
    "start_time": "2023-09-04T11:26:08.213Z"
   },
   {
    "duration": 165,
    "start_time": "2023-09-04T11:26:08.245Z"
   },
   {
    "duration": 161,
    "start_time": "2023-09-04T11:26:08.412Z"
   },
   {
    "duration": 129,
    "start_time": "2023-09-04T11:26:08.576Z"
   },
   {
    "duration": 7,
    "start_time": "2023-09-04T11:26:08.706Z"
   },
   {
    "duration": 174,
    "start_time": "2023-09-04T11:26:08.714Z"
   },
   {
    "duration": 180,
    "start_time": "2023-09-04T11:26:08.890Z"
   },
   {
    "duration": 10,
    "start_time": "2023-09-04T11:26:09.072Z"
   },
   {
    "duration": 268,
    "start_time": "2023-09-04T11:26:09.084Z"
   },
   {
    "duration": 251,
    "start_time": "2023-09-04T11:26:09.354Z"
   },
   {
    "duration": 224,
    "start_time": "2023-09-04T11:26:09.606Z"
   },
   {
    "duration": 13,
    "start_time": "2023-09-04T11:26:09.833Z"
   },
   {
    "duration": 203,
    "start_time": "2023-09-04T11:26:09.848Z"
   },
   {
    "duration": 167,
    "start_time": "2023-09-04T11:26:10.053Z"
   },
   {
    "duration": 189,
    "start_time": "2023-09-04T11:26:10.222Z"
   },
   {
    "duration": 148,
    "start_time": "2023-09-04T11:26:10.413Z"
   },
   {
    "duration": 174,
    "start_time": "2023-09-04T11:26:10.563Z"
   },
   {
    "duration": 205,
    "start_time": "2023-09-04T11:26:10.740Z"
   },
   {
    "duration": 350,
    "start_time": "2023-09-04T11:26:10.947Z"
   },
   {
    "duration": 213,
    "start_time": "2023-09-04T11:26:11.299Z"
   },
   {
    "duration": 165,
    "start_time": "2023-09-04T11:26:11.514Z"
   },
   {
    "duration": 8,
    "start_time": "2023-09-04T11:26:11.680Z"
   },
   {
    "duration": 18,
    "start_time": "2023-09-04T11:26:11.689Z"
   },
   {
    "duration": 22,
    "start_time": "2023-09-04T11:26:11.709Z"
   },
   {
    "duration": 32,
    "start_time": "2023-09-04T11:26:11.733Z"
   },
   {
    "duration": 19,
    "start_time": "2023-09-04T11:26:11.766Z"
   },
   {
    "duration": 177,
    "start_time": "2023-09-04T11:26:11.787Z"
   },
   {
    "duration": 19,
    "start_time": "2023-09-04T11:29:33.790Z"
   },
   {
    "duration": 20,
    "start_time": "2023-09-04T11:30:03.226Z"
   },
   {
    "duration": 3,
    "start_time": "2023-09-04T11:30:33.111Z"
   },
   {
    "duration": 134,
    "start_time": "2023-09-04T11:30:33.116Z"
   },
   {
    "duration": 13,
    "start_time": "2023-09-04T11:30:33.252Z"
   },
   {
    "duration": 2572,
    "start_time": "2023-09-04T11:30:33.267Z"
   },
   {
    "duration": 27,
    "start_time": "2023-09-04T11:30:35.842Z"
   },
   {
    "duration": 22,
    "start_time": "2023-09-04T11:30:35.871Z"
   },
   {
    "duration": 16,
    "start_time": "2023-09-04T11:30:35.894Z"
   },
   {
    "duration": 17,
    "start_time": "2023-09-04T11:30:35.911Z"
   },
   {
    "duration": 16,
    "start_time": "2023-09-04T11:30:35.935Z"
   },
   {
    "duration": 22,
    "start_time": "2023-09-04T11:30:35.952Z"
   },
   {
    "duration": 21,
    "start_time": "2023-09-04T11:30:35.976Z"
   },
   {
    "duration": 36,
    "start_time": "2023-09-04T11:30:35.999Z"
   },
   {
    "duration": 19,
    "start_time": "2023-09-04T11:30:36.037Z"
   },
   {
    "duration": 20,
    "start_time": "2023-09-04T11:30:36.057Z"
   },
   {
    "duration": 17,
    "start_time": "2023-09-04T11:30:36.078Z"
   },
   {
    "duration": 120,
    "start_time": "2023-09-04T11:30:36.097Z"
   },
   {
    "duration": 15,
    "start_time": "2023-09-04T11:30:36.219Z"
   },
   {
    "duration": 30,
    "start_time": "2023-09-04T11:30:36.236Z"
   },
   {
    "duration": 24,
    "start_time": "2023-09-04T11:30:36.268Z"
   },
   {
    "duration": 46,
    "start_time": "2023-09-04T11:30:36.294Z"
   },
   {
    "duration": 30,
    "start_time": "2023-09-04T11:30:36.342Z"
   },
   {
    "duration": 362,
    "start_time": "2023-09-04T11:30:36.373Z"
   },
   {
    "duration": 9,
    "start_time": "2023-09-04T11:30:36.737Z"
   },
   {
    "duration": 250,
    "start_time": "2023-09-04T11:30:36.748Z"
   },
   {
    "duration": 17,
    "start_time": "2023-09-04T11:30:37.000Z"
   },
   {
    "duration": 287,
    "start_time": "2023-09-04T11:30:37.018Z"
   },
   {
    "duration": 373,
    "start_time": "2023-09-04T11:30:37.307Z"
   },
   {
    "duration": 182,
    "start_time": "2023-09-04T11:30:37.681Z"
   },
   {
    "duration": 317,
    "start_time": "2023-09-04T11:30:37.867Z"
   },
   {
    "duration": 187,
    "start_time": "2023-09-04T11:30:38.186Z"
   },
   {
    "duration": 293,
    "start_time": "2023-09-04T11:30:38.375Z"
   },
   {
    "duration": 157,
    "start_time": "2023-09-04T11:30:38.670Z"
   },
   {
    "duration": 16,
    "start_time": "2023-09-04T11:30:38.829Z"
   },
   {
    "duration": 4,
    "start_time": "2023-09-04T11:30:38.850Z"
   },
   {
    "duration": 149,
    "start_time": "2023-09-04T11:30:38.856Z"
   },
   {
    "duration": 10,
    "start_time": "2023-09-04T11:30:39.006Z"
   },
   {
    "duration": 270,
    "start_time": "2023-09-04T11:30:39.018Z"
   },
   {
    "duration": 7,
    "start_time": "2023-09-04T11:30:39.290Z"
   },
   {
    "duration": 57,
    "start_time": "2023-09-04T11:30:39.298Z"
   },
   {
    "duration": 20,
    "start_time": "2023-09-04T11:30:39.357Z"
   },
   {
    "duration": 30,
    "start_time": "2023-09-04T11:30:39.379Z"
   },
   {
    "duration": 276,
    "start_time": "2023-09-04T11:30:39.410Z"
   },
   {
    "duration": 130,
    "start_time": "2023-09-04T11:30:39.687Z"
   },
   {
    "duration": 148,
    "start_time": "2023-09-04T11:30:39.819Z"
   },
   {
    "duration": 6,
    "start_time": "2023-09-04T11:30:39.969Z"
   },
   {
    "duration": 171,
    "start_time": "2023-09-04T11:30:39.977Z"
   },
   {
    "duration": 169,
    "start_time": "2023-09-04T11:30:40.150Z"
   },
   {
    "duration": 16,
    "start_time": "2023-09-04T11:30:40.321Z"
   },
   {
    "duration": 204,
    "start_time": "2023-09-04T11:30:40.343Z"
   },
   {
    "duration": 269,
    "start_time": "2023-09-04T11:30:40.552Z"
   },
   {
    "duration": 228,
    "start_time": "2023-09-04T11:30:40.822Z"
   },
   {
    "duration": 8,
    "start_time": "2023-09-04T11:30:41.053Z"
   },
   {
    "duration": 205,
    "start_time": "2023-09-04T11:30:41.062Z"
   },
   {
    "duration": 290,
    "start_time": "2023-09-04T11:30:41.269Z"
   },
   {
    "duration": 188,
    "start_time": "2023-09-04T11:30:41.561Z"
   },
   {
    "duration": 159,
    "start_time": "2023-09-04T11:30:41.751Z"
   },
   {
    "duration": 182,
    "start_time": "2023-09-04T11:30:41.911Z"
   },
   {
    "duration": 217,
    "start_time": "2023-09-04T11:30:42.094Z"
   },
   {
    "duration": 277,
    "start_time": "2023-09-04T11:30:42.313Z"
   },
   {
    "duration": 226,
    "start_time": "2023-09-04T11:30:42.592Z"
   },
   {
    "duration": 169,
    "start_time": "2023-09-04T11:30:42.819Z"
   },
   {
    "duration": 8,
    "start_time": "2023-09-04T11:30:42.990Z"
   },
   {
    "duration": 93,
    "start_time": "2023-09-04T11:30:42.999Z"
   },
   {
    "duration": 69,
    "start_time": "2023-09-04T11:30:43.093Z"
   },
   {
    "duration": 45,
    "start_time": "2023-09-04T11:30:43.164Z"
   },
   {
    "duration": 28,
    "start_time": "2023-09-04T11:30:43.210Z"
   },
   {
    "duration": 135,
    "start_time": "2023-09-04T11:30:43.239Z"
   },
   {
    "duration": 2,
    "start_time": "2023-09-04T11:37:53.784Z"
   },
   {
    "duration": 123,
    "start_time": "2023-09-04T11:37:53.788Z"
   },
   {
    "duration": 12,
    "start_time": "2023-09-04T11:37:53.913Z"
   },
   {
    "duration": 2365,
    "start_time": "2023-09-04T11:37:53.934Z"
   },
   {
    "duration": 20,
    "start_time": "2023-09-04T11:37:56.301Z"
   },
   {
    "duration": 13,
    "start_time": "2023-09-04T11:37:56.323Z"
   },
   {
    "duration": 22,
    "start_time": "2023-09-04T11:37:56.337Z"
   },
   {
    "duration": 17,
    "start_time": "2023-09-04T11:37:56.360Z"
   },
   {
    "duration": 17,
    "start_time": "2023-09-04T11:37:56.379Z"
   },
   {
    "duration": 20,
    "start_time": "2023-09-04T11:37:56.398Z"
   },
   {
    "duration": 19,
    "start_time": "2023-09-04T11:37:56.420Z"
   },
   {
    "duration": 17,
    "start_time": "2023-09-04T11:37:56.441Z"
   },
   {
    "duration": 15,
    "start_time": "2023-09-04T11:37:56.459Z"
   },
   {
    "duration": 17,
    "start_time": "2023-09-04T11:37:56.476Z"
   },
   {
    "duration": 5,
    "start_time": "2023-09-04T11:37:56.495Z"
   },
   {
    "duration": 132,
    "start_time": "2023-09-04T11:37:56.502Z"
   },
   {
    "duration": 3,
    "start_time": "2023-09-04T11:50:13.145Z"
   },
   {
    "duration": 117,
    "start_time": "2023-09-04T11:50:13.151Z"
   },
   {
    "duration": 14,
    "start_time": "2023-09-04T11:50:13.270Z"
   },
   {
    "duration": 2444,
    "start_time": "2023-09-04T11:50:13.286Z"
   },
   {
    "duration": 21,
    "start_time": "2023-09-04T11:50:15.734Z"
   },
   {
    "duration": 10,
    "start_time": "2023-09-04T11:50:15.756Z"
   },
   {
    "duration": 48,
    "start_time": "2023-09-04T11:50:15.767Z"
   },
   {
    "duration": 53,
    "start_time": "2023-09-04T11:50:15.817Z"
   },
   {
    "duration": 43,
    "start_time": "2023-09-04T11:50:15.872Z"
   },
   {
    "duration": 39,
    "start_time": "2023-09-04T11:50:15.918Z"
   },
   {
    "duration": 49,
    "start_time": "2023-09-04T11:50:15.961Z"
   },
   {
    "duration": 21,
    "start_time": "2023-09-04T11:50:16.012Z"
   },
   {
    "duration": 29,
    "start_time": "2023-09-04T11:50:16.035Z"
   },
   {
    "duration": 22,
    "start_time": "2023-09-04T11:50:16.066Z"
   },
   {
    "duration": 17,
    "start_time": "2023-09-04T11:50:16.089Z"
   },
   {
    "duration": 110,
    "start_time": "2023-09-04T11:50:16.107Z"
   },
   {
    "duration": 35,
    "start_time": "2023-09-04T11:50:16.219Z"
   },
   {
    "duration": 33,
    "start_time": "2023-09-04T11:50:16.256Z"
   },
   {
    "duration": 54,
    "start_time": "2023-09-04T11:50:16.291Z"
   },
   {
    "duration": 24,
    "start_time": "2023-09-04T11:50:16.346Z"
   },
   {
    "duration": 336,
    "start_time": "2023-09-04T11:50:16.372Z"
   },
   {
    "duration": 7,
    "start_time": "2023-09-04T11:50:16.710Z"
   },
   {
    "duration": 361,
    "start_time": "2023-09-04T11:50:16.719Z"
   },
   {
    "duration": 17,
    "start_time": "2023-09-04T11:50:17.082Z"
   },
   {
    "duration": 287,
    "start_time": "2023-09-04T11:50:17.100Z"
   },
   {
    "duration": 242,
    "start_time": "2023-09-04T11:50:17.393Z"
   },
   {
    "duration": 174,
    "start_time": "2023-09-04T11:50:17.637Z"
   },
   {
    "duration": 261,
    "start_time": "2023-09-04T11:50:17.813Z"
   },
   {
    "duration": 157,
    "start_time": "2023-09-04T11:50:18.079Z"
   },
   {
    "duration": 283,
    "start_time": "2023-09-04T11:50:18.238Z"
   },
   {
    "duration": 265,
    "start_time": "2023-09-04T11:50:18.523Z"
   },
   {
    "duration": 8,
    "start_time": "2023-09-04T11:50:18.790Z"
   },
   {
    "duration": 5,
    "start_time": "2023-09-04T11:50:18.800Z"
   },
   {
    "duration": 154,
    "start_time": "2023-09-04T11:50:18.806Z"
   },
   {
    "duration": 12,
    "start_time": "2023-09-04T11:50:18.961Z"
   },
   {
    "duration": 250,
    "start_time": "2023-09-04T11:50:18.975Z"
   },
   {
    "duration": 15,
    "start_time": "2023-09-04T11:50:19.226Z"
   },
   {
    "duration": 27,
    "start_time": "2023-09-04T11:50:19.243Z"
   },
   {
    "duration": 29,
    "start_time": "2023-09-04T11:50:19.272Z"
   },
   {
    "duration": 26,
    "start_time": "2023-09-04T11:50:19.303Z"
   },
   {
    "duration": 213,
    "start_time": "2023-09-04T11:50:19.331Z"
   },
   {
    "duration": 134,
    "start_time": "2023-09-04T11:50:19.546Z"
   },
   {
    "duration": 130,
    "start_time": "2023-09-04T11:50:19.681Z"
   },
   {
    "duration": 6,
    "start_time": "2023-09-04T11:50:19.813Z"
   },
   {
    "duration": 161,
    "start_time": "2023-09-04T11:50:19.820Z"
   },
   {
    "duration": 169,
    "start_time": "2023-09-04T11:50:19.983Z"
   },
   {
    "duration": 9,
    "start_time": "2023-09-04T11:50:20.154Z"
   },
   {
    "duration": 192,
    "start_time": "2023-09-04T11:50:20.165Z"
   },
   {
    "duration": 340,
    "start_time": "2023-09-04T11:50:20.359Z"
   },
   {
    "duration": 211,
    "start_time": "2023-09-04T11:50:20.701Z"
   },
   {
    "duration": 7,
    "start_time": "2023-09-04T11:50:20.913Z"
   },
   {
    "duration": 184,
    "start_time": "2023-09-04T11:50:20.921Z"
   },
   {
    "duration": 176,
    "start_time": "2023-09-04T11:50:21.107Z"
   },
   {
    "duration": 164,
    "start_time": "2023-09-04T11:50:21.285Z"
   },
   {
    "duration": 147,
    "start_time": "2023-09-04T11:50:21.451Z"
   },
   {
    "duration": 166,
    "start_time": "2023-09-04T11:50:21.600Z"
   },
   {
    "duration": 210,
    "start_time": "2023-09-04T11:50:21.769Z"
   },
   {
    "duration": 278,
    "start_time": "2023-09-04T11:50:21.981Z"
   },
   {
    "duration": 299,
    "start_time": "2023-09-04T11:50:22.261Z"
   },
   {
    "duration": 176,
    "start_time": "2023-09-04T11:50:22.562Z"
   },
   {
    "duration": 8,
    "start_time": "2023-09-04T11:50:22.740Z"
   },
   {
    "duration": 10,
    "start_time": "2023-09-04T11:50:22.753Z"
   },
   {
    "duration": 13,
    "start_time": "2023-09-04T11:50:22.766Z"
   },
   {
    "duration": 51,
    "start_time": "2023-09-04T11:50:22.786Z"
   },
   {
    "duration": 30,
    "start_time": "2023-09-04T11:50:22.840Z"
   },
   {
    "duration": 151,
    "start_time": "2023-09-04T11:50:22.872Z"
   },
   {
    "duration": 387,
    "start_time": "2023-09-04T15:55:12.760Z"
   },
   {
    "duration": 346,
    "start_time": "2023-09-04T15:55:13.150Z"
   },
   {
    "duration": 15,
    "start_time": "2023-09-04T15:55:13.498Z"
   },
   {
    "duration": 2404,
    "start_time": "2023-09-04T15:55:13.516Z"
   },
   {
    "duration": 67,
    "start_time": "2023-09-04T15:55:15.922Z"
   },
   {
    "duration": 5,
    "start_time": "2023-09-04T15:55:15.991Z"
   },
   {
    "duration": 12,
    "start_time": "2023-09-04T15:55:15.997Z"
   },
   {
    "duration": 19,
    "start_time": "2023-09-04T15:55:16.010Z"
   },
   {
    "duration": 13,
    "start_time": "2023-09-04T15:55:16.050Z"
   },
   {
    "duration": 17,
    "start_time": "2023-09-04T15:55:16.065Z"
   },
   {
    "duration": 26,
    "start_time": "2023-09-04T15:55:16.084Z"
   },
   {
    "duration": 52,
    "start_time": "2023-09-04T15:55:16.113Z"
   },
   {
    "duration": 18,
    "start_time": "2023-09-04T15:55:16.167Z"
   },
   {
    "duration": 30,
    "start_time": "2023-09-04T15:55:16.187Z"
   },
   {
    "duration": 32,
    "start_time": "2023-09-04T15:55:16.219Z"
   },
   {
    "duration": 159,
    "start_time": "2023-09-04T15:55:16.252Z"
   },
   {
    "duration": 26,
    "start_time": "2023-09-04T15:55:16.413Z"
   },
   {
    "duration": 37,
    "start_time": "2023-09-04T15:55:16.441Z"
   },
   {
    "duration": 68,
    "start_time": "2023-09-04T15:55:16.480Z"
   },
   {
    "duration": 29,
    "start_time": "2023-09-04T15:55:16.549Z"
   },
   {
    "duration": 318,
    "start_time": "2023-09-04T15:55:16.580Z"
   },
   {
    "duration": 6,
    "start_time": "2023-09-04T15:55:16.900Z"
   },
   {
    "duration": 231,
    "start_time": "2023-09-04T15:55:16.908Z"
   },
   {
    "duration": 114,
    "start_time": "2023-09-04T15:55:17.141Z"
   },
   {
    "duration": 249,
    "start_time": "2023-09-04T15:55:17.256Z"
   },
   {
    "duration": 225,
    "start_time": "2023-09-04T15:55:17.507Z"
   },
   {
    "duration": 164,
    "start_time": "2023-09-04T15:55:17.734Z"
   },
   {
    "duration": 229,
    "start_time": "2023-09-04T15:55:17.902Z"
   },
   {
    "duration": 147,
    "start_time": "2023-09-04T15:55:18.133Z"
   },
   {
    "duration": 261,
    "start_time": "2023-09-04T15:55:18.282Z"
   },
   {
    "duration": 132,
    "start_time": "2023-09-04T15:55:18.544Z"
   },
   {
    "duration": 6,
    "start_time": "2023-09-04T15:55:18.678Z"
   },
   {
    "duration": 13,
    "start_time": "2023-09-04T15:55:18.685Z"
   },
   {
    "duration": 206,
    "start_time": "2023-09-04T15:55:18.699Z"
   },
   {
    "duration": 8,
    "start_time": "2023-09-04T15:55:18.906Z"
   },
   {
    "duration": 261,
    "start_time": "2023-09-04T15:55:18.916Z"
   },
   {
    "duration": 7,
    "start_time": "2023-09-04T15:55:19.178Z"
   },
   {
    "duration": 13,
    "start_time": "2023-09-04T15:55:19.186Z"
   },
   {
    "duration": 13,
    "start_time": "2023-09-04T15:55:19.200Z"
   },
   {
    "duration": 42,
    "start_time": "2023-09-04T15:55:19.215Z"
   },
   {
    "duration": 161,
    "start_time": "2023-09-04T15:55:19.259Z"
   },
   {
    "duration": 127,
    "start_time": "2023-09-04T15:55:19.422Z"
   },
   {
    "duration": 118,
    "start_time": "2023-09-04T15:55:19.551Z"
   },
   {
    "duration": 6,
    "start_time": "2023-09-04T15:55:19.670Z"
   },
   {
    "duration": 142,
    "start_time": "2023-09-04T15:55:19.677Z"
   },
   {
    "duration": 148,
    "start_time": "2023-09-04T15:55:19.820Z"
   },
   {
    "duration": 10,
    "start_time": "2023-09-04T15:55:19.969Z"
   },
   {
    "duration": 169,
    "start_time": "2023-09-04T15:55:19.980Z"
   },
   {
    "duration": 227,
    "start_time": "2023-09-04T15:55:20.151Z"
   },
   {
    "duration": 288,
    "start_time": "2023-09-04T15:55:20.379Z"
   },
   {
    "duration": 7,
    "start_time": "2023-09-04T15:55:20.668Z"
   },
   {
    "duration": 169,
    "start_time": "2023-09-04T15:55:20.676Z"
   },
   {
    "duration": 175,
    "start_time": "2023-09-04T15:55:20.846Z"
   },
   {
    "duration": 164,
    "start_time": "2023-09-04T15:55:21.022Z"
   },
   {
    "duration": 143,
    "start_time": "2023-09-04T15:55:21.188Z"
   },
   {
    "duration": 159,
    "start_time": "2023-09-04T15:55:21.333Z"
   },
   {
    "duration": 194,
    "start_time": "2023-09-04T15:55:21.494Z"
   },
   {
    "duration": 239,
    "start_time": "2023-09-04T15:55:21.689Z"
   },
   {
    "duration": 246,
    "start_time": "2023-09-04T15:55:21.930Z"
   },
   {
    "duration": 153,
    "start_time": "2023-09-04T15:55:22.177Z"
   },
   {
    "duration": 7,
    "start_time": "2023-09-04T15:55:22.332Z"
   },
   {
    "duration": 7,
    "start_time": "2023-09-04T15:55:22.350Z"
   },
   {
    "duration": 24,
    "start_time": "2023-09-04T15:55:22.359Z"
   },
   {
    "duration": 24,
    "start_time": "2023-09-04T15:55:22.384Z"
   },
   {
    "duration": 18,
    "start_time": "2023-09-04T15:55:22.410Z"
   },
   {
    "duration": 200,
    "start_time": "2023-09-04T15:55:22.430Z"
   },
   {
    "duration": 427,
    "start_time": "2023-09-04T18:35:04.372Z"
   },
   {
    "duration": 365,
    "start_time": "2023-09-04T18:35:04.801Z"
   },
   {
    "duration": 17,
    "start_time": "2023-09-04T18:35:05.168Z"
   },
   {
    "duration": 3379,
    "start_time": "2023-09-04T18:35:05.189Z"
   },
   {
    "duration": 65,
    "start_time": "2023-09-04T18:35:08.570Z"
   },
   {
    "duration": 23,
    "start_time": "2023-09-04T18:35:08.637Z"
   },
   {
    "duration": 12,
    "start_time": "2023-09-04T18:35:08.663Z"
   },
   {
    "duration": 20,
    "start_time": "2023-09-04T18:35:08.677Z"
   },
   {
    "duration": 21,
    "start_time": "2023-09-04T18:35:08.699Z"
   },
   {
    "duration": 48,
    "start_time": "2023-09-04T18:35:08.723Z"
   },
   {
    "duration": 24,
    "start_time": "2023-09-04T18:35:08.774Z"
   },
   {
    "duration": 22,
    "start_time": "2023-09-04T18:35:08.800Z"
   },
   {
    "duration": 42,
    "start_time": "2023-09-04T18:35:08.824Z"
   },
   {
    "duration": 22,
    "start_time": "2023-09-04T18:35:08.868Z"
   },
   {
    "duration": 6,
    "start_time": "2023-09-04T18:35:08.891Z"
   },
   {
    "duration": 164,
    "start_time": "2023-09-04T18:35:08.898Z"
   },
   {
    "duration": 35,
    "start_time": "2023-09-04T18:35:13.207Z"
   },
   {
    "duration": 3,
    "start_time": "2023-09-04T18:44:16.767Z"
   },
   {
    "duration": 154,
    "start_time": "2023-09-04T18:44:16.772Z"
   },
   {
    "duration": 32,
    "start_time": "2023-09-04T18:44:16.928Z"
   },
   {
    "duration": 2768,
    "start_time": "2023-09-04T18:44:16.962Z"
   },
   {
    "duration": 37,
    "start_time": "2023-09-04T18:44:19.739Z"
   },
   {
    "duration": 5,
    "start_time": "2023-09-04T18:44:19.778Z"
   },
   {
    "duration": 12,
    "start_time": "2023-09-04T18:44:19.785Z"
   },
   {
    "duration": 59,
    "start_time": "2023-09-04T18:44:19.799Z"
   },
   {
    "duration": 14,
    "start_time": "2023-09-04T18:44:19.860Z"
   },
   {
    "duration": 16,
    "start_time": "2023-09-04T18:44:19.875Z"
   },
   {
    "duration": 24,
    "start_time": "2023-09-04T18:44:19.894Z"
   },
   {
    "duration": 50,
    "start_time": "2023-09-04T18:44:19.920Z"
   },
   {
    "duration": 15,
    "start_time": "2023-09-04T18:44:19.972Z"
   },
   {
    "duration": 21,
    "start_time": "2023-09-04T18:44:19.988Z"
   },
   {
    "duration": 9,
    "start_time": "2023-09-04T18:44:20.011Z"
   },
   {
    "duration": 162,
    "start_time": "2023-09-04T18:44:20.046Z"
   },
   {
    "duration": 24,
    "start_time": "2023-09-04T18:44:20.210Z"
   },
   {
    "duration": 30,
    "start_time": "2023-09-04T18:44:20.257Z"
   },
   {
    "duration": 32,
    "start_time": "2023-09-04T18:44:20.290Z"
   },
   {
    "duration": 62,
    "start_time": "2023-09-04T18:44:20.324Z"
   },
   {
    "duration": 32,
    "start_time": "2023-09-04T18:44:20.388Z"
   },
   {
    "duration": 416,
    "start_time": "2023-09-04T18:44:20.422Z"
   },
   {
    "duration": 23,
    "start_time": "2023-09-04T18:44:20.840Z"
   },
   {
    "duration": 202,
    "start_time": "2023-09-04T18:46:57.291Z"
   },
   {
    "duration": 321,
    "start_time": "2023-09-04T18:47:24.338Z"
   },
   {
    "duration": 368,
    "start_time": "2023-09-04T18:53:43.396Z"
   },
   {
    "duration": 368,
    "start_time": "2023-09-04T19:37:56.607Z"
   },
   {
    "duration": 405,
    "start_time": "2023-09-04T19:38:20.019Z"
   },
   {
    "duration": 396,
    "start_time": "2023-09-04T19:40:16.805Z"
   },
   {
    "duration": 348,
    "start_time": "2023-09-04T19:40:32.687Z"
   },
   {
    "duration": 487,
    "start_time": "2023-09-04T19:45:06.822Z"
   },
   {
    "duration": 435,
    "start_time": "2023-09-05T05:40:59.603Z"
   },
   {
    "duration": 341,
    "start_time": "2023-09-05T05:41:00.040Z"
   },
   {
    "duration": 16,
    "start_time": "2023-09-05T05:41:00.383Z"
   },
   {
    "duration": 3139,
    "start_time": "2023-09-05T05:41:00.402Z"
   },
   {
    "duration": 72,
    "start_time": "2023-09-05T05:41:03.543Z"
   },
   {
    "duration": 7,
    "start_time": "2023-09-05T05:41:03.617Z"
   },
   {
    "duration": 19,
    "start_time": "2023-09-05T05:41:03.626Z"
   },
   {
    "duration": 27,
    "start_time": "2023-09-05T05:41:03.647Z"
   },
   {
    "duration": 35,
    "start_time": "2023-09-05T05:41:03.676Z"
   },
   {
    "duration": 17,
    "start_time": "2023-09-05T05:41:03.714Z"
   },
   {
    "duration": 24,
    "start_time": "2023-09-05T05:41:03.733Z"
   },
   {
    "duration": 59,
    "start_time": "2023-09-05T05:41:03.759Z"
   },
   {
    "duration": 16,
    "start_time": "2023-09-05T05:41:03.820Z"
   },
   {
    "duration": 22,
    "start_time": "2023-09-05T05:41:03.838Z"
   },
   {
    "duration": 55,
    "start_time": "2023-09-05T05:41:03.862Z"
   },
   {
    "duration": 137,
    "start_time": "2023-09-05T05:41:03.919Z"
   },
   {
    "duration": 26,
    "start_time": "2023-09-05T05:41:04.058Z"
   },
   {
    "duration": 43,
    "start_time": "2023-09-05T05:41:04.085Z"
   },
   {
    "duration": 31,
    "start_time": "2023-09-05T05:41:04.130Z"
   },
   {
    "duration": 64,
    "start_time": "2023-09-05T05:41:04.163Z"
   },
   {
    "duration": 32,
    "start_time": "2023-09-05T05:41:04.229Z"
   },
   {
    "duration": 418,
    "start_time": "2023-09-05T05:41:04.263Z"
   },
   {
    "duration": 17,
    "start_time": "2023-09-05T05:41:04.683Z"
   },
   {
    "duration": 407,
    "start_time": "2023-09-05T05:41:10.001Z"
   },
   {
    "duration": 393,
    "start_time": "2023-09-05T05:41:39.481Z"
   },
   {
    "duration": 283,
    "start_time": "2023-09-05T06:04:57.354Z"
   },
   {
    "duration": 278,
    "start_time": "2023-09-05T06:05:30.273Z"
   },
   {
    "duration": 18,
    "start_time": "2023-09-05T06:10:19.909Z"
   },
   {
    "duration": 3,
    "start_time": "2023-09-05T06:13:47.852Z"
   },
   {
    "duration": 190,
    "start_time": "2023-09-05T06:16:21.787Z"
   },
   {
    "duration": 182,
    "start_time": "2023-09-05T06:18:26.015Z"
   },
   {
    "duration": 2,
    "start_time": "2023-09-05T06:49:22.270Z"
   },
   {
    "duration": 148,
    "start_time": "2023-09-05T06:49:22.274Z"
   },
   {
    "duration": 14,
    "start_time": "2023-09-05T06:49:22.424Z"
   },
   {
    "duration": 2675,
    "start_time": "2023-09-05T06:49:22.441Z"
   },
   {
    "duration": 21,
    "start_time": "2023-09-05T06:49:25.118Z"
   },
   {
    "duration": 4,
    "start_time": "2023-09-05T06:49:25.141Z"
   },
   {
    "duration": 17,
    "start_time": "2023-09-05T06:49:25.146Z"
   },
   {
    "duration": 40,
    "start_time": "2023-09-05T06:49:25.165Z"
   },
   {
    "duration": 12,
    "start_time": "2023-09-05T06:49:25.207Z"
   },
   {
    "duration": 16,
    "start_time": "2023-09-05T06:49:25.221Z"
   },
   {
    "duration": 22,
    "start_time": "2023-09-05T06:49:25.240Z"
   },
   {
    "duration": 51,
    "start_time": "2023-09-05T06:49:25.264Z"
   },
   {
    "duration": 16,
    "start_time": "2023-09-05T06:49:25.317Z"
   },
   {
    "duration": 24,
    "start_time": "2023-09-05T06:49:25.335Z"
   },
   {
    "duration": 6,
    "start_time": "2023-09-05T06:49:25.361Z"
   },
   {
    "duration": 150,
    "start_time": "2023-09-05T06:49:25.368Z"
   },
   {
    "duration": 24,
    "start_time": "2023-09-05T06:49:25.520Z"
   },
   {
    "duration": 27,
    "start_time": "2023-09-05T06:49:25.545Z"
   },
   {
    "duration": 52,
    "start_time": "2023-09-05T06:49:25.574Z"
   },
   {
    "duration": 38,
    "start_time": "2023-09-05T06:49:25.628Z"
   },
   {
    "duration": 49,
    "start_time": "2023-09-05T06:49:25.668Z"
   },
   {
    "duration": 359,
    "start_time": "2023-09-05T06:49:25.719Z"
   },
   {
    "duration": 6,
    "start_time": "2023-09-05T06:49:26.080Z"
   },
   {
    "duration": 174,
    "start_time": "2023-09-05T06:49:31.115Z"
   },
   {
    "duration": 19,
    "start_time": "2023-09-05T06:49:37.055Z"
   },
   {
    "duration": 296,
    "start_time": "2023-09-05T06:49:40.870Z"
   },
   {
    "duration": 203,
    "start_time": "2023-09-05T06:50:38.679Z"
   },
   {
    "duration": 173,
    "start_time": "2023-09-05T06:51:40.107Z"
   },
   {
    "duration": 190,
    "start_time": "2023-09-05T06:52:43.689Z"
   },
   {
    "duration": 161,
    "start_time": "2023-09-05T06:55:23.016Z"
   },
   {
    "duration": 194,
    "start_time": "2023-09-05T06:55:25.633Z"
   },
   {
    "duration": 178,
    "start_time": "2023-09-05T06:55:43.799Z"
   },
   {
    "duration": 253,
    "start_time": "2023-09-05T06:55:54.528Z"
   },
   {
    "duration": 168,
    "start_time": "2023-09-05T06:56:50.981Z"
   },
   {
    "duration": 164,
    "start_time": "2023-09-05T06:58:15.190Z"
   },
   {
    "duration": 12,
    "start_time": "2023-09-05T06:58:22.736Z"
   },
   {
    "duration": 357,
    "start_time": "2023-09-05T06:59:20.922Z"
   },
   {
    "duration": 7,
    "start_time": "2023-09-05T06:59:26.921Z"
   },
   {
    "duration": 16,
    "start_time": "2023-09-05T06:59:30.133Z"
   },
   {
    "duration": 17,
    "start_time": "2023-09-05T07:00:14.811Z"
   },
   {
    "duration": 14,
    "start_time": "2023-09-05T07:00:19.376Z"
   },
   {
    "duration": 161,
    "start_time": "2023-09-05T07:01:07.859Z"
   },
   {
    "duration": 148,
    "start_time": "2023-09-05T07:01:52.821Z"
   },
   {
    "duration": 159,
    "start_time": "2023-09-05T07:02:51.532Z"
   },
   {
    "duration": 6,
    "start_time": "2023-09-05T07:02:56.767Z"
   },
   {
    "duration": 159,
    "start_time": "2023-09-05T07:03:01.043Z"
   },
   {
    "duration": 161,
    "start_time": "2023-09-05T07:03:52.650Z"
   },
   {
    "duration": 165,
    "start_time": "2023-09-05T07:04:16.781Z"
   },
   {
    "duration": 174,
    "start_time": "2023-09-05T07:04:24.346Z"
   },
   {
    "duration": 181,
    "start_time": "2023-09-05T07:05:12.668Z"
   },
   {
    "duration": 168,
    "start_time": "2023-09-05T07:05:31.817Z"
   },
   {
    "duration": 186,
    "start_time": "2023-09-05T07:05:51.342Z"
   },
   {
    "duration": 282,
    "start_time": "2023-09-05T07:06:50.702Z"
   },
   {
    "duration": 290,
    "start_time": "2023-09-05T07:08:20.477Z"
   },
   {
    "duration": 246,
    "start_time": "2023-09-05T07:08:56.814Z"
   },
   {
    "duration": 207,
    "start_time": "2023-09-05T07:10:29.037Z"
   },
   {
    "duration": 203,
    "start_time": "2023-09-05T07:23:37.743Z"
   },
   {
    "duration": 202,
    "start_time": "2023-09-05T07:24:15.034Z"
   },
   {
    "duration": 206,
    "start_time": "2023-09-05T07:25:31.845Z"
   },
   {
    "duration": 228,
    "start_time": "2023-09-05T07:25:36.106Z"
   },
   {
    "duration": 165,
    "start_time": "2023-09-05T07:26:23.568Z"
   },
   {
    "duration": 196,
    "start_time": "2023-09-05T07:26:54.827Z"
   },
   {
    "duration": 118,
    "start_time": "2023-09-05T07:27:20.567Z"
   },
   {
    "duration": 182,
    "start_time": "2023-09-05T07:27:26.497Z"
   },
   {
    "duration": 173,
    "start_time": "2023-09-05T07:28:19.935Z"
   },
   {
    "duration": 12,
    "start_time": "2023-09-05T07:29:27.287Z"
   },
   {
    "duration": 25,
    "start_time": "2023-09-05T07:30:01.899Z"
   },
   {
    "duration": 186,
    "start_time": "2023-09-05T07:30:06.678Z"
   },
   {
    "duration": 258,
    "start_time": "2023-09-05T07:30:48.000Z"
   },
   {
    "duration": 251,
    "start_time": "2023-09-05T07:30:52.668Z"
   },
   {
    "duration": 276,
    "start_time": "2023-09-05T07:31:08.890Z"
   },
   {
    "duration": 364,
    "start_time": "2023-09-05T07:31:28.249Z"
   },
   {
    "duration": 251,
    "start_time": "2023-09-05T07:31:36.962Z"
   },
   {
    "duration": 162,
    "start_time": "2023-09-05T07:32:57.978Z"
   },
   {
    "duration": 3,
    "start_time": "2023-09-05T07:33:09.130Z"
   },
   {
    "duration": 208,
    "start_time": "2023-09-05T07:33:09.135Z"
   },
   {
    "duration": 16,
    "start_time": "2023-09-05T07:33:09.344Z"
   },
   {
    "duration": 2674,
    "start_time": "2023-09-05T07:33:09.362Z"
   },
   {
    "duration": 23,
    "start_time": "2023-09-05T07:33:12.038Z"
   },
   {
    "duration": 5,
    "start_time": "2023-09-05T07:33:12.063Z"
   },
   {
    "duration": 37,
    "start_time": "2023-09-05T07:33:12.070Z"
   },
   {
    "duration": 22,
    "start_time": "2023-09-05T07:33:12.109Z"
   },
   {
    "duration": 34,
    "start_time": "2023-09-05T07:33:12.133Z"
   },
   {
    "duration": 18,
    "start_time": "2023-09-05T07:33:12.169Z"
   },
   {
    "duration": 32,
    "start_time": "2023-09-05T07:33:12.191Z"
   },
   {
    "duration": 33,
    "start_time": "2023-09-05T07:33:12.225Z"
   },
   {
    "duration": 15,
    "start_time": "2023-09-05T07:33:12.260Z"
   },
   {
    "duration": 38,
    "start_time": "2023-09-05T07:33:12.277Z"
   },
   {
    "duration": 7,
    "start_time": "2023-09-05T07:33:12.317Z"
   },
   {
    "duration": 149,
    "start_time": "2023-09-05T07:33:12.325Z"
   },
   {
    "duration": 34,
    "start_time": "2023-09-05T07:33:12.476Z"
   },
   {
    "duration": 30,
    "start_time": "2023-09-05T07:33:12.512Z"
   },
   {
    "duration": 28,
    "start_time": "2023-09-05T07:33:12.544Z"
   },
   {
    "duration": 61,
    "start_time": "2023-09-05T07:33:12.574Z"
   },
   {
    "duration": 28,
    "start_time": "2023-09-05T07:33:12.637Z"
   },
   {
    "duration": 378,
    "start_time": "2023-09-05T07:33:12.667Z"
   },
   {
    "duration": 7,
    "start_time": "2023-09-05T07:33:13.047Z"
   },
   {
    "duration": 276,
    "start_time": "2023-09-05T07:33:13.055Z"
   },
   {
    "duration": 19,
    "start_time": "2023-09-05T07:33:13.332Z"
   },
   {
    "duration": 313,
    "start_time": "2023-09-05T07:33:13.353Z"
   },
   {
    "duration": 399,
    "start_time": "2023-09-05T07:33:13.667Z"
   },
   {
    "duration": 224,
    "start_time": "2023-09-05T07:33:14.067Z"
   },
   {
    "duration": 275,
    "start_time": "2023-09-05T07:33:14.300Z"
   },
   {
    "duration": 0,
    "start_time": "2023-09-05T07:33:14.577Z"
   },
   {
    "duration": 0,
    "start_time": "2023-09-05T07:33:14.578Z"
   },
   {
    "duration": 0,
    "start_time": "2023-09-05T07:33:14.580Z"
   },
   {
    "duration": 0,
    "start_time": "2023-09-05T07:33:14.581Z"
   },
   {
    "duration": 0,
    "start_time": "2023-09-05T07:33:14.583Z"
   },
   {
    "duration": 0,
    "start_time": "2023-09-05T07:33:14.584Z"
   },
   {
    "duration": 0,
    "start_time": "2023-09-05T07:33:14.603Z"
   },
   {
    "duration": 0,
    "start_time": "2023-09-05T07:33:14.605Z"
   },
   {
    "duration": 0,
    "start_time": "2023-09-05T07:33:14.607Z"
   },
   {
    "duration": 0,
    "start_time": "2023-09-05T07:33:14.608Z"
   },
   {
    "duration": 0,
    "start_time": "2023-09-05T07:33:14.610Z"
   },
   {
    "duration": 0,
    "start_time": "2023-09-05T07:33:14.611Z"
   },
   {
    "duration": 0,
    "start_time": "2023-09-05T07:33:14.613Z"
   },
   {
    "duration": 0,
    "start_time": "2023-09-05T07:33:14.615Z"
   },
   {
    "duration": 0,
    "start_time": "2023-09-05T07:33:14.616Z"
   },
   {
    "duration": 0,
    "start_time": "2023-09-05T07:33:14.619Z"
   },
   {
    "duration": 0,
    "start_time": "2023-09-05T07:33:14.619Z"
   },
   {
    "duration": 1,
    "start_time": "2023-09-05T07:33:14.620Z"
   },
   {
    "duration": 0,
    "start_time": "2023-09-05T07:33:14.622Z"
   },
   {
    "duration": 0,
    "start_time": "2023-09-05T07:33:14.623Z"
   },
   {
    "duration": 0,
    "start_time": "2023-09-05T07:33:14.625Z"
   },
   {
    "duration": 0,
    "start_time": "2023-09-05T07:33:14.627Z"
   },
   {
    "duration": 0,
    "start_time": "2023-09-05T07:33:14.628Z"
   },
   {
    "duration": 0,
    "start_time": "2023-09-05T07:33:14.629Z"
   },
   {
    "duration": 0,
    "start_time": "2023-09-05T07:33:14.630Z"
   },
   {
    "duration": 0,
    "start_time": "2023-09-05T07:33:14.631Z"
   },
   {
    "duration": 0,
    "start_time": "2023-09-05T07:33:14.633Z"
   },
   {
    "duration": 0,
    "start_time": "2023-09-05T07:33:14.634Z"
   },
   {
    "duration": 0,
    "start_time": "2023-09-05T07:33:14.636Z"
   },
   {
    "duration": 0,
    "start_time": "2023-09-05T07:33:14.637Z"
   },
   {
    "duration": 0,
    "start_time": "2023-09-05T07:33:14.638Z"
   },
   {
    "duration": 1,
    "start_time": "2023-09-05T07:33:14.640Z"
   },
   {
    "duration": 0,
    "start_time": "2023-09-05T07:33:14.702Z"
   },
   {
    "duration": 0,
    "start_time": "2023-09-05T07:33:14.704Z"
   },
   {
    "duration": 0,
    "start_time": "2023-09-05T07:33:14.706Z"
   },
   {
    "duration": 0,
    "start_time": "2023-09-05T07:33:14.708Z"
   },
   {
    "duration": 0,
    "start_time": "2023-09-05T07:33:14.709Z"
   },
   {
    "duration": 0,
    "start_time": "2023-09-05T07:33:14.710Z"
   },
   {
    "duration": 270,
    "start_time": "2023-09-05T07:33:35.883Z"
   },
   {
    "duration": 274,
    "start_time": "2023-09-05T07:33:42.623Z"
   },
   {
    "duration": 179,
    "start_time": "2023-09-05T07:33:42.900Z"
   },
   {
    "duration": 302,
    "start_time": "2023-09-05T07:33:43.081Z"
   },
   {
    "duration": 283,
    "start_time": "2023-09-05T07:33:43.386Z"
   },
   {
    "duration": 7,
    "start_time": "2023-09-05T07:33:43.670Z"
   },
   {
    "duration": 13,
    "start_time": "2023-09-05T07:33:43.678Z"
   },
   {
    "duration": 174,
    "start_time": "2023-09-05T07:33:43.693Z"
   },
   {
    "duration": 10,
    "start_time": "2023-09-05T07:33:43.869Z"
   },
   {
    "duration": 299,
    "start_time": "2023-09-05T07:33:43.881Z"
   },
   {
    "duration": 19,
    "start_time": "2023-09-05T07:33:44.183Z"
   },
   {
    "duration": 22,
    "start_time": "2023-09-05T07:33:44.204Z"
   },
   {
    "duration": 29,
    "start_time": "2023-09-05T07:33:44.228Z"
   },
   {
    "duration": 14,
    "start_time": "2023-09-05T07:33:44.258Z"
   },
   {
    "duration": 225,
    "start_time": "2023-09-05T07:33:44.274Z"
   },
   {
    "duration": 195,
    "start_time": "2023-09-05T07:33:44.501Z"
   },
   {
    "duration": 179,
    "start_time": "2023-09-05T07:33:44.701Z"
   },
   {
    "duration": 7,
    "start_time": "2023-09-05T07:33:44.883Z"
   },
   {
    "duration": 204,
    "start_time": "2023-09-05T07:33:44.902Z"
   },
   {
    "duration": 204,
    "start_time": "2023-09-05T07:33:45.107Z"
   },
   {
    "duration": 11,
    "start_time": "2023-09-05T07:33:45.313Z"
   },
   {
    "duration": 214,
    "start_time": "2023-09-05T07:33:45.326Z"
   },
   {
    "duration": 413,
    "start_time": "2023-09-05T07:33:45.541Z"
   },
   {
    "duration": 268,
    "start_time": "2023-09-05T07:33:45.956Z"
   },
   {
    "duration": 8,
    "start_time": "2023-09-05T07:33:46.226Z"
   },
   {
    "duration": 234,
    "start_time": "2023-09-05T07:33:46.235Z"
   },
   {
    "duration": 222,
    "start_time": "2023-09-05T07:33:46.471Z"
   },
   {
    "duration": 209,
    "start_time": "2023-09-05T07:33:46.695Z"
   },
   {
    "duration": 168,
    "start_time": "2023-09-05T07:33:46.907Z"
   },
   {
    "duration": 187,
    "start_time": "2023-09-05T07:33:47.077Z"
   },
   {
    "duration": 233,
    "start_time": "2023-09-05T07:33:47.266Z"
   },
   {
    "duration": 291,
    "start_time": "2023-09-05T07:33:47.502Z"
   },
   {
    "duration": 341,
    "start_time": "2023-09-05T07:33:47.795Z"
   },
   {
    "duration": 189,
    "start_time": "2023-09-05T07:33:48.138Z"
   },
   {
    "duration": 8,
    "start_time": "2023-09-05T07:33:48.329Z"
   },
   {
    "duration": 18,
    "start_time": "2023-09-05T07:33:48.338Z"
   },
   {
    "duration": 25,
    "start_time": "2023-09-05T07:33:48.358Z"
   },
   {
    "duration": 81,
    "start_time": "2023-09-05T07:33:48.385Z"
   },
   {
    "duration": 38,
    "start_time": "2023-09-05T07:33:48.468Z"
   },
   {
    "duration": 182,
    "start_time": "2023-09-05T07:33:48.508Z"
   },
   {
    "duration": 3,
    "start_time": "2023-09-05T07:39:01.252Z"
   },
   {
    "duration": 344,
    "start_time": "2023-09-05T07:39:01.257Z"
   },
   {
    "duration": 218,
    "start_time": "2023-09-05T07:39:01.603Z"
   },
   {
    "duration": 2881,
    "start_time": "2023-09-05T07:39:01.823Z"
   },
   {
    "duration": 33,
    "start_time": "2023-09-05T07:39:04.707Z"
   },
   {
    "duration": 5,
    "start_time": "2023-09-05T07:39:04.742Z"
   },
   {
    "duration": 16,
    "start_time": "2023-09-05T07:39:04.749Z"
   },
   {
    "duration": 54,
    "start_time": "2023-09-05T07:39:04.767Z"
   },
   {
    "duration": 21,
    "start_time": "2023-09-05T07:39:04.823Z"
   },
   {
    "duration": 30,
    "start_time": "2023-09-05T07:39:04.846Z"
   },
   {
    "duration": 25,
    "start_time": "2023-09-05T07:39:04.878Z"
   },
   {
    "duration": 32,
    "start_time": "2023-09-05T07:39:04.905Z"
   },
   {
    "duration": 23,
    "start_time": "2023-09-05T07:39:04.938Z"
   },
   {
    "duration": 21,
    "start_time": "2023-09-05T07:39:04.963Z"
   },
   {
    "duration": 18,
    "start_time": "2023-09-05T07:39:04.986Z"
   },
   {
    "duration": 149,
    "start_time": "2023-09-05T07:39:05.005Z"
   },
   {
    "duration": 26,
    "start_time": "2023-09-05T07:39:05.156Z"
   },
   {
    "duration": 44,
    "start_time": "2023-09-05T07:39:05.183Z"
   },
   {
    "duration": 37,
    "start_time": "2023-09-05T07:39:05.229Z"
   },
   {
    "duration": 46,
    "start_time": "2023-09-05T07:39:05.268Z"
   },
   {
    "duration": 25,
    "start_time": "2023-09-05T07:39:05.316Z"
   },
   {
    "duration": 379,
    "start_time": "2023-09-05T07:39:05.342Z"
   },
   {
    "duration": 8,
    "start_time": "2023-09-05T07:39:05.722Z"
   },
   {
    "duration": 287,
    "start_time": "2023-09-05T07:39:05.735Z"
   },
   {
    "duration": 18,
    "start_time": "2023-09-05T07:39:06.023Z"
   },
   {
    "duration": 315,
    "start_time": "2023-09-05T07:39:06.043Z"
   },
   {
    "duration": 279,
    "start_time": "2023-09-05T07:39:06.359Z"
   },
   {
    "duration": 205,
    "start_time": "2023-09-05T07:39:06.640Z"
   },
   {
    "duration": 439,
    "start_time": "2023-09-05T07:39:06.846Z"
   },
   {
    "duration": 177,
    "start_time": "2023-09-05T07:39:07.287Z"
   },
   {
    "duration": 291,
    "start_time": "2023-09-05T07:39:07.466Z"
   },
   {
    "duration": 186,
    "start_time": "2023-09-05T07:39:07.759Z"
   },
   {
    "duration": 6,
    "start_time": "2023-09-05T07:39:07.947Z"
   },
   {
    "duration": 24,
    "start_time": "2023-09-05T07:39:07.955Z"
   },
   {
    "duration": 196,
    "start_time": "2023-09-05T07:39:07.981Z"
   },
   {
    "duration": 10,
    "start_time": "2023-09-05T07:39:08.178Z"
   },
   {
    "duration": 291,
    "start_time": "2023-09-05T07:39:08.190Z"
   },
   {
    "duration": 7,
    "start_time": "2023-09-05T07:39:08.483Z"
   },
   {
    "duration": 17,
    "start_time": "2023-09-05T07:39:08.502Z"
   },
   {
    "duration": 21,
    "start_time": "2023-09-05T07:39:08.520Z"
   },
   {
    "duration": 36,
    "start_time": "2023-09-05T07:39:08.543Z"
   },
   {
    "duration": 203,
    "start_time": "2023-09-05T07:39:08.581Z"
   },
   {
    "duration": 169,
    "start_time": "2023-09-05T07:39:08.785Z"
   },
   {
    "duration": 308,
    "start_time": "2023-09-05T07:39:08.957Z"
   },
   {
    "duration": 7,
    "start_time": "2023-09-05T07:39:09.267Z"
   },
   {
    "duration": 200,
    "start_time": "2023-09-05T07:39:09.276Z"
   },
   {
    "duration": 207,
    "start_time": "2023-09-05T07:39:09.477Z"
   },
   {
    "duration": 20,
    "start_time": "2023-09-05T07:39:09.686Z"
   },
   {
    "duration": 224,
    "start_time": "2023-09-05T07:39:09.708Z"
   },
   {
    "duration": 305,
    "start_time": "2023-09-05T07:39:09.934Z"
   },
   {
    "duration": 280,
    "start_time": "2023-09-05T07:39:10.241Z"
   },
   {
    "duration": 8,
    "start_time": "2023-09-05T07:39:10.522Z"
   },
   {
    "duration": 263,
    "start_time": "2023-09-05T07:39:10.532Z"
   },
   {
    "duration": 223,
    "start_time": "2023-09-05T07:39:10.797Z"
   },
   {
    "duration": 213,
    "start_time": "2023-09-05T07:39:11.023Z"
   },
   {
    "duration": 272,
    "start_time": "2023-09-05T07:39:11.238Z"
   },
   {
    "duration": 199,
    "start_time": "2023-09-05T07:39:11.512Z"
   },
   {
    "duration": 238,
    "start_time": "2023-09-05T07:39:11.713Z"
   },
   {
    "duration": 300,
    "start_time": "2023-09-05T07:39:11.953Z"
   },
   {
    "duration": 239,
    "start_time": "2023-09-05T07:39:12.255Z"
   },
   {
    "duration": 190,
    "start_time": "2023-09-05T07:39:12.496Z"
   },
   {
    "duration": 15,
    "start_time": "2023-09-05T07:39:12.688Z"
   },
   {
    "duration": 33,
    "start_time": "2023-09-05T07:39:12.705Z"
   },
   {
    "duration": 44,
    "start_time": "2023-09-05T07:39:12.740Z"
   },
   {
    "duration": 47,
    "start_time": "2023-09-05T07:39:12.785Z"
   },
   {
    "duration": 29,
    "start_time": "2023-09-05T07:39:12.834Z"
   },
   {
    "duration": 195,
    "start_time": "2023-09-05T07:39:12.865Z"
   },
   {
    "duration": 147,
    "start_time": "2023-09-05T07:43:07.847Z"
   },
   {
    "duration": 205,
    "start_time": "2023-09-05T07:43:31.512Z"
   },
   {
    "duration": 230,
    "start_time": "2023-09-05T07:46:19.090Z"
   },
   {
    "duration": 219,
    "start_time": "2023-09-05T07:46:32.192Z"
   },
   {
    "duration": 3,
    "start_time": "2023-09-05T07:47:48.870Z"
   },
   {
    "duration": 158,
    "start_time": "2023-09-05T07:47:48.875Z"
   },
   {
    "duration": 17,
    "start_time": "2023-09-05T07:47:49.035Z"
   },
   {
    "duration": 2617,
    "start_time": "2023-09-05T07:47:49.055Z"
   },
   {
    "duration": 34,
    "start_time": "2023-09-05T07:47:51.674Z"
   },
   {
    "duration": 4,
    "start_time": "2023-09-05T07:47:51.709Z"
   },
   {
    "duration": 48,
    "start_time": "2023-09-05T07:47:51.715Z"
   },
   {
    "duration": 36,
    "start_time": "2023-09-05T07:47:51.765Z"
   },
   {
    "duration": 18,
    "start_time": "2023-09-05T07:47:51.804Z"
   },
   {
    "duration": 156,
    "start_time": "2023-09-05T07:47:51.825Z"
   },
   {
    "duration": 31,
    "start_time": "2023-09-05T07:47:51.983Z"
   },
   {
    "duration": 40,
    "start_time": "2023-09-05T07:47:52.016Z"
   },
   {
    "duration": 15,
    "start_time": "2023-09-05T07:47:52.058Z"
   },
   {
    "duration": 76,
    "start_time": "2023-09-05T07:47:52.075Z"
   },
   {
    "duration": 68,
    "start_time": "2023-09-05T07:47:52.153Z"
   },
   {
    "duration": 152,
    "start_time": "2023-09-05T07:47:52.222Z"
   },
   {
    "duration": 32,
    "start_time": "2023-09-05T07:47:52.376Z"
   },
   {
    "duration": 26,
    "start_time": "2023-09-05T07:47:52.410Z"
   },
   {
    "duration": 28,
    "start_time": "2023-09-05T07:47:52.437Z"
   },
   {
    "duration": 63,
    "start_time": "2023-09-05T07:47:52.466Z"
   },
   {
    "duration": 28,
    "start_time": "2023-09-05T07:47:52.531Z"
   },
   {
    "duration": 370,
    "start_time": "2023-09-05T07:47:52.561Z"
   },
   {
    "duration": 8,
    "start_time": "2023-09-05T07:47:52.932Z"
   },
   {
    "duration": 277,
    "start_time": "2023-09-05T07:47:52.943Z"
   },
   {
    "duration": 20,
    "start_time": "2023-09-05T07:47:53.221Z"
   },
   {
    "duration": 307,
    "start_time": "2023-09-05T07:47:53.243Z"
   },
   {
    "duration": 269,
    "start_time": "2023-09-05T07:47:53.552Z"
   },
   {
    "duration": 207,
    "start_time": "2023-09-05T07:47:53.823Z"
   },
   {
    "duration": 432,
    "start_time": "2023-09-05T07:47:54.032Z"
   },
   {
    "duration": 222,
    "start_time": "2023-09-05T07:47:54.466Z"
   },
   {
    "duration": 323,
    "start_time": "2023-09-05T07:47:54.690Z"
   },
   {
    "duration": 183,
    "start_time": "2023-09-05T07:47:55.014Z"
   },
   {
    "duration": 7,
    "start_time": "2023-09-05T07:47:55.200Z"
   },
   {
    "duration": 23,
    "start_time": "2023-09-05T07:47:55.209Z"
   },
   {
    "duration": 184,
    "start_time": "2023-09-05T07:47:55.234Z"
   },
   {
    "duration": 9,
    "start_time": "2023-09-05T07:47:55.420Z"
   },
   {
    "duration": 286,
    "start_time": "2023-09-05T07:47:55.431Z"
   },
   {
    "duration": 8,
    "start_time": "2023-09-05T07:47:55.718Z"
   },
   {
    "duration": 17,
    "start_time": "2023-09-05T07:47:55.727Z"
   },
   {
    "duration": 17,
    "start_time": "2023-09-05T07:47:55.746Z"
   },
   {
    "duration": 39,
    "start_time": "2023-09-05T07:47:55.765Z"
   },
   {
    "duration": 200,
    "start_time": "2023-09-05T07:47:55.806Z"
   },
   {
    "duration": 160,
    "start_time": "2023-09-05T07:47:56.008Z"
   },
   {
    "duration": 164,
    "start_time": "2023-09-05T07:47:56.170Z"
   },
   {
    "duration": 6,
    "start_time": "2023-09-05T07:47:56.337Z"
   },
   {
    "duration": 324,
    "start_time": "2023-09-05T07:47:56.344Z"
   },
   {
    "duration": 203,
    "start_time": "2023-09-05T07:47:56.670Z"
   },
   {
    "duration": 10,
    "start_time": "2023-09-05T07:47:56.875Z"
   },
   {
    "duration": 213,
    "start_time": "2023-09-05T07:47:56.886Z"
   },
   {
    "duration": 289,
    "start_time": "2023-09-05T07:47:57.100Z"
   },
   {
    "duration": 268,
    "start_time": "2023-09-05T07:47:57.391Z"
   },
   {
    "duration": 7,
    "start_time": "2023-09-05T07:47:57.660Z"
   },
   {
    "duration": 280,
    "start_time": "2023-09-05T07:47:57.668Z"
   },
   {
    "duration": 214,
    "start_time": "2023-09-05T07:47:57.950Z"
   },
   {
    "duration": 200,
    "start_time": "2023-09-05T07:47:58.166Z"
   },
   {
    "duration": 168,
    "start_time": "2023-09-05T07:47:58.368Z"
   },
   {
    "duration": 326,
    "start_time": "2023-09-05T07:47:58.538Z"
   },
   {
    "duration": 246,
    "start_time": "2023-09-05T07:47:58.865Z"
   },
   {
    "duration": 296,
    "start_time": "2023-09-05T07:47:59.113Z"
   },
   {
    "duration": 222,
    "start_time": "2023-09-05T07:47:59.411Z"
   },
   {
    "duration": 180,
    "start_time": "2023-09-05T07:47:59.635Z"
   },
   {
    "duration": 9,
    "start_time": "2023-09-05T07:47:59.817Z"
   },
   {
    "duration": 39,
    "start_time": "2023-09-05T07:47:59.828Z"
   },
   {
    "duration": 18,
    "start_time": "2023-09-05T07:47:59.869Z"
   },
   {
    "duration": 36,
    "start_time": "2023-09-05T07:47:59.889Z"
   },
   {
    "duration": 213,
    "start_time": "2023-09-05T07:47:59.927Z"
   },
   {
    "duration": 22,
    "start_time": "2023-09-05T07:48:00.142Z"
   },
   {
    "duration": 190,
    "start_time": "2023-09-05T07:48:00.166Z"
   },
   {
    "duration": 967,
    "start_time": "2023-09-05T07:55:12.536Z"
   },
   {
    "duration": 417,
    "start_time": "2023-09-05T07:55:13.506Z"
   },
   {
    "duration": 18,
    "start_time": "2023-09-05T07:55:13.925Z"
   },
   {
    "duration": 3178,
    "start_time": "2023-09-05T07:55:13.946Z"
   },
   {
    "duration": 97,
    "start_time": "2023-09-05T07:55:17.126Z"
   },
   {
    "duration": 7,
    "start_time": "2023-09-05T07:55:17.225Z"
   },
   {
    "duration": 14,
    "start_time": "2023-09-05T07:55:17.234Z"
   },
   {
    "duration": 59,
    "start_time": "2023-09-05T07:55:17.249Z"
   },
   {
    "duration": 20,
    "start_time": "2023-09-05T07:55:17.310Z"
   },
   {
    "duration": 17,
    "start_time": "2023-09-05T07:55:17.332Z"
   },
   {
    "duration": 52,
    "start_time": "2023-09-05T07:55:17.351Z"
   },
   {
    "duration": 23,
    "start_time": "2023-09-05T07:55:17.405Z"
   },
   {
    "duration": 17,
    "start_time": "2023-09-05T07:55:17.430Z"
   },
   {
    "duration": 54,
    "start_time": "2023-09-05T07:55:17.449Z"
   },
   {
    "duration": 5,
    "start_time": "2023-09-05T07:55:17.505Z"
   },
   {
    "duration": 188,
    "start_time": "2023-09-05T07:55:17.512Z"
   },
   {
    "duration": 36,
    "start_time": "2023-09-05T07:55:17.703Z"
   },
   {
    "duration": 42,
    "start_time": "2023-09-05T07:55:17.741Z"
   },
   {
    "duration": 39,
    "start_time": "2023-09-05T07:55:17.785Z"
   },
   {
    "duration": 58,
    "start_time": "2023-09-05T07:55:17.826Z"
   },
   {
    "duration": 38,
    "start_time": "2023-09-05T07:55:17.889Z"
   },
   {
    "duration": 542,
    "start_time": "2023-09-05T07:55:17.929Z"
   },
   {
    "duration": 17,
    "start_time": "2023-09-05T07:55:18.472Z"
   },
   {
    "duration": 355,
    "start_time": "2023-09-05T07:55:18.491Z"
   },
   {
    "duration": 147,
    "start_time": "2023-09-05T07:55:18.848Z"
   },
   {
    "duration": 355,
    "start_time": "2023-09-05T07:55:18.998Z"
   },
   {
    "duration": 358,
    "start_time": "2023-09-05T07:55:19.355Z"
   },
   {
    "duration": 219,
    "start_time": "2023-09-05T07:55:19.717Z"
   },
   {
    "duration": 333,
    "start_time": "2023-09-05T07:55:19.938Z"
   },
   {
    "duration": 225,
    "start_time": "2023-09-05T07:55:20.273Z"
   },
   {
    "duration": 353,
    "start_time": "2023-09-05T07:55:20.501Z"
   },
   {
    "duration": 217,
    "start_time": "2023-09-05T07:55:20.857Z"
   },
   {
    "duration": 11,
    "start_time": "2023-09-05T07:55:21.076Z"
   },
   {
    "duration": 43,
    "start_time": "2023-09-05T07:55:21.091Z"
   },
   {
    "duration": 334,
    "start_time": "2023-09-05T07:55:21.137Z"
   },
   {
    "duration": 13,
    "start_time": "2023-09-05T07:55:21.473Z"
   },
   {
    "duration": 342,
    "start_time": "2023-09-05T07:55:21.488Z"
   },
   {
    "duration": 8,
    "start_time": "2023-09-05T07:55:21.832Z"
   },
   {
    "duration": 23,
    "start_time": "2023-09-05T07:55:21.842Z"
   },
   {
    "duration": 50,
    "start_time": "2023-09-05T07:55:21.867Z"
   },
   {
    "duration": 25,
    "start_time": "2023-09-05T07:55:21.919Z"
   },
   {
    "duration": 239,
    "start_time": "2023-09-05T07:55:21.946Z"
   },
   {
    "duration": 226,
    "start_time": "2023-09-05T07:55:22.187Z"
   },
   {
    "duration": 192,
    "start_time": "2023-09-05T07:55:22.415Z"
   },
   {
    "duration": 6,
    "start_time": "2023-09-05T07:55:22.609Z"
   },
   {
    "duration": 250,
    "start_time": "2023-09-05T07:55:22.617Z"
   },
   {
    "duration": 295,
    "start_time": "2023-09-05T07:55:22.869Z"
   },
   {
    "duration": 27,
    "start_time": "2023-09-05T07:55:23.167Z"
   },
   {
    "duration": 293,
    "start_time": "2023-09-05T07:55:23.196Z"
   },
   {
    "duration": 419,
    "start_time": "2023-09-05T07:55:23.491Z"
   },
   {
    "duration": 491,
    "start_time": "2023-09-05T07:55:23.913Z"
   },
   {
    "duration": 9,
    "start_time": "2023-09-05T07:55:24.407Z"
   },
   {
    "duration": 304,
    "start_time": "2023-09-05T07:55:24.418Z"
   },
   {
    "duration": 266,
    "start_time": "2023-09-05T07:55:24.725Z"
   },
   {
    "duration": 240,
    "start_time": "2023-09-05T07:55:24.993Z"
   },
   {
    "duration": 219,
    "start_time": "2023-09-05T07:55:25.235Z"
   },
   {
    "duration": 259,
    "start_time": "2023-09-05T07:55:25.456Z"
   },
   {
    "duration": 345,
    "start_time": "2023-09-05T07:55:25.718Z"
   },
   {
    "duration": 420,
    "start_time": "2023-09-05T07:55:26.065Z"
   },
   {
    "duration": 444,
    "start_time": "2023-09-05T07:55:26.487Z"
   },
   {
    "duration": 311,
    "start_time": "2023-09-05T07:55:26.933Z"
   },
   {
    "duration": 13,
    "start_time": "2023-09-05T07:55:27.246Z"
   },
   {
    "duration": 20,
    "start_time": "2023-09-05T07:55:27.261Z"
   },
   {
    "duration": 18,
    "start_time": "2023-09-05T07:55:27.283Z"
   },
   {
    "duration": 43,
    "start_time": "2023-09-05T07:55:27.304Z"
   },
   {
    "duration": 297,
    "start_time": "2023-09-05T07:55:27.349Z"
   },
   {
    "duration": 38,
    "start_time": "2023-09-05T07:55:27.648Z"
   },
   {
    "duration": 250,
    "start_time": "2023-09-05T07:55:27.688Z"
   },
   {
    "duration": 116,
    "start_time": "2023-09-05T08:04:02.555Z"
   },
   {
    "duration": 264,
    "start_time": "2023-09-05T08:04:14.850Z"
   },
   {
    "duration": 740,
    "start_time": "2023-09-05T08:04:30.010Z"
   },
   {
    "duration": 135,
    "start_time": "2023-09-05T08:04:30.752Z"
   },
   {
    "duration": 25,
    "start_time": "2023-09-05T08:04:30.889Z"
   },
   {
    "duration": 3388,
    "start_time": "2023-09-05T08:04:30.917Z"
   },
   {
    "duration": 78,
    "start_time": "2023-09-05T08:04:34.307Z"
   },
   {
    "duration": 7,
    "start_time": "2023-09-05T08:04:34.388Z"
   },
   {
    "duration": 24,
    "start_time": "2023-09-05T08:04:34.397Z"
   },
   {
    "duration": 33,
    "start_time": "2023-09-05T08:04:34.424Z"
   },
   {
    "duration": 35,
    "start_time": "2023-09-05T08:04:34.459Z"
   },
   {
    "duration": 17,
    "start_time": "2023-09-05T08:04:34.497Z"
   },
   {
    "duration": 65,
    "start_time": "2023-09-05T08:04:34.517Z"
   },
   {
    "duration": 31,
    "start_time": "2023-09-05T08:04:34.585Z"
   },
   {
    "duration": 25,
    "start_time": "2023-09-05T08:04:34.618Z"
   },
   {
    "duration": 59,
    "start_time": "2023-09-05T08:04:34.645Z"
   },
   {
    "duration": 8,
    "start_time": "2023-09-05T08:04:34.707Z"
   },
   {
    "duration": 216,
    "start_time": "2023-09-05T08:04:34.717Z"
   },
   {
    "duration": 35,
    "start_time": "2023-09-05T08:04:34.935Z"
   },
   {
    "duration": 43,
    "start_time": "2023-09-05T08:04:34.981Z"
   },
   {
    "duration": 58,
    "start_time": "2023-09-05T08:04:35.026Z"
   },
   {
    "duration": 55,
    "start_time": "2023-09-05T08:04:35.086Z"
   },
   {
    "duration": 58,
    "start_time": "2023-09-05T08:04:35.144Z"
   },
   {
    "duration": 472,
    "start_time": "2023-09-05T08:04:35.204Z"
   },
   {
    "duration": 9,
    "start_time": "2023-09-05T08:04:35.680Z"
   },
   {
    "duration": 431,
    "start_time": "2023-09-05T08:04:35.691Z"
   },
   {
    "duration": 137,
    "start_time": "2023-09-05T08:04:36.124Z"
   },
   {
    "duration": 395,
    "start_time": "2023-09-05T08:04:36.264Z"
   },
   {
    "duration": 411,
    "start_time": "2023-09-05T08:04:36.661Z"
   },
   {
    "duration": 291,
    "start_time": "2023-09-05T08:04:37.079Z"
   },
   {
    "duration": 308,
    "start_time": "2023-09-05T08:04:37.372Z"
   },
   {
    "duration": 231,
    "start_time": "2023-09-05T08:04:37.683Z"
   },
   {
    "duration": 414,
    "start_time": "2023-09-05T08:04:37.916Z"
   },
   {
    "duration": 228,
    "start_time": "2023-09-05T08:04:38.333Z"
   },
   {
    "duration": 18,
    "start_time": "2023-09-05T08:04:38.563Z"
   },
   {
    "duration": 8,
    "start_time": "2023-09-05T08:04:38.583Z"
   },
   {
    "duration": 328,
    "start_time": "2023-09-05T08:04:38.594Z"
   },
   {
    "duration": 14,
    "start_time": "2023-09-05T08:04:38.924Z"
   },
   {
    "duration": 462,
    "start_time": "2023-09-05T08:04:38.940Z"
   },
   {
    "duration": 13,
    "start_time": "2023-09-05T08:04:39.404Z"
   },
   {
    "duration": 33,
    "start_time": "2023-09-05T08:04:39.419Z"
   },
   {
    "duration": 29,
    "start_time": "2023-09-05T08:04:39.454Z"
   },
   {
    "duration": 54,
    "start_time": "2023-09-05T08:04:39.487Z"
   },
   {
    "duration": 324,
    "start_time": "2023-09-05T08:04:39.543Z"
   },
   {
    "duration": 200,
    "start_time": "2023-09-05T08:04:39.870Z"
   },
   {
    "duration": 187,
    "start_time": "2023-09-05T08:04:40.081Z"
   },
   {
    "duration": 13,
    "start_time": "2023-09-05T08:04:40.269Z"
   },
   {
    "duration": 252,
    "start_time": "2023-09-05T08:04:40.284Z"
   },
   {
    "duration": 231,
    "start_time": "2023-09-05T08:04:40.539Z"
   },
   {
    "duration": 19,
    "start_time": "2023-09-05T08:04:40.772Z"
   },
   {
    "duration": 217,
    "start_time": "2023-09-05T08:04:40.793Z"
   },
   {
    "duration": 374,
    "start_time": "2023-09-05T08:04:41.012Z"
   },
   {
    "duration": 430,
    "start_time": "2023-09-05T08:04:41.388Z"
   },
   {
    "duration": 9,
    "start_time": "2023-09-05T08:04:41.820Z"
   },
   {
    "duration": 275,
    "start_time": "2023-09-05T08:04:41.832Z"
   },
   {
    "duration": 249,
    "start_time": "2023-09-05T08:04:42.109Z"
   },
   {
    "duration": 278,
    "start_time": "2023-09-05T08:04:42.360Z"
   },
   {
    "duration": 212,
    "start_time": "2023-09-05T08:04:42.640Z"
   },
   {
    "duration": 252,
    "start_time": "2023-09-05T08:04:42.854Z"
   },
   {
    "duration": 297,
    "start_time": "2023-09-05T08:04:43.109Z"
   },
   {
    "duration": 354,
    "start_time": "2023-09-05T08:04:43.408Z"
   },
   {
    "duration": 473,
    "start_time": "2023-09-05T08:04:43.765Z"
   },
   {
    "duration": 213,
    "start_time": "2023-09-05T08:04:44.241Z"
   },
   {
    "duration": 14,
    "start_time": "2023-09-05T08:04:44.457Z"
   },
   {
    "duration": 18,
    "start_time": "2023-09-05T08:04:44.485Z"
   },
   {
    "duration": 22,
    "start_time": "2023-09-05T08:04:44.506Z"
   },
   {
    "duration": 49,
    "start_time": "2023-09-05T08:04:44.531Z"
   },
   {
    "duration": 334,
    "start_time": "2023-09-05T08:04:44.583Z"
   },
   {
    "duration": 36,
    "start_time": "2023-09-05T08:04:44.920Z"
   },
   {
    "duration": 232,
    "start_time": "2023-09-05T08:04:44.964Z"
   },
   {
    "duration": 831,
    "start_time": "2023-09-05T08:05:49.443Z"
   },
   {
    "duration": 186,
    "start_time": "2023-09-05T08:05:50.276Z"
   },
   {
    "duration": 24,
    "start_time": "2023-09-05T08:05:50.465Z"
   },
   {
    "duration": 3288,
    "start_time": "2023-09-05T08:05:50.493Z"
   },
   {
    "duration": 110,
    "start_time": "2023-09-05T08:05:53.784Z"
   },
   {
    "duration": 8,
    "start_time": "2023-09-05T08:05:53.896Z"
   },
   {
    "duration": 30,
    "start_time": "2023-09-05T08:05:53.906Z"
   },
   {
    "duration": 51,
    "start_time": "2023-09-05T08:05:53.938Z"
   },
   {
    "duration": 22,
    "start_time": "2023-09-05T08:05:53.992Z"
   },
   {
    "duration": 30,
    "start_time": "2023-09-05T08:05:54.016Z"
   },
   {
    "duration": 49,
    "start_time": "2023-09-05T08:05:54.049Z"
   },
   {
    "duration": 23,
    "start_time": "2023-09-05T08:05:54.101Z"
   },
   {
    "duration": 15,
    "start_time": "2023-09-05T08:05:54.127Z"
   },
   {
    "duration": 54,
    "start_time": "2023-09-05T08:05:54.145Z"
   },
   {
    "duration": 8,
    "start_time": "2023-09-05T08:05:54.201Z"
   },
   {
    "duration": 221,
    "start_time": "2023-09-05T08:05:54.211Z"
   },
   {
    "duration": 47,
    "start_time": "2023-09-05T08:05:54.434Z"
   },
   {
    "duration": 41,
    "start_time": "2023-09-05T08:05:54.483Z"
   },
   {
    "duration": 59,
    "start_time": "2023-09-05T08:05:54.527Z"
   },
   {
    "duration": 40,
    "start_time": "2023-09-05T08:05:54.588Z"
   },
   {
    "duration": 28,
    "start_time": "2023-09-05T08:05:54.631Z"
   },
   {
    "duration": 399,
    "start_time": "2023-09-05T08:05:54.682Z"
   },
   {
    "duration": 10,
    "start_time": "2023-09-05T08:05:55.084Z"
   },
   {
    "duration": 350,
    "start_time": "2023-09-05T08:05:55.096Z"
   },
   {
    "duration": 142,
    "start_time": "2023-09-05T08:05:55.448Z"
   },
   {
    "duration": 337,
    "start_time": "2023-09-05T08:05:55.592Z"
   },
   {
    "duration": 335,
    "start_time": "2023-09-05T08:05:55.931Z"
   },
   {
    "duration": 227,
    "start_time": "2023-09-05T08:05:56.268Z"
   },
   {
    "duration": 385,
    "start_time": "2023-09-05T08:05:56.498Z"
   },
   {
    "duration": 227,
    "start_time": "2023-09-05T08:05:56.886Z"
   },
   {
    "duration": 322,
    "start_time": "2023-09-05T08:05:57.114Z"
   },
   {
    "duration": 189,
    "start_time": "2023-09-05T08:05:57.438Z"
   },
   {
    "duration": 9,
    "start_time": "2023-09-05T08:05:57.629Z"
   },
   {
    "duration": 43,
    "start_time": "2023-09-05T08:05:57.639Z"
   },
   {
    "duration": 348,
    "start_time": "2023-09-05T08:05:57.685Z"
   },
   {
    "duration": 11,
    "start_time": "2023-09-05T08:05:58.035Z"
   },
   {
    "duration": 305,
    "start_time": "2023-09-05T08:05:58.048Z"
   },
   {
    "duration": 8,
    "start_time": "2023-09-05T08:05:58.354Z"
   },
   {
    "duration": 50,
    "start_time": "2023-09-05T08:05:58.364Z"
   },
   {
    "duration": 28,
    "start_time": "2023-09-05T08:05:58.417Z"
   },
   {
    "duration": 17,
    "start_time": "2023-09-05T08:05:58.452Z"
   },
   {
    "duration": 231,
    "start_time": "2023-09-05T08:05:58.471Z"
   },
   {
    "duration": 200,
    "start_time": "2023-09-05T08:05:58.704Z"
   },
   {
    "duration": 237,
    "start_time": "2023-09-05T08:05:58.906Z"
   },
   {
    "duration": 8,
    "start_time": "2023-09-05T08:05:59.145Z"
   },
   {
    "duration": 252,
    "start_time": "2023-09-05T08:05:59.155Z"
   },
   {
    "duration": 254,
    "start_time": "2023-09-05T08:05:59.412Z"
   },
   {
    "duration": 18,
    "start_time": "2023-09-05T08:05:59.668Z"
   },
   {
    "duration": 305,
    "start_time": "2023-09-05T08:05:59.689Z"
   },
   {
    "duration": 353,
    "start_time": "2023-09-05T08:05:59.996Z"
   },
   {
    "duration": 436,
    "start_time": "2023-09-05T08:06:00.351Z"
   },
   {
    "duration": 13,
    "start_time": "2023-09-05T08:06:00.789Z"
   },
   {
    "duration": 392,
    "start_time": "2023-09-05T08:06:00.804Z"
   },
   {
    "duration": 246,
    "start_time": "2023-09-05T08:06:01.198Z"
   },
   {
    "duration": 221,
    "start_time": "2023-09-05T08:06:01.446Z"
   },
   {
    "duration": 184,
    "start_time": "2023-09-05T08:06:01.670Z"
   },
   {
    "duration": 261,
    "start_time": "2023-09-05T08:06:01.855Z"
   },
   {
    "duration": 319,
    "start_time": "2023-09-05T08:06:02.119Z"
   },
   {
    "duration": 360,
    "start_time": "2023-09-05T08:06:02.440Z"
   },
   {
    "duration": 392,
    "start_time": "2023-09-05T08:06:02.801Z"
   },
   {
    "duration": 247,
    "start_time": "2023-09-05T08:06:03.195Z"
   },
   {
    "duration": 12,
    "start_time": "2023-09-05T08:06:03.444Z"
   },
   {
    "duration": 75,
    "start_time": "2023-09-05T08:06:03.458Z"
   },
   {
    "duration": 37,
    "start_time": "2023-09-05T08:06:03.537Z"
   },
   {
    "duration": 189,
    "start_time": "2023-09-05T08:06:03.576Z"
   },
   {
    "duration": 321,
    "start_time": "2023-09-05T08:06:03.767Z"
   },
   {
    "duration": 263,
    "start_time": "2023-09-05T08:06:04.091Z"
   },
   {
    "duration": 40,
    "start_time": "2023-09-05T08:06:04.356Z"
   },
   {
    "duration": 196,
    "start_time": "2023-09-05T08:06:04.399Z"
   },
   {
    "duration": 687,
    "start_time": "2023-09-05T08:06:17.414Z"
   },
   {
    "duration": 142,
    "start_time": "2023-09-05T08:06:18.103Z"
   },
   {
    "duration": 16,
    "start_time": "2023-09-05T08:06:18.247Z"
   },
   {
    "duration": 2973,
    "start_time": "2023-09-05T08:06:18.266Z"
   },
   {
    "duration": 80,
    "start_time": "2023-09-05T08:06:21.241Z"
   },
   {
    "duration": 7,
    "start_time": "2023-09-05T08:06:21.323Z"
   },
   {
    "duration": 19,
    "start_time": "2023-09-05T08:06:21.332Z"
   },
   {
    "duration": 55,
    "start_time": "2023-09-05T08:06:21.354Z"
   },
   {
    "duration": 18,
    "start_time": "2023-09-05T08:06:21.411Z"
   },
   {
    "duration": 25,
    "start_time": "2023-09-05T08:06:21.433Z"
   },
   {
    "duration": 28,
    "start_time": "2023-09-05T08:06:21.482Z"
   },
   {
    "duration": 31,
    "start_time": "2023-09-05T08:06:21.512Z"
   },
   {
    "duration": 39,
    "start_time": "2023-09-05T08:06:21.545Z"
   },
   {
    "duration": 23,
    "start_time": "2023-09-05T08:06:21.585Z"
   },
   {
    "duration": 13,
    "start_time": "2023-09-05T08:06:21.610Z"
   },
   {
    "duration": 139,
    "start_time": "2023-09-05T08:06:21.625Z"
   },
   {
    "duration": 34,
    "start_time": "2023-09-05T08:06:21.766Z"
   },
   {
    "duration": 27,
    "start_time": "2023-09-05T08:06:21.802Z"
   },
   {
    "duration": 64,
    "start_time": "2023-09-05T08:06:21.831Z"
   },
   {
    "duration": 47,
    "start_time": "2023-09-05T08:06:21.897Z"
   },
   {
    "duration": 59,
    "start_time": "2023-09-05T08:06:21.947Z"
   },
   {
    "duration": 476,
    "start_time": "2023-09-05T08:06:22.007Z"
   },
   {
    "duration": 11,
    "start_time": "2023-09-05T08:06:22.486Z"
   },
   {
    "duration": 335,
    "start_time": "2023-09-05T08:06:22.499Z"
   },
   {
    "duration": 130,
    "start_time": "2023-09-05T08:06:22.836Z"
   },
   {
    "duration": 409,
    "start_time": "2023-09-05T08:06:22.968Z"
   },
   {
    "duration": 361,
    "start_time": "2023-09-05T08:06:23.379Z"
   },
   {
    "duration": 230,
    "start_time": "2023-09-05T08:06:23.746Z"
   },
   {
    "duration": 338,
    "start_time": "2023-09-05T08:06:23.981Z"
   },
   {
    "duration": 221,
    "start_time": "2023-09-05T08:06:24.321Z"
   },
   {
    "duration": 299,
    "start_time": "2023-09-05T08:06:24.543Z"
   },
   {
    "duration": 183,
    "start_time": "2023-09-05T08:06:24.843Z"
   },
   {
    "duration": 8,
    "start_time": "2023-09-05T08:06:25.028Z"
   },
   {
    "duration": 20,
    "start_time": "2023-09-05T08:06:25.037Z"
   },
   {
    "duration": 286,
    "start_time": "2023-09-05T08:06:25.059Z"
   },
   {
    "duration": 10,
    "start_time": "2023-09-05T08:06:25.347Z"
   },
   {
    "duration": 296,
    "start_time": "2023-09-05T08:06:25.359Z"
   },
   {
    "duration": 8,
    "start_time": "2023-09-05T08:06:25.656Z"
   },
   {
    "duration": 28,
    "start_time": "2023-09-05T08:06:25.666Z"
   },
   {
    "duration": 33,
    "start_time": "2023-09-05T08:06:25.696Z"
   },
   {
    "duration": 13,
    "start_time": "2023-09-05T08:06:25.731Z"
   },
   {
    "duration": 225,
    "start_time": "2023-09-05T08:06:25.746Z"
   },
   {
    "duration": 178,
    "start_time": "2023-09-05T08:06:25.980Z"
   },
   {
    "duration": 191,
    "start_time": "2023-09-05T08:06:26.160Z"
   },
   {
    "duration": 7,
    "start_time": "2023-09-05T08:06:26.354Z"
   },
   {
    "duration": 286,
    "start_time": "2023-09-05T08:06:26.363Z"
   },
   {
    "duration": 277,
    "start_time": "2023-09-05T08:06:26.652Z"
   },
   {
    "duration": 13,
    "start_time": "2023-09-05T08:06:26.932Z"
   },
   {
    "duration": 284,
    "start_time": "2023-09-05T08:06:26.948Z"
   },
   {
    "duration": 354,
    "start_time": "2023-09-05T08:06:27.235Z"
   },
   {
    "duration": 403,
    "start_time": "2023-09-05T08:06:27.591Z"
   },
   {
    "duration": 11,
    "start_time": "2023-09-05T08:06:27.996Z"
   },
   {
    "duration": 236,
    "start_time": "2023-09-05T08:06:28.010Z"
   },
   {
    "duration": 243,
    "start_time": "2023-09-05T08:06:28.248Z"
   },
   {
    "duration": 251,
    "start_time": "2023-09-05T08:06:28.494Z"
   },
   {
    "duration": 194,
    "start_time": "2023-09-05T08:06:28.747Z"
   },
   {
    "duration": 271,
    "start_time": "2023-09-05T08:06:28.943Z"
   },
   {
    "duration": 255,
    "start_time": "2023-09-05T08:06:29.216Z"
   },
   {
    "duration": 299,
    "start_time": "2023-09-05T08:06:29.473Z"
   },
   {
    "duration": 397,
    "start_time": "2023-09-05T08:06:29.774Z"
   },
   {
    "duration": 220,
    "start_time": "2023-09-05T08:06:30.173Z"
   },
   {
    "duration": 12,
    "start_time": "2023-09-05T08:06:30.396Z"
   },
   {
    "duration": 57,
    "start_time": "2023-09-05T08:06:30.410Z"
   },
   {
    "duration": 52,
    "start_time": "2023-09-05T08:06:30.469Z"
   },
   {
    "duration": 54,
    "start_time": "2023-09-05T08:06:30.523Z"
   },
   {
    "duration": 238,
    "start_time": "2023-09-05T08:06:30.579Z"
   },
   {
    "duration": 242,
    "start_time": "2023-09-05T08:06:30.818Z"
   },
   {
    "duration": 36,
    "start_time": "2023-09-05T08:06:31.062Z"
   },
   {
    "duration": 227,
    "start_time": "2023-09-05T08:06:31.100Z"
   }
  ],
  "kernelspec": {
   "display_name": "Python 3 (ipykernel)",
   "language": "python",
   "name": "python3"
  },
  "language_info": {
   "codemirror_mode": {
    "name": "ipython",
    "version": 3
   },
   "file_extension": ".py",
   "mimetype": "text/x-python",
   "name": "python",
   "nbconvert_exporter": "python",
   "pygments_lexer": "ipython3",
   "version": "3.11.3"
  },
  "toc": {
   "base_numbering": 1,
   "nav_menu": {},
   "number_sections": true,
   "sideBar": true,
   "skip_h1_title": true,
   "title_cell": "Table of Contents",
   "title_sidebar": "Contents",
   "toc_cell": false,
   "toc_position": {},
   "toc_section_display": true,
   "toc_window_display": false
  }
 },
 "nbformat": 4,
 "nbformat_minor": 2
}
