{
 "cells": [
  {
   "cell_type": "markdown",
   "metadata": {},
   "source": [
    "# Приоритезация гипотез и A/B тестирование"
   ]
  },
  {
   "cell_type": "markdown",
   "metadata": {},
   "source": [
    "В данной работе отдел маркетинга некой компании создал список гипотез для увеличения выручки. Необходимо приоритезировать эти гипотезы. \n",
    "\n",
    "Также необходимо провести A/B-тест и проанализировать результаты, определив, какая из групп более выгодна для бизнеса на основе количества заказов и среднего чека"
   ]
  },
  {
   "cell_type": "code",
   "execution_count": 1,
   "metadata": {},
   "outputs": [],
   "source": [
    "import pandas as pd\n",
    "import numpy as np\n",
    "import seaborn as sns\n",
    "import datetime as dt\n",
    "from datetime import datetime, timedelta\n",
    "import scipy.stats as stats\n",
    "from matplotlib import pyplot as plt"
   ]
  },
  {
   "cell_type": "code",
   "execution_count": 2,
   "metadata": {},
   "outputs": [],
   "source": [
    "pd.options.display.max_colwidth = 100"
   ]
  },
  {
   "cell_type": "code",
   "execution_count": 3,
   "metadata": {},
   "outputs": [
    {
     "data": {
      "text/html": [
       "<div>\n",
       "<style scoped>\n",
       "    .dataframe tbody tr th:only-of-type {\n",
       "        vertical-align: middle;\n",
       "    }\n",
       "\n",
       "    .dataframe tbody tr th {\n",
       "        vertical-align: top;\n",
       "    }\n",
       "\n",
       "    .dataframe thead th {\n",
       "        text-align: right;\n",
       "    }\n",
       "</style>\n",
       "<table border=\"1\" class=\"dataframe\">\n",
       "  <thead>\n",
       "    <tr style=\"text-align: right;\">\n",
       "      <th></th>\n",
       "      <th>Hypothesis</th>\n",
       "      <th>Reach</th>\n",
       "      <th>Impact</th>\n",
       "      <th>Confidence</th>\n",
       "      <th>Efforts</th>\n",
       "    </tr>\n",
       "  </thead>\n",
       "  <tbody>\n",
       "    <tr>\n",
       "      <th>0</th>\n",
       "      <td>Добавить два новых канала привлечения трафика, что позволит привлекать на 30% больше пользователей</td>\n",
       "      <td>3</td>\n",
       "      <td>10</td>\n",
       "      <td>8</td>\n",
       "      <td>6</td>\n",
       "    </tr>\n",
       "    <tr>\n",
       "      <th>1</th>\n",
       "      <td>Запустить собственную службу доставки, что сократит срок доставки заказов</td>\n",
       "      <td>2</td>\n",
       "      <td>5</td>\n",
       "      <td>4</td>\n",
       "      <td>10</td>\n",
       "    </tr>\n",
       "    <tr>\n",
       "      <th>2</th>\n",
       "      <td>Добавить блоки рекомендаций товаров на сайт интернет магазина, чтобы повысить конверсию и средни...</td>\n",
       "      <td>8</td>\n",
       "      <td>3</td>\n",
       "      <td>7</td>\n",
       "      <td>3</td>\n",
       "    </tr>\n",
       "    <tr>\n",
       "      <th>3</th>\n",
       "      <td>Изменить структура категорий, что увеличит конверсию, т.к. пользователи быстрее найдут нужный товар</td>\n",
       "      <td>8</td>\n",
       "      <td>3</td>\n",
       "      <td>3</td>\n",
       "      <td>8</td>\n",
       "    </tr>\n",
       "    <tr>\n",
       "      <th>4</th>\n",
       "      <td>Изменить цвет фона главной страницы, чтобы увеличить вовлеченность пользователей</td>\n",
       "      <td>3</td>\n",
       "      <td>1</td>\n",
       "      <td>1</td>\n",
       "      <td>1</td>\n",
       "    </tr>\n",
       "    <tr>\n",
       "      <th>5</th>\n",
       "      <td>Добавить страницу отзывов клиентов о магазине, что позволит увеличить количество заказов</td>\n",
       "      <td>3</td>\n",
       "      <td>2</td>\n",
       "      <td>2</td>\n",
       "      <td>3</td>\n",
       "    </tr>\n",
       "    <tr>\n",
       "      <th>6</th>\n",
       "      <td>Показать на главной странице баннеры с актуальными акциями и распродажами, чтобы увеличить конве...</td>\n",
       "      <td>5</td>\n",
       "      <td>3</td>\n",
       "      <td>8</td>\n",
       "      <td>3</td>\n",
       "    </tr>\n",
       "    <tr>\n",
       "      <th>7</th>\n",
       "      <td>Добавить форму подписки на все основные страницы, чтобы собрать базу клиентов для email-рассылок</td>\n",
       "      <td>10</td>\n",
       "      <td>7</td>\n",
       "      <td>8</td>\n",
       "      <td>5</td>\n",
       "    </tr>\n",
       "    <tr>\n",
       "      <th>8</th>\n",
       "      <td>Запустить акцию, дающую скидку на товар в день рождения</td>\n",
       "      <td>1</td>\n",
       "      <td>9</td>\n",
       "      <td>9</td>\n",
       "      <td>5</td>\n",
       "    </tr>\n",
       "  </tbody>\n",
       "</table>\n",
       "</div>"
      ],
      "text/plain": [
       "                                                                                            Hypothesis  \\\n",
       "0   Добавить два новых канала привлечения трафика, что позволит привлекать на 30% больше пользователей   \n",
       "1                            Запустить собственную службу доставки, что сократит срок доставки заказов   \n",
       "2  Добавить блоки рекомендаций товаров на сайт интернет магазина, чтобы повысить конверсию и средни...   \n",
       "3  Изменить структура категорий, что увеличит конверсию, т.к. пользователи быстрее найдут нужный товар   \n",
       "4                     Изменить цвет фона главной страницы, чтобы увеличить вовлеченность пользователей   \n",
       "5             Добавить страницу отзывов клиентов о магазине, что позволит увеличить количество заказов   \n",
       "6  Показать на главной странице баннеры с актуальными акциями и распродажами, чтобы увеличить конве...   \n",
       "7     Добавить форму подписки на все основные страницы, чтобы собрать базу клиентов для email-рассылок   \n",
       "8                                              Запустить акцию, дающую скидку на товар в день рождения   \n",
       "\n",
       "   Reach  Impact  Confidence  Efforts  \n",
       "0      3      10           8        6  \n",
       "1      2       5           4       10  \n",
       "2      8       3           7        3  \n",
       "3      8       3           3        8  \n",
       "4      3       1           1        1  \n",
       "5      3       2           2        3  \n",
       "6      5       3           8        3  \n",
       "7     10       7           8        5  \n",
       "8      1       9           9        5  "
      ]
     },
     "execution_count": 3,
     "metadata": {},
     "output_type": "execute_result"
    }
   ],
   "source": [
    "hyp = pd.read_csv('/datasets/hypothesis.csv')\n",
    "hyp"
   ]
  },
  {
   "cell_type": "code",
   "execution_count": 4,
   "metadata": {},
   "outputs": [
    {
     "data": {
      "text/html": [
       "<div>\n",
       "<style scoped>\n",
       "    .dataframe tbody tr th:only-of-type {\n",
       "        vertical-align: middle;\n",
       "    }\n",
       "\n",
       "    .dataframe tbody tr th {\n",
       "        vertical-align: top;\n",
       "    }\n",
       "\n",
       "    .dataframe thead th {\n",
       "        text-align: right;\n",
       "    }\n",
       "</style>\n",
       "<table border=\"1\" class=\"dataframe\">\n",
       "  <thead>\n",
       "    <tr style=\"text-align: right;\">\n",
       "      <th></th>\n",
       "      <th>date</th>\n",
       "      <th>group</th>\n",
       "      <th>visitors</th>\n",
       "    </tr>\n",
       "  </thead>\n",
       "  <tbody>\n",
       "    <tr>\n",
       "      <th>0</th>\n",
       "      <td>2019-08-01</td>\n",
       "      <td>A</td>\n",
       "      <td>719</td>\n",
       "    </tr>\n",
       "    <tr>\n",
       "      <th>1</th>\n",
       "      <td>2019-08-02</td>\n",
       "      <td>A</td>\n",
       "      <td>619</td>\n",
       "    </tr>\n",
       "    <tr>\n",
       "      <th>2</th>\n",
       "      <td>2019-08-03</td>\n",
       "      <td>A</td>\n",
       "      <td>507</td>\n",
       "    </tr>\n",
       "    <tr>\n",
       "      <th>3</th>\n",
       "      <td>2019-08-04</td>\n",
       "      <td>A</td>\n",
       "      <td>717</td>\n",
       "    </tr>\n",
       "    <tr>\n",
       "      <th>4</th>\n",
       "      <td>2019-08-05</td>\n",
       "      <td>A</td>\n",
       "      <td>756</td>\n",
       "    </tr>\n",
       "  </tbody>\n",
       "</table>\n",
       "</div>"
      ],
      "text/plain": [
       "         date group  visitors\n",
       "0  2019-08-01     A       719\n",
       "1  2019-08-02     A       619\n",
       "2  2019-08-03     A       507\n",
       "3  2019-08-04     A       717\n",
       "4  2019-08-05     A       756"
      ]
     },
     "execution_count": 4,
     "metadata": {},
     "output_type": "execute_result"
    }
   ],
   "source": [
    "visitors = pd.read_csv('/datasets/visitors.csv')\n",
    "visitors.head()"
   ]
  },
  {
   "cell_type": "code",
   "execution_count": 5,
   "metadata": {},
   "outputs": [
    {
     "data": {
      "text/html": [
       "<div>\n",
       "<style scoped>\n",
       "    .dataframe tbody tr th:only-of-type {\n",
       "        vertical-align: middle;\n",
       "    }\n",
       "\n",
       "    .dataframe tbody tr th {\n",
       "        vertical-align: top;\n",
       "    }\n",
       "\n",
       "    .dataframe thead th {\n",
       "        text-align: right;\n",
       "    }\n",
       "</style>\n",
       "<table border=\"1\" class=\"dataframe\">\n",
       "  <thead>\n",
       "    <tr style=\"text-align: right;\">\n",
       "      <th></th>\n",
       "      <th>transactionId</th>\n",
       "      <th>visitorId</th>\n",
       "      <th>date</th>\n",
       "      <th>revenue</th>\n",
       "      <th>group</th>\n",
       "    </tr>\n",
       "  </thead>\n",
       "  <tbody>\n",
       "    <tr>\n",
       "      <th>0</th>\n",
       "      <td>3667963787</td>\n",
       "      <td>3312258926</td>\n",
       "      <td>2019-08-15</td>\n",
       "      <td>1650</td>\n",
       "      <td>B</td>\n",
       "    </tr>\n",
       "    <tr>\n",
       "      <th>1</th>\n",
       "      <td>2804400009</td>\n",
       "      <td>3642806036</td>\n",
       "      <td>2019-08-15</td>\n",
       "      <td>730</td>\n",
       "      <td>B</td>\n",
       "    </tr>\n",
       "    <tr>\n",
       "      <th>2</th>\n",
       "      <td>2961555356</td>\n",
       "      <td>4069496402</td>\n",
       "      <td>2019-08-15</td>\n",
       "      <td>400</td>\n",
       "      <td>A</td>\n",
       "    </tr>\n",
       "    <tr>\n",
       "      <th>3</th>\n",
       "      <td>3797467345</td>\n",
       "      <td>1196621759</td>\n",
       "      <td>2019-08-15</td>\n",
       "      <td>9759</td>\n",
       "      <td>B</td>\n",
       "    </tr>\n",
       "    <tr>\n",
       "      <th>4</th>\n",
       "      <td>2282983706</td>\n",
       "      <td>2322279887</td>\n",
       "      <td>2019-08-15</td>\n",
       "      <td>2308</td>\n",
       "      <td>B</td>\n",
       "    </tr>\n",
       "  </tbody>\n",
       "</table>\n",
       "</div>"
      ],
      "text/plain": [
       "   transactionId   visitorId        date  revenue group\n",
       "0     3667963787  3312258926  2019-08-15     1650     B\n",
       "1     2804400009  3642806036  2019-08-15      730     B\n",
       "2     2961555356  4069496402  2019-08-15      400     A\n",
       "3     3797467345  1196621759  2019-08-15     9759     B\n",
       "4     2282983706  2322279887  2019-08-15     2308     B"
      ]
     },
     "execution_count": 5,
     "metadata": {},
     "output_type": "execute_result"
    }
   ],
   "source": [
    "orders = pd.read_csv('/datasets/orders.csv')\n",
    "orders.head()"
   ]
  },
  {
   "cell_type": "markdown",
   "metadata": {},
   "source": [
    "## \n",
    "В файле /datasets/hypothesis.csv 9 гипотез по увеличению выручки интернет-магазина с указанными параметрами Reach, Impact, Confidence, Effort.\n",
    "Задача\n",
    "\n",
    "#### Примените фреймворк ICE для приоритизации гипотез. Отсортируйте их по убыванию приоритета.\n",
    "\n",
    "#### Примените фреймворк RICE для приоритизации гипотез. Отсортируйте их по убыванию приоритета.\n",
    "\n",
    "#### Укажите, как изменилась приоритизация гипотез при применении RICE вместо ICE. Объясните, почему так произошло."
   ]
  },
  {
   "cell_type": "markdown",
   "metadata": {},
   "source": [
    "Создадим колонку 'ice', предварительно изменив названия колонок "
   ]
  },
  {
   "cell_type": "code",
   "execution_count": 6,
   "metadata": {},
   "outputs": [],
   "source": [
    "hyp.columns=['hypothesis', 'reach', 'impact', 'confidence', 'efforts']"
   ]
  },
  {
   "cell_type": "code",
   "execution_count": 7,
   "metadata": {},
   "outputs": [
    {
     "data": {
      "text/html": [
       "<div>\n",
       "<style scoped>\n",
       "    .dataframe tbody tr th:only-of-type {\n",
       "        vertical-align: middle;\n",
       "    }\n",
       "\n",
       "    .dataframe tbody tr th {\n",
       "        vertical-align: top;\n",
       "    }\n",
       "\n",
       "    .dataframe thead th {\n",
       "        text-align: right;\n",
       "    }\n",
       "</style>\n",
       "<table border=\"1\" class=\"dataframe\">\n",
       "  <thead>\n",
       "    <tr style=\"text-align: right;\">\n",
       "      <th></th>\n",
       "      <th>hypothesis</th>\n",
       "      <th>reach</th>\n",
       "      <th>impact</th>\n",
       "      <th>confidence</th>\n",
       "      <th>efforts</th>\n",
       "      <th>ice</th>\n",
       "    </tr>\n",
       "  </thead>\n",
       "  <tbody>\n",
       "    <tr>\n",
       "      <th>8</th>\n",
       "      <td>Запустить акцию, дающую скидку на товар в день рождения</td>\n",
       "      <td>1</td>\n",
       "      <td>9</td>\n",
       "      <td>9</td>\n",
       "      <td>5</td>\n",
       "      <td>16.200000</td>\n",
       "    </tr>\n",
       "    <tr>\n",
       "      <th>0</th>\n",
       "      <td>Добавить два новых канала привлечения трафика, что позволит привлекать на 30% больше пользователей</td>\n",
       "      <td>3</td>\n",
       "      <td>10</td>\n",
       "      <td>8</td>\n",
       "      <td>6</td>\n",
       "      <td>13.333333</td>\n",
       "    </tr>\n",
       "    <tr>\n",
       "      <th>7</th>\n",
       "      <td>Добавить форму подписки на все основные страницы, чтобы собрать базу клиентов для email-рассылок</td>\n",
       "      <td>10</td>\n",
       "      <td>7</td>\n",
       "      <td>8</td>\n",
       "      <td>5</td>\n",
       "      <td>11.200000</td>\n",
       "    </tr>\n",
       "    <tr>\n",
       "      <th>6</th>\n",
       "      <td>Показать на главной странице баннеры с актуальными акциями и распродажами, чтобы увеличить конве...</td>\n",
       "      <td>5</td>\n",
       "      <td>3</td>\n",
       "      <td>8</td>\n",
       "      <td>3</td>\n",
       "      <td>8.000000</td>\n",
       "    </tr>\n",
       "    <tr>\n",
       "      <th>2</th>\n",
       "      <td>Добавить блоки рекомендаций товаров на сайт интернет магазина, чтобы повысить конверсию и средни...</td>\n",
       "      <td>8</td>\n",
       "      <td>3</td>\n",
       "      <td>7</td>\n",
       "      <td>3</td>\n",
       "      <td>7.000000</td>\n",
       "    </tr>\n",
       "    <tr>\n",
       "      <th>1</th>\n",
       "      <td>Запустить собственную службу доставки, что сократит срок доставки заказов</td>\n",
       "      <td>2</td>\n",
       "      <td>5</td>\n",
       "      <td>4</td>\n",
       "      <td>10</td>\n",
       "      <td>2.000000</td>\n",
       "    </tr>\n",
       "    <tr>\n",
       "      <th>5</th>\n",
       "      <td>Добавить страницу отзывов клиентов о магазине, что позволит увеличить количество заказов</td>\n",
       "      <td>3</td>\n",
       "      <td>2</td>\n",
       "      <td>2</td>\n",
       "      <td>3</td>\n",
       "      <td>1.333333</td>\n",
       "    </tr>\n",
       "    <tr>\n",
       "      <th>3</th>\n",
       "      <td>Изменить структура категорий, что увеличит конверсию, т.к. пользователи быстрее найдут нужный товар</td>\n",
       "      <td>8</td>\n",
       "      <td>3</td>\n",
       "      <td>3</td>\n",
       "      <td>8</td>\n",
       "      <td>1.125000</td>\n",
       "    </tr>\n",
       "    <tr>\n",
       "      <th>4</th>\n",
       "      <td>Изменить цвет фона главной страницы, чтобы увеличить вовлеченность пользователей</td>\n",
       "      <td>3</td>\n",
       "      <td>1</td>\n",
       "      <td>1</td>\n",
       "      <td>1</td>\n",
       "      <td>1.000000</td>\n",
       "    </tr>\n",
       "  </tbody>\n",
       "</table>\n",
       "</div>"
      ],
      "text/plain": [
       "                                                                                            hypothesis  \\\n",
       "8                                              Запустить акцию, дающую скидку на товар в день рождения   \n",
       "0   Добавить два новых канала привлечения трафика, что позволит привлекать на 30% больше пользователей   \n",
       "7     Добавить форму подписки на все основные страницы, чтобы собрать базу клиентов для email-рассылок   \n",
       "6  Показать на главной странице баннеры с актуальными акциями и распродажами, чтобы увеличить конве...   \n",
       "2  Добавить блоки рекомендаций товаров на сайт интернет магазина, чтобы повысить конверсию и средни...   \n",
       "1                            Запустить собственную службу доставки, что сократит срок доставки заказов   \n",
       "5             Добавить страницу отзывов клиентов о магазине, что позволит увеличить количество заказов   \n",
       "3  Изменить структура категорий, что увеличит конверсию, т.к. пользователи быстрее найдут нужный товар   \n",
       "4                     Изменить цвет фона главной страницы, чтобы увеличить вовлеченность пользователей   \n",
       "\n",
       "   reach  impact  confidence  efforts        ice  \n",
       "8      1       9           9        5  16.200000  \n",
       "0      3      10           8        6  13.333333  \n",
       "7     10       7           8        5  11.200000  \n",
       "6      5       3           8        3   8.000000  \n",
       "2      8       3           7        3   7.000000  \n",
       "1      2       5           4       10   2.000000  \n",
       "5      3       2           2        3   1.333333  \n",
       "3      8       3           3        8   1.125000  \n",
       "4      3       1           1        1   1.000000  "
      ]
     },
     "metadata": {},
     "output_type": "display_data"
    }
   ],
   "source": [
    "hyp['ice'] = hyp['impact'] * hyp['confidence'] / hyp['efforts'] \n",
    "display(hyp.sort_values(by='ice', ascending=False))"
   ]
  },
  {
   "cell_type": "code",
   "execution_count": 8,
   "metadata": {},
   "outputs": [
    {
     "data": {
      "image/png": "[encoded data removed]",
      "text/plain": [
       "<Figure size 1080x576 with 1 Axes>"
      ]
     },
     "metadata": {},
     "output_type": "display_data"
    }
   ],
   "source": [
    "sns.set_style(\"whitegrid\")\n",
    "\n",
    "hyp=hyp.sort_values(by='ice', ascending=False)\n",
    "\n",
    "plt.figure(figsize=(15, 8))\n",
    "plt.title('Приоритизация гипотез с помощью ICE', fontsize=25)\n",
    "sns.barplot(x='ice', y='hypothesis', data=hyp, palette=\"Spectral\")\n",
    "\n",
    "plt.ylabel('Гипотеза', fontsize=25)\n",
    "plt.xlabel('ICE', fontsize=25)\n",
    "plt.xticks(size=25)\n",
    "plt.yticks(size=18)\n",
    "plt.show()"
   ]
  },
  {
   "cell_type": "code",
   "execution_count": 9,
   "metadata": {},
   "outputs": [
    {
     "data": {
      "text/html": [
       "<div>\n",
       "<style scoped>\n",
       "    .dataframe tbody tr th:only-of-type {\n",
       "        vertical-align: middle;\n",
       "    }\n",
       "\n",
       "    .dataframe tbody tr th {\n",
       "        vertical-align: top;\n",
       "    }\n",
       "\n",
       "    .dataframe thead th {\n",
       "        text-align: right;\n",
       "    }\n",
       "</style>\n",
       "<table border=\"1\" class=\"dataframe\">\n",
       "  <thead>\n",
       "    <tr style=\"text-align: right;\">\n",
       "      <th></th>\n",
       "      <th>hypothesis</th>\n",
       "      <th>reach</th>\n",
       "      <th>impact</th>\n",
       "      <th>confidence</th>\n",
       "      <th>efforts</th>\n",
       "      <th>ice</th>\n",
       "      <th>rice</th>\n",
       "    </tr>\n",
       "  </thead>\n",
       "  <tbody>\n",
       "    <tr>\n",
       "      <th>7</th>\n",
       "      <td>Добавить форму подписки на все основные страницы, чтобы собрать базу клиентов для email-рассылок</td>\n",
       "      <td>10</td>\n",
       "      <td>7</td>\n",
       "      <td>8</td>\n",
       "      <td>5</td>\n",
       "      <td>11.200000</td>\n",
       "      <td>112.0</td>\n",
       "    </tr>\n",
       "    <tr>\n",
       "      <th>2</th>\n",
       "      <td>Добавить блоки рекомендаций товаров на сайт интернет магазина, чтобы повысить конверсию и средни...</td>\n",
       "      <td>8</td>\n",
       "      <td>3</td>\n",
       "      <td>7</td>\n",
       "      <td>3</td>\n",
       "      <td>7.000000</td>\n",
       "      <td>56.0</td>\n",
       "    </tr>\n",
       "    <tr>\n",
       "      <th>0</th>\n",
       "      <td>Добавить два новых канала привлечения трафика, что позволит привлекать на 30% больше пользователей</td>\n",
       "      <td>3</td>\n",
       "      <td>10</td>\n",
       "      <td>8</td>\n",
       "      <td>6</td>\n",
       "      <td>13.333333</td>\n",
       "      <td>40.0</td>\n",
       "    </tr>\n",
       "    <tr>\n",
       "      <th>6</th>\n",
       "      <td>Показать на главной странице баннеры с актуальными акциями и распродажами, чтобы увеличить конве...</td>\n",
       "      <td>5</td>\n",
       "      <td>3</td>\n",
       "      <td>8</td>\n",
       "      <td>3</td>\n",
       "      <td>8.000000</td>\n",
       "      <td>40.0</td>\n",
       "    </tr>\n",
       "    <tr>\n",
       "      <th>8</th>\n",
       "      <td>Запустить акцию, дающую скидку на товар в день рождения</td>\n",
       "      <td>1</td>\n",
       "      <td>9</td>\n",
       "      <td>9</td>\n",
       "      <td>5</td>\n",
       "      <td>16.200000</td>\n",
       "      <td>16.2</td>\n",
       "    </tr>\n",
       "    <tr>\n",
       "      <th>3</th>\n",
       "      <td>Изменить структура категорий, что увеличит конверсию, т.к. пользователи быстрее найдут нужный товар</td>\n",
       "      <td>8</td>\n",
       "      <td>3</td>\n",
       "      <td>3</td>\n",
       "      <td>8</td>\n",
       "      <td>1.125000</td>\n",
       "      <td>9.0</td>\n",
       "    </tr>\n",
       "    <tr>\n",
       "      <th>1</th>\n",
       "      <td>Запустить собственную службу доставки, что сократит срок доставки заказов</td>\n",
       "      <td>2</td>\n",
       "      <td>5</td>\n",
       "      <td>4</td>\n",
       "      <td>10</td>\n",
       "      <td>2.000000</td>\n",
       "      <td>4.0</td>\n",
       "    </tr>\n",
       "    <tr>\n",
       "      <th>5</th>\n",
       "      <td>Добавить страницу отзывов клиентов о магазине, что позволит увеличить количество заказов</td>\n",
       "      <td>3</td>\n",
       "      <td>2</td>\n",
       "      <td>2</td>\n",
       "      <td>3</td>\n",
       "      <td>1.333333</td>\n",
       "      <td>4.0</td>\n",
       "    </tr>\n",
       "    <tr>\n",
       "      <th>4</th>\n",
       "      <td>Изменить цвет фона главной страницы, чтобы увеличить вовлеченность пользователей</td>\n",
       "      <td>3</td>\n",
       "      <td>1</td>\n",
       "      <td>1</td>\n",
       "      <td>1</td>\n",
       "      <td>1.000000</td>\n",
       "      <td>3.0</td>\n",
       "    </tr>\n",
       "  </tbody>\n",
       "</table>\n",
       "</div>"
      ],
      "text/plain": [
       "                                                                                            hypothesis  \\\n",
       "7     Добавить форму подписки на все основные страницы, чтобы собрать базу клиентов для email-рассылок   \n",
       "2  Добавить блоки рекомендаций товаров на сайт интернет магазина, чтобы повысить конверсию и средни...   \n",
       "0   Добавить два новых канала привлечения трафика, что позволит привлекать на 30% больше пользователей   \n",
       "6  Показать на главной странице баннеры с актуальными акциями и распродажами, чтобы увеличить конве...   \n",
       "8                                              Запустить акцию, дающую скидку на товар в день рождения   \n",
       "3  Изменить структура категорий, что увеличит конверсию, т.к. пользователи быстрее найдут нужный товар   \n",
       "1                            Запустить собственную службу доставки, что сократит срок доставки заказов   \n",
       "5             Добавить страницу отзывов клиентов о магазине, что позволит увеличить количество заказов   \n",
       "4                     Изменить цвет фона главной страницы, чтобы увеличить вовлеченность пользователей   \n",
       "\n",
       "   reach  impact  confidence  efforts        ice   rice  \n",
       "7     10       7           8        5  11.200000  112.0  \n",
       "2      8       3           7        3   7.000000   56.0  \n",
       "0      3      10           8        6  13.333333   40.0  \n",
       "6      5       3           8        3   8.000000   40.0  \n",
       "8      1       9           9        5  16.200000   16.2  \n",
       "3      8       3           3        8   1.125000    9.0  \n",
       "1      2       5           4       10   2.000000    4.0  \n",
       "5      3       2           2        3   1.333333    4.0  \n",
       "4      3       1           1        1   1.000000    3.0  "
      ]
     },
     "metadata": {},
     "output_type": "display_data"
    }
   ],
   "source": [
    "hyp['rice'] = hyp['reach'] * hyp['impact'] * hyp['confidence'] / hyp['efforts']\n",
    "display(hyp.sort_values(by='rice', ascending=False))"
   ]
  },
  {
   "cell_type": "code",
   "execution_count": 10,
   "metadata": {},
   "outputs": [
    {
     "data": {
      "image/png": "[encoded data removed]",
      "text/plain": [
       "<Figure size 1080x576 with 1 Axes>"
      ]
     },
     "metadata": {},
     "output_type": "display_data"
    }
   ],
   "source": [
    "sns.set_style(\"whitegrid\")\n",
    "\n",
    "hyp=hyp.sort_values(by='rice', ascending=False)\n",
    "\n",
    "plt.figure(figsize=(15, 8))\n",
    "plt.title('Приоритизация гипотез с помощью RICE', fontsize=25)\n",
    "sns.barplot(x='rice', y='hypothesis', data=hyp, palette=\"Spectral\")\n",
    "\n",
    "plt.ylabel('Гипотеза', fontsize=25)\n",
    "plt.xlabel('RICE', fontsize=25)\n",
    "plt.xticks(size=25)\n",
    "plt.yticks(size=15)\n",
    "plt.show()"
   ]
  },
  {
   "cell_type": "markdown",
   "metadata": {},
   "source": [
    "Для начала рассмотрим блок с ICE, четыре гипотезы явно отстают от других (они же будут отставать и в случае RICE), наибольший коэффициент у гипотез:\n",
    "- акция в день рождения\n",
    "- добавление двух новых каналов привлечения трафика для привлечения большего количества пользователей\n",
    "- добавление формы подписки на все остальные страницы для сбора бд для e-mail рассылок\n",
    "\n",
    "В случае с RICE акция в день рождения резка теряет свою значимость из-за малого охвата ползователей. Остальные две гипотезы охватывают большое количество пользователей, соответсвенно и коэффициент RICE у них достаточно большой."
   ]
  },
  {
   "cell_type": "markdown",
   "metadata": {},
   "source": [
    "Теперь надо обработать данные"
   ]
  },
  {
   "cell_type": "code",
   "execution_count": 11,
   "metadata": {},
   "outputs": [
    {
     "data": {
      "text/plain": [
       "0"
      ]
     },
     "execution_count": 11,
     "metadata": {},
     "output_type": "execute_result"
    }
   ],
   "source": [
    "visitors.duplicated().sum()"
   ]
  },
  {
   "cell_type": "code",
   "execution_count": 12,
   "metadata": {},
   "outputs": [
    {
     "data": {
      "text/plain": [
       "0"
      ]
     },
     "execution_count": 12,
     "metadata": {},
     "output_type": "execute_result"
    }
   ],
   "source": [
    "orders.duplicated().sum()"
   ]
  },
  {
   "cell_type": "markdown",
   "metadata": {},
   "source": [
    "Явных дубликатов нет"
   ]
  },
  {
   "cell_type": "code",
   "execution_count": 13,
   "metadata": {},
   "outputs": [
    {
     "name": "stdout",
     "output_type": "stream",
     "text": [
      "<class 'pandas.core.frame.DataFrame'>\n",
      "RangeIndex: 1197 entries, 0 to 1196\n",
      "Data columns (total 5 columns):\n",
      " #   Column         Non-Null Count  Dtype \n",
      "---  ------         --------------  ----- \n",
      " 0   transactionId  1197 non-null   int64 \n",
      " 1   visitorId      1197 non-null   int64 \n",
      " 2   date           1197 non-null   object\n",
      " 3   revenue        1197 non-null   int64 \n",
      " 4   group          1197 non-null   object\n",
      "dtypes: int64(3), object(2)\n",
      "memory usage: 46.9+ KB\n"
     ]
    }
   ],
   "source": [
    "orders.info()"
   ]
  },
  {
   "cell_type": "code",
   "execution_count": 14,
   "metadata": {},
   "outputs": [],
   "source": [
    "orders['date'] = orders['date'].map(\n",
    "    lambda x: dt.datetime.strptime(x, '%Y-%m-%d'))"
   ]
  },
  {
   "cell_type": "code",
   "execution_count": 15,
   "metadata": {},
   "outputs": [],
   "source": [
    "orders.columns=['order_Id', 'user_Id', 'date', 'revenue', 'group']"
   ]
  },
  {
   "cell_type": "code",
   "execution_count": 16,
   "metadata": {},
   "outputs": [
    {
     "data": {
      "text/html": [
       "<div>\n",
       "<style scoped>\n",
       "    .dataframe tbody tr th:only-of-type {\n",
       "        vertical-align: middle;\n",
       "    }\n",
       "\n",
       "    .dataframe tbody tr th {\n",
       "        vertical-align: top;\n",
       "    }\n",
       "\n",
       "    .dataframe thead th {\n",
       "        text-align: right;\n",
       "    }\n",
       "</style>\n",
       "<table border=\"1\" class=\"dataframe\">\n",
       "  <thead>\n",
       "    <tr style=\"text-align: right;\">\n",
       "      <th></th>\n",
       "      <th>order_Id</th>\n",
       "      <th>user_Id</th>\n",
       "      <th>date</th>\n",
       "      <th>revenue</th>\n",
       "      <th>group</th>\n",
       "    </tr>\n",
       "  </thead>\n",
       "  <tbody>\n",
       "    <tr>\n",
       "      <th>0</th>\n",
       "      <td>3667963787</td>\n",
       "      <td>3312258926</td>\n",
       "      <td>2019-08-15</td>\n",
       "      <td>1650</td>\n",
       "      <td>B</td>\n",
       "    </tr>\n",
       "    <tr>\n",
       "      <th>1</th>\n",
       "      <td>2804400009</td>\n",
       "      <td>3642806036</td>\n",
       "      <td>2019-08-15</td>\n",
       "      <td>730</td>\n",
       "      <td>B</td>\n",
       "    </tr>\n",
       "    <tr>\n",
       "      <th>2</th>\n",
       "      <td>2961555356</td>\n",
       "      <td>4069496402</td>\n",
       "      <td>2019-08-15</td>\n",
       "      <td>400</td>\n",
       "      <td>A</td>\n",
       "    </tr>\n",
       "    <tr>\n",
       "      <th>3</th>\n",
       "      <td>3797467345</td>\n",
       "      <td>1196621759</td>\n",
       "      <td>2019-08-15</td>\n",
       "      <td>9759</td>\n",
       "      <td>B</td>\n",
       "    </tr>\n",
       "    <tr>\n",
       "      <th>4</th>\n",
       "      <td>2282983706</td>\n",
       "      <td>2322279887</td>\n",
       "      <td>2019-08-15</td>\n",
       "      <td>2308</td>\n",
       "      <td>B</td>\n",
       "    </tr>\n",
       "  </tbody>\n",
       "</table>\n",
       "</div>"
      ],
      "text/plain": [
       "     order_Id     user_Id       date  revenue group\n",
       "0  3667963787  3312258926 2019-08-15     1650     B\n",
       "1  2804400009  3642806036 2019-08-15      730     B\n",
       "2  2961555356  4069496402 2019-08-15      400     A\n",
       "3  3797467345  1196621759 2019-08-15     9759     B\n",
       "4  2282983706  2322279887 2019-08-15     2308     B"
      ]
     },
     "execution_count": 16,
     "metadata": {},
     "output_type": "execute_result"
    }
   ],
   "source": [
    "orders.head()"
   ]
  },
  {
   "cell_type": "code",
   "execution_count": 17,
   "metadata": {},
   "outputs": [
    {
     "name": "stdout",
     "output_type": "stream",
     "text": [
      "<class 'pandas.core.frame.DataFrame'>\n",
      "RangeIndex: 62 entries, 0 to 61\n",
      "Data columns (total 3 columns):\n",
      " #   Column    Non-Null Count  Dtype \n",
      "---  ------    --------------  ----- \n",
      " 0   date      62 non-null     object\n",
      " 1   group     62 non-null     object\n",
      " 2   visitors  62 non-null     int64 \n",
      "dtypes: int64(1), object(2)\n",
      "memory usage: 1.6+ KB\n"
     ]
    }
   ],
   "source": [
    "visitors.info()"
   ]
  },
  {
   "cell_type": "code",
   "execution_count": 18,
   "metadata": {},
   "outputs": [],
   "source": [
    "visitors['date']=visitors['date'].map(\n",
    "    lambda x:dt.datetime.strptime(x, '%Y-%m-%d'))"
   ]
  },
  {
   "cell_type": "code",
   "execution_count": 19,
   "metadata": {},
   "outputs": [
    {
     "name": "stdout",
     "output_type": "stream",
     "text": [
      "<class 'pandas.core.frame.DataFrame'>\n",
      "RangeIndex: 62 entries, 0 to 61\n",
      "Data columns (total 3 columns):\n",
      " #   Column    Non-Null Count  Dtype         \n",
      "---  ------    --------------  -----         \n",
      " 0   date      62 non-null     datetime64[ns]\n",
      " 1   group     62 non-null     object        \n",
      " 2   visitors  62 non-null     int64         \n",
      "dtypes: datetime64[ns](1), int64(1), object(1)\n",
      "memory usage: 1.6+ KB\n"
     ]
    }
   ],
   "source": [
    "visitors.info()"
   ]
  },
  {
   "cell_type": "markdown",
   "metadata": {},
   "source": [
    "Итого были посчитаны коэффеициенты ICE и RICE\n",
    "\n",
    "Также были обработаны данные на дубликаты и названия столбцов приведены к нормальному виду"
   ]
  },
  {
   "cell_type": "markdown",
   "metadata": {},
   "source": [
    "### Постройте график кумулятивной выручки по группам. Сделайте выводы и предположения."
   ]
  },
  {
   "cell_type": "code",
   "execution_count": 20,
   "metadata": {},
   "outputs": [
    {
     "data": {
      "text/html": [
       "<div>\n",
       "<style scoped>\n",
       "    .dataframe tbody tr th:only-of-type {\n",
       "        vertical-align: middle;\n",
       "    }\n",
       "\n",
       "    .dataframe tbody tr th {\n",
       "        vertical-align: top;\n",
       "    }\n",
       "\n",
       "    .dataframe thead th {\n",
       "        text-align: right;\n",
       "    }\n",
       "</style>\n",
       "<table border=\"1\" class=\"dataframe\">\n",
       "  <thead>\n",
       "    <tr style=\"text-align: right;\">\n",
       "      <th></th>\n",
       "      <th>date</th>\n",
       "      <th>group</th>\n",
       "    </tr>\n",
       "  </thead>\n",
       "  <tbody>\n",
       "    <tr>\n",
       "      <th>0</th>\n",
       "      <td>2019-08-15</td>\n",
       "      <td>B</td>\n",
       "    </tr>\n",
       "    <tr>\n",
       "      <th>2</th>\n",
       "      <td>2019-08-15</td>\n",
       "      <td>A</td>\n",
       "    </tr>\n",
       "    <tr>\n",
       "      <th>45</th>\n",
       "      <td>2019-08-16</td>\n",
       "      <td>A</td>\n",
       "    </tr>\n",
       "    <tr>\n",
       "      <th>47</th>\n",
       "      <td>2019-08-16</td>\n",
       "      <td>B</td>\n",
       "    </tr>\n",
       "    <tr>\n",
       "      <th>55</th>\n",
       "      <td>2019-08-01</td>\n",
       "      <td>A</td>\n",
       "    </tr>\n",
       "    <tr>\n",
       "      <th>...</th>\n",
       "      <td>...</td>\n",
       "      <td>...</td>\n",
       "    </tr>\n",
       "    <tr>\n",
       "      <th>1068</th>\n",
       "      <td>2019-08-12</td>\n",
       "      <td>A</td>\n",
       "    </tr>\n",
       "    <tr>\n",
       "      <th>1114</th>\n",
       "      <td>2019-08-13</td>\n",
       "      <td>B</td>\n",
       "    </tr>\n",
       "    <tr>\n",
       "      <th>1116</th>\n",
       "      <td>2019-08-13</td>\n",
       "      <td>A</td>\n",
       "    </tr>\n",
       "    <tr>\n",
       "      <th>1149</th>\n",
       "      <td>2019-08-14</td>\n",
       "      <td>B</td>\n",
       "    </tr>\n",
       "    <tr>\n",
       "      <th>1150</th>\n",
       "      <td>2019-08-14</td>\n",
       "      <td>A</td>\n",
       "    </tr>\n",
       "  </tbody>\n",
       "</table>\n",
       "<p>62 rows × 2 columns</p>\n",
       "</div>"
      ],
      "text/plain": [
       "           date group\n",
       "0    2019-08-15     B\n",
       "2    2019-08-15     A\n",
       "45   2019-08-16     A\n",
       "47   2019-08-16     B\n",
       "55   2019-08-01     A\n",
       "...         ...   ...\n",
       "1068 2019-08-12     A\n",
       "1114 2019-08-13     B\n",
       "1116 2019-08-13     A\n",
       "1149 2019-08-14     B\n",
       "1150 2019-08-14     A\n",
       "\n",
       "[62 rows x 2 columns]"
      ]
     },
     "execution_count": 20,
     "metadata": {},
     "output_type": "execute_result"
    }
   ],
   "source": [
    "# создаем массив уникальных пар значений дата-группа\n",
    "datesGroups = orders[['date', 'group']].drop_duplicates()\n",
    "datesGroups"
   ]
  },
  {
   "cell_type": "code",
   "execution_count": 21,
   "metadata": {},
   "outputs": [],
   "source": [
    "# агрегированные данные по количеству заказов по дням\n",
    "ordersAggregated = datesGroups.apply(\n",
    "    lambda x: orders[\n",
    "       np.logical_and(\n",
    "            orders['date'] <= x['date'], orders['group'] == x['group']\n",
    "        )\n",
    "    ].agg(\n",
    "        {\n",
    "            'date': 'max',\n",
    "            'group': 'max',\n",
    "            'order_Id': 'nunique',\n",
    "            'user_Id': 'nunique',\n",
    "            'revenue': 'sum',\n",
    "        }\n",
    "    ),\n",
    "    axis=1,\n",
    ").sort_values(by=['date', 'group'])"
   ]
  },
  {
   "cell_type": "code",
   "execution_count": 22,
   "metadata": {},
   "outputs": [],
   "source": [
    "# агрегированные данные по количеству посетителей по дням\n",
    "visitorsAggregated = datesGroups.apply(\n",
    "    lambda x: visitors[\n",
    "        np.logical_and(\n",
    "            visitors['date'] <= x['date'], visitors['group'] == x['group']\n",
    "        )\n",
    "    ].agg({'date': 'max', 'group': 'max', 'visitors': 'sum'}),\n",
    "    axis=1,\n",
    ").sort_values(by=['date', 'group'])\n",
    "\n"
   ]
  },
  {
   "cell_type": "code",
   "execution_count": 23,
   "metadata": {},
   "outputs": [
    {
     "data": {
      "text/html": [
       "<div>\n",
       "<style scoped>\n",
       "    .dataframe tbody tr th:only-of-type {\n",
       "        vertical-align: middle;\n",
       "    }\n",
       "\n",
       "    .dataframe tbody tr th {\n",
       "        vertical-align: top;\n",
       "    }\n",
       "\n",
       "    .dataframe thead th {\n",
       "        text-align: right;\n",
       "    }\n",
       "</style>\n",
       "<table border=\"1\" class=\"dataframe\">\n",
       "  <thead>\n",
       "    <tr style=\"text-align: right;\">\n",
       "      <th></th>\n",
       "      <th>date</th>\n",
       "      <th>group</th>\n",
       "      <th>order_Id</th>\n",
       "      <th>user_Id</th>\n",
       "      <th>revenue</th>\n",
       "    </tr>\n",
       "  </thead>\n",
       "  <tbody>\n",
       "    <tr>\n",
       "      <th>55</th>\n",
       "      <td>2019-08-01</td>\n",
       "      <td>A</td>\n",
       "      <td>24</td>\n",
       "      <td>20</td>\n",
       "      <td>148579</td>\n",
       "    </tr>\n",
       "    <tr>\n",
       "      <th>66</th>\n",
       "      <td>2019-08-01</td>\n",
       "      <td>B</td>\n",
       "      <td>21</td>\n",
       "      <td>20</td>\n",
       "      <td>101217</td>\n",
       "    </tr>\n",
       "    <tr>\n",
       "      <th>175</th>\n",
       "      <td>2019-08-02</td>\n",
       "      <td>A</td>\n",
       "      <td>44</td>\n",
       "      <td>38</td>\n",
       "      <td>242401</td>\n",
       "    </tr>\n",
       "    <tr>\n",
       "      <th>173</th>\n",
       "      <td>2019-08-02</td>\n",
       "      <td>B</td>\n",
       "      <td>45</td>\n",
       "      <td>43</td>\n",
       "      <td>266748</td>\n",
       "    </tr>\n",
       "    <tr>\n",
       "      <th>291</th>\n",
       "      <td>2019-08-03</td>\n",
       "      <td>A</td>\n",
       "      <td>68</td>\n",
       "      <td>62</td>\n",
       "      <td>354874</td>\n",
       "    </tr>\n",
       "    <tr>\n",
       "      <th>...</th>\n",
       "      <td>...</td>\n",
       "      <td>...</td>\n",
       "      <td>...</td>\n",
       "      <td>...</td>\n",
       "      <td>...</td>\n",
       "    </tr>\n",
       "    <tr>\n",
       "      <th>496</th>\n",
       "      <td>2019-08-29</td>\n",
       "      <td>B</td>\n",
       "      <td>596</td>\n",
       "      <td>544</td>\n",
       "      <td>5559398</td>\n",
       "    </tr>\n",
       "    <tr>\n",
       "      <th>730</th>\n",
       "      <td>2019-08-30</td>\n",
       "      <td>A</td>\n",
       "      <td>545</td>\n",
       "      <td>493</td>\n",
       "      <td>4022970</td>\n",
       "    </tr>\n",
       "    <tr>\n",
       "      <th>690</th>\n",
       "      <td>2019-08-30</td>\n",
       "      <td>B</td>\n",
       "      <td>620</td>\n",
       "      <td>567</td>\n",
       "      <td>5774631</td>\n",
       "    </tr>\n",
       "    <tr>\n",
       "      <th>958</th>\n",
       "      <td>2019-08-31</td>\n",
       "      <td>A</td>\n",
       "      <td>557</td>\n",
       "      <td>503</td>\n",
       "      <td>4084803</td>\n",
       "    </tr>\n",
       "    <tr>\n",
       "      <th>930</th>\n",
       "      <td>2019-08-31</td>\n",
       "      <td>B</td>\n",
       "      <td>640</td>\n",
       "      <td>586</td>\n",
       "      <td>5907760</td>\n",
       "    </tr>\n",
       "  </tbody>\n",
       "</table>\n",
       "<p>62 rows × 5 columns</p>\n",
       "</div>"
      ],
      "text/plain": [
       "          date group  order_Id  user_Id  revenue\n",
       "55  2019-08-01     A        24       20   148579\n",
       "66  2019-08-01     B        21       20   101217\n",
       "175 2019-08-02     A        44       38   242401\n",
       "173 2019-08-02     B        45       43   266748\n",
       "291 2019-08-03     A        68       62   354874\n",
       "..         ...   ...       ...      ...      ...\n",
       "496 2019-08-29     B       596      544  5559398\n",
       "730 2019-08-30     A       545      493  4022970\n",
       "690 2019-08-30     B       620      567  5774631\n",
       "958 2019-08-31     A       557      503  4084803\n",
       "930 2019-08-31     B       640      586  5907760\n",
       "\n",
       "[62 rows x 5 columns]"
      ]
     },
     "execution_count": 23,
     "metadata": {},
     "output_type": "execute_result"
    }
   ],
   "source": [
    "ordersAggregated"
   ]
  },
  {
   "cell_type": "code",
   "execution_count": 24,
   "metadata": {},
   "outputs": [
    {
     "data": {
      "text/html": [
       "<div>\n",
       "<style scoped>\n",
       "    .dataframe tbody tr th:only-of-type {\n",
       "        vertical-align: middle;\n",
       "    }\n",
       "\n",
       "    .dataframe tbody tr th {\n",
       "        vertical-align: top;\n",
       "    }\n",
       "\n",
       "    .dataframe thead th {\n",
       "        text-align: right;\n",
       "    }\n",
       "</style>\n",
       "<table border=\"1\" class=\"dataframe\">\n",
       "  <thead>\n",
       "    <tr style=\"text-align: right;\">\n",
       "      <th></th>\n",
       "      <th>date</th>\n",
       "      <th>group</th>\n",
       "      <th>visitors</th>\n",
       "    </tr>\n",
       "  </thead>\n",
       "  <tbody>\n",
       "    <tr>\n",
       "      <th>55</th>\n",
       "      <td>2019-08-01</td>\n",
       "      <td>A</td>\n",
       "      <td>719</td>\n",
       "    </tr>\n",
       "    <tr>\n",
       "      <th>66</th>\n",
       "      <td>2019-08-01</td>\n",
       "      <td>B</td>\n",
       "      <td>713</td>\n",
       "    </tr>\n",
       "    <tr>\n",
       "      <th>175</th>\n",
       "      <td>2019-08-02</td>\n",
       "      <td>A</td>\n",
       "      <td>1338</td>\n",
       "    </tr>\n",
       "    <tr>\n",
       "      <th>173</th>\n",
       "      <td>2019-08-02</td>\n",
       "      <td>B</td>\n",
       "      <td>1294</td>\n",
       "    </tr>\n",
       "    <tr>\n",
       "      <th>291</th>\n",
       "      <td>2019-08-03</td>\n",
       "      <td>A</td>\n",
       "      <td>1845</td>\n",
       "    </tr>\n",
       "    <tr>\n",
       "      <th>...</th>\n",
       "      <td>...</td>\n",
       "      <td>...</td>\n",
       "      <td>...</td>\n",
       "    </tr>\n",
       "    <tr>\n",
       "      <th>496</th>\n",
       "      <td>2019-08-29</td>\n",
       "      <td>B</td>\n",
       "      <td>17708</td>\n",
       "    </tr>\n",
       "    <tr>\n",
       "      <th>730</th>\n",
       "      <td>2019-08-30</td>\n",
       "      <td>A</td>\n",
       "      <td>18037</td>\n",
       "    </tr>\n",
       "    <tr>\n",
       "      <th>690</th>\n",
       "      <td>2019-08-30</td>\n",
       "      <td>B</td>\n",
       "      <td>18198</td>\n",
       "    </tr>\n",
       "    <tr>\n",
       "      <th>958</th>\n",
       "      <td>2019-08-31</td>\n",
       "      <td>A</td>\n",
       "      <td>18736</td>\n",
       "    </tr>\n",
       "    <tr>\n",
       "      <th>930</th>\n",
       "      <td>2019-08-31</td>\n",
       "      <td>B</td>\n",
       "      <td>18916</td>\n",
       "    </tr>\n",
       "  </tbody>\n",
       "</table>\n",
       "<p>62 rows × 3 columns</p>\n",
       "</div>"
      ],
      "text/plain": [
       "          date group  visitors\n",
       "55  2019-08-01     A       719\n",
       "66  2019-08-01     B       713\n",
       "175 2019-08-02     A      1338\n",
       "173 2019-08-02     B      1294\n",
       "291 2019-08-03     A      1845\n",
       "..         ...   ...       ...\n",
       "496 2019-08-29     B     17708\n",
       "730 2019-08-30     A     18037\n",
       "690 2019-08-30     B     18198\n",
       "958 2019-08-31     A     18736\n",
       "930 2019-08-31     B     18916\n",
       "\n",
       "[62 rows x 3 columns]"
      ]
     },
     "execution_count": 24,
     "metadata": {},
     "output_type": "execute_result"
    }
   ],
   "source": [
    "visitorsAggregated"
   ]
  },
  {
   "cell_type": "code",
   "execution_count": 25,
   "metadata": {},
   "outputs": [],
   "source": [
    "# объеденим таблицы\n",
    "cumulativeData = ordersAggregated.merge(\n",
    "    visitorsAggregated, left_on=['date', 'group'], right_on=['date', 'group']\n",
    ")\n",
    "cumulativeData.columns = [\n",
    "    'date',\n",
    "    'group',\n",
    "    'orders',\n",
    "    'buyers',\n",
    "    'revenue',\n",
    "    'visitors',\n",
    "]\n"
   ]
  },
  {
   "cell_type": "code",
   "execution_count": 26,
   "metadata": {},
   "outputs": [],
   "source": [
    "# найдем кумулятивную выручку для каждой группы по дням\n",
    "cumulativeRevenueA = cumulativeData[cumulativeData['group'] == 'A'][['date', 'revenue', 'orders']]\n",
    "\n",
    "cumulativeRevenueB = cumulativeData[cumulativeData['group'] == 'B'][['date', 'revenue', 'orders']]"
   ]
  },
  {
   "cell_type": "code",
   "execution_count": 27,
   "metadata": {},
   "outputs": [
    {
     "data": {
      "text/plain": [
       "<matplotlib.legend.Legend at 0x7f1fd5399580>"
      ]
     },
     "execution_count": 27,
     "metadata": {},
     "output_type": "execute_result"
    },
    {
     "data": {
      "image/png": "[encoded data removed]",
      "text/plain": [
       "<Figure size 432x288 with 1 Axes>"
      ]
     },
     "metadata": {},
     "output_type": "display_data"
    }
   ],
   "source": [
    "plt.plot(cumulativeRevenueA['date'], cumulativeRevenueA['revenue'], label='A')\n",
    "\n",
    "plt.plot(cumulativeRevenueB['date'], cumulativeRevenueB['revenue'], label='B')\n",
    "plt.title('График кумулятивной выручки по группам в зависимости от дня')\n",
    "plt.xticks(rotation=45)\n",
    "plt.xlabel('Дата')\n",
    "plt.ylabel('Выручка')\n",
    "plt.legend()"
   ]
  },
  {
   "cell_type": "markdown",
   "metadata": {},
   "source": [
    "Если не считать одного дня, когда в группе В резко выросла выручка, то в остальные дни рост выручки был равномерен, в один день был аномально большой заказ"
   ]
  },
  {
   "cell_type": "markdown",
   "metadata": {},
   "source": [
    "### Постройте график кумулятивного среднего чека по группам. Сделайте выводы и предположения."
   ]
  },
  {
   "cell_type": "code",
   "execution_count": 28,
   "metadata": {},
   "outputs": [
    {
     "data": {
      "text/plain": [
       "<matplotlib.legend.Legend at 0x7f1fd540d310>"
      ]
     },
     "execution_count": 28,
     "metadata": {},
     "output_type": "execute_result"
    },
    {
     "data": {
      "image/png": "[encoded data removed]",
      "text/plain": [
       "<Figure size 432x288 with 1 Axes>"
      ]
     },
     "metadata": {},
     "output_type": "display_data"
    }
   ],
   "source": [
    "# сразу строим график кумулятивного среднего чека по группам\n",
    "plt.plot(cumulativeRevenueA['date'], cumulativeRevenueA['revenue']/cumulativeRevenueA['orders'], label='A')\n",
    "plt.plot(cumulativeRevenueB['date'], cumulativeRevenueB['revenue']/cumulativeRevenueB['orders'], label='B')\n",
    "plt.title('График кумулятивного среднего чека по группам в зависимости от дня')\n",
    "plt.xticks(rotation=45)\n",
    "plt.xlabel('Дата')\n",
    "plt.ylabel('Средний чек')\n",
    "plt.legend()"
   ]
  },
  {
   "cell_type": "markdown",
   "metadata": {},
   "source": [
    "Значение кумулятивное среднего чека не пришло к равновесию, выброс в группе В очень сильно повлиял на средний чек и еще очень долгое время не удастся получить выход на какое-то примерное значение по этой группе. В группе А все еще происходят колебания среднего чека"
   ]
  },
  {
   "cell_type": "markdown",
   "metadata": {},
   "source": [
    "### Постройте график относительного изменения кумулятивного среднего чека группы B к группе A. Сделайте выводы и предположения."
   ]
  },
  {
   "cell_type": "code",
   "execution_count": 29,
   "metadata": {},
   "outputs": [],
   "source": [
    "# объеденим данные по кумулятивной выручке\n",
    "mergedCumulativeRevenue = cumulativeRevenueA.merge(cumulativeRevenueB, left_on='date', right_on='date', how='left', suffixes=['A', 'B'])\n"
   ]
  },
  {
   "cell_type": "code",
   "execution_count": 30,
   "metadata": {},
   "outputs": [
    {
     "data": {
      "text/plain": [
       "<matplotlib.lines.Line2D at 0x7f1fd52c88e0>"
      ]
     },
     "execution_count": 30,
     "metadata": {},
     "output_type": "execute_result"
    },
    {
     "data": {
      "image/png": "[encoded data removed]",
      "text/plain": [
       "<Figure size 432x288 with 1 Axes>"
      ]
     },
     "metadata": {},
     "output_type": "display_data"
    }
   ],
   "source": [
    "plt.plot(mergedCumulativeRevenue['date'], (mergedCumulativeRevenue['revenueB']/mergedCumulativeRevenue['ordersB'])/(mergedCumulativeRevenue['revenueA']/mergedCumulativeRevenue['ordersA'])-1)\n",
    "plt.title('График относительного изменения кумулятивного среднего чека по группам в зависимости от дня')\n",
    "plt.xticks(rotation=45)\n",
    "plt.xlabel('Дата')\n",
    "plt.ylabel('Относительное изменение кумулятивного среднего чека')\n",
    "\n",
    "plt.axhline(y=0, linestyle='--')"
   ]
  },
  {
   "cell_type": "markdown",
   "metadata": {},
   "source": [
    "В данном графике мы видим, что было несколько аномальных дней, когда происходил резкий скачок в относительном изменении кумулятивного среднего чека, в среднем в группе В средний чек больше, но что-то более конкретное затруднительно сказать"
   ]
  },
  {
   "cell_type": "markdown",
   "metadata": {},
   "source": [
    "### Постройте график кумулятивного среднего количества заказов на посетителя по группам. Сделайте выводы и предположения."
   ]
  },
  {
   "cell_type": "code",
   "execution_count": 31,
   "metadata": {},
   "outputs": [
    {
     "data": {
      "text/html": [
       "<div>\n",
       "<style scoped>\n",
       "    .dataframe tbody tr th:only-of-type {\n",
       "        vertical-align: middle;\n",
       "    }\n",
       "\n",
       "    .dataframe tbody tr th {\n",
       "        vertical-align: top;\n",
       "    }\n",
       "\n",
       "    .dataframe thead th {\n",
       "        text-align: right;\n",
       "    }\n",
       "</style>\n",
       "<table border=\"1\" class=\"dataframe\">\n",
       "  <thead>\n",
       "    <tr style=\"text-align: right;\">\n",
       "      <th></th>\n",
       "      <th>date</th>\n",
       "      <th>group</th>\n",
       "      <th>orders</th>\n",
       "      <th>buyers</th>\n",
       "      <th>revenue</th>\n",
       "      <th>visitors</th>\n",
       "    </tr>\n",
       "  </thead>\n",
       "  <tbody>\n",
       "    <tr>\n",
       "      <th>0</th>\n",
       "      <td>2019-08-01</td>\n",
       "      <td>A</td>\n",
       "      <td>24</td>\n",
       "      <td>20</td>\n",
       "      <td>148579</td>\n",
       "      <td>719</td>\n",
       "    </tr>\n",
       "    <tr>\n",
       "      <th>1</th>\n",
       "      <td>2019-08-01</td>\n",
       "      <td>B</td>\n",
       "      <td>21</td>\n",
       "      <td>20</td>\n",
       "      <td>101217</td>\n",
       "      <td>713</td>\n",
       "    </tr>\n",
       "    <tr>\n",
       "      <th>2</th>\n",
       "      <td>2019-08-02</td>\n",
       "      <td>A</td>\n",
       "      <td>44</td>\n",
       "      <td>38</td>\n",
       "      <td>242401</td>\n",
       "      <td>1338</td>\n",
       "    </tr>\n",
       "    <tr>\n",
       "      <th>3</th>\n",
       "      <td>2019-08-02</td>\n",
       "      <td>B</td>\n",
       "      <td>45</td>\n",
       "      <td>43</td>\n",
       "      <td>266748</td>\n",
       "      <td>1294</td>\n",
       "    </tr>\n",
       "    <tr>\n",
       "      <th>4</th>\n",
       "      <td>2019-08-03</td>\n",
       "      <td>A</td>\n",
       "      <td>68</td>\n",
       "      <td>62</td>\n",
       "      <td>354874</td>\n",
       "      <td>1845</td>\n",
       "    </tr>\n",
       "    <tr>\n",
       "      <th>...</th>\n",
       "      <td>...</td>\n",
       "      <td>...</td>\n",
       "      <td>...</td>\n",
       "      <td>...</td>\n",
       "      <td>...</td>\n",
       "      <td>...</td>\n",
       "    </tr>\n",
       "    <tr>\n",
       "      <th>57</th>\n",
       "      <td>2019-08-29</td>\n",
       "      <td>B</td>\n",
       "      <td>596</td>\n",
       "      <td>544</td>\n",
       "      <td>5559398</td>\n",
       "      <td>17708</td>\n",
       "    </tr>\n",
       "    <tr>\n",
       "      <th>58</th>\n",
       "      <td>2019-08-30</td>\n",
       "      <td>A</td>\n",
       "      <td>545</td>\n",
       "      <td>493</td>\n",
       "      <td>4022970</td>\n",
       "      <td>18037</td>\n",
       "    </tr>\n",
       "    <tr>\n",
       "      <th>59</th>\n",
       "      <td>2019-08-30</td>\n",
       "      <td>B</td>\n",
       "      <td>620</td>\n",
       "      <td>567</td>\n",
       "      <td>5774631</td>\n",
       "      <td>18198</td>\n",
       "    </tr>\n",
       "    <tr>\n",
       "      <th>60</th>\n",
       "      <td>2019-08-31</td>\n",
       "      <td>A</td>\n",
       "      <td>557</td>\n",
       "      <td>503</td>\n",
       "      <td>4084803</td>\n",
       "      <td>18736</td>\n",
       "    </tr>\n",
       "    <tr>\n",
       "      <th>61</th>\n",
       "      <td>2019-08-31</td>\n",
       "      <td>B</td>\n",
       "      <td>640</td>\n",
       "      <td>586</td>\n",
       "      <td>5907760</td>\n",
       "      <td>18916</td>\n",
       "    </tr>\n",
       "  </tbody>\n",
       "</table>\n",
       "<p>62 rows × 6 columns</p>\n",
       "</div>"
      ],
      "text/plain": [
       "         date group  orders  buyers  revenue  visitors\n",
       "0  2019-08-01     A      24      20   148579       719\n",
       "1  2019-08-01     B      21      20   101217       713\n",
       "2  2019-08-02     A      44      38   242401      1338\n",
       "3  2019-08-02     B      45      43   266748      1294\n",
       "4  2019-08-03     A      68      62   354874      1845\n",
       "..        ...   ...     ...     ...      ...       ...\n",
       "57 2019-08-29     B     596     544  5559398     17708\n",
       "58 2019-08-30     A     545     493  4022970     18037\n",
       "59 2019-08-30     B     620     567  5774631     18198\n",
       "60 2019-08-31     A     557     503  4084803     18736\n",
       "61 2019-08-31     B     640     586  5907760     18916\n",
       "\n",
       "[62 rows x 6 columns]"
      ]
     },
     "execution_count": 31,
     "metadata": {},
     "output_type": "execute_result"
    }
   ],
   "source": [
    "cumulativeData"
   ]
  },
  {
   "cell_type": "code",
   "execution_count": 32,
   "metadata": {},
   "outputs": [
    {
     "data": {
      "text/html": [
       "<div>\n",
       "<style scoped>\n",
       "    .dataframe tbody tr th:only-of-type {\n",
       "        vertical-align: middle;\n",
       "    }\n",
       "\n",
       "    .dataframe tbody tr th {\n",
       "        vertical-align: top;\n",
       "    }\n",
       "\n",
       "    .dataframe thead th {\n",
       "        text-align: right;\n",
       "    }\n",
       "</style>\n",
       "<table border=\"1\" class=\"dataframe\">\n",
       "  <thead>\n",
       "    <tr style=\"text-align: right;\">\n",
       "      <th></th>\n",
       "      <th>date</th>\n",
       "      <th>group</th>\n",
       "      <th>orders</th>\n",
       "      <th>buyers</th>\n",
       "      <th>revenue</th>\n",
       "      <th>visitors</th>\n",
       "      <th>conversion</th>\n",
       "    </tr>\n",
       "  </thead>\n",
       "  <tbody>\n",
       "    <tr>\n",
       "      <th>0</th>\n",
       "      <td>2019-08-01</td>\n",
       "      <td>A</td>\n",
       "      <td>24</td>\n",
       "      <td>20</td>\n",
       "      <td>148579</td>\n",
       "      <td>719</td>\n",
       "      <td>0.033380</td>\n",
       "    </tr>\n",
       "    <tr>\n",
       "      <th>1</th>\n",
       "      <td>2019-08-01</td>\n",
       "      <td>B</td>\n",
       "      <td>21</td>\n",
       "      <td>20</td>\n",
       "      <td>101217</td>\n",
       "      <td>713</td>\n",
       "      <td>0.029453</td>\n",
       "    </tr>\n",
       "    <tr>\n",
       "      <th>2</th>\n",
       "      <td>2019-08-02</td>\n",
       "      <td>A</td>\n",
       "      <td>44</td>\n",
       "      <td>38</td>\n",
       "      <td>242401</td>\n",
       "      <td>1338</td>\n",
       "      <td>0.032885</td>\n",
       "    </tr>\n",
       "    <tr>\n",
       "      <th>3</th>\n",
       "      <td>2019-08-02</td>\n",
       "      <td>B</td>\n",
       "      <td>45</td>\n",
       "      <td>43</td>\n",
       "      <td>266748</td>\n",
       "      <td>1294</td>\n",
       "      <td>0.034776</td>\n",
       "    </tr>\n",
       "    <tr>\n",
       "      <th>4</th>\n",
       "      <td>2019-08-03</td>\n",
       "      <td>A</td>\n",
       "      <td>68</td>\n",
       "      <td>62</td>\n",
       "      <td>354874</td>\n",
       "      <td>1845</td>\n",
       "      <td>0.036856</td>\n",
       "    </tr>\n",
       "    <tr>\n",
       "      <th>...</th>\n",
       "      <td>...</td>\n",
       "      <td>...</td>\n",
       "      <td>...</td>\n",
       "      <td>...</td>\n",
       "      <td>...</td>\n",
       "      <td>...</td>\n",
       "      <td>...</td>\n",
       "    </tr>\n",
       "    <tr>\n",
       "      <th>57</th>\n",
       "      <td>2019-08-29</td>\n",
       "      <td>B</td>\n",
       "      <td>596</td>\n",
       "      <td>544</td>\n",
       "      <td>5559398</td>\n",
       "      <td>17708</td>\n",
       "      <td>0.033657</td>\n",
       "    </tr>\n",
       "    <tr>\n",
       "      <th>58</th>\n",
       "      <td>2019-08-30</td>\n",
       "      <td>A</td>\n",
       "      <td>545</td>\n",
       "      <td>493</td>\n",
       "      <td>4022970</td>\n",
       "      <td>18037</td>\n",
       "      <td>0.030216</td>\n",
       "    </tr>\n",
       "    <tr>\n",
       "      <th>59</th>\n",
       "      <td>2019-08-30</td>\n",
       "      <td>B</td>\n",
       "      <td>620</td>\n",
       "      <td>567</td>\n",
       "      <td>5774631</td>\n",
       "      <td>18198</td>\n",
       "      <td>0.034070</td>\n",
       "    </tr>\n",
       "    <tr>\n",
       "      <th>60</th>\n",
       "      <td>2019-08-31</td>\n",
       "      <td>A</td>\n",
       "      <td>557</td>\n",
       "      <td>503</td>\n",
       "      <td>4084803</td>\n",
       "      <td>18736</td>\n",
       "      <td>0.029729</td>\n",
       "    </tr>\n",
       "    <tr>\n",
       "      <th>61</th>\n",
       "      <td>2019-08-31</td>\n",
       "      <td>B</td>\n",
       "      <td>640</td>\n",
       "      <td>586</td>\n",
       "      <td>5907760</td>\n",
       "      <td>18916</td>\n",
       "      <td>0.033834</td>\n",
       "    </tr>\n",
       "  </tbody>\n",
       "</table>\n",
       "<p>62 rows × 7 columns</p>\n",
       "</div>"
      ],
      "text/plain": [
       "         date group  orders  buyers  revenue  visitors  conversion\n",
       "0  2019-08-01     A      24      20   148579       719    0.033380\n",
       "1  2019-08-01     B      21      20   101217       713    0.029453\n",
       "2  2019-08-02     A      44      38   242401      1338    0.032885\n",
       "3  2019-08-02     B      45      43   266748      1294    0.034776\n",
       "4  2019-08-03     A      68      62   354874      1845    0.036856\n",
       "..        ...   ...     ...     ...      ...       ...         ...\n",
       "57 2019-08-29     B     596     544  5559398     17708    0.033657\n",
       "58 2019-08-30     A     545     493  4022970     18037    0.030216\n",
       "59 2019-08-30     B     620     567  5774631     18198    0.034070\n",
       "60 2019-08-31     A     557     503  4084803     18736    0.029729\n",
       "61 2019-08-31     B     640     586  5907760     18916    0.033834\n",
       "\n",
       "[62 rows x 7 columns]"
      ]
     },
     "execution_count": 32,
     "metadata": {},
     "output_type": "execute_result"
    }
   ],
   "source": [
    "cumulativeData['conversion'] = cumulativeData['orders']/cumulativeData['visitors']\n",
    "cumulativeData"
   ]
  },
  {
   "cell_type": "code",
   "execution_count": 33,
   "metadata": {},
   "outputs": [],
   "source": [
    "cumulativeDataA = cumulativeData[cumulativeData['group']=='A']\n",
    "cumulativeDataB = cumulativeData[cumulativeData['group']=='B']"
   ]
  },
  {
   "cell_type": "code",
   "execution_count": 34,
   "metadata": {},
   "outputs": [
    {
     "data": {
      "text/plain": [
       "<matplotlib.legend.Legend at 0x7f1fd4ad2520>"
      ]
     },
     "execution_count": 34,
     "metadata": {},
     "output_type": "execute_result"
    },
    {
     "data": {
      "image/png": "[encoded data removed]",
      "text/plain": [
       "<Figure size 432x288 with 1 Axes>"
      ]
     },
     "metadata": {},
     "output_type": "display_data"
    }
   ],
   "source": [
    "plt.plot(cumulativeDataA['date'], cumulativeDataA['conversion'], label='A')\n",
    "plt.plot(cumulativeDataB['date'], cumulativeDataB['conversion'], label='B')\n",
    "plt.title('График кумулятивного среднего количества заказов по группам в зависимости от дня')\n",
    "plt.xticks(rotation=45)\n",
    "plt.xlabel('Дата')\n",
    "plt.ylabel('Заказы на посетителя')\n",
    "plt.legend()"
   ]
  },
  {
   "cell_type": "markdown",
   "metadata": {},
   "source": [
    "Из графика видно, что конверсия группы В лучше, чем у группы А практически на всем протяжении теста"
   ]
  },
  {
   "cell_type": "markdown",
   "metadata": {},
   "source": [
    "### Постройте график относительного изменения кумулятивного среднего количества заказов на посетителя группы B к группе A. Сделайте выводы и предположения."
   ]
  },
  {
   "cell_type": "code",
   "execution_count": 35,
   "metadata": {},
   "outputs": [
    {
     "data": {
      "text/html": [
       "<div>\n",
       "<style scoped>\n",
       "    .dataframe tbody tr th:only-of-type {\n",
       "        vertical-align: middle;\n",
       "    }\n",
       "\n",
       "    .dataframe tbody tr th {\n",
       "        vertical-align: top;\n",
       "    }\n",
       "\n",
       "    .dataframe thead th {\n",
       "        text-align: right;\n",
       "    }\n",
       "</style>\n",
       "<table border=\"1\" class=\"dataframe\">\n",
       "  <thead>\n",
       "    <tr style=\"text-align: right;\">\n",
       "      <th></th>\n",
       "      <th>date</th>\n",
       "      <th>groupA</th>\n",
       "      <th>ordersA</th>\n",
       "      <th>buyersA</th>\n",
       "      <th>revenueA</th>\n",
       "      <th>visitorsA</th>\n",
       "      <th>conversionA</th>\n",
       "      <th>groupB</th>\n",
       "      <th>ordersB</th>\n",
       "      <th>buyersB</th>\n",
       "      <th>revenueB</th>\n",
       "      <th>visitorsB</th>\n",
       "      <th>conversionB</th>\n",
       "    </tr>\n",
       "  </thead>\n",
       "  <tbody>\n",
       "    <tr>\n",
       "      <th>0</th>\n",
       "      <td>2019-08-01</td>\n",
       "      <td>A</td>\n",
       "      <td>24</td>\n",
       "      <td>20</td>\n",
       "      <td>148579</td>\n",
       "      <td>719</td>\n",
       "      <td>0.033380</td>\n",
       "      <td>B</td>\n",
       "      <td>21</td>\n",
       "      <td>20</td>\n",
       "      <td>101217</td>\n",
       "      <td>713</td>\n",
       "      <td>0.029453</td>\n",
       "    </tr>\n",
       "    <tr>\n",
       "      <th>1</th>\n",
       "      <td>2019-08-02</td>\n",
       "      <td>A</td>\n",
       "      <td>44</td>\n",
       "      <td>38</td>\n",
       "      <td>242401</td>\n",
       "      <td>1338</td>\n",
       "      <td>0.032885</td>\n",
       "      <td>B</td>\n",
       "      <td>45</td>\n",
       "      <td>43</td>\n",
       "      <td>266748</td>\n",
       "      <td>1294</td>\n",
       "      <td>0.034776</td>\n",
       "    </tr>\n",
       "    <tr>\n",
       "      <th>2</th>\n",
       "      <td>2019-08-03</td>\n",
       "      <td>A</td>\n",
       "      <td>68</td>\n",
       "      <td>62</td>\n",
       "      <td>354874</td>\n",
       "      <td>1845</td>\n",
       "      <td>0.036856</td>\n",
       "      <td>B</td>\n",
       "      <td>61</td>\n",
       "      <td>59</td>\n",
       "      <td>380996</td>\n",
       "      <td>1803</td>\n",
       "      <td>0.033833</td>\n",
       "    </tr>\n",
       "    <tr>\n",
       "      <th>3</th>\n",
       "      <td>2019-08-04</td>\n",
       "      <td>A</td>\n",
       "      <td>84</td>\n",
       "      <td>77</td>\n",
       "      <td>425699</td>\n",
       "      <td>2562</td>\n",
       "      <td>0.032787</td>\n",
       "      <td>B</td>\n",
       "      <td>78</td>\n",
       "      <td>75</td>\n",
       "      <td>489567</td>\n",
       "      <td>2573</td>\n",
       "      <td>0.030315</td>\n",
       "    </tr>\n",
       "    <tr>\n",
       "      <th>4</th>\n",
       "      <td>2019-08-05</td>\n",
       "      <td>A</td>\n",
       "      <td>109</td>\n",
       "      <td>100</td>\n",
       "      <td>549917</td>\n",
       "      <td>3318</td>\n",
       "      <td>0.032851</td>\n",
       "      <td>B</td>\n",
       "      <td>101</td>\n",
       "      <td>98</td>\n",
       "      <td>581995</td>\n",
       "      <td>3280</td>\n",
       "      <td>0.030793</td>\n",
       "    </tr>\n",
       "    <tr>\n",
       "      <th>5</th>\n",
       "      <td>2019-08-06</td>\n",
       "      <td>A</td>\n",
       "      <td>127</td>\n",
       "      <td>114</td>\n",
       "      <td>598401</td>\n",
       "      <td>3985</td>\n",
       "      <td>0.031870</td>\n",
       "      <td>B</td>\n",
       "      <td>129</td>\n",
       "      <td>123</td>\n",
       "      <td>824337</td>\n",
       "      <td>3935</td>\n",
       "      <td>0.032783</td>\n",
       "    </tr>\n",
       "    <tr>\n",
       "      <th>6</th>\n",
       "      <td>2019-08-07</td>\n",
       "      <td>A</td>\n",
       "      <td>145</td>\n",
       "      <td>131</td>\n",
       "      <td>740818</td>\n",
       "      <td>4629</td>\n",
       "      <td>0.031324</td>\n",
       "      <td>B</td>\n",
       "      <td>153</td>\n",
       "      <td>146</td>\n",
       "      <td>1049671</td>\n",
       "      <td>4644</td>\n",
       "      <td>0.032946</td>\n",
       "    </tr>\n",
       "    <tr>\n",
       "      <th>7</th>\n",
       "      <td>2019-08-08</td>\n",
       "      <td>A</td>\n",
       "      <td>161</td>\n",
       "      <td>146</td>\n",
       "      <td>837097</td>\n",
       "      <td>5239</td>\n",
       "      <td>0.030731</td>\n",
       "      <td>B</td>\n",
       "      <td>180</td>\n",
       "      <td>171</td>\n",
       "      <td>1270589</td>\n",
       "      <td>5298</td>\n",
       "      <td>0.033975</td>\n",
       "    </tr>\n",
       "    <tr>\n",
       "      <th>8</th>\n",
       "      <td>2019-08-09</td>\n",
       "      <td>A</td>\n",
       "      <td>177</td>\n",
       "      <td>159</td>\n",
       "      <td>1025603</td>\n",
       "      <td>5856</td>\n",
       "      <td>0.030225</td>\n",
       "      <td>B</td>\n",
       "      <td>205</td>\n",
       "      <td>193</td>\n",
       "      <td>1431401</td>\n",
       "      <td>5908</td>\n",
       "      <td>0.034699</td>\n",
       "    </tr>\n",
       "    <tr>\n",
       "      <th>9</th>\n",
       "      <td>2019-08-10</td>\n",
       "      <td>A</td>\n",
       "      <td>193</td>\n",
       "      <td>175</td>\n",
       "      <td>1236098</td>\n",
       "      <td>6262</td>\n",
       "      <td>0.030821</td>\n",
       "      <td>B</td>\n",
       "      <td>228</td>\n",
       "      <td>215</td>\n",
       "      <td>1539203</td>\n",
       "      <td>6277</td>\n",
       "      <td>0.036323</td>\n",
       "    </tr>\n",
       "    <tr>\n",
       "      <th>10</th>\n",
       "      <td>2019-08-11</td>\n",
       "      <td>A</td>\n",
       "      <td>206</td>\n",
       "      <td>187</td>\n",
       "      <td>1313683</td>\n",
       "      <td>6980</td>\n",
       "      <td>0.029513</td>\n",
       "      <td>B</td>\n",
       "      <td>241</td>\n",
       "      <td>228</td>\n",
       "      <td>1592513</td>\n",
       "      <td>6998</td>\n",
       "      <td>0.034438</td>\n",
       "    </tr>\n",
       "    <tr>\n",
       "      <th>11</th>\n",
       "      <td>2019-08-12</td>\n",
       "      <td>A</td>\n",
       "      <td>230</td>\n",
       "      <td>210</td>\n",
       "      <td>1562873</td>\n",
       "      <td>7575</td>\n",
       "      <td>0.030363</td>\n",
       "      <td>B</td>\n",
       "      <td>264</td>\n",
       "      <td>248</td>\n",
       "      <td>1734067</td>\n",
       "      <td>7541</td>\n",
       "      <td>0.035009</td>\n",
       "    </tr>\n",
       "    <tr>\n",
       "      <th>12</th>\n",
       "      <td>2019-08-13</td>\n",
       "      <td>A</td>\n",
       "      <td>244</td>\n",
       "      <td>223</td>\n",
       "      <td>1826511</td>\n",
       "      <td>8323</td>\n",
       "      <td>0.029316</td>\n",
       "      <td>B</td>\n",
       "      <td>285</td>\n",
       "      <td>268</td>\n",
       "      <td>1853738</td>\n",
       "      <td>8310</td>\n",
       "      <td>0.034296</td>\n",
       "    </tr>\n",
       "    <tr>\n",
       "      <th>13</th>\n",
       "      <td>2019-08-14</td>\n",
       "      <td>A</td>\n",
       "      <td>268</td>\n",
       "      <td>247</td>\n",
       "      <td>1890852</td>\n",
       "      <td>9058</td>\n",
       "      <td>0.029587</td>\n",
       "      <td>B</td>\n",
       "      <td>308</td>\n",
       "      <td>287</td>\n",
       "      <td>2025446</td>\n",
       "      <td>9056</td>\n",
       "      <td>0.034011</td>\n",
       "    </tr>\n",
       "    <tr>\n",
       "      <th>14</th>\n",
       "      <td>2019-08-15</td>\n",
       "      <td>A</td>\n",
       "      <td>283</td>\n",
       "      <td>259</td>\n",
       "      <td>1979057</td>\n",
       "      <td>9686</td>\n",
       "      <td>0.029217</td>\n",
       "      <td>B</td>\n",
       "      <td>339</td>\n",
       "      <td>317</td>\n",
       "      <td>2367945</td>\n",
       "      <td>9600</td>\n",
       "      <td>0.035312</td>\n",
       "    </tr>\n",
       "    <tr>\n",
       "      <th>15</th>\n",
       "      <td>2019-08-16</td>\n",
       "      <td>A</td>\n",
       "      <td>301</td>\n",
       "      <td>277</td>\n",
       "      <td>2078908</td>\n",
       "      <td>10047</td>\n",
       "      <td>0.029959</td>\n",
       "      <td>B</td>\n",
       "      <td>359</td>\n",
       "      <td>336</td>\n",
       "      <td>2539635</td>\n",
       "      <td>10013</td>\n",
       "      <td>0.035853</td>\n",
       "    </tr>\n",
       "    <tr>\n",
       "      <th>16</th>\n",
       "      <td>2019-08-17</td>\n",
       "      <td>A</td>\n",
       "      <td>311</td>\n",
       "      <td>283</td>\n",
       "      <td>2129769</td>\n",
       "      <td>10459</td>\n",
       "      <td>0.029735</td>\n",
       "      <td>B</td>\n",
       "      <td>373</td>\n",
       "      <td>349</td>\n",
       "      <td>2620790</td>\n",
       "      <td>10434</td>\n",
       "      <td>0.035749</td>\n",
       "    </tr>\n",
       "    <tr>\n",
       "      <th>17</th>\n",
       "      <td>2019-08-18</td>\n",
       "      <td>A</td>\n",
       "      <td>328</td>\n",
       "      <td>300</td>\n",
       "      <td>2202167</td>\n",
       "      <td>11127</td>\n",
       "      <td>0.029478</td>\n",
       "      <td>B</td>\n",
       "      <td>382</td>\n",
       "      <td>357</td>\n",
       "      <td>2686621</td>\n",
       "      <td>11171</td>\n",
       "      <td>0.034196</td>\n",
       "    </tr>\n",
       "    <tr>\n",
       "      <th>18</th>\n",
       "      <td>2019-08-19</td>\n",
       "      <td>A</td>\n",
       "      <td>350</td>\n",
       "      <td>320</td>\n",
       "      <td>2391910</td>\n",
       "      <td>11629</td>\n",
       "      <td>0.030097</td>\n",
       "      <td>B</td>\n",
       "      <td>403</td>\n",
       "      <td>377</td>\n",
       "      <td>4116541</td>\n",
       "      <td>11658</td>\n",
       "      <td>0.034569</td>\n",
       "    </tr>\n",
       "    <tr>\n",
       "      <th>19</th>\n",
       "      <td>2019-08-20</td>\n",
       "      <td>A</td>\n",
       "      <td>362</td>\n",
       "      <td>330</td>\n",
       "      <td>2469529</td>\n",
       "      <td>12204</td>\n",
       "      <td>0.029662</td>\n",
       "      <td>B</td>\n",
       "      <td>423</td>\n",
       "      <td>396</td>\n",
       "      <td>4263815</td>\n",
       "      <td>12218</td>\n",
       "      <td>0.034621</td>\n",
       "    </tr>\n",
       "    <tr>\n",
       "      <th>20</th>\n",
       "      <td>2019-08-21</td>\n",
       "      <td>A</td>\n",
       "      <td>385</td>\n",
       "      <td>350</td>\n",
       "      <td>2643838</td>\n",
       "      <td>12850</td>\n",
       "      <td>0.029961</td>\n",
       "      <td>B</td>\n",
       "      <td>437</td>\n",
       "      <td>407</td>\n",
       "      <td>4426892</td>\n",
       "      <td>12874</td>\n",
       "      <td>0.033944</td>\n",
       "    </tr>\n",
       "    <tr>\n",
       "      <th>21</th>\n",
       "      <td>2019-08-22</td>\n",
       "      <td>A</td>\n",
       "      <td>401</td>\n",
       "      <td>361</td>\n",
       "      <td>2756579</td>\n",
       "      <td>13459</td>\n",
       "      <td>0.029794</td>\n",
       "      <td>B</td>\n",
       "      <td>462</td>\n",
       "      <td>427</td>\n",
       "      <td>4589247</td>\n",
       "      <td>13524</td>\n",
       "      <td>0.034161</td>\n",
       "    </tr>\n",
       "    <tr>\n",
       "      <th>22</th>\n",
       "      <td>2019-08-23</td>\n",
       "      <td>A</td>\n",
       "      <td>426</td>\n",
       "      <td>385</td>\n",
       "      <td>2874367</td>\n",
       "      <td>13927</td>\n",
       "      <td>0.030588</td>\n",
       "      <td>B</td>\n",
       "      <td>477</td>\n",
       "      <td>440</td>\n",
       "      <td>4703216</td>\n",
       "      <td>14070</td>\n",
       "      <td>0.033902</td>\n",
       "    </tr>\n",
       "    <tr>\n",
       "      <th>23</th>\n",
       "      <td>2019-08-24</td>\n",
       "      <td>A</td>\n",
       "      <td>441</td>\n",
       "      <td>400</td>\n",
       "      <td>3002070</td>\n",
       "      <td>14322</td>\n",
       "      <td>0.030792</td>\n",
       "      <td>B</td>\n",
       "      <td>493</td>\n",
       "      <td>454</td>\n",
       "      <td>4798722</td>\n",
       "      <td>14448</td>\n",
       "      <td>0.034122</td>\n",
       "    </tr>\n",
       "    <tr>\n",
       "      <th>24</th>\n",
       "      <td>2019-08-25</td>\n",
       "      <td>A</td>\n",
       "      <td>451</td>\n",
       "      <td>409</td>\n",
       "      <td>3070704</td>\n",
       "      <td>14943</td>\n",
       "      <td>0.030181</td>\n",
       "      <td>B</td>\n",
       "      <td>507</td>\n",
       "      <td>466</td>\n",
       "      <td>4901584</td>\n",
       "      <td>15127</td>\n",
       "      <td>0.033516</td>\n",
       "    </tr>\n",
       "    <tr>\n",
       "      <th>25</th>\n",
       "      <td>2019-08-26</td>\n",
       "      <td>A</td>\n",
       "      <td>467</td>\n",
       "      <td>425</td>\n",
       "      <td>3227918</td>\n",
       "      <td>15665</td>\n",
       "      <td>0.029812</td>\n",
       "      <td>B</td>\n",
       "      <td>532</td>\n",
       "      <td>490</td>\n",
       "      <td>5084583</td>\n",
       "      <td>15803</td>\n",
       "      <td>0.033664</td>\n",
       "    </tr>\n",
       "    <tr>\n",
       "      <th>26</th>\n",
       "      <td>2019-08-27</td>\n",
       "      <td>A</td>\n",
       "      <td>495</td>\n",
       "      <td>449</td>\n",
       "      <td>3514698</td>\n",
       "      <td>16376</td>\n",
       "      <td>0.030227</td>\n",
       "      <td>B</td>\n",
       "      <td>548</td>\n",
       "      <td>504</td>\n",
       "      <td>5232260</td>\n",
       "      <td>16523</td>\n",
       "      <td>0.033166</td>\n",
       "    </tr>\n",
       "    <tr>\n",
       "      <th>27</th>\n",
       "      <td>2019-08-28</td>\n",
       "      <td>A</td>\n",
       "      <td>512</td>\n",
       "      <td>464</td>\n",
       "      <td>3615820</td>\n",
       "      <td>16970</td>\n",
       "      <td>0.030171</td>\n",
       "      <td>B</td>\n",
       "      <td>576</td>\n",
       "      <td>526</td>\n",
       "      <td>5328268</td>\n",
       "      <td>17177</td>\n",
       "      <td>0.033533</td>\n",
       "    </tr>\n",
       "    <tr>\n",
       "      <th>28</th>\n",
       "      <td>2019-08-29</td>\n",
       "      <td>A</td>\n",
       "      <td>534</td>\n",
       "      <td>484</td>\n",
       "      <td>3936510</td>\n",
       "      <td>17547</td>\n",
       "      <td>0.030433</td>\n",
       "      <td>B</td>\n",
       "      <td>596</td>\n",
       "      <td>544</td>\n",
       "      <td>5559398</td>\n",
       "      <td>17708</td>\n",
       "      <td>0.033657</td>\n",
       "    </tr>\n",
       "    <tr>\n",
       "      <th>29</th>\n",
       "      <td>2019-08-30</td>\n",
       "      <td>A</td>\n",
       "      <td>545</td>\n",
       "      <td>493</td>\n",
       "      <td>4022970</td>\n",
       "      <td>18037</td>\n",
       "      <td>0.030216</td>\n",
       "      <td>B</td>\n",
       "      <td>620</td>\n",
       "      <td>567</td>\n",
       "      <td>5774631</td>\n",
       "      <td>18198</td>\n",
       "      <td>0.034070</td>\n",
       "    </tr>\n",
       "    <tr>\n",
       "      <th>30</th>\n",
       "      <td>2019-08-31</td>\n",
       "      <td>A</td>\n",
       "      <td>557</td>\n",
       "      <td>503</td>\n",
       "      <td>4084803</td>\n",
       "      <td>18736</td>\n",
       "      <td>0.029729</td>\n",
       "      <td>B</td>\n",
       "      <td>640</td>\n",
       "      <td>586</td>\n",
       "      <td>5907760</td>\n",
       "      <td>18916</td>\n",
       "      <td>0.033834</td>\n",
       "    </tr>\n",
       "  </tbody>\n",
       "</table>\n",
       "</div>"
      ],
      "text/plain": [
       "         date groupA  ordersA  buyersA  revenueA  visitorsA  conversionA  \\\n",
       "0  2019-08-01      A       24       20    148579        719     0.033380   \n",
       "1  2019-08-02      A       44       38    242401       1338     0.032885   \n",
       "2  2019-08-03      A       68       62    354874       1845     0.036856   \n",
       "3  2019-08-04      A       84       77    425699       2562     0.032787   \n",
       "4  2019-08-05      A      109      100    549917       3318     0.032851   \n",
       "5  2019-08-06      A      127      114    598401       3985     0.031870   \n",
       "6  2019-08-07      A      145      131    740818       4629     0.031324   \n",
       "7  2019-08-08      A      161      146    837097       5239     0.030731   \n",
       "8  2019-08-09      A      177      159   1025603       5856     0.030225   \n",
       "9  2019-08-10      A      193      175   1236098       6262     0.030821   \n",
       "10 2019-08-11      A      206      187   1313683       6980     0.029513   \n",
       "11 2019-08-12      A      230      210   1562873       7575     0.030363   \n",
       "12 2019-08-13      A      244      223   1826511       8323     0.029316   \n",
       "13 2019-08-14      A      268      247   1890852       9058     0.029587   \n",
       "14 2019-08-15      A      283      259   1979057       9686     0.029217   \n",
       "15 2019-08-16      A      301      277   2078908      10047     0.029959   \n",
       "16 2019-08-17      A      311      283   2129769      10459     0.029735   \n",
       "17 2019-08-18      A      328      300   2202167      11127     0.029478   \n",
       "18 2019-08-19      A      350      320   2391910      11629     0.030097   \n",
       "19 2019-08-20      A      362      330   2469529      12204     0.029662   \n",
       "20 2019-08-21      A      385      350   2643838      12850     0.029961   \n",
       "21 2019-08-22      A      401      361   2756579      13459     0.029794   \n",
       "22 2019-08-23      A      426      385   2874367      13927     0.030588   \n",
       "23 2019-08-24      A      441      400   3002070      14322     0.030792   \n",
       "24 2019-08-25      A      451      409   3070704      14943     0.030181   \n",
       "25 2019-08-26      A      467      425   3227918      15665     0.029812   \n",
       "26 2019-08-27      A      495      449   3514698      16376     0.030227   \n",
       "27 2019-08-28      A      512      464   3615820      16970     0.030171   \n",
       "28 2019-08-29      A      534      484   3936510      17547     0.030433   \n",
       "29 2019-08-30      A      545      493   4022970      18037     0.030216   \n",
       "30 2019-08-31      A      557      503   4084803      18736     0.029729   \n",
       "\n",
       "   groupB  ordersB  buyersB  revenueB  visitorsB  conversionB  \n",
       "0       B       21       20    101217        713     0.029453  \n",
       "1       B       45       43    266748       1294     0.034776  \n",
       "2       B       61       59    380996       1803     0.033833  \n",
       "3       B       78       75    489567       2573     0.030315  \n",
       "4       B      101       98    581995       3280     0.030793  \n",
       "5       B      129      123    824337       3935     0.032783  \n",
       "6       B      153      146   1049671       4644     0.032946  \n",
       "7       B      180      171   1270589       5298     0.033975  \n",
       "8       B      205      193   1431401       5908     0.034699  \n",
       "9       B      228      215   1539203       6277     0.036323  \n",
       "10      B      241      228   1592513       6998     0.034438  \n",
       "11      B      264      248   1734067       7541     0.035009  \n",
       "12      B      285      268   1853738       8310     0.034296  \n",
       "13      B      308      287   2025446       9056     0.034011  \n",
       "14      B      339      317   2367945       9600     0.035312  \n",
       "15      B      359      336   2539635      10013     0.035853  \n",
       "16      B      373      349   2620790      10434     0.035749  \n",
       "17      B      382      357   2686621      11171     0.034196  \n",
       "18      B      403      377   4116541      11658     0.034569  \n",
       "19      B      423      396   4263815      12218     0.034621  \n",
       "20      B      437      407   4426892      12874     0.033944  \n",
       "21      B      462      427   4589247      13524     0.034161  \n",
       "22      B      477      440   4703216      14070     0.033902  \n",
       "23      B      493      454   4798722      14448     0.034122  \n",
       "24      B      507      466   4901584      15127     0.033516  \n",
       "25      B      532      490   5084583      15803     0.033664  \n",
       "26      B      548      504   5232260      16523     0.033166  \n",
       "27      B      576      526   5328268      17177     0.033533  \n",
       "28      B      596      544   5559398      17708     0.033657  \n",
       "29      B      620      567   5774631      18198     0.034070  \n",
       "30      B      640      586   5907760      18916     0.033834  "
      ]
     },
     "execution_count": 35,
     "metadata": {},
     "output_type": "execute_result"
    }
   ],
   "source": [
    "mergedCumulativeConversion = cumulativeDataA.merge(cumulativeDataB, left_on='date', right_on='date', how='left', suffixes=['A', 'B'])\n",
    "mergedCumulativeConversion"
   ]
  },
  {
   "cell_type": "code",
   "execution_count": 36,
   "metadata": {},
   "outputs": [
    {
     "data": {
      "text/plain": [
       "<matplotlib.lines.Line2D at 0x7f1fd4b1c9a0>"
      ]
     },
     "execution_count": 36,
     "metadata": {},
     "output_type": "execute_result"
    },
    {
     "data": {
      "image/png": "[encoded data removed]",
      "text/plain": [
       "<Figure size 432x288 with 1 Axes>"
      ]
     },
     "metadata": {},
     "output_type": "display_data"
    }
   ],
   "source": [
    "plt.plot(mergedCumulativeConversion['date'], (mergedCumulativeConversion['conversionB']/(mergedCumulativeConversion['conversionA'])-1))\n",
    "plt.title('График относительного изменения кумулятивного среднего количества заказов по группам в зависимости от дня')\n",
    "plt.xticks(rotation=45)\n",
    "plt.xlabel('Дата')\n",
    "plt.ylabel('Относительное изменение кумулятивного среднего числа заказов')\n",
    "plt.axhline(y=0, linestyle='--')"
   ]
  },
  {
   "cell_type": "markdown",
   "metadata": {},
   "source": [
    "Из графиков видно, что конверсия в группе В больше, чем в группе А на 10-20%"
   ]
  },
  {
   "cell_type": "markdown",
   "metadata": {},
   "source": [
    "### Постройте точечный график количества заказов по пользователям. Сделайте выводы и предположения."
   ]
  },
  {
   "cell_type": "code",
   "execution_count": 37,
   "metadata": {},
   "outputs": [],
   "source": [
    "ordersByUsers = (\n",
    "    orders.groupby('user_Id', as_index=False)\n",
    "    .agg({'order_Id': 'nunique'})\n",
    ")\n",
    "ordersByUsers.columns = ['userId', 'orders']"
   ]
  },
  {
   "cell_type": "code",
   "execution_count": 38,
   "metadata": {},
   "outputs": [
    {
     "data": {
      "text/plain": [
       "Text(0, 0.5, 'Количество заказов')"
      ]
     },
     "execution_count": 38,
     "metadata": {},
     "output_type": "execute_result"
    },
    {
     "data": {
      "image/png": "[encoded data removed]",
      "text/plain": [
       "<Figure size 432x288 with 1 Axes>"
      ]
     },
     "metadata": {},
     "output_type": "display_data"
    }
   ],
   "source": [
    "x_values = pd.Series(range(0, len(ordersByUsers)))\n",
    "plt.scatter(x_values, ordersByUsers['orders'])\n",
    "plt.title('Распределение количества заказов по пользователям')\n",
    "plt.xlabel('Номер пользователя')\n",
    "plt.ylabel('Количество заказов');"
   ]
  },
  {
   "cell_type": "markdown",
   "metadata": {},
   "source": [
    "Большинство пользователей сделало 1 заказ, количество пользоватлей с 2 заказами заметно, но достаточно мало, скорее всего 95 % пересентиль будет равен 2"
   ]
  },
  {
   "cell_type": "markdown",
   "metadata": {},
   "source": [
    "### Посчитайте 95-й и 99-й перцентили количества заказов на пользователя. Выберите границу для определения аномальных пользователей"
   ]
  },
  {
   "cell_type": "code",
   "execution_count": 39,
   "metadata": {},
   "outputs": [
    {
     "name": "stdout",
     "output_type": "stream",
     "text": [
      "[2. 4.]\n"
     ]
    }
   ],
   "source": [
    "print(np.percentile(ordersByUsers['orders'], [95, 99]))"
   ]
  },
  {
   "cell_type": "markdown",
   "metadata": {},
   "source": [
    "Не более 5% пользователей совершили 2 заказа, и не более 1% пользователей совершили 4 и более заказа\n",
    "\n",
    "Границей определения аномалий возьмем от 3 заказов включительно, т.к. это менее 5% пользователей"
   ]
  },
  {
   "cell_type": "markdown",
   "metadata": {},
   "source": [
    "### Постройте точечный график стоимостей заказов. Сделайте выводы и предположения."
   ]
  },
  {
   "cell_type": "code",
   "execution_count": 40,
   "metadata": {},
   "outputs": [
    {
     "data": {
      "text/plain": [
       "Text(0, 0.5, 'Стоимость заказа')"
      ]
     },
     "execution_count": 40,
     "metadata": {},
     "output_type": "execute_result"
    },
    {
     "data": {
      "image/png": "[encoded data removed]",
      "text/plain": [
       "<Figure size 432x288 with 1 Axes>"
      ]
     },
     "metadata": {},
     "output_type": "display_data"
    }
   ],
   "source": [
    "x_values = pd.Series(range(0, len(orders['revenue'])))\n",
    "plt.scatter(x_values, orders['revenue'])\n",
    "plt.title('Распределение стоимостей заказов по пользователям')\n",
    "plt.xlabel('Номер пользователя')\n",
    "plt.ylabel('Стоимость заказа')"
   ]
  },
  {
   "cell_type": "markdown",
   "metadata": {},
   "source": [
    "Почти все заказы меньше 100 000, кто-то заказал более чем на 1.2 млн, что очень сильно отразилось на тестах"
   ]
  },
  {
   "cell_type": "markdown",
   "metadata": {},
   "source": [
    "### Посчитайте 95-й и 99-й перцентили стоимости заказов. Выберите границу для определения аномальных заказов."
   ]
  },
  {
   "cell_type": "code",
   "execution_count": 41,
   "metadata": {},
   "outputs": [
    {
     "name": "stdout",
     "output_type": "stream",
     "text": [
      "[28000.  58233.2]\n"
     ]
    }
   ],
   "source": [
    "print(np.percentile(orders['revenue'], [95, 99]))"
   ]
  },
  {
   "cell_type": "markdown",
   "metadata": {},
   "source": [
    "95 процентный перцентиль соответствует 28000, 99 процентный - 58233, приму за аномальное значение более 28000"
   ]
  },
  {
   "cell_type": "markdown",
   "metadata": {},
   "source": [
    "### Посчитайте статистическую значимость различий в среднем количестве заказов на посетителя между группами по «сырым» данным. Сделайте выводы и предположения."
   ]
  },
  {
   "cell_type": "markdown",
   "metadata": {},
   "source": [
    "<b>Нулевая гипотеза:</b> среднее количество заказов не изменилось\n",
    "\n",
    "<b>Альтернативная гипотеза:</b> среднее количество заказов увеличилось"
   ]
  },
  {
   "cell_type": "code",
   "execution_count": 42,
   "metadata": {
    "scrolled": true
   },
   "outputs": [
    {
     "data": {
      "text/html": [
       "<div>\n",
       "<style scoped>\n",
       "    .dataframe tbody tr th:only-of-type {\n",
       "        vertical-align: middle;\n",
       "    }\n",
       "\n",
       "    .dataframe tbody tr th {\n",
       "        vertical-align: top;\n",
       "    }\n",
       "\n",
       "    .dataframe thead th {\n",
       "        text-align: right;\n",
       "    }\n",
       "</style>\n",
       "<table border=\"1\" class=\"dataframe\">\n",
       "  <thead>\n",
       "    <tr style=\"text-align: right;\">\n",
       "      <th></th>\n",
       "      <th>userId</th>\n",
       "      <th>orders</th>\n",
       "    </tr>\n",
       "  </thead>\n",
       "  <tbody>\n",
       "    <tr>\n",
       "      <th>0</th>\n",
       "      <td>5114589</td>\n",
       "      <td>1</td>\n",
       "    </tr>\n",
       "    <tr>\n",
       "      <th>1</th>\n",
       "      <td>6958315</td>\n",
       "      <td>1</td>\n",
       "    </tr>\n",
       "    <tr>\n",
       "      <th>2</th>\n",
       "      <td>8300375</td>\n",
       "      <td>2</td>\n",
       "    </tr>\n",
       "    <tr>\n",
       "      <th>3</th>\n",
       "      <td>11685486</td>\n",
       "      <td>1</td>\n",
       "    </tr>\n",
       "    <tr>\n",
       "      <th>4</th>\n",
       "      <td>39475350</td>\n",
       "      <td>1</td>\n",
       "    </tr>\n",
       "    <tr>\n",
       "      <th>...</th>\n",
       "      <td>...</td>\n",
       "      <td>...</td>\n",
       "    </tr>\n",
       "    <tr>\n",
       "      <th>1026</th>\n",
       "      <td>4266935830</td>\n",
       "      <td>2</td>\n",
       "    </tr>\n",
       "    <tr>\n",
       "      <th>1027</th>\n",
       "      <td>4278982564</td>\n",
       "      <td>1</td>\n",
       "    </tr>\n",
       "    <tr>\n",
       "      <th>1028</th>\n",
       "      <td>4279090005</td>\n",
       "      <td>1</td>\n",
       "    </tr>\n",
       "    <tr>\n",
       "      <th>1029</th>\n",
       "      <td>4281247801</td>\n",
       "      <td>1</td>\n",
       "    </tr>\n",
       "    <tr>\n",
       "      <th>1030</th>\n",
       "      <td>4283872382</td>\n",
       "      <td>1</td>\n",
       "    </tr>\n",
       "  </tbody>\n",
       "</table>\n",
       "<p>1031 rows × 2 columns</p>\n",
       "</div>"
      ],
      "text/plain": [
       "          userId  orders\n",
       "0        5114589       1\n",
       "1        6958315       1\n",
       "2        8300375       2\n",
       "3       11685486       1\n",
       "4       39475350       1\n",
       "...          ...     ...\n",
       "1026  4266935830       2\n",
       "1027  4278982564       1\n",
       "1028  4279090005       1\n",
       "1029  4281247801       1\n",
       "1030  4283872382       1\n",
       "\n",
       "[1031 rows x 2 columns]"
      ]
     },
     "execution_count": 42,
     "metadata": {},
     "output_type": "execute_result"
    }
   ],
   "source": [
    "ordersByUsers"
   ]
  },
  {
   "cell_type": "code",
   "execution_count": 43,
   "metadata": {},
   "outputs": [
    {
     "data": {
      "text/html": [
       "<div>\n",
       "<style scoped>\n",
       "    .dataframe tbody tr th:only-of-type {\n",
       "        vertical-align: middle;\n",
       "    }\n",
       "\n",
       "    .dataframe tbody tr th {\n",
       "        vertical-align: top;\n",
       "    }\n",
       "\n",
       "    .dataframe thead th {\n",
       "        text-align: right;\n",
       "    }\n",
       "</style>\n",
       "<table border=\"1\" class=\"dataframe\">\n",
       "  <thead>\n",
       "    <tr style=\"text-align: right;\">\n",
       "      <th></th>\n",
       "      <th>userId</th>\n",
       "      <th>orders</th>\n",
       "    </tr>\n",
       "  </thead>\n",
       "  <tbody>\n",
       "    <tr>\n",
       "      <th>0</th>\n",
       "      <td>8300375</td>\n",
       "      <td>1</td>\n",
       "    </tr>\n",
       "    <tr>\n",
       "      <th>1</th>\n",
       "      <td>11685486</td>\n",
       "      <td>1</td>\n",
       "    </tr>\n",
       "    <tr>\n",
       "      <th>2</th>\n",
       "      <td>54447517</td>\n",
       "      <td>1</td>\n",
       "    </tr>\n",
       "    <tr>\n",
       "      <th>3</th>\n",
       "      <td>66685450</td>\n",
       "      <td>1</td>\n",
       "    </tr>\n",
       "    <tr>\n",
       "      <th>4</th>\n",
       "      <td>78758296</td>\n",
       "      <td>1</td>\n",
       "    </tr>\n",
       "    <tr>\n",
       "      <th>...</th>\n",
       "      <td>...</td>\n",
       "      <td>...</td>\n",
       "    </tr>\n",
       "    <tr>\n",
       "      <th>498</th>\n",
       "      <td>4243832526</td>\n",
       "      <td>1</td>\n",
       "    </tr>\n",
       "    <tr>\n",
       "      <th>499</th>\n",
       "      <td>4256040402</td>\n",
       "      <td>7</td>\n",
       "    </tr>\n",
       "    <tr>\n",
       "      <th>500</th>\n",
       "      <td>4259830713</td>\n",
       "      <td>1</td>\n",
       "    </tr>\n",
       "    <tr>\n",
       "      <th>501</th>\n",
       "      <td>4266935830</td>\n",
       "      <td>1</td>\n",
       "    </tr>\n",
       "    <tr>\n",
       "      <th>502</th>\n",
       "      <td>4278982564</td>\n",
       "      <td>1</td>\n",
       "    </tr>\n",
       "  </tbody>\n",
       "</table>\n",
       "<p>503 rows × 2 columns</p>\n",
       "</div>"
      ],
      "text/plain": [
       "         userId  orders\n",
       "0       8300375       1\n",
       "1      11685486       1\n",
       "2      54447517       1\n",
       "3      66685450       1\n",
       "4      78758296       1\n",
       "..          ...     ...\n",
       "498  4243832526       1\n",
       "499  4256040402       7\n",
       "500  4259830713       1\n",
       "501  4266935830       1\n",
       "502  4278982564       1\n",
       "\n",
       "[503 rows x 2 columns]"
      ]
     },
     "execution_count": 43,
     "metadata": {},
     "output_type": "execute_result"
    }
   ],
   "source": [
    "# количество заказов на пользователя\n",
    "ordersByUsersA = orders[orders['group']=='A'].groupby('user_Id', as_index=False).agg({'order_Id': pd.Series.nunique})\n",
    "ordersByUsersA.columns = ['userId', 'orders']\n",
    "ordersByUsersA"
   ]
  },
  {
   "cell_type": "code",
   "execution_count": 44,
   "metadata": {},
   "outputs": [
    {
     "data": {
      "text/html": [
       "<div>\n",
       "<style scoped>\n",
       "    .dataframe tbody tr th:only-of-type {\n",
       "        vertical-align: middle;\n",
       "    }\n",
       "\n",
       "    .dataframe tbody tr th {\n",
       "        vertical-align: top;\n",
       "    }\n",
       "\n",
       "    .dataframe thead th {\n",
       "        text-align: right;\n",
       "    }\n",
       "</style>\n",
       "<table border=\"1\" class=\"dataframe\">\n",
       "  <thead>\n",
       "    <tr style=\"text-align: right;\">\n",
       "      <th></th>\n",
       "      <th>userId</th>\n",
       "      <th>orders</th>\n",
       "    </tr>\n",
       "  </thead>\n",
       "  <tbody>\n",
       "    <tr>\n",
       "      <th>0</th>\n",
       "      <td>5114589</td>\n",
       "      <td>1</td>\n",
       "    </tr>\n",
       "    <tr>\n",
       "      <th>1</th>\n",
       "      <td>6958315</td>\n",
       "      <td>1</td>\n",
       "    </tr>\n",
       "    <tr>\n",
       "      <th>2</th>\n",
       "      <td>8300375</td>\n",
       "      <td>1</td>\n",
       "    </tr>\n",
       "    <tr>\n",
       "      <th>3</th>\n",
       "      <td>39475350</td>\n",
       "      <td>1</td>\n",
       "    </tr>\n",
       "    <tr>\n",
       "      <th>4</th>\n",
       "      <td>47206413</td>\n",
       "      <td>1</td>\n",
       "    </tr>\n",
       "    <tr>\n",
       "      <th>...</th>\n",
       "      <td>...</td>\n",
       "      <td>...</td>\n",
       "    </tr>\n",
       "    <tr>\n",
       "      <th>581</th>\n",
       "      <td>4258103007</td>\n",
       "      <td>1</td>\n",
       "    </tr>\n",
       "    <tr>\n",
       "      <th>582</th>\n",
       "      <td>4266935830</td>\n",
       "      <td>1</td>\n",
       "    </tr>\n",
       "    <tr>\n",
       "      <th>583</th>\n",
       "      <td>4279090005</td>\n",
       "      <td>1</td>\n",
       "    </tr>\n",
       "    <tr>\n",
       "      <th>584</th>\n",
       "      <td>4281247801</td>\n",
       "      <td>1</td>\n",
       "    </tr>\n",
       "    <tr>\n",
       "      <th>585</th>\n",
       "      <td>4283872382</td>\n",
       "      <td>1</td>\n",
       "    </tr>\n",
       "  </tbody>\n",
       "</table>\n",
       "<p>586 rows × 2 columns</p>\n",
       "</div>"
      ],
      "text/plain": [
       "         userId  orders\n",
       "0       5114589       1\n",
       "1       6958315       1\n",
       "2       8300375       1\n",
       "3      39475350       1\n",
       "4      47206413       1\n",
       "..          ...     ...\n",
       "581  4258103007       1\n",
       "582  4266935830       1\n",
       "583  4279090005       1\n",
       "584  4281247801       1\n",
       "585  4283872382       1\n",
       "\n",
       "[586 rows x 2 columns]"
      ]
     },
     "execution_count": 44,
     "metadata": {},
     "output_type": "execute_result"
    }
   ],
   "source": [
    "ordersByUsersB = orders[orders['group']=='B'].groupby('user_Id', as_index=False).agg({'order_Id': pd.Series.nunique})\n",
    "ordersByUsersB.columns = ['userId','orders']\n",
    "ordersByUsersB"
   ]
  },
  {
   "cell_type": "code",
   "execution_count": 45,
   "metadata": {},
   "outputs": [],
   "source": [
    "# количество посетителей в день\n",
    "visitorsADaily = visitors[visitors['group'] == 'A'][['date', 'visitors']]\n",
    "visitorsADaily.columns = ['date', 'visitorsPerDateA']"
   ]
  },
  {
   "cell_type": "code",
   "execution_count": 46,
   "metadata": {},
   "outputs": [],
   "source": [
    "visitorsBDaily = visitors[visitors['group'] == 'B'][['date', 'visitors']]\n",
    "visitorsBDaily.columns = ['date', 'visitorsPerDateB']"
   ]
  },
  {
   "cell_type": "code",
   "execution_count": 47,
   "metadata": {},
   "outputs": [],
   "source": [
    "# кумулятвное количество посетителей\n",
    "visitorsACummulative = visitorsADaily.apply(\n",
    "    lambda x: visitorsADaily[visitorsADaily['date'] <= x['date']].agg(\n",
    "        {'date': 'max', 'visitorsPerDateA': 'sum'}\n",
    "    ),\n",
    "    axis=1,\n",
    ")\n",
    "visitorsACummulative.columns = ['date', 'visitorsCummulativeA']"
   ]
  },
  {
   "cell_type": "code",
   "execution_count": 48,
   "metadata": {},
   "outputs": [],
   "source": [
    "visitorsBCummulative = visitorsBDaily.apply(\n",
    "    lambda x: visitorsBDaily[visitorsBDaily['date'] <= x['date']].agg(\n",
    "        {'date': 'max', 'visitorsPerDateB': 'sum'}\n",
    "    ),\n",
    "    axis=1,\n",
    ")\n",
    "visitorsBCummulative.columns = ['date', 'visitorsCummulativeB']"
   ]
  },
  {
   "cell_type": "code",
   "execution_count": 49,
   "metadata": {},
   "outputs": [],
   "source": [
    "# количество заказов в день\n",
    "ordersADaily = (\n",
    "    orders[orders['group'] == 'A'][['date', 'order_Id', 'user_Id', 'revenue']]\n",
    "    .groupby('date', as_index=False)\n",
    "    .agg({'order_Id': pd.Series.nunique, 'revenue': 'sum'})\n",
    ")\n",
    "ordersADaily.columns = ['date', 'ordersPerDateA', 'revenuePerDateA']\n"
   ]
  },
  {
   "cell_type": "code",
   "execution_count": 50,
   "metadata": {},
   "outputs": [],
   "source": [
    "# кумулятивное число заказов\n",
    "ordersACummulative = ordersADaily.apply(\n",
    "    lambda x: ordersADaily[ordersADaily['date'] <= x['date']].agg(\n",
    "        {'date': 'max', 'ordersPerDateA': 'sum', 'revenuePerDateA': 'sum'}\n",
    "    ),\n",
    "    axis=1,\n",
    ").sort_values(by=['date'])\n",
    "ordersACummulative.columns = [\n",
    "    'date',\n",
    "    'ordersCummulativeA',\n",
    "    'revenueCummulativeA',\n",
    "]\n"
   ]
  },
  {
   "cell_type": "code",
   "execution_count": 51,
   "metadata": {},
   "outputs": [],
   "source": [
    "ordersBDaily = (\n",
    "    orders[orders['group'] == 'B'][['date', 'order_Id', 'user_Id', 'revenue']]\n",
    "    .groupby('date', as_index=False)\n",
    "    .agg({'order_Id': pd.Series.nunique, 'revenue': 'sum'})\n",
    ")\n",
    "ordersBDaily.columns = ['date', 'ordersPerDateB', 'revenuePerDateB']"
   ]
  },
  {
   "cell_type": "code",
   "execution_count": 52,
   "metadata": {},
   "outputs": [],
   "source": [
    "ordersBCummulative = ordersBDaily.apply(\n",
    "    lambda x: ordersBDaily[ordersBDaily['date'] <= x['date']].agg(\n",
    "        {'date': 'max', 'ordersPerDateB': 'sum', 'revenuePerDateB': 'sum'}\n",
    "    ),\n",
    "    axis=1,\n",
    ").sort_values(by=['date'])\n",
    "ordersBCummulative.columns = [\n",
    "    'date',\n",
    "    'ordersCummulativeB',\n",
    "    'revenueCummulativeB',\n",
    "]"
   ]
  },
  {
   "cell_type": "code",
   "execution_count": 54,
   "metadata": {},
   "outputs": [
    {
     "data": {
      "text/html": [
       "<div>\n",
       "<style scoped>\n",
       "    .dataframe tbody tr th:only-of-type {\n",
       "        vertical-align: middle;\n",
       "    }\n",
       "\n",
       "    .dataframe tbody tr th {\n",
       "        vertical-align: top;\n",
       "    }\n",
       "\n",
       "    .dataframe thead th {\n",
       "        text-align: right;\n",
       "    }\n",
       "</style>\n",
       "<table border=\"1\" class=\"dataframe\">\n",
       "  <thead>\n",
       "    <tr style=\"text-align: right;\">\n",
       "      <th></th>\n",
       "      <th>date</th>\n",
       "      <th>ordersPerDateA</th>\n",
       "      <th>revenuePerDateA</th>\n",
       "      <th>ordersPerDateB</th>\n",
       "      <th>revenuePerDateB</th>\n",
       "      <th>ordersCummulativeA</th>\n",
       "      <th>revenueCummulativeA</th>\n",
       "      <th>ordersCummulativeB</th>\n",
       "      <th>revenueCummulativeB</th>\n",
       "      <th>visitorsPerDateA</th>\n",
       "      <th>visitorsPerDateB</th>\n",
       "      <th>visitorsCummulativeA</th>\n",
       "      <th>visitorsCummulativeB</th>\n",
       "    </tr>\n",
       "  </thead>\n",
       "  <tbody>\n",
       "    <tr>\n",
       "      <th>0</th>\n",
       "      <td>2019-08-01</td>\n",
       "      <td>24</td>\n",
       "      <td>148579</td>\n",
       "      <td>21</td>\n",
       "      <td>101217</td>\n",
       "      <td>24</td>\n",
       "      <td>148579</td>\n",
       "      <td>21</td>\n",
       "      <td>101217</td>\n",
       "      <td>719</td>\n",
       "      <td>713</td>\n",
       "      <td>719</td>\n",
       "      <td>713</td>\n",
       "    </tr>\n",
       "    <tr>\n",
       "      <th>1</th>\n",
       "      <td>2019-08-02</td>\n",
       "      <td>20</td>\n",
       "      <td>93822</td>\n",
       "      <td>24</td>\n",
       "      <td>165531</td>\n",
       "      <td>44</td>\n",
       "      <td>242401</td>\n",
       "      <td>45</td>\n",
       "      <td>266748</td>\n",
       "      <td>619</td>\n",
       "      <td>581</td>\n",
       "      <td>1338</td>\n",
       "      <td>1294</td>\n",
       "    </tr>\n",
       "    <tr>\n",
       "      <th>2</th>\n",
       "      <td>2019-08-03</td>\n",
       "      <td>24</td>\n",
       "      <td>112473</td>\n",
       "      <td>16</td>\n",
       "      <td>114248</td>\n",
       "      <td>68</td>\n",
       "      <td>354874</td>\n",
       "      <td>61</td>\n",
       "      <td>380996</td>\n",
       "      <td>507</td>\n",
       "      <td>509</td>\n",
       "      <td>1845</td>\n",
       "      <td>1803</td>\n",
       "    </tr>\n",
       "    <tr>\n",
       "      <th>3</th>\n",
       "      <td>2019-08-04</td>\n",
       "      <td>16</td>\n",
       "      <td>70825</td>\n",
       "      <td>17</td>\n",
       "      <td>108571</td>\n",
       "      <td>84</td>\n",
       "      <td>425699</td>\n",
       "      <td>78</td>\n",
       "      <td>489567</td>\n",
       "      <td>717</td>\n",
       "      <td>770</td>\n",
       "      <td>2562</td>\n",
       "      <td>2573</td>\n",
       "    </tr>\n",
       "    <tr>\n",
       "      <th>4</th>\n",
       "      <td>2019-08-05</td>\n",
       "      <td>25</td>\n",
       "      <td>124218</td>\n",
       "      <td>23</td>\n",
       "      <td>92428</td>\n",
       "      <td>109</td>\n",
       "      <td>549917</td>\n",
       "      <td>101</td>\n",
       "      <td>581995</td>\n",
       "      <td>756</td>\n",
       "      <td>707</td>\n",
       "      <td>3318</td>\n",
       "      <td>3280</td>\n",
       "    </tr>\n",
       "  </tbody>\n",
       "</table>\n",
       "</div>"
      ],
      "text/plain": [
       "        date  ordersPerDateA  revenuePerDateA  ordersPerDateB  \\\n",
       "0 2019-08-01              24           148579              21   \n",
       "1 2019-08-02              20            93822              24   \n",
       "2 2019-08-03              24           112473              16   \n",
       "3 2019-08-04              16            70825              17   \n",
       "4 2019-08-05              25           124218              23   \n",
       "\n",
       "   revenuePerDateB  ordersCummulativeA  revenueCummulativeA  \\\n",
       "0           101217                  24               148579   \n",
       "1           165531                  44               242401   \n",
       "2           114248                  68               354874   \n",
       "3           108571                  84               425699   \n",
       "4            92428                 109               549917   \n",
       "\n",
       "   ordersCummulativeB  revenueCummulativeB  visitorsPerDateA  \\\n",
       "0                  21               101217               719   \n",
       "1                  45               266748               619   \n",
       "2                  61               380996               507   \n",
       "3                  78               489567               717   \n",
       "4                 101               581995               756   \n",
       "\n",
       "   visitorsPerDateB  visitorsCummulativeA  visitorsCummulativeB  \n",
       "0               713                   719                   713  \n",
       "1               581                  1338                  1294  \n",
       "2               509                  1845                  1803  \n",
       "3               770                  2562                  2573  \n",
       "4               707                  3318                  3280  "
      ]
     },
     "metadata": {},
     "output_type": "display_data"
    }
   ],
   "source": [
    "data = (\n",
    "    ordersADaily.merge(\n",
    "        ordersBDaily, left_on='date', right_on='date', how='left'\n",
    "    )\n",
    "    .merge(ordersACummulative, left_on='date', right_on='date', how='left')\n",
    "    .merge(ordersBCummulative, left_on='date', right_on='date', how='left')\n",
    "    .merge(visitorsADaily, left_on='date', right_on='date', how='left')\n",
    "    .merge(visitorsBDaily, left_on='date', right_on='date', how='left')\n",
    "    .merge(visitorsACummulative, left_on='date', right_on='date', how='left')\n",
    "    .merge(visitorsBCummulative, left_on='date', right_on='date', how='left')\n",
    ")\n",
    "\n",
    "display(data.head(5))"
   ]
  },
  {
   "cell_type": "code",
   "execution_count": 63,
   "metadata": {},
   "outputs": [
    {
     "data": {
      "text/html": [
       "<div>\n",
       "<style scoped>\n",
       "    .dataframe tbody tr th:only-of-type {\n",
       "        vertical-align: middle;\n",
       "    }\n",
       "\n",
       "    .dataframe tbody tr th {\n",
       "        vertical-align: top;\n",
       "    }\n",
       "\n",
       "    .dataframe thead th {\n",
       "        text-align: right;\n",
       "    }\n",
       "</style>\n",
       "<table border=\"1\" class=\"dataframe\">\n",
       "  <thead>\n",
       "    <tr style=\"text-align: right;\">\n",
       "      <th></th>\n",
       "      <th>userId</th>\n",
       "      <th>orders</th>\n",
       "    </tr>\n",
       "  </thead>\n",
       "  <tbody>\n",
       "    <tr>\n",
       "      <th>0</th>\n",
       "      <td>8300375</td>\n",
       "      <td>1</td>\n",
       "    </tr>\n",
       "    <tr>\n",
       "      <th>1</th>\n",
       "      <td>11685486</td>\n",
       "      <td>1</td>\n",
       "    </tr>\n",
       "    <tr>\n",
       "      <th>2</th>\n",
       "      <td>54447517</td>\n",
       "      <td>1</td>\n",
       "    </tr>\n",
       "    <tr>\n",
       "      <th>3</th>\n",
       "      <td>66685450</td>\n",
       "      <td>1</td>\n",
       "    </tr>\n",
       "    <tr>\n",
       "      <th>4</th>\n",
       "      <td>78758296</td>\n",
       "      <td>1</td>\n",
       "    </tr>\n",
       "    <tr>\n",
       "      <th>...</th>\n",
       "      <td>...</td>\n",
       "      <td>...</td>\n",
       "    </tr>\n",
       "    <tr>\n",
       "      <th>498</th>\n",
       "      <td>4243832526</td>\n",
       "      <td>1</td>\n",
       "    </tr>\n",
       "    <tr>\n",
       "      <th>499</th>\n",
       "      <td>4256040402</td>\n",
       "      <td>7</td>\n",
       "    </tr>\n",
       "    <tr>\n",
       "      <th>500</th>\n",
       "      <td>4259830713</td>\n",
       "      <td>1</td>\n",
       "    </tr>\n",
       "    <tr>\n",
       "      <th>501</th>\n",
       "      <td>4266935830</td>\n",
       "      <td>1</td>\n",
       "    </tr>\n",
       "    <tr>\n",
       "      <th>502</th>\n",
       "      <td>4278982564</td>\n",
       "      <td>1</td>\n",
       "    </tr>\n",
       "  </tbody>\n",
       "</table>\n",
       "<p>503 rows × 2 columns</p>\n",
       "</div>"
      ],
      "text/plain": [
       "         userId  orders\n",
       "0       8300375       1\n",
       "1      11685486       1\n",
       "2      54447517       1\n",
       "3      66685450       1\n",
       "4      78758296       1\n",
       "..          ...     ...\n",
       "498  4243832526       1\n",
       "499  4256040402       7\n",
       "500  4259830713       1\n",
       "501  4266935830       1\n",
       "502  4278982564       1\n",
       "\n",
       "[503 rows x 2 columns]"
      ]
     },
     "execution_count": 63,
     "metadata": {},
     "output_type": "execute_result"
    }
   ],
   "source": [
    "ordersByUsersA = orders[orders['group']=='A'].groupby('user_Id', as_index=False).agg({'order_Id': pd.Series.nunique})\n",
    "ordersByUsersA.columns = ['userId', 'orders']\n",
    "ordersByUsersA"
   ]
  },
  {
   "cell_type": "code",
   "execution_count": 64,
   "metadata": {},
   "outputs": [],
   "source": [
    "ordersByUsersB = orders[orders['group']=='B'].groupby('user_Id', as_index=False).agg({'order_Id': pd.Series.nunique})\n",
    "ordersByUsersB.columns = ['userId','orders']"
   ]
  },
  {
   "cell_type": "code",
   "execution_count": 65,
   "metadata": {},
   "outputs": [],
   "source": [
    "sampleA = pd.concat([ordersByUsersA['orders'],pd.Series(0, index=np.arange(data['visitorsPerDateA'].sum() - len(ordersByUsersA['orders'])), name='orders')],axis=0)"
   ]
  },
  {
   "cell_type": "code",
   "execution_count": 66,
   "metadata": {},
   "outputs": [],
   "source": [
    "sampleB = pd.concat([ordersByUsersB['orders'],pd.Series(0, index=np.arange(data['visitorsPerDateB'].sum() - len(ordersByUsersB['orders'])), name='orders')],axis=0) "
   ]
  },
  {
   "cell_type": "code",
   "execution_count": 67,
   "metadata": {},
   "outputs": [
    {
     "name": "stdout",
     "output_type": "stream",
     "text": [
      "Значение p-value: 0.017\n",
      "Относительное изменение количества заказов: 0.138\n"
     ]
    }
   ],
   "source": [
    "print(\"Значение p-value: {0:.3f}\".format(stats.mannwhitneyu(sampleA, sampleB)[1]))\n",
    "\n",
    "print(\"Относительное изменение количества заказов: {0:.3f}\".format(sampleB.mean() / sampleA.mean() - 1))"
   ]
  },
  {
   "cell_type": "markdown",
   "metadata": {},
   "source": [
    "Получается, что значение p-value 1.68%, значит нулевая гипотеза о равенстве средних количествах заказов не верна.\n",
    "При этом количество заказов в группе В на 13.8% больше, чем в группе А"
   ]
  },
  {
   "cell_type": "markdown",
   "metadata": {},
   "source": [
    "### Посчитайте статистическую значимость различий в среднем чеке заказа между группами по «сырым» данным. Сделайте выводы и предположения."
   ]
  },
  {
   "cell_type": "markdown",
   "metadata": {},
   "source": [
    "<b>Нулевая гипотеза:</b> средний чек не изменился\n",
    "\n",
    "<b>Альтернативная гипотеза:</b> средний чек увеличился"
   ]
  },
  {
   "cell_type": "code",
   "execution_count": 68,
   "metadata": {},
   "outputs": [
    {
     "name": "stdout",
     "output_type": "stream",
     "text": [
      "Значение p-value: 0.729\n",
      "Относительное изменение среднего чека: 0.259\n"
     ]
    }
   ],
   "source": [
    "print('Значение p-value: {0:.3f}'.format(stats.mannwhitneyu(orders[orders['group']=='A']['revenue'], orders[orders['group']=='B']['revenue'])[1]))\n",
    "print('Относительное изменение среднего чека: {0:.3f}'.format(orders[orders['group']=='B']['revenue'].mean()/orders[orders['group']=='A']['revenue'].mean() -1))"
   ]
  },
  {
   "cell_type": "markdown",
   "metadata": {},
   "source": [
    "Значение p-value 73%, что говорит о том, что гипотезу о равенстве средних чеков отбросить нельзя\n",
    "\n",
    "Однако при этом средний чек вырос на 26%\n",
    "\n",
    "Причина может быть в выбросах среднего чека"
   ]
  },
  {
   "cell_type": "markdown",
   "metadata": {},
   "source": [
    "### Посчитайте статистическую значимость различий в среднем количестве заказов на посетителя между группами по «очищенным» данным. Сделайте выводы и предположения."
   ]
  },
  {
   "cell_type": "markdown",
   "metadata": {},
   "source": [
    "<b>Нулевая гипотеза:</b> средние количества заказов на посетителя по очищенным данным равны\n",
    "\n",
    "<b>Альтернативная гипотеза:</b> средние количества заказов на посетителя по очищенным данным изменились"
   ]
  },
  {
   "cell_type": "markdown",
   "metadata": {},
   "source": [
    "Отберем те данные, которые соответствуют пользоватлям, совершившим более 2 покупок или на сумму больше 28000"
   ]
  },
  {
   "cell_type": "code",
   "execution_count": 69,
   "metadata": {},
   "outputs": [],
   "source": [
    "# отберем пользователей-выбросов\n",
    "usersWithManyOrders = pd.concat(\n",
    "[\n",
    "    ordersByUsersA[ordersByUsersA['orders'] > 2]['userId'],\n",
    "    ordersByUsersB[ordersByUsersB['orders'] > 2]['userId']\n",
    "],\n",
    "axis=0,\n",
    ")\n",
    "usersWithExpensiveOrders = orders[orders['revenue'] > 28000]['user_Id']"
   ]
  },
  {
   "cell_type": "code",
   "execution_count": 70,
   "metadata": {},
   "outputs": [],
   "source": [
    "abnormalUsers = pd.concat([usersWithManyOrders, usersWithExpensiveOrders], axis=0).drop_duplicates().sort_values()"
   ]
  },
  {
   "cell_type": "code",
   "execution_count": 71,
   "metadata": {},
   "outputs": [],
   "source": [
    "sampleAFiltered = pd.concat(\n",
    "    [\n",
    "        ordersByUsersA[\n",
    "            np.logical_not(ordersByUsersA['userId'].isin(abnormalUsers))\n",
    "        ]['orders'],\n",
    "        pd.Series(\n",
    "            0,\n",
    "            index=np.arange(\n",
    "                data['visitorsPerDateA'].sum() - len(ordersByUsersA['orders'])\n",
    "            ),\n",
    "            name='orders',\n",
    "        ),\n",
    "    ],\n",
    "    axis=0,\n",
    ")\n",
    "\n",
    "sampleBFiltered = pd.concat(\n",
    "    [\n",
    "        ordersByUsersB[\n",
    "            np.logical_not(ordersByUsersB['userId'].isin(abnormalUsers))\n",
    "        ]['orders'],\n",
    "        pd.Series(\n",
    "            0,\n",
    "            index=np.arange(\n",
    "                data['visitorsPerDateB'].sum() - len(ordersByUsersB['orders'])\n",
    "            ),\n",
    "            name='orders',\n",
    "        ),\n",
    "    ],\n",
    "    axis=0,\n",
    ")\n"
   ]
  },
  {
   "cell_type": "code",
   "execution_count": 72,
   "metadata": {},
   "outputs": [
    {
     "name": "stdout",
     "output_type": "stream",
     "text": [
      "Значение p-value: 0.013\n",
      "Относительное изменение среднего количества заказов: 0.173\n"
     ]
    }
   ],
   "source": [
    "print('Значение p-value: {0:.3f}'.format(stats.mannwhitneyu(sampleAFiltered, sampleBFiltered)[1]))\n",
    "print('Относительное изменение среднего количества заказов: {0:.3f}'.format(sampleBFiltered.mean()/sampleAFiltered.mean()-1))"
   ]
  },
  {
   "cell_type": "markdown",
   "metadata": {},
   "source": [
    "Значение p-value 1.3%, значит гипотезу о равенстве среднем количестве заказов стоит отвергнуть\n",
    "\n",
    "Среднее количество заказов в группе В больше на 17.3%, чем в группе А"
   ]
  },
  {
   "cell_type": "markdown",
   "metadata": {},
   "source": [
    "### Посчитайте статистическую значимость различий в среднем чеке заказа между группами по «очищенным» данным. Сделайте выводы и предположения."
   ]
  },
  {
   "cell_type": "markdown",
   "metadata": {},
   "source": [
    "<b>Нулевая гипотеза:</b> Средний чек по очищенным данным одинаковый\n",
    "\n",
    "<b>Альтернативная гипотеза:</b> средний чек по очищенным данным изменился"
   ]
  },
  {
   "cell_type": "code",
   "execution_count": 73,
   "metadata": {},
   "outputs": [
    {
     "name": "stdout",
     "output_type": "stream",
     "text": [
      "0.738\n"
     ]
    }
   ],
   "source": [
    "print(\n",
    "    '{0:.3f}'.format(\n",
    "        stats.mannwhitneyu(\n",
    "            orders[\n",
    "                np.logical_and(\n",
    "                    orders['group'] == 'A',\n",
    "                    np.logical_not(orders['user_Id'].isin(abnormalUsers)),\n",
    "                )\n",
    "            ]['revenue'],\n",
    "            orders[\n",
    "                np.logical_and(\n",
    "                    orders['group'] == 'B',\n",
    "                    np.logical_not(orders['user_Id'].isin(abnormalUsers)),\n",
    "                )\n",
    "            ]['revenue'],\n",
    "        )[1]\n",
    "    )\n",
    ")\n",
    "\n"
   ]
  },
  {
   "cell_type": "code",
   "execution_count": 74,
   "metadata": {},
   "outputs": [
    {
     "name": "stdout",
     "output_type": "stream",
     "text": [
      "-0.020\n"
     ]
    }
   ],
   "source": [
    "print(\n",
    "    \"{0:.3f}\".format(\n",
    "        orders[\n",
    "            np.logical_and(\n",
    "                orders['group'] == 'B',\n",
    "                np.logical_not(orders['user_Id'].isin(abnormalUsers)),\n",
    "            )\n",
    "        ]['revenue'].mean()\n",
    "        / orders[\n",
    "            np.logical_and(\n",
    "                orders['group'] == 'A',\n",
    "                np.logical_not(orders['user_Id'].isin(abnormalUsers)),\n",
    "            )\n",
    "        ]['revenue'].mean()\n",
    "        - 1\n",
    "    )\n",
    ")"
   ]
  },
  {
   "cell_type": "markdown",
   "metadata": {},
   "source": [
    "Значение p-value 73.8%, значит гипотезу о равенстве средних чеков нельзя отвергнуть\n",
    "\n",
    "Однако средний чек уменьшился на 2%"
   ]
  },
  {
   "cell_type": "markdown",
   "metadata": {},
   "source": [
    "## Заключение"
   ]
  },
  {
   "cell_type": "markdown",
   "metadata": {},
   "source": [
    "В результате проделанной работы можно сделать следующие выводы:\n",
    "- из предложенных гипотез стоит выделить\n",
    "    - Добавить 2 новых канала привлечения трафика, что позволит привлекать на 30% больше пользователей\n",
    "    - Добавить форму подписки на все основные страницы, чтобы собрать базу клиентов для e-mail-рассылок\n",
    "  У данных гипотез наибольшие коэффициенты ICE и RICE\n",
    "  \n",
    "- Из графиков видно, что у группы B больше средний чек и количество заказов по неочищенным данным (средний чек из-за выбросов трудно подсчитать, а количество заказов больше на 10-15%)\n",
    "- Большинство людей делают только 1 заказ, при этом цана заказа в 95% случаев меньше 28.000 у.е.\n",
    "- Гипотеза о равенстве средних количествах заказов по сырым данным оказалась неверной (р=0.018)\n",
    "- Гипотеза о равенстве средних чеков по сырым данным имеет место быть (р=0.729), хотя средний чек вырос на 26%, причиной этого служит аномальное значение выброса, превосходящее другие на порядок\n",
    "- Гипотеза о равенстве среднего количества заказов по очищенным данным оказалась неверной (р=0.013)\n",
    "- Гипотеза о равенстве средних чеков у очищенных данных нельзя отвергнуть (р=0.738), при этом средний чек уменьшился на 2%\n",
    "\n",
    "Исходя из полученных результатов можно отметить, что конверсия группы B больше, чем у группы А, хотя при этом средний чек остался примерно таким же, соответственно можно остановить тест и признать его результаты положительными."
   ]
  }
 ],
 "metadata": {
  "ExecuteTimeLog": [
   {
    "duration": 1312,
    "start_time": "2023-11-26T14:10:00.780Z"
   },
   {
    "duration": 68,
    "start_time": "2023-11-26T14:10:45.933Z"
   },
   {
    "duration": 95,
    "start_time": "2023-11-26T14:11:21.555Z"
   },
   {
    "duration": 51,
    "start_time": "2023-11-26T14:11:58.342Z"
   },
   {
    "duration": 1539,
    "start_time": "2023-11-26T14:17:53.490Z"
   },
   {
    "duration": 2,
    "start_time": "2023-11-26T14:17:59.183Z"
   },
   {
    "duration": 11,
    "start_time": "2023-11-26T14:18:00.010Z"
   },
   {
    "duration": 7,
    "start_time": "2023-11-26T14:19:29.597Z"
   },
   {
    "duration": 8,
    "start_time": "2023-11-26T14:20:44.513Z"
   },
   {
    "duration": 12,
    "start_time": "2023-11-26T14:59:16.203Z"
   },
   {
    "duration": 7,
    "start_time": "2023-11-26T14:59:26.888Z"
   },
   {
    "duration": 6,
    "start_time": "2023-11-26T14:59:40.917Z"
   },
   {
    "duration": 11,
    "start_time": "2023-11-26T15:13:37.278Z"
   },
   {
    "duration": 101,
    "start_time": "2023-11-26T15:14:14.300Z"
   },
   {
    "duration": 445,
    "start_time": "2023-11-26T15:14:35.888Z"
   },
   {
    "duration": 3,
    "start_time": "2023-11-26T15:14:52.308Z"
   },
   {
    "duration": 12,
    "start_time": "2023-11-26T15:14:56.139Z"
   },
   {
    "duration": 8,
    "start_time": "2023-11-26T15:15:04.901Z"
   },
   {
    "duration": 11,
    "start_time": "2023-11-26T15:15:11.743Z"
   },
   {
    "duration": 10,
    "start_time": "2023-11-26T15:16:32.188Z"
   },
   {
    "duration": 10,
    "start_time": "2023-11-26T15:16:42.867Z"
   },
   {
    "duration": 28,
    "start_time": "2023-11-26T15:19:29.038Z"
   },
   {
    "duration": 171,
    "start_time": "2023-11-26T15:21:18.582Z"
   },
   {
    "duration": 6,
    "start_time": "2023-11-26T15:27:18.394Z"
   },
   {
    "duration": 150,
    "start_time": "2023-11-26T15:27:44.584Z"
   },
   {
    "duration": 20,
    "start_time": "2023-11-26T15:27:56.672Z"
   },
   {
    "duration": 12,
    "start_time": "2023-11-26T15:28:32.187Z"
   },
   {
    "duration": 125,
    "start_time": "2023-11-26T15:30:27.882Z"
   },
   {
    "duration": 11,
    "start_time": "2023-11-26T15:30:40.052Z"
   },
   {
    "duration": 10,
    "start_time": "2023-11-26T15:30:49.116Z"
   },
   {
    "duration": 7,
    "start_time": "2023-11-26T15:32:08.840Z"
   },
   {
    "duration": 7,
    "start_time": "2023-11-26T15:32:25.372Z"
   },
   {
    "duration": 228,
    "start_time": "2023-11-26T15:32:34.620Z"
   },
   {
    "duration": 162,
    "start_time": "2023-11-26T16:02:10.091Z"
   },
   {
    "duration": 235,
    "start_time": "2023-11-26T16:07:00.652Z"
   },
   {
    "duration": 9,
    "start_time": "2023-11-26T16:07:30.434Z"
   },
   {
    "duration": 5,
    "start_time": "2023-11-26T16:09:10.157Z"
   },
   {
    "duration": 141,
    "start_time": "2023-11-26T16:09:11.224Z"
   },
   {
    "duration": 10,
    "start_time": "2023-11-26T16:24:38.150Z"
   },
   {
    "duration": 12,
    "start_time": "2023-11-26T16:39:18.609Z"
   },
   {
    "duration": 15,
    "start_time": "2023-11-26T16:43:07.456Z"
   },
   {
    "duration": 138,
    "start_time": "2023-11-26T16:43:45.694Z"
   },
   {
    "duration": 9,
    "start_time": "2023-11-26T16:43:48.532Z"
   },
   {
    "duration": 11,
    "start_time": "2023-11-26T16:44:57.103Z"
   },
   {
    "duration": 68,
    "start_time": "2023-11-26T16:45:10.613Z"
   },
   {
    "duration": 6,
    "start_time": "2023-11-26T16:45:18.169Z"
   },
   {
    "duration": 404,
    "start_time": "2023-11-26T16:45:28.233Z"
   },
   {
    "duration": 14,
    "start_time": "2023-11-26T16:45:33.338Z"
   },
   {
    "duration": 30,
    "start_time": "2023-11-26T16:45:58.347Z"
   },
   {
    "duration": 52,
    "start_time": "2023-11-26T16:46:00.004Z"
   },
   {
    "duration": 5,
    "start_time": "2023-11-26T16:46:25.882Z"
   },
   {
    "duration": 6,
    "start_time": "2023-11-26T16:46:26.418Z"
   },
   {
    "duration": 10,
    "start_time": "2023-11-26T16:46:28.446Z"
   },
   {
    "duration": 11,
    "start_time": "2023-11-26T16:46:31.037Z"
   },
   {
    "duration": 8,
    "start_time": "2023-11-26T16:46:32.028Z"
   },
   {
    "duration": 10,
    "start_time": "2023-11-26T16:46:34.993Z"
   },
   {
    "duration": 9,
    "start_time": "2023-11-26T16:46:46.797Z"
   },
   {
    "duration": 4,
    "start_time": "2023-11-26T16:46:50.908Z"
   },
   {
    "duration": 9,
    "start_time": "2023-11-26T16:46:57.253Z"
   },
   {
    "duration": 12,
    "start_time": "2023-11-26T16:47:00.744Z"
   },
   {
    "duration": 168,
    "start_time": "2023-11-26T16:47:03.623Z"
   },
   {
    "duration": 111,
    "start_time": "2023-11-26T16:47:23.625Z"
   },
   {
    "duration": 11,
    "start_time": "2023-11-26T16:47:28.797Z"
   },
   {
    "duration": 10,
    "start_time": "2023-11-26T16:47:30.811Z"
   },
   {
    "duration": 6,
    "start_time": "2023-11-26T16:47:38.616Z"
   },
   {
    "duration": 6,
    "start_time": "2023-11-26T16:47:42.875Z"
   },
   {
    "duration": 161,
    "start_time": "2023-11-26T16:47:43.704Z"
   },
   {
    "duration": 182,
    "start_time": "2023-11-26T16:47:50.949Z"
   },
   {
    "duration": 5,
    "start_time": "2023-11-26T16:47:55.522Z"
   },
   {
    "duration": 155,
    "start_time": "2023-11-26T16:47:56.330Z"
   },
   {
    "duration": 11,
    "start_time": "2023-11-26T16:48:06.742Z"
   },
   {
    "duration": 15,
    "start_time": "2023-11-26T19:43:36.035Z"
   },
   {
    "duration": 4,
    "start_time": "2023-11-26T19:46:10.937Z"
   },
   {
    "duration": 179,
    "start_time": "2023-11-26T19:47:01.799Z"
   },
   {
    "duration": 7,
    "start_time": "2023-11-26T19:49:28.376Z"
   },
   {
    "duration": 21,
    "start_time": "2023-11-26T19:50:02.998Z"
   },
   {
    "duration": 138,
    "start_time": "2023-11-26T19:52:16.209Z"
   },
   {
    "duration": 9,
    "start_time": "2023-11-26T19:59:55.904Z"
   },
   {
    "duration": 13,
    "start_time": "2023-11-26T20:00:26.594Z"
   },
   {
    "duration": 7,
    "start_time": "2023-11-26T20:01:21.649Z"
   },
   {
    "duration": 122,
    "start_time": "2023-11-26T20:01:25.157Z"
   },
   {
    "duration": 4,
    "start_time": "2023-11-26T20:04:07.671Z"
   },
   {
    "duration": 8,
    "start_time": "2023-11-26T20:05:42.177Z"
   },
   {
    "duration": 127,
    "start_time": "2023-11-26T20:06:00.517Z"
   },
   {
    "duration": 4,
    "start_time": "2023-11-26T20:07:43.464Z"
   },
   {
    "duration": 1323,
    "start_time": "2023-11-27T10:09:24.987Z"
   },
   {
    "duration": 69,
    "start_time": "2023-11-27T10:09:26.312Z"
   },
   {
    "duration": 57,
    "start_time": "2023-11-27T10:09:26.382Z"
   },
   {
    "duration": 85,
    "start_time": "2023-11-27T10:09:26.441Z"
   },
   {
    "duration": 3,
    "start_time": "2023-11-27T10:09:26.527Z"
   },
   {
    "duration": 10,
    "start_time": "2023-11-27T10:09:26.532Z"
   },
   {
    "duration": 8,
    "start_time": "2023-11-27T10:09:26.543Z"
   },
   {
    "duration": 5,
    "start_time": "2023-11-27T10:09:26.552Z"
   },
   {
    "duration": 7,
    "start_time": "2023-11-27T10:09:26.558Z"
   },
   {
    "duration": 10,
    "start_time": "2023-11-27T10:09:26.567Z"
   },
   {
    "duration": 20,
    "start_time": "2023-11-27T10:09:26.579Z"
   },
   {
    "duration": 11,
    "start_time": "2023-11-27T10:09:26.600Z"
   },
   {
    "duration": 15,
    "start_time": "2023-11-27T10:09:26.613Z"
   },
   {
    "duration": 5,
    "start_time": "2023-11-27T10:09:26.629Z"
   },
   {
    "duration": 11,
    "start_time": "2023-11-27T10:09:26.636Z"
   },
   {
    "duration": 13,
    "start_time": "2023-11-27T10:09:26.664Z"
   },
   {
    "duration": 169,
    "start_time": "2023-11-27T10:09:26.678Z"
   },
   {
    "duration": 119,
    "start_time": "2023-11-27T10:09:26.849Z"
   },
   {
    "duration": 12,
    "start_time": "2023-11-27T10:09:26.970Z"
   },
   {
    "duration": 10,
    "start_time": "2023-11-27T10:09:26.984Z"
   },
   {
    "duration": 6,
    "start_time": "2023-11-27T10:09:26.996Z"
   },
   {
    "duration": 10,
    "start_time": "2023-11-27T10:09:27.003Z"
   },
   {
    "duration": 274,
    "start_time": "2023-11-27T10:09:27.015Z"
   },
   {
    "duration": 176,
    "start_time": "2023-11-27T10:09:27.291Z"
   },
   {
    "duration": 6,
    "start_time": "2023-11-27T10:09:27.468Z"
   },
   {
    "duration": 162,
    "start_time": "2023-11-27T10:09:27.475Z"
   },
   {
    "duration": 12,
    "start_time": "2023-11-27T10:09:27.638Z"
   },
   {
    "duration": 14,
    "start_time": "2023-11-27T10:09:27.664Z"
   },
   {
    "duration": 4,
    "start_time": "2023-11-27T10:09:27.680Z"
   },
   {
    "duration": 204,
    "start_time": "2023-11-27T10:09:27.685Z"
   },
   {
    "duration": 20,
    "start_time": "2023-11-27T10:09:27.891Z"
   },
   {
    "duration": 166,
    "start_time": "2023-11-27T10:09:27.913Z"
   },
   {
    "duration": 6,
    "start_time": "2023-11-27T10:09:28.080Z"
   },
   {
    "duration": 118,
    "start_time": "2023-11-27T10:09:28.087Z"
   },
   {
    "duration": 3,
    "start_time": "2023-11-27T10:09:28.207Z"
   },
   {
    "duration": 132,
    "start_time": "2023-11-27T10:09:28.211Z"
   },
   {
    "duration": 4,
    "start_time": "2023-11-27T10:09:28.344Z"
   },
   {
    "duration": 1635,
    "start_time": "2023-11-27T10:09:28.349Z"
   },
   {
    "duration": 9,
    "start_time": "2023-11-27T10:10:00.253Z"
   },
   {
    "duration": 14,
    "start_time": "2023-11-27T10:14:24.034Z"
   },
   {
    "duration": 66,
    "start_time": "2023-11-27T10:15:16.281Z"
   },
   {
    "duration": 73,
    "start_time": "2023-11-27T10:15:50.884Z"
   },
   {
    "duration": 10,
    "start_time": "2023-11-27T10:16:07.956Z"
   },
   {
    "duration": 6,
    "start_time": "2023-11-27T10:19:03.237Z"
   },
   {
    "duration": 5,
    "start_time": "2023-11-27T10:19:34.343Z"
   },
   {
    "duration": 45,
    "start_time": "2023-11-27T10:30:18.412Z"
   },
   {
    "duration": 43,
    "start_time": "2023-11-27T10:30:48.459Z"
   },
   {
    "duration": 15,
    "start_time": "2023-11-27T10:32:01.822Z"
   },
   {
    "duration": 14,
    "start_time": "2023-11-27T10:32:23.808Z"
   },
   {
    "duration": 47,
    "start_time": "2023-11-27T10:32:52.715Z"
   },
   {
    "duration": 21,
    "start_time": "2023-11-27T10:33:19.110Z"
   },
   {
    "duration": 28,
    "start_time": "2023-11-27T10:33:35.563Z"
   },
   {
    "duration": 13,
    "start_time": "2023-11-27T10:33:54.551Z"
   },
   {
    "duration": 47,
    "start_time": "2023-11-27T10:34:08.780Z"
   },
   {
    "duration": 25,
    "start_time": "2023-11-27T10:34:17.929Z"
   },
   {
    "duration": 14,
    "start_time": "2023-11-27T10:34:38.121Z"
   },
   {
    "duration": 47,
    "start_time": "2023-11-27T14:35:58.154Z"
   },
   {
    "duration": 1356,
    "start_time": "2023-11-27T14:36:16.857Z"
   },
   {
    "duration": 69,
    "start_time": "2023-11-27T14:36:18.215Z"
   },
   {
    "duration": 56,
    "start_time": "2023-11-27T14:36:18.285Z"
   },
   {
    "duration": 83,
    "start_time": "2023-11-27T14:36:18.343Z"
   },
   {
    "duration": 3,
    "start_time": "2023-11-27T14:36:18.428Z"
   },
   {
    "duration": 30,
    "start_time": "2023-11-27T14:36:18.433Z"
   },
   {
    "duration": 13,
    "start_time": "2023-11-27T14:36:18.465Z"
   },
   {
    "duration": 23,
    "start_time": "2023-11-27T14:36:18.480Z"
   },
   {
    "duration": 16,
    "start_time": "2023-11-27T14:36:18.504Z"
   },
   {
    "duration": 28,
    "start_time": "2023-11-27T14:36:18.522Z"
   },
   {
    "duration": 25,
    "start_time": "2023-11-27T14:36:18.552Z"
   },
   {
    "duration": 10,
    "start_time": "2023-11-27T14:36:18.578Z"
   },
   {
    "duration": 9,
    "start_time": "2023-11-27T14:36:18.590Z"
   },
   {
    "duration": 4,
    "start_time": "2023-11-27T14:36:18.602Z"
   },
   {
    "duration": 11,
    "start_time": "2023-11-27T14:36:18.607Z"
   },
   {
    "duration": 13,
    "start_time": "2023-11-27T14:36:18.642Z"
   },
   {
    "duration": 168,
    "start_time": "2023-11-27T14:36:18.656Z"
   },
   {
    "duration": 117,
    "start_time": "2023-11-27T14:36:18.826Z"
   },
   {
    "duration": 10,
    "start_time": "2023-11-27T14:36:18.945Z"
   },
   {
    "duration": 9,
    "start_time": "2023-11-27T14:36:18.957Z"
   },
   {
    "duration": 6,
    "start_time": "2023-11-27T14:36:18.968Z"
   },
   {
    "duration": 10,
    "start_time": "2023-11-27T14:36:18.976Z"
   },
   {
    "duration": 288,
    "start_time": "2023-11-27T14:36:18.987Z"
   },
   {
    "duration": 184,
    "start_time": "2023-11-27T14:36:19.276Z"
   },
   {
    "duration": 8,
    "start_time": "2023-11-27T14:36:19.462Z"
   },
   {
    "duration": 165,
    "start_time": "2023-11-27T14:36:19.472Z"
   },
   {
    "duration": 15,
    "start_time": "2023-11-27T14:36:19.639Z"
   },
   {
    "duration": 18,
    "start_time": "2023-11-27T14:36:19.655Z"
   },
   {
    "duration": 24,
    "start_time": "2023-11-27T14:36:19.675Z"
   },
   {
    "duration": 209,
    "start_time": "2023-11-27T14:36:19.701Z"
   },
   {
    "duration": 23,
    "start_time": "2023-11-27T14:36:19.911Z"
   },
   {
    "duration": 159,
    "start_time": "2023-11-27T14:36:19.936Z"
   },
   {
    "duration": 7,
    "start_time": "2023-11-27T14:36:20.096Z"
   },
   {
    "duration": 168,
    "start_time": "2023-11-27T14:36:20.104Z"
   },
   {
    "duration": 5,
    "start_time": "2023-11-27T14:36:20.273Z"
   },
   {
    "duration": 151,
    "start_time": "2023-11-27T14:36:20.279Z"
   },
   {
    "duration": 14,
    "start_time": "2023-11-27T14:36:20.431Z"
   },
   {
    "duration": 28,
    "start_time": "2023-11-27T14:36:20.447Z"
   },
   {
    "duration": 78,
    "start_time": "2023-11-27T14:36:20.476Z"
   },
   {
    "duration": 108,
    "start_time": "2023-11-27T14:36:20.556Z"
   },
   {
    "duration": 78,
    "start_time": "2023-11-27T14:36:20.667Z"
   },
   {
    "duration": 0,
    "start_time": "2023-11-27T14:36:20.746Z"
   },
   {
    "duration": 0,
    "start_time": "2023-11-27T14:36:20.747Z"
   },
   {
    "duration": 0,
    "start_time": "2023-11-27T14:36:20.748Z"
   },
   {
    "duration": 0,
    "start_time": "2023-11-27T14:36:20.749Z"
   },
   {
    "duration": 0,
    "start_time": "2023-11-27T14:36:20.750Z"
   },
   {
    "duration": 0,
    "start_time": "2023-11-27T14:36:20.751Z"
   },
   {
    "duration": 0,
    "start_time": "2023-11-27T14:36:20.752Z"
   },
   {
    "duration": 0,
    "start_time": "2023-11-27T14:36:20.753Z"
   },
   {
    "duration": 0,
    "start_time": "2023-11-27T14:36:20.754Z"
   },
   {
    "duration": 0,
    "start_time": "2023-11-27T14:36:20.755Z"
   },
   {
    "duration": 4,
    "start_time": "2023-11-27T14:36:27.447Z"
   },
   {
    "duration": 5,
    "start_time": "2023-11-27T14:36:27.863Z"
   },
   {
    "duration": 45,
    "start_time": "2023-11-27T14:36:28.176Z"
   },
   {
    "duration": 41,
    "start_time": "2023-11-27T14:36:28.513Z"
   },
   {
    "duration": 14,
    "start_time": "2023-11-27T14:36:28.889Z"
   },
   {
    "duration": 48,
    "start_time": "2023-11-27T14:36:29.282Z"
   },
   {
    "duration": 14,
    "start_time": "2023-11-27T14:36:29.675Z"
   },
   {
    "duration": 53,
    "start_time": "2023-11-27T14:36:30.095Z"
   },
   {
    "duration": 23,
    "start_time": "2023-11-27T14:36:30.537Z"
   },
   {
    "duration": 87,
    "start_time": "2023-11-27T14:36:31.722Z"
   },
   {
    "duration": 14,
    "start_time": "2023-11-27T14:36:40.803Z"
   },
   {
    "duration": 74,
    "start_time": "2023-11-27T14:36:55.077Z"
   },
   {
    "duration": 5,
    "start_time": "2023-11-27T14:37:07.518Z"
   },
   {
    "duration": 5,
    "start_time": "2023-11-27T14:37:14.811Z"
   },
   {
    "duration": 9,
    "start_time": "2023-11-27T14:37:23.143Z"
   },
   {
    "duration": 3,
    "start_time": "2023-11-27T14:37:39.074Z"
   },
   {
    "duration": 30,
    "start_time": "2023-11-27T14:37:42.868Z"
   },
   {
    "duration": 10,
    "start_time": "2023-11-27T14:40:56.789Z"
   },
   {
    "duration": 1428,
    "start_time": "2023-11-27T15:06:53.125Z"
   },
   {
    "duration": 76,
    "start_time": "2023-11-27T15:08:00.795Z"
   },
   {
    "duration": 7,
    "start_time": "2023-11-27T15:09:36.046Z"
   },
   {
    "duration": 3,
    "start_time": "2023-11-27T15:09:38.307Z"
   },
   {
    "duration": 9,
    "start_time": "2023-11-27T15:10:09.421Z"
   },
   {
    "duration": 24,
    "start_time": "2023-11-27T15:10:20.639Z"
   },
   {
    "duration": 2281,
    "start_time": "2023-11-27T15:24:19.648Z"
   },
   {
    "duration": 1806,
    "start_time": "2023-11-27T15:25:05.889Z"
   },
   {
    "duration": 2075,
    "start_time": "2023-11-27T15:25:11.216Z"
   },
   {
    "duration": 8,
    "start_time": "2023-11-27T15:25:38.900Z"
   },
   {
    "duration": 7,
    "start_time": "2023-11-27T15:25:53.240Z"
   },
   {
    "duration": 30,
    "start_time": "2023-11-27T16:51:59.865Z"
   },
   {
    "duration": 14,
    "start_time": "2023-11-27T16:52:50.550Z"
   },
   {
    "duration": 23,
    "start_time": "2023-11-27T16:53:17.729Z"
   },
   {
    "duration": 221,
    "start_time": "2023-11-27T16:53:45.670Z"
   },
   {
    "duration": 157,
    "start_time": "2023-11-27T16:54:06.312Z"
   },
   {
    "duration": 346,
    "start_time": "2023-11-27T16:54:15.735Z"
   },
   {
    "duration": 311,
    "start_time": "2023-11-27T16:54:30.911Z"
   },
   {
    "duration": 304,
    "start_time": "2023-11-27T16:55:18.338Z"
   },
   {
    "duration": 315,
    "start_time": "2023-11-27T16:55:33.799Z"
   },
   {
    "duration": 318,
    "start_time": "2023-11-27T16:57:11.915Z"
   },
   {
    "duration": 321,
    "start_time": "2023-11-27T16:57:18.184Z"
   },
   {
    "duration": 317,
    "start_time": "2023-11-27T16:57:58.712Z"
   },
   {
    "duration": 362,
    "start_time": "2023-11-27T16:58:08.701Z"
   },
   {
    "duration": 336,
    "start_time": "2023-11-27T16:58:17.696Z"
   },
   {
    "duration": 422,
    "start_time": "2023-11-27T16:58:31.227Z"
   },
   {
    "duration": 328,
    "start_time": "2023-11-27T16:59:37.651Z"
   },
   {
    "duration": 354,
    "start_time": "2023-11-27T16:59:49.874Z"
   },
   {
    "duration": 372,
    "start_time": "2023-11-27T16:59:57.903Z"
   },
   {
    "duration": 352,
    "start_time": "2023-11-27T17:00:56.714Z"
   },
   {
    "duration": 179,
    "start_time": "2023-11-27T17:01:51.456Z"
   },
   {
    "duration": 367,
    "start_time": "2023-11-27T17:02:10.792Z"
   },
   {
    "duration": 341,
    "start_time": "2023-11-27T17:02:47.419Z"
   },
   {
    "duration": 351,
    "start_time": "2023-11-27T17:03:20.035Z"
   },
   {
    "duration": 4,
    "start_time": "2023-11-27T19:55:00.415Z"
   },
   {
    "duration": 263,
    "start_time": "2023-11-27T20:04:09.251Z"
   },
   {
    "duration": 242,
    "start_time": "2023-11-27T20:05:34.809Z"
   },
   {
    "duration": 363,
    "start_time": "2023-11-27T20:07:19.245Z"
   },
   {
    "duration": 238,
    "start_time": "2023-11-27T20:09:25.930Z"
   },
   {
    "duration": 419,
    "start_time": "2023-11-27T20:12:37.490Z"
   },
   {
    "duration": 283,
    "start_time": "2023-11-27T20:16:35.517Z"
   },
   {
    "duration": 241,
    "start_time": "2023-11-27T20:17:46.226Z"
   },
   {
    "duration": 254,
    "start_time": "2023-11-27T20:18:21.810Z"
   },
   {
    "duration": 370,
    "start_time": "2023-11-27T20:18:38.253Z"
   },
   {
    "duration": 6,
    "start_time": "2023-11-27T20:19:29.429Z"
   },
   {
    "duration": 136,
    "start_time": "2023-11-27T20:20:09.857Z"
   },
   {
    "duration": 166,
    "start_time": "2023-11-27T20:22:41.761Z"
   },
   {
    "duration": 1364,
    "start_time": "2023-11-28T17:54:40.172Z"
   },
   {
    "duration": 68,
    "start_time": "2023-11-28T17:54:41.538Z"
   },
   {
    "duration": 57,
    "start_time": "2023-11-28T17:54:41.608Z"
   },
   {
    "duration": 85,
    "start_time": "2023-11-28T17:54:41.667Z"
   },
   {
    "duration": 3,
    "start_time": "2023-11-28T17:54:41.754Z"
   },
   {
    "duration": 18,
    "start_time": "2023-11-28T17:54:41.759Z"
   },
   {
    "duration": 425,
    "start_time": "2023-11-28T17:54:41.779Z"
   },
   {
    "duration": 9,
    "start_time": "2023-11-28T17:54:42.205Z"
   },
   {
    "duration": 403,
    "start_time": "2023-11-28T17:54:42.216Z"
   },
   {
    "duration": 6,
    "start_time": "2023-11-28T17:54:42.622Z"
   },
   {
    "duration": 7,
    "start_time": "2023-11-28T17:54:42.629Z"
   },
   {
    "duration": 31,
    "start_time": "2023-11-28T17:54:42.637Z"
   },
   {
    "duration": 23,
    "start_time": "2023-11-28T17:54:42.670Z"
   },
   {
    "duration": 6,
    "start_time": "2023-11-28T17:54:42.695Z"
   },
   {
    "duration": 9,
    "start_time": "2023-11-28T17:54:42.703Z"
   },
   {
    "duration": 13,
    "start_time": "2023-11-28T17:54:42.713Z"
   },
   {
    "duration": 6,
    "start_time": "2023-11-28T17:54:42.728Z"
   },
   {
    "duration": 14,
    "start_time": "2023-11-28T17:54:42.735Z"
   },
   {
    "duration": 31,
    "start_time": "2023-11-28T17:54:42.751Z"
   },
   {
    "duration": 204,
    "start_time": "2023-11-28T17:54:42.784Z"
   },
   {
    "duration": 125,
    "start_time": "2023-11-28T17:54:42.990Z"
   },
   {
    "duration": 11,
    "start_time": "2023-11-28T17:54:43.117Z"
   },
   {
    "duration": 10,
    "start_time": "2023-11-28T17:54:43.130Z"
   },
   {
    "duration": 31,
    "start_time": "2023-11-28T17:54:43.142Z"
   },
   {
    "duration": 15,
    "start_time": "2023-11-28T17:54:43.175Z"
   },
   {
    "duration": 364,
    "start_time": "2023-11-28T17:54:43.192Z"
   },
   {
    "duration": 306,
    "start_time": "2023-11-28T17:54:43.558Z"
   },
   {
    "duration": 11,
    "start_time": "2023-11-28T17:54:43.870Z"
   },
   {
    "duration": 434,
    "start_time": "2023-11-28T17:54:43.884Z"
   },
   {
    "duration": 13,
    "start_time": "2023-11-28T17:54:44.319Z"
   },
   {
    "duration": 32,
    "start_time": "2023-11-28T17:54:44.334Z"
   },
   {
    "duration": 5,
    "start_time": "2023-11-28T17:54:44.368Z"
   },
   {
    "duration": 307,
    "start_time": "2023-11-28T17:54:44.375Z"
   },
   {
    "duration": 22,
    "start_time": "2023-11-28T17:54:44.684Z"
   },
   {
    "duration": 396,
    "start_time": "2023-11-28T17:54:44.707Z"
   },
   {
    "duration": 6,
    "start_time": "2023-11-28T17:54:45.105Z"
   },
   {
    "duration": 167,
    "start_time": "2023-11-28T17:54:45.113Z"
   },
   {
    "duration": 4,
    "start_time": "2023-11-28T17:54:45.282Z"
   },
   {
    "duration": 245,
    "start_time": "2023-11-28T17:54:45.288Z"
   },
   {
    "duration": 4,
    "start_time": "2023-11-28T17:54:45.534Z"
   },
   {
    "duration": 25,
    "start_time": "2023-11-28T17:54:45.540Z"
   },
   {
    "duration": 82,
    "start_time": "2023-11-28T17:54:45.567Z"
   },
   {
    "duration": 126,
    "start_time": "2023-11-28T17:54:45.651Z"
   },
   {
    "duration": 7,
    "start_time": "2023-11-28T17:54:45.782Z"
   },
   {
    "duration": 5,
    "start_time": "2023-11-28T17:54:45.791Z"
   },
   {
    "duration": 52,
    "start_time": "2023-11-28T17:54:45.798Z"
   },
   {
    "duration": 50,
    "start_time": "2023-11-28T17:54:45.851Z"
   },
   {
    "duration": 19,
    "start_time": "2023-11-28T17:54:45.902Z"
   },
   {
    "duration": 61,
    "start_time": "2023-11-28T17:54:45.923Z"
   },
   {
    "duration": 15,
    "start_time": "2023-11-28T17:54:45.986Z"
   },
   {
    "duration": 46,
    "start_time": "2023-11-28T17:54:46.002Z"
   },
   {
    "duration": 37,
    "start_time": "2023-11-28T17:54:46.050Z"
   },
   {
    "duration": 92,
    "start_time": "2023-11-28T17:54:46.089Z"
   },
   {
    "duration": 108,
    "start_time": "2023-11-28T17:54:46.183Z"
   },
   {
    "duration": 5,
    "start_time": "2023-11-28T17:54:46.292Z"
   },
   {
    "duration": 6,
    "start_time": "2023-11-28T17:54:46.298Z"
   },
   {
    "duration": 34,
    "start_time": "2023-11-28T17:54:46.305Z"
   },
   {
    "duration": 11,
    "start_time": "2023-11-28T17:54:46.340Z"
   },
   {
    "duration": 18,
    "start_time": "2023-11-28T17:54:46.352Z"
   },
   {
    "duration": 5,
    "start_time": "2023-11-28T17:54:46.375Z"
   },
   {
    "duration": 10,
    "start_time": "2023-11-28T17:54:46.382Z"
   },
   {
    "duration": 27,
    "start_time": "2023-11-28T17:54:46.393Z"
   },
   {
    "duration": 11,
    "start_time": "2023-11-28T17:54:46.421Z"
   },
   {
    "duration": 15,
    "start_time": "2023-11-28T17:54:46.464Z"
   },
   {
    "duration": 4,
    "start_time": "2023-11-28T19:17:45.603Z"
   },
   {
    "duration": 38,
    "start_time": "2023-11-28T19:17:45.608Z"
   },
   {
    "duration": 20,
    "start_time": "2023-11-28T19:17:45.648Z"
   },
   {
    "duration": 42,
    "start_time": "2023-11-28T19:17:45.669Z"
   },
   {
    "duration": 3,
    "start_time": "2023-11-28T19:17:45.713Z"
   },
   {
    "duration": 9,
    "start_time": "2023-11-28T19:17:45.718Z"
   },
   {
    "duration": 406,
    "start_time": "2023-11-28T19:17:45.729Z"
   },
   {
    "duration": 9,
    "start_time": "2023-11-28T19:17:46.136Z"
   },
   {
    "duration": 365,
    "start_time": "2023-11-28T19:17:46.146Z"
   },
   {
    "duration": 5,
    "start_time": "2023-11-28T19:17:46.513Z"
   },
   {
    "duration": 7,
    "start_time": "2023-11-28T19:17:46.521Z"
   },
   {
    "duration": 10,
    "start_time": "2023-11-28T19:17:46.529Z"
   },
   {
    "duration": 38,
    "start_time": "2023-11-28T19:17:46.540Z"
   },
   {
    "duration": 13,
    "start_time": "2023-11-28T19:17:46.580Z"
   },
   {
    "duration": 8,
    "start_time": "2023-11-28T19:17:46.594Z"
   },
   {
    "duration": 10,
    "start_time": "2023-11-28T19:17:46.604Z"
   },
   {
    "duration": 4,
    "start_time": "2023-11-28T19:17:46.616Z"
   },
   {
    "duration": 14,
    "start_time": "2023-11-28T19:17:46.622Z"
   },
   {
    "duration": 27,
    "start_time": "2023-11-28T19:17:46.638Z"
   },
   {
    "duration": 158,
    "start_time": "2023-11-28T19:17:46.667Z"
   },
   {
    "duration": 114,
    "start_time": "2023-11-28T19:17:46.826Z"
   },
   {
    "duration": 10,
    "start_time": "2023-11-28T19:17:46.941Z"
   },
   {
    "duration": 22,
    "start_time": "2023-11-28T19:17:46.953Z"
   },
   {
    "duration": 7,
    "start_time": "2023-11-28T19:17:46.976Z"
   },
   {
    "duration": 8,
    "start_time": "2023-11-28T19:17:46.984Z"
   },
   {
    "duration": 287,
    "start_time": "2023-11-28T19:17:46.993Z"
   },
   {
    "duration": 288,
    "start_time": "2023-11-28T19:17:47.281Z"
   },
   {
    "duration": 5,
    "start_time": "2023-11-28T19:17:47.571Z"
   },
   {
    "duration": 385,
    "start_time": "2023-11-28T19:17:47.580Z"
   },
   {
    "duration": 12,
    "start_time": "2023-11-28T19:17:47.967Z"
   },
   {
    "duration": 13,
    "start_time": "2023-11-28T19:17:47.981Z"
   },
   {
    "duration": 5,
    "start_time": "2023-11-28T19:17:47.996Z"
   },
   {
    "duration": 323,
    "start_time": "2023-11-28T19:17:48.003Z"
   },
   {
    "duration": 21,
    "start_time": "2023-11-28T19:17:48.327Z"
   },
   {
    "duration": 393,
    "start_time": "2023-11-28T19:17:48.349Z"
   },
   {
    "duration": 6,
    "start_time": "2023-11-28T19:17:48.744Z"
   },
   {
    "duration": 179,
    "start_time": "2023-11-28T19:17:48.751Z"
   },
   {
    "duration": 7,
    "start_time": "2023-11-28T19:17:48.932Z"
   },
   {
    "duration": 188,
    "start_time": "2023-11-28T19:17:48.940Z"
   },
   {
    "duration": 5,
    "start_time": "2023-11-28T19:17:49.129Z"
   },
   {
    "duration": 11,
    "start_time": "2023-11-28T19:17:49.135Z"
   },
   {
    "duration": 83,
    "start_time": "2023-11-28T19:17:49.148Z"
   },
   {
    "duration": 91,
    "start_time": "2023-11-28T19:17:49.232Z"
   },
   {
    "duration": 5,
    "start_time": "2023-11-28T19:17:49.324Z"
   },
   {
    "duration": 6,
    "start_time": "2023-11-28T19:17:49.331Z"
   },
   {
    "duration": 55,
    "start_time": "2023-11-28T19:17:49.339Z"
   },
   {
    "duration": 41,
    "start_time": "2023-11-28T19:17:49.396Z"
   },
   {
    "duration": 14,
    "start_time": "2023-11-28T19:17:49.439Z"
   },
   {
    "duration": 46,
    "start_time": "2023-11-28T19:17:49.465Z"
   },
   {
    "duration": 14,
    "start_time": "2023-11-28T19:17:49.512Z"
   },
   {
    "duration": 65,
    "start_time": "2023-11-28T19:17:49.528Z"
   },
   {
    "duration": 26,
    "start_time": "2023-11-28T19:17:49.594Z"
   },
   {
    "duration": 86,
    "start_time": "2023-11-28T19:17:49.622Z"
   },
   {
    "duration": 91,
    "start_time": "2023-11-28T19:17:49.710Z"
   },
   {
    "duration": 4,
    "start_time": "2023-11-28T19:17:49.803Z"
   },
   {
    "duration": 10,
    "start_time": "2023-11-28T19:17:49.808Z"
   },
   {
    "duration": 27,
    "start_time": "2023-11-28T19:17:49.820Z"
   },
   {
    "duration": 24,
    "start_time": "2023-11-28T19:17:49.849Z"
   },
   {
    "duration": 6,
    "start_time": "2023-11-28T19:17:49.875Z"
   },
   {
    "duration": 5,
    "start_time": "2023-11-28T19:17:49.882Z"
   },
   {
    "duration": 8,
    "start_time": "2023-11-28T19:17:49.888Z"
   },
   {
    "duration": 25,
    "start_time": "2023-11-28T19:17:49.898Z"
   },
   {
    "duration": 43,
    "start_time": "2023-11-28T19:17:49.925Z"
   },
   {
    "duration": 9,
    "start_time": "2023-11-28T19:17:49.970Z"
   },
   {
    "duration": 1359,
    "start_time": "2023-11-30T11:38:41.929Z"
   },
   {
    "duration": 3,
    "start_time": "2023-11-30T11:39:03.881Z"
   },
   {
    "duration": 71,
    "start_time": "2023-11-30T11:39:05.233Z"
   },
   {
    "duration": 67,
    "start_time": "2023-11-30T11:39:15.763Z"
   },
   {
    "duration": 83,
    "start_time": "2023-11-30T11:39:16.134Z"
   },
   {
    "duration": 3,
    "start_time": "2023-11-30T11:39:17.515Z"
   },
   {
    "duration": 9,
    "start_time": "2023-11-30T11:39:18.167Z"
   },
   {
    "duration": 10,
    "start_time": "2023-11-30T11:41:05.494Z"
   },
   {
    "duration": 13,
    "start_time": "2023-11-30T11:46:42.083Z"
   },
   {
    "duration": 3,
    "start_time": "2023-11-30T11:47:24.254Z"
   },
   {
    "duration": 13,
    "start_time": "2023-11-30T11:47:24.259Z"
   },
   {
    "duration": 45,
    "start_time": "2023-11-30T11:47:24.274Z"
   },
   {
    "duration": 19,
    "start_time": "2023-11-30T11:47:24.321Z"
   },
   {
    "duration": 41,
    "start_time": "2023-11-30T11:47:24.342Z"
   },
   {
    "duration": 3,
    "start_time": "2023-11-30T11:47:24.385Z"
   },
   {
    "duration": 17,
    "start_time": "2023-11-30T11:47:24.390Z"
   },
   {
    "duration": 431,
    "start_time": "2023-11-30T11:47:24.409Z"
   },
   {
    "duration": 14,
    "start_time": "2023-11-30T11:47:24.843Z"
   },
   {
    "duration": 341,
    "start_time": "2023-11-30T11:47:24.858Z"
   },
   {
    "duration": 6,
    "start_time": "2023-11-30T11:47:25.203Z"
   },
   {
    "duration": 13,
    "start_time": "2023-11-30T11:47:25.211Z"
   },
   {
    "duration": 39,
    "start_time": "2023-11-30T11:47:25.226Z"
   },
   {
    "duration": 24,
    "start_time": "2023-11-30T11:47:25.267Z"
   },
   {
    "duration": 21,
    "start_time": "2023-11-30T11:47:25.292Z"
   },
   {
    "duration": 17,
    "start_time": "2023-11-30T11:47:25.314Z"
   },
   {
    "duration": 27,
    "start_time": "2023-11-30T11:47:25.333Z"
   },
   {
    "duration": 19,
    "start_time": "2023-11-30T11:47:25.362Z"
   },
   {
    "duration": 23,
    "start_time": "2023-11-30T11:47:25.382Z"
   },
   {
    "duration": 36,
    "start_time": "2023-11-30T11:47:25.406Z"
   },
   {
    "duration": 167,
    "start_time": "2023-11-30T11:47:25.444Z"
   },
   {
    "duration": 106,
    "start_time": "2023-11-30T11:47:25.613Z"
   },
   {
    "duration": 12,
    "start_time": "2023-11-30T11:47:25.720Z"
   },
   {
    "duration": 16,
    "start_time": "2023-11-30T11:47:25.733Z"
   },
   {
    "duration": 18,
    "start_time": "2023-11-30T11:47:25.751Z"
   },
   {
    "duration": 53,
    "start_time": "2023-11-30T11:47:25.771Z"
   },
   {
    "duration": 346,
    "start_time": "2023-11-30T11:47:25.826Z"
   },
   {
    "duration": 259,
    "start_time": "2023-11-30T11:47:26.174Z"
   },
   {
    "duration": 6,
    "start_time": "2023-11-30T11:47:26.436Z"
   },
   {
    "duration": 450,
    "start_time": "2023-11-30T11:47:26.443Z"
   },
   {
    "duration": 12,
    "start_time": "2023-11-30T11:47:26.895Z"
   },
   {
    "duration": 19,
    "start_time": "2023-11-30T11:47:26.908Z"
   },
   {
    "duration": 13,
    "start_time": "2023-11-30T11:47:26.928Z"
   },
   {
    "duration": 285,
    "start_time": "2023-11-30T11:47:26.943Z"
   },
   {
    "duration": 20,
    "start_time": "2023-11-30T11:47:27.230Z"
   },
   {
    "duration": 409,
    "start_time": "2023-11-30T11:47:27.251Z"
   },
   {
    "duration": 6,
    "start_time": "2023-11-30T11:47:27.662Z"
   },
   {
    "duration": 168,
    "start_time": "2023-11-30T11:47:27.670Z"
   },
   {
    "duration": 5,
    "start_time": "2023-11-30T11:47:27.839Z"
   },
   {
    "duration": 240,
    "start_time": "2023-11-30T11:47:27.845Z"
   },
   {
    "duration": 4,
    "start_time": "2023-11-30T11:47:28.087Z"
   },
   {
    "duration": 13,
    "start_time": "2023-11-30T11:47:28.092Z"
   },
   {
    "duration": 91,
    "start_time": "2023-11-30T11:47:28.107Z"
   },
   {
    "duration": 87,
    "start_time": "2023-11-30T11:47:28.200Z"
   },
   {
    "duration": 5,
    "start_time": "2023-11-30T11:47:28.289Z"
   },
   {
    "duration": 5,
    "start_time": "2023-11-30T11:47:28.295Z"
   },
   {
    "duration": 40,
    "start_time": "2023-11-30T11:47:28.301Z"
   },
   {
    "duration": 61,
    "start_time": "2023-11-30T11:47:28.342Z"
   },
   {
    "duration": 21,
    "start_time": "2023-11-30T11:47:28.405Z"
   },
   {
    "duration": 56,
    "start_time": "2023-11-30T11:47:28.427Z"
   },
   {
    "duration": 22,
    "start_time": "2023-11-30T11:47:28.484Z"
   },
   {
    "duration": 46,
    "start_time": "2023-11-30T11:47:28.508Z"
   },
   {
    "duration": 28,
    "start_time": "2023-11-30T11:47:28.555Z"
   },
   {
    "duration": 67,
    "start_time": "2023-11-30T11:47:28.584Z"
   },
   {
    "duration": 86,
    "start_time": "2023-11-30T11:47:28.653Z"
   },
   {
    "duration": 4,
    "start_time": "2023-11-30T11:47:28.740Z"
   },
   {
    "duration": 5,
    "start_time": "2023-11-30T11:47:28.746Z"
   },
   {
    "duration": 36,
    "start_time": "2023-11-30T11:47:28.753Z"
   },
   {
    "duration": 10,
    "start_time": "2023-11-30T11:47:28.791Z"
   },
   {
    "duration": 7,
    "start_time": "2023-11-30T11:47:28.803Z"
   },
   {
    "duration": 4,
    "start_time": "2023-11-30T11:47:28.812Z"
   },
   {
    "duration": 8,
    "start_time": "2023-11-30T11:47:28.818Z"
   },
   {
    "duration": 58,
    "start_time": "2023-11-30T11:47:28.828Z"
   },
   {
    "duration": 9,
    "start_time": "2023-11-30T11:47:28.888Z"
   },
   {
    "duration": 25,
    "start_time": "2023-11-30T11:47:28.898Z"
   },
   {
    "duration": 1317,
    "start_time": "2023-11-30T17:29:49.600Z"
   },
   {
    "duration": 3,
    "start_time": "2023-11-30T17:29:50.919Z"
   },
   {
    "duration": 99,
    "start_time": "2023-11-30T17:29:50.923Z"
   },
   {
    "duration": 56,
    "start_time": "2023-11-30T17:29:51.023Z"
   },
   {
    "duration": 91,
    "start_time": "2023-11-30T17:29:51.081Z"
   },
   {
    "duration": 4,
    "start_time": "2023-11-30T17:29:51.174Z"
   },
   {
    "duration": 16,
    "start_time": "2023-11-30T17:29:51.179Z"
   },
   {
    "duration": 389,
    "start_time": "2023-11-30T17:29:51.197Z"
   },
   {
    "duration": 13,
    "start_time": "2023-11-30T17:29:51.587Z"
   },
   {
    "duration": 337,
    "start_time": "2023-11-30T17:29:51.601Z"
   },
   {
    "duration": 14,
    "start_time": "2023-11-30T17:29:51.940Z"
   },
   {
    "duration": 27,
    "start_time": "2023-11-30T17:29:51.956Z"
   },
   {
    "duration": 20,
    "start_time": "2023-11-30T17:29:51.985Z"
   },
   {
    "duration": 26,
    "start_time": "2023-11-30T17:29:52.008Z"
   },
   {
    "duration": 17,
    "start_time": "2023-11-30T17:29:52.036Z"
   },
   {
    "duration": 29,
    "start_time": "2023-11-30T17:29:52.054Z"
   },
   {
    "duration": 15,
    "start_time": "2023-11-30T17:29:52.084Z"
   },
   {
    "duration": 14,
    "start_time": "2023-11-30T17:29:52.101Z"
   },
   {
    "duration": 15,
    "start_time": "2023-11-30T17:29:52.116Z"
   },
   {
    "duration": 25,
    "start_time": "2023-11-30T17:29:52.132Z"
   },
   {
    "duration": 152,
    "start_time": "2023-11-30T17:29:52.159Z"
   },
   {
    "duration": 131,
    "start_time": "2023-11-30T17:29:52.312Z"
   },
   {
    "duration": 12,
    "start_time": "2023-11-30T17:29:52.444Z"
   },
   {
    "duration": 22,
    "start_time": "2023-11-30T17:29:52.458Z"
   },
   {
    "duration": 17,
    "start_time": "2023-11-30T17:29:52.481Z"
   },
   {
    "duration": 8,
    "start_time": "2023-11-30T17:29:52.499Z"
   },
   {
    "duration": 321,
    "start_time": "2023-11-30T17:29:52.508Z"
   },
   {
    "duration": 277,
    "start_time": "2023-11-30T17:29:52.831Z"
   },
   {
    "duration": 7,
    "start_time": "2023-11-30T17:29:53.110Z"
   },
   {
    "duration": 446,
    "start_time": "2023-11-30T17:29:53.118Z"
   },
   {
    "duration": 11,
    "start_time": "2023-11-30T17:29:53.565Z"
   },
   {
    "duration": 21,
    "start_time": "2023-11-30T17:29:53.577Z"
   },
   {
    "duration": 17,
    "start_time": "2023-11-30T17:29:53.600Z"
   },
   {
    "duration": 261,
    "start_time": "2023-11-30T17:29:53.619Z"
   },
   {
    "duration": 19,
    "start_time": "2023-11-30T17:29:53.882Z"
   },
   {
    "duration": 441,
    "start_time": "2023-11-30T17:29:53.903Z"
   },
   {
    "duration": 9,
    "start_time": "2023-11-30T17:29:54.346Z"
   },
   {
    "duration": 158,
    "start_time": "2023-11-30T17:29:54.356Z"
   },
   {
    "duration": 4,
    "start_time": "2023-11-30T17:29:54.515Z"
   },
   {
    "duration": 199,
    "start_time": "2023-11-30T17:29:54.521Z"
   },
   {
    "duration": 3,
    "start_time": "2023-11-30T17:29:54.724Z"
   },
   {
    "duration": 15,
    "start_time": "2023-11-30T17:29:54.729Z"
   },
   {
    "duration": 79,
    "start_time": "2023-11-30T17:29:54.745Z"
   },
   {
    "duration": 88,
    "start_time": "2023-11-30T17:29:54.826Z"
   },
   {
    "duration": 4,
    "start_time": "2023-11-30T17:29:54.915Z"
   },
   {
    "duration": 11,
    "start_time": "2023-11-30T17:29:54.920Z"
   },
   {
    "duration": 52,
    "start_time": "2023-11-30T17:29:54.932Z"
   },
   {
    "duration": 44,
    "start_time": "2023-11-30T17:29:54.985Z"
   },
   {
    "duration": 36,
    "start_time": "2023-11-30T17:29:55.030Z"
   },
   {
    "duration": 57,
    "start_time": "2023-11-30T17:29:55.068Z"
   },
   {
    "duration": 22,
    "start_time": "2023-11-30T17:29:55.127Z"
   },
   {
    "duration": 49,
    "start_time": "2023-11-30T17:29:55.152Z"
   },
   {
    "duration": 95,
    "start_time": "2023-11-30T17:29:59.153Z"
   },
   {
    "duration": 27,
    "start_time": "2023-11-30T17:30:13.180Z"
   }
  ],
  "kernelspec": {
   "display_name": "Python 3 (ipykernel)",
   "language": "python",
   "name": "python3"
  },
  "language_info": {
   "codemirror_mode": {
    "name": "ipython",
    "version": 3
   },
   "file_extension": ".py",
   "mimetype": "text/x-python",
   "name": "python",
   "nbconvert_exporter": "python",
   "pygments_lexer": "ipython3",
   "version": "3.11.3"
  },
  "toc": {
   "base_numbering": 1,
   "nav_menu": {},
   "number_sections": true,
   "sideBar": true,
   "skip_h1_title": true,
   "title_cell": "Table of Contents",
   "title_sidebar": "Contents",
   "toc_cell": false,
   "toc_position": {},
   "toc_section_display": true,
   "toc_window_display": false
  }
 },
 "nbformat": 4,
 "nbformat_minor": 2
}
