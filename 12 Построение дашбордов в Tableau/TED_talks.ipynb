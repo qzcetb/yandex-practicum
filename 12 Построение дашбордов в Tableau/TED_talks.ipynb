{
 "cells": [
  {
   "cell_type": "code",
   "execution_count": 4,
   "id": "3cdcd528",
   "metadata": {},
   "outputs": [],
   "source": [
    "# ссылка на дашборды https://public.tableau.com/shared/Q5WSXGJ5X?:display_count=n&:origin=viz_share_link"
   ]
  },
  {
   "cell_type": "code",
   "execution_count": 1,
   "id": "b5c35869",
   "metadata": {},
   "outputs": [],
   "source": [
    "import webbrowser"
   ]
  },
  {
   "cell_type": "code",
   "execution_count": 6,
   "id": "e733a8c1",
   "metadata": {},
   "outputs": [
    {
     "data": {
      "text/plain": [
       "False"
      ]
     },
     "execution_count": 6,
     "metadata": {},
     "output_type": "execute_result"
    }
   ],
   "source": [
    "# новая версия\n",
    "webbrowser.open(\"https://public.tableau.com/shared/Q5WSXGJ5X?:display_count=n&:origin=viz_share_link\")"
   ]
  }
 ],
 "metadata": {
  "ExecuteTimeLog": [
   {
    "duration": 30,
    "start_time": "2024-01-19T15:38:32.633Z"
   },
   {
    "duration": 3,
    "start_time": "2024-01-19T15:38:36.035Z"
   },
   {
    "duration": 4,
    "start_time": "2024-01-19T15:38:36.529Z"
   },
   {
    "duration": 3,
    "start_time": "2024-01-19T15:40:26.802Z"
   },
   {
    "duration": 3,
    "start_time": "2024-01-19T15:40:29.669Z"
   },
   {
    "duration": 3,
    "start_time": "2024-01-19T15:40:30.367Z"
   },
   {
    "duration": 93,
    "start_time": "2024-01-19T18:33:19.243Z"
   }
  ],
  "kernelspec": {
   "display_name": "Python 3 (ipykernel)",
   "language": "python",
   "name": "python3"
  },
  "language_info": {
   "codemirror_mode": {
    "name": "ipython",
    "version": 3
   },
   "file_extension": ".py",
   "mimetype": "text/x-python",
   "name": "python",
   "nbconvert_exporter": "python",
   "pygments_lexer": "ipython3",
   "version": "3.11.3"
  },
  "toc": {
   "base_numbering": 1,
   "nav_menu": {},
   "number_sections": true,
   "sideBar": true,
   "skip_h1_title": true,
   "title_cell": "Table of Contents",
   "title_sidebar": "Contents",
   "toc_cell": false,
   "toc_position": {},
   "toc_section_display": true,
   "toc_window_display": false
  }
 },
 "nbformat": 4,
 "nbformat_minor": 5
}
